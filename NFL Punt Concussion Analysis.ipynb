{
 "cells": [
  {
   "cell_type": "markdown",
   "metadata": {
    "toc": true
   },
   "source": [
    "<h1>Table of Contents<span class=\"tocSkip\"></span></h1>\n",
    "<div class=\"toc\"><ul class=\"toc-item\"><li><span><a href=\"#Importing-libraries-and-reading-necessary-files-:\" data-toc-modified-id=\"Importing-libraries-and-reading-necessary-files-:-1\"><span class=\"toc-item-num\">1&nbsp;&nbsp;</span>Importing libraries and reading necessary files :</a></span></li><li><span><a href=\"#Importing-datasets\" data-toc-modified-id=\"Importing-datasets-2\"><span class=\"toc-item-num\">2&nbsp;&nbsp;</span>Importing datasets</a></span></li><li><span><a href=\"#EDA-of-video_review\" data-toc-modified-id=\"EDA-of-video_review-3\"><span class=\"toc-item-num\">3&nbsp;&nbsp;</span>EDA of video_review</a></span><ul class=\"toc-item\"><li><span><a href=\"#Frequency-distribution-of-Player-Activity-types\" data-toc-modified-id=\"Frequency-distribution-of-Player-Activity-types-3.1\"><span class=\"toc-item-num\">3.1&nbsp;&nbsp;</span>Frequency distribution of Player Activity types</a></span></li><li><span><a href=\"#Adding-Other-and-Unclear-Activity-types\" data-toc-modified-id=\"Adding-Other-and-Unclear-Activity-types-3.2\"><span class=\"toc-item-num\">3.2&nbsp;&nbsp;</span>Adding Other and Unclear Activity types</a></span></li><li><span><a href=\"#Frequency-distribution-of-Impact-types\" data-toc-modified-id=\"Frequency-distribution-of-Impact-types-3.3\"><span class=\"toc-item-num\">3.3&nbsp;&nbsp;</span>Frequency distribution of Impact types</a></span></li><li><span><a href=\"#Distribution-of-Impact-type-against-Player-Activity\" data-toc-modified-id=\"Distribution-of-Impact-type-against-Player-Activity-3.4\"><span class=\"toc-item-num\">3.4&nbsp;&nbsp;</span>Distribution of Impact type against Player Activity</a></span></li></ul></li><li><span><a href=\"#EDA-of-Game-Data\" data-toc-modified-id=\"EDA-of-Game-Data-4\"><span class=\"toc-item-num\">4&nbsp;&nbsp;</span>EDA of Game Data</a></span></li><li><span><a href=\"#EDA-on-relation-of-variables-on-concussion-rate\" data-toc-modified-id=\"EDA-on-relation-of-variables-on-concussion-rate-5\"><span class=\"toc-item-num\">5&nbsp;&nbsp;</span>EDA on relation of variables on concussion rate</a></span><ul class=\"toc-item\"><li><span><a href=\"#Merging-Game-data-with-Video-review-data\" data-toc-modified-id=\"Merging-Game-data-with-Video-review-data-5.1\"><span class=\"toc-item-num\">5.1&nbsp;&nbsp;</span>Merging Game data with Video review data</a></span></li><li><span><a href=\"#Daily-concussion-rates\" data-toc-modified-id=\"Daily-concussion-rates-5.2\"><span class=\"toc-item-num\">5.2&nbsp;&nbsp;</span>Daily concussion rates</a></span></li><li><span><a href=\"#Concussion-rates-by-stadium-type\" data-toc-modified-id=\"Concussion-rates-by-stadium-type-5.3\"><span class=\"toc-item-num\">5.3&nbsp;&nbsp;</span>Concussion rates by stadium type</a></span></li><li><span><a href=\"#Concussion-rates-by-Temperature\" data-toc-modified-id=\"Concussion-rates-by-Temperature-5.4\"><span class=\"toc-item-num\">5.4&nbsp;&nbsp;</span>Concussion rates by Temperature</a></span></li></ul></li><li><span><a href=\"#Let's-explore-general-formation-of-the-team\" data-toc-modified-id=\"Let's-explore-general-formation-of-the-team-6\"><span class=\"toc-item-num\">6&nbsp;&nbsp;</span>Let's explore general formation of the team</a></span></li><li><span><a href=\"#Next-Steps:\" data-toc-modified-id=\"Next-Steps:-7\"><span class=\"toc-item-num\">7&nbsp;&nbsp;</span>Next Steps:</a></span></li></ul></div>"
   ]
  },
  {
   "cell_type": "markdown",
   "metadata": {},
   "source": [
    "## Importing libraries and reading necessary files :"
   ]
  },
  {
   "cell_type": "code",
   "execution_count": 1,
   "metadata": {
    "scrolled": false
   },
   "outputs": [
    {
     "name": "stderr",
     "output_type": "stream",
     "text": [
      "Warning message:\n",
      "\"package 'dplyr' was built under R version 3.5.2\"\n",
      "Attaching package: 'dplyr'\n",
      "\n",
      "The following objects are masked from 'package:stats':\n",
      "\n",
      "    filter, lag\n",
      "\n",
      "The following objects are masked from 'package:base':\n",
      "\n",
      "    intersect, setdiff, setequal, union\n",
      "\n",
      "Warning message:\n",
      "\"package 'ggplot2' was built under R version 3.5.2\"Warning message:\n",
      "\"package 'tidyr' was built under R version 3.5.2\"Warning message:\n",
      "\"package 'scales' was built under R version 3.5.2\""
     ]
    }
   ],
   "source": [
    "library(dplyr)\n",
    "library(ggplot2)\n",
    "library(tidyr)\n",
    "library(scales)\n",
    "library(repr)"
   ]
  },
  {
   "cell_type": "markdown",
   "metadata": {},
   "source": [
    "## Importing datasets"
   ]
  },
  {
   "cell_type": "code",
   "execution_count": 2,
   "metadata": {
    "scrolled": false
   },
   "outputs": [],
   "source": [
    "game_data <- read.csv('GD1.csv')\n",
    "player_role <- read.csv('play_player_role_data.csv')\n",
    "play_info <- read.csv('play_information.csv')\n",
    "play_punt <- read.csv('player_punt_data.csv')\n",
    "vid_rev <- read.csv('video_review.csv')\n",
    "vid_injury <- read.csv('video_footage-injury.csv')\n",
    "vid_control <- read.csv('video_footage-control.csv')"
   ]
  },
  {
   "cell_type": "markdown",
   "metadata": {},
   "source": [
    "## EDA of video_review "
   ]
  },
  {
   "cell_type": "code",
   "execution_count": 58,
   "metadata": {
    "scrolled": false
   },
   "outputs": [
    {
     "data": {
      "text/html": [
       "<table>\n",
       "<thead><tr><th scope=col>Season_Year</th><th scope=col>GameKey</th><th scope=col>PlayID</th><th scope=col>GSISID</th><th scope=col>Player_Activity_Derived</th><th scope=col>Turnover_Related</th><th scope=col>Primary_Impact_Type</th><th scope=col>Primary_Partner_GSISID</th><th scope=col>Primary_Partner_Activity_Derived</th><th scope=col>Friendly_Fire</th><th scope=col>X</th><th scope=col>game_play_id</th><th scope=col>game_play_gsid</th></tr></thead>\n",
       "<tbody>\n",
       "\t<tr><td>2016                   </td><td> 5                     </td><td>3129                   </td><td>29492                  </td><td>Tackling               </td><td>No                     </td><td>Helmet-to-body         </td><td>33445                  </td><td>Tackling               </td><td>Yes                    </td><td>Soldier Field          </td><td>5_3129                 </td><td>5_3129_29492           </td></tr>\n",
       "\t<tr><td>2016                   </td><td>21                     </td><td>2587                   </td><td>32323                  </td><td>Blocked                </td><td>No                     </td><td>Helmet-to-helmet       </td><td>31930                  </td><td>Blocking               </td><td>No                     </td><td>Nissan Stadium         </td><td>21_2587                </td><td>21_2587_32323          </td></tr>\n",
       "\t<tr><td>2016                   </td><td>29                     </td><td> 538                   </td><td>29343                  </td><td>Blocked                </td><td>No                     </td><td>Helmet-to-helmet       </td><td>31059                  </td><td>Blocking               </td><td>No                     </td><td>FedExField             </td><td>29_538                 </td><td>29_538_29343           </td></tr>\n",
       "\t<tr><td>2016                   </td><td>45                     </td><td>1212                   </td><td>27595                  </td><td>Tackled                </td><td>No                     </td><td>Helmet-to-helmet       </td><td>31950                  </td><td>Tackling               </td><td>No                     </td><td>MetLife                </td><td>45_1212                </td><td>45_1212_27595          </td></tr>\n",
       "\t<tr><td>2016                   </td><td>54                     </td><td>1045                   </td><td>32410                  </td><td>Blocking               </td><td>No                     </td><td>Helmet-to-body         </td><td>23259                  </td><td>Blocked                </td><td>No                     </td><td>Bank of America Stadium</td><td>54_1045                </td><td>54_1045_32410          </td></tr>\n",
       "\t<tr><td>2016                   </td><td>60                     </td><td> 905                   </td><td>32444                  </td><td>Blocked                </td><td>No                     </td><td>Helmet-to-body         </td><td>31756                  </td><td>Blocked                </td><td>Yes                    </td><td>Ford Field             </td><td>60_905                 </td><td>60_905_32444           </td></tr>\n",
       "</tbody>\n",
       "</table>\n"
      ],
      "text/latex": [
       "\\begin{tabular}{r|lllllllllllll}\n",
       " Season\\_Year & GameKey & PlayID & GSISID & Player\\_Activity\\_Derived & Turnover\\_Related & Primary\\_Impact\\_Type & Primary\\_Partner\\_GSISID & Primary\\_Partner\\_Activity\\_Derived & Friendly\\_Fire & X & game\\_play\\_id & game\\_play\\_gsid\\\\\n",
       "\\hline\n",
       "\t 2016                    &  5                      & 3129                    & 29492                   & Tackling                & No                      & Helmet-to-body          & 33445                   & Tackling                & Yes                     & Soldier Field           & 5\\_3129                & 5\\_3129\\_29492       \\\\\n",
       "\t 2016                    & 21                      & 2587                    & 32323                   & Blocked                 & No                      & Helmet-to-helmet        & 31930                   & Blocking                & No                      & Nissan Stadium          & 21\\_2587               & 21\\_2587\\_32323      \\\\\n",
       "\t 2016                    & 29                      &  538                    & 29343                   & Blocked                 & No                      & Helmet-to-helmet        & 31059                   & Blocking                & No                      & FedExField              & 29\\_538                & 29\\_538\\_29343       \\\\\n",
       "\t 2016                    & 45                      & 1212                    & 27595                   & Tackled                 & No                      & Helmet-to-helmet        & 31950                   & Tackling                & No                      & MetLife                 & 45\\_1212               & 45\\_1212\\_27595      \\\\\n",
       "\t 2016                    & 54                      & 1045                    & 32410                   & Blocking                & No                      & Helmet-to-body          & 23259                   & Blocked                 & No                      & Bank of America Stadium & 54\\_1045               & 54\\_1045\\_32410      \\\\\n",
       "\t 2016                    & 60                      &  905                    & 32444                   & Blocked                 & No                      & Helmet-to-body          & 31756                   & Blocked                 & Yes                     & Ford Field              & 60\\_905                & 60\\_905\\_32444       \\\\\n",
       "\\end{tabular}\n"
      ],
      "text/markdown": [
       "\n",
       "Season_Year | GameKey | PlayID | GSISID | Player_Activity_Derived | Turnover_Related | Primary_Impact_Type | Primary_Partner_GSISID | Primary_Partner_Activity_Derived | Friendly_Fire | X | game_play_id | game_play_gsid | \n",
       "|---|---|---|---|---|---|\n",
       "| 2016                    |  5                      | 3129                    | 29492                   | Tackling                | No                      | Helmet-to-body          | 33445                   | Tackling                | Yes                     | Soldier Field           | 5_3129                  | 5_3129_29492            | \n",
       "| 2016                    | 21                      | 2587                    | 32323                   | Blocked                 | No                      | Helmet-to-helmet        | 31930                   | Blocking                | No                      | Nissan Stadium          | 21_2587                 | 21_2587_32323           | \n",
       "| 2016                    | 29                      |  538                    | 29343                   | Blocked                 | No                      | Helmet-to-helmet        | 31059                   | Blocking                | No                      | FedExField              | 29_538                  | 29_538_29343            | \n",
       "| 2016                    | 45                      | 1212                    | 27595                   | Tackled                 | No                      | Helmet-to-helmet        | 31950                   | Tackling                | No                      | MetLife                 | 45_1212                 | 45_1212_27595           | \n",
       "| 2016                    | 54                      | 1045                    | 32410                   | Blocking                | No                      | Helmet-to-body          | 23259                   | Blocked                 | No                      | Bank of America Stadium | 54_1045                 | 54_1045_32410           | \n",
       "| 2016                    | 60                      |  905                    | 32444                   | Blocked                 | No                      | Helmet-to-body          | 31756                   | Blocked                 | Yes                     | Ford Field              | 60_905                  | 60_905_32444            | \n",
       "\n",
       "\n"
      ],
      "text/plain": [
       "  Season_Year GameKey PlayID GSISID Player_Activity_Derived Turnover_Related\n",
       "1 2016         5      3129   29492  Tackling                No              \n",
       "2 2016        21      2587   32323  Blocked                 No              \n",
       "3 2016        29       538   29343  Blocked                 No              \n",
       "4 2016        45      1212   27595  Tackled                 No              \n",
       "5 2016        54      1045   32410  Blocking                No              \n",
       "6 2016        60       905   32444  Blocked                 No              \n",
       "  Primary_Impact_Type Primary_Partner_GSISID Primary_Partner_Activity_Derived\n",
       "1 Helmet-to-body      33445                  Tackling                        \n",
       "2 Helmet-to-helmet    31930                  Blocking                        \n",
       "3 Helmet-to-helmet    31059                  Blocking                        \n",
       "4 Helmet-to-helmet    31950                  Tackling                        \n",
       "5 Helmet-to-body      23259                  Blocked                         \n",
       "6 Helmet-to-body      31756                  Blocked                         \n",
       "  Friendly_Fire X                       game_play_id game_play_gsid\n",
       "1 Yes           Soldier Field           5_3129       5_3129_29492  \n",
       "2 No            Nissan Stadium          21_2587      21_2587_32323 \n",
       "3 No            FedExField              29_538       29_538_29343  \n",
       "4 No            MetLife                 45_1212      45_1212_27595 \n",
       "5 No            Bank of America Stadium 54_1045      54_1045_32410 \n",
       "6 Yes           Ford Field              60_905       60_905_32444  "
      ]
     },
     "metadata": {},
     "output_type": "display_data"
    }
   ],
   "source": [
    "head(vid_rev)"
   ]
  },
  {
   "cell_type": "code",
   "execution_count": 59,
   "metadata": {},
   "outputs": [
    {
     "data": {
      "text/plain": [
       "  Season_Year      GameKey          PlayID         GSISID     \n",
       " Min.   :2016   Min.   :  5.0   Min.   : 183   Min.   :23564  \n",
       " 1st Qu.:2016   1st Qu.:218.0   1st Qu.:1262   1st Qu.:28987  \n",
       " Median :2016   Median :296.0   Median :2341   Median :31313  \n",
       " Mean   :2016   Mean   :323.2   Mean   :2186   Mean   :30642  \n",
       " 3rd Qu.:2017   3rd Qu.:448.0   3rd Qu.:2918   3rd Qu.:32615  \n",
       " Max.   :2017   Max.   :618.0   Max.   :3746   Max.   :33941  \n",
       "                                                              \n",
       " Player_Activity_Derived Turnover_Related       Primary_Impact_Type\n",
       " Blocked :10             No:37            Helmet-to-body  :17      \n",
       " Blocking: 8                              Helmet-to-ground: 2      \n",
       " Tackled : 6                              Helmet-to-helmet:17      \n",
       " Tackling:13                              Unclear         : 1      \n",
       "                                                                   \n",
       "                                                                   \n",
       "                                                                   \n",
       " Primary_Partner_GSISID Primary_Partner_Activity_Derived Friendly_Fire\n",
       "        : 3                     : 2                             : 2   \n",
       " 23259  : 1             Blocked :10                      No     :28   \n",
       " 24535  : 1             Blocking: 6                      Unclear: 1   \n",
       " 25503  : 1             Tackled : 8                      Yes    : 6   \n",
       " 27442  : 1             Tackling:10                                   \n",
       " 27860  : 1             Unclear : 1                                   \n",
       " (Other):29                                                           \n",
       "                 X      game_play_id       game_play_gsid    \n",
       " FedExField       : 4   Length:37          Length:37         \n",
       " Arrowhead Stadium: 3   Class :character   Class :character  \n",
       " Nissan Stadium   : 3   Mode  :character   Mode  :character  \n",
       " CenturyLink Field: 2                                        \n",
       " M&T Bank Stadium : 2                                        \n",
       " MetLife          : 2                                        \n",
       " (Other)          :21                                        "
      ]
     },
     "metadata": {},
     "output_type": "display_data"
    }
   ],
   "source": [
    "summary(vid_rev)"
   ]
  },
  {
   "cell_type": "code",
   "execution_count": 60,
   "metadata": {},
   "outputs": [
    {
     "name": "stdout",
     "output_type": "stream",
     "text": [
      "'data.frame':\t37 obs. of  13 variables:\n",
      " $ Season_Year                     : int  2016 2016 2016 2016 2016 2016 2016 2016 2016 2016 ...\n",
      " $ GameKey                         : int  5 21 29 45 54 60 144 149 189 218 ...\n",
      " $ PlayID                          : int  3129 2587 538 1212 1045 905 2342 3663 3509 3468 ...\n",
      " $ GSISID                          : int  29492 32323 29343 27595 32410 32444 30171 29793 30384 32403 ...\n",
      " $ Player_Activity_Derived         : Factor w/ 4 levels \"Blocked\",\"Blocking\",..: 4 1 1 3 2 1 4 2 1 2 ...\n",
      " $ Turnover_Related                : Factor w/ 1 level \"No\": 1 1 1 1 1 1 1 1 1 1 ...\n",
      " $ Primary_Impact_Type             : Factor w/ 4 levels \"Helmet-to-body\",..: 1 3 3 3 1 1 1 3 4 3 ...\n",
      " $ Primary_Partner_GSISID          : Factor w/ 35 levels \"\",\"23259\",\"24535\",..: 33 19 12 21 2 15 8 23 35 30 ...\n",
      " $ Primary_Partner_Activity_Derived: Factor w/ 6 levels \"\",\"Blocked\",\"Blocking\",..: 5 3 3 5 2 2 4 2 6 2 ...\n",
      " $ Friendly_Fire                   : Factor w/ 4 levels \"\",\"No\",\"Unclear\",..: 4 2 2 2 2 4 2 2 3 2 ...\n",
      " $ X                               : Factor w/ 25 levels \"Arrowhead Stadium\",..: 23 20 5 17 2 7 19 16 1 12 ...\n",
      " $ game_play_id                    : chr  \"5_3129\" \"21_2587\" \"29_538\" \"45_1212\" ...\n",
      " $ game_play_gsid                  : chr  \"5_3129_29492\" \"21_2587_32323\" \"29_538_29343\" \"45_1212_27595\" ...\n"
     ]
    }
   ],
   "source": [
    "str(vid_rev)"
   ]
  },
  {
   "cell_type": "markdown",
   "metadata": {},
   "source": [
    "### Frequency distribution of Player Activity types"
   ]
  },
  {
   "cell_type": "code",
   "execution_count": 64,
   "metadata": {
    "scrolled": false
   },
   "outputs": [
    {
     "data": {
      "text/html": [
       "<table>\n",
       "<thead><tr><th scope=col>Player_Activity_Derived</th><th scope=col>Count</th></tr></thead>\n",
       "<tbody>\n",
       "\t<tr><td>Blocked </td><td>10      </td></tr>\n",
       "\t<tr><td>Blocking</td><td> 8      </td></tr>\n",
       "\t<tr><td>Tackled </td><td> 6      </td></tr>\n",
       "\t<tr><td>Tackling</td><td>13      </td></tr>\n",
       "</tbody>\n",
       "</table>\n"
      ],
      "text/latex": [
       "\\begin{tabular}{r|ll}\n",
       " Player\\_Activity\\_Derived & Count\\\\\n",
       "\\hline\n",
       "\t Blocked  & 10      \\\\\n",
       "\t Blocking &  8      \\\\\n",
       "\t Tackled  &  6      \\\\\n",
       "\t Tackling & 13      \\\\\n",
       "\\end{tabular}\n"
      ],
      "text/markdown": [
       "\n",
       "Player_Activity_Derived | Count | \n",
       "|---|---|---|---|\n",
       "| Blocked  | 10       | \n",
       "| Blocking |  8       | \n",
       "| Tackled  |  6       | \n",
       "| Tackling | 13       | \n",
       "\n",
       "\n"
      ],
      "text/plain": [
       "  Player_Activity_Derived Count\n",
       "1 Blocked                 10   \n",
       "2 Blocking                 8   \n",
       "3 Tackled                  6   \n",
       "4 Tackling                13   "
      ]
     },
     "metadata": {},
     "output_type": "display_data"
    },
    {
     "data": {},
     "metadata": {},
     "output_type": "display_data"
    },
    {
     "data": {
      "image/png": "[encoded data removed]",
      "text/plain": [
       "plot without title"
      ]
     },
     "metadata": {},
     "output_type": "display_data"
    }
   ],
   "source": [
    "vidrev_pivot1 <- vid_rev %>% group_by(Player_Activity_Derived) %>% dplyr::summarize(Count = n())\n",
    "vidrev_pivot1 \n",
    "ggplot(data=vidrev_pivot1, aes(x=reorder(Player_Activity_Derived, -Count), y=Count)) + geom_bar(stat='identity', fill=\"#004c6d\", width=0.6 ) + labs(title = \"Player Activity in case of an injury\",x=\"Player Activity\")"
   ]
  },
  {
   "cell_type": "markdown",
   "metadata": {},
   "source": [
    "### Adding Other and Unclear Activity types\n"
   ]
  },
  {
   "cell_type": "code",
   "execution_count": 81,
   "metadata": {
    "scrolled": false
   },
   "outputs": [
    {
     "data": {
      "text/html": [
       "<table>\n",
       "<thead><tr><th scope=col>Primary_Partner_Activity_Derived</th><th scope=col>Count</th></tr></thead>\n",
       "<tbody>\n",
       "\t<tr><td>        </td><td> 2      </td></tr>\n",
       "\t<tr><td>Blocked </td><td>10      </td></tr>\n",
       "\t<tr><td>Blocking</td><td> 6      </td></tr>\n",
       "\t<tr><td>Tackled </td><td> 8      </td></tr>\n",
       "\t<tr><td>Tackling</td><td>10      </td></tr>\n",
       "\t<tr><td>Unclear </td><td> 1      </td></tr>\n",
       "</tbody>\n",
       "</table>\n"
      ],
      "text/latex": [
       "\\begin{tabular}{r|ll}\n",
       " Primary\\_Partner\\_Activity\\_Derived & Count\\\\\n",
       "\\hline\n",
       "\t          &  2      \\\\\n",
       "\t Blocked  & 10      \\\\\n",
       "\t Blocking &  6      \\\\\n",
       "\t Tackled  &  8      \\\\\n",
       "\t Tackling & 10      \\\\\n",
       "\t Unclear  &  1      \\\\\n",
       "\\end{tabular}\n"
      ],
      "text/markdown": [
       "\n",
       "Primary_Partner_Activity_Derived | Count | \n",
       "|---|---|---|---|---|---|\n",
       "|          |  2       | \n",
       "| Blocked  | 10       | \n",
       "| Blocking |  6       | \n",
       "| Tackled  |  8       | \n",
       "| Tackling | 10       | \n",
       "| Unclear  |  1       | \n",
       "\n",
       "\n"
      ],
      "text/plain": [
       "  Primary_Partner_Activity_Derived Count\n",
       "1                                   2   \n",
       "2 Blocked                          10   \n",
       "3 Blocking                          6   \n",
       "4 Tackled                           8   \n",
       "5 Tackling                         10   \n",
       "6 Unclear                           1   "
      ]
     },
     "metadata": {},
     "output_type": "display_data"
    }
   ],
   "source": [
    "vidrevpart_pivot <- vid_rev %>% group_by(Primary_Partner_Activity_Derived) %>% summarize(Count = n())\n",
    "vidrevpart_pivot "
   ]
  },
  {
   "cell_type": "code",
   "execution_count": 82,
   "metadata": {},
   "outputs": [],
   "source": [
    "vidrevpart_pivot$Primary_Partner_Activity_Derived <- as.character(vidrevpart_pivot$Primary_Partner_Activity_Derived)"
   ]
  },
  {
   "cell_type": "code",
   "execution_count": 83,
   "metadata": {},
   "outputs": [],
   "source": [
    "vidrevpart_pivot[vidrevpart_pivot$Primary_Partner_Activity_Derived == \"\",\"Primary_Partner_Activity_Derived\"] <- \"Other\""
   ]
  },
  {
   "cell_type": "code",
   "execution_count": 84,
   "metadata": {},
   "outputs": [
    {
     "data": {
      "text/html": [
       "<table>\n",
       "<thead><tr><th scope=col>Primary_Partner_Activity_Derived</th><th scope=col>Count</th></tr></thead>\n",
       "<tbody>\n",
       "\t<tr><td>Other   </td><td> 2      </td></tr>\n",
       "\t<tr><td>Blocked </td><td>10      </td></tr>\n",
       "\t<tr><td>Blocking</td><td> 6      </td></tr>\n",
       "\t<tr><td>Tackled </td><td> 8      </td></tr>\n",
       "\t<tr><td>Tackling</td><td>10      </td></tr>\n",
       "\t<tr><td>Unclear </td><td> 1      </td></tr>\n",
       "</tbody>\n",
       "</table>\n"
      ],
      "text/latex": [
       "\\begin{tabular}{r|ll}\n",
       " Primary\\_Partner\\_Activity\\_Derived & Count\\\\\n",
       "\\hline\n",
       "\t Other    &  2      \\\\\n",
       "\t Blocked  & 10      \\\\\n",
       "\t Blocking &  6      \\\\\n",
       "\t Tackled  &  8      \\\\\n",
       "\t Tackling & 10      \\\\\n",
       "\t Unclear  &  1      \\\\\n",
       "\\end{tabular}\n"
      ],
      "text/markdown": [
       "\n",
       "Primary_Partner_Activity_Derived | Count | \n",
       "|---|---|---|---|---|---|\n",
       "| Other    |  2       | \n",
       "| Blocked  | 10       | \n",
       "| Blocking |  6       | \n",
       "| Tackled  |  8       | \n",
       "| Tackling | 10       | \n",
       "| Unclear  |  1       | \n",
       "\n",
       "\n"
      ],
      "text/plain": [
       "  Primary_Partner_Activity_Derived Count\n",
       "1 Other                             2   \n",
       "2 Blocked                          10   \n",
       "3 Blocking                          6   \n",
       "4 Tackled                           8   \n",
       "5 Tackling                         10   \n",
       "6 Unclear                           1   "
      ]
     },
     "metadata": {},
     "output_type": "display_data"
    }
   ],
   "source": [
    "vidrevpart_pivot"
   ]
  },
  {
   "cell_type": "code",
   "execution_count": 85,
   "metadata": {},
   "outputs": [
    {
     "data": {},
     "metadata": {},
     "output_type": "display_data"
    },
    {
     "data": {
      "image/png": "[encoded data removed]",
      "text/plain": [
       "plot without title"
      ]
     },
     "metadata": {},
     "output_type": "display_data"
    }
   ],
   "source": [
    "options(repr.plot.width=5, repr.plot.height=4)\n",
    "ggplot(data=vidrevpart_pivot, aes(x=reorder(Primary_Partner_Activity_Derived, -Count), y=Count)) + geom_bar(stat='identity', fill=\"#004c6d\", width=0.6 ) + labs(title = \"Partner Activity in case of an injury\",x=\"Partner Activity\")"
   ]
  },
  {
   "cell_type": "markdown",
   "metadata": {},
   "source": [
    "__Note:__ \"Other\" is where impact was with ground, hence no partner."
   ]
  },
  {
   "cell_type": "markdown",
   "metadata": {},
   "source": [
    "### Frequency distribution of Impact types"
   ]
  },
  {
   "cell_type": "code",
   "execution_count": 86,
   "metadata": {
    "scrolled": false
   },
   "outputs": [
    {
     "data": {
      "text/html": [
       "<table>\n",
       "<thead><tr><th scope=col>Primary_Impact_Type</th><th scope=col>Count</th></tr></thead>\n",
       "<tbody>\n",
       "\t<tr><td>Helmet-to-body  </td><td>17              </td></tr>\n",
       "\t<tr><td>Helmet-to-ground</td><td> 2              </td></tr>\n",
       "\t<tr><td>Helmet-to-helmet</td><td>17              </td></tr>\n",
       "\t<tr><td>Unclear         </td><td> 1              </td></tr>\n",
       "</tbody>\n",
       "</table>\n"
      ],
      "text/latex": [
       "\\begin{tabular}{r|ll}\n",
       " Primary\\_Impact\\_Type & Count\\\\\n",
       "\\hline\n",
       "\t Helmet-to-body   & 17              \\\\\n",
       "\t Helmet-to-ground &  2              \\\\\n",
       "\t Helmet-to-helmet & 17              \\\\\n",
       "\t Unclear          &  1              \\\\\n",
       "\\end{tabular}\n"
      ],
      "text/markdown": [
       "\n",
       "Primary_Impact_Type | Count | \n",
       "|---|---|---|---|\n",
       "| Helmet-to-body   | 17               | \n",
       "| Helmet-to-ground |  2               | \n",
       "| Helmet-to-helmet | 17               | \n",
       "| Unclear          |  1               | \n",
       "\n",
       "\n"
      ],
      "text/plain": [
       "  Primary_Impact_Type Count\n",
       "1 Helmet-to-body      17   \n",
       "2 Helmet-to-ground     2   \n",
       "3 Helmet-to-helmet    17   \n",
       "4 Unclear              1   "
      ]
     },
     "metadata": {},
     "output_type": "display_data"
    },
    {
     "data": {},
     "metadata": {},
     "output_type": "display_data"
    },
    {
     "data": {
      "image/png": "[encoded data removed]",
      "text/plain": [
       "plot without title"
      ]
     },
     "metadata": {},
     "output_type": "display_data"
    }
   ],
   "source": [
    "vidrev_pivot2 <- vid_rev %>% group_by(Primary_Impact_Type) %>% dplyr::summarize(Count = n()) \n",
    "vidrev_pivot2\n",
    "ggplot(data=vidrev_pivot2, aes(x=reorder(Primary_Impact_Type, -Count), y=Count)) + geom_bar(stat='identity', fill=\"#004c6d\", width = 0.6) + labs(x=\"Impact Type\", title=\"Impact Type in case of injury\")"
   ]
  },
  {
   "cell_type": "markdown",
   "metadata": {},
   "source": [
    "### Distribution of Impact type against Player Activity\n",
    "- Certain impact type - Player Activity combinations have higher amounts of concussions"
   ]
  },
  {
   "cell_type": "code",
   "execution_count": 91,
   "metadata": {
    "scrolled": false
   },
   "outputs": [
    {
     "data": {
      "text/html": [
       "<table>\n",
       "<thead><tr><th scope=col>Player_Activity_Derived</th><th scope=col>Primary_Impact_Type</th><th scope=col>Count</th><th scope=col>Percent_concussion</th></tr></thead>\n",
       "<tbody>\n",
       "\t<tr><td>Blocked         </td><td>Helmet-to-body  </td><td>3               </td><td> 8.108108       </td></tr>\n",
       "\t<tr><td>Blocked         </td><td>Helmet-to-ground</td><td>1               </td><td> 2.702703       </td></tr>\n",
       "\t<tr><td>Blocked         </td><td>Helmet-to-helmet</td><td>5               </td><td>13.513514       </td></tr>\n",
       "\t<tr><td>Blocked         </td><td>Unclear         </td><td>1               </td><td> 2.702703       </td></tr>\n",
       "\t<tr><td>Blocking        </td><td>Helmet-to-body  </td><td>4               </td><td>10.810811       </td></tr>\n",
       "\t<tr><td>Blocking        </td><td>Helmet-to-helmet</td><td>4               </td><td>10.810811       </td></tr>\n",
       "\t<tr><td>Tackled         </td><td>Helmet-to-body  </td><td>2               </td><td> 5.405405       </td></tr>\n",
       "\t<tr><td>Tackled         </td><td>Helmet-to-helmet</td><td>4               </td><td>10.810811       </td></tr>\n",
       "\t<tr><td>Tackling        </td><td>Helmet-to-body  </td><td>8               </td><td>21.621622       </td></tr>\n",
       "\t<tr><td>Tackling        </td><td>Helmet-to-ground</td><td>1               </td><td> 2.702703       </td></tr>\n",
       "\t<tr><td>Tackling        </td><td>Helmet-to-helmet</td><td>4               </td><td>10.810811       </td></tr>\n",
       "</tbody>\n",
       "</table>\n"
      ],
      "text/latex": [
       "\\begin{tabular}{r|llll}\n",
       " Player\\_Activity\\_Derived & Primary\\_Impact\\_Type & Count & Percent\\_concussion\\\\\n",
       "\\hline\n",
       "\t Blocked          & Helmet-to-body   & 3                &  8.108108       \\\\\n",
       "\t Blocked          & Helmet-to-ground & 1                &  2.702703       \\\\\n",
       "\t Blocked          & Helmet-to-helmet & 5                & 13.513514       \\\\\n",
       "\t Blocked          & Unclear          & 1                &  2.702703       \\\\\n",
       "\t Blocking         & Helmet-to-body   & 4                & 10.810811       \\\\\n",
       "\t Blocking         & Helmet-to-helmet & 4                & 10.810811       \\\\\n",
       "\t Tackled          & Helmet-to-body   & 2                &  5.405405       \\\\\n",
       "\t Tackled          & Helmet-to-helmet & 4                & 10.810811       \\\\\n",
       "\t Tackling         & Helmet-to-body   & 8                & 21.621622       \\\\\n",
       "\t Tackling         & Helmet-to-ground & 1                &  2.702703       \\\\\n",
       "\t Tackling         & Helmet-to-helmet & 4                & 10.810811       \\\\\n",
       "\\end{tabular}\n"
      ],
      "text/markdown": [
       "\n",
       "Player_Activity_Derived | Primary_Impact_Type | Count | Percent_concussion | \n",
       "|---|---|---|---|---|---|---|---|---|---|---|\n",
       "| Blocked          | Helmet-to-body   | 3                |  8.108108        | \n",
       "| Blocked          | Helmet-to-ground | 1                |  2.702703        | \n",
       "| Blocked          | Helmet-to-helmet | 5                | 13.513514        | \n",
       "| Blocked          | Unclear          | 1                |  2.702703        | \n",
       "| Blocking         | Helmet-to-body   | 4                | 10.810811        | \n",
       "| Blocking         | Helmet-to-helmet | 4                | 10.810811        | \n",
       "| Tackled          | Helmet-to-body   | 2                |  5.405405        | \n",
       "| Tackled          | Helmet-to-helmet | 4                | 10.810811        | \n",
       "| Tackling         | Helmet-to-body   | 8                | 21.621622        | \n",
       "| Tackling         | Helmet-to-ground | 1                |  2.702703        | \n",
       "| Tackling         | Helmet-to-helmet | 4                | 10.810811        | \n",
       "\n",
       "\n"
      ],
      "text/plain": [
       "   Player_Activity_Derived Primary_Impact_Type Count Percent_concussion\n",
       "1  Blocked                 Helmet-to-body      3      8.108108         \n",
       "2  Blocked                 Helmet-to-ground    1      2.702703         \n",
       "3  Blocked                 Helmet-to-helmet    5     13.513514         \n",
       "4  Blocked                 Unclear             1      2.702703         \n",
       "5  Blocking                Helmet-to-body      4     10.810811         \n",
       "6  Blocking                Helmet-to-helmet    4     10.810811         \n",
       "7  Tackled                 Helmet-to-body      2      5.405405         \n",
       "8  Tackled                 Helmet-to-helmet    4     10.810811         \n",
       "9  Tackling                Helmet-to-body      8     21.621622         \n",
       "10 Tackling                Helmet-to-ground    1      2.702703         \n",
       "11 Tackling                Helmet-to-helmet    4     10.810811         "
      ]
     },
     "metadata": {},
     "output_type": "display_data"
    }
   ],
   "source": [
    "vidrev_pivot3 <- vid_rev %>% group_by(Player_Activity_Derived,Primary_Impact_Type) %>% dplyr::summarize(Count = n()) \n",
    "vidrev_pivot3$Percent_concussion <- vidrev_pivot3$Count*100/sum(vidrev_pivot3$Count)\n",
    "vidrev_pivot3 "
   ]
  },
  {
   "cell_type": "code",
   "execution_count": 95,
   "metadata": {
    "scrolled": false
   },
   "outputs": [
    {
     "data": {
      "text/html": [
       "<table>\n",
       "<thead><tr><th scope=col>Primary_Impact_Type</th><th scope=col>Player_Activity_Derived</th><th scope=col>Count</th><th scope=col>Percent_concussion</th></tr></thead>\n",
       "<tbody>\n",
       "\t<tr><td>Helmet-to-body  </td><td>Blocked         </td><td>3               </td><td> 8.108108       </td></tr>\n",
       "\t<tr><td>Helmet-to-body  </td><td>Blocking        </td><td>4               </td><td>10.810811       </td></tr>\n",
       "\t<tr><td>Helmet-to-body  </td><td>Tackled         </td><td>2               </td><td> 5.405405       </td></tr>\n",
       "\t<tr><td>Helmet-to-body  </td><td>Tackling        </td><td>8               </td><td>21.621622       </td></tr>\n",
       "\t<tr><td>Helmet-to-ground</td><td>Blocked         </td><td>1               </td><td> 2.702703       </td></tr>\n",
       "\t<tr><td>Helmet-to-ground</td><td>Blocking        </td><td>0               </td><td> 0.000000       </td></tr>\n",
       "\t<tr><td>Helmet-to-ground</td><td>Tackled         </td><td>0               </td><td> 0.000000       </td></tr>\n",
       "\t<tr><td>Helmet-to-ground</td><td>Tackling        </td><td>1               </td><td> 2.702703       </td></tr>\n",
       "\t<tr><td>Helmet-to-helmet</td><td>Blocked         </td><td>5               </td><td>13.513514       </td></tr>\n",
       "\t<tr><td>Helmet-to-helmet</td><td>Blocking        </td><td>4               </td><td>10.810811       </td></tr>\n",
       "\t<tr><td>Helmet-to-helmet</td><td>Tackled         </td><td>4               </td><td>10.810811       </td></tr>\n",
       "\t<tr><td>Helmet-to-helmet</td><td>Tackling        </td><td>4               </td><td>10.810811       </td></tr>\n",
       "\t<tr><td>Unclear         </td><td>Blocked         </td><td>1               </td><td> 2.702703       </td></tr>\n",
       "\t<tr><td>Unclear         </td><td>Blocking        </td><td>0               </td><td> 0.000000       </td></tr>\n",
       "\t<tr><td>Unclear         </td><td>Tackled         </td><td>0               </td><td> 0.000000       </td></tr>\n",
       "\t<tr><td>Unclear         </td><td>Tackling        </td><td>0               </td><td> 0.000000       </td></tr>\n",
       "</tbody>\n",
       "</table>\n"
      ],
      "text/latex": [
       "\\begin{tabular}{r|llll}\n",
       " Primary\\_Impact\\_Type & Player\\_Activity\\_Derived & Count & Percent\\_concussion\\\\\n",
       "\\hline\n",
       "\t Helmet-to-body   & Blocked          & 3                &  8.108108       \\\\\n",
       "\t Helmet-to-body   & Blocking         & 4                & 10.810811       \\\\\n",
       "\t Helmet-to-body   & Tackled          & 2                &  5.405405       \\\\\n",
       "\t Helmet-to-body   & Tackling         & 8                & 21.621622       \\\\\n",
       "\t Helmet-to-ground & Blocked          & 1                &  2.702703       \\\\\n",
       "\t Helmet-to-ground & Blocking         & 0                &  0.000000       \\\\\n",
       "\t Helmet-to-ground & Tackled          & 0                &  0.000000       \\\\\n",
       "\t Helmet-to-ground & Tackling         & 1                &  2.702703       \\\\\n",
       "\t Helmet-to-helmet & Blocked          & 5                & 13.513514       \\\\\n",
       "\t Helmet-to-helmet & Blocking         & 4                & 10.810811       \\\\\n",
       "\t Helmet-to-helmet & Tackled          & 4                & 10.810811       \\\\\n",
       "\t Helmet-to-helmet & Tackling         & 4                & 10.810811       \\\\\n",
       "\t Unclear          & Blocked          & 1                &  2.702703       \\\\\n",
       "\t Unclear          & Blocking         & 0                &  0.000000       \\\\\n",
       "\t Unclear          & Tackled          & 0                &  0.000000       \\\\\n",
       "\t Unclear          & Tackling         & 0                &  0.000000       \\\\\n",
       "\\end{tabular}\n"
      ],
      "text/markdown": [
       "\n",
       "Primary_Impact_Type | Player_Activity_Derived | Count | Percent_concussion | \n",
       "|---|---|---|---|---|---|---|---|---|---|---|---|---|---|---|---|\n",
       "| Helmet-to-body   | Blocked          | 3                |  8.108108        | \n",
       "| Helmet-to-body   | Blocking         | 4                | 10.810811        | \n",
       "| Helmet-to-body   | Tackled          | 2                |  5.405405        | \n",
       "| Helmet-to-body   | Tackling         | 8                | 21.621622        | \n",
       "| Helmet-to-ground | Blocked          | 1                |  2.702703        | \n",
       "| Helmet-to-ground | Blocking         | 0                |  0.000000        | \n",
       "| Helmet-to-ground | Tackled          | 0                |  0.000000        | \n",
       "| Helmet-to-ground | Tackling         | 1                |  2.702703        | \n",
       "| Helmet-to-helmet | Blocked          | 5                | 13.513514        | \n",
       "| Helmet-to-helmet | Blocking         | 4                | 10.810811        | \n",
       "| Helmet-to-helmet | Tackled          | 4                | 10.810811        | \n",
       "| Helmet-to-helmet | Tackling         | 4                | 10.810811        | \n",
       "| Unclear          | Blocked          | 1                |  2.702703        | \n",
       "| Unclear          | Blocking         | 0                |  0.000000        | \n",
       "| Unclear          | Tackled          | 0                |  0.000000        | \n",
       "| Unclear          | Tackling         | 0                |  0.000000        | \n",
       "\n",
       "\n"
      ],
      "text/plain": [
       "   Primary_Impact_Type Player_Activity_Derived Count Percent_concussion\n",
       "1  Helmet-to-body      Blocked                 3      8.108108         \n",
       "2  Helmet-to-body      Blocking                4     10.810811         \n",
       "3  Helmet-to-body      Tackled                 2      5.405405         \n",
       "4  Helmet-to-body      Tackling                8     21.621622         \n",
       "5  Helmet-to-ground    Blocked                 1      2.702703         \n",
       "6  Helmet-to-ground    Blocking                0      0.000000         \n",
       "7  Helmet-to-ground    Tackled                 0      0.000000         \n",
       "8  Helmet-to-ground    Tackling                1      2.702703         \n",
       "9  Helmet-to-helmet    Blocked                 5     13.513514         \n",
       "10 Helmet-to-helmet    Blocking                4     10.810811         \n",
       "11 Helmet-to-helmet    Tackled                 4     10.810811         \n",
       "12 Helmet-to-helmet    Tackling                4     10.810811         \n",
       "13 Unclear             Blocked                 1      2.702703         \n",
       "14 Unclear             Blocking                0      0.000000         \n",
       "15 Unclear             Tackled                 0      0.000000         \n",
       "16 Unclear             Tackling                0      0.000000         "
      ]
     },
     "metadata": {},
     "output_type": "display_data"
    }
   ],
   "source": [
    "#we need to retain values for all levels of pivot table\n",
    "temp_df1 <- merge(unique(vidrev_pivot3$Primary_Impact_Type),unique(vidrev_pivot3$Player_Activity_Derived))\n",
    "colnames(temp_df1 ) <- c(\"Primary_Impact_Type\",\"Player_Activity_Derived\")\n",
    "vidrev_pivot3 <- merge(temp_df1,vidrev_pivot3,by=c('Primary_Impact_Type','Player_Activity_Derived'),all.x=TRUE)\n",
    "vidrev_pivot3[is.na(vidrev_pivot3)] <- 0\n",
    "vidrev_pivot3\n"
   ]
  },
  {
   "cell_type": "code",
   "execution_count": 98,
   "metadata": {
    "scrolled": false
   },
   "outputs": [
    {
     "data": {
      "text/html": [
       "<table>\n",
       "<thead><tr><th scope=col>Primary_Impact_Type</th><th scope=col>Percent_concussion</th><th scope=col>Blocked</th><th scope=col>Blocking</th><th scope=col>Tackled</th><th scope=col>Tackling</th></tr></thead>\n",
       "<tbody>\n",
       "\t<tr><td>Helmet-to-body  </td><td> 5.405405       </td><td>NA              </td><td>NA              </td><td> 2              </td><td>NA              </td></tr>\n",
       "\t<tr><td>Helmet-to-body  </td><td> 8.108108       </td><td> 3              </td><td>NA              </td><td>NA              </td><td>NA              </td></tr>\n",
       "\t<tr><td>Helmet-to-body  </td><td>10.810811       </td><td>NA              </td><td> 4              </td><td>NA              </td><td>NA              </td></tr>\n",
       "\t<tr><td>Helmet-to-body  </td><td>21.621622       </td><td>NA              </td><td>NA              </td><td>NA              </td><td> 8              </td></tr>\n",
       "\t<tr><td>Helmet-to-ground</td><td> 0.000000       </td><td>NA              </td><td> 0              </td><td> 0              </td><td>NA              </td></tr>\n",
       "\t<tr><td>Helmet-to-ground</td><td> 2.702703       </td><td> 1              </td><td>NA              </td><td>NA              </td><td> 1              </td></tr>\n",
       "\t<tr><td>Helmet-to-helmet</td><td>10.810811       </td><td>NA              </td><td> 4              </td><td> 4              </td><td> 4              </td></tr>\n",
       "\t<tr><td>Helmet-to-helmet</td><td>13.513514       </td><td> 5              </td><td>NA              </td><td>NA              </td><td>NA              </td></tr>\n",
       "\t<tr><td>Unclear         </td><td> 0.000000       </td><td>NA              </td><td> 0              </td><td> 0              </td><td> 0              </td></tr>\n",
       "\t<tr><td>Unclear         </td><td> 2.702703       </td><td> 1              </td><td>NA              </td><td>NA              </td><td>NA              </td></tr>\n",
       "</tbody>\n",
       "</table>\n"
      ],
      "text/latex": [
       "\\begin{tabular}{r|llllll}\n",
       " Primary\\_Impact\\_Type & Percent\\_concussion & Blocked & Blocking & Tackled & Tackling\\\\\n",
       "\\hline\n",
       "\t Helmet-to-body   &  5.405405        & NA               & NA               &  2               & NA              \\\\\n",
       "\t Helmet-to-body   &  8.108108        &  3               & NA               & NA               & NA              \\\\\n",
       "\t Helmet-to-body   & 10.810811        & NA               &  4               & NA               & NA              \\\\\n",
       "\t Helmet-to-body   & 21.621622        & NA               & NA               & NA               &  8              \\\\\n",
       "\t Helmet-to-ground &  0.000000        & NA               &  0               &  0               & NA              \\\\\n",
       "\t Helmet-to-ground &  2.702703        &  1               & NA               & NA               &  1              \\\\\n",
       "\t Helmet-to-helmet & 10.810811        & NA               &  4               &  4               &  4              \\\\\n",
       "\t Helmet-to-helmet & 13.513514        &  5               & NA               & NA               & NA              \\\\\n",
       "\t Unclear          &  0.000000        & NA               &  0               &  0               &  0              \\\\\n",
       "\t Unclear          &  2.702703        &  1               & NA               & NA               & NA              \\\\\n",
       "\\end{tabular}\n"
      ],
      "text/markdown": [
       "\n",
       "Primary_Impact_Type | Percent_concussion | Blocked | Blocking | Tackled | Tackling | \n",
       "|---|---|---|---|---|---|---|---|---|---|\n",
       "| Helmet-to-body   |  5.405405        | NA               | NA               |  2               | NA               | \n",
       "| Helmet-to-body   |  8.108108        |  3               | NA               | NA               | NA               | \n",
       "| Helmet-to-body   | 10.810811        | NA               |  4               | NA               | NA               | \n",
       "| Helmet-to-body   | 21.621622        | NA               | NA               | NA               |  8               | \n",
       "| Helmet-to-ground |  0.000000        | NA               |  0               |  0               | NA               | \n",
       "| Helmet-to-ground |  2.702703        |  1               | NA               | NA               |  1               | \n",
       "| Helmet-to-helmet | 10.810811        | NA               |  4               |  4               |  4               | \n",
       "| Helmet-to-helmet | 13.513514        |  5               | NA               | NA               | NA               | \n",
       "| Unclear          |  0.000000        | NA               |  0               |  0               |  0               | \n",
       "| Unclear          |  2.702703        |  1               | NA               | NA               | NA               | \n",
       "\n",
       "\n"
      ],
      "text/plain": [
       "   Primary_Impact_Type Percent_concussion Blocked Blocking Tackled Tackling\n",
       "1  Helmet-to-body       5.405405          NA      NA        2      NA      \n",
       "2  Helmet-to-body       8.108108           3      NA       NA      NA      \n",
       "3  Helmet-to-body      10.810811          NA       4       NA      NA      \n",
       "4  Helmet-to-body      21.621622          NA      NA       NA       8      \n",
       "5  Helmet-to-ground     0.000000          NA       0        0      NA      \n",
       "6  Helmet-to-ground     2.702703           1      NA       NA       1      \n",
       "7  Helmet-to-helmet    10.810811          NA       4        4       4      \n",
       "8  Helmet-to-helmet    13.513514           5      NA       NA      NA      \n",
       "9  Unclear              0.000000          NA       0        0       0      \n",
       "10 Unclear              2.702703           1      NA       NA      NA      "
      ]
     },
     "metadata": {},
     "output_type": "display_data"
    },
    {
     "data": {},
     "metadata": {},
     "output_type": "display_data"
    },
    {
     "data": {
      "image/png": "[encoded data removed]",
      "text/plain": [
       "plot without title"
      ]
     },
     "metadata": {},
     "output_type": "display_data"
    }
   ],
   "source": [
    "vidrev_pivot4 <- vidrev_pivot3 %>% spread(Player_Activity_Derived, Count)\n",
    "vidrev_pivot4\n",
    "options(repr.plot.width=10, repr.plot.height=5)\n",
    "ggplot(data=vidrev_pivot3, \n",
    "       aes(x=reorder(Player_Activity_Derived, -Count), y=Count, \n",
    "           fill=reorder(Primary_Impact_Type, -Count))) + geom_bar(stat='identity', \n",
    "                                                                  position=position_dodge()) + \n",
    "        scale_fill_manual(values=c(\"#003f5c\", \"#58508d\",\"#ffa600\",\"#ff6361\")) + \n",
    "        labs(title = \"Relation b/n Primary Imapct and Player Activity\", x=\"Player Activity\") + \n",
    "        coord_flip() + \n",
    "        guides(fill=guide_legend(title=\"Impact Type\"))"
   ]
  },
  {
   "cell_type": "markdown",
   "metadata": {},
   "source": [
    "## EDA of Game Data"
   ]
  },
  {
   "cell_type": "code",
   "execution_count": 10,
   "metadata": {
    "scrolled": false
   },
   "outputs": [
    {
     "data": {
      "text/plain": [
       "    GameKey       Season_Year   Season_Type      Week       \n",
       " Min.   :  1.0   Min.   :2016   Post: 24    Min.   : 1.000  \n",
       " 1st Qu.:167.2   1st Qu.:2016   Pre :130    1st Qu.: 3.000  \n",
       " Median :333.5   Median :2016   Reg :512    Median : 6.000  \n",
       " Mean   :333.5   Mean   :2016               Mean   : 7.724  \n",
       " 3rd Qu.:499.8   3rd Qu.:2017               3rd Qu.:12.000  \n",
       " Max.   :666.0   Max.   :2017               Max.   :17.000  \n",
       "                                                            \n",
       "                   Game_Date        Game_Day             Game_Site  \n",
       " 2017-01-01 00:00:00.000: 16   Friday   : 19   East Rutherford: 40  \n",
       " 2017-08-31 00:00:00.000: 16   Monday   : 36   Foxborough     : 24  \n",
       " 2017-12-31 00:00:00.000: 16   Saturday : 63   Atlanta        : 22  \n",
       " 2016-09-01 00:00:00.000: 15   Sunday   :453   Houston        : 22  \n",
       " 2016-09-18 00:00:00.000: 14   Thursday : 93   Kansas City    : 22  \n",
       " 2016-09-25 00:00:00.000: 14   Wednesday:  2   Minneapolis    : 22  \n",
       " (Other)                :575                   (Other)        :514  \n",
       "   Start_Time                 Home_Team    HomeTeamCode\n",
       " 13:00  :188   New England Patriots: 25   NE     : 25  \n",
       " 12:00  : 82   Atlanta Falcons     : 23   ATL    : 23  \n",
       " 19:00  : 66   Dallas Cowboys      : 22   DAL    : 22  \n",
       " 19:30  : 49   Kansas City Chiefs  : 22   KC     : 22  \n",
       " 13:05  : 35   Philadelphia Eagles : 22   PHI    : 22  \n",
       " 13:25  : 35   Pittsburgh Steelers : 22   PIT    : 22  \n",
       " (Other):211   (Other)             :530   (Other):530  \n",
       "                Visit_Team  VisitTeamCode                    Stadium   \n",
       " Green Bay Packers   : 23   GB     : 23   Gillette Stadium       : 24  \n",
       " Atlanta Falcons     : 22   ATL    : 22   MetLife Stadium        : 24  \n",
       " Jacksonville Jaguars: 22   JAX    : 22   Arrowhead Stadium      : 22  \n",
       " Pittsburgh Steelers : 22   PIT    : 22   Heinz Field            : 22  \n",
       " Tennessee Titans    : 22   TEN    : 22   Lincoln Financial Field: 22  \n",
       " Arizona Cardinals   : 21   ARZ    : 21   Lambeau Field          : 21  \n",
       " (Other)             :534   (Other):534   (Other)                :531  \n",
       "   StadiumType                     Turf            GameWeather   Temperature   \n",
       " Outdoor :348   Grass                :224   Sunny        :145   Min.   : 1.00  \n",
       " Outdoors: 81   Natural Grass        :121   Cloudy       :119   1st Qu.:54.00  \n",
       " Indoors : 46   Field Turf           : 65                : 98   Median :68.00  \n",
       " Indoor  : 42   Artificial           : 61   Partly Cloudy: 74   Mean   :64.13  \n",
       "         : 38   FieldTurf            : 53   Clear        : 49   3rd Qu.:78.25  \n",
       " Dome    : 21   UBU Speed Series-S5-M: 40   Mostly Cloudy: 26   Max.   :97.00  \n",
       " (Other) : 90   (Other)              :102   (Other)      :155   NA's   :66     \n",
       "       OutdoorWeather\n",
       "              :254   \n",
       " Sunny        : 94   \n",
       " Cloudy       : 75   \n",
       " Partly Cloudy: 47   \n",
       " Clear        : 34   \n",
       " Rain         : 12   \n",
       " (Other)      :150   "
      ]
     },
     "metadata": {},
     "output_type": "display_data"
    },
    {
     "data": {
      "text/html": [
       "<table>\n",
       "<thead><tr><th scope=col>GameKey</th><th scope=col>Season_Year</th><th scope=col>Season_Type</th><th scope=col>Week</th><th scope=col>Game_Date</th><th scope=col>Game_Day</th><th scope=col>Game_Site</th><th scope=col>Start_Time</th><th scope=col>Home_Team</th><th scope=col>HomeTeamCode</th><th scope=col>Visit_Team</th><th scope=col>VisitTeamCode</th><th scope=col>Stadium</th><th scope=col>StadiumType</th><th scope=col>Turf</th><th scope=col>GameWeather</th><th scope=col>Temperature</th><th scope=col>OutdoorWeather</th></tr></thead>\n",
       "<tbody>\n",
       "\t<tr><td>1                                </td><td>2016                             </td><td>Pre                              </td><td>1                                </td><td>2016-08-07 00:00:00.000          </td><td>Sunday                           </td><td>Indianapolis                     </td><td>20:00                            </td><td>Indianapolis Colts               </td><td>IND                              </td><td>Green Bay Packers                </td><td>GB                               </td><td>Tom Benson Hall of Fame Stadium  </td><td>Outdoor                          </td><td>Turf                             </td><td>                                 </td><td>NA                               </td><td>                                 </td></tr>\n",
       "\t<tr><td>2                                </td><td>2016                             </td><td>Pre                              </td><td>2                                </td><td>2016-08-13 00:00:00.000          </td><td>Saturday                         </td><td>Los Angeles                      </td><td>17:00                            </td><td>Los Angeles Rams                 </td><td>LA                               </td><td>Dallas Cowboys                   </td><td>DAL                              </td><td>Los  Angeles Memorial Coliseum   </td><td>Outdoor                          </td><td>Grass                            </td><td>Sunny                            </td><td>79                               </td><td>Sunny                            </td></tr>\n",
       "\t<tr><td>3                                                                          </td><td>2016                                                                       </td><td>Pre                                                                        </td><td>2                                                                          </td><td>2016-08-11 00:00:00.000                                                    </td><td>Thursday                                                                   </td><td><span style=white-space:pre-wrap>Baltimore   </span>                       </td><td>19:30                                                                      </td><td><span style=white-space:pre-wrap>Baltimore Ravens   </span>                </td><td>BLT                                                                        </td><td>Carolina Panthers                                                          </td><td>CAR                                                                        </td><td><span style=white-space:pre-wrap>M&amp;T Bank Stadium               </span></td><td>Outdoor                                                                    </td><td>Natural Grass                                                              </td><td><span style=white-space:pre-wrap>Party Cloudy                     </span>  </td><td>94                                                                         </td><td>Partly Cloudy                                                              </td></tr>\n",
       "\t<tr><td>4                                </td><td>2016                             </td><td>Pre                              </td><td>2                                </td><td>2016-08-12 00:00:00.000          </td><td>Friday                           </td><td>Green Bay                        </td><td>19:00                            </td><td>Green Bay Packers                </td><td>GB                               </td><td>Cleveland Browns                 </td><td>CLV                              </td><td>Lambeau Field                    </td><td>Outdoor                          </td><td>DD GrassMaster                   </td><td>                                 </td><td>73                               </td><td>                                 </td></tr>\n",
       "\t<tr><td>5                                </td><td>2016                             </td><td>Pre                              </td><td>2                                </td><td>2016-08-11 00:00:00.000          </td><td>Thursday                         </td><td>Chicago                          </td><td>19:00                            </td><td>Chicago Bears                    </td><td>CHI                              </td><td>Denver Broncos                   </td><td>DEN                              </td><td>Soldier Field                    </td><td>Outdoor                          </td><td>Grass                            </td><td>Partly Cloudy, Chance of Rain 80%</td><td>88                               </td><td>                                 </td></tr>\n",
       "\t<tr><td>6                                </td><td>2016                             </td><td>Pre                              </td><td>2                                </td><td>2016-08-12 00:00:00.000          </td><td>Friday                           </td><td>Pittsburgh                       </td><td>19:00                            </td><td>Pittsburgh Steelers              </td><td>PIT                              </td><td>Detroit Lions                    </td><td>DET                              </td><td>Heinz Field                      </td><td>Outdoors                         </td><td>Grass                            </td><td>Partly Cloudy                    </td><td>82                               </td><td>Partly Cloudy                    </td></tr>\n",
       "</tbody>\n",
       "</table>\n"
      ],
      "text/latex": [
       "\\begin{tabular}{r|llllllllllllllllll}\n",
       " GameKey & Season\\_Year & Season\\_Type & Week & Game\\_Date & Game\\_Day & Game\\_Site & Start\\_Time & Home\\_Team & HomeTeamCode & Visit\\_Team & VisitTeamCode & Stadium & StadiumType & Turf & GameWeather & Temperature & OutdoorWeather\\\\\n",
       "\\hline\n",
       "\t 1                                 & 2016                              & Pre                               & 1                                 & 2016-08-07 00:00:00.000           & Sunday                            & Indianapolis                      & 20:00                             & Indianapolis Colts                & IND                               & Green Bay Packers                 & GB                                & Tom Benson Hall of Fame Stadium   & Outdoor                           & Turf                              &                                   & NA                                &                                  \\\\\n",
       "\t 2                                 & 2016                              & Pre                               & 2                                 & 2016-08-13 00:00:00.000           & Saturday                          & Los Angeles                       & 17:00                             & Los Angeles Rams                  & LA                                & Dallas Cowboys                    & DAL                               & Los  Angeles Memorial Coliseum    & Outdoor                           & Grass                             & Sunny                             & 79                                & Sunny                            \\\\\n",
       "\t 3                                 & 2016                              & Pre                               & 2                                 & 2016-08-11 00:00:00.000           & Thursday                          & Baltimore                         & 19:30                             & Baltimore Ravens                  & BLT                               & Carolina Panthers                 & CAR                               & M\\&T Bank Stadium                & Outdoor                           & Natural Grass                     & Party Cloudy                      & 94                                & Partly Cloudy                    \\\\\n",
       "\t 4                                 & 2016                              & Pre                               & 2                                 & 2016-08-12 00:00:00.000           & Friday                            & Green Bay                         & 19:00                             & Green Bay Packers                 & GB                                & Cleveland Browns                  & CLV                               & Lambeau Field                     & Outdoor                           & DD GrassMaster                    &                                   & 73                                &                                  \\\\\n",
       "\t 5                                   & 2016                                & Pre                                 & 2                                   & 2016-08-11 00:00:00.000             & Thursday                            & Chicago                             & 19:00                               & Chicago Bears                       & CHI                                 & Denver Broncos                      & DEN                                 & Soldier Field                       & Outdoor                             & Grass                               & Partly Cloudy, Chance of Rain 80\\% & 88                                  &                                    \\\\\n",
       "\t 6                                 & 2016                              & Pre                               & 2                                 & 2016-08-12 00:00:00.000           & Friday                            & Pittsburgh                        & 19:00                             & Pittsburgh Steelers               & PIT                               & Detroit Lions                     & DET                               & Heinz Field                       & Outdoors                          & Grass                             & Partly Cloudy                     & 82                                & Partly Cloudy                    \\\\\n",
       "\\end{tabular}\n"
      ],
      "text/markdown": [
       "\n",
       "GameKey | Season_Year | Season_Type | Week | Game_Date | Game_Day | Game_Site | Start_Time | Home_Team | HomeTeamCode | Visit_Team | VisitTeamCode | Stadium | StadiumType | Turf | GameWeather | Temperature | OutdoorWeather | \n",
       "|---|---|---|---|---|---|\n",
       "| 1                                 | 2016                              | Pre                               | 1                                 | 2016-08-07 00:00:00.000           | Sunday                            | Indianapolis                      | 20:00                             | Indianapolis Colts                | IND                               | Green Bay Packers                 | GB                                | Tom Benson Hall of Fame Stadium   | Outdoor                           | Turf                              |                                   | NA                                |                                   | \n",
       "| 2                                 | 2016                              | Pre                               | 2                                 | 2016-08-13 00:00:00.000           | Saturday                          | Los Angeles                       | 17:00                             | Los Angeles Rams                  | LA                                | Dallas Cowboys                    | DAL                               | Los  Angeles Memorial Coliseum    | Outdoor                           | Grass                             | Sunny                             | 79                                | Sunny                             | \n",
       "| 3                                 | 2016                              | Pre                               | 2                                 | 2016-08-11 00:00:00.000           | Thursday                          | Baltimore                         | 19:30                             | Baltimore Ravens                  | BLT                               | Carolina Panthers                 | CAR                               | M&T Bank Stadium                  | Outdoor                           | Natural Grass                     | Party Cloudy                      | 94                                | Partly Cloudy                     | \n",
       "| 4                                 | 2016                              | Pre                               | 2                                 | 2016-08-12 00:00:00.000           | Friday                            | Green Bay                         | 19:00                             | Green Bay Packers                 | GB                                | Cleveland Browns                  | CLV                               | Lambeau Field                     | Outdoor                           | DD GrassMaster                    |                                   | 73                                |                                   | \n",
       "| 5                                 | 2016                              | Pre                               | 2                                 | 2016-08-11 00:00:00.000           | Thursday                          | Chicago                           | 19:00                             | Chicago Bears                     | CHI                               | Denver Broncos                    | DEN                               | Soldier Field                     | Outdoor                           | Grass                             | Partly Cloudy, Chance of Rain 80% | 88                                |                                   | \n",
       "| 6                                 | 2016                              | Pre                               | 2                                 | 2016-08-12 00:00:00.000           | Friday                            | Pittsburgh                        | 19:00                             | Pittsburgh Steelers               | PIT                               | Detroit Lions                     | DET                               | Heinz Field                       | Outdoors                          | Grass                             | Partly Cloudy                     | 82                                | Partly Cloudy                     | \n",
       "\n",
       "\n"
      ],
      "text/plain": [
       "  GameKey Season_Year Season_Type Week Game_Date               Game_Day\n",
       "1 1       2016        Pre         1    2016-08-07 00:00:00.000 Sunday  \n",
       "2 2       2016        Pre         2    2016-08-13 00:00:00.000 Saturday\n",
       "3 3       2016        Pre         2    2016-08-11 00:00:00.000 Thursday\n",
       "4 4       2016        Pre         2    2016-08-12 00:00:00.000 Friday  \n",
       "5 5       2016        Pre         2    2016-08-11 00:00:00.000 Thursday\n",
       "6 6       2016        Pre         2    2016-08-12 00:00:00.000 Friday  \n",
       "  Game_Site    Start_Time Home_Team           HomeTeamCode Visit_Team       \n",
       "1 Indianapolis 20:00      Indianapolis Colts  IND          Green Bay Packers\n",
       "2 Los Angeles  17:00      Los Angeles Rams    LA           Dallas Cowboys   \n",
       "3 Baltimore    19:30      Baltimore Ravens    BLT          Carolina Panthers\n",
       "4 Green Bay    19:00      Green Bay Packers   GB           Cleveland Browns \n",
       "5 Chicago      19:00      Chicago Bears       CHI          Denver Broncos   \n",
       "6 Pittsburgh   19:00      Pittsburgh Steelers PIT          Detroit Lions    \n",
       "  VisitTeamCode Stadium                         StadiumType Turf          \n",
       "1 GB            Tom Benson Hall of Fame Stadium Outdoor     Turf          \n",
       "2 DAL           Los  Angeles Memorial Coliseum  Outdoor     Grass         \n",
       "3 CAR           M&T Bank Stadium                Outdoor     Natural Grass \n",
       "4 CLV           Lambeau Field                   Outdoor     DD GrassMaster\n",
       "5 DEN           Soldier Field                   Outdoor     Grass         \n",
       "6 DET           Heinz Field                     Outdoors    Grass         \n",
       "  GameWeather                       Temperature OutdoorWeather\n",
       "1                                   NA                        \n",
       "2 Sunny                             79          Sunny         \n",
       "3 Party Cloudy                      94          Partly Cloudy \n",
       "4                                   73                        \n",
       "5 Partly Cloudy, Chance of Rain 80% 88                        \n",
       "6 Partly Cloudy                     82          Partly Cloudy "
      ]
     },
     "metadata": {},
     "output_type": "display_data"
    },
    {
     "name": "stdout",
     "output_type": "stream",
     "text": [
      "'data.frame':\t666 obs. of  18 variables:\n",
      " $ GameKey       : int  1 2 3 4 5 6 7 8 9 10 ...\n",
      " $ Season_Year   : int  2016 2016 2016 2016 2016 2016 2016 2016 2016 2016 ...\n",
      " $ Season_Type   : Factor w/ 3 levels \"Post\",\"Pre\",\"Reg\": 2 2 2 2 2 2 2 2 2 2 ...\n",
      " $ Week          : int  1 2 2 2 2 2 2 2 2 2 ...\n",
      " $ Game_Date     : Factor w/ 145 levels \"2016-08-07 00:00:00.000\",..: 1 4 2 3 2 3 5 4 2 3 ...\n",
      " $ Game_Day      : Factor w/ 6 levels \"Friday\",\"Monday\",..: 4 3 5 1 5 1 4 3 5 1 ...\n",
      " $ Game_Site     : Factor w/ 39 levels \"Arlington\",\"Atlanta\",..: 17 22 3 15 7 33 35 30 12 12 ...\n",
      " $ Start_Time    : Factor w/ 40 levels \"12:00\",\"12:30\",..: 36 22 35 31 31 31 17 31 35 31 ...\n",
      " $ Home_Team     : Factor w/ 35 levels \"AFC\",\"Arizona Cardinals\",..: 15 19 4 13 7 29 31 5 25 24 ...\n",
      " $ HomeTeamCode  : Factor w/ 35 levels \"AFC\",\"ARZ\",\"ATL\",..: 15 18 4 13 7 29 32 5 26 25 ...\n",
      " $ Visit_Team    : Factor w/ 35 levels \"AFC\",\"Arizona Cardinals\",..: 13 10 6 9 11 12 14 15 16 20 ...\n",
      " $ VisitTeamCode : Factor w/ 35 levels \"AFC\",\"ARZ\",\"ATL\",..: 13 10 6 9 11 12 14 15 16 20 ...\n",
      " $ Stadium       : Factor w/ 66 levels \"Arrowhead Stadium\",..: 57 25 30 22 52 21 23 49 36 37 ...\n",
      " $ StadiumType   : Factor w/ 34 levels \"\",\"Closed Dome\",..: 21 21 21 21 21 23 21 21 21 1 ...\n",
      " $ Turf          : Factor w/ 24 levels \"\",\"A-Turf Titan\",..: 21 13 17 6 13 13 16 2 9 22 ...\n",
      " $ GameWeather   : Factor w/ 68 levels \"\",\"30% Chance of Rain\",..: 1 59 50 1 46 44 59 68 12 38 ...\n",
      " $ Temperature   : num  NA 79 94 73 88 82 84 84 94 76 ...\n",
      " $ OutdoorWeather: Factor w/ 135 levels \"\",\" Low to mid 50s by game end\",..: 1 110 91 1 1 91 1 117 38 1 ...\n"
     ]
    }
   ],
   "source": [
    "summary(game_data)\n",
    "head(game_data)\n",
    "str(game_data)"
   ]
  },
  {
   "cell_type": "code",
   "execution_count": 11,
   "metadata": {
    "scrolled": false
   },
   "outputs": [
    {
     "name": "stdout",
     "output_type": "stream",
     "text": [
      "'data.frame':\t666 obs. of  19 variables:\n",
      " $ GameKey       : int  1 2 3 4 5 6 7 8 9 10 ...\n",
      " $ Season_Year   : int  2016 2016 2016 2016 2016 2016 2016 2016 2016 2016 ...\n",
      " $ Season_Type   : Factor w/ 3 levels \"Post\",\"Pre\",\"Reg\": 2 2 2 2 2 2 2 2 2 2 ...\n",
      " $ Week          : int  1 2 2 2 2 2 2 2 2 2 ...\n",
      " $ Game_Date     : Factor w/ 145 levels \"2016-08-07 00:00:00.000\",..: 1 4 2 3 2 3 5 4 2 3 ...\n",
      " $ Game_Day      : Factor w/ 6 levels \"Friday\",\"Monday\",..: 4 3 5 1 5 1 4 3 5 1 ...\n",
      " $ Game_Site     : Factor w/ 39 levels \"Arlington\",\"Atlanta\",..: 17 22 3 15 7 33 35 30 12 12 ...\n",
      " $ Start_Time    : Factor w/ 40 levels \"12:00\",\"12:30\",..: 36 22 35 31 31 31 17 31 35 31 ...\n",
      " $ Home_Team     : Factor w/ 35 levels \"AFC\",\"Arizona Cardinals\",..: 15 19 4 13 7 29 31 5 25 24 ...\n",
      " $ HomeTeamCode  : Factor w/ 35 levels \"AFC\",\"ARZ\",\"ATL\",..: 15 18 4 13 7 29 32 5 26 25 ...\n",
      " $ Visit_Team    : Factor w/ 35 levels \"AFC\",\"Arizona Cardinals\",..: 13 10 6 9 11 12 14 15 16 20 ...\n",
      " $ VisitTeamCode : Factor w/ 35 levels \"AFC\",\"ARZ\",\"ATL\",..: 13 10 6 9 11 12 14 15 16 20 ...\n",
      " $ Stadium       : Factor w/ 66 levels \"Arrowhead Stadium\",..: 57 25 30 22 52 21 23 49 36 37 ...\n",
      " $ StadiumType   : Factor w/ 34 levels \"\",\"Closed Dome\",..: 21 21 21 21 21 23 21 21 21 1 ...\n",
      " $ Turf          : Factor w/ 24 levels \"\",\"A-Turf Titan\",..: 21 13 17 6 13 13 16 2 9 22 ...\n",
      " $ GameWeather   : Factor w/ 68 levels \"\",\"30% Chance of Rain\",..: 1 59 50 1 46 44 59 68 12 38 ...\n",
      " $ Temperature   : num  NA 79 94 73 88 82 84 84 94 76 ...\n",
      " $ OutdoorWeather: Factor w/ 135 levels \"\",\" Low to mid 50s by game end\",..: 1 110 91 1 1 91 1 117 38 1 ...\n",
      " $ injury        : logi  FALSE FALSE FALSE FALSE TRUE FALSE ...\n"
     ]
    }
   ],
   "source": [
    "game_data$injury <- game_data$GameKey %in% vid_rev$GameKey\n",
    "str(game_data)"
   ]
  },
  {
   "cell_type": "markdown",
   "metadata": {},
   "source": [
    "## EDA on relation of variables on concussion rate"
   ]
  },
  {
   "cell_type": "markdown",
   "metadata": {},
   "source": [
    "### Merging Game data with Video review data"
   ]
  },
  {
   "cell_type": "code",
   "execution_count": 12,
   "metadata": {
    "scrolled": true
   },
   "outputs": [
    {
     "name": "stderr",
     "output_type": "stream",
     "text": [
      "Warning message in `[<-.factor`(`*tmp*`, adv_gamedata$Primary_Partner_Activity_Derived == :\n",
      "\"invalid factor level, NA generated\""
     ]
    },
    {
     "data": {
      "text/html": [
       "<table>\n",
       "<thead><tr><th scope=col>GameKey</th><th scope=col>Season_Year.x</th><th scope=col>Season_Type</th><th scope=col>Week</th><th scope=col>Game_Date</th><th scope=col>Game_Day</th><th scope=col>Game_Site</th><th scope=col>Start_Time</th><th scope=col>Home_Team</th><th scope=col>HomeTeamCode</th><th scope=col>...</th><th scope=col>Season_Year.y</th><th scope=col>PlayID</th><th scope=col>GSISID</th><th scope=col>Player_Activity_Derived</th><th scope=col>Turnover_Related</th><th scope=col>Primary_Impact_Type</th><th scope=col>Primary_Partner_GSISID</th><th scope=col>Primary_Partner_Activity_Derived</th><th scope=col>Friendly_Fire</th><th scope=col>X</th></tr></thead>\n",
       "<tbody>\n",
       "\t<tr><td> 5                     </td><td>2016                   </td><td>Pre                    </td><td>2                      </td><td>2016-08-11 00:00:00.000</td><td>Thursday               </td><td>Chicago                </td><td>19:00                  </td><td>Chicago Bears          </td><td>CHI                    </td><td>...                    </td><td>2016                   </td><td>3129                   </td><td>29492                  </td><td>Tackling               </td><td>No                     </td><td>Helmet-to-body         </td><td>33445                  </td><td>Tackling               </td><td>Yes                    </td><td>Soldier Field          </td></tr>\n",
       "\t<tr><td>21                     </td><td>2016                   </td><td>Pre                    </td><td>3                      </td><td>2016-08-20 00:00:00.000</td><td>Saturday               </td><td>Nashville              </td><td>14:00                  </td><td>Tennessee Titans       </td><td>TEN                    </td><td>...                    </td><td>2016                   </td><td>2587                   </td><td>32323                  </td><td>Blocked                </td><td>No                     </td><td>Helmet-to-helmet       </td><td>31930                  </td><td>Blocking               </td><td>No                     </td><td>Nissan Stadium         </td></tr>\n",
       "\t<tr><td>29                     </td><td>2016                   </td><td>Pre                    </td><td>3                      </td><td>2016-08-19 00:00:00.000</td><td>Friday                 </td><td>Landover               </td><td>19:30                  </td><td>Washington Redskins    </td><td>WAS                    </td><td>...                    </td><td>2016                   </td><td> 538                   </td><td>29343                  </td><td>Blocked                </td><td>No                     </td><td>Helmet-to-helmet       </td><td>31059                  </td><td>Blocking               </td><td>No                     </td><td>FedExField             </td></tr>\n",
       "\t<tr><td>45                     </td><td>2016                   </td><td>Pre                    </td><td>4                      </td><td>2016-08-27 00:00:00.000</td><td>Saturday               </td><td>East Rutherford        </td><td>19:30                  </td><td>New York Jets          </td><td>NYJ                    </td><td>...                    </td><td>2016                   </td><td>1212                   </td><td>27595                  </td><td>Tackled                </td><td>No                     </td><td>Helmet-to-helmet       </td><td>31950                  </td><td>Tackling               </td><td>No                     </td><td>MetLife                </td></tr>\n",
       "\t<tr><td>54                     </td><td>2016                   </td><td>Pre                    </td><td>5                      </td><td>2016-09-01 00:00:00.000</td><td>Thursday               </td><td>Charlotte              </td><td>19:30                  </td><td>Carolina Panthers      </td><td>CAR                    </td><td>...                    </td><td>2016                   </td><td>1045                   </td><td>32410                  </td><td>Blocking               </td><td>No                     </td><td>Helmet-to-body         </td><td>23259                  </td><td>Blocked                </td><td>No                     </td><td>Bank of America Stadium</td></tr>\n",
       "\t<tr><td>60                     </td><td>2016                   </td><td>Pre                    </td><td>5                      </td><td>2016-09-01 00:00:00.000</td><td>Thursday               </td><td>Detroit                </td><td>19:30                  </td><td>Detroit Lions          </td><td>DET                    </td><td>...                    </td><td>2016                   </td><td> 905                   </td><td>32444                  </td><td>Blocked                </td><td>No                     </td><td>Helmet-to-body         </td><td>31756                  </td><td>Blocked                </td><td>Yes                    </td><td>Ford Field             </td></tr>\n",
       "</tbody>\n",
       "</table>\n"
      ],
      "text/latex": [
       "\\begin{tabular}{r|lllllllllllllllllllllllllllll}\n",
       " GameKey & Season\\_Year.x & Season\\_Type & Week & Game\\_Date & Game\\_Day & Game\\_Site & Start\\_Time & Home\\_Team & HomeTeamCode & ... & Season\\_Year.y & PlayID & GSISID & Player\\_Activity\\_Derived & Turnover\\_Related & Primary\\_Impact\\_Type & Primary\\_Partner\\_GSISID & Primary\\_Partner\\_Activity\\_Derived & Friendly\\_Fire & X\\\\\n",
       "\\hline\n",
       "\t  5                      & 2016                    & Pre                     & 2                       & 2016-08-11 00:00:00.000 & Thursday                & Chicago                 & 19:00                   & Chicago Bears           & CHI                     & ...                     & 2016                    & 3129                    & 29492                   & Tackling                & No                      & Helmet-to-body          & 33445                   & Tackling                & Yes                     & Soldier Field          \\\\\n",
       "\t 21                      & 2016                    & Pre                     & 3                       & 2016-08-20 00:00:00.000 & Saturday                & Nashville               & 14:00                   & Tennessee Titans        & TEN                     & ...                     & 2016                    & 2587                    & 32323                   & Blocked                 & No                      & Helmet-to-helmet        & 31930                   & Blocking                & No                      & Nissan Stadium         \\\\\n",
       "\t 29                      & 2016                    & Pre                     & 3                       & 2016-08-19 00:00:00.000 & Friday                  & Landover                & 19:30                   & Washington Redskins     & WAS                     & ...                     & 2016                    &  538                    & 29343                   & Blocked                 & No                      & Helmet-to-helmet        & 31059                   & Blocking                & No                      & FedExField             \\\\\n",
       "\t 45                      & 2016                    & Pre                     & 4                       & 2016-08-27 00:00:00.000 & Saturday                & East Rutherford         & 19:30                   & New York Jets           & NYJ                     & ...                     & 2016                    & 1212                    & 27595                   & Tackled                 & No                      & Helmet-to-helmet        & 31950                   & Tackling                & No                      & MetLife                \\\\\n",
       "\t 54                      & 2016                    & Pre                     & 5                       & 2016-09-01 00:00:00.000 & Thursday                & Charlotte               & 19:30                   & Carolina Panthers       & CAR                     & ...                     & 2016                    & 1045                    & 32410                   & Blocking                & No                      & Helmet-to-body          & 23259                   & Blocked                 & No                      & Bank of America Stadium\\\\\n",
       "\t 60                      & 2016                    & Pre                     & 5                       & 2016-09-01 00:00:00.000 & Thursday                & Detroit                 & 19:30                   & Detroit Lions           & DET                     & ...                     & 2016                    &  905                    & 32444                   & Blocked                 & No                      & Helmet-to-body          & 31756                   & Blocked                 & Yes                     & Ford Field             \\\\\n",
       "\\end{tabular}\n"
      ],
      "text/markdown": [
       "\n",
       "GameKey | Season_Year.x | Season_Type | Week | Game_Date | Game_Day | Game_Site | Start_Time | Home_Team | HomeTeamCode | ... | Season_Year.y | PlayID | GSISID | Player_Activity_Derived | Turnover_Related | Primary_Impact_Type | Primary_Partner_GSISID | Primary_Partner_Activity_Derived | Friendly_Fire | X | \n",
       "|---|---|---|---|---|---|\n",
       "|  5                      | 2016                    | Pre                     | 2                       | 2016-08-11 00:00:00.000 | Thursday                | Chicago                 | 19:00                   | Chicago Bears           | CHI                     | ...                     | 2016                    | 3129                    | 29492                   | Tackling                | No                      | Helmet-to-body          | 33445                   | Tackling                | Yes                     | Soldier Field           | \n",
       "| 21                      | 2016                    | Pre                     | 3                       | 2016-08-20 00:00:00.000 | Saturday                | Nashville               | 14:00                   | Tennessee Titans        | TEN                     | ...                     | 2016                    | 2587                    | 32323                   | Blocked                 | No                      | Helmet-to-helmet        | 31930                   | Blocking                | No                      | Nissan Stadium          | \n",
       "| 29                      | 2016                    | Pre                     | 3                       | 2016-08-19 00:00:00.000 | Friday                  | Landover                | 19:30                   | Washington Redskins     | WAS                     | ...                     | 2016                    |  538                    | 29343                   | Blocked                 | No                      | Helmet-to-helmet        | 31059                   | Blocking                | No                      | FedExField              | \n",
       "| 45                      | 2016                    | Pre                     | 4                       | 2016-08-27 00:00:00.000 | Saturday                | East Rutherford         | 19:30                   | New York Jets           | NYJ                     | ...                     | 2016                    | 1212                    | 27595                   | Tackled                 | No                      | Helmet-to-helmet        | 31950                   | Tackling                | No                      | MetLife                 | \n",
       "| 54                      | 2016                    | Pre                     | 5                       | 2016-09-01 00:00:00.000 | Thursday                | Charlotte               | 19:30                   | Carolina Panthers       | CAR                     | ...                     | 2016                    | 1045                    | 32410                   | Blocking                | No                      | Helmet-to-body          | 23259                   | Blocked                 | No                      | Bank of America Stadium | \n",
       "| 60                      | 2016                    | Pre                     | 5                       | 2016-09-01 00:00:00.000 | Thursday                | Detroit                 | 19:30                   | Detroit Lions           | DET                     | ...                     | 2016                    |  905                    | 32444                   | Blocked                 | No                      | Helmet-to-body          | 31756                   | Blocked                 | Yes                     | Ford Field              | \n",
       "\n",
       "\n"
      ],
      "text/plain": [
       "  GameKey Season_Year.x Season_Type Week Game_Date               Game_Day\n",
       "1  5      2016          Pre         2    2016-08-11 00:00:00.000 Thursday\n",
       "2 21      2016          Pre         3    2016-08-20 00:00:00.000 Saturday\n",
       "3 29      2016          Pre         3    2016-08-19 00:00:00.000 Friday  \n",
       "4 45      2016          Pre         4    2016-08-27 00:00:00.000 Saturday\n",
       "5 54      2016          Pre         5    2016-09-01 00:00:00.000 Thursday\n",
       "6 60      2016          Pre         5    2016-09-01 00:00:00.000 Thursday\n",
       "  Game_Site       Start_Time Home_Team           HomeTeamCode ... Season_Year.y\n",
       "1 Chicago         19:00      Chicago Bears       CHI          ... 2016         \n",
       "2 Nashville       14:00      Tennessee Titans    TEN          ... 2016         \n",
       "3 Landover        19:30      Washington Redskins WAS          ... 2016         \n",
       "4 East Rutherford 19:30      New York Jets       NYJ          ... 2016         \n",
       "5 Charlotte       19:30      Carolina Panthers   CAR          ... 2016         \n",
       "6 Detroit         19:30      Detroit Lions       DET          ... 2016         \n",
       "  PlayID GSISID Player_Activity_Derived Turnover_Related Primary_Impact_Type\n",
       "1 3129   29492  Tackling                No               Helmet-to-body     \n",
       "2 2587   32323  Blocked                 No               Helmet-to-helmet   \n",
       "3  538   29343  Blocked                 No               Helmet-to-helmet   \n",
       "4 1212   27595  Tackled                 No               Helmet-to-helmet   \n",
       "5 1045   32410  Blocking                No               Helmet-to-body     \n",
       "6  905   32444  Blocked                 No               Helmet-to-body     \n",
       "  Primary_Partner_GSISID Primary_Partner_Activity_Derived Friendly_Fire\n",
       "1 33445                  Tackling                         Yes          \n",
       "2 31930                  Blocking                         No           \n",
       "3 31059                  Blocking                         No           \n",
       "4 31950                  Tackling                         No           \n",
       "5 23259                  Blocked                          No           \n",
       "6 31756                  Blocked                          Yes          \n",
       "  X                      \n",
       "1 Soldier Field          \n",
       "2 Nissan Stadium         \n",
       "3 FedExField             \n",
       "4 MetLife                \n",
       "5 Bank of America Stadium\n",
       "6 Ford Field             "
      ]
     },
     "metadata": {},
     "output_type": "display_data"
    }
   ],
   "source": [
    "adv_gamedata <- merge(game_data,vid_rev, by=\"GameKey\", all.y=TRUE)\n",
    "adv_gamedata$Primary_Partner_Activity_Derived[adv_gamedata$Primary_Partner_Activity_Derived==\"\"] <- \"NA\"\n",
    "head(adv_gamedata)"
   ]
  },
  {
   "cell_type": "markdown",
   "metadata": {},
   "source": [
    "### Daily concussion rates"
   ]
  },
  {
   "cell_type": "code",
   "execution_count": 13,
   "metadata": {
    "scrolled": false
   },
   "outputs": [
    {
     "name": "stderr",
     "output_type": "stream",
     "text": [
      "Warning message:\n",
      "\"package 'bindrcpp' was built under R version 3.5.2\""
     ]
    },
    {
     "data": {
      "text/html": [
       "<table>\n",
       "<thead><tr><th scope=col>Game_Day</th><th scope=col>Total_Count</th><th scope=col>Injury_Count</th><th scope=col>Mean</th></tr></thead>\n",
       "<tbody>\n",
       "\t<tr><td>Thursday  </td><td> 93       </td><td>11        </td><td>0.10576923</td></tr>\n",
       "\t<tr><td>Saturday  </td><td> 63       </td><td> 5        </td><td>0.07352941</td></tr>\n",
       "\t<tr><td>Monday    </td><td> 36       </td><td> 2        </td><td>0.05263158</td></tr>\n",
       "\t<tr><td>Friday    </td><td> 19       </td><td> 1        </td><td>0.05000000</td></tr>\n",
       "\t<tr><td>Sunday    </td><td>453       </td><td>18        </td><td>0.03821656</td></tr>\n",
       "\t<tr><td>Wednesday </td><td>  2       </td><td> 0        </td><td>0.00000000</td></tr>\n",
       "</tbody>\n",
       "</table>\n"
      ],
      "text/latex": [
       "\\begin{tabular}{r|llll}\n",
       " Game\\_Day & Total\\_Count & Injury\\_Count & Mean\\\\\n",
       "\\hline\n",
       "\t Thursday   &  93        & 11         & 0.10576923\\\\\n",
       "\t Saturday   &  63        &  5         & 0.07352941\\\\\n",
       "\t Monday     &  36        &  2         & 0.05263158\\\\\n",
       "\t Friday     &  19        &  1         & 0.05000000\\\\\n",
       "\t Sunday     & 453        & 18         & 0.03821656\\\\\n",
       "\t Wednesday  &   2        &  0         & 0.00000000\\\\\n",
       "\\end{tabular}\n"
      ],
      "text/markdown": [
       "\n",
       "Game_Day | Total_Count | Injury_Count | Mean | \n",
       "|---|---|---|---|---|---|\n",
       "| Thursday   |  93        | 11         | 0.10576923 | \n",
       "| Saturday   |  63        |  5         | 0.07352941 | \n",
       "| Monday     |  36        |  2         | 0.05263158 | \n",
       "| Friday     |  19        |  1         | 0.05000000 | \n",
       "| Sunday     | 453        | 18         | 0.03821656 | \n",
       "| Wednesday  |   2        |  0         | 0.00000000 | \n",
       "\n",
       "\n"
      ],
      "text/plain": [
       "  Game_Day  Total_Count Injury_Count Mean      \n",
       "1 Thursday   93         11           0.10576923\n",
       "2 Saturday   63          5           0.07352941\n",
       "3 Monday     36          2           0.05263158\n",
       "4 Friday     19          1           0.05000000\n",
       "5 Sunday    453         18           0.03821656\n",
       "6 Wednesday   2          0           0.00000000"
      ]
     },
     "metadata": {},
     "output_type": "display_data"
    }
   ],
   "source": [
    "adgd_total <- game_data %>% group_by(Game_Day) %>% dplyr::summarize(Total_Count = n())\n",
    "adgd_pivot <- adv_gamedata %>% group_by(Game_Day) %>% dplyr::summarize(Injury_Count = n())\n",
    "adgd <- merge(adgd_total,adgd_pivot, by=\"Game_Day\", all=TRUE)\n",
    "adgd[is.na(adgd)] <- 0\n",
    "adgdsort <- adgd %>% group_by(Total_Count,Injury_Count)%>%\n",
    "  mutate(\"Mean\"=Injury_Count/(Total_Count+Injury_Count))\n",
    "arrange(adgdsort, desc(Mean))"
   ]
  },
  {
   "cell_type": "markdown",
   "metadata": {},
   "source": [
    "Observation: Chances of Injury on a Thursday are high but very low on a Sunday. "
   ]
  },
  {
   "cell_type": "markdown",
   "metadata": {},
   "source": [
    "Let's see if stadium type has anything to do with punt related concussions."
   ]
  },
  {
   "cell_type": "markdown",
   "metadata": {},
   "source": [
    "### Concussion rates by stadium type"
   ]
  },
  {
   "cell_type": "code",
   "execution_count": 14,
   "metadata": {},
   "outputs": [
    {
     "data": {
      "text/html": [
       "<table>\n",
       "<thead><tr><th scope=col>StadiumType</th><th scope=col>Total_Count</th></tr></thead>\n",
       "<tbody>\n",
       "\t<tr><td>Closed Dome                 </td><td>  2                         </td></tr>\n",
       "\t<tr><td>Dome                        </td><td> 21                         </td></tr>\n",
       "\t<tr><td>Dome, closed                </td><td>  2                         </td></tr>\n",
       "\t<tr><td>Domed, closed               </td><td>  2                         </td></tr>\n",
       "\t<tr><td>Heinz Field                 </td><td>  1                         </td></tr>\n",
       "\t<tr><td>Indoor                      </td><td> 42                         </td></tr>\n",
       "\t<tr><td>Indoor, fixed roof          </td><td>  1                         </td></tr>\n",
       "\t<tr><td>Indoor, Fixed Roof          </td><td>  1                         </td></tr>\n",
       "\t<tr><td>Indoor, Non-Retractable Dome</td><td>  1                         </td></tr>\n",
       "\t<tr><td>Indoor, non-retractable roof</td><td>  2                         </td></tr>\n",
       "\t<tr><td>Indoor, Open Roof           </td><td>  1                         </td></tr>\n",
       "\t<tr><td>Indoor, Roof Closed         </td><td>  1                         </td></tr>\n",
       "\t<tr><td>Indoors                     </td><td> 46                         </td></tr>\n",
       "\t<tr><td>Indoors (Domed)             </td><td>  2                         </td></tr>\n",
       "\t<tr><td>Open                        </td><td> 20                         </td></tr>\n",
       "\t<tr><td>Oudoor                      </td><td>  1                         </td></tr>\n",
       "\t<tr><td>Ourdoor                     </td><td>  1                         </td></tr>\n",
       "\t<tr><td>Outddors                    </td><td>  1                         </td></tr>\n",
       "\t<tr><td>outdoor                     </td><td>  4                         </td></tr>\n",
       "\t<tr><td>Outdoor                     </td><td>348                         </td></tr>\n",
       "\t<tr><td>Outdoor Retr Roof-Open      </td><td>  1                         </td></tr>\n",
       "\t<tr><td>Outdoors                    </td><td> 81                         </td></tr>\n",
       "\t<tr><td>Outdoors                    </td><td>  2                         </td></tr>\n",
       "\t<tr><td>Outdor                      </td><td>  1                         </td></tr>\n",
       "\t<tr><td>Outside                     </td><td>  1                         </td></tr>\n",
       "\t<tr><td>Retr. Roof-Closed           </td><td>  4                         </td></tr>\n",
       "\t<tr><td>Retr. Roof-Open             </td><td>  2                         </td></tr>\n",
       "\t<tr><td>Retr. roof - closed         </td><td>  1                         </td></tr>\n",
       "\t<tr><td>Retr. Roof - Closed         </td><td>  9                         </td></tr>\n",
       "\t<tr><td>Retr. Roof - Open           </td><td>  3                         </td></tr>\n",
       "\t<tr><td>Retr. Roof Closed           </td><td>  1                         </td></tr>\n",
       "\t<tr><td>Retractable Roof            </td><td> 21                         </td></tr>\n",
       "\t<tr><td>Turf                        </td><td>  1                         </td></tr>\n",
       "</tbody>\n",
       "</table>\n"
      ],
      "text/latex": [
       "\\begin{tabular}{r|ll}\n",
       " StadiumType & Total\\_Count\\\\\n",
       "\\hline\n",
       "\t Closed Dome                  &   2                         \\\\\n",
       "\t Dome                         &  21                         \\\\\n",
       "\t Dome, closed                 &   2                         \\\\\n",
       "\t Domed, closed                &   2                         \\\\\n",
       "\t Heinz Field                  &   1                         \\\\\n",
       "\t Indoor                       &  42                         \\\\\n",
       "\t Indoor, fixed roof           &   1                         \\\\\n",
       "\t Indoor, Fixed Roof           &   1                         \\\\\n",
       "\t Indoor, Non-Retractable Dome &   1                         \\\\\n",
       "\t Indoor, non-retractable roof &   2                         \\\\\n",
       "\t Indoor, Open Roof            &   1                         \\\\\n",
       "\t Indoor, Roof Closed          &   1                         \\\\\n",
       "\t Indoors                      &  46                         \\\\\n",
       "\t Indoors (Domed)              &   2                         \\\\\n",
       "\t Open                         &  20                         \\\\\n",
       "\t Oudoor                       &   1                         \\\\\n",
       "\t Ourdoor                      &   1                         \\\\\n",
       "\t Outddors                     &   1                         \\\\\n",
       "\t outdoor                      &   4                         \\\\\n",
       "\t Outdoor                      & 348                         \\\\\n",
       "\t Outdoor Retr Roof-Open       &   1                         \\\\\n",
       "\t Outdoors                     &  81                         \\\\\n",
       "\t Outdoors                     &   2                         \\\\\n",
       "\t Outdor                       &   1                         \\\\\n",
       "\t Outside                      &   1                         \\\\\n",
       "\t Retr. Roof-Closed            &   4                         \\\\\n",
       "\t Retr. Roof-Open              &   2                         \\\\\n",
       "\t Retr. roof - closed          &   1                         \\\\\n",
       "\t Retr. Roof - Closed          &   9                         \\\\\n",
       "\t Retr. Roof - Open            &   3                         \\\\\n",
       "\t Retr. Roof Closed            &   1                         \\\\\n",
       "\t Retractable Roof             &  21                         \\\\\n",
       "\t Turf                         &   1                         \\\\\n",
       "\\end{tabular}\n"
      ],
      "text/markdown": [
       "\n",
       "StadiumType | Total_Count | \n",
       "|---|---|---|---|---|---|---|---|---|---|---|---|---|---|---|---|---|---|---|---|---|---|---|---|---|---|---|---|---|---|---|---|---|\n",
       "| Closed Dome                  |   2                          | \n",
       "| Dome                         |  21                          | \n",
       "| Dome, closed                 |   2                          | \n",
       "| Domed, closed                |   2                          | \n",
       "| Heinz Field                  |   1                          | \n",
       "| Indoor                       |  42                          | \n",
       "| Indoor, fixed roof           |   1                          | \n",
       "| Indoor, Fixed Roof           |   1                          | \n",
       "| Indoor, Non-Retractable Dome |   1                          | \n",
       "| Indoor, non-retractable roof |   2                          | \n",
       "| Indoor, Open Roof            |   1                          | \n",
       "| Indoor, Roof Closed          |   1                          | \n",
       "| Indoors                      |  46                          | \n",
       "| Indoors (Domed)              |   2                          | \n",
       "| Open                         |  20                          | \n",
       "| Oudoor                       |   1                          | \n",
       "| Ourdoor                      |   1                          | \n",
       "| Outddors                     |   1                          | \n",
       "| outdoor                      |   4                          | \n",
       "| Outdoor                      | 348                          | \n",
       "| Outdoor Retr Roof-Open       |   1                          | \n",
       "| Outdoors                     |  81                          | \n",
       "| Outdoors                     |   2                          | \n",
       "| Outdor                       |   1                          | \n",
       "| Outside                      |   1                          | \n",
       "| Retr. Roof-Closed            |   4                          | \n",
       "| Retr. Roof-Open              |   2                          | \n",
       "| Retr. roof - closed          |   1                          | \n",
       "| Retr. Roof - Closed          |   9                          | \n",
       "| Retr. Roof - Open            |   3                          | \n",
       "| Retr. Roof Closed            |   1                          | \n",
       "| Retractable Roof             |  21                          | \n",
       "| Turf                         |   1                          | \n",
       "\n",
       "\n"
      ],
      "text/plain": [
       "   StadiumType                  Total_Count\n",
       "1  Closed Dome                    2        \n",
       "2  Dome                          21        \n",
       "3  Dome, closed                   2        \n",
       "4  Domed, closed                  2        \n",
       "5  Heinz Field                    1        \n",
       "6  Indoor                        42        \n",
       "7  Indoor, fixed roof             1        \n",
       "8  Indoor, Fixed Roof             1        \n",
       "9  Indoor, Non-Retractable Dome   1        \n",
       "10 Indoor, non-retractable roof   2        \n",
       "11 Indoor, Open Roof              1        \n",
       "12 Indoor, Roof Closed            1        \n",
       "13 Indoors                       46        \n",
       "14 Indoors (Domed)                2        \n",
       "15 Open                          20        \n",
       "16 Oudoor                         1        \n",
       "17 Ourdoor                        1        \n",
       "18 Outddors                       1        \n",
       "19 outdoor                        4        \n",
       "20 Outdoor                      348        \n",
       "21 Outdoor Retr Roof-Open         1        \n",
       "22 Outdoors                      81        \n",
       "23 Outdoors                       2        \n",
       "24 Outdor                         1        \n",
       "25 Outside                        1        \n",
       "26 Retr. Roof-Closed              4        \n",
       "27 Retr. Roof-Open                2        \n",
       "28 Retr. roof - closed            1        \n",
       "29 Retr. Roof - Closed            9        \n",
       "30 Retr. Roof - Open              3        \n",
       "31 Retr. Roof Closed              1        \n",
       "32 Retractable Roof              21        \n",
       "33 Turf                           1        "
      ]
     },
     "metadata": {},
     "output_type": "display_data"
    },
    {
     "data": {
      "text/html": [
       "<table>\n",
       "<thead><tr><th scope=col>StadiumType</th><th scope=col>Injury_Count</th></tr></thead>\n",
       "<tbody>\n",
       "\t<tr><td>Dome               </td><td> 1                 </td></tr>\n",
       "\t<tr><td>Indoors            </td><td> 2                 </td></tr>\n",
       "\t<tr><td>Open               </td><td> 1                 </td></tr>\n",
       "\t<tr><td>Outdoor            </td><td>20                 </td></tr>\n",
       "\t<tr><td>Outdoors           </td><td> 6                 </td></tr>\n",
       "\t<tr><td>Outdoors           </td><td> 1                 </td></tr>\n",
       "\t<tr><td>Outside            </td><td> 1                 </td></tr>\n",
       "\t<tr><td>Retr. Roof - Closed</td><td> 2                 </td></tr>\n",
       "\t<tr><td>Retractable Roof   </td><td> 2                 </td></tr>\n",
       "</tbody>\n",
       "</table>\n"
      ],
      "text/latex": [
       "\\begin{tabular}{r|ll}\n",
       " StadiumType & Injury\\_Count\\\\\n",
       "\\hline\n",
       "\t Dome                &  1                 \\\\\n",
       "\t Indoors             &  2                 \\\\\n",
       "\t Open                &  1                 \\\\\n",
       "\t Outdoor             & 20                 \\\\\n",
       "\t Outdoors            &  6                 \\\\\n",
       "\t Outdoors            &  1                 \\\\\n",
       "\t Outside             &  1                 \\\\\n",
       "\t Retr. Roof - Closed &  2                 \\\\\n",
       "\t Retractable Roof    &  2                 \\\\\n",
       "\\end{tabular}\n"
      ],
      "text/markdown": [
       "\n",
       "StadiumType | Injury_Count | \n",
       "|---|---|---|---|---|---|---|---|---|\n",
       "| Dome                |  1                  | \n",
       "| Indoors             |  2                  | \n",
       "| Open                |  1                  | \n",
       "| Outdoor             | 20                  | \n",
       "| Outdoors            |  6                  | \n",
       "| Outdoors            |  1                  | \n",
       "| Outside             |  1                  | \n",
       "| Retr. Roof - Closed |  2                  | \n",
       "| Retractable Roof    |  2                  | \n",
       "\n",
       "\n"
      ],
      "text/plain": [
       "  StadiumType         Injury_Count\n",
       "1 Dome                 1          \n",
       "2 Indoors              2          \n",
       "3 Open                 1          \n",
       "4 Outdoor             20          \n",
       "5 Outdoors             6          \n",
       "6 Outdoors             1          \n",
       "7 Outside              1          \n",
       "8 Retr. Roof - Closed  2          \n",
       "9 Retractable Roof     2          "
      ]
     },
     "metadata": {},
     "output_type": "display_data"
    }
   ],
   "source": [
    "adgd_stad_type <- game_data %>% group_by(StadiumType) %>% dplyr::summarize(Total_Count = n())\n",
    "#removing first row as it doesn't specify any type\n",
    "adgd_stad_type <- adgd_stad_type[-c(1), ]\n",
    "adgd_stad_type\n",
    "adgd_stad_pivot <- adv_gamedata %>% group_by(StadiumType) %>% dplyr::summarize(Injury_Count = n())\n",
    "adgd_stad_pivot <- adgd_stad_pivot[-c(1), ]\n",
    "adgd_stad_pivot"
   ]
  },
  {
   "cell_type": "markdown",
   "metadata": {},
   "source": [
    "The data is very noisy, yet we can see here that injuries occur more on outdoor Stadium Types. "
   ]
  },
  {
   "cell_type": "markdown",
   "metadata": {},
   "source": [
    "Let's see if temperature has anything to do with punt related concussions."
   ]
  },
  {
   "cell_type": "markdown",
   "metadata": {},
   "source": [
    "### Concussion rates by Temperature\n",
    "- It can be seen that colder games are more likely to result in concussions."
   ]
  },
  {
   "cell_type": "code",
   "execution_count": 15,
   "metadata": {},
   "outputs": [
    {
     "name": "stderr",
     "output_type": "stream",
     "text": [
      "Warning message:\n",
      "\"Removed 66 rows containing non-finite values (stat_density).\""
     ]
    },
    {
     "data": {},
     "metadata": {},
     "output_type": "display_data"
    },
    {
     "data": {
      "image/png": "[encoded data removed]",
      "text/plain": [
       "plot without title"
      ]
     },
     "metadata": {},
     "output_type": "display_data"
    }
   ],
   "source": [
    "ggplot(game_data, aes(x = Temperature, fill = injury)) + geom_density(alpha=0.5, aes(fill=factor(injury))) + labs(title=\"Density of concussion, given Temperature\") +\n",
    "scale_x_continuous(breaks = scales::pretty_breaks(n = 10))"
   ]
  },
  {
   "cell_type": "markdown",
   "metadata": {},
   "source": [
    "## Let's explore general formation of the team"
   ]
  },
  {
   "cell_type": "code",
   "execution_count": 16,
   "metadata": {},
   "outputs": [
    {
     "data": {
      "text/html": [
       "<table>\n",
       "<thead><tr><th scope=col>Season_Year</th><th scope=col>GameKey</th><th scope=col>PlayID</th><th scope=col>GSISID</th><th scope=col>Role</th></tr></thead>\n",
       "<tbody>\n",
       "\t<tr><td>2016 </td><td>2    </td><td>191  </td><td>26280</td><td>VR   </td></tr>\n",
       "\t<tr><td>2016 </td><td>2    </td><td>191  </td><td>27787</td><td>PRG  </td></tr>\n",
       "\t<tr><td>2016 </td><td>2    </td><td>191  </td><td>28394</td><td>PLS  </td></tr>\n",
       "\t<tr><td>2016 </td><td>2    </td><td>191  </td><td>28795</td><td>PPR  </td></tr>\n",
       "\t<tr><td>2016 </td><td>2    </td><td>191  </td><td>29676</td><td>VL   </td></tr>\n",
       "\t<tr><td>2016 </td><td>2    </td><td>191  </td><td>29647</td><td>PDL1 </td></tr>\n",
       "</tbody>\n",
       "</table>\n"
      ],
      "text/latex": [
       "\\begin{tabular}{r|lllll}\n",
       " Season\\_Year & GameKey & PlayID & GSISID & Role\\\\\n",
       "\\hline\n",
       "\t 2016  & 2     & 191   & 26280 & VR   \\\\\n",
       "\t 2016  & 2     & 191   & 27787 & PRG  \\\\\n",
       "\t 2016  & 2     & 191   & 28394 & PLS  \\\\\n",
       "\t 2016  & 2     & 191   & 28795 & PPR  \\\\\n",
       "\t 2016  & 2     & 191   & 29676 & VL   \\\\\n",
       "\t 2016  & 2     & 191   & 29647 & PDL1 \\\\\n",
       "\\end{tabular}\n"
      ],
      "text/markdown": [
       "\n",
       "Season_Year | GameKey | PlayID | GSISID | Role | \n",
       "|---|---|---|---|---|---|\n",
       "| 2016  | 2     | 191   | 26280 | VR    | \n",
       "| 2016  | 2     | 191   | 27787 | PRG   | \n",
       "| 2016  | 2     | 191   | 28394 | PLS   | \n",
       "| 2016  | 2     | 191   | 28795 | PPR   | \n",
       "| 2016  | 2     | 191   | 29676 | VL    | \n",
       "| 2016  | 2     | 191   | 29647 | PDL1  | \n",
       "\n",
       "\n"
      ],
      "text/plain": [
       "  Season_Year GameKey PlayID GSISID Role\n",
       "1 2016        2       191    26280  VR  \n",
       "2 2016        2       191    27787  PRG \n",
       "3 2016        2       191    28394  PLS \n",
       "4 2016        2       191    28795  PPR \n",
       "5 2016        2       191    29676  VL  \n",
       "6 2016        2       191    29647  PDL1"
      ]
     },
     "metadata": {},
     "output_type": "display_data"
    },
    {
     "name": "stdout",
     "output_type": "stream",
     "text": [
      "'data.frame':\t146573 obs. of  5 variables:\n",
      " $ Season_Year: int  2016 2016 2016 2016 2016 2016 2016 2016 2016 2016 ...\n",
      " $ GameKey    : int  2 2 2 2 2 2 2 2 2 2 ...\n",
      " $ PlayID     : int  191 191 191 191 191 191 191 191 191 191 ...\n",
      " $ GSISID     : int  26280 27787 28394 28795 29676 29647 28872 28958 30543 29764 ...\n",
      " $ Role       : Factor w/ 52 levels \"GL\",\"GLi\",\"GLo\",..: 50 44 34 40 47 9 7 23 24 46 ...\n"
     ]
    },
    {
     "data": {
      "text/plain": [
       "  Season_Year      GameKey          PlayID         GSISID           Role       \n",
       " Min.   :2016   Min.   :  2.0   Min.   :  76   Min.   :19714   PR     :  6698  \n",
       " 1st Qu.:2016   1st Qu.:164.0   1st Qu.: 958   1st Qu.:29643   PDL1   :  6673  \n",
       " Median :2017   Median :339.0   Median :1980   Median :31411   PDR1   :  6670  \n",
       " Mean   :2017   Mean   :332.4   Mean   :2014   Mean   :30911   PRG    :  6669  \n",
       " 3rd Qu.:2017   3rd Qu.:500.0   3rd Qu.:3000   3rd Qu.:32668   P      :  6668  \n",
       " Max.   :2017   Max.   :665.0   Max.   :5285   Max.   :34050   PLG    :  6667  \n",
       "                                                               (Other):106528  "
      ]
     },
     "metadata": {},
     "output_type": "display_data"
    }
   ],
   "source": [
    "player_role <- read.csv('play_player_role_data.csv')\n",
    "head(player_role)\n",
    "str(player_role)\n",
    "summary(player_role)"
   ]
  },
  {
   "cell_type": "code",
   "execution_count": 17,
   "metadata": {
    "scrolled": false
   },
   "outputs": [
    {
     "data": {
      "text/html": [
       "<table>\n",
       "<thead><tr><th scope=col>Season_Year</th><th scope=col>GameKey</th><th scope=col>PlayID</th><th scope=col>GSISID</th><th scope=col>Role</th><th scope=col>game_play_id</th></tr></thead>\n",
       "<tbody>\n",
       "\t<tr><td>2016 </td><td>2    </td><td>191  </td><td>26280</td><td>VR   </td><td>2_191</td></tr>\n",
       "\t<tr><td>2016 </td><td>2    </td><td>191  </td><td>27787</td><td>PRG  </td><td>2_191</td></tr>\n",
       "\t<tr><td>2016 </td><td>2    </td><td>191  </td><td>28394</td><td>PLS  </td><td>2_191</td></tr>\n",
       "\t<tr><td>2016 </td><td>2    </td><td>191  </td><td>28795</td><td>PPR  </td><td>2_191</td></tr>\n",
       "\t<tr><td>2016 </td><td>2    </td><td>191  </td><td>29676</td><td>VL   </td><td>2_191</td></tr>\n",
       "\t<tr><td>2016 </td><td>2    </td><td>191  </td><td>29647</td><td>PDL1 </td><td>2_191</td></tr>\n",
       "</tbody>\n",
       "</table>\n"
      ],
      "text/latex": [
       "\\begin{tabular}{r|llllll}\n",
       " Season\\_Year & GameKey & PlayID & GSISID & Role & game\\_play\\_id\\\\\n",
       "\\hline\n",
       "\t 2016    & 2       & 191     & 26280   & VR      & 2\\_191\\\\\n",
       "\t 2016    & 2       & 191     & 27787   & PRG     & 2\\_191\\\\\n",
       "\t 2016    & 2       & 191     & 28394   & PLS     & 2\\_191\\\\\n",
       "\t 2016    & 2       & 191     & 28795   & PPR     & 2\\_191\\\\\n",
       "\t 2016    & 2       & 191     & 29676   & VL      & 2\\_191\\\\\n",
       "\t 2016    & 2       & 191     & 29647   & PDL1    & 2\\_191\\\\\n",
       "\\end{tabular}\n"
      ],
      "text/markdown": [
       "\n",
       "Season_Year | GameKey | PlayID | GSISID | Role | game_play_id | \n",
       "|---|---|---|---|---|---|\n",
       "| 2016  | 2     | 191   | 26280 | VR    | 2_191 | \n",
       "| 2016  | 2     | 191   | 27787 | PRG   | 2_191 | \n",
       "| 2016  | 2     | 191   | 28394 | PLS   | 2_191 | \n",
       "| 2016  | 2     | 191   | 28795 | PPR   | 2_191 | \n",
       "| 2016  | 2     | 191   | 29676 | VL    | 2_191 | \n",
       "| 2016  | 2     | 191   | 29647 | PDL1  | 2_191 | \n",
       "\n",
       "\n"
      ],
      "text/plain": [
       "  Season_Year GameKey PlayID GSISID Role game_play_id\n",
       "1 2016        2       191    26280  VR   2_191       \n",
       "2 2016        2       191    27787  PRG  2_191       \n",
       "3 2016        2       191    28394  PLS  2_191       \n",
       "4 2016        2       191    28795  PPR  2_191       \n",
       "5 2016        2       191    29676  VL   2_191       \n",
       "6 2016        2       191    29647  PDL1 2_191       "
      ]
     },
     "metadata": {},
     "output_type": "display_data"
    }
   ],
   "source": [
    "vid_rev$game_play_id <- paste(vid_rev$GameKey,vid_rev$PlayID,sep=\"_\")\n",
    "player_role$game_play_id <- paste(player_role$GameKey,player_role$PlayID,sep=\"_\")\n",
    "head(player_role)\n"
   ]
  },
  {
   "cell_type": "code",
   "execution_count": 20,
   "metadata": {
    "scrolled": true
   },
   "outputs": [
    {
     "data": {
      "text/html": [
       "<table>\n",
       "<thead><tr><th scope=col>Season_Year</th><th scope=col>GameKey</th><th scope=col>PlayID</th><th scope=col>GSISID</th><th scope=col>Player_Activity_Derived</th><th scope=col>Turnover_Related</th><th scope=col>Primary_Impact_Type</th><th scope=col>Primary_Partner_GSISID</th><th scope=col>Primary_Partner_Activity_Derived</th><th scope=col>Friendly_Fire</th><th scope=col>X</th><th scope=col>game_play_id</th><th scope=col>game_play_gsid</th></tr></thead>\n",
       "<tbody>\n",
       "\t<tr><td>2016                   </td><td> 5                     </td><td>3129                   </td><td>29492                  </td><td>Tackling               </td><td>No                     </td><td>Helmet-to-body         </td><td>33445                  </td><td>Tackling               </td><td>Yes                    </td><td>Soldier Field          </td><td>5_3129                 </td><td>5_3129_29492           </td></tr>\n",
       "\t<tr><td>2016                   </td><td>21                     </td><td>2587                   </td><td>32323                  </td><td>Blocked                </td><td>No                     </td><td>Helmet-to-helmet       </td><td>31930                  </td><td>Blocking               </td><td>No                     </td><td>Nissan Stadium         </td><td>21_2587                </td><td>21_2587_32323          </td></tr>\n",
       "\t<tr><td>2016                   </td><td>29                     </td><td> 538                   </td><td>29343                  </td><td>Blocked                </td><td>No                     </td><td>Helmet-to-helmet       </td><td>31059                  </td><td>Blocking               </td><td>No                     </td><td>FedExField             </td><td>29_538                 </td><td>29_538_29343           </td></tr>\n",
       "\t<tr><td>2016                   </td><td>45                     </td><td>1212                   </td><td>27595                  </td><td>Tackled                </td><td>No                     </td><td>Helmet-to-helmet       </td><td>31950                  </td><td>Tackling               </td><td>No                     </td><td>MetLife                </td><td>45_1212                </td><td>45_1212_27595          </td></tr>\n",
       "\t<tr><td>2016                   </td><td>54                     </td><td>1045                   </td><td>32410                  </td><td>Blocking               </td><td>No                     </td><td>Helmet-to-body         </td><td>23259                  </td><td>Blocked                </td><td>No                     </td><td>Bank of America Stadium</td><td>54_1045                </td><td>54_1045_32410          </td></tr>\n",
       "\t<tr><td>2016                   </td><td>60                     </td><td> 905                   </td><td>32444                  </td><td>Blocked                </td><td>No                     </td><td>Helmet-to-body         </td><td>31756                  </td><td>Blocked                </td><td>Yes                    </td><td>Ford Field             </td><td>60_905                 </td><td>60_905_32444           </td></tr>\n",
       "</tbody>\n",
       "</table>\n"
      ],
      "text/latex": [
       "\\begin{tabular}{r|lllllllllllll}\n",
       " Season\\_Year & GameKey & PlayID & GSISID & Player\\_Activity\\_Derived & Turnover\\_Related & Primary\\_Impact\\_Type & Primary\\_Partner\\_GSISID & Primary\\_Partner\\_Activity\\_Derived & Friendly\\_Fire & X & game\\_play\\_id & game\\_play\\_gsid\\\\\n",
       "\\hline\n",
       "\t 2016                    &  5                      & 3129                    & 29492                   & Tackling                & No                      & Helmet-to-body          & 33445                   & Tackling                & Yes                     & Soldier Field           & 5\\_3129                & 5\\_3129\\_29492       \\\\\n",
       "\t 2016                    & 21                      & 2587                    & 32323                   & Blocked                 & No                      & Helmet-to-helmet        & 31930                   & Blocking                & No                      & Nissan Stadium          & 21\\_2587               & 21\\_2587\\_32323      \\\\\n",
       "\t 2016                    & 29                      &  538                    & 29343                   & Blocked                 & No                      & Helmet-to-helmet        & 31059                   & Blocking                & No                      & FedExField              & 29\\_538                & 29\\_538\\_29343       \\\\\n",
       "\t 2016                    & 45                      & 1212                    & 27595                   & Tackled                 & No                      & Helmet-to-helmet        & 31950                   & Tackling                & No                      & MetLife                 & 45\\_1212               & 45\\_1212\\_27595      \\\\\n",
       "\t 2016                    & 54                      & 1045                    & 32410                   & Blocking                & No                      & Helmet-to-body          & 23259                   & Blocked                 & No                      & Bank of America Stadium & 54\\_1045               & 54\\_1045\\_32410      \\\\\n",
       "\t 2016                    & 60                      &  905                    & 32444                   & Blocked                 & No                      & Helmet-to-body          & 31756                   & Blocked                 & Yes                     & Ford Field              & 60\\_905                & 60\\_905\\_32444       \\\\\n",
       "\\end{tabular}\n"
      ],
      "text/markdown": [
       "\n",
       "Season_Year | GameKey | PlayID | GSISID | Player_Activity_Derived | Turnover_Related | Primary_Impact_Type | Primary_Partner_GSISID | Primary_Partner_Activity_Derived | Friendly_Fire | X | game_play_id | game_play_gsid | \n",
       "|---|---|---|---|---|---|\n",
       "| 2016                    |  5                      | 3129                    | 29492                   | Tackling                | No                      | Helmet-to-body          | 33445                   | Tackling                | Yes                     | Soldier Field           | 5_3129                  | 5_3129_29492            | \n",
       "| 2016                    | 21                      | 2587                    | 32323                   | Blocked                 | No                      | Helmet-to-helmet        | 31930                   | Blocking                | No                      | Nissan Stadium          | 21_2587                 | 21_2587_32323           | \n",
       "| 2016                    | 29                      |  538                    | 29343                   | Blocked                 | No                      | Helmet-to-helmet        | 31059                   | Blocking                | No                      | FedExField              | 29_538                  | 29_538_29343            | \n",
       "| 2016                    | 45                      | 1212                    | 27595                   | Tackled                 | No                      | Helmet-to-helmet        | 31950                   | Tackling                | No                      | MetLife                 | 45_1212                 | 45_1212_27595           | \n",
       "| 2016                    | 54                      | 1045                    | 32410                   | Blocking                | No                      | Helmet-to-body          | 23259                   | Blocked                 | No                      | Bank of America Stadium | 54_1045                 | 54_1045_32410           | \n",
       "| 2016                    | 60                      |  905                    | 32444                   | Blocked                 | No                      | Helmet-to-body          | 31756                   | Blocked                 | Yes                     | Ford Field              | 60_905                  | 60_905_32444            | \n",
       "\n",
       "\n"
      ],
      "text/plain": [
       "  Season_Year GameKey PlayID GSISID Player_Activity_Derived Turnover_Related\n",
       "1 2016         5      3129   29492  Tackling                No              \n",
       "2 2016        21      2587   32323  Blocked                 No              \n",
       "3 2016        29       538   29343  Blocked                 No              \n",
       "4 2016        45      1212   27595  Tackled                 No              \n",
       "5 2016        54      1045   32410  Blocking                No              \n",
       "6 2016        60       905   32444  Blocked                 No              \n",
       "  Primary_Impact_Type Primary_Partner_GSISID Primary_Partner_Activity_Derived\n",
       "1 Helmet-to-body      33445                  Tackling                        \n",
       "2 Helmet-to-helmet    31930                  Blocking                        \n",
       "3 Helmet-to-helmet    31059                  Blocking                        \n",
       "4 Helmet-to-helmet    31950                  Tackling                        \n",
       "5 Helmet-to-body      23259                  Blocked                         \n",
       "6 Helmet-to-body      31756                  Blocked                         \n",
       "  Friendly_Fire X                       game_play_id game_play_gsid\n",
       "1 Yes           Soldier Field           5_3129       5_3129_29492  \n",
       "2 No            Nissan Stadium          21_2587      21_2587_32323 \n",
       "3 No            FedExField              29_538       29_538_29343  \n",
       "4 No            MetLife                 45_1212      45_1212_27595 \n",
       "5 No            Bank of America Stadium 54_1045      54_1045_32410 \n",
       "6 Yes           Ford Field              60_905       60_905_32444  "
      ]
     },
     "metadata": {},
     "output_type": "display_data"
    },
    {
     "data": {
      "text/html": [
       "<table>\n",
       "<thead><tr><th scope=col>Season_Year</th><th scope=col>GameKey</th><th scope=col>PlayID</th><th scope=col>GSISID</th><th scope=col>Role</th><th scope=col>game_play_id</th><th scope=col>game_play_gsid</th></tr></thead>\n",
       "<tbody>\n",
       "\t<tr><td>2016       </td><td>2          </td><td>191        </td><td>26280      </td><td>VR         </td><td>2_191      </td><td>2_191_26280</td></tr>\n",
       "\t<tr><td>2016       </td><td>2          </td><td>191        </td><td>27787      </td><td>PRG        </td><td>2_191      </td><td>2_191_27787</td></tr>\n",
       "\t<tr><td>2016       </td><td>2          </td><td>191        </td><td>28394      </td><td>PLS        </td><td>2_191      </td><td>2_191_28394</td></tr>\n",
       "\t<tr><td>2016       </td><td>2          </td><td>191        </td><td>28795      </td><td>PPR        </td><td>2_191      </td><td>2_191_28795</td></tr>\n",
       "\t<tr><td>2016       </td><td>2          </td><td>191        </td><td>29676      </td><td>VL         </td><td>2_191      </td><td>2_191_29676</td></tr>\n",
       "\t<tr><td>2016       </td><td>2          </td><td>191        </td><td>29647      </td><td>PDL1       </td><td>2_191      </td><td>2_191_29647</td></tr>\n",
       "</tbody>\n",
       "</table>\n"
      ],
      "text/latex": [
       "\\begin{tabular}{r|lllllll}\n",
       " Season\\_Year & GameKey & PlayID & GSISID & Role & game\\_play\\_id & game\\_play\\_gsid\\\\\n",
       "\\hline\n",
       "\t 2016            & 2               & 191             & 26280           & VR              & 2\\_191         & 2\\_191\\_26280\\\\\n",
       "\t 2016            & 2               & 191             & 27787           & PRG             & 2\\_191         & 2\\_191\\_27787\\\\\n",
       "\t 2016            & 2               & 191             & 28394           & PLS             & 2\\_191         & 2\\_191\\_28394\\\\\n",
       "\t 2016            & 2               & 191             & 28795           & PPR             & 2\\_191         & 2\\_191\\_28795\\\\\n",
       "\t 2016            & 2               & 191             & 29676           & VL              & 2\\_191         & 2\\_191\\_29676\\\\\n",
       "\t 2016            & 2               & 191             & 29647           & PDL1            & 2\\_191         & 2\\_191\\_29647\\\\\n",
       "\\end{tabular}\n"
      ],
      "text/markdown": [
       "\n",
       "Season_Year | GameKey | PlayID | GSISID | Role | game_play_id | game_play_gsid | \n",
       "|---|---|---|---|---|---|\n",
       "| 2016        | 2           | 191         | 26280       | VR          | 2_191       | 2_191_26280 | \n",
       "| 2016        | 2           | 191         | 27787       | PRG         | 2_191       | 2_191_27787 | \n",
       "| 2016        | 2           | 191         | 28394       | PLS         | 2_191       | 2_191_28394 | \n",
       "| 2016        | 2           | 191         | 28795       | PPR         | 2_191       | 2_191_28795 | \n",
       "| 2016        | 2           | 191         | 29676       | VL          | 2_191       | 2_191_29676 | \n",
       "| 2016        | 2           | 191         | 29647       | PDL1        | 2_191       | 2_191_29647 | \n",
       "\n",
       "\n"
      ],
      "text/plain": [
       "  Season_Year GameKey PlayID GSISID Role game_play_id game_play_gsid\n",
       "1 2016        2       191    26280  VR   2_191        2_191_26280   \n",
       "2 2016        2       191    27787  PRG  2_191        2_191_27787   \n",
       "3 2016        2       191    28394  PLS  2_191        2_191_28394   \n",
       "4 2016        2       191    28795  PPR  2_191        2_191_28795   \n",
       "5 2016        2       191    29676  VL   2_191        2_191_29676   \n",
       "6 2016        2       191    29647  PDL1 2_191        2_191_29647   "
      ]
     },
     "metadata": {},
     "output_type": "display_data"
    }
   ],
   "source": [
    "vid_rev$game_play_gsid <- paste(vid_rev$game_play_id,vid_rev$GSISID,sep=\"_\")\n",
    "player_role$game_play_gsid <- paste(player_role$game_play_id,player_role$GSISID,sep=\"_\")\n",
    "head(vid_rev)\n",
    "head(player_role)"
   ]
  },
  {
   "cell_type": "code",
   "execution_count": 99,
   "metadata": {
    "scrolled": true
   },
   "outputs": [
    {
     "data": {
      "text/html": [
       "<table>\n",
       "<thead><tr><th scope=col>game_play_id</th><th scope=col>Role</th></tr></thead>\n",
       "<tbody>\n",
       "\t<tr><td>2_191</td><td>VR   </td></tr>\n",
       "\t<tr><td>2_191</td><td>PRG  </td></tr>\n",
       "\t<tr><td>2_191</td><td>PLS  </td></tr>\n",
       "\t<tr><td>2_191</td><td>PPR  </td></tr>\n",
       "\t<tr><td>2_191</td><td>VL   </td></tr>\n",
       "\t<tr><td>2_191</td><td>PDL1 </td></tr>\n",
       "</tbody>\n",
       "</table>\n"
      ],
      "text/latex": [
       "\\begin{tabular}{r|ll}\n",
       " game\\_play\\_id & Role\\\\\n",
       "\\hline\n",
       "\t 2\\_191 & VR     \\\\\n",
       "\t 2\\_191 & PRG    \\\\\n",
       "\t 2\\_191 & PLS    \\\\\n",
       "\t 2\\_191 & PPR    \\\\\n",
       "\t 2\\_191 & VL     \\\\\n",
       "\t 2\\_191 & PDL1   \\\\\n",
       "\\end{tabular}\n"
      ],
      "text/markdown": [
       "\n",
       "game_play_id | Role | \n",
       "|---|---|---|---|---|---|\n",
       "| 2_191 | VR    | \n",
       "| 2_191 | PRG   | \n",
       "| 2_191 | PLS   | \n",
       "| 2_191 | PPR   | \n",
       "| 2_191 | VL    | \n",
       "| 2_191 | PDL1  | \n",
       "\n",
       "\n"
      ],
      "text/plain": [
       "  game_play_id Role\n",
       "1 2_191        VR  \n",
       "2 2_191        PRG \n",
       "3 2_191        PLS \n",
       "4 2_191        PPR \n",
       "5 2_191        VL  \n",
       "6 2_191        PDL1"
      ]
     },
     "metadata": {},
     "output_type": "display_data"
    }
   ],
   "source": [
    "temp_table <- select(player_role,game_play_id,Role)\n",
    "head(temp_table)\n"
   ]
  },
  {
   "cell_type": "code",
   "execution_count": 54,
   "metadata": {},
   "outputs": [],
   "source": [
    "game_formation_data <- temp_table %>% \n",
    "     group_by(game_play_id) %>% \n",
    "     summarize(formation = paste0(Role, collapse = \"_\")) %>%\n",
    "     select(game_play_id,formation)"
   ]
  },
  {
   "cell_type": "code",
   "execution_count": 56,
   "metadata": {},
   "outputs": [
    {
     "data": {
      "text/html": [
       "<table>\n",
       "<thead><tr><th scope=col>game_play_id</th><th scope=col>formation</th></tr></thead>\n",
       "<tbody>\n",
       "\t<tr><td>10_1275                                                                                 </td><td>PLS_PLW_PLG_PDR3_VRo_PPR_PR_VLo_PDR1_PDL1_P_PRG_PDL3_VRi_VLi_PDR2_PDL2_GR_PRW_GL_PLT_PRT</td></tr>\n",
       "\t<tr><td>10_1409                                                                                 </td><td>VRo_PDL2_PRG_PDR3_PLG_GL_VLo_P_PPL_VRi_PRW_PLS_GR_PDL1_PLW_PDR2_PRT_PLT_PR_VLi_PDR1_PDL3</td></tr>\n",
       "\t<tr><td>10_1501                                                                                 </td><td>PLS_PLW_PLG_PDR3_VRo_PPR_PR_VLo_PDR1_PDL1_P_PRG_PDL3_VRi_VLi_PDR2_PDL2_PRW_GL_PLT_GR_PRT</td></tr>\n",
       "\t<tr><td>10_2693                                                                                 </td><td>PLW_PLG_PPR_PR_PDR3_PDL2_PLR_PDL3_PDR1_PDR2_PLL_P_PRG_PDL1_PRW_PLS_GL_PLT_GR_PRT_VL_VR  </td></tr>\n",
       "\t<tr><td>10_2810                                                                                 </td><td>PLS_PDR2_PPR_PRT_VLo_P_PDL3_PRW_PRG_GR_GL_PLW_PLG_PLT_PR_PDR1_VRo_PDL2_VLi_PDR3_PDL1_VRi</td></tr>\n",
       "\t<tr><td>10_3228                                                                                 </td><td>PLS_PDR3_PPL_PRT_VLo_P_PDL2_PRW_GL_PLW_PLT_PR_PDR1_VRo_PDL3_VLi_PDR2_PDL1_VRi_GR_PRG_PLG</td></tr>\n",
       "</tbody>\n",
       "</table>\n"
      ],
      "text/latex": [
       "\\begin{tabular}{r|ll}\n",
       " game\\_play\\_id & formation\\\\\n",
       "\\hline\n",
       "\t 10\\_1275                                                                                                                          & PLS\\_PLW\\_PLG\\_PDR3\\_VRo\\_PPR\\_PR\\_VLo\\_PDR1\\_PDL1\\_P\\_PRG\\_PDL3\\_VRi\\_VLi\\_PDR2\\_PDL2\\_GR\\_PRW\\_GL\\_PLT\\_PRT\\\\\n",
       "\t 10\\_1409                                                                                                                          & VRo\\_PDL2\\_PRG\\_PDR3\\_PLG\\_GL\\_VLo\\_P\\_PPL\\_VRi\\_PRW\\_PLS\\_GR\\_PDL1\\_PLW\\_PDR2\\_PRT\\_PLT\\_PR\\_VLi\\_PDR1\\_PDL3\\\\\n",
       "\t 10\\_1501                                                                                                                          & PLS\\_PLW\\_PLG\\_PDR3\\_VRo\\_PPR\\_PR\\_VLo\\_PDR1\\_PDL1\\_P\\_PRG\\_PDL3\\_VRi\\_VLi\\_PDR2\\_PDL2\\_PRW\\_GL\\_PLT\\_GR\\_PRT\\\\\n",
       "\t 10\\_2693                                                                                                                          & PLW\\_PLG\\_PPR\\_PR\\_PDR3\\_PDL2\\_PLR\\_PDL3\\_PDR1\\_PDR2\\_PLL\\_P\\_PRG\\_PDL1\\_PRW\\_PLS\\_GL\\_PLT\\_GR\\_PRT\\_VL\\_VR  \\\\\n",
       "\t 10\\_2810                                                                                                                          & PLS\\_PDR2\\_PPR\\_PRT\\_VLo\\_P\\_PDL3\\_PRW\\_PRG\\_GR\\_GL\\_PLW\\_PLG\\_PLT\\_PR\\_PDR1\\_VRo\\_PDL2\\_VLi\\_PDR3\\_PDL1\\_VRi\\\\\n",
       "\t 10\\_3228                                                                                                                          & PLS\\_PDR3\\_PPL\\_PRT\\_VLo\\_P\\_PDL2\\_PRW\\_GL\\_PLW\\_PLT\\_PR\\_PDR1\\_VRo\\_PDL3\\_VLi\\_PDR2\\_PDL1\\_VRi\\_GR\\_PRG\\_PLG\\\\\n",
       "\\end{tabular}\n"
      ],
      "text/markdown": [
       "\n",
       "game_play_id | formation | \n",
       "|---|---|---|---|---|---|\n",
       "| 10_1275                                                                                  | PLS_PLW_PLG_PDR3_VRo_PPR_PR_VLo_PDR1_PDL1_P_PRG_PDL3_VRi_VLi_PDR2_PDL2_GR_PRW_GL_PLT_PRT | \n",
       "| 10_1409                                                                                  | VRo_PDL2_PRG_PDR3_PLG_GL_VLo_P_PPL_VRi_PRW_PLS_GR_PDL1_PLW_PDR2_PRT_PLT_PR_VLi_PDR1_PDL3 | \n",
       "| 10_1501                                                                                  | PLS_PLW_PLG_PDR3_VRo_PPR_PR_VLo_PDR1_PDL1_P_PRG_PDL3_VRi_VLi_PDR2_PDL2_PRW_GL_PLT_GR_PRT | \n",
       "| 10_2693                                                                                  | PLW_PLG_PPR_PR_PDR3_PDL2_PLR_PDL3_PDR1_PDR2_PLL_P_PRG_PDL1_PRW_PLS_GL_PLT_GR_PRT_VL_VR   | \n",
       "| 10_2810                                                                                  | PLS_PDR2_PPR_PRT_VLo_P_PDL3_PRW_PRG_GR_GL_PLW_PLG_PLT_PR_PDR1_VRo_PDL2_VLi_PDR3_PDL1_VRi | \n",
       "| 10_3228                                                                                  | PLS_PDR3_PPL_PRT_VLo_P_PDL2_PRW_GL_PLW_PLT_PR_PDR1_VRo_PDL3_VLi_PDR2_PDL1_VRi_GR_PRG_PLG | \n",
       "\n",
       "\n"
      ],
      "text/plain": [
       "  game_play_id\n",
       "1 10_1275     \n",
       "2 10_1409     \n",
       "3 10_1501     \n",
       "4 10_2693     \n",
       "5 10_2810     \n",
       "6 10_3228     \n",
       "  formation                                                                               \n",
       "1 PLS_PLW_PLG_PDR3_VRo_PPR_PR_VLo_PDR1_PDL1_P_PRG_PDL3_VRi_VLi_PDR2_PDL2_GR_PRW_GL_PLT_PRT\n",
       "2 VRo_PDL2_PRG_PDR3_PLG_GL_VLo_P_PPL_VRi_PRW_PLS_GR_PDL1_PLW_PDR2_PRT_PLT_PR_VLi_PDR1_PDL3\n",
       "3 PLS_PLW_PLG_PDR3_VRo_PPR_PR_VLo_PDR1_PDL1_P_PRG_PDL3_VRi_VLi_PDR2_PDL2_PRW_GL_PLT_GR_PRT\n",
       "4 PLW_PLG_PPR_PR_PDR3_PDL2_PLR_PDL3_PDR1_PDR2_PLL_P_PRG_PDL1_PRW_PLS_GL_PLT_GR_PRT_VL_VR  \n",
       "5 PLS_PDR2_PPR_PRT_VLo_P_PDL3_PRW_PRG_GR_GL_PLW_PLG_PLT_PR_PDR1_VRo_PDL2_VLi_PDR3_PDL1_VRi\n",
       "6 PLS_PDR3_PPL_PRT_VLo_P_PDL2_PRW_GL_PLW_PLT_PR_PDR1_VRo_PDL3_VLi_PDR2_PDL1_VRi_GR_PRG_PLG"
      ]
     },
     "metadata": {},
     "output_type": "display_data"
    }
   ],
   "source": [
    "head(game_formation_data)"
   ]
  },
  {
   "cell_type": "code",
   "execution_count": null,
   "metadata": {},
   "outputs": [],
   "source": []
  },
  {
   "cell_type": "code",
   "execution_count": 42,
   "metadata": {
    "scrolled": true
   },
   "outputs": [
    {
     "data": {
      "text/html": [
       "<table>\n",
       "<thead><tr><th scope=col>game_play_id</th><th scope=col>Role</th></tr></thead>\n",
       "<tbody>\n",
       "\t<tr><td>2_191 </td><td>VR    </td></tr>\n",
       "\t<tr><td>2_191 </td><td>PRG   </td></tr>\n",
       "\t<tr><td>2_191 </td><td>PLS   </td></tr>\n",
       "\t<tr><td>2_191 </td><td>PPR   </td></tr>\n",
       "\t<tr><td>2_191 </td><td>VL    </td></tr>\n",
       "\t<tr><td>2_191 </td><td>PDL1  </td></tr>\n",
       "\t<tr><td>2_191 </td><td>P     </td></tr>\n",
       "\t<tr><td>2_191 </td><td>PLG   </td></tr>\n",
       "\t<tr><td>2_191 </td><td>PLL   </td></tr>\n",
       "\t<tr><td>2_191 </td><td>PRW   </td></tr>\n",
       "\t<tr><td>2_191 </td><td>PLW   </td></tr>\n",
       "\t<tr><td>2_191 </td><td>GL    </td></tr>\n",
       "\t<tr><td>2_191 </td><td>PDR2  </td></tr>\n",
       "\t<tr><td>2_191 </td><td>PDR3  </td></tr>\n",
       "\t<tr><td>2_191 </td><td>PLR   </td></tr>\n",
       "\t<tr><td>2_191 </td><td>PRT   </td></tr>\n",
       "\t<tr><td>2_191 </td><td>PDL3  </td></tr>\n",
       "\t<tr><td>2_191 </td><td>PDR1  </td></tr>\n",
       "\t<tr><td>2_191 </td><td>PR    </td></tr>\n",
       "\t<tr><td>2_191 </td><td>PLT   </td></tr>\n",
       "\t<tr><td>2_191 </td><td>GR    </td></tr>\n",
       "\t<tr><td>2_191 </td><td>PDL2  </td></tr>\n",
       "\t<tr><td>2_1132</td><td>VRo   </td></tr>\n",
       "\t<tr><td>2_1132</td><td>PLS   </td></tr>\n",
       "\t<tr><td>2_1132</td><td>PPL   </td></tr>\n",
       "\t<tr><td>2_1132</td><td>PDL1  </td></tr>\n",
       "\t<tr><td>2_1132</td><td>P     </td></tr>\n",
       "\t<tr><td>2_1132</td><td>PLG   </td></tr>\n",
       "\t<tr><td>2_1132</td><td>VLi   </td></tr>\n",
       "\t<tr><td>2_1132</td><td>PRW   </td></tr>\n",
       "\t<tr><td>...</td><td>...</td></tr>\n",
       "\t<tr><td>664_3168</td><td>PDL3    </td></tr>\n",
       "\t<tr><td>664_3168</td><td>PDR1    </td></tr>\n",
       "\t<tr><td>664_3168</td><td>GR      </td></tr>\n",
       "\t<tr><td>664_3168</td><td>PDL2    </td></tr>\n",
       "\t<tr><td>664_3168</td><td>GL      </td></tr>\n",
       "\t<tr><td>664_3168</td><td>PRW     </td></tr>\n",
       "\t<tr><td>664_3168</td><td>VL      </td></tr>\n",
       "\t<tr><td>664_3168</td><td>PDR3    </td></tr>\n",
       "\t<tr><td>665_1094</td><td>PLW     </td></tr>\n",
       "\t<tr><td>665_1094</td><td>PPL     </td></tr>\n",
       "\t<tr><td>665_1094</td><td>PLR     </td></tr>\n",
       "\t<tr><td>665_1094</td><td>P       </td></tr>\n",
       "\t<tr><td>665_1094</td><td>PR      </td></tr>\n",
       "\t<tr><td>665_1094</td><td>VL      </td></tr>\n",
       "\t<tr><td>665_1094</td><td>PLT     </td></tr>\n",
       "\t<tr><td>665_1094</td><td>PLG     </td></tr>\n",
       "\t<tr><td>665_1094</td><td>PDL1    </td></tr>\n",
       "\t<tr><td>665_1094</td><td>PDR3    </td></tr>\n",
       "\t<tr><td>665_1094</td><td>PDL2    </td></tr>\n",
       "\t<tr><td>665_1094</td><td>PRG     </td></tr>\n",
       "\t<tr><td>665_1094</td><td>VR      </td></tr>\n",
       "\t<tr><td>665_1094</td><td>PDL4    </td></tr>\n",
       "\t<tr><td>665_1094</td><td>PDR1    </td></tr>\n",
       "\t<tr><td>665_1094</td><td>PDL3    </td></tr>\n",
       "\t<tr><td>665_1094</td><td>PLS     </td></tr>\n",
       "\t<tr><td>665_1094</td><td>PRT     </td></tr>\n",
       "\t<tr><td>665_1094</td><td>PDR2    </td></tr>\n",
       "\t<tr><td>665_1094</td><td>GR      </td></tr>\n",
       "\t<tr><td>665_1094</td><td>GL      </td></tr>\n",
       "\t<tr><td>665_1094</td><td>PRW     </td></tr>\n",
       "</tbody>\n",
       "</table>\n"
      ],
      "text/latex": [
       "\\begin{tabular}{r|ll}\n",
       " game\\_play\\_id & Role\\\\\n",
       "\\hline\n",
       "\t 2\\_191  & VR      \\\\\n",
       "\t 2\\_191  & PRG     \\\\\n",
       "\t 2\\_191  & PLS     \\\\\n",
       "\t 2\\_191  & PPR     \\\\\n",
       "\t 2\\_191  & VL      \\\\\n",
       "\t 2\\_191  & PDL1    \\\\\n",
       "\t 2\\_191  & P       \\\\\n",
       "\t 2\\_191  & PLG     \\\\\n",
       "\t 2\\_191  & PLL     \\\\\n",
       "\t 2\\_191  & PRW     \\\\\n",
       "\t 2\\_191  & PLW     \\\\\n",
       "\t 2\\_191  & GL      \\\\\n",
       "\t 2\\_191  & PDR2    \\\\\n",
       "\t 2\\_191  & PDR3    \\\\\n",
       "\t 2\\_191  & PLR     \\\\\n",
       "\t 2\\_191  & PRT     \\\\\n",
       "\t 2\\_191  & PDL3    \\\\\n",
       "\t 2\\_191  & PDR1    \\\\\n",
       "\t 2\\_191  & PR      \\\\\n",
       "\t 2\\_191  & PLT     \\\\\n",
       "\t 2\\_191  & GR      \\\\\n",
       "\t 2\\_191  & PDL2    \\\\\n",
       "\t 2\\_1132 & VRo     \\\\\n",
       "\t 2\\_1132 & PLS     \\\\\n",
       "\t 2\\_1132 & PPL     \\\\\n",
       "\t 2\\_1132 & PDL1    \\\\\n",
       "\t 2\\_1132 & P       \\\\\n",
       "\t 2\\_1132 & PLG     \\\\\n",
       "\t 2\\_1132 & VLi     \\\\\n",
       "\t 2\\_1132 & PRW     \\\\\n",
       "\t ... & ...\\\\\n",
       "\t 664\\_3168 & PDL3      \\\\\n",
       "\t 664\\_3168 & PDR1      \\\\\n",
       "\t 664\\_3168 & GR        \\\\\n",
       "\t 664\\_3168 & PDL2      \\\\\n",
       "\t 664\\_3168 & GL        \\\\\n",
       "\t 664\\_3168 & PRW       \\\\\n",
       "\t 664\\_3168 & VL        \\\\\n",
       "\t 664\\_3168 & PDR3      \\\\\n",
       "\t 665\\_1094 & PLW       \\\\\n",
       "\t 665\\_1094 & PPL       \\\\\n",
       "\t 665\\_1094 & PLR       \\\\\n",
       "\t 665\\_1094 & P         \\\\\n",
       "\t 665\\_1094 & PR        \\\\\n",
       "\t 665\\_1094 & VL        \\\\\n",
       "\t 665\\_1094 & PLT       \\\\\n",
       "\t 665\\_1094 & PLG       \\\\\n",
       "\t 665\\_1094 & PDL1      \\\\\n",
       "\t 665\\_1094 & PDR3      \\\\\n",
       "\t 665\\_1094 & PDL2      \\\\\n",
       "\t 665\\_1094 & PRG       \\\\\n",
       "\t 665\\_1094 & VR        \\\\\n",
       "\t 665\\_1094 & PDL4      \\\\\n",
       "\t 665\\_1094 & PDR1      \\\\\n",
       "\t 665\\_1094 & PDL3      \\\\\n",
       "\t 665\\_1094 & PLS       \\\\\n",
       "\t 665\\_1094 & PRT       \\\\\n",
       "\t 665\\_1094 & PDR2      \\\\\n",
       "\t 665\\_1094 & GR        \\\\\n",
       "\t 665\\_1094 & GL        \\\\\n",
       "\t 665\\_1094 & PRW       \\\\\n",
       "\\end{tabular}\n"
      ],
      "text/markdown": [
       "\n",
       "game_play_id | Role | \n",
       "|---|---|---|---|---|---|---|---|---|---|---|---|---|---|---|---|---|---|---|---|---|---|---|---|---|---|---|---|---|---|---|---|---|---|---|---|---|---|---|---|---|---|---|---|---|---|---|---|---|---|---|---|---|---|---|---|---|---|---|---|---|\n",
       "| 2_191  | VR     | \n",
       "| 2_191  | PRG    | \n",
       "| 2_191  | PLS    | \n",
       "| 2_191  | PPR    | \n",
       "| 2_191  | VL     | \n",
       "| 2_191  | PDL1   | \n",
       "| 2_191  | P      | \n",
       "| 2_191  | PLG    | \n",
       "| 2_191  | PLL    | \n",
       "| 2_191  | PRW    | \n",
       "| 2_191  | PLW    | \n",
       "| 2_191  | GL     | \n",
       "| 2_191  | PDR2   | \n",
       "| 2_191  | PDR3   | \n",
       "| 2_191  | PLR    | \n",
       "| 2_191  | PRT    | \n",
       "| 2_191  | PDL3   | \n",
       "| 2_191  | PDR1   | \n",
       "| 2_191  | PR     | \n",
       "| 2_191  | PLT    | \n",
       "| 2_191  | GR     | \n",
       "| 2_191  | PDL2   | \n",
       "| 2_1132 | VRo    | \n",
       "| 2_1132 | PLS    | \n",
       "| 2_1132 | PPL    | \n",
       "| 2_1132 | PDL1   | \n",
       "| 2_1132 | P      | \n",
       "| 2_1132 | PLG    | \n",
       "| 2_1132 | VLi    | \n",
       "| 2_1132 | PRW    | \n",
       "| ... | ... | \n",
       "| 664_3168 | PDL3     | \n",
       "| 664_3168 | PDR1     | \n",
       "| 664_3168 | GR       | \n",
       "| 664_3168 | PDL2     | \n",
       "| 664_3168 | GL       | \n",
       "| 664_3168 | PRW      | \n",
       "| 664_3168 | VL       | \n",
       "| 664_3168 | PDR3     | \n",
       "| 665_1094 | PLW      | \n",
       "| 665_1094 | PPL      | \n",
       "| 665_1094 | PLR      | \n",
       "| 665_1094 | P        | \n",
       "| 665_1094 | PR       | \n",
       "| 665_1094 | VL       | \n",
       "| 665_1094 | PLT      | \n",
       "| 665_1094 | PLG      | \n",
       "| 665_1094 | PDL1     | \n",
       "| 665_1094 | PDR3     | \n",
       "| 665_1094 | PDL2     | \n",
       "| 665_1094 | PRG      | \n",
       "| 665_1094 | VR       | \n",
       "| 665_1094 | PDL4     | \n",
       "| 665_1094 | PDR1     | \n",
       "| 665_1094 | PDL3     | \n",
       "| 665_1094 | PLS      | \n",
       "| 665_1094 | PRT      | \n",
       "| 665_1094 | PDR2     | \n",
       "| 665_1094 | GR       | \n",
       "| 665_1094 | GL       | \n",
       "| 665_1094 | PRW      | \n",
       "\n",
       "\n"
      ],
      "text/plain": [
       "       game_play_id Role\n",
       "1      2_191        VR  \n",
       "2      2_191        PRG \n",
       "3      2_191        PLS \n",
       "4      2_191        PPR \n",
       "5      2_191        VL  \n",
       "6      2_191        PDL1\n",
       "7      2_191        P   \n",
       "8      2_191        PLG \n",
       "9      2_191        PLL \n",
       "10     2_191        PRW \n",
       "11     2_191        PLW \n",
       "12     2_191        GL  \n",
       "13     2_191        PDR2\n",
       "14     2_191        PDR3\n",
       "15     2_191        PLR \n",
       "16     2_191        PRT \n",
       "17     2_191        PDL3\n",
       "18     2_191        PDR1\n",
       "19     2_191        PR  \n",
       "20     2_191        PLT \n",
       "21     2_191        GR  \n",
       "22     2_191        PDL2\n",
       "23     2_1132       VRo \n",
       "24     2_1132       PLS \n",
       "25     2_1132       PPL \n",
       "26     2_1132       PDL1\n",
       "27     2_1132       P   \n",
       "28     2_1132       PLG \n",
       "29     2_1132       VLi \n",
       "30     2_1132       PRW \n",
       "...    ...          ... \n",
       "146544 664_3168     PDL3\n",
       "146545 664_3168     PDR1\n",
       "146546 664_3168     GR  \n",
       "146547 664_3168     PDL2\n",
       "146548 664_3168     GL  \n",
       "146549 664_3168     PRW \n",
       "146550 664_3168     VL  \n",
       "146551 664_3168     PDR3\n",
       "146552 665_1094     PLW \n",
       "146553 665_1094     PPL \n",
       "146554 665_1094     PLR \n",
       "146555 665_1094     P   \n",
       "146556 665_1094     PR  \n",
       "146557 665_1094     VL  \n",
       "146558 665_1094     PLT \n",
       "146559 665_1094     PLG \n",
       "146560 665_1094     PDL1\n",
       "146561 665_1094     PDR3\n",
       "146562 665_1094     PDL2\n",
       "146563 665_1094     PRG \n",
       "146564 665_1094     VR  \n",
       "146565 665_1094     PDL4\n",
       "146566 665_1094     PDR1\n",
       "146567 665_1094     PDL3\n",
       "146568 665_1094     PLS \n",
       "146569 665_1094     PRT \n",
       "146570 665_1094     PDR2\n",
       "146571 665_1094     GR  \n",
       "146572 665_1094     GL  \n",
       "146573 665_1094     PRW "
      ]
     },
     "metadata": {},
     "output_type": "display_data"
    },
    {
     "ename": "ERROR",
     "evalue": "Error in `[.data.frame`(temp_table, , paste(Role, collapse = \"_\"), by = game_play_id): unused argument (by = game_play_id)\n",
     "output_type": "error",
     "traceback": [
      "Error in `[.data.frame`(temp_table, , paste(Role, collapse = \"_\"), by = game_play_id): unused argument (by = game_play_id)\nTraceback:\n",
      "1. temp_table[, paste(Role, collapse = \"_\"), by = game_play_id]"
     ]
    }
   ],
   "source": [
    "temp_table\n",
    "play_formations <- temp_table[,paste(Role, collapse=\"_\"),by=game_play_id]"
   ]
  },
  {
   "cell_type": "markdown",
   "metadata": {},
   "source": [
    "## Next Steps:\n",
    "- Trying a machine learning approahc e.g. Linear regression to check correlations between variables and concussion rates\n",
    "- Deep diving into specific formations to see for rule modification opportunities\n"
   ]
  }
 ],
 "metadata": {
  "celltoolbar": "Raw Cell Format",
  "kernelspec": {
   "display_name": "R",
   "language": "R",
   "name": "ir"
  },
  "language_info": {
   "codemirror_mode": "r",
   "file_extension": ".r",
   "mimetype": "text/x-r-source",
   "name": "R",
   "pygments_lexer": "r",
   "version": "3.5.1"
  },
  "toc": {
   "base_numbering": 1,
   "nav_menu": {},
   "number_sections": true,
   "sideBar": true,
   "skip_h1_title": false,
   "title_cell": "Table of Contents",
   "title_sidebar": "Contents",
   "toc_cell": true,
   "toc_position": {},
   "toc_section_display": true,
   "toc_window_display": false
  }
 },
 "nbformat": 4,
 "nbformat_minor": 2
}
