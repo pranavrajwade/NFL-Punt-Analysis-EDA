{
 "cells": [
  {
   "cell_type": "markdown",
   "metadata": {},
   "source": [
    "## NFL Punt Analysis"
   ]
  },
  {
   "cell_type": "markdown",
   "metadata": {
    "toc": true
   },
   "source": [
    "<h1>Table of Contents<span class=\"tocSkip\"></span></h1>\n",
    "<div class=\"toc\"><ul class=\"toc-item\"><li><span><a href=\"#NFL-Punt-Analysis\" data-toc-modified-id=\"NFL-Punt-Analysis-1\"><span class=\"toc-item-num\">1&nbsp;&nbsp;</span>NFL Punt Analysis</a></span></li><li><span><a href=\"#Installing-and-Importing-libraries-and-reading-necessary-files-:\" data-toc-modified-id=\"Installing-and-Importing-libraries-and-reading-necessary-files-:-2\"><span class=\"toc-item-num\">2&nbsp;&nbsp;</span>Installing and Importing libraries and reading necessary files :</a></span></li><li><span><a href=\"#Importing-datasets\" data-toc-modified-id=\"Importing-datasets-3\"><span class=\"toc-item-num\">3&nbsp;&nbsp;</span>Importing datasets</a></span></li><li><span><a href=\"#EDA-of-video_review\" data-toc-modified-id=\"EDA-of-video_review-4\"><span class=\"toc-item-num\">4&nbsp;&nbsp;</span>EDA of video_review</a></span><ul class=\"toc-item\"><li><span><a href=\"#Frequency-distribution-of-Player-Activity-types\" data-toc-modified-id=\"Frequency-distribution-of-Player-Activity-types-4.1\"><span class=\"toc-item-num\">4.1&nbsp;&nbsp;</span>Frequency distribution of Player Activity types</a></span></li><li><span><a href=\"#Adding-Other-and-Unclear-Activity-types\" data-toc-modified-id=\"Adding-Other-and-Unclear-Activity-types-4.2\"><span class=\"toc-item-num\">4.2&nbsp;&nbsp;</span>Adding Other and Unclear Activity types</a></span></li><li><span><a href=\"#Frequency-distribution-of-Impact-types\" data-toc-modified-id=\"Frequency-distribution-of-Impact-types-4.3\"><span class=\"toc-item-num\">4.3&nbsp;&nbsp;</span>Frequency distribution of Impact types</a></span></li><li><span><a href=\"#Distribution-of-Impact-type-against-Player-Activity\" data-toc-modified-id=\"Distribution-of-Impact-type-against-Player-Activity-4.4\"><span class=\"toc-item-num\">4.4&nbsp;&nbsp;</span>Distribution of Impact type against Player Activity</a></span></li></ul></li><li><span><a href=\"#EDA-of-Game-Data\" data-toc-modified-id=\"EDA-of-Game-Data-5\"><span class=\"toc-item-num\">5&nbsp;&nbsp;</span>EDA of Game Data</a></span></li><li><span><a href=\"#EDA-on-relation-of-variables-on-concussion-rate\" data-toc-modified-id=\"EDA-on-relation-of-variables-on-concussion-rate-6\"><span class=\"toc-item-num\">6&nbsp;&nbsp;</span>EDA on relation of variables on concussion rate</a></span><ul class=\"toc-item\"><li><span><a href=\"#Merging-Game-data-with-Video-review-data\" data-toc-modified-id=\"Merging-Game-data-with-Video-review-data-6.1\"><span class=\"toc-item-num\">6.1&nbsp;&nbsp;</span>Merging Game data with Video review data</a></span></li><li><span><a href=\"#Daily-concussion-rates\" data-toc-modified-id=\"Daily-concussion-rates-6.2\"><span class=\"toc-item-num\">6.2&nbsp;&nbsp;</span>Daily concussion rates</a></span></li><li><span><a href=\"#Concussion-rates-by-stadium-type\" data-toc-modified-id=\"Concussion-rates-by-stadium-type-6.3\"><span class=\"toc-item-num\">6.3&nbsp;&nbsp;</span>Concussion rates by stadium type</a></span></li><li><span><a href=\"#Concussion-rates-by-Temperature\" data-toc-modified-id=\"Concussion-rates-by-Temperature-6.4\"><span class=\"toc-item-num\">6.4&nbsp;&nbsp;</span>Concussion rates by Temperature</a></span></li></ul></li><li><span><a href=\"#Formation-and-Concussion-Rates\" data-toc-modified-id=\"Formation-and-Concussion-Rates-7\"><span class=\"toc-item-num\">7&nbsp;&nbsp;</span>Formation and Concussion Rates</a></span><ul class=\"toc-item\"><li><span><a href=\"#Merging-formations-data-with-play-information-data\" data-toc-modified-id=\"Merging-formations-data-with-play-information-data-7.1\"><span class=\"toc-item-num\">7.1&nbsp;&nbsp;</span>Merging formations data with play information data</a></span></li><li><span><a href=\"#Merging-formations-data-with-video-review-data\" data-toc-modified-id=\"Merging-formations-data-with-video-review-data-7.2\"><span class=\"toc-item-num\">7.2&nbsp;&nbsp;</span>Merging formations data with video review data</a></span></li><li><span><a href=\"#Sorting-final-formation-data-by-Injury-counts\" data-toc-modified-id=\"Sorting-final-formation-data-by-Injury-counts-7.3\"><span class=\"toc-item-num\">7.3&nbsp;&nbsp;</span>Sorting final formation data by Injury counts</a></span><ul class=\"toc-item\"><li><span><a href=\"#Filling-nulls-with-zeroes\" data-toc-modified-id=\"Filling-nulls-with-zeroes-7.3.1\"><span class=\"toc-item-num\">7.3.1&nbsp;&nbsp;</span>Filling nulls with zeroes</a></span></li></ul></li></ul></li><li><span><a href=\"#Next-Steps:\" data-toc-modified-id=\"Next-Steps:-8\"><span class=\"toc-item-num\">8&nbsp;&nbsp;</span>Next Steps:</a></span></li></ul></div>"
   ]
  },
  {
   "cell_type": "markdown",
   "metadata": {},
   "source": [
    "## Installing and Importing libraries and reading necessary files :"
   ]
  },
  {
   "cell_type": "code",
   "execution_count": 253,
   "metadata": {},
   "outputs": [
    {
     "name": "stdout",
     "output_type": "stream",
     "text": [
      "[1] \"Installing missing package: RMongo\"\n"
     ]
    },
    {
     "name": "stderr",
     "output_type": "stream",
     "text": [
      "Installing package into 'C:/Users/Advait/Documents/R/win-library/3.4'\n",
      "(as 'lib' is unspecified)\n",
      "Warning message:\n",
      "\"package 'RMongo' is not available (for R version 3.4.3)\"Loading required package: RMongo\n",
      "Warning message in library(package, lib.loc = lib.loc, character.only = TRUE, logical.return = TRUE, :\n",
      "\"there is no package called 'RMongo'\""
     ]
    },
    {
     "data": {
      "text/html": [
       "<dl class=dl-horizontal>\n",
       "\t<dt>ggplot2</dt>\n",
       "\t\t<dd>TRUE</dd>\n",
       "\t<dt>dplyr</dt>\n",
       "\t\t<dd>TRUE</dd>\n",
       "\t<dt>reshape2</dt>\n",
       "\t\t<dd>TRUE</dd>\n",
       "\t<dt>devtools</dt>\n",
       "\t\t<dd>TRUE</dd>\n",
       "\t<dt>shiny</dt>\n",
       "\t\t<dd>TRUE</dd>\n",
       "\t<dt>shinydashboard</dt>\n",
       "\t\t<dd>TRUE</dd>\n",
       "\t<dt>caret</dt>\n",
       "\t\t<dd>TRUE</dd>\n",
       "\t<dt>randomForest</dt>\n",
       "\t\t<dd>TRUE</dd>\n",
       "\t<dt>gbm</dt>\n",
       "\t\t<dd>TRUE</dd>\n",
       "\t<dt>tm</dt>\n",
       "\t\t<dd>TRUE</dd>\n",
       "\t<dt>forecast</dt>\n",
       "\t\t<dd>TRUE</dd>\n",
       "\t<dt>knitr</dt>\n",
       "\t\t<dd>TRUE</dd>\n",
       "\t<dt>Rcpp</dt>\n",
       "\t\t<dd>TRUE</dd>\n",
       "\t<dt>stringr</dt>\n",
       "\t\t<dd>TRUE</dd>\n",
       "\t<dt>lubridate</dt>\n",
       "\t\t<dd>TRUE</dd>\n",
       "\t<dt>manipulate</dt>\n",
       "\t\t<dd>TRUE</dd>\n",
       "\t<dt>Scale</dt>\n",
       "\t\t<dd>TRUE</dd>\n",
       "\t<dt>sqldf</dt>\n",
       "\t\t<dd>TRUE</dd>\n",
       "\t<dt>RMongo</dt>\n",
       "\t\t<dd>FALSE</dd>\n",
       "\t<dt>foreign</dt>\n",
       "\t\t<dd>TRUE</dd>\n",
       "\t<dt>googleVis</dt>\n",
       "\t\t<dd>TRUE</dd>\n",
       "\t<dt>XML</dt>\n",
       "\t\t<dd>TRUE</dd>\n",
       "\t<dt>roxygen2</dt>\n",
       "\t\t<dd>TRUE</dd>\n",
       "\t<dt>plotly</dt>\n",
       "\t\t<dd>TRUE</dd>\n",
       "\t<dt>parallel</dt>\n",
       "\t\t<dd>TRUE</dd>\n",
       "\t<dt>car</dt>\n",
       "\t\t<dd>TRUE</dd>\n",
       "</dl>\n"
      ],
      "text/latex": [
       "\\begin{description*}\n",
       "\\item[ggplot2] TRUE\n",
       "\\item[dplyr] TRUE\n",
       "\\item[reshape2] TRUE\n",
       "\\item[devtools] TRUE\n",
       "\\item[shiny] TRUE\n",
       "\\item[shinydashboard] TRUE\n",
       "\\item[caret] TRUE\n",
       "\\item[randomForest] TRUE\n",
       "\\item[gbm] TRUE\n",
       "\\item[tm] TRUE\n",
       "\\item[forecast] TRUE\n",
       "\\item[knitr] TRUE\n",
       "\\item[Rcpp] TRUE\n",
       "\\item[stringr] TRUE\n",
       "\\item[lubridate] TRUE\n",
       "\\item[manipulate] TRUE\n",
       "\\item[Scale] TRUE\n",
       "\\item[sqldf] TRUE\n",
       "\\item[RMongo] FALSE\n",
       "\\item[foreign] TRUE\n",
       "\\item[googleVis] TRUE\n",
       "\\item[XML] TRUE\n",
       "\\item[roxygen2] TRUE\n",
       "\\item[plotly] TRUE\n",
       "\\item[parallel] TRUE\n",
       "\\item[car] TRUE\n",
       "\\end{description*}\n"
      ],
      "text/markdown": [
       "ggplot2\n",
       ":   TRUEdplyr\n",
       ":   TRUEreshape2\n",
       ":   TRUEdevtools\n",
       ":   TRUEshiny\n",
       ":   TRUEshinydashboard\n",
       ":   TRUEcaret\n",
       ":   TRUErandomForest\n",
       ":   TRUEgbm\n",
       ":   TRUEtm\n",
       ":   TRUEforecast\n",
       ":   TRUEknitr\n",
       ":   TRUERcpp\n",
       ":   TRUEstringr\n",
       ":   TRUElubridate\n",
       ":   TRUEmanipulate\n",
       ":   TRUEScale\n",
       ":   TRUEsqldf\n",
       ":   TRUERMongo\n",
       ":   FALSEforeign\n",
       ":   TRUEgoogleVis\n",
       ":   TRUEXML\n",
       ":   TRUEroxygen2\n",
       ":   TRUEplotly\n",
       ":   TRUEparallel\n",
       ":   TRUEcar\n",
       ":   TRUE\n",
       "\n"
      ],
      "text/plain": [
       "       ggplot2          dplyr       reshape2       devtools          shiny \n",
       "          TRUE           TRUE           TRUE           TRUE           TRUE \n",
       "shinydashboard          caret   randomForest            gbm             tm \n",
       "          TRUE           TRUE           TRUE           TRUE           TRUE \n",
       "      forecast          knitr           Rcpp        stringr      lubridate \n",
       "          TRUE           TRUE           TRUE           TRUE           TRUE \n",
       "    manipulate          Scale          sqldf         RMongo        foreign \n",
       "          TRUE           TRUE           TRUE          FALSE           TRUE \n",
       "     googleVis            XML       roxygen2         plotly       parallel \n",
       "          TRUE           TRUE           TRUE           TRUE           TRUE \n",
       "           car \n",
       "          TRUE "
      ]
     },
     "metadata": {},
     "output_type": "display_data"
    }
   ],
   "source": [
    "# function to check for installed packages and install missing packages\n",
    "\n",
    "check_and_install <- function(packages){\n",
    "new.packages <- packages[!(packages %in% installed.packages()[, \"Package\"])]\n",
    "\n",
    "if (length(new.packages)) \n",
    "    print(paste0(\"Installing missing package: \", new.packages))\n",
    "    install.packages(new.packages, dependencies = TRUE,repos = \"http://cran.us.r-project.org\")\n",
    "    sapply(packages, require, character.only = TRUE)\n",
    "}\n",
    " \n",
    "# required packages\n",
    "required.packages <- c(\"ggplot2\", \"dplyr\", \"reshape2\", \"devtools\", \"shiny\", \"shinydashboard\", \n",
    "                       \"caret\",\"randomForest\",\"gbm\",\"tm\",\"forecast\",\"knitr\",\"Rcpp\",\"stringr\",\n",
    "                       \"lubridate\",\"manipulate\",\"Scale\",\"sqldf\",\"RMongo\",\"foreign\",\"googleVis\",\n",
    "                       \"XML\",\"roxygen2\",\"plotly\",\"parallel\",\"car\")\n",
    "check_and_install(required.packages)"
   ]
  },
  {
   "cell_type": "code",
   "execution_count": 254,
   "metadata": {
    "collapsed": true
   },
   "outputs": [],
   "source": [
    "oldw <- getOption(\"warn\")\n",
    "options(warn = -1)\n",
    "\n",
    "library(dplyr)\n",
    "library(ggplot2)\n",
    "library(tidyr)\n",
    "library(scales)\n",
    "library(repr)\n",
    "\n",
    "options(warn = oldw)"
   ]
  },
  {
   "cell_type": "markdown",
   "metadata": {},
   "source": [
    "## Importing datasets"
   ]
  },
  {
   "cell_type": "code",
   "execution_count": 255,
   "metadata": {
    "collapsed": true
   },
   "outputs": [],
   "source": [
    "path <- \"../Data/\""
   ]
  },
  {
   "cell_type": "code",
   "execution_count": 256,
   "metadata": {
    "collapsed": true,
    "scrolled": false
   },
   "outputs": [],
   "source": [
    "game_data <- read.csv(paste0(path,'GD1.csv'))\n",
    "player_role <- read.csv(paste0(path,'play_player_role_data.csv'))\n",
    "play_info <- read.csv(paste0(path,'play_information.csv'))\n",
    "play_punt <- read.csv(paste0(path,'player_punt_data.csv'))\n",
    "vid_rev <- read.csv(paste0(path,'video_review.csv'))\n",
    "vid_injury <- read.csv(paste0(path,'video_footage-injury.csv'))\n",
    "vid_control <- read.csv(paste0(path,'video_footage-control.csv'))"
   ]
  },
  {
   "cell_type": "markdown",
   "metadata": {},
   "source": [
    "## EDA of video_review "
   ]
  },
  {
   "cell_type": "code",
   "execution_count": 257,
   "metadata": {
    "scrolled": false
   },
   "outputs": [
    {
     "data": {
      "text/html": [
       "<table>\n",
       "<thead><tr><th scope=col>Season_Year</th><th scope=col>GameKey</th><th scope=col>PlayID</th><th scope=col>GSISID</th><th scope=col>Player_Activity_Derived</th><th scope=col>Turnover_Related</th><th scope=col>Primary_Impact_Type</th><th scope=col>Primary_Partner_GSISID</th><th scope=col>Primary_Partner_Activity_Derived</th><th scope=col>Friendly_Fire</th><th scope=col>X</th></tr></thead>\n",
       "<tbody>\n",
       "\t<tr><td>2016                   </td><td> 5                     </td><td>3129                   </td><td>29492                  </td><td>Tackling               </td><td>No                     </td><td>Helmet-to-body         </td><td>33445                  </td><td>Tackling               </td><td>Yes                    </td><td>Soldier Field          </td></tr>\n",
       "\t<tr><td>2016                   </td><td>21                     </td><td>2587                   </td><td>32323                  </td><td>Blocked                </td><td>No                     </td><td>Helmet-to-helmet       </td><td>31930                  </td><td>Blocking               </td><td>No                     </td><td>Nissan Stadium         </td></tr>\n",
       "\t<tr><td>2016                   </td><td>29                     </td><td> 538                   </td><td>29343                  </td><td>Blocked                </td><td>No                     </td><td>Helmet-to-helmet       </td><td>31059                  </td><td>Blocking               </td><td>No                     </td><td>FedExField             </td></tr>\n",
       "\t<tr><td>2016                   </td><td>45                     </td><td>1212                   </td><td>27595                  </td><td>Tackled                </td><td>No                     </td><td>Helmet-to-helmet       </td><td>31950                  </td><td>Tackling               </td><td>No                     </td><td>MetLife                </td></tr>\n",
       "\t<tr><td>2016                   </td><td>54                     </td><td>1045                   </td><td>32410                  </td><td>Blocking               </td><td>No                     </td><td>Helmet-to-body         </td><td>23259                  </td><td>Blocked                </td><td>No                     </td><td>Bank of America Stadium</td></tr>\n",
       "\t<tr><td>2016                   </td><td>60                     </td><td> 905                   </td><td>32444                  </td><td>Blocked                </td><td>No                     </td><td>Helmet-to-body         </td><td>31756                  </td><td>Blocked                </td><td>Yes                    </td><td>Ford Field             </td></tr>\n",
       "</tbody>\n",
       "</table>\n"
      ],
      "text/latex": [
       "\\begin{tabular}{r|lllllllllll}\n",
       " Season\\_Year & GameKey & PlayID & GSISID & Player\\_Activity\\_Derived & Turnover\\_Related & Primary\\_Impact\\_Type & Primary\\_Partner\\_GSISID & Primary\\_Partner\\_Activity\\_Derived & Friendly\\_Fire & X\\\\\n",
       "\\hline\n",
       "\t 2016                    &  5                      & 3129                    & 29492                   & Tackling                & No                      & Helmet-to-body          & 33445                   & Tackling                & Yes                     & Soldier Field          \\\\\n",
       "\t 2016                    & 21                      & 2587                    & 32323                   & Blocked                 & No                      & Helmet-to-helmet        & 31930                   & Blocking                & No                      & Nissan Stadium         \\\\\n",
       "\t 2016                    & 29                      &  538                    & 29343                   & Blocked                 & No                      & Helmet-to-helmet        & 31059                   & Blocking                & No                      & FedExField             \\\\\n",
       "\t 2016                    & 45                      & 1212                    & 27595                   & Tackled                 & No                      & Helmet-to-helmet        & 31950                   & Tackling                & No                      & MetLife                \\\\\n",
       "\t 2016                    & 54                      & 1045                    & 32410                   & Blocking                & No                      & Helmet-to-body          & 23259                   & Blocked                 & No                      & Bank of America Stadium\\\\\n",
       "\t 2016                    & 60                      &  905                    & 32444                   & Blocked                 & No                      & Helmet-to-body          & 31756                   & Blocked                 & Yes                     & Ford Field             \\\\\n",
       "\\end{tabular}\n"
      ],
      "text/markdown": [
       "\n",
       "| Season_Year | GameKey | PlayID | GSISID | Player_Activity_Derived | Turnover_Related | Primary_Impact_Type | Primary_Partner_GSISID | Primary_Partner_Activity_Derived | Friendly_Fire | X |\n",
       "|---|---|---|---|---|---|---|---|---|---|---|\n",
       "| 2016                    |  5                      | 3129                    | 29492                   | Tackling                | No                      | Helmet-to-body          | 33445                   | Tackling                | Yes                     | Soldier Field           |\n",
       "| 2016                    | 21                      | 2587                    | 32323                   | Blocked                 | No                      | Helmet-to-helmet        | 31930                   | Blocking                | No                      | Nissan Stadium          |\n",
       "| 2016                    | 29                      |  538                    | 29343                   | Blocked                 | No                      | Helmet-to-helmet        | 31059                   | Blocking                | No                      | FedExField              |\n",
       "| 2016                    | 45                      | 1212                    | 27595                   | Tackled                 | No                      | Helmet-to-helmet        | 31950                   | Tackling                | No                      | MetLife                 |\n",
       "| 2016                    | 54                      | 1045                    | 32410                   | Blocking                | No                      | Helmet-to-body          | 23259                   | Blocked                 | No                      | Bank of America Stadium |\n",
       "| 2016                    | 60                      |  905                    | 32444                   | Blocked                 | No                      | Helmet-to-body          | 31756                   | Blocked                 | Yes                     | Ford Field              |\n",
       "\n"
      ],
      "text/plain": [
       "  Season_Year GameKey PlayID GSISID Player_Activity_Derived Turnover_Related\n",
       "1 2016         5      3129   29492  Tackling                No              \n",
       "2 2016        21      2587   32323  Blocked                 No              \n",
       "3 2016        29       538   29343  Blocked                 No              \n",
       "4 2016        45      1212   27595  Tackled                 No              \n",
       "5 2016        54      1045   32410  Blocking                No              \n",
       "6 2016        60       905   32444  Blocked                 No              \n",
       "  Primary_Impact_Type Primary_Partner_GSISID Primary_Partner_Activity_Derived\n",
       "1 Helmet-to-body      33445                  Tackling                        \n",
       "2 Helmet-to-helmet    31930                  Blocking                        \n",
       "3 Helmet-to-helmet    31059                  Blocking                        \n",
       "4 Helmet-to-helmet    31950                  Tackling                        \n",
       "5 Helmet-to-body      23259                  Blocked                         \n",
       "6 Helmet-to-body      31756                  Blocked                         \n",
       "  Friendly_Fire X                      \n",
       "1 Yes           Soldier Field          \n",
       "2 No            Nissan Stadium         \n",
       "3 No            FedExField             \n",
       "4 No            MetLife                \n",
       "5 No            Bank of America Stadium\n",
       "6 Yes           Ford Field             "
      ]
     },
     "metadata": {},
     "output_type": "display_data"
    }
   ],
   "source": [
    "head(vid_rev)"
   ]
  },
  {
   "cell_type": "code",
   "execution_count": 258,
   "metadata": {
    "scrolled": false
   },
   "outputs": [
    {
     "data": {
      "text/plain": [
       "  Season_Year      GameKey          PlayID         GSISID     \n",
       " Min.   :2016   Min.   :  5.0   Min.   : 183   Min.   :23564  \n",
       " 1st Qu.:2016   1st Qu.:218.0   1st Qu.:1262   1st Qu.:28987  \n",
       " Median :2016   Median :296.0   Median :2341   Median :31313  \n",
       " Mean   :2016   Mean   :323.2   Mean   :2186   Mean   :30642  \n",
       " 3rd Qu.:2017   3rd Qu.:448.0   3rd Qu.:2918   3rd Qu.:32615  \n",
       " Max.   :2017   Max.   :618.0   Max.   :3746   Max.   :33941  \n",
       "                                                              \n",
       " Player_Activity_Derived Turnover_Related       Primary_Impact_Type\n",
       " Blocked :10             No:37            Helmet-to-body  :17      \n",
       " Blocking: 8                              Helmet-to-ground: 2      \n",
       " Tackled : 6                              Helmet-to-helmet:17      \n",
       " Tackling:13                              Unclear         : 1      \n",
       "                                                                   \n",
       "                                                                   \n",
       "                                                                   \n",
       " Primary_Partner_GSISID Primary_Partner_Activity_Derived Friendly_Fire\n",
       "        : 3                     : 2                             : 2   \n",
       " 23259  : 1             Blocked :10                      No     :28   \n",
       " 24535  : 1             Blocking: 6                      Unclear: 1   \n",
       " 25503  : 1             Tackled : 8                      Yes    : 6   \n",
       " 27442  : 1             Tackling:10                                   \n",
       " 27860  : 1             Unclear : 1                                   \n",
       " (Other):29                                                           \n",
       "                 X     \n",
       " FedExField       : 4  \n",
       " Arrowhead Stadium: 3  \n",
       " Nissan Stadium   : 3  \n",
       " CenturyLink Field: 2  \n",
       " M&T Bank Stadium : 2  \n",
       " MetLife          : 2  \n",
       " (Other)          :21  "
      ]
     },
     "metadata": {},
     "output_type": "display_data"
    }
   ],
   "source": [
    "summary(vid_rev)"
   ]
  },
  {
   "cell_type": "code",
   "execution_count": 259,
   "metadata": {},
   "outputs": [
    {
     "name": "stdout",
     "output_type": "stream",
     "text": [
      "'data.frame':\t37 obs. of  11 variables:\n",
      " $ Season_Year                     : int  2016 2016 2016 2016 2016 2016 2016 2016 2016 2016 ...\n",
      " $ GameKey                         : int  5 21 29 45 54 60 144 149 189 218 ...\n",
      " $ PlayID                          : int  3129 2587 538 1212 1045 905 2342 3663 3509 3468 ...\n",
      " $ GSISID                          : int  29492 32323 29343 27595 32410 32444 30171 29793 30384 32403 ...\n",
      " $ Player_Activity_Derived         : Factor w/ 4 levels \"Blocked\",\"Blocking\",..: 4 1 1 3 2 1 4 2 1 2 ...\n",
      " $ Turnover_Related                : Factor w/ 1 level \"No\": 1 1 1 1 1 1 1 1 1 1 ...\n",
      " $ Primary_Impact_Type             : Factor w/ 4 levels \"Helmet-to-body\",..: 1 3 3 3 1 1 1 3 4 3 ...\n",
      " $ Primary_Partner_GSISID          : Factor w/ 35 levels \"\",\"23259\",\"24535\",..: 33 19 12 21 2 15 8 23 35 30 ...\n",
      " $ Primary_Partner_Activity_Derived: Factor w/ 6 levels \"\",\"Blocked\",\"Blocking\",..: 5 3 3 5 2 2 4 2 6 2 ...\n",
      " $ Friendly_Fire                   : Factor w/ 4 levels \"\",\"No\",\"Unclear\",..: 4 2 2 2 2 4 2 2 3 2 ...\n",
      " $ X                               : Factor w/ 25 levels \"Arrowhead Stadium\",..: 23 20 5 17 2 7 19 16 1 12 ...\n"
     ]
    }
   ],
   "source": [
    "str(vid_rev)"
   ]
  },
  {
   "cell_type": "markdown",
   "metadata": {},
   "source": [
    "### Frequency distribution of Player Activity types"
   ]
  },
  {
   "cell_type": "code",
   "execution_count": 260,
   "metadata": {
    "scrolled": false
   },
   "outputs": [
    {
     "data": {
      "text/html": [
       "<table>\n",
       "<thead><tr><th scope=col>Player_Activity_Derived</th><th scope=col>Count</th></tr></thead>\n",
       "<tbody>\n",
       "\t<tr><td>Blocked </td><td>10      </td></tr>\n",
       "\t<tr><td>Blocking</td><td> 8      </td></tr>\n",
       "\t<tr><td>Tackled </td><td> 6      </td></tr>\n",
       "\t<tr><td>Tackling</td><td>13      </td></tr>\n",
       "</tbody>\n",
       "</table>\n"
      ],
      "text/latex": [
       "\\begin{tabular}{r|ll}\n",
       " Player\\_Activity\\_Derived & Count\\\\\n",
       "\\hline\n",
       "\t Blocked  & 10      \\\\\n",
       "\t Blocking &  8      \\\\\n",
       "\t Tackled  &  6      \\\\\n",
       "\t Tackling & 13      \\\\\n",
       "\\end{tabular}\n"
      ],
      "text/markdown": [
       "\n",
       "| Player_Activity_Derived | Count |\n",
       "|---|---|\n",
       "| Blocked  | 10       |\n",
       "| Blocking |  8       |\n",
       "| Tackled  |  6       |\n",
       "| Tackling | 13       |\n",
       "\n"
      ],
      "text/plain": [
       "  Player_Activity_Derived Count\n",
       "1 Blocked                 10   \n",
       "2 Blocking                 8   \n",
       "3 Tackled                  6   \n",
       "4 Tackling                13   "
      ]
     },
     "metadata": {},
     "output_type": "display_data"
    },
    {
     "data": {
      "image/png": "[encoded data removed]",
      "text/plain": [
       "plot without title"
      ]
     },
     "metadata": {},
     "output_type": "display_data"
    }
   ],
   "source": [
    "vidrev_pivot1 <- vid_rev %>% group_by(Player_Activity_Derived) %>% dplyr::summarize(Count = n())\n",
    "vidrev_pivot1 \n",
    "options(repr.plot.width=5, repr.plot.height=4)\n",
    "ggplot(data=vidrev_pivot1, aes(x=reorder(Player_Activity_Derived, -Count), y=Count)) + geom_bar(stat='identity', fill=\"#004c6d\", width=0.6 ) + labs(title = \"Player Activity in case of an injury\",x=\"Player Activity\")"
   ]
  },
  {
   "cell_type": "markdown",
   "metadata": {},
   "source": [
    "### Adding Other and Unclear Activity types\n"
   ]
  },
  {
   "cell_type": "code",
   "execution_count": 261,
   "metadata": {
    "scrolled": false
   },
   "outputs": [
    {
     "data": {
      "text/html": [
       "<table>\n",
       "<thead><tr><th scope=col>Primary_Partner_Activity_Derived</th><th scope=col>Count</th></tr></thead>\n",
       "<tbody>\n",
       "\t<tr><td>        </td><td> 2      </td></tr>\n",
       "\t<tr><td>Blocked </td><td>10      </td></tr>\n",
       "\t<tr><td>Blocking</td><td> 6      </td></tr>\n",
       "\t<tr><td>Tackled </td><td> 8      </td></tr>\n",
       "\t<tr><td>Tackling</td><td>10      </td></tr>\n",
       "\t<tr><td>Unclear </td><td> 1      </td></tr>\n",
       "</tbody>\n",
       "</table>\n"
      ],
      "text/latex": [
       "\\begin{tabular}{r|ll}\n",
       " Primary\\_Partner\\_Activity\\_Derived & Count\\\\\n",
       "\\hline\n",
       "\t          &  2      \\\\\n",
       "\t Blocked  & 10      \\\\\n",
       "\t Blocking &  6      \\\\\n",
       "\t Tackled  &  8      \\\\\n",
       "\t Tackling & 10      \\\\\n",
       "\t Unclear  &  1      \\\\\n",
       "\\end{tabular}\n"
      ],
      "text/markdown": [
       "\n",
       "| Primary_Partner_Activity_Derived | Count |\n",
       "|---|---|\n",
       "|          |  2       |\n",
       "| Blocked  | 10       |\n",
       "| Blocking |  6       |\n",
       "| Tackled  |  8       |\n",
       "| Tackling | 10       |\n",
       "| Unclear  |  1       |\n",
       "\n"
      ],
      "text/plain": [
       "  Primary_Partner_Activity_Derived Count\n",
       "1                                   2   \n",
       "2 Blocked                          10   \n",
       "3 Blocking                          6   \n",
       "4 Tackled                           8   \n",
       "5 Tackling                         10   \n",
       "6 Unclear                           1   "
      ]
     },
     "metadata": {},
     "output_type": "display_data"
    }
   ],
   "source": [
    "vidrevpart_pivot <- vid_rev %>% group_by(Primary_Partner_Activity_Derived) %>% summarise(Count = n())\n",
    "vidrevpart_pivot "
   ]
  },
  {
   "cell_type": "code",
   "execution_count": 262,
   "metadata": {
    "collapsed": true
   },
   "outputs": [],
   "source": [
    "vidrevpart_pivot$Primary_Partner_Activity_Derived <- as.character(vidrevpart_pivot$Primary_Partner_Activity_Derived)"
   ]
  },
  {
   "cell_type": "code",
   "execution_count": 263,
   "metadata": {
    "collapsed": true
   },
   "outputs": [],
   "source": [
    "vidrevpart_pivot[vidrevpart_pivot$Primary_Partner_Activity_Derived == \"\",\"Primary_Partner_Activity_Derived\"] <- \"Other\""
   ]
  },
  {
   "cell_type": "code",
   "execution_count": 264,
   "metadata": {},
   "outputs": [
    {
     "data": {
      "text/html": [
       "<table>\n",
       "<thead><tr><th scope=col>Primary_Partner_Activity_Derived</th><th scope=col>Count</th></tr></thead>\n",
       "<tbody>\n",
       "\t<tr><td>Other   </td><td> 2      </td></tr>\n",
       "\t<tr><td>Blocked </td><td>10      </td></tr>\n",
       "\t<tr><td>Blocking</td><td> 6      </td></tr>\n",
       "\t<tr><td>Tackled </td><td> 8      </td></tr>\n",
       "\t<tr><td>Tackling</td><td>10      </td></tr>\n",
       "\t<tr><td>Unclear </td><td> 1      </td></tr>\n",
       "</tbody>\n",
       "</table>\n"
      ],
      "text/latex": [
       "\\begin{tabular}{r|ll}\n",
       " Primary\\_Partner\\_Activity\\_Derived & Count\\\\\n",
       "\\hline\n",
       "\t Other    &  2      \\\\\n",
       "\t Blocked  & 10      \\\\\n",
       "\t Blocking &  6      \\\\\n",
       "\t Tackled  &  8      \\\\\n",
       "\t Tackling & 10      \\\\\n",
       "\t Unclear  &  1      \\\\\n",
       "\\end{tabular}\n"
      ],
      "text/markdown": [
       "\n",
       "| Primary_Partner_Activity_Derived | Count |\n",
       "|---|---|\n",
       "| Other    |  2       |\n",
       "| Blocked  | 10       |\n",
       "| Blocking |  6       |\n",
       "| Tackled  |  8       |\n",
       "| Tackling | 10       |\n",
       "| Unclear  |  1       |\n",
       "\n"
      ],
      "text/plain": [
       "  Primary_Partner_Activity_Derived Count\n",
       "1 Other                             2   \n",
       "2 Blocked                          10   \n",
       "3 Blocking                          6   \n",
       "4 Tackled                           8   \n",
       "5 Tackling                         10   \n",
       "6 Unclear                           1   "
      ]
     },
     "metadata": {},
     "output_type": "display_data"
    }
   ],
   "source": [
    "vidrevpart_pivot"
   ]
  },
  {
   "cell_type": "code",
   "execution_count": 265,
   "metadata": {},
   "outputs": [
    {
     "data": {
      "image/png": "[encoded data removed]",
      "text/plain": [
       "plot without title"
      ]
     },
     "metadata": {},
     "output_type": "display_data"
    }
   ],
   "source": [
    "ggplot(data=vidrevpart_pivot, aes(x=reorder(Primary_Partner_Activity_Derived, -Count), y=Count)) + geom_bar(stat='identity', fill=\"#004c6d\", width=0.6 ) + labs(title = \"Partner Activity in case of an injury\",x=\"Partner Activity\")"
   ]
  },
  {
   "cell_type": "markdown",
   "metadata": {},
   "source": [
    "__Note:__ \"Other\" is where impact was with ground, hence no partner."
   ]
  },
  {
   "cell_type": "markdown",
   "metadata": {},
   "source": [
    "### Frequency distribution of Impact types"
   ]
  },
  {
   "cell_type": "code",
   "execution_count": 266,
   "metadata": {
    "scrolled": false
   },
   "outputs": [
    {
     "data": {
      "text/html": [
       "<table>\n",
       "<thead><tr><th scope=col>Primary_Impact_Type</th><th scope=col>Count</th></tr></thead>\n",
       "<tbody>\n",
       "\t<tr><td>Helmet-to-body  </td><td>17              </td></tr>\n",
       "\t<tr><td>Helmet-to-ground</td><td> 2              </td></tr>\n",
       "\t<tr><td>Helmet-to-helmet</td><td>17              </td></tr>\n",
       "\t<tr><td>Unclear         </td><td> 1              </td></tr>\n",
       "</tbody>\n",
       "</table>\n"
      ],
      "text/latex": [
       "\\begin{tabular}{r|ll}\n",
       " Primary\\_Impact\\_Type & Count\\\\\n",
       "\\hline\n",
       "\t Helmet-to-body   & 17              \\\\\n",
       "\t Helmet-to-ground &  2              \\\\\n",
       "\t Helmet-to-helmet & 17              \\\\\n",
       "\t Unclear          &  1              \\\\\n",
       "\\end{tabular}\n"
      ],
      "text/markdown": [
       "\n",
       "| Primary_Impact_Type | Count |\n",
       "|---|---|\n",
       "| Helmet-to-body   | 17               |\n",
       "| Helmet-to-ground |  2               |\n",
       "| Helmet-to-helmet | 17               |\n",
       "| Unclear          |  1               |\n",
       "\n"
      ],
      "text/plain": [
       "  Primary_Impact_Type Count\n",
       "1 Helmet-to-body      17   \n",
       "2 Helmet-to-ground     2   \n",
       "3 Helmet-to-helmet    17   \n",
       "4 Unclear              1   "
      ]
     },
     "metadata": {},
     "output_type": "display_data"
    },
    {
     "data": {
      "image/png": "[encoded data removed]",
      "text/plain": [
       "plot without title"
      ]
     },
     "metadata": {},
     "output_type": "display_data"
    }
   ],
   "source": [
    "vidrev_pivot2 <- vid_rev %>% group_by(Primary_Impact_Type) %>% dplyr::summarize(Count = n()) \n",
    "vidrev_pivot2\n",
    "ggplot(data=vidrev_pivot2, aes(x=reorder(Primary_Impact_Type, -Count), y=Count)) + geom_bar(stat='identity', fill=\"#004c6d\", width = 0.6) + labs(x=\"Impact Type\", title=\"Impact Type in case of injury\")"
   ]
  },
  {
   "cell_type": "markdown",
   "metadata": {},
   "source": [
    "### Distribution of Impact type against Player Activity\n",
    "- Certain impact type - Player Activity combinations have higher amounts of concussions"
   ]
  },
  {
   "cell_type": "code",
   "execution_count": 267,
   "metadata": {
    "scrolled": false
   },
   "outputs": [
    {
     "data": {
      "text/html": [
       "<table>\n",
       "<thead><tr><th scope=col>Player_Activity_Derived</th><th scope=col>Primary_Impact_Type</th><th scope=col>Count</th><th scope=col>Percent_concussion</th></tr></thead>\n",
       "<tbody>\n",
       "\t<tr><td>Blocked         </td><td>Helmet-to-body  </td><td>3               </td><td> 8.108108       </td></tr>\n",
       "\t<tr><td>Blocked         </td><td>Helmet-to-ground</td><td>1               </td><td> 2.702703       </td></tr>\n",
       "\t<tr><td>Blocked         </td><td>Helmet-to-helmet</td><td>5               </td><td>13.513514       </td></tr>\n",
       "\t<tr><td>Blocked         </td><td>Unclear         </td><td>1               </td><td> 2.702703       </td></tr>\n",
       "\t<tr><td>Blocking        </td><td>Helmet-to-body  </td><td>4               </td><td>10.810811       </td></tr>\n",
       "\t<tr><td>Blocking        </td><td>Helmet-to-helmet</td><td>4               </td><td>10.810811       </td></tr>\n",
       "\t<tr><td>Tackled         </td><td>Helmet-to-body  </td><td>2               </td><td> 5.405405       </td></tr>\n",
       "\t<tr><td>Tackled         </td><td>Helmet-to-helmet</td><td>4               </td><td>10.810811       </td></tr>\n",
       "\t<tr><td>Tackling        </td><td>Helmet-to-body  </td><td>8               </td><td>21.621622       </td></tr>\n",
       "\t<tr><td>Tackling        </td><td>Helmet-to-ground</td><td>1               </td><td> 2.702703       </td></tr>\n",
       "\t<tr><td>Tackling        </td><td>Helmet-to-helmet</td><td>4               </td><td>10.810811       </td></tr>\n",
       "</tbody>\n",
       "</table>\n"
      ],
      "text/latex": [
       "\\begin{tabular}{r|llll}\n",
       " Player\\_Activity\\_Derived & Primary\\_Impact\\_Type & Count & Percent\\_concussion\\\\\n",
       "\\hline\n",
       "\t Blocked          & Helmet-to-body   & 3                &  8.108108       \\\\\n",
       "\t Blocked          & Helmet-to-ground & 1                &  2.702703       \\\\\n",
       "\t Blocked          & Helmet-to-helmet & 5                & 13.513514       \\\\\n",
       "\t Blocked          & Unclear          & 1                &  2.702703       \\\\\n",
       "\t Blocking         & Helmet-to-body   & 4                & 10.810811       \\\\\n",
       "\t Blocking         & Helmet-to-helmet & 4                & 10.810811       \\\\\n",
       "\t Tackled          & Helmet-to-body   & 2                &  5.405405       \\\\\n",
       "\t Tackled          & Helmet-to-helmet & 4                & 10.810811       \\\\\n",
       "\t Tackling         & Helmet-to-body   & 8                & 21.621622       \\\\\n",
       "\t Tackling         & Helmet-to-ground & 1                &  2.702703       \\\\\n",
       "\t Tackling         & Helmet-to-helmet & 4                & 10.810811       \\\\\n",
       "\\end{tabular}\n"
      ],
      "text/markdown": [
       "\n",
       "| Player_Activity_Derived | Primary_Impact_Type | Count | Percent_concussion |\n",
       "|---|---|---|---|\n",
       "| Blocked          | Helmet-to-body   | 3                |  8.108108        |\n",
       "| Blocked          | Helmet-to-ground | 1                |  2.702703        |\n",
       "| Blocked          | Helmet-to-helmet | 5                | 13.513514        |\n",
       "| Blocked          | Unclear          | 1                |  2.702703        |\n",
       "| Blocking         | Helmet-to-body   | 4                | 10.810811        |\n",
       "| Blocking         | Helmet-to-helmet | 4                | 10.810811        |\n",
       "| Tackled          | Helmet-to-body   | 2                |  5.405405        |\n",
       "| Tackled          | Helmet-to-helmet | 4                | 10.810811        |\n",
       "| Tackling         | Helmet-to-body   | 8                | 21.621622        |\n",
       "| Tackling         | Helmet-to-ground | 1                |  2.702703        |\n",
       "| Tackling         | Helmet-to-helmet | 4                | 10.810811        |\n",
       "\n"
      ],
      "text/plain": [
       "   Player_Activity_Derived Primary_Impact_Type Count Percent_concussion\n",
       "1  Blocked                 Helmet-to-body      3      8.108108         \n",
       "2  Blocked                 Helmet-to-ground    1      2.702703         \n",
       "3  Blocked                 Helmet-to-helmet    5     13.513514         \n",
       "4  Blocked                 Unclear             1      2.702703         \n",
       "5  Blocking                Helmet-to-body      4     10.810811         \n",
       "6  Blocking                Helmet-to-helmet    4     10.810811         \n",
       "7  Tackled                 Helmet-to-body      2      5.405405         \n",
       "8  Tackled                 Helmet-to-helmet    4     10.810811         \n",
       "9  Tackling                Helmet-to-body      8     21.621622         \n",
       "10 Tackling                Helmet-to-ground    1      2.702703         \n",
       "11 Tackling                Helmet-to-helmet    4     10.810811         "
      ]
     },
     "metadata": {},
     "output_type": "display_data"
    }
   ],
   "source": [
    "vidrev_pivot3 <- vid_rev %>% group_by(Player_Activity_Derived,Primary_Impact_Type) %>% dplyr::summarize(Count = n()) \n",
    "vidrev_pivot3$Percent_concussion <- vidrev_pivot3$Count*100/sum(vidrev_pivot3$Count)\n",
    "vidrev_pivot3 "
   ]
  },
  {
   "cell_type": "code",
   "execution_count": 268,
   "metadata": {
    "scrolled": false
   },
   "outputs": [
    {
     "data": {
      "text/html": [
       "<table>\n",
       "<thead><tr><th scope=col>Primary_Impact_Type</th><th scope=col>Player_Activity_Derived</th><th scope=col>Count</th><th scope=col>Percent_concussion</th></tr></thead>\n",
       "<tbody>\n",
       "\t<tr><td>Helmet-to-body  </td><td>Blocked         </td><td>3               </td><td> 8.108108       </td></tr>\n",
       "\t<tr><td>Helmet-to-body  </td><td>Blocking        </td><td>4               </td><td>10.810811       </td></tr>\n",
       "\t<tr><td>Helmet-to-body  </td><td>Tackled         </td><td>2               </td><td> 5.405405       </td></tr>\n",
       "\t<tr><td>Helmet-to-body  </td><td>Tackling        </td><td>8               </td><td>21.621622       </td></tr>\n",
       "\t<tr><td>Helmet-to-ground</td><td>Blocked         </td><td>1               </td><td> 2.702703       </td></tr>\n",
       "\t<tr><td>Helmet-to-ground</td><td>Blocking        </td><td>0               </td><td> 0.000000       </td></tr>\n",
       "\t<tr><td>Helmet-to-ground</td><td>Tackled         </td><td>0               </td><td> 0.000000       </td></tr>\n",
       "\t<tr><td>Helmet-to-ground</td><td>Tackling        </td><td>1               </td><td> 2.702703       </td></tr>\n",
       "\t<tr><td>Helmet-to-helmet</td><td>Blocked         </td><td>5               </td><td>13.513514       </td></tr>\n",
       "\t<tr><td>Helmet-to-helmet</td><td>Blocking        </td><td>4               </td><td>10.810811       </td></tr>\n",
       "\t<tr><td>Helmet-to-helmet</td><td>Tackled         </td><td>4               </td><td>10.810811       </td></tr>\n",
       "\t<tr><td>Helmet-to-helmet</td><td>Tackling        </td><td>4               </td><td>10.810811       </td></tr>\n",
       "\t<tr><td>Unclear         </td><td>Blocked         </td><td>1               </td><td> 2.702703       </td></tr>\n",
       "\t<tr><td>Unclear         </td><td>Blocking        </td><td>0               </td><td> 0.000000       </td></tr>\n",
       "\t<tr><td>Unclear         </td><td>Tackled         </td><td>0               </td><td> 0.000000       </td></tr>\n",
       "\t<tr><td>Unclear         </td><td>Tackling        </td><td>0               </td><td> 0.000000       </td></tr>\n",
       "</tbody>\n",
       "</table>\n"
      ],
      "text/latex": [
       "\\begin{tabular}{r|llll}\n",
       " Primary\\_Impact\\_Type & Player\\_Activity\\_Derived & Count & Percent\\_concussion\\\\\n",
       "\\hline\n",
       "\t Helmet-to-body   & Blocked          & 3                &  8.108108       \\\\\n",
       "\t Helmet-to-body   & Blocking         & 4                & 10.810811       \\\\\n",
       "\t Helmet-to-body   & Tackled          & 2                &  5.405405       \\\\\n",
       "\t Helmet-to-body   & Tackling         & 8                & 21.621622       \\\\\n",
       "\t Helmet-to-ground & Blocked          & 1                &  2.702703       \\\\\n",
       "\t Helmet-to-ground & Blocking         & 0                &  0.000000       \\\\\n",
       "\t Helmet-to-ground & Tackled          & 0                &  0.000000       \\\\\n",
       "\t Helmet-to-ground & Tackling         & 1                &  2.702703       \\\\\n",
       "\t Helmet-to-helmet & Blocked          & 5                & 13.513514       \\\\\n",
       "\t Helmet-to-helmet & Blocking         & 4                & 10.810811       \\\\\n",
       "\t Helmet-to-helmet & Tackled          & 4                & 10.810811       \\\\\n",
       "\t Helmet-to-helmet & Tackling         & 4                & 10.810811       \\\\\n",
       "\t Unclear          & Blocked          & 1                &  2.702703       \\\\\n",
       "\t Unclear          & Blocking         & 0                &  0.000000       \\\\\n",
       "\t Unclear          & Tackled          & 0                &  0.000000       \\\\\n",
       "\t Unclear          & Tackling         & 0                &  0.000000       \\\\\n",
       "\\end{tabular}\n"
      ],
      "text/markdown": [
       "\n",
       "| Primary_Impact_Type | Player_Activity_Derived | Count | Percent_concussion |\n",
       "|---|---|---|---|\n",
       "| Helmet-to-body   | Blocked          | 3                |  8.108108        |\n",
       "| Helmet-to-body   | Blocking         | 4                | 10.810811        |\n",
       "| Helmet-to-body   | Tackled          | 2                |  5.405405        |\n",
       "| Helmet-to-body   | Tackling         | 8                | 21.621622        |\n",
       "| Helmet-to-ground | Blocked          | 1                |  2.702703        |\n",
       "| Helmet-to-ground | Blocking         | 0                |  0.000000        |\n",
       "| Helmet-to-ground | Tackled          | 0                |  0.000000        |\n",
       "| Helmet-to-ground | Tackling         | 1                |  2.702703        |\n",
       "| Helmet-to-helmet | Blocked          | 5                | 13.513514        |\n",
       "| Helmet-to-helmet | Blocking         | 4                | 10.810811        |\n",
       "| Helmet-to-helmet | Tackled          | 4                | 10.810811        |\n",
       "| Helmet-to-helmet | Tackling         | 4                | 10.810811        |\n",
       "| Unclear          | Blocked          | 1                |  2.702703        |\n",
       "| Unclear          | Blocking         | 0                |  0.000000        |\n",
       "| Unclear          | Tackled          | 0                |  0.000000        |\n",
       "| Unclear          | Tackling         | 0                |  0.000000        |\n",
       "\n"
      ],
      "text/plain": [
       "   Primary_Impact_Type Player_Activity_Derived Count Percent_concussion\n",
       "1  Helmet-to-body      Blocked                 3      8.108108         \n",
       "2  Helmet-to-body      Blocking                4     10.810811         \n",
       "3  Helmet-to-body      Tackled                 2      5.405405         \n",
       "4  Helmet-to-body      Tackling                8     21.621622         \n",
       "5  Helmet-to-ground    Blocked                 1      2.702703         \n",
       "6  Helmet-to-ground    Blocking                0      0.000000         \n",
       "7  Helmet-to-ground    Tackled                 0      0.000000         \n",
       "8  Helmet-to-ground    Tackling                1      2.702703         \n",
       "9  Helmet-to-helmet    Blocked                 5     13.513514         \n",
       "10 Helmet-to-helmet    Blocking                4     10.810811         \n",
       "11 Helmet-to-helmet    Tackled                 4     10.810811         \n",
       "12 Helmet-to-helmet    Tackling                4     10.810811         \n",
       "13 Unclear             Blocked                 1      2.702703         \n",
       "14 Unclear             Blocking                0      0.000000         \n",
       "15 Unclear             Tackled                 0      0.000000         \n",
       "16 Unclear             Tackling                0      0.000000         "
      ]
     },
     "metadata": {},
     "output_type": "display_data"
    }
   ],
   "source": [
    "#we need to retain values for all levels of pivot table\n",
    "temp_df1 <- merge(unique(vidrev_pivot3$Primary_Impact_Type),unique(vidrev_pivot3$Player_Activity_Derived))\n",
    "colnames(temp_df1 ) <- c(\"Primary_Impact_Type\",\"Player_Activity_Derived\")\n",
    "vidrev_pivot3 <- merge(temp_df1,vidrev_pivot3,by=c('Primary_Impact_Type','Player_Activity_Derived'),all.x=TRUE)\n",
    "vidrev_pivot3[is.na(vidrev_pivot3)] <- 0\n",
    "vidrev_pivot3\n"
   ]
  },
  {
   "cell_type": "code",
   "execution_count": 269,
   "metadata": {
    "scrolled": false
   },
   "outputs": [
    {
     "data": {
      "text/html": [
       "<table>\n",
       "<thead><tr><th scope=col>Primary_Impact_Type</th><th scope=col>Blocked</th><th scope=col>Blocking</th><th scope=col>Tackled</th><th scope=col>Tackling</th></tr></thead>\n",
       "<tbody>\n",
       "\t<tr><td>Helmet-to-body  </td><td>3               </td><td>4               </td><td>2               </td><td>8               </td></tr>\n",
       "\t<tr><td>Helmet-to-ground</td><td>1               </td><td>0               </td><td>0               </td><td>1               </td></tr>\n",
       "\t<tr><td>Helmet-to-helmet</td><td>5               </td><td>4               </td><td>4               </td><td>4               </td></tr>\n",
       "\t<tr><td>Unclear         </td><td>1               </td><td>0               </td><td>0               </td><td>0               </td></tr>\n",
       "</tbody>\n",
       "</table>\n"
      ],
      "text/latex": [
       "\\begin{tabular}{r|lllll}\n",
       " Primary\\_Impact\\_Type & Blocked & Blocking & Tackled & Tackling\\\\\n",
       "\\hline\n",
       "\t Helmet-to-body   & 3                & 4                & 2                & 8               \\\\\n",
       "\t Helmet-to-ground & 1                & 0                & 0                & 1               \\\\\n",
       "\t Helmet-to-helmet & 5                & 4                & 4                & 4               \\\\\n",
       "\t Unclear          & 1                & 0                & 0                & 0               \\\\\n",
       "\\end{tabular}\n"
      ],
      "text/markdown": [
       "\n",
       "| Primary_Impact_Type | Blocked | Blocking | Tackled | Tackling |\n",
       "|---|---|---|---|---|\n",
       "| Helmet-to-body   | 3                | 4                | 2                | 8                |\n",
       "| Helmet-to-ground | 1                | 0                | 0                | 1                |\n",
       "| Helmet-to-helmet | 5                | 4                | 4                | 4                |\n",
       "| Unclear          | 1                | 0                | 0                | 0                |\n",
       "\n"
      ],
      "text/plain": [
       "  Primary_Impact_Type Blocked Blocking Tackled Tackling\n",
       "1 Helmet-to-body      3       4        2       8       \n",
       "2 Helmet-to-ground    1       0        0       1       \n",
       "3 Helmet-to-helmet    5       4        4       4       \n",
       "4 Unclear             1       0        0       0       "
      ]
     },
     "metadata": {},
     "output_type": "display_data"
    },
    {
     "data": {
      "image/png": "[encoded data removed]",
      "text/plain": [
       "plot without title"
      ]
     },
     "metadata": {},
     "output_type": "display_data"
    }
   ],
   "source": [
    "vidrev_pivot31 <- select(vidrev_pivot3, Primary_Impact_Type, Player_Activity_Derived, Count)\n",
    "vidrev_pivot4 <- vidrev_pivot31 %>% spread(Player_Activity_Derived, Count)\n",
    "vidrev_pivot4\n",
    "options(repr.plot.width=10, repr.plot.height=5)\n",
    "ggplot(data=vidrev_pivot31, \n",
    "       aes(x=reorder(Player_Activity_Derived, -Count), y=Count, \n",
    "           fill=reorder(Primary_Impact_Type, -Count))) + geom_bar(stat='identity', \n",
    "                                                                  position=position_dodge()) + \n",
    "        scale_fill_manual(values=c(\"#003f5c\", \"#58508d\",\"#ffa600\",\"#ff6361\")) + \n",
    "        labs(title = \"Relation b/n Primary Imapct and Player Activity\", x=\"Player Activity\") + \n",
    "        coord_flip() + \n",
    "        guides(fill=guide_legend(title=\"Impact Type\"))"
   ]
  },
  {
   "cell_type": "markdown",
   "metadata": {},
   "source": [
    "## EDA of Game Data"
   ]
  },
  {
   "cell_type": "code",
   "execution_count": 270,
   "metadata": {
    "scrolled": false
   },
   "outputs": [
    {
     "data": {
      "text/html": [
       "<table>\n",
       "<thead><tr><th scope=col>GameKey</th><th scope=col>Season_Year</th><th scope=col>Season_Type</th><th scope=col>Week</th><th scope=col>Game_Date</th><th scope=col>Game_Day</th><th scope=col>Game_Site</th><th scope=col>Start_Time</th><th scope=col>Home_Team</th><th scope=col>HomeTeamCode</th><th scope=col>Visit_Team</th><th scope=col>VisitTeamCode</th><th scope=col>Stadium</th><th scope=col>StadiumType</th><th scope=col>Turf</th><th scope=col>GameWeather</th><th scope=col>Temperature</th><th scope=col>OutdoorWeather</th></tr></thead>\n",
       "<tbody>\n",
       "\t<tr><td>1                                </td><td>2016                             </td><td>Pre                              </td><td>1                                </td><td>2016-08-07 00:00:00.000          </td><td>Sunday                           </td><td>Indianapolis                     </td><td>20:00                            </td><td>Indianapolis Colts               </td><td>IND                              </td><td>Green Bay Packers                </td><td>GB                               </td><td>Tom Benson Hall of Fame Stadium  </td><td>Outdoor                          </td><td>Turf                             </td><td>                                 </td><td>NA                               </td><td>                                 </td></tr>\n",
       "\t<tr><td>2                                </td><td>2016                             </td><td>Pre                              </td><td>2                                </td><td>2016-08-13 00:00:00.000          </td><td>Saturday                         </td><td>Los Angeles                      </td><td>17:00                            </td><td>Los Angeles Rams                 </td><td>LA                               </td><td>Dallas Cowboys                   </td><td>DAL                              </td><td>Los  Angeles Memorial Coliseum   </td><td>Outdoor                          </td><td>Grass                            </td><td>Sunny                            </td><td>79                               </td><td>Sunny                            </td></tr>\n",
       "\t<tr><td>3                                                                          </td><td>2016                                                                       </td><td>Pre                                                                        </td><td>2                                                                          </td><td>2016-08-11 00:00:00.000                                                    </td><td>Thursday                                                                   </td><td><span style=white-space:pre-wrap>Baltimore   </span>                       </td><td>19:30                                                                      </td><td><span style=white-space:pre-wrap>Baltimore Ravens   </span>                </td><td>BLT                                                                        </td><td>Carolina Panthers                                                          </td><td>CAR                                                                        </td><td><span style=white-space:pre-wrap>M&amp;T Bank Stadium               </span></td><td>Outdoor                                                                    </td><td>Natural Grass                                                              </td><td><span style=white-space:pre-wrap>Party Cloudy                     </span>  </td><td>94                                                                         </td><td>Partly Cloudy                                                              </td></tr>\n",
       "\t<tr><td>4                                </td><td>2016                             </td><td>Pre                              </td><td>2                                </td><td>2016-08-12 00:00:00.000          </td><td>Friday                           </td><td>Green Bay                        </td><td>19:00                            </td><td>Green Bay Packers                </td><td>GB                               </td><td>Cleveland Browns                 </td><td>CLV                              </td><td>Lambeau Field                    </td><td>Outdoor                          </td><td>DD GrassMaster                   </td><td>                                 </td><td>73                               </td><td>                                 </td></tr>\n",
       "\t<tr><td>5                                </td><td>2016                             </td><td>Pre                              </td><td>2                                </td><td>2016-08-11 00:00:00.000          </td><td>Thursday                         </td><td>Chicago                          </td><td>19:00                            </td><td>Chicago Bears                    </td><td>CHI                              </td><td>Denver Broncos                   </td><td>DEN                              </td><td>Soldier Field                    </td><td>Outdoor                          </td><td>Grass                            </td><td>Partly Cloudy, Chance of Rain 80%</td><td>88                               </td><td>                                 </td></tr>\n",
       "\t<tr><td>6                                </td><td>2016                             </td><td>Pre                              </td><td>2                                </td><td>2016-08-12 00:00:00.000          </td><td>Friday                           </td><td>Pittsburgh                       </td><td>19:00                            </td><td>Pittsburgh Steelers              </td><td>PIT                              </td><td>Detroit Lions                    </td><td>DET                              </td><td>Heinz Field                      </td><td>Outdoors                         </td><td>Grass                            </td><td>Partly Cloudy                    </td><td>82                               </td><td>Partly Cloudy                    </td></tr>\n",
       "</tbody>\n",
       "</table>\n"
      ],
      "text/latex": [
       "\\begin{tabular}{r|llllllllllllllllll}\n",
       " GameKey & Season\\_Year & Season\\_Type & Week & Game\\_Date & Game\\_Day & Game\\_Site & Start\\_Time & Home\\_Team & HomeTeamCode & Visit\\_Team & VisitTeamCode & Stadium & StadiumType & Turf & GameWeather & Temperature & OutdoorWeather\\\\\n",
       "\\hline\n",
       "\t 1                                 & 2016                              & Pre                               & 1                                 & 2016-08-07 00:00:00.000           & Sunday                            & Indianapolis                      & 20:00                             & Indianapolis Colts                & IND                               & Green Bay Packers                 & GB                                & Tom Benson Hall of Fame Stadium   & Outdoor                           & Turf                              &                                   & NA                                &                                  \\\\\n",
       "\t 2                                 & 2016                              & Pre                               & 2                                 & 2016-08-13 00:00:00.000           & Saturday                          & Los Angeles                       & 17:00                             & Los Angeles Rams                  & LA                                & Dallas Cowboys                    & DAL                               & Los  Angeles Memorial Coliseum    & Outdoor                           & Grass                             & Sunny                             & 79                                & Sunny                            \\\\\n",
       "\t 3                                 & 2016                              & Pre                               & 2                                 & 2016-08-11 00:00:00.000           & Thursday                          & Baltimore                         & 19:30                             & Baltimore Ravens                  & BLT                               & Carolina Panthers                 & CAR                               & M\\&T Bank Stadium                & Outdoor                           & Natural Grass                     & Party Cloudy                      & 94                                & Partly Cloudy                    \\\\\n",
       "\t 4                                 & 2016                              & Pre                               & 2                                 & 2016-08-12 00:00:00.000           & Friday                            & Green Bay                         & 19:00                             & Green Bay Packers                 & GB                                & Cleveland Browns                  & CLV                               & Lambeau Field                     & Outdoor                           & DD GrassMaster                    &                                   & 73                                &                                  \\\\\n",
       "\t 5                                   & 2016                                & Pre                                 & 2                                   & 2016-08-11 00:00:00.000             & Thursday                            & Chicago                             & 19:00                               & Chicago Bears                       & CHI                                 & Denver Broncos                      & DEN                                 & Soldier Field                       & Outdoor                             & Grass                               & Partly Cloudy, Chance of Rain 80\\% & 88                                  &                                    \\\\\n",
       "\t 6                                 & 2016                              & Pre                               & 2                                 & 2016-08-12 00:00:00.000           & Friday                            & Pittsburgh                        & 19:00                             & Pittsburgh Steelers               & PIT                               & Detroit Lions                     & DET                               & Heinz Field                       & Outdoors                          & Grass                             & Partly Cloudy                     & 82                                & Partly Cloudy                    \\\\\n",
       "\\end{tabular}\n"
      ],
      "text/markdown": [
       "\n",
       "| GameKey | Season_Year | Season_Type | Week | Game_Date | Game_Day | Game_Site | Start_Time | Home_Team | HomeTeamCode | Visit_Team | VisitTeamCode | Stadium | StadiumType | Turf | GameWeather | Temperature | OutdoorWeather |\n",
       "|---|---|---|---|---|---|---|---|---|---|---|---|---|---|---|---|---|---|\n",
       "| 1                                 | 2016                              | Pre                               | 1                                 | 2016-08-07 00:00:00.000           | Sunday                            | Indianapolis                      | 20:00                             | Indianapolis Colts                | IND                               | Green Bay Packers                 | GB                                | Tom Benson Hall of Fame Stadium   | Outdoor                           | Turf                              |                                   | NA                                |                                   |\n",
       "| 2                                 | 2016                              | Pre                               | 2                                 | 2016-08-13 00:00:00.000           | Saturday                          | Los Angeles                       | 17:00                             | Los Angeles Rams                  | LA                                | Dallas Cowboys                    | DAL                               | Los  Angeles Memorial Coliseum    | Outdoor                           | Grass                             | Sunny                             | 79                                | Sunny                             |\n",
       "| 3                                 | 2016                              | Pre                               | 2                                 | 2016-08-11 00:00:00.000           | Thursday                          | Baltimore                         | 19:30                             | Baltimore Ravens                  | BLT                               | Carolina Panthers                 | CAR                               | M&T Bank Stadium                  | Outdoor                           | Natural Grass                     | Party Cloudy                      | 94                                | Partly Cloudy                     |\n",
       "| 4                                 | 2016                              | Pre                               | 2                                 | 2016-08-12 00:00:00.000           | Friday                            | Green Bay                         | 19:00                             | Green Bay Packers                 | GB                                | Cleveland Browns                  | CLV                               | Lambeau Field                     | Outdoor                           | DD GrassMaster                    |                                   | 73                                |                                   |\n",
       "| 5                                 | 2016                              | Pre                               | 2                                 | 2016-08-11 00:00:00.000           | Thursday                          | Chicago                           | 19:00                             | Chicago Bears                     | CHI                               | Denver Broncos                    | DEN                               | Soldier Field                     | Outdoor                           | Grass                             | Partly Cloudy, Chance of Rain 80% | 88                                |                                   |\n",
       "| 6                                 | 2016                              | Pre                               | 2                                 | 2016-08-12 00:00:00.000           | Friday                            | Pittsburgh                        | 19:00                             | Pittsburgh Steelers               | PIT                               | Detroit Lions                     | DET                               | Heinz Field                       | Outdoors                          | Grass                             | Partly Cloudy                     | 82                                | Partly Cloudy                     |\n",
       "\n"
      ],
      "text/plain": [
       "  GameKey Season_Year Season_Type Week Game_Date               Game_Day\n",
       "1 1       2016        Pre         1    2016-08-07 00:00:00.000 Sunday  \n",
       "2 2       2016        Pre         2    2016-08-13 00:00:00.000 Saturday\n",
       "3 3       2016        Pre         2    2016-08-11 00:00:00.000 Thursday\n",
       "4 4       2016        Pre         2    2016-08-12 00:00:00.000 Friday  \n",
       "5 5       2016        Pre         2    2016-08-11 00:00:00.000 Thursday\n",
       "6 6       2016        Pre         2    2016-08-12 00:00:00.000 Friday  \n",
       "  Game_Site    Start_Time Home_Team           HomeTeamCode Visit_Team       \n",
       "1 Indianapolis 20:00      Indianapolis Colts  IND          Green Bay Packers\n",
       "2 Los Angeles  17:00      Los Angeles Rams    LA           Dallas Cowboys   \n",
       "3 Baltimore    19:30      Baltimore Ravens    BLT          Carolina Panthers\n",
       "4 Green Bay    19:00      Green Bay Packers   GB           Cleveland Browns \n",
       "5 Chicago      19:00      Chicago Bears       CHI          Denver Broncos   \n",
       "6 Pittsburgh   19:00      Pittsburgh Steelers PIT          Detroit Lions    \n",
       "  VisitTeamCode Stadium                         StadiumType Turf          \n",
       "1 GB            Tom Benson Hall of Fame Stadium Outdoor     Turf          \n",
       "2 DAL           Los  Angeles Memorial Coliseum  Outdoor     Grass         \n",
       "3 CAR           M&T Bank Stadium                Outdoor     Natural Grass \n",
       "4 CLV           Lambeau Field                   Outdoor     DD GrassMaster\n",
       "5 DEN           Soldier Field                   Outdoor     Grass         \n",
       "6 DET           Heinz Field                     Outdoors    Grass         \n",
       "  GameWeather                       Temperature OutdoorWeather\n",
       "1                                   NA                        \n",
       "2 Sunny                             79          Sunny         \n",
       "3 Party Cloudy                      94          Partly Cloudy \n",
       "4                                   73                        \n",
       "5 Partly Cloudy, Chance of Rain 80% 88                        \n",
       "6 Partly Cloudy                     82          Partly Cloudy "
      ]
     },
     "metadata": {},
     "output_type": "display_data"
    }
   ],
   "source": [
    "head(game_data)"
   ]
  },
  {
   "cell_type": "code",
   "execution_count": 271,
   "metadata": {},
   "outputs": [
    {
     "data": {
      "text/plain": [
       "    GameKey       Season_Year   Season_Type      Week       \n",
       " Min.   :  1.0   Min.   :2016   Post: 24    Min.   : 1.000  \n",
       " 1st Qu.:167.2   1st Qu.:2016   Pre :130    1st Qu.: 3.000  \n",
       " Median :333.5   Median :2016   Reg :512    Median : 6.000  \n",
       " Mean   :333.5   Mean   :2016               Mean   : 7.724  \n",
       " 3rd Qu.:499.8   3rd Qu.:2017               3rd Qu.:12.000  \n",
       " Max.   :666.0   Max.   :2017               Max.   :17.000  \n",
       "                                                            \n",
       "                   Game_Date        Game_Day             Game_Site  \n",
       " 2017-01-01 00:00:00.000: 16   Friday   : 19   East Rutherford: 40  \n",
       " 2017-08-31 00:00:00.000: 16   Monday   : 36   Foxborough     : 24  \n",
       " 2017-12-31 00:00:00.000: 16   Saturday : 63   Atlanta        : 22  \n",
       " 2016-09-01 00:00:00.000: 15   Sunday   :453   Houston        : 22  \n",
       " 2016-09-18 00:00:00.000: 14   Thursday : 93   Kansas City    : 22  \n",
       " 2016-09-25 00:00:00.000: 14   Wednesday:  2   Minneapolis    : 22  \n",
       " (Other)                :575                   (Other)        :514  \n",
       "   Start_Time                 Home_Team    HomeTeamCode\n",
       " 13:00  :188   New England Patriots: 25   NE     : 25  \n",
       " 12:00  : 82   Atlanta Falcons     : 23   ATL    : 23  \n",
       " 19:00  : 66   Dallas Cowboys      : 22   DAL    : 22  \n",
       " 19:30  : 49   Kansas City Chiefs  : 22   KC     : 22  \n",
       " 13:05  : 35   Philadelphia Eagles : 22   PHI    : 22  \n",
       " 13:25  : 35   Pittsburgh Steelers : 22   PIT    : 22  \n",
       " (Other):211   (Other)             :530   (Other):530  \n",
       "                Visit_Team  VisitTeamCode                    Stadium   \n",
       " Green Bay Packers   : 23   GB     : 23   Gillette Stadium       : 24  \n",
       " Atlanta Falcons     : 22   ATL    : 22   MetLife Stadium        : 24  \n",
       " Jacksonville Jaguars: 22   JAX    : 22   Arrowhead Stadium      : 22  \n",
       " Pittsburgh Steelers : 22   PIT    : 22   Heinz Field            : 22  \n",
       " Tennessee Titans    : 22   TEN    : 22   Lincoln Financial Field: 22  \n",
       " Arizona Cardinals   : 21   ARZ    : 21   Lambeau Field          : 21  \n",
       " (Other)             :534   (Other):534   (Other)                :531  \n",
       "   StadiumType                     Turf            GameWeather   Temperature   \n",
       " Outdoor :348   Grass                :224   Sunny        :145   Min.   : 1.00  \n",
       " Outdoors: 81   Natural Grass        :121   Cloudy       :119   1st Qu.:54.00  \n",
       " Indoors : 46   Field Turf           : 65                : 98   Median :68.00  \n",
       " Indoor  : 42   Artificial           : 61   Partly Cloudy: 74   Mean   :64.13  \n",
       "         : 38   FieldTurf            : 53   Clear        : 49   3rd Qu.:78.25  \n",
       " Dome    : 21   UBU Speed Series-S5-M: 40   Mostly Cloudy: 26   Max.   :97.00  \n",
       " (Other) : 90   (Other)              :102   (Other)      :155   NA's   :66     \n",
       "       OutdoorWeather\n",
       "              :254   \n",
       " Sunny        : 94   \n",
       " Cloudy       : 75   \n",
       " Partly Cloudy: 47   \n",
       " Clear        : 34   \n",
       " Rain         : 12   \n",
       " (Other)      :150   "
      ]
     },
     "metadata": {},
     "output_type": "display_data"
    }
   ],
   "source": [
    "summary(game_data)"
   ]
  },
  {
   "cell_type": "code",
   "execution_count": 272,
   "metadata": {},
   "outputs": [
    {
     "name": "stdout",
     "output_type": "stream",
     "text": [
      "'data.frame':\t666 obs. of  18 variables:\n",
      " $ GameKey       : int  1 2 3 4 5 6 7 8 9 10 ...\n",
      " $ Season_Year   : int  2016 2016 2016 2016 2016 2016 2016 2016 2016 2016 ...\n",
      " $ Season_Type   : Factor w/ 3 levels \"Post\",\"Pre\",\"Reg\": 2 2 2 2 2 2 2 2 2 2 ...\n",
      " $ Week          : int  1 2 2 2 2 2 2 2 2 2 ...\n",
      " $ Game_Date     : Factor w/ 145 levels \"2016-08-07 00:00:00.000\",..: 1 4 2 3 2 3 5 4 2 3 ...\n",
      " $ Game_Day      : Factor w/ 6 levels \"Friday\",\"Monday\",..: 4 3 5 1 5 1 4 3 5 1 ...\n",
      " $ Game_Site     : Factor w/ 39 levels \"Arlington\",\"Atlanta\",..: 17 22 3 15 7 33 35 30 12 12 ...\n",
      " $ Start_Time    : Factor w/ 40 levels \"12:00\",\"12:30\",..: 36 22 35 31 31 31 17 31 35 31 ...\n",
      " $ Home_Team     : Factor w/ 35 levels \"AFC\",\"Arizona Cardinals\",..: 15 19 4 13 7 29 31 5 25 24 ...\n",
      " $ HomeTeamCode  : Factor w/ 35 levels \"AFC\",\"ARZ\",\"ATL\",..: 15 18 4 13 7 29 32 5 26 25 ...\n",
      " $ Visit_Team    : Factor w/ 35 levels \"AFC\",\"Arizona Cardinals\",..: 13 10 6 9 11 12 14 15 16 20 ...\n",
      " $ VisitTeamCode : Factor w/ 35 levels \"AFC\",\"ARZ\",\"ATL\",..: 13 10 6 9 11 12 14 15 16 20 ...\n",
      " $ Stadium       : Factor w/ 66 levels \"Arrowhead Stadium\",..: 57 25 30 22 52 21 23 49 36 37 ...\n",
      " $ StadiumType   : Factor w/ 34 levels \"\",\"Closed Dome\",..: 21 21 21 21 21 23 21 21 21 1 ...\n",
      " $ Turf          : Factor w/ 24 levels \"\",\"A-Turf Titan\",..: 21 13 17 6 13 13 16 2 9 22 ...\n",
      " $ GameWeather   : Factor w/ 68 levels \"\",\"30% Chance of Rain\",..: 1 59 50 1 46 44 59 68 12 38 ...\n",
      " $ Temperature   : num  NA 79 94 73 88 82 84 84 94 76 ...\n",
      " $ OutdoorWeather: Factor w/ 135 levels \"\",\" Low to mid 50s by game end\",..: 1 110 91 1 1 91 1 117 38 1 ...\n"
     ]
    }
   ],
   "source": [
    "str(game_data)"
   ]
  },
  {
   "cell_type": "code",
   "execution_count": 273,
   "metadata": {
    "scrolled": false
   },
   "outputs": [
    {
     "name": "stdout",
     "output_type": "stream",
     "text": [
      "'data.frame':\t666 obs. of  19 variables:\n",
      " $ GameKey       : int  1 2 3 4 5 6 7 8 9 10 ...\n",
      " $ Season_Year   : int  2016 2016 2016 2016 2016 2016 2016 2016 2016 2016 ...\n",
      " $ Season_Type   : Factor w/ 3 levels \"Post\",\"Pre\",\"Reg\": 2 2 2 2 2 2 2 2 2 2 ...\n",
      " $ Week          : int  1 2 2 2 2 2 2 2 2 2 ...\n",
      " $ Game_Date     : Factor w/ 145 levels \"2016-08-07 00:00:00.000\",..: 1 4 2 3 2 3 5 4 2 3 ...\n",
      " $ Game_Day      : Factor w/ 6 levels \"Friday\",\"Monday\",..: 4 3 5 1 5 1 4 3 5 1 ...\n",
      " $ Game_Site     : Factor w/ 39 levels \"Arlington\",\"Atlanta\",..: 17 22 3 15 7 33 35 30 12 12 ...\n",
      " $ Start_Time    : Factor w/ 40 levels \"12:00\",\"12:30\",..: 36 22 35 31 31 31 17 31 35 31 ...\n",
      " $ Home_Team     : Factor w/ 35 levels \"AFC\",\"Arizona Cardinals\",..: 15 19 4 13 7 29 31 5 25 24 ...\n",
      " $ HomeTeamCode  : Factor w/ 35 levels \"AFC\",\"ARZ\",\"ATL\",..: 15 18 4 13 7 29 32 5 26 25 ...\n",
      " $ Visit_Team    : Factor w/ 35 levels \"AFC\",\"Arizona Cardinals\",..: 13 10 6 9 11 12 14 15 16 20 ...\n",
      " $ VisitTeamCode : Factor w/ 35 levels \"AFC\",\"ARZ\",\"ATL\",..: 13 10 6 9 11 12 14 15 16 20 ...\n",
      " $ Stadium       : Factor w/ 66 levels \"Arrowhead Stadium\",..: 57 25 30 22 52 21 23 49 36 37 ...\n",
      " $ StadiumType   : Factor w/ 34 levels \"\",\"Closed Dome\",..: 21 21 21 21 21 23 21 21 21 1 ...\n",
      " $ Turf          : Factor w/ 24 levels \"\",\"A-Turf Titan\",..: 21 13 17 6 13 13 16 2 9 22 ...\n",
      " $ GameWeather   : Factor w/ 68 levels \"\",\"30% Chance of Rain\",..: 1 59 50 1 46 44 59 68 12 38 ...\n",
      " $ Temperature   : num  NA 79 94 73 88 82 84 84 94 76 ...\n",
      " $ OutdoorWeather: Factor w/ 135 levels \"\",\" Low to mid 50s by game end\",..: 1 110 91 1 1 91 1 117 38 1 ...\n",
      " $ injury        : logi  FALSE FALSE FALSE FALSE TRUE FALSE ...\n"
     ]
    }
   ],
   "source": [
    "game_data$injury <- game_data$GameKey %in% vid_rev$GameKey\n",
    "str(game_data)"
   ]
  },
  {
   "cell_type": "markdown",
   "metadata": {},
   "source": [
    "## EDA on relation of variables on concussion rate"
   ]
  },
  {
   "cell_type": "markdown",
   "metadata": {},
   "source": [
    "### Merging Game data with Video review data"
   ]
  },
  {
   "cell_type": "code",
   "execution_count": 274,
   "metadata": {
    "scrolled": true
   },
   "outputs": [
    {
     "data": {
      "text/html": [
       "<table>\n",
       "<thead><tr><th scope=col>GameKey</th><th scope=col>Season_Year.x</th><th scope=col>Season_Type</th><th scope=col>Week</th><th scope=col>Game_Date</th><th scope=col>Game_Day</th><th scope=col>Game_Site</th><th scope=col>Start_Time</th><th scope=col>Home_Team</th><th scope=col>HomeTeamCode</th><th scope=col>...</th><th scope=col>Season_Year.y</th><th scope=col>PlayID</th><th scope=col>GSISID</th><th scope=col>Player_Activity_Derived</th><th scope=col>Turnover_Related</th><th scope=col>Primary_Impact_Type</th><th scope=col>Primary_Partner_GSISID</th><th scope=col>Primary_Partner_Activity_Derived</th><th scope=col>Friendly_Fire</th><th scope=col>X</th></tr></thead>\n",
       "<tbody>\n",
       "\t<tr><td> 5                     </td><td>2016                   </td><td>Pre                    </td><td>2                      </td><td>2016-08-11 00:00:00.000</td><td>Thursday               </td><td>Chicago                </td><td>19:00                  </td><td>Chicago Bears          </td><td>CHI                    </td><td>...                    </td><td>2016                   </td><td>3129                   </td><td>29492                  </td><td>Tackling               </td><td>No                     </td><td>Helmet-to-body         </td><td>33445                  </td><td>Tackling               </td><td>Yes                    </td><td>Soldier Field          </td></tr>\n",
       "\t<tr><td>21                     </td><td>2016                   </td><td>Pre                    </td><td>3                      </td><td>2016-08-20 00:00:00.000</td><td>Saturday               </td><td>Nashville              </td><td>14:00                  </td><td>Tennessee Titans       </td><td>TEN                    </td><td>...                    </td><td>2016                   </td><td>2587                   </td><td>32323                  </td><td>Blocked                </td><td>No                     </td><td>Helmet-to-helmet       </td><td>31930                  </td><td>Blocking               </td><td>No                     </td><td>Nissan Stadium         </td></tr>\n",
       "\t<tr><td>29                     </td><td>2016                   </td><td>Pre                    </td><td>3                      </td><td>2016-08-19 00:00:00.000</td><td>Friday                 </td><td>Landover               </td><td>19:30                  </td><td>Washington Redskins    </td><td>WAS                    </td><td>...                    </td><td>2016                   </td><td> 538                   </td><td>29343                  </td><td>Blocked                </td><td>No                     </td><td>Helmet-to-helmet       </td><td>31059                  </td><td>Blocking               </td><td>No                     </td><td>FedExField             </td></tr>\n",
       "\t<tr><td>45                     </td><td>2016                   </td><td>Pre                    </td><td>4                      </td><td>2016-08-27 00:00:00.000</td><td>Saturday               </td><td>East Rutherford        </td><td>19:30                  </td><td>New York Jets          </td><td>NYJ                    </td><td>...                    </td><td>2016                   </td><td>1212                   </td><td>27595                  </td><td>Tackled                </td><td>No                     </td><td>Helmet-to-helmet       </td><td>31950                  </td><td>Tackling               </td><td>No                     </td><td>MetLife                </td></tr>\n",
       "\t<tr><td>54                     </td><td>2016                   </td><td>Pre                    </td><td>5                      </td><td>2016-09-01 00:00:00.000</td><td>Thursday               </td><td>Charlotte              </td><td>19:30                  </td><td>Carolina Panthers      </td><td>CAR                    </td><td>...                    </td><td>2016                   </td><td>1045                   </td><td>32410                  </td><td>Blocking               </td><td>No                     </td><td>Helmet-to-body         </td><td>23259                  </td><td>Blocked                </td><td>No                     </td><td>Bank of America Stadium</td></tr>\n",
       "\t<tr><td>60                     </td><td>2016                   </td><td>Pre                    </td><td>5                      </td><td>2016-09-01 00:00:00.000</td><td>Thursday               </td><td>Detroit                </td><td>19:30                  </td><td>Detroit Lions          </td><td>DET                    </td><td>...                    </td><td>2016                   </td><td> 905                   </td><td>32444                  </td><td>Blocked                </td><td>No                     </td><td>Helmet-to-body         </td><td>31756                  </td><td>Blocked                </td><td>Yes                    </td><td>Ford Field             </td></tr>\n",
       "</tbody>\n",
       "</table>\n"
      ],
      "text/latex": [
       "\\begin{tabular}{r|lllllllllllllllllllllllllllll}\n",
       " GameKey & Season\\_Year.x & Season\\_Type & Week & Game\\_Date & Game\\_Day & Game\\_Site & Start\\_Time & Home\\_Team & HomeTeamCode & ... & Season\\_Year.y & PlayID & GSISID & Player\\_Activity\\_Derived & Turnover\\_Related & Primary\\_Impact\\_Type & Primary\\_Partner\\_GSISID & Primary\\_Partner\\_Activity\\_Derived & Friendly\\_Fire & X\\\\\n",
       "\\hline\n",
       "\t  5                      & 2016                    & Pre                     & 2                       & 2016-08-11 00:00:00.000 & Thursday                & Chicago                 & 19:00                   & Chicago Bears           & CHI                     & ...                     & 2016                    & 3129                    & 29492                   & Tackling                & No                      & Helmet-to-body          & 33445                   & Tackling                & Yes                     & Soldier Field          \\\\\n",
       "\t 21                      & 2016                    & Pre                     & 3                       & 2016-08-20 00:00:00.000 & Saturday                & Nashville               & 14:00                   & Tennessee Titans        & TEN                     & ...                     & 2016                    & 2587                    & 32323                   & Blocked                 & No                      & Helmet-to-helmet        & 31930                   & Blocking                & No                      & Nissan Stadium         \\\\\n",
       "\t 29                      & 2016                    & Pre                     & 3                       & 2016-08-19 00:00:00.000 & Friday                  & Landover                & 19:30                   & Washington Redskins     & WAS                     & ...                     & 2016                    &  538                    & 29343                   & Blocked                 & No                      & Helmet-to-helmet        & 31059                   & Blocking                & No                      & FedExField             \\\\\n",
       "\t 45                      & 2016                    & Pre                     & 4                       & 2016-08-27 00:00:00.000 & Saturday                & East Rutherford         & 19:30                   & New York Jets           & NYJ                     & ...                     & 2016                    & 1212                    & 27595                   & Tackled                 & No                      & Helmet-to-helmet        & 31950                   & Tackling                & No                      & MetLife                \\\\\n",
       "\t 54                      & 2016                    & Pre                     & 5                       & 2016-09-01 00:00:00.000 & Thursday                & Charlotte               & 19:30                   & Carolina Panthers       & CAR                     & ...                     & 2016                    & 1045                    & 32410                   & Blocking                & No                      & Helmet-to-body          & 23259                   & Blocked                 & No                      & Bank of America Stadium\\\\\n",
       "\t 60                      & 2016                    & Pre                     & 5                       & 2016-09-01 00:00:00.000 & Thursday                & Detroit                 & 19:30                   & Detroit Lions           & DET                     & ...                     & 2016                    &  905                    & 32444                   & Blocked                 & No                      & Helmet-to-body          & 31756                   & Blocked                 & Yes                     & Ford Field             \\\\\n",
       "\\end{tabular}\n"
      ],
      "text/markdown": [
       "\n",
       "| GameKey | Season_Year.x | Season_Type | Week | Game_Date | Game_Day | Game_Site | Start_Time | Home_Team | HomeTeamCode | ... | Season_Year.y | PlayID | GSISID | Player_Activity_Derived | Turnover_Related | Primary_Impact_Type | Primary_Partner_GSISID | Primary_Partner_Activity_Derived | Friendly_Fire | X |\n",
       "|---|---|---|---|---|---|---|---|---|---|---|---|---|---|---|---|---|---|---|---|---|\n",
       "|  5                      | 2016                    | Pre                     | 2                       | 2016-08-11 00:00:00.000 | Thursday                | Chicago                 | 19:00                   | Chicago Bears           | CHI                     | ...                     | 2016                    | 3129                    | 29492                   | Tackling                | No                      | Helmet-to-body          | 33445                   | Tackling                | Yes                     | Soldier Field           |\n",
       "| 21                      | 2016                    | Pre                     | 3                       | 2016-08-20 00:00:00.000 | Saturday                | Nashville               | 14:00                   | Tennessee Titans        | TEN                     | ...                     | 2016                    | 2587                    | 32323                   | Blocked                 | No                      | Helmet-to-helmet        | 31930                   | Blocking                | No                      | Nissan Stadium          |\n",
       "| 29                      | 2016                    | Pre                     | 3                       | 2016-08-19 00:00:00.000 | Friday                  | Landover                | 19:30                   | Washington Redskins     | WAS                     | ...                     | 2016                    |  538                    | 29343                   | Blocked                 | No                      | Helmet-to-helmet        | 31059                   | Blocking                | No                      | FedExField              |\n",
       "| 45                      | 2016                    | Pre                     | 4                       | 2016-08-27 00:00:00.000 | Saturday                | East Rutherford         | 19:30                   | New York Jets           | NYJ                     | ...                     | 2016                    | 1212                    | 27595                   | Tackled                 | No                      | Helmet-to-helmet        | 31950                   | Tackling                | No                      | MetLife                 |\n",
       "| 54                      | 2016                    | Pre                     | 5                       | 2016-09-01 00:00:00.000 | Thursday                | Charlotte               | 19:30                   | Carolina Panthers       | CAR                     | ...                     | 2016                    | 1045                    | 32410                   | Blocking                | No                      | Helmet-to-body          | 23259                   | Blocked                 | No                      | Bank of America Stadium |\n",
       "| 60                      | 2016                    | Pre                     | 5                       | 2016-09-01 00:00:00.000 | Thursday                | Detroit                 | 19:30                   | Detroit Lions           | DET                     | ...                     | 2016                    |  905                    | 32444                   | Blocked                 | No                      | Helmet-to-body          | 31756                   | Blocked                 | Yes                     | Ford Field              |\n",
       "\n"
      ],
      "text/plain": [
       "  GameKey Season_Year.x Season_Type Week Game_Date               Game_Day\n",
       "1  5      2016          Pre         2    2016-08-11 00:00:00.000 Thursday\n",
       "2 21      2016          Pre         3    2016-08-20 00:00:00.000 Saturday\n",
       "3 29      2016          Pre         3    2016-08-19 00:00:00.000 Friday  \n",
       "4 45      2016          Pre         4    2016-08-27 00:00:00.000 Saturday\n",
       "5 54      2016          Pre         5    2016-09-01 00:00:00.000 Thursday\n",
       "6 60      2016          Pre         5    2016-09-01 00:00:00.000 Thursday\n",
       "  Game_Site       Start_Time Home_Team           HomeTeamCode ... Season_Year.y\n",
       "1 Chicago         19:00      Chicago Bears       CHI          ... 2016         \n",
       "2 Nashville       14:00      Tennessee Titans    TEN          ... 2016         \n",
       "3 Landover        19:30      Washington Redskins WAS          ... 2016         \n",
       "4 East Rutherford 19:30      New York Jets       NYJ          ... 2016         \n",
       "5 Charlotte       19:30      Carolina Panthers   CAR          ... 2016         \n",
       "6 Detroit         19:30      Detroit Lions       DET          ... 2016         \n",
       "  PlayID GSISID Player_Activity_Derived Turnover_Related Primary_Impact_Type\n",
       "1 3129   29492  Tackling                No               Helmet-to-body     \n",
       "2 2587   32323  Blocked                 No               Helmet-to-helmet   \n",
       "3  538   29343  Blocked                 No               Helmet-to-helmet   \n",
       "4 1212   27595  Tackled                 No               Helmet-to-helmet   \n",
       "5 1045   32410  Blocking                No               Helmet-to-body     \n",
       "6  905   32444  Blocked                 No               Helmet-to-body     \n",
       "  Primary_Partner_GSISID Primary_Partner_Activity_Derived Friendly_Fire\n",
       "1 33445                  Tackling                         Yes          \n",
       "2 31930                  Blocking                         No           \n",
       "3 31059                  Blocking                         No           \n",
       "4 31950                  Tackling                         No           \n",
       "5 23259                  Blocked                          No           \n",
       "6 31756                  Blocked                          Yes          \n",
       "  X                      \n",
       "1 Soldier Field          \n",
       "2 Nissan Stadium         \n",
       "3 FedExField             \n",
       "4 MetLife                \n",
       "5 Bank of America Stadium\n",
       "6 Ford Field             "
      ]
     },
     "metadata": {},
     "output_type": "display_data"
    }
   ],
   "source": [
    "oldw <- getOption(\"warn\")\n",
    "options(warn = -1)\n",
    "adv_gamedata <- merge(game_data,vid_rev, by=\"GameKey\", all.y=TRUE)\n",
    "adv_gamedata$Primary_Partner_Activity_Derived[adv_gamedata$Primary_Partner_Activity_Derived==\"\"] <- \"NA\"\n",
    "head(adv_gamedata)\n",
    "options(warn = oldw)"
   ]
  },
  {
   "cell_type": "markdown",
   "metadata": {},
   "source": [
    "### Daily concussion rates"
   ]
  },
  {
   "cell_type": "code",
   "execution_count": 310,
   "metadata": {
    "scrolled": false
   },
   "outputs": [
    {
     "data": {
      "text/html": [
       "<table>\n",
       "<thead><tr><th scope=col>Game_Day</th><th scope=col>Total_Count</th><th scope=col>Injury_Count</th><th scope=col>Mean</th></tr></thead>\n",
       "<tbody>\n",
       "\t<tr><td>Thursday  </td><td> 93       </td><td>11        </td><td>0.10576923</td></tr>\n",
       "\t<tr><td>Saturday  </td><td> 63       </td><td> 5        </td><td>0.07352941</td></tr>\n",
       "\t<tr><td>Monday    </td><td> 36       </td><td> 2        </td><td>0.05263158</td></tr>\n",
       "\t<tr><td>Friday    </td><td> 19       </td><td> 1        </td><td>0.05000000</td></tr>\n",
       "\t<tr><td>Sunday    </td><td>453       </td><td>18        </td><td>0.03821656</td></tr>\n",
       "\t<tr><td>Wednesday </td><td>  2       </td><td> 0        </td><td>0.00000000</td></tr>\n",
       "</tbody>\n",
       "</table>\n"
      ],
      "text/latex": [
       "\\begin{tabular}{r|llll}\n",
       " Game\\_Day & Total\\_Count & Injury\\_Count & Mean\\\\\n",
       "\\hline\n",
       "\t Thursday   &  93        & 11         & 0.10576923\\\\\n",
       "\t Saturday   &  63        &  5         & 0.07352941\\\\\n",
       "\t Monday     &  36        &  2         & 0.05263158\\\\\n",
       "\t Friday     &  19        &  1         & 0.05000000\\\\\n",
       "\t Sunday     & 453        & 18         & 0.03821656\\\\\n",
       "\t Wednesday  &   2        &  0         & 0.00000000\\\\\n",
       "\\end{tabular}\n"
      ],
      "text/markdown": [
       "\n",
       "| Game_Day | Total_Count | Injury_Count | Mean |\n",
       "|---|---|---|---|\n",
       "| Thursday   |  93        | 11         | 0.10576923 |\n",
       "| Saturday   |  63        |  5         | 0.07352941 |\n",
       "| Monday     |  36        |  2         | 0.05263158 |\n",
       "| Friday     |  19        |  1         | 0.05000000 |\n",
       "| Sunday     | 453        | 18         | 0.03821656 |\n",
       "| Wednesday  |   2        |  0         | 0.00000000 |\n",
       "\n"
      ],
      "text/plain": [
       "  Game_Day  Total_Count Injury_Count Mean      \n",
       "1 Thursday   93         11           0.10576923\n",
       "2 Saturday   63          5           0.07352941\n",
       "3 Monday     36          2           0.05263158\n",
       "4 Friday     19          1           0.05000000\n",
       "5 Sunday    453         18           0.03821656\n",
       "6 Wednesday   2          0           0.00000000"
      ]
     },
     "metadata": {},
     "output_type": "display_data"
    }
   ],
   "source": [
    "oldw <- getOption(\"warn\")\n",
    "options(warn = -1)\n",
    "adgd_total <- game_data %>% group_by(Game_Day) %>% dplyr::summarize(Total_Count = n())\n",
    "adgd_pivot <- adv_gamedata %>% group_by(Game_Day) %>% dplyr::summarize(Injury_Count = n())\n",
    "adgd <- merge(adgd_total,adgd_pivot, by=\"Game_Day\", all=TRUE)\n",
    "adgd[is.na(adgd)] <- 0\n",
    "adgdsort <- adgd %>% group_by(Total_Count,Injury_Count)%>%\n",
    "  mutate(\"Mean\"=Injury_Count/(Total_Count+Injury_Count))\n",
    "arrange(adgdsort, desc(Mean))\n",
    "options(warn = oldw)"
   ]
  },
  {
   "cell_type": "markdown",
   "metadata": {},
   "source": [
    "Observation: Chances of Injury on a Thursday are high but very low on a Sunday. "
   ]
  },
  {
   "cell_type": "markdown",
   "metadata": {},
   "source": [
    "Let's see if stadium type has anything to do with punt related concussions."
   ]
  },
  {
   "cell_type": "markdown",
   "metadata": {},
   "source": [
    "### Concussion rates by stadium type"
   ]
  },
  {
   "cell_type": "code",
   "execution_count": 276,
   "metadata": {},
   "outputs": [
    {
     "data": {
      "text/html": [
       "<table>\n",
       "<thead><tr><th scope=col>StadiumType</th><th scope=col>Total_Count</th></tr></thead>\n",
       "<tbody>\n",
       "\t<tr><td>Closed Dome                 </td><td>  2                         </td></tr>\n",
       "\t<tr><td>Dome                        </td><td> 21                         </td></tr>\n",
       "\t<tr><td>Dome, closed                </td><td>  2                         </td></tr>\n",
       "\t<tr><td>Domed, closed               </td><td>  2                         </td></tr>\n",
       "\t<tr><td>Heinz Field                 </td><td>  1                         </td></tr>\n",
       "\t<tr><td>Indoor                      </td><td> 42                         </td></tr>\n",
       "\t<tr><td>Indoor, fixed roof          </td><td>  1                         </td></tr>\n",
       "\t<tr><td>Indoor, Fixed Roof          </td><td>  1                         </td></tr>\n",
       "\t<tr><td>Indoor, Non-Retractable Dome</td><td>  1                         </td></tr>\n",
       "\t<tr><td>Indoor, non-retractable roof</td><td>  2                         </td></tr>\n",
       "\t<tr><td>Indoor, Open Roof           </td><td>  1                         </td></tr>\n",
       "\t<tr><td>Indoor, Roof Closed         </td><td>  1                         </td></tr>\n",
       "\t<tr><td>Indoors                     </td><td> 46                         </td></tr>\n",
       "\t<tr><td>Indoors (Domed)             </td><td>  2                         </td></tr>\n",
       "\t<tr><td>Open                        </td><td> 20                         </td></tr>\n",
       "\t<tr><td>Oudoor                      </td><td>  1                         </td></tr>\n",
       "\t<tr><td>Ourdoor                     </td><td>  1                         </td></tr>\n",
       "\t<tr><td>Outddors                    </td><td>  1                         </td></tr>\n",
       "\t<tr><td>outdoor                     </td><td>  4                         </td></tr>\n",
       "\t<tr><td>Outdoor                     </td><td>348                         </td></tr>\n",
       "\t<tr><td>Outdoor Retr Roof-Open      </td><td>  1                         </td></tr>\n",
       "\t<tr><td>Outdoors                    </td><td> 81                         </td></tr>\n",
       "\t<tr><td>Outdoors                    </td><td>  2                         </td></tr>\n",
       "\t<tr><td>Outdor                      </td><td>  1                         </td></tr>\n",
       "\t<tr><td>Outside                     </td><td>  1                         </td></tr>\n",
       "\t<tr><td>Retr. Roof-Closed           </td><td>  4                         </td></tr>\n",
       "\t<tr><td>Retr. Roof-Open             </td><td>  2                         </td></tr>\n",
       "\t<tr><td>Retr. roof - closed         </td><td>  1                         </td></tr>\n",
       "\t<tr><td>Retr. Roof - Closed         </td><td>  9                         </td></tr>\n",
       "\t<tr><td>Retr. Roof - Open           </td><td>  3                         </td></tr>\n",
       "\t<tr><td>Retr. Roof Closed           </td><td>  1                         </td></tr>\n",
       "\t<tr><td>Retractable Roof            </td><td> 21                         </td></tr>\n",
       "\t<tr><td>Turf                        </td><td>  1                         </td></tr>\n",
       "</tbody>\n",
       "</table>\n"
      ],
      "text/latex": [
       "\\begin{tabular}{r|ll}\n",
       " StadiumType & Total\\_Count\\\\\n",
       "\\hline\n",
       "\t Closed Dome                  &   2                         \\\\\n",
       "\t Dome                         &  21                         \\\\\n",
       "\t Dome, closed                 &   2                         \\\\\n",
       "\t Domed, closed                &   2                         \\\\\n",
       "\t Heinz Field                  &   1                         \\\\\n",
       "\t Indoor                       &  42                         \\\\\n",
       "\t Indoor, fixed roof           &   1                         \\\\\n",
       "\t Indoor, Fixed Roof           &   1                         \\\\\n",
       "\t Indoor, Non-Retractable Dome &   1                         \\\\\n",
       "\t Indoor, non-retractable roof &   2                         \\\\\n",
       "\t Indoor, Open Roof            &   1                         \\\\\n",
       "\t Indoor, Roof Closed          &   1                         \\\\\n",
       "\t Indoors                      &  46                         \\\\\n",
       "\t Indoors (Domed)              &   2                         \\\\\n",
       "\t Open                         &  20                         \\\\\n",
       "\t Oudoor                       &   1                         \\\\\n",
       "\t Ourdoor                      &   1                         \\\\\n",
       "\t Outddors                     &   1                         \\\\\n",
       "\t outdoor                      &   4                         \\\\\n",
       "\t Outdoor                      & 348                         \\\\\n",
       "\t Outdoor Retr Roof-Open       &   1                         \\\\\n",
       "\t Outdoors                     &  81                         \\\\\n",
       "\t Outdoors                     &   2                         \\\\\n",
       "\t Outdor                       &   1                         \\\\\n",
       "\t Outside                      &   1                         \\\\\n",
       "\t Retr. Roof-Closed            &   4                         \\\\\n",
       "\t Retr. Roof-Open              &   2                         \\\\\n",
       "\t Retr. roof - closed          &   1                         \\\\\n",
       "\t Retr. Roof - Closed          &   9                         \\\\\n",
       "\t Retr. Roof - Open            &   3                         \\\\\n",
       "\t Retr. Roof Closed            &   1                         \\\\\n",
       "\t Retractable Roof             &  21                         \\\\\n",
       "\t Turf                         &   1                         \\\\\n",
       "\\end{tabular}\n"
      ],
      "text/markdown": [
       "\n",
       "| StadiumType | Total_Count |\n",
       "|---|---|\n",
       "| Closed Dome                  |   2                          |\n",
       "| Dome                         |  21                          |\n",
       "| Dome, closed                 |   2                          |\n",
       "| Domed, closed                |   2                          |\n",
       "| Heinz Field                  |   1                          |\n",
       "| Indoor                       |  42                          |\n",
       "| Indoor, fixed roof           |   1                          |\n",
       "| Indoor, Fixed Roof           |   1                          |\n",
       "| Indoor, Non-Retractable Dome |   1                          |\n",
       "| Indoor, non-retractable roof |   2                          |\n",
       "| Indoor, Open Roof            |   1                          |\n",
       "| Indoor, Roof Closed          |   1                          |\n",
       "| Indoors                      |  46                          |\n",
       "| Indoors (Domed)              |   2                          |\n",
       "| Open                         |  20                          |\n",
       "| Oudoor                       |   1                          |\n",
       "| Ourdoor                      |   1                          |\n",
       "| Outddors                     |   1                          |\n",
       "| outdoor                      |   4                          |\n",
       "| Outdoor                      | 348                          |\n",
       "| Outdoor Retr Roof-Open       |   1                          |\n",
       "| Outdoors                     |  81                          |\n",
       "| Outdoors                     |   2                          |\n",
       "| Outdor                       |   1                          |\n",
       "| Outside                      |   1                          |\n",
       "| Retr. Roof-Closed            |   4                          |\n",
       "| Retr. Roof-Open              |   2                          |\n",
       "| Retr. roof - closed          |   1                          |\n",
       "| Retr. Roof - Closed          |   9                          |\n",
       "| Retr. Roof - Open            |   3                          |\n",
       "| Retr. Roof Closed            |   1                          |\n",
       "| Retractable Roof             |  21                          |\n",
       "| Turf                         |   1                          |\n",
       "\n"
      ],
      "text/plain": [
       "   StadiumType                  Total_Count\n",
       "1  Closed Dome                    2        \n",
       "2  Dome                          21        \n",
       "3  Dome, closed                   2        \n",
       "4  Domed, closed                  2        \n",
       "5  Heinz Field                    1        \n",
       "6  Indoor                        42        \n",
       "7  Indoor, fixed roof             1        \n",
       "8  Indoor, Fixed Roof             1        \n",
       "9  Indoor, Non-Retractable Dome   1        \n",
       "10 Indoor, non-retractable roof   2        \n",
       "11 Indoor, Open Roof              1        \n",
       "12 Indoor, Roof Closed            1        \n",
       "13 Indoors                       46        \n",
       "14 Indoors (Domed)                2        \n",
       "15 Open                          20        \n",
       "16 Oudoor                         1        \n",
       "17 Ourdoor                        1        \n",
       "18 Outddors                       1        \n",
       "19 outdoor                        4        \n",
       "20 Outdoor                      348        \n",
       "21 Outdoor Retr Roof-Open         1        \n",
       "22 Outdoors                      81        \n",
       "23 Outdoors                       2        \n",
       "24 Outdor                         1        \n",
       "25 Outside                        1        \n",
       "26 Retr. Roof-Closed              4        \n",
       "27 Retr. Roof-Open                2        \n",
       "28 Retr. roof - closed            1        \n",
       "29 Retr. Roof - Closed            9        \n",
       "30 Retr. Roof - Open              3        \n",
       "31 Retr. Roof Closed              1        \n",
       "32 Retractable Roof              21        \n",
       "33 Turf                           1        "
      ]
     },
     "metadata": {},
     "output_type": "display_data"
    },
    {
     "data": {
      "text/html": [
       "<table>\n",
       "<thead><tr><th scope=col>StadiumType</th><th scope=col>Injury_Count</th></tr></thead>\n",
       "<tbody>\n",
       "\t<tr><td>Dome               </td><td> 1                 </td></tr>\n",
       "\t<tr><td>Indoors            </td><td> 2                 </td></tr>\n",
       "\t<tr><td>Open               </td><td> 1                 </td></tr>\n",
       "\t<tr><td>Outdoor            </td><td>20                 </td></tr>\n",
       "\t<tr><td>Outdoors           </td><td> 6                 </td></tr>\n",
       "\t<tr><td>Outdoors           </td><td> 1                 </td></tr>\n",
       "\t<tr><td>Outside            </td><td> 1                 </td></tr>\n",
       "\t<tr><td>Retr. Roof - Closed</td><td> 2                 </td></tr>\n",
       "\t<tr><td>Retractable Roof   </td><td> 2                 </td></tr>\n",
       "</tbody>\n",
       "</table>\n"
      ],
      "text/latex": [
       "\\begin{tabular}{r|ll}\n",
       " StadiumType & Injury\\_Count\\\\\n",
       "\\hline\n",
       "\t Dome                &  1                 \\\\\n",
       "\t Indoors             &  2                 \\\\\n",
       "\t Open                &  1                 \\\\\n",
       "\t Outdoor             & 20                 \\\\\n",
       "\t Outdoors            &  6                 \\\\\n",
       "\t Outdoors            &  1                 \\\\\n",
       "\t Outside             &  1                 \\\\\n",
       "\t Retr. Roof - Closed &  2                 \\\\\n",
       "\t Retractable Roof    &  2                 \\\\\n",
       "\\end{tabular}\n"
      ],
      "text/markdown": [
       "\n",
       "| StadiumType | Injury_Count |\n",
       "|---|---|\n",
       "| Dome                |  1                  |\n",
       "| Indoors             |  2                  |\n",
       "| Open                |  1                  |\n",
       "| Outdoor             | 20                  |\n",
       "| Outdoors            |  6                  |\n",
       "| Outdoors            |  1                  |\n",
       "| Outside             |  1                  |\n",
       "| Retr. Roof - Closed |  2                  |\n",
       "| Retractable Roof    |  2                  |\n",
       "\n"
      ],
      "text/plain": [
       "  StadiumType         Injury_Count\n",
       "1 Dome                 1          \n",
       "2 Indoors              2          \n",
       "3 Open                 1          \n",
       "4 Outdoor             20          \n",
       "5 Outdoors             6          \n",
       "6 Outdoors             1          \n",
       "7 Outside              1          \n",
       "8 Retr. Roof - Closed  2          \n",
       "9 Retractable Roof     2          "
      ]
     },
     "metadata": {},
     "output_type": "display_data"
    }
   ],
   "source": [
    "adgd_stad_type <- game_data %>% group_by(StadiumType) %>% dplyr::summarize(Total_Count = n())\n",
    "#removing first row as it doesn't specify any type\n",
    "adgd_stad_type <- adgd_stad_type[-c(1), ]\n",
    "adgd_stad_type\n",
    "adgd_stad_pivot <- adv_gamedata %>% group_by(StadiumType) %>% dplyr::summarize(Injury_Count = n())\n",
    "adgd_stad_pivot <- adgd_stad_pivot[-c(1), ]\n",
    "adgd_stad_pivot"
   ]
  },
  {
   "cell_type": "markdown",
   "metadata": {},
   "source": [
    "The data is very noisy, yet we can see here that injuries occur more on outdoor Stadium Types. "
   ]
  },
  {
   "cell_type": "markdown",
   "metadata": {},
   "source": [
    "Let's see if temperature has anything to do with punt related concussions."
   ]
  },
  {
   "cell_type": "markdown",
   "metadata": {},
   "source": [
    "### Concussion rates by Temperature\n",
    "- It can be seen that colder games are more likely to result in concussions."
   ]
  },
  {
   "cell_type": "code",
   "execution_count": 277,
   "metadata": {},
   "outputs": [
    {
     "data": {
      "image/png": "[encoded data removed]",
      "text/plain": [
       "plot without title"
      ]
     },
     "metadata": {},
     "output_type": "display_data"
    }
   ],
   "source": [
    "oldw <- getOption(\"warn\")\n",
    "options(warn = -1)\n",
    "ggplot(game_data, aes(x = Temperature, fill = injury)) + geom_density(alpha=0.5, aes(fill=factor(injury))) + labs(title=\"Density of concussion, given Temperature\") +\n",
    "scale_x_continuous(breaks = scales::pretty_breaks(n = 10))\n",
    "options(warn = oldw)"
   ]
  },
  {
   "cell_type": "markdown",
   "metadata": {},
   "source": [
    "## Formation and Concussion Rates  "
   ]
  },
  {
   "cell_type": "code",
   "execution_count": 278,
   "metadata": {
    "scrolled": true
   },
   "outputs": [
    {
     "data": {
      "text/html": [
       "<table>\n",
       "<thead><tr><th scope=col>Season_Year</th><th scope=col>Season_Type</th><th scope=col>GameKey</th><th scope=col>Game_Date</th><th scope=col>Week</th><th scope=col>PlayID</th><th scope=col>Game_Clock</th><th scope=col>YardLine</th><th scope=col>Quarter</th><th scope=col>Play_Type</th><th scope=col>Poss_Team</th><th scope=col>Home_Team_Visit_Team</th><th scope=col>Score_Home_Visiting</th><th scope=col>PlayDescription</th></tr></thead>\n",
       "<tbody>\n",
       "\t<tr><td>2016                                                                                                                                                                                                                     </td><td>Pre                                                                                                                                                                                                                      </td><td>2                                                                                                                                                                                                                        </td><td>08/13/2016                                                                                                                                                                                                               </td><td>2                                                                                                                                                                                                                        </td><td> 191                                                                                                                                                                                                                     </td><td>12:30                                                                                                                                                                                                                    </td><td>LA 47                                                                                                                                                                                                                    </td><td>1                                                                                                                                                                                                                        </td><td>Punt                                                                                                                                                                                                                     </td><td>LA                                                                                                                                                                                                                       </td><td>LA-DAL                                                                                                                                                                                                                   </td><td>0 - 7                                                                                                                                                                                                                    </td><td>(12:30) J.Hekker punts 52 yards to DAL 1, Center-J.McQuaide, downed by LA-E.Sims. Dallas challenged the kick downed ruling, and the play was REVERSED. J.Hekker punts 53 yards to end zone, Center-J.McQuaide, Touchback.</td></tr>\n",
       "\t<tr><td>2016                                                                                                                                                                                                                     </td><td>Pre                                                                                                                                                                                                                      </td><td>2                                                                                                                                                                                                                        </td><td>08/13/2016                                                                                                                                                                                                               </td><td>2                                                                                                                                                                                                                        </td><td>1132                                                                                                                                                                                                                     </td><td>12:08                                                                                                                                                                                                                    </td><td>LA 29                                                                                                                                                                                                                    </td><td>2                                                                                                                                                                                                                        </td><td>Punt                                                                                                                                                                                                                     </td><td>LA                                                                                                                                                                                                                       </td><td>LA-DAL                                                                                                                                                                                                                   </td><td>Jul-21                                                                                                                                                                                                                   </td><td>(12:08) J.Hekker punts 51 yards to DAL 20, Center-J.McQuaide, fair catch by L.Whitehead. PENALTY on DAL-K.Wilber, Offensive Holding, 10 yards, enforced at DAL 20.                                                       </td></tr>\n",
       "\t<tr><td>2016                                                                                                                                                                                                                     </td><td>Pre                                                                                                                                                                                                                      </td><td>2                                                                                                                                                                                                                        </td><td>08/13/2016                                                                                                                                                                                                               </td><td>2                                                                                                                                                                                                                        </td><td>1227                                                                                                                                                                                                                     </td><td>10:01                                                                                                                                                                                                                    </td><td>DAL 18                                                                                                                                                                                                                   </td><td>2                                                                                                                                                                                                                        </td><td>Punt                                                                                                                                                                                                                     </td><td>DAL                                                                                                                                                                                                                      </td><td>LA-DAL                                                                                                                                                                                                                   </td><td>Jul-21                                                                                                                                                                                                                   </td><td>(10:01) C.Jones punts 40 yards to LA 42, Center-L.Ladouceur. P.Cooper to DAL 33 for 25 yards (C.Jones; A.Hitchens).                                                                                                      </td></tr>\n",
       "\t<tr><td>2016                                                                                                                                                                                                                     </td><td>Pre                                                                                                                                                                                                                      </td><td>2                                                                                                                                                                                                                        </td><td>08/13/2016                                                                                                                                                                                                               </td><td>2                                                                                                                                                                                                                        </td><td>1864                                                                                                                                                                                                                     </td><td>00:21                                                                                                                                                                                                                    </td><td>DAL 46                                                                                                                                                                                                                   </td><td>2                                                                                                                                                                                                                        </td><td>Punt                                                                                                                                                                                                                     </td><td>LA                                                                                                                                                                                                                       </td><td>LA-DAL                                                                                                                                                                                                                   </td><td>Jul-24                                                                                                                                                                                                                   </td><td>(:21) J.Hekker punts 31 yards to DAL 15, Center-J.McQuaide, out of bounds.                                                                                                                                               </td></tr>\n",
       "\t<tr><td>2016                                                                                                                                                                                                                     </td><td>Pre                                                                                                                                                                                                                      </td><td>2                                                                                                                                                                                                                        </td><td>08/13/2016                                                                                                                                                                                                               </td><td>2                                                                                                                                                                                                                        </td><td>2247                                                                                                                                                                                                                     </td><td>10:26                                                                                                                                                                                                                    </td><td>DAL 15                                                                                                                                                                                                                   </td><td>3                                                                                                                                                                                                                        </td><td>Punt                                                                                                                                                                                                                     </td><td>DAL                                                                                                                                                                                                                      </td><td>LA-DAL                                                                                                                                                                                                                   </td><td>14 - 24                                                                                                                                                                                                                  </td><td>(10:26) M.Wile punts 40 yards to LA 45, Center-Z.Wood, out of bounds.                                                                                                                                                    </td></tr>\n",
       "\t<tr><td>2016                                                                                                                                                                                                                     </td><td>Pre                                                                                                                                                                                                                      </td><td>2                                                                                                                                                                                                                        </td><td>08/13/2016                                                                                                                                                                                                               </td><td>2                                                                                                                                                                                                                        </td><td>2342                                                                                                                                                                                                                     </td><td>09:00                                                                                                                                                                                                                    </td><td>LA 50                                                                                                                                                                                                                    </td><td>3                                                                                                                                                                                                                        </td><td>Punt                                                                                                                                                                                                                     </td><td>LA                                                                                                                                                                                                                       </td><td>LA-DAL                                                                                                                                                                                                                   </td><td>14 - 24                                                                                                                                                                                                                  </td><td>(9:00) J.Hekker punts 50 yards to end zone, Center-J.Overbaugh, Touchback.                                                                                                                                               </td></tr>\n",
       "</tbody>\n",
       "</table>\n"
      ],
      "text/latex": [
       "\\begin{tabular}{r|llllllllllllll}\n",
       " Season\\_Year & Season\\_Type & GameKey & Game\\_Date & Week & PlayID & Game\\_Clock & YardLine & Quarter & Play\\_Type & Poss\\_Team & Home\\_Team\\_Visit\\_Team & Score\\_Home\\_Visiting & PlayDescription\\\\\n",
       "\\hline\n",
       "\t 2016                                                                                                                                                                                                                      & Pre                                                                                                                                                                                                                       & 2                                                                                                                                                                                                                         & 08/13/2016                                                                                                                                                                                                                & 2                                                                                                                                                                                                                         &  191                                                                                                                                                                                                                      & 12:30                                                                                                                                                                                                                     & LA 47                                                                                                                                                                                                                     & 1                                                                                                                                                                                                                         & Punt                                                                                                                                                                                                                      & LA                                                                                                                                                                                                                        & LA-DAL                                                                                                                                                                                                                    & 0 - 7                                                                                                                                                                                                                     & (12:30) J.Hekker punts 52 yards to DAL 1, Center-J.McQuaide, downed by LA-E.Sims. Dallas challenged the kick downed ruling, and the play was REVERSED. J.Hekker punts 53 yards to end zone, Center-J.McQuaide, Touchback.\\\\\n",
       "\t 2016                                                                                                                                                                                                                      & Pre                                                                                                                                                                                                                       & 2                                                                                                                                                                                                                         & 08/13/2016                                                                                                                                                                                                                & 2                                                                                                                                                                                                                         & 1132                                                                                                                                                                                                                      & 12:08                                                                                                                                                                                                                     & LA 29                                                                                                                                                                                                                     & 2                                                                                                                                                                                                                         & Punt                                                                                                                                                                                                                      & LA                                                                                                                                                                                                                        & LA-DAL                                                                                                                                                                                                                    & Jul-21                                                                                                                                                                                                                    & (12:08) J.Hekker punts 51 yards to DAL 20, Center-J.McQuaide, fair catch by L.Whitehead. PENALTY on DAL-K.Wilber, Offensive Holding, 10 yards, enforced at DAL 20.                                                       \\\\\n",
       "\t 2016                                                                                                                                                                                                                      & Pre                                                                                                                                                                                                                       & 2                                                                                                                                                                                                                         & 08/13/2016                                                                                                                                                                                                                & 2                                                                                                                                                                                                                         & 1227                                                                                                                                                                                                                      & 10:01                                                                                                                                                                                                                     & DAL 18                                                                                                                                                                                                                    & 2                                                                                                                                                                                                                         & Punt                                                                                                                                                                                                                      & DAL                                                                                                                                                                                                                       & LA-DAL                                                                                                                                                                                                                    & Jul-21                                                                                                                                                                                                                    & (10:01) C.Jones punts 40 yards to LA 42, Center-L.Ladouceur. P.Cooper to DAL 33 for 25 yards (C.Jones; A.Hitchens).                                                                                                      \\\\\n",
       "\t 2016                                                                                                                                                                                                                      & Pre                                                                                                                                                                                                                       & 2                                                                                                                                                                                                                         & 08/13/2016                                                                                                                                                                                                                & 2                                                                                                                                                                                                                         & 1864                                                                                                                                                                                                                      & 00:21                                                                                                                                                                                                                     & DAL 46                                                                                                                                                                                                                    & 2                                                                                                                                                                                                                         & Punt                                                                                                                                                                                                                      & LA                                                                                                                                                                                                                        & LA-DAL                                                                                                                                                                                                                    & Jul-24                                                                                                                                                                                                                    & (:21) J.Hekker punts 31 yards to DAL 15, Center-J.McQuaide, out of bounds.                                                                                                                                               \\\\\n",
       "\t 2016                                                                                                                                                                                                                      & Pre                                                                                                                                                                                                                       & 2                                                                                                                                                                                                                         & 08/13/2016                                                                                                                                                                                                                & 2                                                                                                                                                                                                                         & 2247                                                                                                                                                                                                                      & 10:26                                                                                                                                                                                                                     & DAL 15                                                                                                                                                                                                                    & 3                                                                                                                                                                                                                         & Punt                                                                                                                                                                                                                      & DAL                                                                                                                                                                                                                       & LA-DAL                                                                                                                                                                                                                    & 14 - 24                                                                                                                                                                                                                   & (10:26) M.Wile punts 40 yards to LA 45, Center-Z.Wood, out of bounds.                                                                                                                                                    \\\\\n",
       "\t 2016                                                                                                                                                                                                                      & Pre                                                                                                                                                                                                                       & 2                                                                                                                                                                                                                         & 08/13/2016                                                                                                                                                                                                                & 2                                                                                                                                                                                                                         & 2342                                                                                                                                                                                                                      & 09:00                                                                                                                                                                                                                     & LA 50                                                                                                                                                                                                                     & 3                                                                                                                                                                                                                         & Punt                                                                                                                                                                                                                      & LA                                                                                                                                                                                                                        & LA-DAL                                                                                                                                                                                                                    & 14 - 24                                                                                                                                                                                                                   & (9:00) J.Hekker punts 50 yards to end zone, Center-J.Overbaugh, Touchback.                                                                                                                                               \\\\\n",
       "\\end{tabular}\n"
      ],
      "text/markdown": [
       "\n",
       "| Season_Year | Season_Type | GameKey | Game_Date | Week | PlayID | Game_Clock | YardLine | Quarter | Play_Type | Poss_Team | Home_Team_Visit_Team | Score_Home_Visiting | PlayDescription |\n",
       "|---|---|---|---|---|---|---|---|---|---|---|---|---|---|\n",
       "| 2016                                                                                                                                                                                                                      | Pre                                                                                                                                                                                                                       | 2                                                                                                                                                                                                                         | 08/13/2016                                                                                                                                                                                                                | 2                                                                                                                                                                                                                         |  191                                                                                                                                                                                                                      | 12:30                                                                                                                                                                                                                     | LA 47                                                                                                                                                                                                                     | 1                                                                                                                                                                                                                         | Punt                                                                                                                                                                                                                      | LA                                                                                                                                                                                                                        | LA-DAL                                                                                                                                                                                                                    | 0 - 7                                                                                                                                                                                                                     | (12:30) J.Hekker punts 52 yards to DAL 1, Center-J.McQuaide, downed by LA-E.Sims. Dallas challenged the kick downed ruling, and the play was REVERSED. J.Hekker punts 53 yards to end zone, Center-J.McQuaide, Touchback. |\n",
       "| 2016                                                                                                                                                                                                                      | Pre                                                                                                                                                                                                                       | 2                                                                                                                                                                                                                         | 08/13/2016                                                                                                                                                                                                                | 2                                                                                                                                                                                                                         | 1132                                                                                                                                                                                                                      | 12:08                                                                                                                                                                                                                     | LA 29                                                                                                                                                                                                                     | 2                                                                                                                                                                                                                         | Punt                                                                                                                                                                                                                      | LA                                                                                                                                                                                                                        | LA-DAL                                                                                                                                                                                                                    | Jul-21                                                                                                                                                                                                                    | (12:08) J.Hekker punts 51 yards to DAL 20, Center-J.McQuaide, fair catch by L.Whitehead. PENALTY on DAL-K.Wilber, Offensive Holding, 10 yards, enforced at DAL 20.                                                        |\n",
       "| 2016                                                                                                                                                                                                                      | Pre                                                                                                                                                                                                                       | 2                                                                                                                                                                                                                         | 08/13/2016                                                                                                                                                                                                                | 2                                                                                                                                                                                                                         | 1227                                                                                                                                                                                                                      | 10:01                                                                                                                                                                                                                     | DAL 18                                                                                                                                                                                                                    | 2                                                                                                                                                                                                                         | Punt                                                                                                                                                                                                                      | DAL                                                                                                                                                                                                                       | LA-DAL                                                                                                                                                                                                                    | Jul-21                                                                                                                                                                                                                    | (10:01) C.Jones punts 40 yards to LA 42, Center-L.Ladouceur. P.Cooper to DAL 33 for 25 yards (C.Jones; A.Hitchens).                                                                                                       |\n",
       "| 2016                                                                                                                                                                                                                      | Pre                                                                                                                                                                                                                       | 2                                                                                                                                                                                                                         | 08/13/2016                                                                                                                                                                                                                | 2                                                                                                                                                                                                                         | 1864                                                                                                                                                                                                                      | 00:21                                                                                                                                                                                                                     | DAL 46                                                                                                                                                                                                                    | 2                                                                                                                                                                                                                         | Punt                                                                                                                                                                                                                      | LA                                                                                                                                                                                                                        | LA-DAL                                                                                                                                                                                                                    | Jul-24                                                                                                                                                                                                                    | (:21) J.Hekker punts 31 yards to DAL 15, Center-J.McQuaide, out of bounds.                                                                                                                                                |\n",
       "| 2016                                                                                                                                                                                                                      | Pre                                                                                                                                                                                                                       | 2                                                                                                                                                                                                                         | 08/13/2016                                                                                                                                                                                                                | 2                                                                                                                                                                                                                         | 2247                                                                                                                                                                                                                      | 10:26                                                                                                                                                                                                                     | DAL 15                                                                                                                                                                                                                    | 3                                                                                                                                                                                                                         | Punt                                                                                                                                                                                                                      | DAL                                                                                                                                                                                                                       | LA-DAL                                                                                                                                                                                                                    | 14 - 24                                                                                                                                                                                                                   | (10:26) M.Wile punts 40 yards to LA 45, Center-Z.Wood, out of bounds.                                                                                                                                                     |\n",
       "| 2016                                                                                                                                                                                                                      | Pre                                                                                                                                                                                                                       | 2                                                                                                                                                                                                                         | 08/13/2016                                                                                                                                                                                                                | 2                                                                                                                                                                                                                         | 2342                                                                                                                                                                                                                      | 09:00                                                                                                                                                                                                                     | LA 50                                                                                                                                                                                                                     | 3                                                                                                                                                                                                                         | Punt                                                                                                                                                                                                                      | LA                                                                                                                                                                                                                        | LA-DAL                                                                                                                                                                                                                    | 14 - 24                                                                                                                                                                                                                   | (9:00) J.Hekker punts 50 yards to end zone, Center-J.Overbaugh, Touchback.                                                                                                                                                |\n",
       "\n"
      ],
      "text/plain": [
       "  Season_Year Season_Type GameKey Game_Date  Week PlayID Game_Clock YardLine\n",
       "1 2016        Pre         2       08/13/2016 2     191   12:30      LA 47   \n",
       "2 2016        Pre         2       08/13/2016 2    1132   12:08      LA 29   \n",
       "3 2016        Pre         2       08/13/2016 2    1227   10:01      DAL 18  \n",
       "4 2016        Pre         2       08/13/2016 2    1864   00:21      DAL 46  \n",
       "5 2016        Pre         2       08/13/2016 2    2247   10:26      DAL 15  \n",
       "6 2016        Pre         2       08/13/2016 2    2342   09:00      LA 50   \n",
       "  Quarter Play_Type Poss_Team Home_Team_Visit_Team Score_Home_Visiting\n",
       "1 1       Punt      LA        LA-DAL               0 - 7              \n",
       "2 2       Punt      LA        LA-DAL               Jul-21             \n",
       "3 2       Punt      DAL       LA-DAL               Jul-21             \n",
       "4 2       Punt      LA        LA-DAL               Jul-24             \n",
       "5 3       Punt      DAL       LA-DAL               14 - 24            \n",
       "6 3       Punt      LA        LA-DAL               14 - 24            \n",
       "  PlayDescription                                                                                                                                                                                                          \n",
       "1 (12:30) J.Hekker punts 52 yards to DAL 1, Center-J.McQuaide, downed by LA-E.Sims. Dallas challenged the kick downed ruling, and the play was REVERSED. J.Hekker punts 53 yards to end zone, Center-J.McQuaide, Touchback.\n",
       "2 (12:08) J.Hekker punts 51 yards to DAL 20, Center-J.McQuaide, fair catch by L.Whitehead. PENALTY on DAL-K.Wilber, Offensive Holding, 10 yards, enforced at DAL 20.                                                       \n",
       "3 (10:01) C.Jones punts 40 yards to LA 42, Center-L.Ladouceur. P.Cooper to DAL 33 for 25 yards (C.Jones; A.Hitchens).                                                                                                      \n",
       "4 (:21) J.Hekker punts 31 yards to DAL 15, Center-J.McQuaide, out of bounds.                                                                                                                                               \n",
       "5 (10:26) M.Wile punts 40 yards to LA 45, Center-Z.Wood, out of bounds.                                                                                                                                                    \n",
       "6 (9:00) J.Hekker punts 50 yards to end zone, Center-J.Overbaugh, Touchback.                                                                                                                                               "
      ]
     },
     "metadata": {},
     "output_type": "display_data"
    }
   ],
   "source": [
    "head(play_info)"
   ]
  },
  {
   "cell_type": "code",
   "execution_count": 279,
   "metadata": {
    "collapsed": true
   },
   "outputs": [],
   "source": [
    "play_info$game_play_id <- paste(play_info$GameKey,play_info$PlayID,sep=\"_\")\n",
    "vid_rev$game_play_id <- paste(vid_rev$GameKey,vid_rev$PlayID,sep=\"_\")\n",
    "\n",
    "play_info$injury <- play_info$GameKey %in% vid_rev$GameKey"
   ]
  },
  {
   "cell_type": "code",
   "execution_count": 280,
   "metadata": {},
   "outputs": [
    {
     "data": {
      "text/html": [
       "<table>\n",
       "<thead><tr><th scope=col>Season_Year</th><th scope=col>GameKey</th><th scope=col>PlayID</th><th scope=col>GSISID</th><th scope=col>Role</th></tr></thead>\n",
       "<tbody>\n",
       "\t<tr><td>2016 </td><td>2    </td><td>191  </td><td>26280</td><td>VR   </td></tr>\n",
       "\t<tr><td>2016 </td><td>2    </td><td>191  </td><td>27787</td><td>PRG  </td></tr>\n",
       "\t<tr><td>2016 </td><td>2    </td><td>191  </td><td>28394</td><td>PLS  </td></tr>\n",
       "\t<tr><td>2016 </td><td>2    </td><td>191  </td><td>28795</td><td>PPR  </td></tr>\n",
       "\t<tr><td>2016 </td><td>2    </td><td>191  </td><td>29676</td><td>VL   </td></tr>\n",
       "\t<tr><td>2016 </td><td>2    </td><td>191  </td><td>29647</td><td>PDL1 </td></tr>\n",
       "</tbody>\n",
       "</table>\n"
      ],
      "text/latex": [
       "\\begin{tabular}{r|lllll}\n",
       " Season\\_Year & GameKey & PlayID & GSISID & Role\\\\\n",
       "\\hline\n",
       "\t 2016  & 2     & 191   & 26280 & VR   \\\\\n",
       "\t 2016  & 2     & 191   & 27787 & PRG  \\\\\n",
       "\t 2016  & 2     & 191   & 28394 & PLS  \\\\\n",
       "\t 2016  & 2     & 191   & 28795 & PPR  \\\\\n",
       "\t 2016  & 2     & 191   & 29676 & VL   \\\\\n",
       "\t 2016  & 2     & 191   & 29647 & PDL1 \\\\\n",
       "\\end{tabular}\n"
      ],
      "text/markdown": [
       "\n",
       "| Season_Year | GameKey | PlayID | GSISID | Role |\n",
       "|---|---|---|---|---|\n",
       "| 2016  | 2     | 191   | 26280 | VR    |\n",
       "| 2016  | 2     | 191   | 27787 | PRG   |\n",
       "| 2016  | 2     | 191   | 28394 | PLS   |\n",
       "| 2016  | 2     | 191   | 28795 | PPR   |\n",
       "| 2016  | 2     | 191   | 29676 | VL    |\n",
       "| 2016  | 2     | 191   | 29647 | PDL1  |\n",
       "\n"
      ],
      "text/plain": [
       "  Season_Year GameKey PlayID GSISID Role\n",
       "1 2016        2       191    26280  VR  \n",
       "2 2016        2       191    27787  PRG \n",
       "3 2016        2       191    28394  PLS \n",
       "4 2016        2       191    28795  PPR \n",
       "5 2016        2       191    29676  VL  \n",
       "6 2016        2       191    29647  PDL1"
      ]
     },
     "metadata": {},
     "output_type": "display_data"
    }
   ],
   "source": [
    "head(player_role)"
   ]
  },
  {
   "cell_type": "code",
   "execution_count": 281,
   "metadata": {},
   "outputs": [
    {
     "name": "stdout",
     "output_type": "stream",
     "text": [
      "'data.frame':\t146573 obs. of  5 variables:\n",
      " $ Season_Year: int  2016 2016 2016 2016 2016 2016 2016 2016 2016 2016 ...\n",
      " $ GameKey    : int  2 2 2 2 2 2 2 2 2 2 ...\n",
      " $ PlayID     : int  191 191 191 191 191 191 191 191 191 191 ...\n",
      " $ GSISID     : int  26280 27787 28394 28795 29676 29647 28872 28958 30543 29764 ...\n",
      " $ Role       : Factor w/ 52 levels \"GL\",\"GLi\",\"GLo\",..: 50 44 34 40 47 9 7 23 24 46 ...\n"
     ]
    }
   ],
   "source": [
    "str(player_role)"
   ]
  },
  {
   "cell_type": "code",
   "execution_count": 282,
   "metadata": {},
   "outputs": [
    {
     "data": {
      "text/plain": [
       "  Season_Year      GameKey          PlayID         GSISID           Role       \n",
       " Min.   :2016   Min.   :  2.0   Min.   :  76   Min.   :19714   PR     :  6698  \n",
       " 1st Qu.:2016   1st Qu.:164.0   1st Qu.: 958   1st Qu.:29643   PDL1   :  6673  \n",
       " Median :2017   Median :339.0   Median :1980   Median :31411   PDR1   :  6670  \n",
       " Mean   :2017   Mean   :332.4   Mean   :2014   Mean   :30911   PRG    :  6669  \n",
       " 3rd Qu.:2017   3rd Qu.:500.0   3rd Qu.:3000   3rd Qu.:32668   P      :  6668  \n",
       " Max.   :2017   Max.   :665.0   Max.   :5285   Max.   :34050   PLG    :  6667  \n",
       "                                                               (Other):106528  "
      ]
     },
     "metadata": {},
     "output_type": "display_data"
    }
   ],
   "source": [
    "summary(player_role)"
   ]
  },
  {
   "cell_type": "code",
   "execution_count": 283,
   "metadata": {
    "scrolled": false
   },
   "outputs": [
    {
     "data": {
      "text/html": [
       "<table>\n",
       "<thead><tr><th scope=col>Season_Year</th><th scope=col>GameKey</th><th scope=col>PlayID</th><th scope=col>GSISID</th><th scope=col>Role</th><th scope=col>game_play_id</th></tr></thead>\n",
       "<tbody>\n",
       "\t<tr><td>2016 </td><td>2    </td><td>191  </td><td>26280</td><td>VR   </td><td>2_191</td></tr>\n",
       "\t<tr><td>2016 </td><td>2    </td><td>191  </td><td>27787</td><td>PRG  </td><td>2_191</td></tr>\n",
       "\t<tr><td>2016 </td><td>2    </td><td>191  </td><td>28394</td><td>PLS  </td><td>2_191</td></tr>\n",
       "\t<tr><td>2016 </td><td>2    </td><td>191  </td><td>28795</td><td>PPR  </td><td>2_191</td></tr>\n",
       "\t<tr><td>2016 </td><td>2    </td><td>191  </td><td>29676</td><td>VL   </td><td>2_191</td></tr>\n",
       "\t<tr><td>2016 </td><td>2    </td><td>191  </td><td>29647</td><td>PDL1 </td><td>2_191</td></tr>\n",
       "</tbody>\n",
       "</table>\n"
      ],
      "text/latex": [
       "\\begin{tabular}{r|llllll}\n",
       " Season\\_Year & GameKey & PlayID & GSISID & Role & game\\_play\\_id\\\\\n",
       "\\hline\n",
       "\t 2016    & 2       & 191     & 26280   & VR      & 2\\_191\\\\\n",
       "\t 2016    & 2       & 191     & 27787   & PRG     & 2\\_191\\\\\n",
       "\t 2016    & 2       & 191     & 28394   & PLS     & 2\\_191\\\\\n",
       "\t 2016    & 2       & 191     & 28795   & PPR     & 2\\_191\\\\\n",
       "\t 2016    & 2       & 191     & 29676   & VL      & 2\\_191\\\\\n",
       "\t 2016    & 2       & 191     & 29647   & PDL1    & 2\\_191\\\\\n",
       "\\end{tabular}\n"
      ],
      "text/markdown": [
       "\n",
       "| Season_Year | GameKey | PlayID | GSISID | Role | game_play_id |\n",
       "|---|---|---|---|---|---|\n",
       "| 2016  | 2     | 191   | 26280 | VR    | 2_191 |\n",
       "| 2016  | 2     | 191   | 27787 | PRG   | 2_191 |\n",
       "| 2016  | 2     | 191   | 28394 | PLS   | 2_191 |\n",
       "| 2016  | 2     | 191   | 28795 | PPR   | 2_191 |\n",
       "| 2016  | 2     | 191   | 29676 | VL    | 2_191 |\n",
       "| 2016  | 2     | 191   | 29647 | PDL1  | 2_191 |\n",
       "\n"
      ],
      "text/plain": [
       "  Season_Year GameKey PlayID GSISID Role game_play_id\n",
       "1 2016        2       191    26280  VR   2_191       \n",
       "2 2016        2       191    27787  PRG  2_191       \n",
       "3 2016        2       191    28394  PLS  2_191       \n",
       "4 2016        2       191    28795  PPR  2_191       \n",
       "5 2016        2       191    29676  VL   2_191       \n",
       "6 2016        2       191    29647  PDL1 2_191       "
      ]
     },
     "metadata": {},
     "output_type": "display_data"
    }
   ],
   "source": [
    "player_role$game_play_id <- paste(player_role$GameKey,player_role$PlayID,sep=\"_\")\n",
    "head(player_role)\n"
   ]
  },
  {
   "cell_type": "code",
   "execution_count": 284,
   "metadata": {
    "scrolled": false
   },
   "outputs": [
    {
     "data": {
      "text/html": [
       "<table>\n",
       "<thead><tr><th scope=col>game_play_id</th><th scope=col>Role</th></tr></thead>\n",
       "<tbody>\n",
       "\t<tr><td>2_191</td><td>VR   </td></tr>\n",
       "\t<tr><td>2_191</td><td>PRG  </td></tr>\n",
       "\t<tr><td>2_191</td><td>PLS  </td></tr>\n",
       "\t<tr><td>2_191</td><td>PPR  </td></tr>\n",
       "\t<tr><td>2_191</td><td>VL   </td></tr>\n",
       "\t<tr><td>2_191</td><td>PDL1 </td></tr>\n",
       "</tbody>\n",
       "</table>\n"
      ],
      "text/latex": [
       "\\begin{tabular}{r|ll}\n",
       " game\\_play\\_id & Role\\\\\n",
       "\\hline\n",
       "\t 2\\_191 & VR     \\\\\n",
       "\t 2\\_191 & PRG    \\\\\n",
       "\t 2\\_191 & PLS    \\\\\n",
       "\t 2\\_191 & PPR    \\\\\n",
       "\t 2\\_191 & VL     \\\\\n",
       "\t 2\\_191 & PDL1   \\\\\n",
       "\\end{tabular}\n"
      ],
      "text/markdown": [
       "\n",
       "| game_play_id | Role |\n",
       "|---|---|\n",
       "| 2_191 | VR    |\n",
       "| 2_191 | PRG   |\n",
       "| 2_191 | PLS   |\n",
       "| 2_191 | PPR   |\n",
       "| 2_191 | VL    |\n",
       "| 2_191 | PDL1  |\n",
       "\n"
      ],
      "text/plain": [
       "  game_play_id Role\n",
       "1 2_191        VR  \n",
       "2 2_191        PRG \n",
       "3 2_191        PLS \n",
       "4 2_191        PPR \n",
       "5 2_191        VL  \n",
       "6 2_191        PDL1"
      ]
     },
     "metadata": {},
     "output_type": "display_data"
    }
   ],
   "source": [
    "temp_table <- select(player_role,game_play_id,Role)\n",
    "head(temp_table)\n"
   ]
  },
  {
   "cell_type": "code",
   "execution_count": 339,
   "metadata": {
    "collapsed": true
   },
   "outputs": [],
   "source": [
    "temp_table <- temp_table %>% arrange(game_play_id, Role)"
   ]
  },
  {
   "cell_type": "code",
   "execution_count": 340,
   "metadata": {
    "collapsed": true
   },
   "outputs": [],
   "source": [
    "game_formation_data <- temp_table %>% \n",
    "     group_by(game_play_id) %>% \n",
    "     summarise(formation = paste0(Role, collapse = \"_\")) %>%\n",
    "     select(game_play_id,formation)"
   ]
  },
  {
   "cell_type": "code",
   "execution_count": 341,
   "metadata": {
    "scrolled": false
   },
   "outputs": [
    {
     "data": {
      "text/html": [
       "<table>\n",
       "<thead><tr><th scope=col>game_play_id</th><th scope=col>formation</th></tr></thead>\n",
       "<tbody>\n",
       "\t<tr><td>10_1275                                                                                 </td><td>GL_GR_P_PDL1_PDL2_PDL3_PDR1_PDR2_PDR3_PLG_PLS_PLT_PLW_PPR_PR_PRG_PRT_PRW_VLi_VLo_VRi_VRo</td></tr>\n",
       "\t<tr><td>10_1409                                                                                 </td><td>GL_GR_P_PDL1_PDL2_PDL3_PDR1_PDR2_PDR3_PLG_PLS_PLT_PLW_PPL_PR_PRG_PRT_PRW_VLi_VLo_VRi_VRo</td></tr>\n",
       "\t<tr><td>10_1501                                                                                 </td><td>GL_GR_P_PDL1_PDL2_PDL3_PDR1_PDR2_PDR3_PLG_PLS_PLT_PLW_PPR_PR_PRG_PRT_PRW_VLi_VLo_VRi_VRo</td></tr>\n",
       "\t<tr><td>10_2693                                                                                 </td><td>GL_GR_P_PDL1_PDL2_PDL3_PDR1_PDR2_PDR3_PLG_PLL_PLR_PLS_PLT_PLW_PPR_PR_PRG_PRT_PRW_VL_VR  </td></tr>\n",
       "\t<tr><td>10_2810                                                                                 </td><td>GL_GR_P_PDL1_PDL2_PDL3_PDR1_PDR2_PDR3_PLG_PLS_PLT_PLW_PPR_PR_PRG_PRT_PRW_VLi_VLo_VRi_VRo</td></tr>\n",
       "\t<tr><td>10_3228                                                                                 </td><td>GL_GR_P_PDL1_PDL2_PDL3_PDR1_PDR2_PDR3_PLG_PLS_PLT_PLW_PPL_PR_PRG_PRT_PRW_VLi_VLo_VRi_VRo</td></tr>\n",
       "</tbody>\n",
       "</table>\n"
      ],
      "text/latex": [
       "\\begin{tabular}{r|ll}\n",
       " game\\_play\\_id & formation\\\\\n",
       "\\hline\n",
       "\t 10\\_1275                                                                                                                          & GL\\_GR\\_P\\_PDL1\\_PDL2\\_PDL3\\_PDR1\\_PDR2\\_PDR3\\_PLG\\_PLS\\_PLT\\_PLW\\_PPR\\_PR\\_PRG\\_PRT\\_PRW\\_VLi\\_VLo\\_VRi\\_VRo\\\\\n",
       "\t 10\\_1409                                                                                                                          & GL\\_GR\\_P\\_PDL1\\_PDL2\\_PDL3\\_PDR1\\_PDR2\\_PDR3\\_PLG\\_PLS\\_PLT\\_PLW\\_PPL\\_PR\\_PRG\\_PRT\\_PRW\\_VLi\\_VLo\\_VRi\\_VRo\\\\\n",
       "\t 10\\_1501                                                                                                                          & GL\\_GR\\_P\\_PDL1\\_PDL2\\_PDL3\\_PDR1\\_PDR2\\_PDR3\\_PLG\\_PLS\\_PLT\\_PLW\\_PPR\\_PR\\_PRG\\_PRT\\_PRW\\_VLi\\_VLo\\_VRi\\_VRo\\\\\n",
       "\t 10\\_2693                                                                                                                          & GL\\_GR\\_P\\_PDL1\\_PDL2\\_PDL3\\_PDR1\\_PDR2\\_PDR3\\_PLG\\_PLL\\_PLR\\_PLS\\_PLT\\_PLW\\_PPR\\_PR\\_PRG\\_PRT\\_PRW\\_VL\\_VR  \\\\\n",
       "\t 10\\_2810                                                                                                                          & GL\\_GR\\_P\\_PDL1\\_PDL2\\_PDL3\\_PDR1\\_PDR2\\_PDR3\\_PLG\\_PLS\\_PLT\\_PLW\\_PPR\\_PR\\_PRG\\_PRT\\_PRW\\_VLi\\_VLo\\_VRi\\_VRo\\\\\n",
       "\t 10\\_3228                                                                                                                          & GL\\_GR\\_P\\_PDL1\\_PDL2\\_PDL3\\_PDR1\\_PDR2\\_PDR3\\_PLG\\_PLS\\_PLT\\_PLW\\_PPL\\_PR\\_PRG\\_PRT\\_PRW\\_VLi\\_VLo\\_VRi\\_VRo\\\\\n",
       "\\end{tabular}\n"
      ],
      "text/markdown": [
       "\n",
       "| game_play_id | formation |\n",
       "|---|---|\n",
       "| 10_1275                                                                                  | GL_GR_P_PDL1_PDL2_PDL3_PDR1_PDR2_PDR3_PLG_PLS_PLT_PLW_PPR_PR_PRG_PRT_PRW_VLi_VLo_VRi_VRo |\n",
       "| 10_1409                                                                                  | GL_GR_P_PDL1_PDL2_PDL3_PDR1_PDR2_PDR3_PLG_PLS_PLT_PLW_PPL_PR_PRG_PRT_PRW_VLi_VLo_VRi_VRo |\n",
       "| 10_1501                                                                                  | GL_GR_P_PDL1_PDL2_PDL3_PDR1_PDR2_PDR3_PLG_PLS_PLT_PLW_PPR_PR_PRG_PRT_PRW_VLi_VLo_VRi_VRo |\n",
       "| 10_2693                                                                                  | GL_GR_P_PDL1_PDL2_PDL3_PDR1_PDR2_PDR3_PLG_PLL_PLR_PLS_PLT_PLW_PPR_PR_PRG_PRT_PRW_VL_VR   |\n",
       "| 10_2810                                                                                  | GL_GR_P_PDL1_PDL2_PDL3_PDR1_PDR2_PDR3_PLG_PLS_PLT_PLW_PPR_PR_PRG_PRT_PRW_VLi_VLo_VRi_VRo |\n",
       "| 10_3228                                                                                  | GL_GR_P_PDL1_PDL2_PDL3_PDR1_PDR2_PDR3_PLG_PLS_PLT_PLW_PPL_PR_PRG_PRT_PRW_VLi_VLo_VRi_VRo |\n",
       "\n"
      ],
      "text/plain": [
       "  game_play_id\n",
       "1 10_1275     \n",
       "2 10_1409     \n",
       "3 10_1501     \n",
       "4 10_2693     \n",
       "5 10_2810     \n",
       "6 10_3228     \n",
       "  formation                                                                               \n",
       "1 GL_GR_P_PDL1_PDL2_PDL3_PDR1_PDR2_PDR3_PLG_PLS_PLT_PLW_PPR_PR_PRG_PRT_PRW_VLi_VLo_VRi_VRo\n",
       "2 GL_GR_P_PDL1_PDL2_PDL3_PDR1_PDR2_PDR3_PLG_PLS_PLT_PLW_PPL_PR_PRG_PRT_PRW_VLi_VLo_VRi_VRo\n",
       "3 GL_GR_P_PDL1_PDL2_PDL3_PDR1_PDR2_PDR3_PLG_PLS_PLT_PLW_PPR_PR_PRG_PRT_PRW_VLi_VLo_VRi_VRo\n",
       "4 GL_GR_P_PDL1_PDL2_PDL3_PDR1_PDR2_PDR3_PLG_PLL_PLR_PLS_PLT_PLW_PPR_PR_PRG_PRT_PRW_VL_VR  \n",
       "5 GL_GR_P_PDL1_PDL2_PDL3_PDR1_PDR2_PDR3_PLG_PLS_PLT_PLW_PPR_PR_PRG_PRT_PRW_VLi_VLo_VRi_VRo\n",
       "6 GL_GR_P_PDL1_PDL2_PDL3_PDR1_PDR2_PDR3_PLG_PLS_PLT_PLW_PPL_PR_PRG_PRT_PRW_VLi_VLo_VRi_VRo"
      ]
     },
     "metadata": {},
     "output_type": "display_data"
    }
   ],
   "source": [
    "head(game_formation_data)"
   ]
  },
  {
   "cell_type": "code",
   "execution_count": 342,
   "metadata": {},
   "outputs": [
    {
     "data": {
      "text/html": [
       "<table>\n",
       "<thead><tr><th scope=col>game_play_id</th><th scope=col>formation</th></tr></thead>\n",
       "<tbody>\n",
       "\t<tr><td>100_1244                                                                                </td><td>GL_GR_P_PDL1_PDL2_PDL3_PDR1_PDR2_PDR3_PLG_PLS_PLT_PLW_PPR_PR_PRG_PRT_PRW_VLi_VLo_VRi_VRo</td></tr>\n",
       "</tbody>\n",
       "</table>\n"
      ],
      "text/latex": [
       "\\begin{tabular}{r|ll}\n",
       " game\\_play\\_id & formation\\\\\n",
       "\\hline\n",
       "\t 100\\_1244                                                                                                                         & GL\\_GR\\_P\\_PDL1\\_PDL2\\_PDL3\\_PDR1\\_PDR2\\_PDR3\\_PLG\\_PLS\\_PLT\\_PLW\\_PPR\\_PR\\_PRG\\_PRT\\_PRW\\_VLi\\_VLo\\_VRi\\_VRo\\\\\n",
       "\\end{tabular}\n"
      ],
      "text/markdown": [
       "\n",
       "| game_play_id | formation |\n",
       "|---|---|\n",
       "| 100_1244                                                                                 | GL_GR_P_PDL1_PDL2_PDL3_PDR1_PDR2_PDR3_PLG_PLS_PLT_PLW_PPR_PR_PRG_PRT_PRW_VLi_VLo_VRi_VRo |\n",
       "\n"
      ],
      "text/plain": [
       "  game_play_id\n",
       "1 100_1244    \n",
       "  formation                                                                               \n",
       "1 GL_GR_P_PDL1_PDL2_PDL3_PDR1_PDR2_PDR3_PLG_PLS_PLT_PLW_PPR_PR_PRG_PRT_PRW_VLi_VLo_VRi_VRo"
      ]
     },
     "metadata": {},
     "output_type": "display_data"
    }
   ],
   "source": [
    "game_formation_data[game_formation_data$game_play_id==\"100_1244\",]"
   ]
  },
  {
   "cell_type": "code",
   "execution_count": 343,
   "metadata": {
    "scrolled": true
   },
   "outputs": [
    {
     "data": {
      "text/html": [
       "<ol class=list-inline>\n",
       "\t<li>6670</li>\n",
       "\t<li>2</li>\n",
       "</ol>\n"
      ],
      "text/latex": [
       "\\begin{enumerate*}\n",
       "\\item 6670\n",
       "\\item 2\n",
       "\\end{enumerate*}\n"
      ],
      "text/markdown": [
       "1. 6670\n",
       "2. 2\n",
       "\n",
       "\n"
      ],
      "text/plain": [
       "[1] 6670    2"
      ]
     },
     "metadata": {},
     "output_type": "display_data"
    }
   ],
   "source": [
    "dim(game_formation_data)"
   ]
  },
  {
   "cell_type": "markdown",
   "metadata": {},
   "source": [
    "### Merging formations data with play information data"
   ]
  },
  {
   "cell_type": "code",
   "execution_count": 344,
   "metadata": {},
   "outputs": [
    {
     "name": "stdout",
     "output_type": "stream",
     "text": [
      "'data.frame':\t6681 obs. of  16 variables:\n",
      " $ Season_Year         : int  2016 2016 2016 2016 2016 2016 2016 2016 2016 2016 ...\n",
      " $ Season_Type         : Factor w/ 3 levels \"Post\",\"Pre\",\"Reg\": 2 2 2 2 2 2 2 2 2 2 ...\n",
      " $ GameKey             : int  2 2 2 2 2 2 2 2 2 3 ...\n",
      " $ Game_Date           : Factor w/ 142 levels \"01-01-2017\",\"01-06-2018\",..: 21 21 21 21 21 21 21 21 21 17 ...\n",
      " $ Week                : int  2 2 2 2 2 2 2 2 2 2 ...\n",
      " $ PlayID              : int  191 1132 1227 1864 2247 2342 2805 2970 3439 455 ...\n",
      " $ Game_Clock          : Factor w/ 891 levels \"00:00\",\"00:01\",..: 750 728 601 22 626 540 28 810 329 404 ...\n",
      " $ YardLine            : Factor w/ 1470 levels \"ARZ 10\",\"ARZ 11\",..: 770 752 370 400 367 774 761 764 367 113 ...\n",
      " $ Quarter             : int  1 2 2 2 3 3 3 4 4 1 ...\n",
      " $ Play_Type           : Factor w/ 1 level \"Punt\": 1 1 1 1 1 1 1 1 1 1 ...\n",
      " $ Poss_Team           : Factor w/ 33 levels \"ARZ\",\"ATL\",\"BLT\",..: 17 17 9 17 9 17 17 9 9 3 ...\n",
      " $ Home_Team_Visit_Team: Factor w/ 507 levels \"ARZ-CHI\",\"ARZ-DAL\",..: 254 254 254 254 254 254 254 254 254 33 ...\n",
      " $ Score_Home_Visiting : Factor w/ 603 levels \"0 - 0\",\"0 - 10\",..: 23 535 535 537 128 128 128 128 275 18 ...\n",
      " $ PlayDescription     : Factor w/ 6681 levels \"(:00) K.Redfern punts 45 yards to NE 25, Center-J.Jansen, out of bounds.\",..: 1992 1815 952 135 1134 6223 191 2502 4705 5267 ...\n",
      " $ game_play_id        : chr  \"2_191\" \"2_1132\" \"2_1227\" \"2_1864\" ...\n",
      " $ injury              : logi  FALSE FALSE FALSE FALSE FALSE FALSE ...\n"
     ]
    }
   ],
   "source": [
    "str(play_info)"
   ]
  },
  {
   "cell_type": "code",
   "execution_count": 345,
   "metadata": {},
   "outputs": [
    {
     "data": {
      "text/html": [
       "<ol class=list-inline>\n",
       "\t<li>6681</li>\n",
       "\t<li>16</li>\n",
       "</ol>\n"
      ],
      "text/latex": [
       "\\begin{enumerate*}\n",
       "\\item 6681\n",
       "\\item 16\n",
       "\\end{enumerate*}\n"
      ],
      "text/markdown": [
       "1. 6681\n",
       "2. 16\n",
       "\n",
       "\n"
      ],
      "text/plain": [
       "[1] 6681   16"
      ]
     },
     "metadata": {},
     "output_type": "display_data"
    }
   ],
   "source": [
    "dim(play_info)"
   ]
  },
  {
   "cell_type": "code",
   "execution_count": 346,
   "metadata": {
    "scrolled": true
   },
   "outputs": [
    {
     "data": {
      "text/html": [
       "<table>\n",
       "<thead><tr><th scope=col>game_play_id</th><th scope=col>formation</th><th scope=col>injury</th></tr></thead>\n",
       "<tbody>\n",
       "\t<tr><td>10_1275                                                                                 </td><td>GL_GR_P_PDL1_PDL2_PDL3_PDR1_PDR2_PDR3_PLG_PLS_PLT_PLW_PPR_PR_PRG_PRT_PRW_VLi_VLo_VRi_VRo</td><td>FALSE                                                                                   </td></tr>\n",
       "\t<tr><td>10_1409                                                                                 </td><td>GL_GR_P_PDL1_PDL2_PDL3_PDR1_PDR2_PDR3_PLG_PLS_PLT_PLW_PPL_PR_PRG_PRT_PRW_VLi_VLo_VRi_VRo</td><td>FALSE                                                                                   </td></tr>\n",
       "\t<tr><td>10_1501                                                                                 </td><td>GL_GR_P_PDL1_PDL2_PDL3_PDR1_PDR2_PDR3_PLG_PLS_PLT_PLW_PPR_PR_PRG_PRT_PRW_VLi_VLo_VRi_VRo</td><td>FALSE                                                                                   </td></tr>\n",
       "\t<tr><td>10_2693                                                                                 </td><td>GL_GR_P_PDL1_PDL2_PDL3_PDR1_PDR2_PDR3_PLG_PLL_PLR_PLS_PLT_PLW_PPR_PR_PRG_PRT_PRW_VL_VR  </td><td>FALSE                                                                                   </td></tr>\n",
       "\t<tr><td>10_2810                                                                                 </td><td>GL_GR_P_PDL1_PDL2_PDL3_PDR1_PDR2_PDR3_PLG_PLS_PLT_PLW_PPR_PR_PRG_PRT_PRW_VLi_VLo_VRi_VRo</td><td>FALSE                                                                                   </td></tr>\n",
       "\t<tr><td>10_3228                                                                                 </td><td>GL_GR_P_PDL1_PDL2_PDL3_PDR1_PDR2_PDR3_PLG_PLS_PLT_PLW_PPL_PR_PRG_PRT_PRW_VLi_VLo_VRi_VRo</td><td>FALSE                                                                                   </td></tr>\n",
       "</tbody>\n",
       "</table>\n"
      ],
      "text/latex": [
       "\\begin{tabular}{r|lll}\n",
       " game\\_play\\_id & formation & injury\\\\\n",
       "\\hline\n",
       "\t 10\\_1275                                                                                                                          & GL\\_GR\\_P\\_PDL1\\_PDL2\\_PDL3\\_PDR1\\_PDR2\\_PDR3\\_PLG\\_PLS\\_PLT\\_PLW\\_PPR\\_PR\\_PRG\\_PRT\\_PRW\\_VLi\\_VLo\\_VRi\\_VRo & FALSE                                                                                                                             \\\\\n",
       "\t 10\\_1409                                                                                                                          & GL\\_GR\\_P\\_PDL1\\_PDL2\\_PDL3\\_PDR1\\_PDR2\\_PDR3\\_PLG\\_PLS\\_PLT\\_PLW\\_PPL\\_PR\\_PRG\\_PRT\\_PRW\\_VLi\\_VLo\\_VRi\\_VRo & FALSE                                                                                                                             \\\\\n",
       "\t 10\\_1501                                                                                                                          & GL\\_GR\\_P\\_PDL1\\_PDL2\\_PDL3\\_PDR1\\_PDR2\\_PDR3\\_PLG\\_PLS\\_PLT\\_PLW\\_PPR\\_PR\\_PRG\\_PRT\\_PRW\\_VLi\\_VLo\\_VRi\\_VRo & FALSE                                                                                                                             \\\\\n",
       "\t 10\\_2693                                                                                                                          & GL\\_GR\\_P\\_PDL1\\_PDL2\\_PDL3\\_PDR1\\_PDR2\\_PDR3\\_PLG\\_PLL\\_PLR\\_PLS\\_PLT\\_PLW\\_PPR\\_PR\\_PRG\\_PRT\\_PRW\\_VL\\_VR   & FALSE                                                                                                                             \\\\\n",
       "\t 10\\_2810                                                                                                                          & GL\\_GR\\_P\\_PDL1\\_PDL2\\_PDL3\\_PDR1\\_PDR2\\_PDR3\\_PLG\\_PLS\\_PLT\\_PLW\\_PPR\\_PR\\_PRG\\_PRT\\_PRW\\_VLi\\_VLo\\_VRi\\_VRo & FALSE                                                                                                                             \\\\\n",
       "\t 10\\_3228                                                                                                                          & GL\\_GR\\_P\\_PDL1\\_PDL2\\_PDL3\\_PDR1\\_PDR2\\_PDR3\\_PLG\\_PLS\\_PLT\\_PLW\\_PPL\\_PR\\_PRG\\_PRT\\_PRW\\_VLi\\_VLo\\_VRi\\_VRo & FALSE                                                                                                                             \\\\\n",
       "\\end{tabular}\n"
      ],
      "text/markdown": [
       "\n",
       "| game_play_id | formation | injury |\n",
       "|---|---|---|\n",
       "| 10_1275                                                                                  | GL_GR_P_PDL1_PDL2_PDL3_PDR1_PDR2_PDR3_PLG_PLS_PLT_PLW_PPR_PR_PRG_PRT_PRW_VLi_VLo_VRi_VRo | FALSE                                                                                    |\n",
       "| 10_1409                                                                                  | GL_GR_P_PDL1_PDL2_PDL3_PDR1_PDR2_PDR3_PLG_PLS_PLT_PLW_PPL_PR_PRG_PRT_PRW_VLi_VLo_VRi_VRo | FALSE                                                                                    |\n",
       "| 10_1501                                                                                  | GL_GR_P_PDL1_PDL2_PDL3_PDR1_PDR2_PDR3_PLG_PLS_PLT_PLW_PPR_PR_PRG_PRT_PRW_VLi_VLo_VRi_VRo | FALSE                                                                                    |\n",
       "| 10_2693                                                                                  | GL_GR_P_PDL1_PDL2_PDL3_PDR1_PDR2_PDR3_PLG_PLL_PLR_PLS_PLT_PLW_PPR_PR_PRG_PRT_PRW_VL_VR   | FALSE                                                                                    |\n",
       "| 10_2810                                                                                  | GL_GR_P_PDL1_PDL2_PDL3_PDR1_PDR2_PDR3_PLG_PLS_PLT_PLW_PPR_PR_PRG_PRT_PRW_VLi_VLo_VRi_VRo | FALSE                                                                                    |\n",
       "| 10_3228                                                                                  | GL_GR_P_PDL1_PDL2_PDL3_PDR1_PDR2_PDR3_PLG_PLS_PLT_PLW_PPL_PR_PRG_PRT_PRW_VLi_VLo_VRi_VRo | FALSE                                                                                    |\n",
       "\n"
      ],
      "text/plain": [
       "  game_play_id\n",
       "1 10_1275     \n",
       "2 10_1409     \n",
       "3 10_1501     \n",
       "4 10_2693     \n",
       "5 10_2810     \n",
       "6 10_3228     \n",
       "  formation                                                                               \n",
       "1 GL_GR_P_PDL1_PDL2_PDL3_PDR1_PDR2_PDR3_PLG_PLS_PLT_PLW_PPR_PR_PRG_PRT_PRW_VLi_VLo_VRi_VRo\n",
       "2 GL_GR_P_PDL1_PDL2_PDL3_PDR1_PDR2_PDR3_PLG_PLS_PLT_PLW_PPL_PR_PRG_PRT_PRW_VLi_VLo_VRi_VRo\n",
       "3 GL_GR_P_PDL1_PDL2_PDL3_PDR1_PDR2_PDR3_PLG_PLS_PLT_PLW_PPR_PR_PRG_PRT_PRW_VLi_VLo_VRi_VRo\n",
       "4 GL_GR_P_PDL1_PDL2_PDL3_PDR1_PDR2_PDR3_PLG_PLL_PLR_PLS_PLT_PLW_PPR_PR_PRG_PRT_PRW_VL_VR  \n",
       "5 GL_GR_P_PDL1_PDL2_PDL3_PDR1_PDR2_PDR3_PLG_PLS_PLT_PLW_PPR_PR_PRG_PRT_PRW_VLi_VLo_VRi_VRo\n",
       "6 GL_GR_P_PDL1_PDL2_PDL3_PDR1_PDR2_PDR3_PLG_PLS_PLT_PLW_PPL_PR_PRG_PRT_PRW_VLi_VLo_VRi_VRo\n",
       "  injury\n",
       "1 FALSE \n",
       "2 FALSE \n",
       "3 FALSE \n",
       "4 FALSE \n",
       "5 FALSE \n",
       "6 FALSE "
      ]
     },
     "metadata": {},
     "output_type": "display_data"
    }
   ],
   "source": [
    "final_formation_data <- merge(play_info, game_formation_data, by='game_play_id')\n",
    "final_formation_data <- select(final_formation_data,game_play_id,formation,injury)\n",
    "head(final_formation_data)\n"
   ]
  },
  {
   "cell_type": "code",
   "execution_count": 347,
   "metadata": {},
   "outputs": [
    {
     "data": {
      "text/html": [
       "<ol class=list-inline>\n",
       "\t<li>6668</li>\n",
       "\t<li>3</li>\n",
       "</ol>\n"
      ],
      "text/latex": [
       "\\begin{enumerate*}\n",
       "\\item 6668\n",
       "\\item 3\n",
       "\\end{enumerate*}\n"
      ],
      "text/markdown": [
       "1. 6668\n",
       "2. 3\n",
       "\n",
       "\n"
      ],
      "text/plain": [
       "[1] 6668    3"
      ]
     },
     "metadata": {},
     "output_type": "display_data"
    }
   ],
   "source": [
    "dim(final_formation_data)"
   ]
  },
  {
   "cell_type": "markdown",
   "metadata": {},
   "source": [
    "### Merging formations data with video review data"
   ]
  },
  {
   "cell_type": "code",
   "execution_count": 348,
   "metadata": {},
   "outputs": [
    {
     "name": "stdout",
     "output_type": "stream",
     "text": [
      "'data.frame':\t37 obs. of  12 variables:\n",
      " $ Season_Year                     : int  2016 2016 2016 2016 2016 2016 2016 2016 2016 2016 ...\n",
      " $ GameKey                         : int  5 21 29 45 54 60 144 149 189 218 ...\n",
      " $ PlayID                          : int  3129 2587 538 1212 1045 905 2342 3663 3509 3468 ...\n",
      " $ GSISID                          : int  29492 32323 29343 27595 32410 32444 30171 29793 30384 32403 ...\n",
      " $ Player_Activity_Derived         : Factor w/ 4 levels \"Blocked\",\"Blocking\",..: 4 1 1 3 2 1 4 2 1 2 ...\n",
      " $ Turnover_Related                : Factor w/ 1 level \"No\": 1 1 1 1 1 1 1 1 1 1 ...\n",
      " $ Primary_Impact_Type             : Factor w/ 4 levels \"Helmet-to-body\",..: 1 3 3 3 1 1 1 3 4 3 ...\n",
      " $ Primary_Partner_GSISID          : Factor w/ 35 levels \"\",\"23259\",\"24535\",..: 33 19 12 21 2 15 8 23 35 30 ...\n",
      " $ Primary_Partner_Activity_Derived: Factor w/ 6 levels \"\",\"Blocked\",\"Blocking\",..: 5 3 3 5 2 2 4 2 6 2 ...\n",
      " $ Friendly_Fire                   : Factor w/ 4 levels \"\",\"No\",\"Unclear\",..: 4 2 2 2 2 4 2 2 3 2 ...\n",
      " $ X                               : Factor w/ 25 levels \"Arrowhead Stadium\",..: 23 20 5 17 2 7 19 16 1 12 ...\n",
      " $ game_play_id                    : chr  \"5_3129\" \"21_2587\" \"29_538\" \"45_1212\" ...\n"
     ]
    }
   ],
   "source": [
    "str(vid_rev)"
   ]
  },
  {
   "cell_type": "code",
   "execution_count": 349,
   "metadata": {},
   "outputs": [
    {
     "data": {
      "text/html": [
       "<ol class=list-inline>\n",
       "\t<li>37</li>\n",
       "\t<li>12</li>\n",
       "</ol>\n"
      ],
      "text/latex": [
       "\\begin{enumerate*}\n",
       "\\item 37\n",
       "\\item 12\n",
       "\\end{enumerate*}\n"
      ],
      "text/markdown": [
       "1. 37\n",
       "2. 12\n",
       "\n",
       "\n"
      ],
      "text/plain": [
       "[1] 37 12"
      ]
     },
     "metadata": {},
     "output_type": "display_data"
    }
   ],
   "source": [
    "dim(vid_rev)"
   ]
  },
  {
   "cell_type": "code",
   "execution_count": 350,
   "metadata": {
    "collapsed": true
   },
   "outputs": [],
   "source": [
    "data_temporary <- merge(vid_rev, game_formation_data, all.x=TRUE, by='game_play_id')"
   ]
  },
  {
   "cell_type": "code",
   "execution_count": 351,
   "metadata": {},
   "outputs": [
    {
     "data": {
      "text/html": [
       "<ol class=list-inline>\n",
       "\t<li>37</li>\n",
       "\t<li>13</li>\n",
       "</ol>\n"
      ],
      "text/latex": [
       "\\begin{enumerate*}\n",
       "\\item 37\n",
       "\\item 13\n",
       "\\end{enumerate*}\n"
      ],
      "text/markdown": [
       "1. 37\n",
       "2. 13\n",
       "\n",
       "\n"
      ],
      "text/plain": [
       "[1] 37 13"
      ]
     },
     "metadata": {},
     "output_type": "display_data"
    }
   ],
   "source": [
    "dim(data_temporary)"
   ]
  },
  {
   "cell_type": "code",
   "execution_count": 352,
   "metadata": {},
   "outputs": [
    {
     "data": {
      "text/html": [
       "<table>\n",
       "<thead><tr><th scope=col>formation</th><th scope=col>Injury_Count</th></tr></thead>\n",
       "<tbody>\n",
       "\t<tr><td>GL_GR_P_PDL1_PDL2_PDL3_PDL4_PDR1_PDR2_PDR3_PDR4_PLG_PLS_PLT_PLW_PPR_PR_PRG_PRT_PRW_VL_VR</td><td>2                                                                                       </td></tr>\n",
       "\t<tr><td>GL_GR_P_PDL1_PDL2_PDL3_PDL4_PDR1_PDR2_PDR3_PLG_PLL_PLS_PLT_PLW_PPR_PR_PRG_PRT_PRW_VL_VR </td><td>1                                                                                       </td></tr>\n",
       "\t<tr><td>GL_GR_P_PDL1_PDL2_PDL3_PDL4_PDR1_PDR2_PDR3_PLG_PLS_PLT_PLW_PPR_PR_PRG_PRT_PRW_VL_VRi_VRo</td><td>1                                                                                       </td></tr>\n",
       "\t<tr><td>GL_GR_P_PDL1_PDL2_PDL3_PDL4_PDR1_PDR2_PDR3_PLG_PLS_PLT_PLW_PPR_PR_PRG_PRT_PRW_VLi_VLo_VR</td><td>1                                                                                       </td></tr>\n",
       "\t<tr><td>GL_GR_P_PDL1_PDL2_PDL3_PDR1_PDR2_PDR3_PDR4_PDR5_PLG_PLS_PLT_PLW_PPR_PR_PRG_PRT_PRW_VL_VR</td><td>1                                                                                       </td></tr>\n",
       "\t<tr><td>GL_GR_P_PDL1_PDL2_PDL3_PDR1_PDR2_PDR3_PDR4_PLG_PLS_PLT_PLW_PPL_PR_PRG_PRT_PRW_VL_VRi_VRo</td><td>1                                                                                       </td></tr>\n",
       "</tbody>\n",
       "</table>\n"
      ],
      "text/latex": [
       "\\begin{tabular}{r|ll}\n",
       " formation & Injury\\_Count\\\\\n",
       "\\hline\n",
       "\t GL\\_GR\\_P\\_PDL1\\_PDL2\\_PDL3\\_PDL4\\_PDR1\\_PDR2\\_PDR3\\_PDR4\\_PLG\\_PLS\\_PLT\\_PLW\\_PPR\\_PR\\_PRG\\_PRT\\_PRW\\_VL\\_VR & 2                                                                                                                                 \\\\\n",
       "\t GL\\_GR\\_P\\_PDL1\\_PDL2\\_PDL3\\_PDL4\\_PDR1\\_PDR2\\_PDR3\\_PLG\\_PLL\\_PLS\\_PLT\\_PLW\\_PPR\\_PR\\_PRG\\_PRT\\_PRW\\_VL\\_VR  & 1                                                                                                                                 \\\\\n",
       "\t GL\\_GR\\_P\\_PDL1\\_PDL2\\_PDL3\\_PDL4\\_PDR1\\_PDR2\\_PDR3\\_PLG\\_PLS\\_PLT\\_PLW\\_PPR\\_PR\\_PRG\\_PRT\\_PRW\\_VL\\_VRi\\_VRo & 1                                                                                                                                 \\\\\n",
       "\t GL\\_GR\\_P\\_PDL1\\_PDL2\\_PDL3\\_PDL4\\_PDR1\\_PDR2\\_PDR3\\_PLG\\_PLS\\_PLT\\_PLW\\_PPR\\_PR\\_PRG\\_PRT\\_PRW\\_VLi\\_VLo\\_VR & 1                                                                                                                                 \\\\\n",
       "\t GL\\_GR\\_P\\_PDL1\\_PDL2\\_PDL3\\_PDR1\\_PDR2\\_PDR3\\_PDR4\\_PDR5\\_PLG\\_PLS\\_PLT\\_PLW\\_PPR\\_PR\\_PRG\\_PRT\\_PRW\\_VL\\_VR & 1                                                                                                                                 \\\\\n",
       "\t GL\\_GR\\_P\\_PDL1\\_PDL2\\_PDL3\\_PDR1\\_PDR2\\_PDR3\\_PDR4\\_PLG\\_PLS\\_PLT\\_PLW\\_PPL\\_PR\\_PRG\\_PRT\\_PRW\\_VL\\_VRi\\_VRo & 1                                                                                                                                 \\\\\n",
       "\\end{tabular}\n"
      ],
      "text/markdown": [
       "\n",
       "| formation | Injury_Count |\n",
       "|---|---|\n",
       "| GL_GR_P_PDL1_PDL2_PDL3_PDL4_PDR1_PDR2_PDR3_PDR4_PLG_PLS_PLT_PLW_PPR_PR_PRG_PRT_PRW_VL_VR | 2                                                                                        |\n",
       "| GL_GR_P_PDL1_PDL2_PDL3_PDL4_PDR1_PDR2_PDR3_PLG_PLL_PLS_PLT_PLW_PPR_PR_PRG_PRT_PRW_VL_VR  | 1                                                                                        |\n",
       "| GL_GR_P_PDL1_PDL2_PDL3_PDL4_PDR1_PDR2_PDR3_PLG_PLS_PLT_PLW_PPR_PR_PRG_PRT_PRW_VL_VRi_VRo | 1                                                                                        |\n",
       "| GL_GR_P_PDL1_PDL2_PDL3_PDL4_PDR1_PDR2_PDR3_PLG_PLS_PLT_PLW_PPR_PR_PRG_PRT_PRW_VLi_VLo_VR | 1                                                                                        |\n",
       "| GL_GR_P_PDL1_PDL2_PDL3_PDR1_PDR2_PDR3_PDR4_PDR5_PLG_PLS_PLT_PLW_PPR_PR_PRG_PRT_PRW_VL_VR | 1                                                                                        |\n",
       "| GL_GR_P_PDL1_PDL2_PDL3_PDR1_PDR2_PDR3_PDR4_PLG_PLS_PLT_PLW_PPL_PR_PRG_PRT_PRW_VL_VRi_VRo | 1                                                                                        |\n",
       "\n"
      ],
      "text/plain": [
       "  formation                                                                               \n",
       "1 GL_GR_P_PDL1_PDL2_PDL3_PDL4_PDR1_PDR2_PDR3_PDR4_PLG_PLS_PLT_PLW_PPR_PR_PRG_PRT_PRW_VL_VR\n",
       "2 GL_GR_P_PDL1_PDL2_PDL3_PDL4_PDR1_PDR2_PDR3_PLG_PLL_PLS_PLT_PLW_PPR_PR_PRG_PRT_PRW_VL_VR \n",
       "3 GL_GR_P_PDL1_PDL2_PDL3_PDL4_PDR1_PDR2_PDR3_PLG_PLS_PLT_PLW_PPR_PR_PRG_PRT_PRW_VL_VRi_VRo\n",
       "4 GL_GR_P_PDL1_PDL2_PDL3_PDL4_PDR1_PDR2_PDR3_PLG_PLS_PLT_PLW_PPR_PR_PRG_PRT_PRW_VLi_VLo_VR\n",
       "5 GL_GR_P_PDL1_PDL2_PDL3_PDR1_PDR2_PDR3_PDR4_PDR5_PLG_PLS_PLT_PLW_PPR_PR_PRG_PRT_PRW_VL_VR\n",
       "6 GL_GR_P_PDL1_PDL2_PDL3_PDR1_PDR2_PDR3_PDR4_PLG_PLS_PLT_PLW_PPL_PR_PRG_PRT_PRW_VL_VRi_VRo\n",
       "  Injury_Count\n",
       "1 2           \n",
       "2 1           \n",
       "3 1           \n",
       "4 1           \n",
       "5 1           \n",
       "6 1           "
      ]
     },
     "metadata": {},
     "output_type": "display_data"
    }
   ],
   "source": [
    "data_temporary <- data_temporary %>% group_by(formation) %>% dplyr::summarize(Injury_Count = n())\n",
    "head(data_temporary)"
   ]
  },
  {
   "cell_type": "code",
   "execution_count": 353,
   "metadata": {},
   "outputs": [
    {
     "data": {
      "text/html": [
       "<table>\n",
       "<thead><tr><th scope=col>formation</th><th scope=col>Total_Count</th></tr></thead>\n",
       "<tbody>\n",
       "\t<tr><td>GL_GR_P_PDL1_PDL2_PDL3_PDL4_PDR1_PDR2_PDR3_PDR4_PLG_PLS_PLT_PLW_PPR_PR_PRG_PRT_PRW_VL_VR</td><td>370                                                                                     </td></tr>\n",
       "\t<tr><td>GL_GR_P_PDL1_PDL2_PDL3_PDR1_PDR2_PDR3_PLG_PLS_PLT_PLW_PPR_PR_PRG_PRT_PRW_VLi_VLo_VRi_VRo</td><td>346                                                                                     </td></tr>\n",
       "\t<tr><td>GL_GR_P_PDL1_PDL2_PDL3_PDR1_PDR2_PDR3_PLG_PLL_PLR_PLS_PLT_PLW_PPR_PR_PRG_PRT_PRW_VL_VR  </td><td>341                                                                                     </td></tr>\n",
       "\t<tr><td>GL_GR_P_PDL1_PDL2_PDL3_PDR1_PDR2_PDR3_PLG_PLL_PLR_PLS_PLT_PLW_PPL_PR_PRG_PRT_PRW_VL_VR  </td><td>258                                                                                     </td></tr>\n",
       "\t<tr><td>GL_GR_P_PDL1_PDL2_PDL3_PDL4_PDR1_PDR2_PDR3_PDR4_PLG_PLS_PLT_PLW_PPL_PR_PRG_PRT_PRW_VL_VR</td><td>229                                                                                     </td></tr>\n",
       "\t<tr><td>GL_GR_P_PDL1_PDL2_PDL3_PDR1_PDR2_PDR3_PLG_PLS_PLT_PLW_PPL_PR_PRG_PRT_PRW_VLi_VLo_VRi_VRo</td><td>216                                                                                     </td></tr>\n",
       "</tbody>\n",
       "</table>\n"
      ],
      "text/latex": [
       "\\begin{tabular}{r|ll}\n",
       " formation & Total\\_Count\\\\\n",
       "\\hline\n",
       "\t GL\\_GR\\_P\\_PDL1\\_PDL2\\_PDL3\\_PDL4\\_PDR1\\_PDR2\\_PDR3\\_PDR4\\_PLG\\_PLS\\_PLT\\_PLW\\_PPR\\_PR\\_PRG\\_PRT\\_PRW\\_VL\\_VR & 370                                                                                                                               \\\\\n",
       "\t GL\\_GR\\_P\\_PDL1\\_PDL2\\_PDL3\\_PDR1\\_PDR2\\_PDR3\\_PLG\\_PLS\\_PLT\\_PLW\\_PPR\\_PR\\_PRG\\_PRT\\_PRW\\_VLi\\_VLo\\_VRi\\_VRo & 346                                                                                                                               \\\\\n",
       "\t GL\\_GR\\_P\\_PDL1\\_PDL2\\_PDL3\\_PDR1\\_PDR2\\_PDR3\\_PLG\\_PLL\\_PLR\\_PLS\\_PLT\\_PLW\\_PPR\\_PR\\_PRG\\_PRT\\_PRW\\_VL\\_VR   & 341                                                                                                                               \\\\\n",
       "\t GL\\_GR\\_P\\_PDL1\\_PDL2\\_PDL3\\_PDR1\\_PDR2\\_PDR3\\_PLG\\_PLL\\_PLR\\_PLS\\_PLT\\_PLW\\_PPL\\_PR\\_PRG\\_PRT\\_PRW\\_VL\\_VR   & 258                                                                                                                               \\\\\n",
       "\t GL\\_GR\\_P\\_PDL1\\_PDL2\\_PDL3\\_PDL4\\_PDR1\\_PDR2\\_PDR3\\_PDR4\\_PLG\\_PLS\\_PLT\\_PLW\\_PPL\\_PR\\_PRG\\_PRT\\_PRW\\_VL\\_VR & 229                                                                                                                               \\\\\n",
       "\t GL\\_GR\\_P\\_PDL1\\_PDL2\\_PDL3\\_PDR1\\_PDR2\\_PDR3\\_PLG\\_PLS\\_PLT\\_PLW\\_PPL\\_PR\\_PRG\\_PRT\\_PRW\\_VLi\\_VLo\\_VRi\\_VRo & 216                                                                                                                               \\\\\n",
       "\\end{tabular}\n"
      ],
      "text/markdown": [
       "\n",
       "| formation | Total_Count |\n",
       "|---|---|\n",
       "| GL_GR_P_PDL1_PDL2_PDL3_PDL4_PDR1_PDR2_PDR3_PDR4_PLG_PLS_PLT_PLW_PPR_PR_PRG_PRT_PRW_VL_VR | 370                                                                                      |\n",
       "| GL_GR_P_PDL1_PDL2_PDL3_PDR1_PDR2_PDR3_PLG_PLS_PLT_PLW_PPR_PR_PRG_PRT_PRW_VLi_VLo_VRi_VRo | 346                                                                                      |\n",
       "| GL_GR_P_PDL1_PDL2_PDL3_PDR1_PDR2_PDR3_PLG_PLL_PLR_PLS_PLT_PLW_PPR_PR_PRG_PRT_PRW_VL_VR   | 341                                                                                      |\n",
       "| GL_GR_P_PDL1_PDL2_PDL3_PDR1_PDR2_PDR3_PLG_PLL_PLR_PLS_PLT_PLW_PPL_PR_PRG_PRT_PRW_VL_VR   | 258                                                                                      |\n",
       "| GL_GR_P_PDL1_PDL2_PDL3_PDL4_PDR1_PDR2_PDR3_PDR4_PLG_PLS_PLT_PLW_PPL_PR_PRG_PRT_PRW_VL_VR | 229                                                                                      |\n",
       "| GL_GR_P_PDL1_PDL2_PDL3_PDR1_PDR2_PDR3_PLG_PLS_PLT_PLW_PPL_PR_PRG_PRT_PRW_VLi_VLo_VRi_VRo | 216                                                                                      |\n",
       "\n"
      ],
      "text/plain": [
       "  formation                                                                               \n",
       "1 GL_GR_P_PDL1_PDL2_PDL3_PDL4_PDR1_PDR2_PDR3_PDR4_PLG_PLS_PLT_PLW_PPR_PR_PRG_PRT_PRW_VL_VR\n",
       "2 GL_GR_P_PDL1_PDL2_PDL3_PDR1_PDR2_PDR3_PLG_PLS_PLT_PLW_PPR_PR_PRG_PRT_PRW_VLi_VLo_VRi_VRo\n",
       "3 GL_GR_P_PDL1_PDL2_PDL3_PDR1_PDR2_PDR3_PLG_PLL_PLR_PLS_PLT_PLW_PPR_PR_PRG_PRT_PRW_VL_VR  \n",
       "4 GL_GR_P_PDL1_PDL2_PDL3_PDR1_PDR2_PDR3_PLG_PLL_PLR_PLS_PLT_PLW_PPL_PR_PRG_PRT_PRW_VL_VR  \n",
       "5 GL_GR_P_PDL1_PDL2_PDL3_PDL4_PDR1_PDR2_PDR3_PDR4_PLG_PLS_PLT_PLW_PPL_PR_PRG_PRT_PRW_VL_VR\n",
       "6 GL_GR_P_PDL1_PDL2_PDL3_PDR1_PDR2_PDR3_PLG_PLS_PLT_PLW_PPL_PR_PRG_PRT_PRW_VLi_VLo_VRi_VRo\n",
       "  Total_Count\n",
       "1 370        \n",
       "2 346        \n",
       "3 341        \n",
       "4 258        \n",
       "5 229        \n",
       "6 216        "
      ]
     },
     "metadata": {},
     "output_type": "display_data"
    }
   ],
   "source": [
    "formation_data <- final_formation_data %>% group_by(formation) %>% dplyr::summarize(Total_Count = n()) %>% arrange(desc(Total_Count))\n",
    "head(formation_data)"
   ]
  },
  {
   "cell_type": "markdown",
   "metadata": {},
   "source": [
    "### Sorting final formation data by Injury counts"
   ]
  },
  {
   "cell_type": "code",
   "execution_count": 354,
   "metadata": {
    "scrolled": true
   },
   "outputs": [
    {
     "data": {
      "text/html": [
       "<table>\n",
       "<thead><tr><th scope=col>formation</th><th scope=col>Total_Count</th></tr></thead>\n",
       "<tbody>\n",
       "\t<tr><td>GL_GR_P_PDL1_PDL2_PDL3_PDL4_PDR1_PDR2_PDR3_PDR4_PLG_PLS_PLT_PLW_PPR_PR_PRG_PRT_PRW_VL_VR</td><td>370                                                                                     </td></tr>\n",
       "\t<tr><td>GL_GR_P_PDL1_PDL2_PDL3_PDR1_PDR2_PDR3_PLG_PLS_PLT_PLW_PPR_PR_PRG_PRT_PRW_VLi_VLo_VRi_VRo</td><td>346                                                                                     </td></tr>\n",
       "\t<tr><td>GL_GR_P_PDL1_PDL2_PDL3_PDR1_PDR2_PDR3_PLG_PLL_PLR_PLS_PLT_PLW_PPR_PR_PRG_PRT_PRW_VL_VR  </td><td>341                                                                                     </td></tr>\n",
       "\t<tr><td>GL_GR_P_PDL1_PDL2_PDL3_PDR1_PDR2_PDR3_PLG_PLL_PLR_PLS_PLT_PLW_PPL_PR_PRG_PRT_PRW_VL_VR  </td><td>258                                                                                     </td></tr>\n",
       "\t<tr><td>GL_GR_P_PDL1_PDL2_PDL3_PDL4_PDR1_PDR2_PDR3_PDR4_PLG_PLS_PLT_PLW_PPL_PR_PRG_PRT_PRW_VL_VR</td><td>229                                                                                     </td></tr>\n",
       "\t<tr><td>GL_GR_P_PDL1_PDL2_PDL3_PDR1_PDR2_PDR3_PLG_PLS_PLT_PLW_PPL_PR_PRG_PRT_PRW_VLi_VLo_VRi_VRo</td><td>216                                                                                     </td></tr>\n",
       "</tbody>\n",
       "</table>\n"
      ],
      "text/latex": [
       "\\begin{tabular}{r|ll}\n",
       " formation & Total\\_Count\\\\\n",
       "\\hline\n",
       "\t GL\\_GR\\_P\\_PDL1\\_PDL2\\_PDL3\\_PDL4\\_PDR1\\_PDR2\\_PDR3\\_PDR4\\_PLG\\_PLS\\_PLT\\_PLW\\_PPR\\_PR\\_PRG\\_PRT\\_PRW\\_VL\\_VR & 370                                                                                                                               \\\\\n",
       "\t GL\\_GR\\_P\\_PDL1\\_PDL2\\_PDL3\\_PDR1\\_PDR2\\_PDR3\\_PLG\\_PLS\\_PLT\\_PLW\\_PPR\\_PR\\_PRG\\_PRT\\_PRW\\_VLi\\_VLo\\_VRi\\_VRo & 346                                                                                                                               \\\\\n",
       "\t GL\\_GR\\_P\\_PDL1\\_PDL2\\_PDL3\\_PDR1\\_PDR2\\_PDR3\\_PLG\\_PLL\\_PLR\\_PLS\\_PLT\\_PLW\\_PPR\\_PR\\_PRG\\_PRT\\_PRW\\_VL\\_VR   & 341                                                                                                                               \\\\\n",
       "\t GL\\_GR\\_P\\_PDL1\\_PDL2\\_PDL3\\_PDR1\\_PDR2\\_PDR3\\_PLG\\_PLL\\_PLR\\_PLS\\_PLT\\_PLW\\_PPL\\_PR\\_PRG\\_PRT\\_PRW\\_VL\\_VR   & 258                                                                                                                               \\\\\n",
       "\t GL\\_GR\\_P\\_PDL1\\_PDL2\\_PDL3\\_PDL4\\_PDR1\\_PDR2\\_PDR3\\_PDR4\\_PLG\\_PLS\\_PLT\\_PLW\\_PPL\\_PR\\_PRG\\_PRT\\_PRW\\_VL\\_VR & 229                                                                                                                               \\\\\n",
       "\t GL\\_GR\\_P\\_PDL1\\_PDL2\\_PDL3\\_PDR1\\_PDR2\\_PDR3\\_PLG\\_PLS\\_PLT\\_PLW\\_PPL\\_PR\\_PRG\\_PRT\\_PRW\\_VLi\\_VLo\\_VRi\\_VRo & 216                                                                                                                               \\\\\n",
       "\\end{tabular}\n"
      ],
      "text/markdown": [
       "\n",
       "| formation | Total_Count |\n",
       "|---|---|\n",
       "| GL_GR_P_PDL1_PDL2_PDL3_PDL4_PDR1_PDR2_PDR3_PDR4_PLG_PLS_PLT_PLW_PPR_PR_PRG_PRT_PRW_VL_VR | 370                                                                                      |\n",
       "| GL_GR_P_PDL1_PDL2_PDL3_PDR1_PDR2_PDR3_PLG_PLS_PLT_PLW_PPR_PR_PRG_PRT_PRW_VLi_VLo_VRi_VRo | 346                                                                                      |\n",
       "| GL_GR_P_PDL1_PDL2_PDL3_PDR1_PDR2_PDR3_PLG_PLL_PLR_PLS_PLT_PLW_PPR_PR_PRG_PRT_PRW_VL_VR   | 341                                                                                      |\n",
       "| GL_GR_P_PDL1_PDL2_PDL3_PDR1_PDR2_PDR3_PLG_PLL_PLR_PLS_PLT_PLW_PPL_PR_PRG_PRT_PRW_VL_VR   | 258                                                                                      |\n",
       "| GL_GR_P_PDL1_PDL2_PDL3_PDL4_PDR1_PDR2_PDR3_PDR4_PLG_PLS_PLT_PLW_PPL_PR_PRG_PRT_PRW_VL_VR | 229                                                                                      |\n",
       "| GL_GR_P_PDL1_PDL2_PDL3_PDR1_PDR2_PDR3_PLG_PLS_PLT_PLW_PPL_PR_PRG_PRT_PRW_VLi_VLo_VRi_VRo | 216                                                                                      |\n",
       "\n"
      ],
      "text/plain": [
       "  formation                                                                               \n",
       "1 GL_GR_P_PDL1_PDL2_PDL3_PDL4_PDR1_PDR2_PDR3_PDR4_PLG_PLS_PLT_PLW_PPR_PR_PRG_PRT_PRW_VL_VR\n",
       "2 GL_GR_P_PDL1_PDL2_PDL3_PDR1_PDR2_PDR3_PLG_PLS_PLT_PLW_PPR_PR_PRG_PRT_PRW_VLi_VLo_VRi_VRo\n",
       "3 GL_GR_P_PDL1_PDL2_PDL3_PDR1_PDR2_PDR3_PLG_PLL_PLR_PLS_PLT_PLW_PPR_PR_PRG_PRT_PRW_VL_VR  \n",
       "4 GL_GR_P_PDL1_PDL2_PDL3_PDR1_PDR2_PDR3_PLG_PLL_PLR_PLS_PLT_PLW_PPL_PR_PRG_PRT_PRW_VL_VR  \n",
       "5 GL_GR_P_PDL1_PDL2_PDL3_PDL4_PDR1_PDR2_PDR3_PDR4_PLG_PLS_PLT_PLW_PPL_PR_PRG_PRT_PRW_VL_VR\n",
       "6 GL_GR_P_PDL1_PDL2_PDL3_PDR1_PDR2_PDR3_PLG_PLS_PLT_PLW_PPL_PR_PRG_PRT_PRW_VLi_VLo_VRi_VRo\n",
       "  Total_Count\n",
       "1 370        \n",
       "2 346        \n",
       "3 341        \n",
       "4 258        \n",
       "5 229        \n",
       "6 216        "
      ]
     },
     "metadata": {},
     "output_type": "display_data"
    }
   ],
   "source": [
    "final_formation_data_sorted <- arrange(formation_data, desc(Total_Count))\n",
    "head(final_formation_data_sorted)"
   ]
  },
  {
   "cell_type": "code",
   "execution_count": 355,
   "metadata": {
    "collapsed": true
   },
   "outputs": [],
   "source": [
    "final_final <- merge(data_temporary, formation_data, all=TRUE, by='formation')"
   ]
  },
  {
   "cell_type": "code",
   "execution_count": 356,
   "metadata": {},
   "outputs": [
    {
     "data": {
      "text/html": [
       "<ol class=list-inline>\n",
       "\t<li>29</li>\n",
       "\t<li>2</li>\n",
       "</ol>\n"
      ],
      "text/latex": [
       "\\begin{enumerate*}\n",
       "\\item 29\n",
       "\\item 2\n",
       "\\end{enumerate*}\n"
      ],
      "text/markdown": [
       "1. 29\n",
       "2. 2\n",
       "\n",
       "\n"
      ],
      "text/plain": [
       "[1] 29  2"
      ]
     },
     "metadata": {},
     "output_type": "display_data"
    }
   ],
   "source": [
    "dim(data_temporary)"
   ]
  },
  {
   "cell_type": "code",
   "execution_count": 357,
   "metadata": {},
   "outputs": [
    {
     "data": {
      "text/html": [
       "<ol class=list-inline>\n",
       "\t<li>722</li>\n",
       "\t<li>2</li>\n",
       "</ol>\n"
      ],
      "text/latex": [
       "\\begin{enumerate*}\n",
       "\\item 722\n",
       "\\item 2\n",
       "\\end{enumerate*}\n"
      ],
      "text/markdown": [
       "1. 722\n",
       "2. 2\n",
       "\n",
       "\n"
      ],
      "text/plain": [
       "[1] 722   2"
      ]
     },
     "metadata": {},
     "output_type": "display_data"
    }
   ],
   "source": [
    "dim(formation_data)"
   ]
  },
  {
   "cell_type": "code",
   "execution_count": 358,
   "metadata": {},
   "outputs": [
    {
     "data": {
      "text/html": [
       "<ol class=list-inline>\n",
       "\t<li>722</li>\n",
       "\t<li>3</li>\n",
       "</ol>\n"
      ],
      "text/latex": [
       "\\begin{enumerate*}\n",
       "\\item 722\n",
       "\\item 3\n",
       "\\end{enumerate*}\n"
      ],
      "text/markdown": [
       "1. 722\n",
       "2. 3\n",
       "\n",
       "\n"
      ],
      "text/plain": [
       "[1] 722   3"
      ]
     },
     "metadata": {},
     "output_type": "display_data"
    }
   ],
   "source": [
    "dim(final_final)"
   ]
  },
  {
   "cell_type": "markdown",
   "metadata": {},
   "source": [
    "#### Filling nulls with zeroes"
   ]
  },
  {
   "cell_type": "code",
   "execution_count": 359,
   "metadata": {
    "scrolled": true
   },
   "outputs": [
    {
     "data": {
      "text/html": [
       "<table>\n",
       "<thead><tr><th scope=col>formation</th><th scope=col>Injury_Count</th><th scope=col>Total_Count</th></tr></thead>\n",
       "<tbody>\n",
       "\t<tr><td>GL_GR_P_PDL1_PDL2_PDL3_PDL4_PDR1_PDR2_PDR3_PDR4_PLG_PLS_PLT_PLW_PPR_PR_PRG_PRT_PRW_VL_VR</td><td> 2                                                                                      </td><td>370                                                                                     </td></tr>\n",
       "\t<tr><td>GL_GR_P_PDL1_PDL2_PDL3_PDR1_PDR2_PDR3_PLG_PLS_PLT_PLW_PPR_PR_PRG_PRT_PRW_VLi_VLo_VRi_VRo</td><td>NA                                                                                      </td><td>346                                                                                     </td></tr>\n",
       "\t<tr><td>GL_GR_P_PDL1_PDL2_PDL3_PDR1_PDR2_PDR3_PLG_PLL_PLR_PLS_PLT_PLW_PPR_PR_PRG_PRT_PRW_VL_VR  </td><td> 1                                                                                      </td><td>341                                                                                     </td></tr>\n",
       "\t<tr><td>GL_GR_P_PDL1_PDL2_PDL3_PDR1_PDR2_PDR3_PLG_PLL_PLR_PLS_PLT_PLW_PPL_PR_PRG_PRT_PRW_VL_VR  </td><td> 2                                                                                      </td><td>258                                                                                     </td></tr>\n",
       "\t<tr><td>GL_GR_P_PDL1_PDL2_PDL3_PDL4_PDR1_PDR2_PDR3_PDR4_PLG_PLS_PLT_PLW_PPL_PR_PRG_PRT_PRW_VL_VR</td><td>NA                                                                                      </td><td>229                                                                                     </td></tr>\n",
       "\t<tr><td>GL_GR_P_PDL1_PDL2_PDL3_PDR1_PDR2_PDR3_PLG_PLS_PLT_PLW_PPL_PR_PRG_PRT_PRW_VLi_VLo_VRi_VRo</td><td> 3                                                                                      </td><td>216                                                                                     </td></tr>\n",
       "\t<tr><td>GL_GR_P_PDL1_PDL2_PDL3_PDR1_PDR2_PDR3_PLG_PLL_PLS_PLT_PLW_PPR_PR_PRG_PRT_PRW_VL_VRi_VRo </td><td>NA                                                                                      </td><td>174                                                                                     </td></tr>\n",
       "\t<tr><td>GL_GR_P_PDL1_PDL2_PDR1_PDR2_PDR3_PLG_PLL_PLS_PLT_PLW_PPR_PR_PRG_PRT_PRW_VLi_VLo_VRi_VRo </td><td> 1                                                                                      </td><td>140                                                                                     </td></tr>\n",
       "\t<tr><td>GL_GR_P_PDL1_PDL2_PDL3_PDR1_PDR2_PDR3_PLG_PLL_PLS_PLT_PLW_PPR_PR_PRG_PRT_PRW_VLi_VLo_VR </td><td> 2                                                                                      </td><td>115                                                                                     </td></tr>\n",
       "\t<tr><td>GL_GR_P_PDL1_PDL2_PDR1_PDR2_PLG_PLL1_PLL2_PLR1_PLR2_PLS_PLT_PLW_PPR_PR_PRG_PRT_PRW_VL_VR</td><td>NA                                                                                      </td><td>103                                                                                     </td></tr>\n",
       "\t<tr><td>GL_GR_P_PDL1_PDL2_PDL3_PDR1_PDR2_PDR3_PLG_PLR_PLS_PLT_PLW_PPL_PR_PRG_PRT_PRW_VLi_VLo_VR </td><td>NA                                                                                      </td><td> 98                                                                                     </td></tr>\n",
       "\t<tr><td>GL_GR_P_PDL1_PDL2_PDL3_PDR1_PDR2_PLG_PLL_PLM_PLR_PLS_PLT_PLW_PPR_PR_PRG_PRT_PRW_VL_VR   </td><td> 1                                                                                      </td><td> 94                                                                                     </td></tr>\n",
       "\t<tr><td>GL_GR_P_PDL1_PDL2_PDL3_PDR1_PDR2_PDR3_PDR4_PLG_PLL_PLS_PLT_PLW_PPR_PR_PRG_PRT_PRW_VL_VR </td><td>NA                                                                                      </td><td> 87                                                                                     </td></tr>\n",
       "\t<tr><td>GL_GR_P_PDL1_PDL2_PDL3_PDR1_PDR2_PLG_PLR_PLS_PLT_PLW_PPL_PR_PRG_PRT_PRW_VLi_VLo_VRi_VRo </td><td> 1                                                                                      </td><td> 87                                                                                     </td></tr>\n",
       "\t<tr><td>GL_GR_P_PDL1_PDL2_PDL3_PDL4_PDR1_PDR2_PDR3_PLG_PLR_PLS_PLT_PLW_PPR_PR_PRG_PRT_PRW_VL_VR </td><td>NA                                                                                      </td><td> 86                                                                                     </td></tr>\n",
       "\t<tr><td>GL_GR_P_PDL1_PDL2_PDL3_PDR1_PDR2_PDR3_PLG_PLR_PLS_PLT_PLW_PPR_PR_PRG_PRT_PRW_VLi_VLo_VR </td><td>NA                                                                                      </td><td> 85                                                                                     </td></tr>\n",
       "\t<tr><td>GL_GR_P_PDL1_PDL2_PDL3_PDR1_PDR2_PLG_PLL_PLR1_PLR2_PLS_PLT_PLW_PPR_PR_PRG_PRT_PRW_VL_VR </td><td>NA                                                                                      </td><td> 81                                                                                     </td></tr>\n",
       "\t<tr><td>GL_GR_P_PDL1_PDL2_PDL3_PDR1_PDR2_PLG_PLR_PLS_PLT_PLW_PPR_PR_PRG_PRT_PRW_VLi_VLo_VRi_VRo </td><td>NA                                                                                      </td><td> 80                                                                                     </td></tr>\n",
       "\t<tr><td>GL_GR_P_PDL1_PDL2_PDL3_PDR1_PDR2_PLG_PLL_PLR1_PLR2_PLS_PLT_PLW_PPL_PR_PRG_PRT_PRW_VL_VR </td><td> 1                                                                                      </td><td> 75                                                                                     </td></tr>\n",
       "\t<tr><td>GL_GR_P_PDL1_PDL2_PDL3_PDR1_PDR2_PDR3_PLG_PLL_PLS_PLT_PLW_PPL_PR_PRG_PRT_PRW_VL_VRi_VRo </td><td>NA                                                                                      </td><td> 73                                                                                     </td></tr>\n",
       "\t<tr><td>GL_GR_P_PDL1_PDL2_PDL3_PDR1_PDR2_PLG_PLL_PLS_PLT_PLW_PPR_PR_PRG_PRT_PRW_VLi_VLo_VRi_VRo </td><td> 3                                                                                      </td><td> 73                                                                                     </td></tr>\n",
       "\t<tr><td>GL_GR_P_PDL1_PDL2_PDL3_PDR1_PDR2_PLG_PLL1_PLL2_PLR_PLS_PLT_PLW_PPR_PR_PRG_PRT_PRW_VL_VR </td><td> 1                                                                                      </td><td> 69                                                                                     </td></tr>\n",
       "\t<tr><td>GL_GR_P_PDL1_PDL2_PDL3_PDL4_PDR1_PDR2_PDR3_PLG_PLR_PLS_PLT_PLW_PPL_PR_PRG_PRT_PRW_VL_VR </td><td>NA                                                                                      </td><td> 65                                                                                     </td></tr>\n",
       "\t<tr><td>GL_GR_P_PDL1_PDL2_PDL3_PDR1_PDR2_PDR3_PDR4_PLG_PLL_PLS_PLT_PLW_PPL_PR_PRG_PRT_PRW_VL_VR </td><td>NA                                                                                      </td><td> 61                                                                                     </td></tr>\n",
       "\t<tr><td>GL_GR_P_PDL1_PDL2_PDL3_PDR1_PDR2_PDR3_PLG_PLR_PLS_PLT_PLW_PPL_PR_PRG_PRT_PRW_VL_VRi_VRo </td><td>NA                                                                                      </td><td> 60                                                                                     </td></tr>\n",
       "\t<tr><td>GL_GR_P_PDL1_PDL2_PDL3_PDR1_PDR2_PLG_PLM_PLS_PLT_PLW_PPR_PR_PRG_PRT_PRW_VLi_VLo_VRi_VRo </td><td>NA                                                                                      </td><td> 58                                                                                     </td></tr>\n",
       "\t<tr><td>GL_GR_P_PDL1_PDL2_PDL3_PDR1_PDR2_PLG_PLL_PLR_PLS_PLT_PLW_PPR_PR_PRG_PRT_PRW_VLi_VLo_VR  </td><td>NA                                                                                      </td><td> 57                                                                                     </td></tr>\n",
       "\t<tr><td>GL_GR_P_PDL1_PDL2_PDR1_PDR2_PDR3_PLG_PLL1_PLL2_PLR_PLS_PLT_PLW_PPR_PR_PRG_PRT_PRW_VL_VR </td><td>NA                                                                                      </td><td> 55                                                                                     </td></tr>\n",
       "\t<tr><td>GL_GR_P_PDL1_PDL2_PDR1_PDR2_PLG_PLL1_PLL2_PLR1_PLR2_PLS_PLT_PLW_PPL_PR_PRG_PRT_PRW_VL_VR</td><td>NA                                                                                      </td><td> 55                                                                                     </td></tr>\n",
       "\t<tr><td>GL_GR_P_PDL1_PDL2_PDL3_PDL4_PDR1_PDR2_PDR3_PLG_PLS_PLT_PLW_PPR_PR_PRG_PRT_PRW_VL_VRi_VRo</td><td> 1                                                                                      </td><td> 52                                                                                     </td></tr>\n",
       "\t<tr><td>...</td><td>...</td><td>...</td></tr>\n",
       "\t<tr><td>GLi_GLo_GR_P_PDL1_PDL2_PDR1_PDR2_PLG_PLL_PLM_PLR_PLS_PLT_PLW_PPL_PR_PRG_PRT_VL_VRi_VRo            </td><td>NA                                                                                                </td><td>1                                                                                                 </td></tr>\n",
       "\t<tr><td>GLi_GLo_GR_P_PDR2_PLG_PLR_PLS_PLT_PLW_PRG_PRT_PRW_VLi_VLo_VRo                                     </td><td>NA                                                                                                </td><td>1                                                                                                 </td></tr>\n",
       "\t<tr><td>GLi_GLo_GRi_GRo_P_PDL1_PDL2_PDL3_PDR1_PDR2_PDR3_PLG_PLS_PLT_PPL_PR_PRG_PRT_VLi_VLo_VRi_VRo        </td><td>NA                                                                                                </td><td>1                                                                                                 </td></tr>\n",
       "\t<tr><td>GLi_GLo_GRi_GRo_P_PDL1_PDL2_PDL3_PDR1_PDR2_PLG_PLR_PLS_PLT_PPL_PR_PRG_PRT_VLi_VLo_VRi_VRo         </td><td>NA                                                                                                </td><td>1                                                                                                 </td></tr>\n",
       "\t<tr><td>GLi_GLo_GRi_GRo_P_PDL1_PDL2_PDR1_PDR2_PDR3_PLG_PLM_PLS_PLT_PPL_PR_PRG_PRT_VLi_VLo_VRi_VRo         </td><td>NA                                                                                                </td><td>1                                                                                                 </td></tr>\n",
       "\t<tr><td>GLi_GLo_GRi_GRo_P_PDL1_PDL2_PDR1_PDR2_PDR3_PLG_PLR_PLS_PLT_PPL_PR_PRG_PRT_VLi_VLo_VRi_VRo         </td><td>NA                                                                                                </td><td>1                                                                                                 </td></tr>\n",
       "\t<tr><td>GLi_GLo_GRi_GRo_P_PDL1_PDL2_PDR1_PDR2_PLG_PLL_PLR_PLS_PLT_PPL_PR_PRG_PRT_VLi_VLo_VRi_VRo          </td><td>NA                                                                                                </td><td>1                                                                                                 </td></tr>\n",
       "\t<tr><td>GLi_GLo_P_PDL1_PDL2_PDL3_PDL4_PDR1_PDR2_PDR3_PLG_PLL_PLS_PLT_PLW_PPR_PR_PRG_PRT_PRW_VRi_VRo       </td><td>NA                                                                                                </td><td>1                                                                                                 </td></tr>\n",
       "\t<tr><td>GLi_GLo_P_PDL1_PDL2_PDL3_PDM_PDR1_PDR2_PLG_PLL_PLR_PLS_PLT_PLW_PPR_PR_PRG_PRT_PRW_VRi_VRo         </td><td>NA                                                                                                </td><td>1                                                                                                 </td></tr>\n",
       "\t<tr><td>GLi_GLo_P_PDL1_PDL2_PDL3_PDR1_PDR2_PDR3_PLG_PLL_PLR_PLS_PLT_PLW_PPR_PR_PRG_PRT_PRW_VRi_VRo        </td><td>NA                                                                                                </td><td>1                                                                                                 </td></tr>\n",
       "\t<tr><td>GLi_GLo_P_PDL1_PDL2_PDL3_PDR1_PDR2_PDR3_PLG_PLL1_PLL2_PLS_PLT_PLW_PPR_PR_PRG_PRT_PRW_VRi_VRo      </td><td>NA                                                                                                </td><td>1                                                                                                 </td></tr>\n",
       "\t<tr><td>GLi_GLo_P_PDL1_PDL2_PDL3_PDR1_PDR2_PDR3_PLG_PLR1_PLR2_PLS_PLT_PLW_PPL_PR_PRG_PRT_PRW_VRi_VRo      </td><td>NA                                                                                                </td><td>1                                                                                                 </td></tr>\n",
       "\t<tr><td>GLi_GLo_P_PDL1_PDL2_PDL3_PDR1_PDR2_PLG_PLL_PLM_PLR_PLS_PLT_PLW_PPL_PR_PRG_PRT_PRW_VRi_VRo         </td><td>NA                                                                                                </td><td>1                                                                                                 </td></tr>\n",
       "\t<tr><td>GLi_GLo_P_PDL1_PDL2_PDL3_PDR1_PDR2_PLG_PLL_PLM_PLS_PLT_PLW_PPR_PR_PRG_PRT_PRW_VR_VRi_VRo          </td><td>NA                                                                                                </td><td>1                                                                                                 </td></tr>\n",
       "\t<tr><td>GLi_GLo_P_PDL1_PDL2_PDL3_PDR1_PDR2_PLG_PLL_PLR1_PLR2_PLS_PLT_PLW_PPL_PR_PRG_PRT_PRW_VRi_VRo       </td><td>NA                                                                                                </td><td>1                                                                                                 </td></tr>\n",
       "\t<tr><td>GLi_GLo_P_PDL1_PDL2_PDR1_PDR2_PDR3_PLG_PLL1_PLL2_PLR_PLS_PLT_PLW_PPR_PR_PRG_PRT_PRW_VRi_VRo       </td><td>NA                                                                                                </td><td>1                                                                                                 </td></tr>\n",
       "\t<tr><td>GLi_GLo_P_PDL1_PDR1_PDR2_PDR3_PFB_PLG_PLM_PLR1_PLR2_PLS_PLT_PLW_PPL_PR_PRG_PRT_PRW_VRi_VRo        </td><td>NA                                                                                                </td><td>1                                                                                                 </td></tr>\n",
       "\t<tr><td>GLi_GR_P_PDL1_PDL2_PDR1_PDR2_PDR3_PLG_PLR_PLS_PLT_PLW_PPR_PR_PRG_PRT_PRW_VLi_VLo_VRi_VRo          </td><td>NA                                                                                                </td><td>1                                                                                                 </td></tr>\n",
       "\t<tr><td>GR_GRi_GRo_P_PDL1_PDL2_PDL3_PDL4_PDL5_PDR1_PDR2_PLG_PLR1_PLR2_PLS_PLT_PLW_PPL_PR_PRG_PRT_VL       </td><td>NA                                                                                                </td><td>1                                                                                                 </td></tr>\n",
       "\t<tr><td>GR_P_PDL1_PDL2_PDL3_PDL4_PDR1_PDR2_PDR3_PDR4_PDR5_PDR6_PLG_PLS_PLT_PLW_PPLi_PPLo_PR_PRG_PRT_PRW   </td><td>NA                                                                                                </td><td>1                                                                                                 </td></tr>\n",
       "\t<tr><td>GRi_GRo_P_PDL1_PDL2_PDL3_PDM_PDR1_PDR2_PDR3_PDR4_PLG_PLS_PLT_PLW_PPL_PR_PRG_PRT_PRW_VLi_VLo       </td><td>NA                                                                                                </td><td>1                                                                                                 </td></tr>\n",
       "\t<tr><td>GRi_GRo_P_PDL1_PDL2_PDL3_PDR1_PDR2_PLG_PLR1_PLR2_PLS_PLT_PLW_PPL_PR_PRG_PRT_PRW_VLi_VLo_VR        </td><td>NA                                                                                                </td><td>1                                                                                                 </td></tr>\n",
       "\t<tr><td>GRi_GRo_P_PDL1_PDL2_PDR1_PDR2_PDR3_PLG_PLL_PLM_PLR_PLS_PLT_PLW_PPL_PR_PRG_PRT_PRW_VLi_VLo         </td><td>NA                                                                                                </td><td>1                                                                                                 </td></tr>\n",
       "\t<tr><td>GRi_GRo_P_PDL1_PDL2_PDR1_PDR2_PDR3_PLG_PLL1_PLL2_PLS_PLT_PLW_PPL_PR_PRG_PRT_PRW_VL_VLi_VLo        </td><td>NA                                                                                                </td><td>1                                                                                                 </td></tr>\n",
       "\t<tr><td>GRi_GRo_P_PDL1_PDL2_PDR1_PDR2_PDR3_PLG_PLM_PLR1_PLR2_PLS_PLT_PLW_PPL_PR_PRG_PRT_PRW_VLi_VLo       </td><td>NA                                                                                                </td><td>1                                                                                                 </td></tr>\n",
       "\t<tr><td>GRi_GRo_P_PDL1_PDL2_PDR1_PDR2_PLG_PLL_PLR1_PLR2_PLR3_PLS_PLT_PLW_PPL_PR_PRG_PRT_PRW_VLi_VLo       </td><td>NA                                                                                                </td><td>1                                                                                                 </td></tr>\n",
       "\t<tr><td>P                                                                                                 </td><td>NA                                                                                                </td><td>1                                                                                                 </td></tr>\n",
       "\t<tr><td>P_PDL1_PDL2_PDL3_PDL4_PDL5_PDR1_PDR2_PDR3_PDR4_PDR5_PDR6_PLG_PLS_PLT_PLW_PPL_PPRi_PPRo_PRG_PRT_PRW</td><td>NA                                                                                                </td><td>1                                                                                                 </td></tr>\n",
       "\t<tr><td>P_PDL1_PDL2_PDL3_PDL4_PDL5_PDR1_PDR2_PDR3_PDR4_PDR5_PLG_PLS_PLT_PLW_PPL_PPRi_PPRo_PR_PRG_PRT_PRW  </td><td>NA                                                                                                </td><td>1                                                                                                 </td></tr>\n",
       "\t<tr><td>P_PDL1_PDL2_PDL3_PDL4_PDR1_PDR2_PLG_PLL_PLR1_PLR2_PLS_PLT_PLW_PPLi_PPLo_PR_PRG_PRT_PRW_VR         </td><td>NA                                                                                                </td><td>1                                                                                                 </td></tr>\n",
       "</tbody>\n",
       "</table>\n"
      ],
      "text/latex": [
       "\\begin{tabular}{r|lll}\n",
       " formation & Injury\\_Count & Total\\_Count\\\\\n",
       "\\hline\n",
       "\t GL\\_GR\\_P\\_PDL1\\_PDL2\\_PDL3\\_PDL4\\_PDR1\\_PDR2\\_PDR3\\_PDR4\\_PLG\\_PLS\\_PLT\\_PLW\\_PPR\\_PR\\_PRG\\_PRT\\_PRW\\_VL\\_VR &  2                                                                                                                                 & 370                                                                                                                               \\\\\n",
       "\t GL\\_GR\\_P\\_PDL1\\_PDL2\\_PDL3\\_PDR1\\_PDR2\\_PDR3\\_PLG\\_PLS\\_PLT\\_PLW\\_PPR\\_PR\\_PRG\\_PRT\\_PRW\\_VLi\\_VLo\\_VRi\\_VRo & NA                                                                                                                                 & 346                                                                                                                               \\\\\n",
       "\t GL\\_GR\\_P\\_PDL1\\_PDL2\\_PDL3\\_PDR1\\_PDR2\\_PDR3\\_PLG\\_PLL\\_PLR\\_PLS\\_PLT\\_PLW\\_PPR\\_PR\\_PRG\\_PRT\\_PRW\\_VL\\_VR   &  1                                                                                                                                 & 341                                                                                                                               \\\\\n",
       "\t GL\\_GR\\_P\\_PDL1\\_PDL2\\_PDL3\\_PDR1\\_PDR2\\_PDR3\\_PLG\\_PLL\\_PLR\\_PLS\\_PLT\\_PLW\\_PPL\\_PR\\_PRG\\_PRT\\_PRW\\_VL\\_VR   &  2                                                                                                                                 & 258                                                                                                                               \\\\\n",
       "\t GL\\_GR\\_P\\_PDL1\\_PDL2\\_PDL3\\_PDL4\\_PDR1\\_PDR2\\_PDR3\\_PDR4\\_PLG\\_PLS\\_PLT\\_PLW\\_PPL\\_PR\\_PRG\\_PRT\\_PRW\\_VL\\_VR & NA                                                                                                                                 & 229                                                                                                                               \\\\\n",
       "\t GL\\_GR\\_P\\_PDL1\\_PDL2\\_PDL3\\_PDR1\\_PDR2\\_PDR3\\_PLG\\_PLS\\_PLT\\_PLW\\_PPL\\_PR\\_PRG\\_PRT\\_PRW\\_VLi\\_VLo\\_VRi\\_VRo &  3                                                                                                                                 & 216                                                                                                                               \\\\\n",
       "\t GL\\_GR\\_P\\_PDL1\\_PDL2\\_PDL3\\_PDR1\\_PDR2\\_PDR3\\_PLG\\_PLL\\_PLS\\_PLT\\_PLW\\_PPR\\_PR\\_PRG\\_PRT\\_PRW\\_VL\\_VRi\\_VRo  & NA                                                                                                                                 & 174                                                                                                                               \\\\\n",
       "\t GL\\_GR\\_P\\_PDL1\\_PDL2\\_PDR1\\_PDR2\\_PDR3\\_PLG\\_PLL\\_PLS\\_PLT\\_PLW\\_PPR\\_PR\\_PRG\\_PRT\\_PRW\\_VLi\\_VLo\\_VRi\\_VRo  &  1                                                                                                                                 & 140                                                                                                                               \\\\\n",
       "\t GL\\_GR\\_P\\_PDL1\\_PDL2\\_PDL3\\_PDR1\\_PDR2\\_PDR3\\_PLG\\_PLL\\_PLS\\_PLT\\_PLW\\_PPR\\_PR\\_PRG\\_PRT\\_PRW\\_VLi\\_VLo\\_VR  &  2                                                                                                                                 & 115                                                                                                                               \\\\\n",
       "\t GL\\_GR\\_P\\_PDL1\\_PDL2\\_PDR1\\_PDR2\\_PLG\\_PLL1\\_PLL2\\_PLR1\\_PLR2\\_PLS\\_PLT\\_PLW\\_PPR\\_PR\\_PRG\\_PRT\\_PRW\\_VL\\_VR & NA                                                                                                                                 & 103                                                                                                                               \\\\\n",
       "\t GL\\_GR\\_P\\_PDL1\\_PDL2\\_PDL3\\_PDR1\\_PDR2\\_PDR3\\_PLG\\_PLR\\_PLS\\_PLT\\_PLW\\_PPL\\_PR\\_PRG\\_PRT\\_PRW\\_VLi\\_VLo\\_VR  & NA                                                                                                                                 &  98                                                                                                                               \\\\\n",
       "\t GL\\_GR\\_P\\_PDL1\\_PDL2\\_PDL3\\_PDR1\\_PDR2\\_PLG\\_PLL\\_PLM\\_PLR\\_PLS\\_PLT\\_PLW\\_PPR\\_PR\\_PRG\\_PRT\\_PRW\\_VL\\_VR    &  1                                                                                                                                 &  94                                                                                                                               \\\\\n",
       "\t GL\\_GR\\_P\\_PDL1\\_PDL2\\_PDL3\\_PDR1\\_PDR2\\_PDR3\\_PDR4\\_PLG\\_PLL\\_PLS\\_PLT\\_PLW\\_PPR\\_PR\\_PRG\\_PRT\\_PRW\\_VL\\_VR  & NA                                                                                                                                 &  87                                                                                                                               \\\\\n",
       "\t GL\\_GR\\_P\\_PDL1\\_PDL2\\_PDL3\\_PDR1\\_PDR2\\_PLG\\_PLR\\_PLS\\_PLT\\_PLW\\_PPL\\_PR\\_PRG\\_PRT\\_PRW\\_VLi\\_VLo\\_VRi\\_VRo  &  1                                                                                                                                 &  87                                                                                                                               \\\\\n",
       "\t GL\\_GR\\_P\\_PDL1\\_PDL2\\_PDL3\\_PDL4\\_PDR1\\_PDR2\\_PDR3\\_PLG\\_PLR\\_PLS\\_PLT\\_PLW\\_PPR\\_PR\\_PRG\\_PRT\\_PRW\\_VL\\_VR  & NA                                                                                                                                 &  86                                                                                                                               \\\\\n",
       "\t GL\\_GR\\_P\\_PDL1\\_PDL2\\_PDL3\\_PDR1\\_PDR2\\_PDR3\\_PLG\\_PLR\\_PLS\\_PLT\\_PLW\\_PPR\\_PR\\_PRG\\_PRT\\_PRW\\_VLi\\_VLo\\_VR  & NA                                                                                                                                 &  85                                                                                                                               \\\\\n",
       "\t GL\\_GR\\_P\\_PDL1\\_PDL2\\_PDL3\\_PDR1\\_PDR2\\_PLG\\_PLL\\_PLR1\\_PLR2\\_PLS\\_PLT\\_PLW\\_PPR\\_PR\\_PRG\\_PRT\\_PRW\\_VL\\_VR  & NA                                                                                                                                 &  81                                                                                                                               \\\\\n",
       "\t GL\\_GR\\_P\\_PDL1\\_PDL2\\_PDL3\\_PDR1\\_PDR2\\_PLG\\_PLR\\_PLS\\_PLT\\_PLW\\_PPR\\_PR\\_PRG\\_PRT\\_PRW\\_VLi\\_VLo\\_VRi\\_VRo  & NA                                                                                                                                 &  80                                                                                                                               \\\\\n",
       "\t GL\\_GR\\_P\\_PDL1\\_PDL2\\_PDL3\\_PDR1\\_PDR2\\_PLG\\_PLL\\_PLR1\\_PLR2\\_PLS\\_PLT\\_PLW\\_PPL\\_PR\\_PRG\\_PRT\\_PRW\\_VL\\_VR  &  1                                                                                                                                 &  75                                                                                                                               \\\\\n",
       "\t GL\\_GR\\_P\\_PDL1\\_PDL2\\_PDL3\\_PDR1\\_PDR2\\_PDR3\\_PLG\\_PLL\\_PLS\\_PLT\\_PLW\\_PPL\\_PR\\_PRG\\_PRT\\_PRW\\_VL\\_VRi\\_VRo  & NA                                                                                                                                 &  73                                                                                                                               \\\\\n",
       "\t GL\\_GR\\_P\\_PDL1\\_PDL2\\_PDL3\\_PDR1\\_PDR2\\_PLG\\_PLL\\_PLS\\_PLT\\_PLW\\_PPR\\_PR\\_PRG\\_PRT\\_PRW\\_VLi\\_VLo\\_VRi\\_VRo  &  3                                                                                                                                 &  73                                                                                                                               \\\\\n",
       "\t GL\\_GR\\_P\\_PDL1\\_PDL2\\_PDL3\\_PDR1\\_PDR2\\_PLG\\_PLL1\\_PLL2\\_PLR\\_PLS\\_PLT\\_PLW\\_PPR\\_PR\\_PRG\\_PRT\\_PRW\\_VL\\_VR  &  1                                                                                                                                 &  69                                                                                                                               \\\\\n",
       "\t GL\\_GR\\_P\\_PDL1\\_PDL2\\_PDL3\\_PDL4\\_PDR1\\_PDR2\\_PDR3\\_PLG\\_PLR\\_PLS\\_PLT\\_PLW\\_PPL\\_PR\\_PRG\\_PRT\\_PRW\\_VL\\_VR  & NA                                                                                                                                 &  65                                                                                                                               \\\\\n",
       "\t GL\\_GR\\_P\\_PDL1\\_PDL2\\_PDL3\\_PDR1\\_PDR2\\_PDR3\\_PDR4\\_PLG\\_PLL\\_PLS\\_PLT\\_PLW\\_PPL\\_PR\\_PRG\\_PRT\\_PRW\\_VL\\_VR  & NA                                                                                                                                 &  61                                                                                                                               \\\\\n",
       "\t GL\\_GR\\_P\\_PDL1\\_PDL2\\_PDL3\\_PDR1\\_PDR2\\_PDR3\\_PLG\\_PLR\\_PLS\\_PLT\\_PLW\\_PPL\\_PR\\_PRG\\_PRT\\_PRW\\_VL\\_VRi\\_VRo  & NA                                                                                                                                 &  60                                                                                                                               \\\\\n",
       "\t GL\\_GR\\_P\\_PDL1\\_PDL2\\_PDL3\\_PDR1\\_PDR2\\_PLG\\_PLM\\_PLS\\_PLT\\_PLW\\_PPR\\_PR\\_PRG\\_PRT\\_PRW\\_VLi\\_VLo\\_VRi\\_VRo  & NA                                                                                                                                 &  58                                                                                                                               \\\\\n",
       "\t GL\\_GR\\_P\\_PDL1\\_PDL2\\_PDL3\\_PDR1\\_PDR2\\_PLG\\_PLL\\_PLR\\_PLS\\_PLT\\_PLW\\_PPR\\_PR\\_PRG\\_PRT\\_PRW\\_VLi\\_VLo\\_VR   & NA                                                                                                                                 &  57                                                                                                                               \\\\\n",
       "\t GL\\_GR\\_P\\_PDL1\\_PDL2\\_PDR1\\_PDR2\\_PDR3\\_PLG\\_PLL1\\_PLL2\\_PLR\\_PLS\\_PLT\\_PLW\\_PPR\\_PR\\_PRG\\_PRT\\_PRW\\_VL\\_VR  & NA                                                                                                                                 &  55                                                                                                                               \\\\\n",
       "\t GL\\_GR\\_P\\_PDL1\\_PDL2\\_PDR1\\_PDR2\\_PLG\\_PLL1\\_PLL2\\_PLR1\\_PLR2\\_PLS\\_PLT\\_PLW\\_PPL\\_PR\\_PRG\\_PRT\\_PRW\\_VL\\_VR & NA                                                                                                                                 &  55                                                                                                                               \\\\\n",
       "\t GL\\_GR\\_P\\_PDL1\\_PDL2\\_PDL3\\_PDL4\\_PDR1\\_PDR2\\_PDR3\\_PLG\\_PLS\\_PLT\\_PLW\\_PPR\\_PR\\_PRG\\_PRT\\_PRW\\_VL\\_VRi\\_VRo &  1                                                                                                                                 &  52                                                                                                                               \\\\\n",
       "\t ... & ... & ...\\\\\n",
       "\t GLi\\_GLo\\_GR\\_P\\_PDL1\\_PDL2\\_PDR1\\_PDR2\\_PLG\\_PLL\\_PLM\\_PLR\\_PLS\\_PLT\\_PLW\\_PPL\\_PR\\_PRG\\_PRT\\_VL\\_VRi\\_VRo             & NA                                                                                                                                           & 1                                                                                                                                           \\\\\n",
       "\t GLi\\_GLo\\_GR\\_P\\_PDR2\\_PLG\\_PLR\\_PLS\\_PLT\\_PLW\\_PRG\\_PRT\\_PRW\\_VLi\\_VLo\\_VRo                                      & NA                                                                                                                               & 1                                                                                                                               \\\\\n",
       "\t GLi\\_GLo\\_GRi\\_GRo\\_P\\_PDL1\\_PDL2\\_PDL3\\_PDR1\\_PDR2\\_PDR3\\_PLG\\_PLS\\_PLT\\_PPL\\_PR\\_PRG\\_PRT\\_VLi\\_VLo\\_VRi\\_VRo         & NA                                                                                                                                           & 1                                                                                                                                           \\\\\n",
       "\t GLi\\_GLo\\_GRi\\_GRo\\_P\\_PDL1\\_PDL2\\_PDL3\\_PDR1\\_PDR2\\_PLG\\_PLR\\_PLS\\_PLT\\_PPL\\_PR\\_PRG\\_PRT\\_VLi\\_VLo\\_VRi\\_VRo          & NA                                                                                                                                           & 1                                                                                                                                           \\\\\n",
       "\t GLi\\_GLo\\_GRi\\_GRo\\_P\\_PDL1\\_PDL2\\_PDR1\\_PDR2\\_PDR3\\_PLG\\_PLM\\_PLS\\_PLT\\_PPL\\_PR\\_PRG\\_PRT\\_VLi\\_VLo\\_VRi\\_VRo          & NA                                                                                                                                           & 1                                                                                                                                           \\\\\n",
       "\t GLi\\_GLo\\_GRi\\_GRo\\_P\\_PDL1\\_PDL2\\_PDR1\\_PDR2\\_PDR3\\_PLG\\_PLR\\_PLS\\_PLT\\_PPL\\_PR\\_PRG\\_PRT\\_VLi\\_VLo\\_VRi\\_VRo          & NA                                                                                                                                           & 1                                                                                                                                           \\\\\n",
       "\t GLi\\_GLo\\_GRi\\_GRo\\_P\\_PDL1\\_PDL2\\_PDR1\\_PDR2\\_PLG\\_PLL\\_PLR\\_PLS\\_PLT\\_PPL\\_PR\\_PRG\\_PRT\\_VLi\\_VLo\\_VRi\\_VRo           & NA                                                                                                                                           & 1                                                                                                                                           \\\\\n",
       "\t GLi\\_GLo\\_P\\_PDL1\\_PDL2\\_PDL3\\_PDL4\\_PDR1\\_PDR2\\_PDR3\\_PLG\\_PLL\\_PLS\\_PLT\\_PLW\\_PPR\\_PR\\_PRG\\_PRT\\_PRW\\_VRi\\_VRo        & NA                                                                                                                                           & 1                                                                                                                                           \\\\\n",
       "\t GLi\\_GLo\\_P\\_PDL1\\_PDL2\\_PDL3\\_PDM\\_PDR1\\_PDR2\\_PLG\\_PLL\\_PLR\\_PLS\\_PLT\\_PLW\\_PPR\\_PR\\_PRG\\_PRT\\_PRW\\_VRi\\_VRo          & NA                                                                                                                                           & 1                                                                                                                                           \\\\\n",
       "\t GLi\\_GLo\\_P\\_PDL1\\_PDL2\\_PDL3\\_PDR1\\_PDR2\\_PDR3\\_PLG\\_PLL\\_PLR\\_PLS\\_PLT\\_PLW\\_PPR\\_PR\\_PRG\\_PRT\\_PRW\\_VRi\\_VRo         & NA                                                                                                                                           & 1                                                                                                                                           \\\\\n",
       "\t GLi\\_GLo\\_P\\_PDL1\\_PDL2\\_PDL3\\_PDR1\\_PDR2\\_PDR3\\_PLG\\_PLL1\\_PLL2\\_PLS\\_PLT\\_PLW\\_PPR\\_PR\\_PRG\\_PRT\\_PRW\\_VRi\\_VRo       & NA                                                                                                                                           & 1                                                                                                                                           \\\\\n",
       "\t GLi\\_GLo\\_P\\_PDL1\\_PDL2\\_PDL3\\_PDR1\\_PDR2\\_PDR3\\_PLG\\_PLR1\\_PLR2\\_PLS\\_PLT\\_PLW\\_PPL\\_PR\\_PRG\\_PRT\\_PRW\\_VRi\\_VRo       & NA                                                                                                                                           & 1                                                                                                                                           \\\\\n",
       "\t GLi\\_GLo\\_P\\_PDL1\\_PDL2\\_PDL3\\_PDR1\\_PDR2\\_PLG\\_PLL\\_PLM\\_PLR\\_PLS\\_PLT\\_PLW\\_PPL\\_PR\\_PRG\\_PRT\\_PRW\\_VRi\\_VRo          & NA                                                                                                                                           & 1                                                                                                                                           \\\\\n",
       "\t GLi\\_GLo\\_P\\_PDL1\\_PDL2\\_PDL3\\_PDR1\\_PDR2\\_PLG\\_PLL\\_PLM\\_PLS\\_PLT\\_PLW\\_PPR\\_PR\\_PRG\\_PRT\\_PRW\\_VR\\_VRi\\_VRo           & NA                                                                                                                                           & 1                                                                                                                                           \\\\\n",
       "\t GLi\\_GLo\\_P\\_PDL1\\_PDL2\\_PDL3\\_PDR1\\_PDR2\\_PLG\\_PLL\\_PLR1\\_PLR2\\_PLS\\_PLT\\_PLW\\_PPL\\_PR\\_PRG\\_PRT\\_PRW\\_VRi\\_VRo        & NA                                                                                                                                           & 1                                                                                                                                           \\\\\n",
       "\t GLi\\_GLo\\_P\\_PDL1\\_PDL2\\_PDR1\\_PDR2\\_PDR3\\_PLG\\_PLL1\\_PLL2\\_PLR\\_PLS\\_PLT\\_PLW\\_PPR\\_PR\\_PRG\\_PRT\\_PRW\\_VRi\\_VRo        & NA                                                                                                                                           & 1                                                                                                                                           \\\\\n",
       "\t GLi\\_GLo\\_P\\_PDL1\\_PDR1\\_PDR2\\_PDR3\\_PFB\\_PLG\\_PLM\\_PLR1\\_PLR2\\_PLS\\_PLT\\_PLW\\_PPL\\_PR\\_PRG\\_PRT\\_PRW\\_VRi\\_VRo         & NA                                                                                                                                           & 1                                                                                                                                           \\\\\n",
       "\t GLi\\_GR\\_P\\_PDL1\\_PDL2\\_PDR1\\_PDR2\\_PDR3\\_PLG\\_PLR\\_PLS\\_PLT\\_PLW\\_PPR\\_PR\\_PRG\\_PRT\\_PRW\\_VLi\\_VLo\\_VRi\\_VRo           & NA                                                                                                                                           & 1                                                                                                                                           \\\\\n",
       "\t GR\\_GRi\\_GRo\\_P\\_PDL1\\_PDL2\\_PDL3\\_PDL4\\_PDL5\\_PDR1\\_PDR2\\_PLG\\_PLR1\\_PLR2\\_PLS\\_PLT\\_PLW\\_PPL\\_PR\\_PRG\\_PRT\\_VL        & NA                                                                                                                                           & 1                                                                                                                                           \\\\\n",
       "\t GR\\_P\\_PDL1\\_PDL2\\_PDL3\\_PDL4\\_PDR1\\_PDR2\\_PDR3\\_PDR4\\_PDR5\\_PDR6\\_PLG\\_PLS\\_PLT\\_PLW\\_PPLi\\_PPLo\\_PR\\_PRG\\_PRT\\_PRW    & NA                                                                                                                                           & 1                                                                                                                                           \\\\\n",
       "\t GRi\\_GRo\\_P\\_PDL1\\_PDL2\\_PDL3\\_PDM\\_PDR1\\_PDR2\\_PDR3\\_PDR4\\_PLG\\_PLS\\_PLT\\_PLW\\_PPL\\_PR\\_PRG\\_PRT\\_PRW\\_VLi\\_VLo        & NA                                                                                                                                           & 1                                                                                                                                           \\\\\n",
       "\t GRi\\_GRo\\_P\\_PDL1\\_PDL2\\_PDL3\\_PDR1\\_PDR2\\_PLG\\_PLR1\\_PLR2\\_PLS\\_PLT\\_PLW\\_PPL\\_PR\\_PRG\\_PRT\\_PRW\\_VLi\\_VLo\\_VR         & NA                                                                                                                                           & 1                                                                                                                                           \\\\\n",
       "\t GRi\\_GRo\\_P\\_PDL1\\_PDL2\\_PDR1\\_PDR2\\_PDR3\\_PLG\\_PLL\\_PLM\\_PLR\\_PLS\\_PLT\\_PLW\\_PPL\\_PR\\_PRG\\_PRT\\_PRW\\_VLi\\_VLo          & NA                                                                                                                                           & 1                                                                                                                                           \\\\\n",
       "\t GRi\\_GRo\\_P\\_PDL1\\_PDL2\\_PDR1\\_PDR2\\_PDR3\\_PLG\\_PLL1\\_PLL2\\_PLS\\_PLT\\_PLW\\_PPL\\_PR\\_PRG\\_PRT\\_PRW\\_VL\\_VLi\\_VLo         & NA                                                                                                                                           & 1                                                                                                                                           \\\\\n",
       "\t GRi\\_GRo\\_P\\_PDL1\\_PDL2\\_PDR1\\_PDR2\\_PDR3\\_PLG\\_PLM\\_PLR1\\_PLR2\\_PLS\\_PLT\\_PLW\\_PPL\\_PR\\_PRG\\_PRT\\_PRW\\_VLi\\_VLo        & NA                                                                                                                                           & 1                                                                                                                                           \\\\\n",
       "\t GRi\\_GRo\\_P\\_PDL1\\_PDL2\\_PDR1\\_PDR2\\_PLG\\_PLL\\_PLR1\\_PLR2\\_PLR3\\_PLS\\_PLT\\_PLW\\_PPL\\_PR\\_PRG\\_PRT\\_PRW\\_VLi\\_VLo        & NA                                                                                                                                           & 1                                                                                                                                           \\\\\n",
       "\t P                                                                                                  & NA                                                                                                 & 1                                                                                                 \\\\\n",
       "\t P\\_PDL1\\_PDL2\\_PDL3\\_PDL4\\_PDL5\\_PDR1\\_PDR2\\_PDR3\\_PDR4\\_PDR5\\_PDR6\\_PLG\\_PLS\\_PLT\\_PLW\\_PPL\\_PPRi\\_PPRo\\_PRG\\_PRT\\_PRW & NA                                                                                                                                           & 1                                                                                                                                           \\\\\n",
       "\t P\\_PDL1\\_PDL2\\_PDL3\\_PDL4\\_PDL5\\_PDR1\\_PDR2\\_PDR3\\_PDR4\\_PDR5\\_PLG\\_PLS\\_PLT\\_PLW\\_PPL\\_PPRi\\_PPRo\\_PR\\_PRG\\_PRT\\_PRW   & NA                                                                                                                                           & 1                                                                                                                                           \\\\\n",
       "\t P\\_PDL1\\_PDL2\\_PDL3\\_PDL4\\_PDR1\\_PDR2\\_PLG\\_PLL\\_PLR1\\_PLR2\\_PLS\\_PLT\\_PLW\\_PPLi\\_PPLo\\_PR\\_PRG\\_PRT\\_PRW\\_VR          & NA                                                                                                                                         & 1                                                                                                                                         \\\\\n",
       "\\end{tabular}\n"
      ],
      "text/markdown": [
       "\n",
       "| formation | Injury_Count | Total_Count |\n",
       "|---|---|---|\n",
       "| GL_GR_P_PDL1_PDL2_PDL3_PDL4_PDR1_PDR2_PDR3_PDR4_PLG_PLS_PLT_PLW_PPR_PR_PRG_PRT_PRW_VL_VR |  2                                                                                       | 370                                                                                      |\n",
       "| GL_GR_P_PDL1_PDL2_PDL3_PDR1_PDR2_PDR3_PLG_PLS_PLT_PLW_PPR_PR_PRG_PRT_PRW_VLi_VLo_VRi_VRo | NA                                                                                       | 346                                                                                      |\n",
       "| GL_GR_P_PDL1_PDL2_PDL3_PDR1_PDR2_PDR3_PLG_PLL_PLR_PLS_PLT_PLW_PPR_PR_PRG_PRT_PRW_VL_VR   |  1                                                                                       | 341                                                                                      |\n",
       "| GL_GR_P_PDL1_PDL2_PDL3_PDR1_PDR2_PDR3_PLG_PLL_PLR_PLS_PLT_PLW_PPL_PR_PRG_PRT_PRW_VL_VR   |  2                                                                                       | 258                                                                                      |\n",
       "| GL_GR_P_PDL1_PDL2_PDL3_PDL4_PDR1_PDR2_PDR3_PDR4_PLG_PLS_PLT_PLW_PPL_PR_PRG_PRT_PRW_VL_VR | NA                                                                                       | 229                                                                                      |\n",
       "| GL_GR_P_PDL1_PDL2_PDL3_PDR1_PDR2_PDR3_PLG_PLS_PLT_PLW_PPL_PR_PRG_PRT_PRW_VLi_VLo_VRi_VRo |  3                                                                                       | 216                                                                                      |\n",
       "| GL_GR_P_PDL1_PDL2_PDL3_PDR1_PDR2_PDR3_PLG_PLL_PLS_PLT_PLW_PPR_PR_PRG_PRT_PRW_VL_VRi_VRo  | NA                                                                                       | 174                                                                                      |\n",
       "| GL_GR_P_PDL1_PDL2_PDR1_PDR2_PDR3_PLG_PLL_PLS_PLT_PLW_PPR_PR_PRG_PRT_PRW_VLi_VLo_VRi_VRo  |  1                                                                                       | 140                                                                                      |\n",
       "| GL_GR_P_PDL1_PDL2_PDL3_PDR1_PDR2_PDR3_PLG_PLL_PLS_PLT_PLW_PPR_PR_PRG_PRT_PRW_VLi_VLo_VR  |  2                                                                                       | 115                                                                                      |\n",
       "| GL_GR_P_PDL1_PDL2_PDR1_PDR2_PLG_PLL1_PLL2_PLR1_PLR2_PLS_PLT_PLW_PPR_PR_PRG_PRT_PRW_VL_VR | NA                                                                                       | 103                                                                                      |\n",
       "| GL_GR_P_PDL1_PDL2_PDL3_PDR1_PDR2_PDR3_PLG_PLR_PLS_PLT_PLW_PPL_PR_PRG_PRT_PRW_VLi_VLo_VR  | NA                                                                                       |  98                                                                                      |\n",
       "| GL_GR_P_PDL1_PDL2_PDL3_PDR1_PDR2_PLG_PLL_PLM_PLR_PLS_PLT_PLW_PPR_PR_PRG_PRT_PRW_VL_VR    |  1                                                                                       |  94                                                                                      |\n",
       "| GL_GR_P_PDL1_PDL2_PDL3_PDR1_PDR2_PDR3_PDR4_PLG_PLL_PLS_PLT_PLW_PPR_PR_PRG_PRT_PRW_VL_VR  | NA                                                                                       |  87                                                                                      |\n",
       "| GL_GR_P_PDL1_PDL2_PDL3_PDR1_PDR2_PLG_PLR_PLS_PLT_PLW_PPL_PR_PRG_PRT_PRW_VLi_VLo_VRi_VRo  |  1                                                                                       |  87                                                                                      |\n",
       "| GL_GR_P_PDL1_PDL2_PDL3_PDL4_PDR1_PDR2_PDR3_PLG_PLR_PLS_PLT_PLW_PPR_PR_PRG_PRT_PRW_VL_VR  | NA                                                                                       |  86                                                                                      |\n",
       "| GL_GR_P_PDL1_PDL2_PDL3_PDR1_PDR2_PDR3_PLG_PLR_PLS_PLT_PLW_PPR_PR_PRG_PRT_PRW_VLi_VLo_VR  | NA                                                                                       |  85                                                                                      |\n",
       "| GL_GR_P_PDL1_PDL2_PDL3_PDR1_PDR2_PLG_PLL_PLR1_PLR2_PLS_PLT_PLW_PPR_PR_PRG_PRT_PRW_VL_VR  | NA                                                                                       |  81                                                                                      |\n",
       "| GL_GR_P_PDL1_PDL2_PDL3_PDR1_PDR2_PLG_PLR_PLS_PLT_PLW_PPR_PR_PRG_PRT_PRW_VLi_VLo_VRi_VRo  | NA                                                                                       |  80                                                                                      |\n",
       "| GL_GR_P_PDL1_PDL2_PDL3_PDR1_PDR2_PLG_PLL_PLR1_PLR2_PLS_PLT_PLW_PPL_PR_PRG_PRT_PRW_VL_VR  |  1                                                                                       |  75                                                                                      |\n",
       "| GL_GR_P_PDL1_PDL2_PDL3_PDR1_PDR2_PDR3_PLG_PLL_PLS_PLT_PLW_PPL_PR_PRG_PRT_PRW_VL_VRi_VRo  | NA                                                                                       |  73                                                                                      |\n",
       "| GL_GR_P_PDL1_PDL2_PDL3_PDR1_PDR2_PLG_PLL_PLS_PLT_PLW_PPR_PR_PRG_PRT_PRW_VLi_VLo_VRi_VRo  |  3                                                                                       |  73                                                                                      |\n",
       "| GL_GR_P_PDL1_PDL2_PDL3_PDR1_PDR2_PLG_PLL1_PLL2_PLR_PLS_PLT_PLW_PPR_PR_PRG_PRT_PRW_VL_VR  |  1                                                                                       |  69                                                                                      |\n",
       "| GL_GR_P_PDL1_PDL2_PDL3_PDL4_PDR1_PDR2_PDR3_PLG_PLR_PLS_PLT_PLW_PPL_PR_PRG_PRT_PRW_VL_VR  | NA                                                                                       |  65                                                                                      |\n",
       "| GL_GR_P_PDL1_PDL2_PDL3_PDR1_PDR2_PDR3_PDR4_PLG_PLL_PLS_PLT_PLW_PPL_PR_PRG_PRT_PRW_VL_VR  | NA                                                                                       |  61                                                                                      |\n",
       "| GL_GR_P_PDL1_PDL2_PDL3_PDR1_PDR2_PDR3_PLG_PLR_PLS_PLT_PLW_PPL_PR_PRG_PRT_PRW_VL_VRi_VRo  | NA                                                                                       |  60                                                                                      |\n",
       "| GL_GR_P_PDL1_PDL2_PDL3_PDR1_PDR2_PLG_PLM_PLS_PLT_PLW_PPR_PR_PRG_PRT_PRW_VLi_VLo_VRi_VRo  | NA                                                                                       |  58                                                                                      |\n",
       "| GL_GR_P_PDL1_PDL2_PDL3_PDR1_PDR2_PLG_PLL_PLR_PLS_PLT_PLW_PPR_PR_PRG_PRT_PRW_VLi_VLo_VR   | NA                                                                                       |  57                                                                                      |\n",
       "| GL_GR_P_PDL1_PDL2_PDR1_PDR2_PDR3_PLG_PLL1_PLL2_PLR_PLS_PLT_PLW_PPR_PR_PRG_PRT_PRW_VL_VR  | NA                                                                                       |  55                                                                                      |\n",
       "| GL_GR_P_PDL1_PDL2_PDR1_PDR2_PLG_PLL1_PLL2_PLR1_PLR2_PLS_PLT_PLW_PPL_PR_PRG_PRT_PRW_VL_VR | NA                                                                                       |  55                                                                                      |\n",
       "| GL_GR_P_PDL1_PDL2_PDL3_PDL4_PDR1_PDR2_PDR3_PLG_PLS_PLT_PLW_PPR_PR_PRG_PRT_PRW_VL_VRi_VRo |  1                                                                                       |  52                                                                                      |\n",
       "| ... | ... | ... |\n",
       "| GLi_GLo_GR_P_PDL1_PDL2_PDR1_PDR2_PLG_PLL_PLM_PLR_PLS_PLT_PLW_PPL_PR_PRG_PRT_VL_VRi_VRo             | NA                                                                                                 | 1                                                                                                  |\n",
       "| GLi_GLo_GR_P_PDR2_PLG_PLR_PLS_PLT_PLW_PRG_PRT_PRW_VLi_VLo_VRo                                      | NA                                                                                                 | 1                                                                                                  |\n",
       "| GLi_GLo_GRi_GRo_P_PDL1_PDL2_PDL3_PDR1_PDR2_PDR3_PLG_PLS_PLT_PPL_PR_PRG_PRT_VLi_VLo_VRi_VRo         | NA                                                                                                 | 1                                                                                                  |\n",
       "| GLi_GLo_GRi_GRo_P_PDL1_PDL2_PDL3_PDR1_PDR2_PLG_PLR_PLS_PLT_PPL_PR_PRG_PRT_VLi_VLo_VRi_VRo          | NA                                                                                                 | 1                                                                                                  |\n",
       "| GLi_GLo_GRi_GRo_P_PDL1_PDL2_PDR1_PDR2_PDR3_PLG_PLM_PLS_PLT_PPL_PR_PRG_PRT_VLi_VLo_VRi_VRo          | NA                                                                                                 | 1                                                                                                  |\n",
       "| GLi_GLo_GRi_GRo_P_PDL1_PDL2_PDR1_PDR2_PDR3_PLG_PLR_PLS_PLT_PPL_PR_PRG_PRT_VLi_VLo_VRi_VRo          | NA                                                                                                 | 1                                                                                                  |\n",
       "| GLi_GLo_GRi_GRo_P_PDL1_PDL2_PDR1_PDR2_PLG_PLL_PLR_PLS_PLT_PPL_PR_PRG_PRT_VLi_VLo_VRi_VRo           | NA                                                                                                 | 1                                                                                                  |\n",
       "| GLi_GLo_P_PDL1_PDL2_PDL3_PDL4_PDR1_PDR2_PDR3_PLG_PLL_PLS_PLT_PLW_PPR_PR_PRG_PRT_PRW_VRi_VRo        | NA                                                                                                 | 1                                                                                                  |\n",
       "| GLi_GLo_P_PDL1_PDL2_PDL3_PDM_PDR1_PDR2_PLG_PLL_PLR_PLS_PLT_PLW_PPR_PR_PRG_PRT_PRW_VRi_VRo          | NA                                                                                                 | 1                                                                                                  |\n",
       "| GLi_GLo_P_PDL1_PDL2_PDL3_PDR1_PDR2_PDR3_PLG_PLL_PLR_PLS_PLT_PLW_PPR_PR_PRG_PRT_PRW_VRi_VRo         | NA                                                                                                 | 1                                                                                                  |\n",
       "| GLi_GLo_P_PDL1_PDL2_PDL3_PDR1_PDR2_PDR3_PLG_PLL1_PLL2_PLS_PLT_PLW_PPR_PR_PRG_PRT_PRW_VRi_VRo       | NA                                                                                                 | 1                                                                                                  |\n",
       "| GLi_GLo_P_PDL1_PDL2_PDL3_PDR1_PDR2_PDR3_PLG_PLR1_PLR2_PLS_PLT_PLW_PPL_PR_PRG_PRT_PRW_VRi_VRo       | NA                                                                                                 | 1                                                                                                  |\n",
       "| GLi_GLo_P_PDL1_PDL2_PDL3_PDR1_PDR2_PLG_PLL_PLM_PLR_PLS_PLT_PLW_PPL_PR_PRG_PRT_PRW_VRi_VRo          | NA                                                                                                 | 1                                                                                                  |\n",
       "| GLi_GLo_P_PDL1_PDL2_PDL3_PDR1_PDR2_PLG_PLL_PLM_PLS_PLT_PLW_PPR_PR_PRG_PRT_PRW_VR_VRi_VRo           | NA                                                                                                 | 1                                                                                                  |\n",
       "| GLi_GLo_P_PDL1_PDL2_PDL3_PDR1_PDR2_PLG_PLL_PLR1_PLR2_PLS_PLT_PLW_PPL_PR_PRG_PRT_PRW_VRi_VRo        | NA                                                                                                 | 1                                                                                                  |\n",
       "| GLi_GLo_P_PDL1_PDL2_PDR1_PDR2_PDR3_PLG_PLL1_PLL2_PLR_PLS_PLT_PLW_PPR_PR_PRG_PRT_PRW_VRi_VRo        | NA                                                                                                 | 1                                                                                                  |\n",
       "| GLi_GLo_P_PDL1_PDR1_PDR2_PDR3_PFB_PLG_PLM_PLR1_PLR2_PLS_PLT_PLW_PPL_PR_PRG_PRT_PRW_VRi_VRo         | NA                                                                                                 | 1                                                                                                  |\n",
       "| GLi_GR_P_PDL1_PDL2_PDR1_PDR2_PDR3_PLG_PLR_PLS_PLT_PLW_PPR_PR_PRG_PRT_PRW_VLi_VLo_VRi_VRo           | NA                                                                                                 | 1                                                                                                  |\n",
       "| GR_GRi_GRo_P_PDL1_PDL2_PDL3_PDL4_PDL5_PDR1_PDR2_PLG_PLR1_PLR2_PLS_PLT_PLW_PPL_PR_PRG_PRT_VL        | NA                                                                                                 | 1                                                                                                  |\n",
       "| GR_P_PDL1_PDL2_PDL3_PDL4_PDR1_PDR2_PDR3_PDR4_PDR5_PDR6_PLG_PLS_PLT_PLW_PPLi_PPLo_PR_PRG_PRT_PRW    | NA                                                                                                 | 1                                                                                                  |\n",
       "| GRi_GRo_P_PDL1_PDL2_PDL3_PDM_PDR1_PDR2_PDR3_PDR4_PLG_PLS_PLT_PLW_PPL_PR_PRG_PRT_PRW_VLi_VLo        | NA                                                                                                 | 1                                                                                                  |\n",
       "| GRi_GRo_P_PDL1_PDL2_PDL3_PDR1_PDR2_PLG_PLR1_PLR2_PLS_PLT_PLW_PPL_PR_PRG_PRT_PRW_VLi_VLo_VR         | NA                                                                                                 | 1                                                                                                  |\n",
       "| GRi_GRo_P_PDL1_PDL2_PDR1_PDR2_PDR3_PLG_PLL_PLM_PLR_PLS_PLT_PLW_PPL_PR_PRG_PRT_PRW_VLi_VLo          | NA                                                                                                 | 1                                                                                                  |\n",
       "| GRi_GRo_P_PDL1_PDL2_PDR1_PDR2_PDR3_PLG_PLL1_PLL2_PLS_PLT_PLW_PPL_PR_PRG_PRT_PRW_VL_VLi_VLo         | NA                                                                                                 | 1                                                                                                  |\n",
       "| GRi_GRo_P_PDL1_PDL2_PDR1_PDR2_PDR3_PLG_PLM_PLR1_PLR2_PLS_PLT_PLW_PPL_PR_PRG_PRT_PRW_VLi_VLo        | NA                                                                                                 | 1                                                                                                  |\n",
       "| GRi_GRo_P_PDL1_PDL2_PDR1_PDR2_PLG_PLL_PLR1_PLR2_PLR3_PLS_PLT_PLW_PPL_PR_PRG_PRT_PRW_VLi_VLo        | NA                                                                                                 | 1                                                                                                  |\n",
       "| P                                                                                                  | NA                                                                                                 | 1                                                                                                  |\n",
       "| P_PDL1_PDL2_PDL3_PDL4_PDL5_PDR1_PDR2_PDR3_PDR4_PDR5_PDR6_PLG_PLS_PLT_PLW_PPL_PPRi_PPRo_PRG_PRT_PRW | NA                                                                                                 | 1                                                                                                  |\n",
       "| P_PDL1_PDL2_PDL3_PDL4_PDL5_PDR1_PDR2_PDR3_PDR4_PDR5_PLG_PLS_PLT_PLW_PPL_PPRi_PPRo_PR_PRG_PRT_PRW   | NA                                                                                                 | 1                                                                                                  |\n",
       "| P_PDL1_PDL2_PDL3_PDL4_PDR1_PDR2_PLG_PLL_PLR1_PLR2_PLS_PLT_PLW_PPLi_PPLo_PR_PRG_PRT_PRW_VR          | NA                                                                                                 | 1                                                                                                  |\n",
       "\n"
      ],
      "text/plain": [
       "    formation                                                                                         \n",
       "1   GL_GR_P_PDL1_PDL2_PDL3_PDL4_PDR1_PDR2_PDR3_PDR4_PLG_PLS_PLT_PLW_PPR_PR_PRG_PRT_PRW_VL_VR          \n",
       "2   GL_GR_P_PDL1_PDL2_PDL3_PDR1_PDR2_PDR3_PLG_PLS_PLT_PLW_PPR_PR_PRG_PRT_PRW_VLi_VLo_VRi_VRo          \n",
       "3   GL_GR_P_PDL1_PDL2_PDL3_PDR1_PDR2_PDR3_PLG_PLL_PLR_PLS_PLT_PLW_PPR_PR_PRG_PRT_PRW_VL_VR            \n",
       "4   GL_GR_P_PDL1_PDL2_PDL3_PDR1_PDR2_PDR3_PLG_PLL_PLR_PLS_PLT_PLW_PPL_PR_PRG_PRT_PRW_VL_VR            \n",
       "5   GL_GR_P_PDL1_PDL2_PDL3_PDL4_PDR1_PDR2_PDR3_PDR4_PLG_PLS_PLT_PLW_PPL_PR_PRG_PRT_PRW_VL_VR          \n",
       "6   GL_GR_P_PDL1_PDL2_PDL3_PDR1_PDR2_PDR3_PLG_PLS_PLT_PLW_PPL_PR_PRG_PRT_PRW_VLi_VLo_VRi_VRo          \n",
       "7   GL_GR_P_PDL1_PDL2_PDL3_PDR1_PDR2_PDR3_PLG_PLL_PLS_PLT_PLW_PPR_PR_PRG_PRT_PRW_VL_VRi_VRo           \n",
       "8   GL_GR_P_PDL1_PDL2_PDR1_PDR2_PDR3_PLG_PLL_PLS_PLT_PLW_PPR_PR_PRG_PRT_PRW_VLi_VLo_VRi_VRo           \n",
       "9   GL_GR_P_PDL1_PDL2_PDL3_PDR1_PDR2_PDR3_PLG_PLL_PLS_PLT_PLW_PPR_PR_PRG_PRT_PRW_VLi_VLo_VR           \n",
       "10  GL_GR_P_PDL1_PDL2_PDR1_PDR2_PLG_PLL1_PLL2_PLR1_PLR2_PLS_PLT_PLW_PPR_PR_PRG_PRT_PRW_VL_VR          \n",
       "11  GL_GR_P_PDL1_PDL2_PDL3_PDR1_PDR2_PDR3_PLG_PLR_PLS_PLT_PLW_PPL_PR_PRG_PRT_PRW_VLi_VLo_VR           \n",
       "12  GL_GR_P_PDL1_PDL2_PDL3_PDR1_PDR2_PLG_PLL_PLM_PLR_PLS_PLT_PLW_PPR_PR_PRG_PRT_PRW_VL_VR             \n",
       "13  GL_GR_P_PDL1_PDL2_PDL3_PDR1_PDR2_PDR3_PDR4_PLG_PLL_PLS_PLT_PLW_PPR_PR_PRG_PRT_PRW_VL_VR           \n",
       "14  GL_GR_P_PDL1_PDL2_PDL3_PDR1_PDR2_PLG_PLR_PLS_PLT_PLW_PPL_PR_PRG_PRT_PRW_VLi_VLo_VRi_VRo           \n",
       "15  GL_GR_P_PDL1_PDL2_PDL3_PDL4_PDR1_PDR2_PDR3_PLG_PLR_PLS_PLT_PLW_PPR_PR_PRG_PRT_PRW_VL_VR           \n",
       "16  GL_GR_P_PDL1_PDL2_PDL3_PDR1_PDR2_PDR3_PLG_PLR_PLS_PLT_PLW_PPR_PR_PRG_PRT_PRW_VLi_VLo_VR           \n",
       "17  GL_GR_P_PDL1_PDL2_PDL3_PDR1_PDR2_PLG_PLL_PLR1_PLR2_PLS_PLT_PLW_PPR_PR_PRG_PRT_PRW_VL_VR           \n",
       "18  GL_GR_P_PDL1_PDL2_PDL3_PDR1_PDR2_PLG_PLR_PLS_PLT_PLW_PPR_PR_PRG_PRT_PRW_VLi_VLo_VRi_VRo           \n",
       "19  GL_GR_P_PDL1_PDL2_PDL3_PDR1_PDR2_PLG_PLL_PLR1_PLR2_PLS_PLT_PLW_PPL_PR_PRG_PRT_PRW_VL_VR           \n",
       "20  GL_GR_P_PDL1_PDL2_PDL3_PDR1_PDR2_PDR3_PLG_PLL_PLS_PLT_PLW_PPL_PR_PRG_PRT_PRW_VL_VRi_VRo           \n",
       "21  GL_GR_P_PDL1_PDL2_PDL3_PDR1_PDR2_PLG_PLL_PLS_PLT_PLW_PPR_PR_PRG_PRT_PRW_VLi_VLo_VRi_VRo           \n",
       "22  GL_GR_P_PDL1_PDL2_PDL3_PDR1_PDR2_PLG_PLL1_PLL2_PLR_PLS_PLT_PLW_PPR_PR_PRG_PRT_PRW_VL_VR           \n",
       "23  GL_GR_P_PDL1_PDL2_PDL3_PDL4_PDR1_PDR2_PDR3_PLG_PLR_PLS_PLT_PLW_PPL_PR_PRG_PRT_PRW_VL_VR           \n",
       "24  GL_GR_P_PDL1_PDL2_PDL3_PDR1_PDR2_PDR3_PDR4_PLG_PLL_PLS_PLT_PLW_PPL_PR_PRG_PRT_PRW_VL_VR           \n",
       "25  GL_GR_P_PDL1_PDL2_PDL3_PDR1_PDR2_PDR3_PLG_PLR_PLS_PLT_PLW_PPL_PR_PRG_PRT_PRW_VL_VRi_VRo           \n",
       "26  GL_GR_P_PDL1_PDL2_PDL3_PDR1_PDR2_PLG_PLM_PLS_PLT_PLW_PPR_PR_PRG_PRT_PRW_VLi_VLo_VRi_VRo           \n",
       "27  GL_GR_P_PDL1_PDL2_PDL3_PDR1_PDR2_PLG_PLL_PLR_PLS_PLT_PLW_PPR_PR_PRG_PRT_PRW_VLi_VLo_VR            \n",
       "28  GL_GR_P_PDL1_PDL2_PDR1_PDR2_PDR3_PLG_PLL1_PLL2_PLR_PLS_PLT_PLW_PPR_PR_PRG_PRT_PRW_VL_VR           \n",
       "29  GL_GR_P_PDL1_PDL2_PDR1_PDR2_PLG_PLL1_PLL2_PLR1_PLR2_PLS_PLT_PLW_PPL_PR_PRG_PRT_PRW_VL_VR          \n",
       "30  GL_GR_P_PDL1_PDL2_PDL3_PDL4_PDR1_PDR2_PDR3_PLG_PLS_PLT_PLW_PPR_PR_PRG_PRT_PRW_VL_VRi_VRo          \n",
       "... ...                                                                                               \n",
       "693 GLi_GLo_GR_P_PDL1_PDL2_PDR1_PDR2_PLG_PLL_PLM_PLR_PLS_PLT_PLW_PPL_PR_PRG_PRT_VL_VRi_VRo            \n",
       "694 GLi_GLo_GR_P_PDR2_PLG_PLR_PLS_PLT_PLW_PRG_PRT_PRW_VLi_VLo_VRo                                     \n",
       "695 GLi_GLo_GRi_GRo_P_PDL1_PDL2_PDL3_PDR1_PDR2_PDR3_PLG_PLS_PLT_PPL_PR_PRG_PRT_VLi_VLo_VRi_VRo        \n",
       "696 GLi_GLo_GRi_GRo_P_PDL1_PDL2_PDL3_PDR1_PDR2_PLG_PLR_PLS_PLT_PPL_PR_PRG_PRT_VLi_VLo_VRi_VRo         \n",
       "697 GLi_GLo_GRi_GRo_P_PDL1_PDL2_PDR1_PDR2_PDR3_PLG_PLM_PLS_PLT_PPL_PR_PRG_PRT_VLi_VLo_VRi_VRo         \n",
       "698 GLi_GLo_GRi_GRo_P_PDL1_PDL2_PDR1_PDR2_PDR3_PLG_PLR_PLS_PLT_PPL_PR_PRG_PRT_VLi_VLo_VRi_VRo         \n",
       "699 GLi_GLo_GRi_GRo_P_PDL1_PDL2_PDR1_PDR2_PLG_PLL_PLR_PLS_PLT_PPL_PR_PRG_PRT_VLi_VLo_VRi_VRo          \n",
       "700 GLi_GLo_P_PDL1_PDL2_PDL3_PDL4_PDR1_PDR2_PDR3_PLG_PLL_PLS_PLT_PLW_PPR_PR_PRG_PRT_PRW_VRi_VRo       \n",
       "701 GLi_GLo_P_PDL1_PDL2_PDL3_PDM_PDR1_PDR2_PLG_PLL_PLR_PLS_PLT_PLW_PPR_PR_PRG_PRT_PRW_VRi_VRo         \n",
       "702 GLi_GLo_P_PDL1_PDL2_PDL3_PDR1_PDR2_PDR3_PLG_PLL_PLR_PLS_PLT_PLW_PPR_PR_PRG_PRT_PRW_VRi_VRo        \n",
       "703 GLi_GLo_P_PDL1_PDL2_PDL3_PDR1_PDR2_PDR3_PLG_PLL1_PLL2_PLS_PLT_PLW_PPR_PR_PRG_PRT_PRW_VRi_VRo      \n",
       "704 GLi_GLo_P_PDL1_PDL2_PDL3_PDR1_PDR2_PDR3_PLG_PLR1_PLR2_PLS_PLT_PLW_PPL_PR_PRG_PRT_PRW_VRi_VRo      \n",
       "705 GLi_GLo_P_PDL1_PDL2_PDL3_PDR1_PDR2_PLG_PLL_PLM_PLR_PLS_PLT_PLW_PPL_PR_PRG_PRT_PRW_VRi_VRo         \n",
       "706 GLi_GLo_P_PDL1_PDL2_PDL3_PDR1_PDR2_PLG_PLL_PLM_PLS_PLT_PLW_PPR_PR_PRG_PRT_PRW_VR_VRi_VRo          \n",
       "707 GLi_GLo_P_PDL1_PDL2_PDL3_PDR1_PDR2_PLG_PLL_PLR1_PLR2_PLS_PLT_PLW_PPL_PR_PRG_PRT_PRW_VRi_VRo       \n",
       "708 GLi_GLo_P_PDL1_PDL2_PDR1_PDR2_PDR3_PLG_PLL1_PLL2_PLR_PLS_PLT_PLW_PPR_PR_PRG_PRT_PRW_VRi_VRo       \n",
       "709 GLi_GLo_P_PDL1_PDR1_PDR2_PDR3_PFB_PLG_PLM_PLR1_PLR2_PLS_PLT_PLW_PPL_PR_PRG_PRT_PRW_VRi_VRo        \n",
       "710 GLi_GR_P_PDL1_PDL2_PDR1_PDR2_PDR3_PLG_PLR_PLS_PLT_PLW_PPR_PR_PRG_PRT_PRW_VLi_VLo_VRi_VRo          \n",
       "711 GR_GRi_GRo_P_PDL1_PDL2_PDL3_PDL4_PDL5_PDR1_PDR2_PLG_PLR1_PLR2_PLS_PLT_PLW_PPL_PR_PRG_PRT_VL       \n",
       "712 GR_P_PDL1_PDL2_PDL3_PDL4_PDR1_PDR2_PDR3_PDR4_PDR5_PDR6_PLG_PLS_PLT_PLW_PPLi_PPLo_PR_PRG_PRT_PRW   \n",
       "713 GRi_GRo_P_PDL1_PDL2_PDL3_PDM_PDR1_PDR2_PDR3_PDR4_PLG_PLS_PLT_PLW_PPL_PR_PRG_PRT_PRW_VLi_VLo       \n",
       "714 GRi_GRo_P_PDL1_PDL2_PDL3_PDR1_PDR2_PLG_PLR1_PLR2_PLS_PLT_PLW_PPL_PR_PRG_PRT_PRW_VLi_VLo_VR        \n",
       "715 GRi_GRo_P_PDL1_PDL2_PDR1_PDR2_PDR3_PLG_PLL_PLM_PLR_PLS_PLT_PLW_PPL_PR_PRG_PRT_PRW_VLi_VLo         \n",
       "716 GRi_GRo_P_PDL1_PDL2_PDR1_PDR2_PDR3_PLG_PLL1_PLL2_PLS_PLT_PLW_PPL_PR_PRG_PRT_PRW_VL_VLi_VLo        \n",
       "717 GRi_GRo_P_PDL1_PDL2_PDR1_PDR2_PDR3_PLG_PLM_PLR1_PLR2_PLS_PLT_PLW_PPL_PR_PRG_PRT_PRW_VLi_VLo       \n",
       "718 GRi_GRo_P_PDL1_PDL2_PDR1_PDR2_PLG_PLL_PLR1_PLR2_PLR3_PLS_PLT_PLW_PPL_PR_PRG_PRT_PRW_VLi_VLo       \n",
       "719 P                                                                                                 \n",
       "720 P_PDL1_PDL2_PDL3_PDL4_PDL5_PDR1_PDR2_PDR3_PDR4_PDR5_PDR6_PLG_PLS_PLT_PLW_PPL_PPRi_PPRo_PRG_PRT_PRW\n",
       "721 P_PDL1_PDL2_PDL3_PDL4_PDL5_PDR1_PDR2_PDR3_PDR4_PDR5_PLG_PLS_PLT_PLW_PPL_PPRi_PPRo_PR_PRG_PRT_PRW  \n",
       "722 P_PDL1_PDL2_PDL3_PDL4_PDR1_PDR2_PLG_PLL_PLR1_PLR2_PLS_PLT_PLW_PPLi_PPLo_PR_PRG_PRT_PRW_VR         \n",
       "    Injury_Count Total_Count\n",
       "1    2           370        \n",
       "2   NA           346        \n",
       "3    1           341        \n",
       "4    2           258        \n",
       "5   NA           229        \n",
       "6    3           216        \n",
       "7   NA           174        \n",
       "8    1           140        \n",
       "9    2           115        \n",
       "10  NA           103        \n",
       "11  NA            98        \n",
       "12   1            94        \n",
       "13  NA            87        \n",
       "14   1            87        \n",
       "15  NA            86        \n",
       "16  NA            85        \n",
       "17  NA            81        \n",
       "18  NA            80        \n",
       "19   1            75        \n",
       "20  NA            73        \n",
       "21   3            73        \n",
       "22   1            69        \n",
       "23  NA            65        \n",
       "24  NA            61        \n",
       "25  NA            60        \n",
       "26  NA            58        \n",
       "27  NA            57        \n",
       "28  NA            55        \n",
       "29  NA            55        \n",
       "30   1            52        \n",
       "... ...          ...        \n",
       "693 NA           1          \n",
       "694 NA           1          \n",
       "695 NA           1          \n",
       "696 NA           1          \n",
       "697 NA           1          \n",
       "698 NA           1          \n",
       "699 NA           1          \n",
       "700 NA           1          \n",
       "701 NA           1          \n",
       "702 NA           1          \n",
       "703 NA           1          \n",
       "704 NA           1          \n",
       "705 NA           1          \n",
       "706 NA           1          \n",
       "707 NA           1          \n",
       "708 NA           1          \n",
       "709 NA           1          \n",
       "710 NA           1          \n",
       "711 NA           1          \n",
       "712 NA           1          \n",
       "713 NA           1          \n",
       "714 NA           1          \n",
       "715 NA           1          \n",
       "716 NA           1          \n",
       "717 NA           1          \n",
       "718 NA           1          \n",
       "719 NA           1          \n",
       "720 NA           1          \n",
       "721 NA           1          \n",
       "722 NA           1          "
      ]
     },
     "metadata": {},
     "output_type": "display_data"
    }
   ],
   "source": [
    "final_final %>% arrange(desc(Total_Count))"
   ]
  },
  {
   "cell_type": "code",
   "execution_count": 360,
   "metadata": {
    "collapsed": true
   },
   "outputs": [],
   "source": [
    "final_final[is.na(final_final)] <- 0"
   ]
  },
  {
   "cell_type": "code",
   "execution_count": 361,
   "metadata": {},
   "outputs": [
    {
     "data": {
      "text/html": [
       "<table>\n",
       "<thead><tr><th scope=col>formation</th><th scope=col>Injury_Count</th><th scope=col>Total_Count</th></tr></thead>\n",
       "<tbody>\n",
       "\t<tr><td>GL_GL_GR_P_PDL1_PDL2_PDL3_PDR1_PDR2_PDR3_PLG_PLL_PLR_PLS_PLT_PLW_PPR_PR_PRG_PRT_PRW_VL        </td><td>0                                                                                             </td><td>1                                                                                             </td></tr>\n",
       "\t<tr><td>GL_GL_P_PDL1_PDL2_PDL3_PDL4_PDL5_PDL6_PDR1_PDR2_PDR3_PDR3_PDR4_PLG_PLS_PLT_PLW_PPR_PRG_PRT_PRW</td><td>0                                                                                             </td><td>1                                                                                             </td></tr>\n",
       "\t<tr><td>GL_GLi_GLo_GRi_GRo_P_PDL1_PDL2_PDL3_PDR1_PDR2_PLG_PLS_PLT_PR_PRG_PRT_VLi_VLo_VR_VRi_VRo       </td><td>0                                                                                             </td><td>1                                                                                             </td></tr>\n",
       "\t<tr><td>GL_GR_GR_P_PDL1_PDL2_PDL3_PDR1_PDR2_PLG_PLS_PLT_PLW_PR_PRG_PRT_PRW_VLi_VLi_VRi_VRo            </td><td>0                                                                                             </td><td>1                                                                                             </td></tr>\n",
       "\t<tr><td>GL_GR_GRi_GRo_P_PDL1_PDL2_PDL3_PDR1_PDR2_PDR3_PLG_PLS_PLT_PPL_PR_PRG_PRT_VL_VLi_VLo_VR        </td><td>0                                                                                             </td><td>1                                                                                             </td></tr>\n",
       "\t<tr><td>GL_GR_GRi_GRo_P_PDL1_PDL2_PDR1_PDR2_PDR3_PLG_PLS_PLT_PPL_PR_PRG_PRT_VL_VLi_VLo_VRi_VRo        </td><td>0                                                                                             </td><td>1                                                                                             </td></tr>\n",
       "</tbody>\n",
       "</table>\n"
      ],
      "text/latex": [
       "\\begin{tabular}{r|lll}\n",
       " formation & Injury\\_Count & Total\\_Count\\\\\n",
       "\\hline\n",
       "\t GL\\_GL\\_GR\\_P\\_PDL1\\_PDL2\\_PDL3\\_PDR1\\_PDR2\\_PDR3\\_PLG\\_PLL\\_PLR\\_PLS\\_PLT\\_PLW\\_PPR\\_PR\\_PRG\\_PRT\\_PRW\\_VL         & 0                                                                                                                                        & 1                                                                                                                                       \\\\\n",
       "\t GL\\_GL\\_P\\_PDL1\\_PDL2\\_PDL3\\_PDL4\\_PDL5\\_PDL6\\_PDR1\\_PDR2\\_PDR3\\_PDR3\\_PDR4\\_PLG\\_PLS\\_PLT\\_PLW\\_PPR\\_PRG\\_PRT\\_PRW & 0                                                                                                                                        & 1                                                                                                                                       \\\\\n",
       "\t GL\\_GLi\\_GLo\\_GRi\\_GRo\\_P\\_PDL1\\_PDL2\\_PDL3\\_PDR1\\_PDR2\\_PLG\\_PLS\\_PLT\\_PR\\_PRG\\_PRT\\_VLi\\_VLo\\_VR\\_VRi\\_VRo        & 0                                                                                                                                        & 1                                                                                                                                       \\\\\n",
       "\t GL\\_GR\\_GR\\_P\\_PDL1\\_PDL2\\_PDL3\\_PDR1\\_PDR2\\_PLG\\_PLS\\_PLT\\_PLW\\_PR\\_PRG\\_PRT\\_PRW\\_VLi\\_VLi\\_VRi\\_VRo             & 0                                                                                                                                      & 1                                                                                                                                     \\\\\n",
       "\t GL\\_GR\\_GRi\\_GRo\\_P\\_PDL1\\_PDL2\\_PDL3\\_PDR1\\_PDR2\\_PDR3\\_PLG\\_PLS\\_PLT\\_PPL\\_PR\\_PRG\\_PRT\\_VL\\_VLi\\_VLo\\_VR         & 0                                                                                                                                        & 1                                                                                                                                       \\\\\n",
       "\t GL\\_GR\\_GRi\\_GRo\\_P\\_PDL1\\_PDL2\\_PDR1\\_PDR2\\_PDR3\\_PLG\\_PLS\\_PLT\\_PPL\\_PR\\_PRG\\_PRT\\_VL\\_VLi\\_VLo\\_VRi\\_VRo         & 0                                                                                                                                        & 1                                                                                                                                       \\\\\n",
       "\\end{tabular}\n"
      ],
      "text/markdown": [
       "\n",
       "| formation | Injury_Count | Total_Count |\n",
       "|---|---|---|\n",
       "| GL_GL_GR_P_PDL1_PDL2_PDL3_PDR1_PDR2_PDR3_PLG_PLL_PLR_PLS_PLT_PLW_PPR_PR_PRG_PRT_PRW_VL         | 0                                                                                              | 1                                                                                              |\n",
       "| GL_GL_P_PDL1_PDL2_PDL3_PDL4_PDL5_PDL6_PDR1_PDR2_PDR3_PDR3_PDR4_PLG_PLS_PLT_PLW_PPR_PRG_PRT_PRW | 0                                                                                              | 1                                                                                              |\n",
       "| GL_GLi_GLo_GRi_GRo_P_PDL1_PDL2_PDL3_PDR1_PDR2_PLG_PLS_PLT_PR_PRG_PRT_VLi_VLo_VR_VRi_VRo        | 0                                                                                              | 1                                                                                              |\n",
       "| GL_GR_GR_P_PDL1_PDL2_PDL3_PDR1_PDR2_PLG_PLS_PLT_PLW_PR_PRG_PRT_PRW_VLi_VLi_VRi_VRo             | 0                                                                                              | 1                                                                                              |\n",
       "| GL_GR_GRi_GRo_P_PDL1_PDL2_PDL3_PDR1_PDR2_PDR3_PLG_PLS_PLT_PPL_PR_PRG_PRT_VL_VLi_VLo_VR         | 0                                                                                              | 1                                                                                              |\n",
       "| GL_GR_GRi_GRo_P_PDL1_PDL2_PDR1_PDR2_PDR3_PLG_PLS_PLT_PPL_PR_PRG_PRT_VL_VLi_VLo_VRi_VRo         | 0                                                                                              | 1                                                                                              |\n",
       "\n"
      ],
      "text/plain": [
       "  formation                                                                                     \n",
       "1 GL_GL_GR_P_PDL1_PDL2_PDL3_PDR1_PDR2_PDR3_PLG_PLL_PLR_PLS_PLT_PLW_PPR_PR_PRG_PRT_PRW_VL        \n",
       "2 GL_GL_P_PDL1_PDL2_PDL3_PDL4_PDL5_PDL6_PDR1_PDR2_PDR3_PDR3_PDR4_PLG_PLS_PLT_PLW_PPR_PRG_PRT_PRW\n",
       "3 GL_GLi_GLo_GRi_GRo_P_PDL1_PDL2_PDL3_PDR1_PDR2_PLG_PLS_PLT_PR_PRG_PRT_VLi_VLo_VR_VRi_VRo       \n",
       "4 GL_GR_GR_P_PDL1_PDL2_PDL3_PDR1_PDR2_PLG_PLS_PLT_PLW_PR_PRG_PRT_PRW_VLi_VLi_VRi_VRo            \n",
       "5 GL_GR_GRi_GRo_P_PDL1_PDL2_PDL3_PDR1_PDR2_PDR3_PLG_PLS_PLT_PPL_PR_PRG_PRT_VL_VLi_VLo_VR        \n",
       "6 GL_GR_GRi_GRo_P_PDL1_PDL2_PDR1_PDR2_PDR3_PLG_PLS_PLT_PPL_PR_PRG_PRT_VL_VLi_VLo_VRi_VRo        \n",
       "  Injury_Count Total_Count\n",
       "1 0            1          \n",
       "2 0            1          \n",
       "3 0            1          \n",
       "4 0            1          \n",
       "5 0            1          \n",
       "6 0            1          "
      ]
     },
     "metadata": {},
     "output_type": "display_data"
    }
   ],
   "source": [
    "head(final_final)"
   ]
  },
  {
   "cell_type": "code",
   "execution_count": 365,
   "metadata": {
    "collapsed": true
   },
   "outputs": [],
   "source": [
    "finalsort <- final_final %>% group_by(Total_Count,Injury_Count)%>%\n",
    "  mutate(\"Mean\"=Injury_Count/(Total_Count))"
   ]
  },
  {
   "cell_type": "code",
   "execution_count": 366,
   "metadata": {
    "scrolled": false
   },
   "outputs": [
    {
     "data": {
      "text/html": [
       "<table>\n",
       "<thead><tr><th scope=col>formation</th><th scope=col>Injury_Count</th><th scope=col>Total_Count</th><th scope=col>Mean</th></tr></thead>\n",
       "<tbody>\n",
       "\t<tr><td>GL_GR_P_PDL1_PDL2_PDR1_PDR2_PDR3_PFB_PLG_PLM_PLS_PLT_PLW_PPL_PR_PRG_PRT_PRW_VL_VRi_VRo  </td><td>1                                                                                       </td><td> 1                                                                                      </td><td>1.00000000                                                                              </td></tr>\n",
       "\t<tr><td>GL_GR_P_PDL1_PDL2_PDR1_PDR2_PDR3_PLG_PLL_PLS_PLT_PLW_PPR_PR_PRG_PRT_PRW_VLi_VLo_VRi     </td><td>1                                                                                       </td><td> 1                                                                                      </td><td>1.00000000                                                                              </td></tr>\n",
       "\t<tr><td>GL_GR_P_PDL1_PDL2_PDL3_PDR1_PDR2_PLG_PLL1_PLL2_PLS_PLT_PLW_PPL_PR_PRG_PRT_PRW_VL_VRi_VRo</td><td>1                                                                                       </td><td> 2                                                                                      </td><td>0.50000000                                                                              </td></tr>\n",
       "\t<tr><td>GL_GR_P_PDL1_PDL2_PDL3_PDR1_PDR2_PFB_PLG_PLR_PLS_PLT_PLW_PPR_PR_PRG_PRT_PRW_VL_VRi_VRo  </td><td>1                                                                                       </td><td> 4                                                                                      </td><td>0.25000000                                                                              </td></tr>\n",
       "\t<tr><td>GL_GR_P_PDL1_PDL2_PDR1_PDR2_PDR3_PDR4_PLG_PLL1_PLL2_PLS_PLT_PLW_PPR_PR_PRG_PRT_PRW_VL_VR</td><td>1                                                                                       </td><td> 5                                                                                      </td><td>0.20000000                                                                              </td></tr>\n",
       "\t<tr><td>GL_GR_P_PDL1_PDL2_PDL3_PDR1_PDR2_PLG_PLR1_PLR2_PLS_PLT_PLW_PPR_PR_PRG_PRT_PRW_VLi_VLo_VR</td><td>1                                                                                       </td><td>11                                                                                      </td><td>0.09090909                                                                              </td></tr>\n",
       "</tbody>\n",
       "</table>\n"
      ],
      "text/latex": [
       "\\begin{tabular}{r|llll}\n",
       " formation & Injury\\_Count & Total\\_Count & Mean\\\\\n",
       "\\hline\n",
       "\t GL\\_GR\\_P\\_PDL1\\_PDL2\\_PDR1\\_PDR2\\_PDR3\\_PFB\\_PLG\\_PLM\\_PLS\\_PLT\\_PLW\\_PPL\\_PR\\_PRG\\_PRT\\_PRW\\_VL\\_VRi\\_VRo   & 1                                                                                                                                  &  1                                                                                                                                 & 1.00000000                                                                                                                        \\\\\n",
       "\t GL\\_GR\\_P\\_PDL1\\_PDL2\\_PDR1\\_PDR2\\_PDR3\\_PLG\\_PLL\\_PLS\\_PLT\\_PLW\\_PPR\\_PR\\_PRG\\_PRT\\_PRW\\_VLi\\_VLo\\_VRi      & 1                                                                                                                                &  1                                                                                                                               & 1.00000000                                                                                                                      \\\\\n",
       "\t GL\\_GR\\_P\\_PDL1\\_PDL2\\_PDL3\\_PDR1\\_PDR2\\_PLG\\_PLL1\\_PLL2\\_PLS\\_PLT\\_PLW\\_PPL\\_PR\\_PRG\\_PRT\\_PRW\\_VL\\_VRi\\_VRo & 1                                                                                                                                  &  2                                                                                                                                 & 0.50000000                                                                                                                        \\\\\n",
       "\t GL\\_GR\\_P\\_PDL1\\_PDL2\\_PDL3\\_PDR1\\_PDR2\\_PFB\\_PLG\\_PLR\\_PLS\\_PLT\\_PLW\\_PPR\\_PR\\_PRG\\_PRT\\_PRW\\_VL\\_VRi\\_VRo   & 1                                                                                                                                  &  4                                                                                                                                 & 0.25000000                                                                                                                        \\\\\n",
       "\t GL\\_GR\\_P\\_PDL1\\_PDL2\\_PDR1\\_PDR2\\_PDR3\\_PDR4\\_PLG\\_PLL1\\_PLL2\\_PLS\\_PLT\\_PLW\\_PPR\\_PR\\_PRG\\_PRT\\_PRW\\_VL\\_VR & 1                                                                                                                                  &  5                                                                                                                                 & 0.20000000                                                                                                                        \\\\\n",
       "\t GL\\_GR\\_P\\_PDL1\\_PDL2\\_PDL3\\_PDR1\\_PDR2\\_PLG\\_PLR1\\_PLR2\\_PLS\\_PLT\\_PLW\\_PPR\\_PR\\_PRG\\_PRT\\_PRW\\_VLi\\_VLo\\_VR & 1                                                                                                                                  & 11                                                                                                                                 & 0.09090909                                                                                                                        \\\\\n",
       "\\end{tabular}\n"
      ],
      "text/markdown": [
       "\n",
       "| formation | Injury_Count | Total_Count | Mean |\n",
       "|---|---|---|---|\n",
       "| GL_GR_P_PDL1_PDL2_PDR1_PDR2_PDR3_PFB_PLG_PLM_PLS_PLT_PLW_PPL_PR_PRG_PRT_PRW_VL_VRi_VRo   | 1                                                                                        |  1                                                                                       | 1.00000000                                                                               |\n",
       "| GL_GR_P_PDL1_PDL2_PDR1_PDR2_PDR3_PLG_PLL_PLS_PLT_PLW_PPR_PR_PRG_PRT_PRW_VLi_VLo_VRi      | 1                                                                                        |  1                                                                                       | 1.00000000                                                                               |\n",
       "| GL_GR_P_PDL1_PDL2_PDL3_PDR1_PDR2_PLG_PLL1_PLL2_PLS_PLT_PLW_PPL_PR_PRG_PRT_PRW_VL_VRi_VRo | 1                                                                                        |  2                                                                                       | 0.50000000                                                                               |\n",
       "| GL_GR_P_PDL1_PDL2_PDL3_PDR1_PDR2_PFB_PLG_PLR_PLS_PLT_PLW_PPR_PR_PRG_PRT_PRW_VL_VRi_VRo   | 1                                                                                        |  4                                                                                       | 0.25000000                                                                               |\n",
       "| GL_GR_P_PDL1_PDL2_PDR1_PDR2_PDR3_PDR4_PLG_PLL1_PLL2_PLS_PLT_PLW_PPR_PR_PRG_PRT_PRW_VL_VR | 1                                                                                        |  5                                                                                       | 0.20000000                                                                               |\n",
       "| GL_GR_P_PDL1_PDL2_PDL3_PDR1_PDR2_PLG_PLR1_PLR2_PLS_PLT_PLW_PPR_PR_PRG_PRT_PRW_VLi_VLo_VR | 1                                                                                        | 11                                                                                       | 0.09090909                                                                               |\n",
       "\n"
      ],
      "text/plain": [
       "  formation                                                                               \n",
       "1 GL_GR_P_PDL1_PDL2_PDR1_PDR2_PDR3_PFB_PLG_PLM_PLS_PLT_PLW_PPL_PR_PRG_PRT_PRW_VL_VRi_VRo  \n",
       "2 GL_GR_P_PDL1_PDL2_PDR1_PDR2_PDR3_PLG_PLL_PLS_PLT_PLW_PPR_PR_PRG_PRT_PRW_VLi_VLo_VRi     \n",
       "3 GL_GR_P_PDL1_PDL2_PDL3_PDR1_PDR2_PLG_PLL1_PLL2_PLS_PLT_PLW_PPL_PR_PRG_PRT_PRW_VL_VRi_VRo\n",
       "4 GL_GR_P_PDL1_PDL2_PDL3_PDR1_PDR2_PFB_PLG_PLR_PLS_PLT_PLW_PPR_PR_PRG_PRT_PRW_VL_VRi_VRo  \n",
       "5 GL_GR_P_PDL1_PDL2_PDR1_PDR2_PDR3_PDR4_PLG_PLL1_PLL2_PLS_PLT_PLW_PPR_PR_PRG_PRT_PRW_VL_VR\n",
       "6 GL_GR_P_PDL1_PDL2_PDL3_PDR1_PDR2_PLG_PLR1_PLR2_PLS_PLT_PLW_PPR_PR_PRG_PRT_PRW_VLi_VLo_VR\n",
       "  Injury_Count Total_Count Mean      \n",
       "1 1             1          1.00000000\n",
       "2 1             1          1.00000000\n",
       "3 1             2          0.50000000\n",
       "4 1             4          0.25000000\n",
       "5 1             5          0.20000000\n",
       "6 1            11          0.09090909"
      ]
     },
     "metadata": {},
     "output_type": "display_data"
    }
   ],
   "source": [
    "finalsort <- arrange(finalsort, desc(Mean))\n",
    "head(finalsort)"
   ]
  },
  {
   "cell_type": "code",
   "execution_count": 367,
   "metadata": {},
   "outputs": [
    {
     "data": {
      "text/html": [
       "<table>\n",
       "<thead><tr><th scope=col>formation</th><th scope=col>Injury_Count</th><th scope=col>Total_Count</th><th scope=col>Mean</th></tr></thead>\n",
       "<tbody>\n",
       "\t<tr><td>GL_GR_P_PDL1_PDL2_PDR1_PDR2_PDR3_PFB_PLG_PLM_PLS_PLT_PLW_PPL_PR_PRG_PRT_PRW_VL_VRi_VRo  </td><td>1                                                                                       </td><td>  1                                                                                     </td><td>1.000000000                                                                             </td></tr>\n",
       "\t<tr><td>GL_GR_P_PDL1_PDL2_PDR1_PDR2_PDR3_PLG_PLL_PLS_PLT_PLW_PPR_PR_PRG_PRT_PRW_VLi_VLo_VRi     </td><td>1                                                                                       </td><td>  1                                                                                     </td><td>1.000000000                                                                             </td></tr>\n",
       "\t<tr><td>GL_GR_P_PDL1_PDL2_PDL3_PDR1_PDR2_PLG_PLL1_PLL2_PLS_PLT_PLW_PPL_PR_PRG_PRT_PRW_VL_VRi_VRo</td><td>1                                                                                       </td><td>  2                                                                                     </td><td>0.500000000                                                                             </td></tr>\n",
       "\t<tr><td>GL_GR_P_PDL1_PDL2_PDL3_PDR1_PDR2_PFB_PLG_PLR_PLS_PLT_PLW_PPR_PR_PRG_PRT_PRW_VL_VRi_VRo  </td><td>1                                                                                       </td><td>  4                                                                                     </td><td>0.250000000                                                                             </td></tr>\n",
       "\t<tr><td>GL_GR_P_PDL1_PDL2_PDR1_PDR2_PDR3_PDR4_PLG_PLL1_PLL2_PLS_PLT_PLW_PPR_PR_PRG_PRT_PRW_VL_VR</td><td>1                                                                                       </td><td>  5                                                                                     </td><td>0.200000000                                                                             </td></tr>\n",
       "\t<tr><td>GL_GR_P_PDL1_PDL2_PDL3_PDR1_PDR2_PLG_PLR1_PLR2_PLS_PLT_PLW_PPR_PR_PRG_PRT_PRW_VLi_VLo_VR</td><td>1                                                                                       </td><td> 11                                                                                     </td><td>0.090909091                                                                             </td></tr>\n",
       "\t<tr><td>GL_GR_P_PDL1_PDL2_PDR1_PDR2_PDR3_PLG_PLR_PLS_PLT_PLW_PPR_PR_PRG_PRT_PRW_VLi_VLo_VRi_VRo </td><td>1                                                                                       </td><td> 17                                                                                     </td><td>0.058823529                                                                             </td></tr>\n",
       "\t<tr><td>GL_GR_P_PDL1_PDL2_PDR1_PDR2_PDR3_PLG_PLM_PLS_PLT_PLW_PPR_PR_PRG_PRT_PRW_VLi_VLo_VRi_VRo </td><td>2                                                                                       </td><td> 35                                                                                     </td><td>0.057142857                                                                             </td></tr>\n",
       "\t<tr><td>GL_GR_P_PDL1_PDL2_PDL3_PDR1_PDR2_PDR3_PLG_PLL_PLM_PLS_PLT_PLW_PPR_PR_PRG_PRT_PRW_VL_VR  </td><td>1                                                                                       </td><td> 18                                                                                     </td><td>0.055555556                                                                             </td></tr>\n",
       "\t<tr><td>GL_GR_P_PDL1_PDL2_PDL3_PDR1_PDR2_PDR3_PDR4_PLG_PLS_PLT_PLW_PPL_PR_PRG_PRT_PRW_VL_VRi_VRo</td><td>1                                                                                       </td><td> 19                                                                                     </td><td>0.052631579                                                                             </td></tr>\n",
       "\t<tr><td>GL_GR_P_PDL1_PDL2_PDL3_PDR1_PDR2_PLG_PLL_PLS_PLT_PLW_PPR_PR_PRG_PRT_PRW_VLi_VLo_VRi_VRo </td><td>3                                                                                       </td><td> 73                                                                                     </td><td>0.041095890                                                                             </td></tr>\n",
       "\t<tr><td>GL_GR_P_PDL1_PDL2_PDL3_PDL4_PDR1_PDR2_PDR3_PLG_PLS_PLT_PLW_PPR_PR_PRG_PRT_PRW_VLi_VLo_VR</td><td>1                                                                                       </td><td> 30                                                                                     </td><td>0.033333333                                                                             </td></tr>\n",
       "\t<tr><td>GL_GR_P_PDL1_PDL2_PDL3_PDR1_PDR2_PDR3_PLG_PLM_PLS_PLT_PLW_PPR_PR_PRG_PRT_PRW_VLi_VLo_VR </td><td>1                                                                                       </td><td> 35                                                                                     </td><td>0.028571429                                                                             </td></tr>\n",
       "\t<tr><td>GL_GR_P_PDL1_PDL2_PDL3_PDL4_PDR1_PDR2_PDR3_PLG_PLL_PLS_PLT_PLW_PPR_PR_PRG_PRT_PRW_VL_VR </td><td>1                                                                                       </td><td> 39                                                                                     </td><td>0.025641026                                                                             </td></tr>\n",
       "\t<tr><td>GL_GR_P_PDL1_PDL2_PDL3_PDR1_PDR2_PDR3_PLG_PLR_PLS_PLT_PLW_PPR_PR_PRG_PRT_PRW_VL_VRi_VRo </td><td>1                                                                                       </td><td> 46                                                                                     </td><td>0.021739130                                                                             </td></tr>\n",
       "\t<tr><td>GL_GR_P_PDL1_PDL2_PDR1_PDR2_PDR3_PLG_PLR_PLS_PLT_PLW_PPL_PR_PRG_PRT_PRW_VLi_VLo_VRi_VRo </td><td>1                                                                                       </td><td> 46                                                                                     </td><td>0.021739130                                                                             </td></tr>\n",
       "\t<tr><td>GL_GR_P_PDL1_PDL2_PDL3_PDR1_PDR2_PDR3_PDR4_PDR5_PLG_PLS_PLT_PLW_PPR_PR_PRG_PRT_PRW_VL_VR</td><td>1                                                                                       </td><td> 48                                                                                     </td><td>0.020833333                                                                             </td></tr>\n",
       "\t<tr><td>GL_GR_P_PDL1_PDL2_PDL3_PDR1_PDR2_PDR3_PFB_PLG_PLL_PLS_PLT_PLW_PPR_PR_PRG_PRT_PRW_VL_VR  </td><td>1                                                                                       </td><td> 49                                                                                     </td><td>0.020408163                                                                             </td></tr>\n",
       "\t<tr><td>GL_GR_P_PDL1_PDL2_PDL3_PDL4_PDR1_PDR2_PDR3_PLG_PLS_PLT_PLW_PPR_PR_PRG_PRT_PRW_VL_VRi_VRo</td><td>1                                                                                       </td><td> 52                                                                                     </td><td>0.019230769                                                                             </td></tr>\n",
       "\t<tr><td>GL_GR_P_PDL1_PDL2_PDL3_PDR1_PDR2_PDR3_PLG_PLL_PLS_PLT_PLW_PPR_PR_PRG_PRT_PRW_VLi_VLo_VR </td><td>2                                                                                       </td><td>115                                                                                     </td><td>0.017391304                                                                             </td></tr>\n",
       "\t<tr><td>GL_GR_P_PDL1_PDL2_PDL3_PDR1_PDR2_PLG_PLL1_PLL2_PLR_PLS_PLT_PLW_PPR_PR_PRG_PRT_PRW_VL_VR </td><td>1                                                                                       </td><td> 69                                                                                     </td><td>0.014492754                                                                             </td></tr>\n",
       "\t<tr><td>GL_GR_P_PDL1_PDL2_PDL3_PDR1_PDR2_PDR3_PLG_PLS_PLT_PLW_PPL_PR_PRG_PRT_PRW_VLi_VLo_VRi_VRo</td><td>3                                                                                       </td><td>216                                                                                     </td><td>0.013888889                                                                             </td></tr>\n",
       "\t<tr><td>GL_GR_P_PDL1_PDL2_PDL3_PDR1_PDR2_PLG_PLL_PLR1_PLR2_PLS_PLT_PLW_PPL_PR_PRG_PRT_PRW_VL_VR </td><td>1                                                                                       </td><td> 75                                                                                     </td><td>0.013333333                                                                             </td></tr>\n",
       "\t<tr><td>GL_GR_P_PDL1_PDL2_PDL3_PDR1_PDR2_PLG_PLR_PLS_PLT_PLW_PPL_PR_PRG_PRT_PRW_VLi_VLo_VRi_VRo </td><td>1                                                                                       </td><td> 87                                                                                     </td><td>0.011494253                                                                             </td></tr>\n",
       "\t<tr><td>GL_GR_P_PDL1_PDL2_PDL3_PDR1_PDR2_PLG_PLL_PLM_PLR_PLS_PLT_PLW_PPR_PR_PRG_PRT_PRW_VL_VR   </td><td>1                                                                                       </td><td> 94                                                                                     </td><td>0.010638298                                                                             </td></tr>\n",
       "\t<tr><td>GL_GR_P_PDL1_PDL2_PDL3_PDR1_PDR2_PDR3_PLG_PLL_PLR_PLS_PLT_PLW_PPL_PR_PRG_PRT_PRW_VL_VR  </td><td>2                                                                                       </td><td>258                                                                                     </td><td>0.007751938                                                                             </td></tr>\n",
       "\t<tr><td>GL_GR_P_PDL1_PDL2_PDR1_PDR2_PDR3_PLG_PLL_PLS_PLT_PLW_PPR_PR_PRG_PRT_PRW_VLi_VLo_VRi_VRo </td><td>1                                                                                       </td><td>140                                                                                     </td><td>0.007142857                                                                             </td></tr>\n",
       "\t<tr><td>GL_GR_P_PDL1_PDL2_PDL3_PDL4_PDR1_PDR2_PDR3_PDR4_PLG_PLS_PLT_PLW_PPR_PR_PRG_PRT_PRW_VL_VR</td><td>2                                                                                       </td><td>370                                                                                     </td><td>0.005405405                                                                             </td></tr>\n",
       "\t<tr><td>GL_GR_P_PDL1_PDL2_PDL3_PDR1_PDR2_PDR3_PLG_PLL_PLR_PLS_PLT_PLW_PPR_PR_PRG_PRT_PRW_VL_VR  </td><td>1                                                                                       </td><td>341                                                                                     </td><td>0.002932551                                                                             </td></tr>\n",
       "\t<tr><td>GL_GL_GR_P_PDL1_PDL2_PDL3_PDR1_PDR2_PDR3_PLG_PLL_PLR_PLS_PLT_PLW_PPR_PR_PRG_PRT_PRW_VL  </td><td>0                                                                                       </td><td>  1                                                                                     </td><td>0.000000000                                                                             </td></tr>\n",
       "\t<tr><td>...</td><td>...</td><td>...</td><td>...</td></tr>\n",
       "\t<tr><td>GLi_GLo_GRi_GRo_P_PDL1_PDL2_PDL3_PDR1_PDR2_PLG_PLR_PLS_PLT_PPL_PR_PRG_PRT_VLi_VLo_VRi_VRo         </td><td>0                                                                                                 </td><td>1                                                                                                 </td><td>0                                                                                                 </td></tr>\n",
       "\t<tr><td>GLi_GLo_GRi_GRo_P_PDL1_PDL2_PDR1_PDR2_PDR3_PLG_PLM_PLS_PLT_PPL_PR_PRG_PRT_VLi_VLo_VRi_VRo         </td><td>0                                                                                                 </td><td>1                                                                                                 </td><td>0                                                                                                 </td></tr>\n",
       "\t<tr><td>GLi_GLo_GRi_GRo_P_PDL1_PDL2_PDR1_PDR2_PDR3_PLG_PLR_PLS_PLT_PPL_PR_PRG_PRT_VLi_VLo_VRi_VRo         </td><td>0                                                                                                 </td><td>1                                                                                                 </td><td>0                                                                                                 </td></tr>\n",
       "\t<tr><td>GLi_GLo_GRi_GRo_P_PDL1_PDL2_PDR1_PDR2_PLG_PLL_PLR_PLS_PLT_PPL_PR_PRG_PRT_VLi_VLo_VRi_VRo          </td><td>0                                                                                                 </td><td>1                                                                                                 </td><td>0                                                                                                 </td></tr>\n",
       "\t<tr><td>GLi_GLo_P_PDL1_PDL2_PDL3_PDL4_PDR1_PDR2_PDR3_PLG_PLL_PLS_PLT_PLW_PPR_PR_PRG_PRT_PRW_VRi_VRo       </td><td>0                                                                                                 </td><td>1                                                                                                 </td><td>0                                                                                                 </td></tr>\n",
       "\t<tr><td>GLi_GLo_P_PDL1_PDL2_PDL3_PDM_PDR1_PDR2_PLG_PLL_PLR_PLS_PLT_PLW_PPR_PR_PRG_PRT_PRW_VRi_VRo         </td><td>0                                                                                                 </td><td>1                                                                                                 </td><td>0                                                                                                 </td></tr>\n",
       "\t<tr><td>GLi_GLo_P_PDL1_PDL2_PDL3_PDR1_PDR2_PDR3_PLG_PLL_PLR_PLS_PLT_PLW_PPR_PR_PRG_PRT_PRW_VRi_VRo        </td><td>0                                                                                                 </td><td>1                                                                                                 </td><td>0                                                                                                 </td></tr>\n",
       "\t<tr><td>GLi_GLo_P_PDL1_PDL2_PDL3_PDR1_PDR2_PDR3_PLG_PLL1_PLL2_PLS_PLT_PLW_PPR_PR_PRG_PRT_PRW_VRi_VRo      </td><td>0                                                                                                 </td><td>1                                                                                                 </td><td>0                                                                                                 </td></tr>\n",
       "\t<tr><td>GLi_GLo_P_PDL1_PDL2_PDL3_PDR1_PDR2_PDR3_PLG_PLR1_PLR2_PLS_PLT_PLW_PPL_PR_PRG_PRT_PRW_VRi_VRo      </td><td>0                                                                                                 </td><td>1                                                                                                 </td><td>0                                                                                                 </td></tr>\n",
       "\t<tr><td>GLi_GLo_P_PDL1_PDL2_PDL3_PDR1_PDR2_PLG_PLL_PLM_PLR_PLS_PLT_PLW_PPL_PR_PRG_PRT_PRW_VRi_VRo         </td><td>0                                                                                                 </td><td>1                                                                                                 </td><td>0                                                                                                 </td></tr>\n",
       "\t<tr><td>GLi_GLo_P_PDL1_PDL2_PDL3_PDR1_PDR2_PLG_PLL_PLM_PLS_PLT_PLW_PPR_PR_PRG_PRT_PRW_VR_VRi_VRo          </td><td>0                                                                                                 </td><td>1                                                                                                 </td><td>0                                                                                                 </td></tr>\n",
       "\t<tr><td>GLi_GLo_P_PDL1_PDL2_PDL3_PDR1_PDR2_PLG_PLL_PLR1_PLR2_PLS_PLT_PLW_PPL_PR_PRG_PRT_PRW_VRi_VRo       </td><td>0                                                                                                 </td><td>1                                                                                                 </td><td>0                                                                                                 </td></tr>\n",
       "\t<tr><td>GLi_GLo_P_PDL1_PDL2_PDR1_PDR2_PDR3_PLG_PLL1_PLL2_PLR_PLS_PLT_PLW_PPR_PR_PRG_PRT_PRW_VRi_VRo       </td><td>0                                                                                                 </td><td>1                                                                                                 </td><td>0                                                                                                 </td></tr>\n",
       "\t<tr><td>GLi_GLo_P_PDL1_PDR1_PDR2_PDR3_PFB_PLG_PLM_PLR1_PLR2_PLS_PLT_PLW_PPL_PR_PRG_PRT_PRW_VRi_VRo        </td><td>0                                                                                                 </td><td>1                                                                                                 </td><td>0                                                                                                 </td></tr>\n",
       "\t<tr><td>GLi_GR_P_PDL1_PDL2_PDR1_PDR2_PDR3_PLG_PLR_PLS_PLT_PLW_PPR_PR_PRG_PRT_PRW_VLi_VLo_VRi_VRo          </td><td>0                                                                                                 </td><td>1                                                                                                 </td><td>0                                                                                                 </td></tr>\n",
       "\t<tr><td>GR_GRi_GRo_P_PDL1_PDL2_PDL3_PDL4_PDL5_PDR1_PDR2_PLG_PLR1_PLR2_PLS_PLT_PLW_PPL_PR_PRG_PRT_VL       </td><td>0                                                                                                 </td><td>1                                                                                                 </td><td>0                                                                                                 </td></tr>\n",
       "\t<tr><td>GR_P_PDL1_PDL2_PDL3_PDL4_PDR1_PDR2_PDR3_PDR4_PDR5_PDR6_PLG_PLS_PLT_PLW_PPLi_PPLo_PR_PRG_PRT_PRW   </td><td>0                                                                                                 </td><td>1                                                                                                 </td><td>0                                                                                                 </td></tr>\n",
       "\t<tr><td>GRi_GRo_P_PDL1_PDL2_PDL3_PDM_PDR1_PDR2_PDR3_PDR4_PLG_PLS_PLT_PLW_PPL_PR_PRG_PRT_PRW_VLi_VLo       </td><td>0                                                                                                 </td><td>1                                                                                                 </td><td>0                                                                                                 </td></tr>\n",
       "\t<tr><td>GRi_GRo_P_PDL1_PDL2_PDL3_PDR1_PDR2_PDR3_PDR4_PLG_PLR_PLS_PLT_PLW_PPL_PR_PRG_PRT_PRW_VLi_VLo       </td><td>0                                                                                                 </td><td>2                                                                                                 </td><td>0                                                                                                 </td></tr>\n",
       "\t<tr><td>GRi_GRo_P_PDL1_PDL2_PDL3_PDR1_PDR2_PDR3_PLG_PLR_PLS_PLT_PLW_PPR_PR_PRG_PRT_PRW_VL_VLi_VLo         </td><td>0                                                                                                 </td><td>3                                                                                                 </td><td>0                                                                                                 </td></tr>\n",
       "\t<tr><td>GRi_GRo_P_PDL1_PDL2_PDL3_PDR1_PDR2_PLG_PLR1_PLR2_PLS_PLT_PLW_PPL_PR_PRG_PRT_PRW_VLi_VLo_VR        </td><td>0                                                                                                 </td><td>1                                                                                                 </td><td>0                                                                                                 </td></tr>\n",
       "\t<tr><td>GRi_GRo_P_PDL1_PDL2_PDR1_PDR2_PDR3_PLG_PLL_PLM_PLR_PLS_PLT_PLW_PPL_PR_PRG_PRT_PRW_VLi_VLo         </td><td>0                                                                                                 </td><td>1                                                                                                 </td><td>0                                                                                                 </td></tr>\n",
       "\t<tr><td>GRi_GRo_P_PDL1_PDL2_PDR1_PDR2_PDR3_PLG_PLL1_PLL2_PLS_PLT_PLW_PPL_PR_PRG_PRT_PRW_VL_VLi_VLo        </td><td>0                                                                                                 </td><td>1                                                                                                 </td><td>0                                                                                                 </td></tr>\n",
       "\t<tr><td>GRi_GRo_P_PDL1_PDL2_PDR1_PDR2_PDR3_PLG_PLM_PLR1_PLR2_PLS_PLT_PLW_PPL_PR_PRG_PRT_PRW_VLi_VLo       </td><td>0                                                                                                 </td><td>1                                                                                                 </td><td>0                                                                                                 </td></tr>\n",
       "\t<tr><td>GRi_GRo_P_PDL1_PDL2_PDR1_PDR2_PLG_PLL_PLR1_PLR2_PLR3_PLS_PLT_PLW_PPL_PR_PRG_PRT_PRW_VLi_VLo       </td><td>0                                                                                                 </td><td>1                                                                                                 </td><td>0                                                                                                 </td></tr>\n",
       "\t<tr><td>P                                                                                                 </td><td>0                                                                                                 </td><td>1                                                                                                 </td><td>0                                                                                                 </td></tr>\n",
       "\t<tr><td>P_PDL1_PDL2_PDL3_PDL4_PDL5_PDR1_PDR2_PDR3_PDR4_PDR5_PDR6_PLG_PLS_PLT_PLW_PPL_PPRi_PPRo_PRG_PRT_PRW</td><td>0                                                                                                 </td><td>1                                                                                                 </td><td>0                                                                                                 </td></tr>\n",
       "\t<tr><td>P_PDL1_PDL2_PDL3_PDL4_PDL5_PDR1_PDR2_PDR3_PDR4_PDR5_PLG_PLS_PLT_PLW_PPL_PPRi_PPRo_PR_PRG_PRT_PRW  </td><td>0                                                                                                 </td><td>1                                                                                                 </td><td>0                                                                                                 </td></tr>\n",
       "\t<tr><td>P_PDL1_PDL2_PDL3_PDL4_PDL5_PDR1_PDR2_PDR3_PDR4_PDR5_PLG_PLS_PLT_PLW_PPLi_PPLo_PPR_PR_PRG_PRT_PRW  </td><td>0                                                                                                 </td><td>2                                                                                                 </td><td>0                                                                                                 </td></tr>\n",
       "\t<tr><td>P_PDL1_PDL2_PDL3_PDL4_PDR1_PDR2_PLG_PLL_PLR1_PLR2_PLS_PLT_PLW_PPLi_PPLo_PR_PRG_PRT_PRW_VR         </td><td>0                                                                                                 </td><td>1                                                                                                 </td><td>0                                                                                                 </td></tr>\n",
       "</tbody>\n",
       "</table>\n"
      ],
      "text/latex": [
       "\\begin{tabular}{r|llll}\n",
       " formation & Injury\\_Count & Total\\_Count & Mean\\\\\n",
       "\\hline\n",
       "\t GL\\_GR\\_P\\_PDL1\\_PDL2\\_PDR1\\_PDR2\\_PDR3\\_PFB\\_PLG\\_PLM\\_PLS\\_PLT\\_PLW\\_PPL\\_PR\\_PRG\\_PRT\\_PRW\\_VL\\_VRi\\_VRo   & 1                                                                                                                                  &   1                                                                                                                                & 1.000000000                                                                                                                       \\\\\n",
       "\t GL\\_GR\\_P\\_PDL1\\_PDL2\\_PDR1\\_PDR2\\_PDR3\\_PLG\\_PLL\\_PLS\\_PLT\\_PLW\\_PPR\\_PR\\_PRG\\_PRT\\_PRW\\_VLi\\_VLo\\_VRi      & 1                                                                                                                                &   1                                                                                                                              & 1.000000000                                                                                                                     \\\\\n",
       "\t GL\\_GR\\_P\\_PDL1\\_PDL2\\_PDL3\\_PDR1\\_PDR2\\_PLG\\_PLL1\\_PLL2\\_PLS\\_PLT\\_PLW\\_PPL\\_PR\\_PRG\\_PRT\\_PRW\\_VL\\_VRi\\_VRo & 1                                                                                                                                  &   2                                                                                                                                & 0.500000000                                                                                                                       \\\\\n",
       "\t GL\\_GR\\_P\\_PDL1\\_PDL2\\_PDL3\\_PDR1\\_PDR2\\_PFB\\_PLG\\_PLR\\_PLS\\_PLT\\_PLW\\_PPR\\_PR\\_PRG\\_PRT\\_PRW\\_VL\\_VRi\\_VRo   & 1                                                                                                                                  &   4                                                                                                                                & 0.250000000                                                                                                                       \\\\\n",
       "\t GL\\_GR\\_P\\_PDL1\\_PDL2\\_PDR1\\_PDR2\\_PDR3\\_PDR4\\_PLG\\_PLL1\\_PLL2\\_PLS\\_PLT\\_PLW\\_PPR\\_PR\\_PRG\\_PRT\\_PRW\\_VL\\_VR & 1                                                                                                                                  &   5                                                                                                                                & 0.200000000                                                                                                                       \\\\\n",
       "\t GL\\_GR\\_P\\_PDL1\\_PDL2\\_PDL3\\_PDR1\\_PDR2\\_PLG\\_PLR1\\_PLR2\\_PLS\\_PLT\\_PLW\\_PPR\\_PR\\_PRG\\_PRT\\_PRW\\_VLi\\_VLo\\_VR & 1                                                                                                                                  &  11                                                                                                                                & 0.090909091                                                                                                                       \\\\\n",
       "\t GL\\_GR\\_P\\_PDL1\\_PDL2\\_PDR1\\_PDR2\\_PDR3\\_PLG\\_PLR\\_PLS\\_PLT\\_PLW\\_PPR\\_PR\\_PRG\\_PRT\\_PRW\\_VLi\\_VLo\\_VRi\\_VRo  & 1                                                                                                                                  &  17                                                                                                                                & 0.058823529                                                                                                                       \\\\\n",
       "\t GL\\_GR\\_P\\_PDL1\\_PDL2\\_PDR1\\_PDR2\\_PDR3\\_PLG\\_PLM\\_PLS\\_PLT\\_PLW\\_PPR\\_PR\\_PRG\\_PRT\\_PRW\\_VLi\\_VLo\\_VRi\\_VRo  & 2                                                                                                                                  &  35                                                                                                                                & 0.057142857                                                                                                                       \\\\\n",
       "\t GL\\_GR\\_P\\_PDL1\\_PDL2\\_PDL3\\_PDR1\\_PDR2\\_PDR3\\_PLG\\_PLL\\_PLM\\_PLS\\_PLT\\_PLW\\_PPR\\_PR\\_PRG\\_PRT\\_PRW\\_VL\\_VR   & 1                                                                                                                                  &  18                                                                                                                                & 0.055555556                                                                                                                       \\\\\n",
       "\t GL\\_GR\\_P\\_PDL1\\_PDL2\\_PDL3\\_PDR1\\_PDR2\\_PDR3\\_PDR4\\_PLG\\_PLS\\_PLT\\_PLW\\_PPL\\_PR\\_PRG\\_PRT\\_PRW\\_VL\\_VRi\\_VRo & 1                                                                                                                                  &  19                                                                                                                                & 0.052631579                                                                                                                       \\\\\n",
       "\t GL\\_GR\\_P\\_PDL1\\_PDL2\\_PDL3\\_PDR1\\_PDR2\\_PLG\\_PLL\\_PLS\\_PLT\\_PLW\\_PPR\\_PR\\_PRG\\_PRT\\_PRW\\_VLi\\_VLo\\_VRi\\_VRo  & 3                                                                                                                                  &  73                                                                                                                                & 0.041095890                                                                                                                       \\\\\n",
       "\t GL\\_GR\\_P\\_PDL1\\_PDL2\\_PDL3\\_PDL4\\_PDR1\\_PDR2\\_PDR3\\_PLG\\_PLS\\_PLT\\_PLW\\_PPR\\_PR\\_PRG\\_PRT\\_PRW\\_VLi\\_VLo\\_VR & 1                                                                                                                                  &  30                                                                                                                                & 0.033333333                                                                                                                       \\\\\n",
       "\t GL\\_GR\\_P\\_PDL1\\_PDL2\\_PDL3\\_PDR1\\_PDR2\\_PDR3\\_PLG\\_PLM\\_PLS\\_PLT\\_PLW\\_PPR\\_PR\\_PRG\\_PRT\\_PRW\\_VLi\\_VLo\\_VR  & 1                                                                                                                                  &  35                                                                                                                                & 0.028571429                                                                                                                       \\\\\n",
       "\t GL\\_GR\\_P\\_PDL1\\_PDL2\\_PDL3\\_PDL4\\_PDR1\\_PDR2\\_PDR3\\_PLG\\_PLL\\_PLS\\_PLT\\_PLW\\_PPR\\_PR\\_PRG\\_PRT\\_PRW\\_VL\\_VR  & 1                                                                                                                                  &  39                                                                                                                                & 0.025641026                                                                                                                       \\\\\n",
       "\t GL\\_GR\\_P\\_PDL1\\_PDL2\\_PDL3\\_PDR1\\_PDR2\\_PDR3\\_PLG\\_PLR\\_PLS\\_PLT\\_PLW\\_PPR\\_PR\\_PRG\\_PRT\\_PRW\\_VL\\_VRi\\_VRo  & 1                                                                                                                                  &  46                                                                                                                                & 0.021739130                                                                                                                       \\\\\n",
       "\t GL\\_GR\\_P\\_PDL1\\_PDL2\\_PDR1\\_PDR2\\_PDR3\\_PLG\\_PLR\\_PLS\\_PLT\\_PLW\\_PPL\\_PR\\_PRG\\_PRT\\_PRW\\_VLi\\_VLo\\_VRi\\_VRo  & 1                                                                                                                                  &  46                                                                                                                                & 0.021739130                                                                                                                       \\\\\n",
       "\t GL\\_GR\\_P\\_PDL1\\_PDL2\\_PDL3\\_PDR1\\_PDR2\\_PDR3\\_PDR4\\_PDR5\\_PLG\\_PLS\\_PLT\\_PLW\\_PPR\\_PR\\_PRG\\_PRT\\_PRW\\_VL\\_VR & 1                                                                                                                                  &  48                                                                                                                                & 0.020833333                                                                                                                       \\\\\n",
       "\t GL\\_GR\\_P\\_PDL1\\_PDL2\\_PDL3\\_PDR1\\_PDR2\\_PDR3\\_PFB\\_PLG\\_PLL\\_PLS\\_PLT\\_PLW\\_PPR\\_PR\\_PRG\\_PRT\\_PRW\\_VL\\_VR   & 1                                                                                                                                  &  49                                                                                                                                & 0.020408163                                                                                                                       \\\\\n",
       "\t GL\\_GR\\_P\\_PDL1\\_PDL2\\_PDL3\\_PDL4\\_PDR1\\_PDR2\\_PDR3\\_PLG\\_PLS\\_PLT\\_PLW\\_PPR\\_PR\\_PRG\\_PRT\\_PRW\\_VL\\_VRi\\_VRo & 1                                                                                                                                  &  52                                                                                                                                & 0.019230769                                                                                                                       \\\\\n",
       "\t GL\\_GR\\_P\\_PDL1\\_PDL2\\_PDL3\\_PDR1\\_PDR2\\_PDR3\\_PLG\\_PLL\\_PLS\\_PLT\\_PLW\\_PPR\\_PR\\_PRG\\_PRT\\_PRW\\_VLi\\_VLo\\_VR  & 2                                                                                                                                  & 115                                                                                                                                & 0.017391304                                                                                                                       \\\\\n",
       "\t GL\\_GR\\_P\\_PDL1\\_PDL2\\_PDL3\\_PDR1\\_PDR2\\_PLG\\_PLL1\\_PLL2\\_PLR\\_PLS\\_PLT\\_PLW\\_PPR\\_PR\\_PRG\\_PRT\\_PRW\\_VL\\_VR  & 1                                                                                                                                  &  69                                                                                                                                & 0.014492754                                                                                                                       \\\\\n",
       "\t GL\\_GR\\_P\\_PDL1\\_PDL2\\_PDL3\\_PDR1\\_PDR2\\_PDR3\\_PLG\\_PLS\\_PLT\\_PLW\\_PPL\\_PR\\_PRG\\_PRT\\_PRW\\_VLi\\_VLo\\_VRi\\_VRo & 3                                                                                                                                  & 216                                                                                                                                & 0.013888889                                                                                                                       \\\\\n",
       "\t GL\\_GR\\_P\\_PDL1\\_PDL2\\_PDL3\\_PDR1\\_PDR2\\_PLG\\_PLL\\_PLR1\\_PLR2\\_PLS\\_PLT\\_PLW\\_PPL\\_PR\\_PRG\\_PRT\\_PRW\\_VL\\_VR  & 1                                                                                                                                  &  75                                                                                                                                & 0.013333333                                                                                                                       \\\\\n",
       "\t GL\\_GR\\_P\\_PDL1\\_PDL2\\_PDL3\\_PDR1\\_PDR2\\_PLG\\_PLR\\_PLS\\_PLT\\_PLW\\_PPL\\_PR\\_PRG\\_PRT\\_PRW\\_VLi\\_VLo\\_VRi\\_VRo  & 1                                                                                                                                  &  87                                                                                                                                & 0.011494253                                                                                                                       \\\\\n",
       "\t GL\\_GR\\_P\\_PDL1\\_PDL2\\_PDL3\\_PDR1\\_PDR2\\_PLG\\_PLL\\_PLM\\_PLR\\_PLS\\_PLT\\_PLW\\_PPR\\_PR\\_PRG\\_PRT\\_PRW\\_VL\\_VR    & 1                                                                                                                                  &  94                                                                                                                                & 0.010638298                                                                                                                       \\\\\n",
       "\t GL\\_GR\\_P\\_PDL1\\_PDL2\\_PDL3\\_PDR1\\_PDR2\\_PDR3\\_PLG\\_PLL\\_PLR\\_PLS\\_PLT\\_PLW\\_PPL\\_PR\\_PRG\\_PRT\\_PRW\\_VL\\_VR   & 2                                                                                                                                  & 258                                                                                                                                & 0.007751938                                                                                                                       \\\\\n",
       "\t GL\\_GR\\_P\\_PDL1\\_PDL2\\_PDR1\\_PDR2\\_PDR3\\_PLG\\_PLL\\_PLS\\_PLT\\_PLW\\_PPR\\_PR\\_PRG\\_PRT\\_PRW\\_VLi\\_VLo\\_VRi\\_VRo  & 1                                                                                                                                  & 140                                                                                                                                & 0.007142857                                                                                                                       \\\\\n",
       "\t GL\\_GR\\_P\\_PDL1\\_PDL2\\_PDL3\\_PDL4\\_PDR1\\_PDR2\\_PDR3\\_PDR4\\_PLG\\_PLS\\_PLT\\_PLW\\_PPR\\_PR\\_PRG\\_PRT\\_PRW\\_VL\\_VR & 2                                                                                                                                  & 370                                                                                                                                & 0.005405405                                                                                                                       \\\\\n",
       "\t GL\\_GR\\_P\\_PDL1\\_PDL2\\_PDL3\\_PDR1\\_PDR2\\_PDR3\\_PLG\\_PLL\\_PLR\\_PLS\\_PLT\\_PLW\\_PPR\\_PR\\_PRG\\_PRT\\_PRW\\_VL\\_VR   & 1                                                                                                                                  & 341                                                                                                                                & 0.002932551                                                                                                                       \\\\\n",
       "\t GL\\_GL\\_GR\\_P\\_PDL1\\_PDL2\\_PDL3\\_PDR1\\_PDR2\\_PDR3\\_PLG\\_PLL\\_PLR\\_PLS\\_PLT\\_PLW\\_PPR\\_PR\\_PRG\\_PRT\\_PRW\\_VL   & 0                                                                                                                                  &   1                                                                                                                                & 0.000000000                                                                                                                       \\\\\n",
       "\t ... & ... & ... & ...\\\\\n",
       "\t GLi\\_GLo\\_GRi\\_GRo\\_P\\_PDL1\\_PDL2\\_PDL3\\_PDR1\\_PDR2\\_PLG\\_PLR\\_PLS\\_PLT\\_PPL\\_PR\\_PRG\\_PRT\\_VLi\\_VLo\\_VRi\\_VRo          & 0                                                                                                                                            & 1                                                                                                                                            & 0                                                                                                                                           \\\\\n",
       "\t GLi\\_GLo\\_GRi\\_GRo\\_P\\_PDL1\\_PDL2\\_PDR1\\_PDR2\\_PDR3\\_PLG\\_PLM\\_PLS\\_PLT\\_PPL\\_PR\\_PRG\\_PRT\\_VLi\\_VLo\\_VRi\\_VRo          & 0                                                                                                                                            & 1                                                                                                                                            & 0                                                                                                                                           \\\\\n",
       "\t GLi\\_GLo\\_GRi\\_GRo\\_P\\_PDL1\\_PDL2\\_PDR1\\_PDR2\\_PDR3\\_PLG\\_PLR\\_PLS\\_PLT\\_PPL\\_PR\\_PRG\\_PRT\\_VLi\\_VLo\\_VRi\\_VRo          & 0                                                                                                                                            & 1                                                                                                                                            & 0                                                                                                                                           \\\\\n",
       "\t GLi\\_GLo\\_GRi\\_GRo\\_P\\_PDL1\\_PDL2\\_PDR1\\_PDR2\\_PLG\\_PLL\\_PLR\\_PLS\\_PLT\\_PPL\\_PR\\_PRG\\_PRT\\_VLi\\_VLo\\_VRi\\_VRo           & 0                                                                                                                                            & 1                                                                                                                                            & 0                                                                                                                                           \\\\\n",
       "\t GLi\\_GLo\\_P\\_PDL1\\_PDL2\\_PDL3\\_PDL4\\_PDR1\\_PDR2\\_PDR3\\_PLG\\_PLL\\_PLS\\_PLT\\_PLW\\_PPR\\_PR\\_PRG\\_PRT\\_PRW\\_VRi\\_VRo        & 0                                                                                                                                            & 1                                                                                                                                            & 0                                                                                                                                           \\\\\n",
       "\t GLi\\_GLo\\_P\\_PDL1\\_PDL2\\_PDL3\\_PDM\\_PDR1\\_PDR2\\_PLG\\_PLL\\_PLR\\_PLS\\_PLT\\_PLW\\_PPR\\_PR\\_PRG\\_PRT\\_PRW\\_VRi\\_VRo          & 0                                                                                                                                            & 1                                                                                                                                            & 0                                                                                                                                           \\\\\n",
       "\t GLi\\_GLo\\_P\\_PDL1\\_PDL2\\_PDL3\\_PDR1\\_PDR2\\_PDR3\\_PLG\\_PLL\\_PLR\\_PLS\\_PLT\\_PLW\\_PPR\\_PR\\_PRG\\_PRT\\_PRW\\_VRi\\_VRo         & 0                                                                                                                                            & 1                                                                                                                                            & 0                                                                                                                                           \\\\\n",
       "\t GLi\\_GLo\\_P\\_PDL1\\_PDL2\\_PDL3\\_PDR1\\_PDR2\\_PDR3\\_PLG\\_PLL1\\_PLL2\\_PLS\\_PLT\\_PLW\\_PPR\\_PR\\_PRG\\_PRT\\_PRW\\_VRi\\_VRo       & 0                                                                                                                                            & 1                                                                                                                                            & 0                                                                                                                                           \\\\\n",
       "\t GLi\\_GLo\\_P\\_PDL1\\_PDL2\\_PDL3\\_PDR1\\_PDR2\\_PDR3\\_PLG\\_PLR1\\_PLR2\\_PLS\\_PLT\\_PLW\\_PPL\\_PR\\_PRG\\_PRT\\_PRW\\_VRi\\_VRo       & 0                                                                                                                                            & 1                                                                                                                                            & 0                                                                                                                                           \\\\\n",
       "\t GLi\\_GLo\\_P\\_PDL1\\_PDL2\\_PDL3\\_PDR1\\_PDR2\\_PLG\\_PLL\\_PLM\\_PLR\\_PLS\\_PLT\\_PLW\\_PPL\\_PR\\_PRG\\_PRT\\_PRW\\_VRi\\_VRo          & 0                                                                                                                                            & 1                                                                                                                                            & 0                                                                                                                                           \\\\\n",
       "\t GLi\\_GLo\\_P\\_PDL1\\_PDL2\\_PDL3\\_PDR1\\_PDR2\\_PLG\\_PLL\\_PLM\\_PLS\\_PLT\\_PLW\\_PPR\\_PR\\_PRG\\_PRT\\_PRW\\_VR\\_VRi\\_VRo           & 0                                                                                                                                            & 1                                                                                                                                            & 0                                                                                                                                           \\\\\n",
       "\t GLi\\_GLo\\_P\\_PDL1\\_PDL2\\_PDL3\\_PDR1\\_PDR2\\_PLG\\_PLL\\_PLR1\\_PLR2\\_PLS\\_PLT\\_PLW\\_PPL\\_PR\\_PRG\\_PRT\\_PRW\\_VRi\\_VRo        & 0                                                                                                                                            & 1                                                                                                                                            & 0                                                                                                                                           \\\\\n",
       "\t GLi\\_GLo\\_P\\_PDL1\\_PDL2\\_PDR1\\_PDR2\\_PDR3\\_PLG\\_PLL1\\_PLL2\\_PLR\\_PLS\\_PLT\\_PLW\\_PPR\\_PR\\_PRG\\_PRT\\_PRW\\_VRi\\_VRo        & 0                                                                                                                                            & 1                                                                                                                                            & 0                                                                                                                                           \\\\\n",
       "\t GLi\\_GLo\\_P\\_PDL1\\_PDR1\\_PDR2\\_PDR3\\_PFB\\_PLG\\_PLM\\_PLR1\\_PLR2\\_PLS\\_PLT\\_PLW\\_PPL\\_PR\\_PRG\\_PRT\\_PRW\\_VRi\\_VRo         & 0                                                                                                                                            & 1                                                                                                                                            & 0                                                                                                                                           \\\\\n",
       "\t GLi\\_GR\\_P\\_PDL1\\_PDL2\\_PDR1\\_PDR2\\_PDR3\\_PLG\\_PLR\\_PLS\\_PLT\\_PLW\\_PPR\\_PR\\_PRG\\_PRT\\_PRW\\_VLi\\_VLo\\_VRi\\_VRo           & 0                                                                                                                                            & 1                                                                                                                                            & 0                                                                                                                                           \\\\\n",
       "\t GR\\_GRi\\_GRo\\_P\\_PDL1\\_PDL2\\_PDL3\\_PDL4\\_PDL5\\_PDR1\\_PDR2\\_PLG\\_PLR1\\_PLR2\\_PLS\\_PLT\\_PLW\\_PPL\\_PR\\_PRG\\_PRT\\_VL        & 0                                                                                                                                            & 1                                                                                                                                            & 0                                                                                                                                           \\\\\n",
       "\t GR\\_P\\_PDL1\\_PDL2\\_PDL3\\_PDL4\\_PDR1\\_PDR2\\_PDR3\\_PDR4\\_PDR5\\_PDR6\\_PLG\\_PLS\\_PLT\\_PLW\\_PPLi\\_PPLo\\_PR\\_PRG\\_PRT\\_PRW    & 0                                                                                                                                            & 1                                                                                                                                            & 0                                                                                                                                           \\\\\n",
       "\t GRi\\_GRo\\_P\\_PDL1\\_PDL2\\_PDL3\\_PDM\\_PDR1\\_PDR2\\_PDR3\\_PDR4\\_PLG\\_PLS\\_PLT\\_PLW\\_PPL\\_PR\\_PRG\\_PRT\\_PRW\\_VLi\\_VLo        & 0                                                                                                                                            & 1                                                                                                                                            & 0                                                                                                                                           \\\\\n",
       "\t GRi\\_GRo\\_P\\_PDL1\\_PDL2\\_PDL3\\_PDR1\\_PDR2\\_PDR3\\_PDR4\\_PLG\\_PLR\\_PLS\\_PLT\\_PLW\\_PPL\\_PR\\_PRG\\_PRT\\_PRW\\_VLi\\_VLo        & 0                                                                                                                                            & 2                                                                                                                                            & 0                                                                                                                                           \\\\\n",
       "\t GRi\\_GRo\\_P\\_PDL1\\_PDL2\\_PDL3\\_PDR1\\_PDR2\\_PDR3\\_PLG\\_PLR\\_PLS\\_PLT\\_PLW\\_PPR\\_PR\\_PRG\\_PRT\\_PRW\\_VL\\_VLi\\_VLo          & 0                                                                                                                                            & 3                                                                                                                                            & 0                                                                                                                                           \\\\\n",
       "\t GRi\\_GRo\\_P\\_PDL1\\_PDL2\\_PDL3\\_PDR1\\_PDR2\\_PLG\\_PLR1\\_PLR2\\_PLS\\_PLT\\_PLW\\_PPL\\_PR\\_PRG\\_PRT\\_PRW\\_VLi\\_VLo\\_VR         & 0                                                                                                                                            & 1                                                                                                                                            & 0                                                                                                                                           \\\\\n",
       "\t GRi\\_GRo\\_P\\_PDL1\\_PDL2\\_PDR1\\_PDR2\\_PDR3\\_PLG\\_PLL\\_PLM\\_PLR\\_PLS\\_PLT\\_PLW\\_PPL\\_PR\\_PRG\\_PRT\\_PRW\\_VLi\\_VLo          & 0                                                                                                                                            & 1                                                                                                                                            & 0                                                                                                                                           \\\\\n",
       "\t GRi\\_GRo\\_P\\_PDL1\\_PDL2\\_PDR1\\_PDR2\\_PDR3\\_PLG\\_PLL1\\_PLL2\\_PLS\\_PLT\\_PLW\\_PPL\\_PR\\_PRG\\_PRT\\_PRW\\_VL\\_VLi\\_VLo         & 0                                                                                                                                            & 1                                                                                                                                            & 0                                                                                                                                           \\\\\n",
       "\t GRi\\_GRo\\_P\\_PDL1\\_PDL2\\_PDR1\\_PDR2\\_PDR3\\_PLG\\_PLM\\_PLR1\\_PLR2\\_PLS\\_PLT\\_PLW\\_PPL\\_PR\\_PRG\\_PRT\\_PRW\\_VLi\\_VLo        & 0                                                                                                                                            & 1                                                                                                                                            & 0                                                                                                                                           \\\\\n",
       "\t GRi\\_GRo\\_P\\_PDL1\\_PDL2\\_PDR1\\_PDR2\\_PLG\\_PLL\\_PLR1\\_PLR2\\_PLR3\\_PLS\\_PLT\\_PLW\\_PPL\\_PR\\_PRG\\_PRT\\_PRW\\_VLi\\_VLo        & 0                                                                                                                                            & 1                                                                                                                                            & 0                                                                                                                                           \\\\\n",
       "\t P                                                                                                  & 0                                                                                                  & 1                                                                                                  & 0                                                                                                 \\\\\n",
       "\t P\\_PDL1\\_PDL2\\_PDL3\\_PDL4\\_PDL5\\_PDR1\\_PDR2\\_PDR3\\_PDR4\\_PDR5\\_PDR6\\_PLG\\_PLS\\_PLT\\_PLW\\_PPL\\_PPRi\\_PPRo\\_PRG\\_PRT\\_PRW & 0                                                                                                                                            & 1                                                                                                                                            & 0                                                                                                                                           \\\\\n",
       "\t P\\_PDL1\\_PDL2\\_PDL3\\_PDL4\\_PDL5\\_PDR1\\_PDR2\\_PDR3\\_PDR4\\_PDR5\\_PLG\\_PLS\\_PLT\\_PLW\\_PPL\\_PPRi\\_PPRo\\_PR\\_PRG\\_PRT\\_PRW   & 0                                                                                                                                            & 1                                                                                                                                            & 0                                                                                                                                           \\\\\n",
       "\t P\\_PDL1\\_PDL2\\_PDL3\\_PDL4\\_PDL5\\_PDR1\\_PDR2\\_PDR3\\_PDR4\\_PDR5\\_PLG\\_PLS\\_PLT\\_PLW\\_PPLi\\_PPLo\\_PPR\\_PR\\_PRG\\_PRT\\_PRW   & 0                                                                                                                                            & 2                                                                                                                                            & 0                                                                                                                                           \\\\\n",
       "\t P\\_PDL1\\_PDL2\\_PDL3\\_PDL4\\_PDR1\\_PDR2\\_PLG\\_PLL\\_PLR1\\_PLR2\\_PLS\\_PLT\\_PLW\\_PPLi\\_PPLo\\_PR\\_PRG\\_PRT\\_PRW\\_VR          & 0                                                                                                                                          & 1                                                                                                                                          & 0                                                                                                                                         \\\\\n",
       "\\end{tabular}\n"
      ],
      "text/markdown": [
       "\n",
       "| formation | Injury_Count | Total_Count | Mean |\n",
       "|---|---|---|---|\n",
       "| GL_GR_P_PDL1_PDL2_PDR1_PDR2_PDR3_PFB_PLG_PLM_PLS_PLT_PLW_PPL_PR_PRG_PRT_PRW_VL_VRi_VRo   | 1                                                                                        |   1                                                                                      | 1.000000000                                                                              |\n",
       "| GL_GR_P_PDL1_PDL2_PDR1_PDR2_PDR3_PLG_PLL_PLS_PLT_PLW_PPR_PR_PRG_PRT_PRW_VLi_VLo_VRi      | 1                                                                                        |   1                                                                                      | 1.000000000                                                                              |\n",
       "| GL_GR_P_PDL1_PDL2_PDL3_PDR1_PDR2_PLG_PLL1_PLL2_PLS_PLT_PLW_PPL_PR_PRG_PRT_PRW_VL_VRi_VRo | 1                                                                                        |   2                                                                                      | 0.500000000                                                                              |\n",
       "| GL_GR_P_PDL1_PDL2_PDL3_PDR1_PDR2_PFB_PLG_PLR_PLS_PLT_PLW_PPR_PR_PRG_PRT_PRW_VL_VRi_VRo   | 1                                                                                        |   4                                                                                      | 0.250000000                                                                              |\n",
       "| GL_GR_P_PDL1_PDL2_PDR1_PDR2_PDR3_PDR4_PLG_PLL1_PLL2_PLS_PLT_PLW_PPR_PR_PRG_PRT_PRW_VL_VR | 1                                                                                        |   5                                                                                      | 0.200000000                                                                              |\n",
       "| GL_GR_P_PDL1_PDL2_PDL3_PDR1_PDR2_PLG_PLR1_PLR2_PLS_PLT_PLW_PPR_PR_PRG_PRT_PRW_VLi_VLo_VR | 1                                                                                        |  11                                                                                      | 0.090909091                                                                              |\n",
       "| GL_GR_P_PDL1_PDL2_PDR1_PDR2_PDR3_PLG_PLR_PLS_PLT_PLW_PPR_PR_PRG_PRT_PRW_VLi_VLo_VRi_VRo  | 1                                                                                        |  17                                                                                      | 0.058823529                                                                              |\n",
       "| GL_GR_P_PDL1_PDL2_PDR1_PDR2_PDR3_PLG_PLM_PLS_PLT_PLW_PPR_PR_PRG_PRT_PRW_VLi_VLo_VRi_VRo  | 2                                                                                        |  35                                                                                      | 0.057142857                                                                              |\n",
       "| GL_GR_P_PDL1_PDL2_PDL3_PDR1_PDR2_PDR3_PLG_PLL_PLM_PLS_PLT_PLW_PPR_PR_PRG_PRT_PRW_VL_VR   | 1                                                                                        |  18                                                                                      | 0.055555556                                                                              |\n",
       "| GL_GR_P_PDL1_PDL2_PDL3_PDR1_PDR2_PDR3_PDR4_PLG_PLS_PLT_PLW_PPL_PR_PRG_PRT_PRW_VL_VRi_VRo | 1                                                                                        |  19                                                                                      | 0.052631579                                                                              |\n",
       "| GL_GR_P_PDL1_PDL2_PDL3_PDR1_PDR2_PLG_PLL_PLS_PLT_PLW_PPR_PR_PRG_PRT_PRW_VLi_VLo_VRi_VRo  | 3                                                                                        |  73                                                                                      | 0.041095890                                                                              |\n",
       "| GL_GR_P_PDL1_PDL2_PDL3_PDL4_PDR1_PDR2_PDR3_PLG_PLS_PLT_PLW_PPR_PR_PRG_PRT_PRW_VLi_VLo_VR | 1                                                                                        |  30                                                                                      | 0.033333333                                                                              |\n",
       "| GL_GR_P_PDL1_PDL2_PDL3_PDR1_PDR2_PDR3_PLG_PLM_PLS_PLT_PLW_PPR_PR_PRG_PRT_PRW_VLi_VLo_VR  | 1                                                                                        |  35                                                                                      | 0.028571429                                                                              |\n",
       "| GL_GR_P_PDL1_PDL2_PDL3_PDL4_PDR1_PDR2_PDR3_PLG_PLL_PLS_PLT_PLW_PPR_PR_PRG_PRT_PRW_VL_VR  | 1                                                                                        |  39                                                                                      | 0.025641026                                                                              |\n",
       "| GL_GR_P_PDL1_PDL2_PDL3_PDR1_PDR2_PDR3_PLG_PLR_PLS_PLT_PLW_PPR_PR_PRG_PRT_PRW_VL_VRi_VRo  | 1                                                                                        |  46                                                                                      | 0.021739130                                                                              |\n",
       "| GL_GR_P_PDL1_PDL2_PDR1_PDR2_PDR3_PLG_PLR_PLS_PLT_PLW_PPL_PR_PRG_PRT_PRW_VLi_VLo_VRi_VRo  | 1                                                                                        |  46                                                                                      | 0.021739130                                                                              |\n",
       "| GL_GR_P_PDL1_PDL2_PDL3_PDR1_PDR2_PDR3_PDR4_PDR5_PLG_PLS_PLT_PLW_PPR_PR_PRG_PRT_PRW_VL_VR | 1                                                                                        |  48                                                                                      | 0.020833333                                                                              |\n",
       "| GL_GR_P_PDL1_PDL2_PDL3_PDR1_PDR2_PDR3_PFB_PLG_PLL_PLS_PLT_PLW_PPR_PR_PRG_PRT_PRW_VL_VR   | 1                                                                                        |  49                                                                                      | 0.020408163                                                                              |\n",
       "| GL_GR_P_PDL1_PDL2_PDL3_PDL4_PDR1_PDR2_PDR3_PLG_PLS_PLT_PLW_PPR_PR_PRG_PRT_PRW_VL_VRi_VRo | 1                                                                                        |  52                                                                                      | 0.019230769                                                                              |\n",
       "| GL_GR_P_PDL1_PDL2_PDL3_PDR1_PDR2_PDR3_PLG_PLL_PLS_PLT_PLW_PPR_PR_PRG_PRT_PRW_VLi_VLo_VR  | 2                                                                                        | 115                                                                                      | 0.017391304                                                                              |\n",
       "| GL_GR_P_PDL1_PDL2_PDL3_PDR1_PDR2_PLG_PLL1_PLL2_PLR_PLS_PLT_PLW_PPR_PR_PRG_PRT_PRW_VL_VR  | 1                                                                                        |  69                                                                                      | 0.014492754                                                                              |\n",
       "| GL_GR_P_PDL1_PDL2_PDL3_PDR1_PDR2_PDR3_PLG_PLS_PLT_PLW_PPL_PR_PRG_PRT_PRW_VLi_VLo_VRi_VRo | 3                                                                                        | 216                                                                                      | 0.013888889                                                                              |\n",
       "| GL_GR_P_PDL1_PDL2_PDL3_PDR1_PDR2_PLG_PLL_PLR1_PLR2_PLS_PLT_PLW_PPL_PR_PRG_PRT_PRW_VL_VR  | 1                                                                                        |  75                                                                                      | 0.013333333                                                                              |\n",
       "| GL_GR_P_PDL1_PDL2_PDL3_PDR1_PDR2_PLG_PLR_PLS_PLT_PLW_PPL_PR_PRG_PRT_PRW_VLi_VLo_VRi_VRo  | 1                                                                                        |  87                                                                                      | 0.011494253                                                                              |\n",
       "| GL_GR_P_PDL1_PDL2_PDL3_PDR1_PDR2_PLG_PLL_PLM_PLR_PLS_PLT_PLW_PPR_PR_PRG_PRT_PRW_VL_VR    | 1                                                                                        |  94                                                                                      | 0.010638298                                                                              |\n",
       "| GL_GR_P_PDL1_PDL2_PDL3_PDR1_PDR2_PDR3_PLG_PLL_PLR_PLS_PLT_PLW_PPL_PR_PRG_PRT_PRW_VL_VR   | 2                                                                                        | 258                                                                                      | 0.007751938                                                                              |\n",
       "| GL_GR_P_PDL1_PDL2_PDR1_PDR2_PDR3_PLG_PLL_PLS_PLT_PLW_PPR_PR_PRG_PRT_PRW_VLi_VLo_VRi_VRo  | 1                                                                                        | 140                                                                                      | 0.007142857                                                                              |\n",
       "| GL_GR_P_PDL1_PDL2_PDL3_PDL4_PDR1_PDR2_PDR3_PDR4_PLG_PLS_PLT_PLW_PPR_PR_PRG_PRT_PRW_VL_VR | 2                                                                                        | 370                                                                                      | 0.005405405                                                                              |\n",
       "| GL_GR_P_PDL1_PDL2_PDL3_PDR1_PDR2_PDR3_PLG_PLL_PLR_PLS_PLT_PLW_PPR_PR_PRG_PRT_PRW_VL_VR   | 1                                                                                        | 341                                                                                      | 0.002932551                                                                              |\n",
       "| GL_GL_GR_P_PDL1_PDL2_PDL3_PDR1_PDR2_PDR3_PLG_PLL_PLR_PLS_PLT_PLW_PPR_PR_PRG_PRT_PRW_VL   | 0                                                                                        |   1                                                                                      | 0.000000000                                                                              |\n",
       "| ... | ... | ... | ... |\n",
       "| GLi_GLo_GRi_GRo_P_PDL1_PDL2_PDL3_PDR1_PDR2_PLG_PLR_PLS_PLT_PPL_PR_PRG_PRT_VLi_VLo_VRi_VRo          | 0                                                                                                  | 1                                                                                                  | 0                                                                                                  |\n",
       "| GLi_GLo_GRi_GRo_P_PDL1_PDL2_PDR1_PDR2_PDR3_PLG_PLM_PLS_PLT_PPL_PR_PRG_PRT_VLi_VLo_VRi_VRo          | 0                                                                                                  | 1                                                                                                  | 0                                                                                                  |\n",
       "| GLi_GLo_GRi_GRo_P_PDL1_PDL2_PDR1_PDR2_PDR3_PLG_PLR_PLS_PLT_PPL_PR_PRG_PRT_VLi_VLo_VRi_VRo          | 0                                                                                                  | 1                                                                                                  | 0                                                                                                  |\n",
       "| GLi_GLo_GRi_GRo_P_PDL1_PDL2_PDR1_PDR2_PLG_PLL_PLR_PLS_PLT_PPL_PR_PRG_PRT_VLi_VLo_VRi_VRo           | 0                                                                                                  | 1                                                                                                  | 0                                                                                                  |\n",
       "| GLi_GLo_P_PDL1_PDL2_PDL3_PDL4_PDR1_PDR2_PDR3_PLG_PLL_PLS_PLT_PLW_PPR_PR_PRG_PRT_PRW_VRi_VRo        | 0                                                                                                  | 1                                                                                                  | 0                                                                                                  |\n",
       "| GLi_GLo_P_PDL1_PDL2_PDL3_PDM_PDR1_PDR2_PLG_PLL_PLR_PLS_PLT_PLW_PPR_PR_PRG_PRT_PRW_VRi_VRo          | 0                                                                                                  | 1                                                                                                  | 0                                                                                                  |\n",
       "| GLi_GLo_P_PDL1_PDL2_PDL3_PDR1_PDR2_PDR3_PLG_PLL_PLR_PLS_PLT_PLW_PPR_PR_PRG_PRT_PRW_VRi_VRo         | 0                                                                                                  | 1                                                                                                  | 0                                                                                                  |\n",
       "| GLi_GLo_P_PDL1_PDL2_PDL3_PDR1_PDR2_PDR3_PLG_PLL1_PLL2_PLS_PLT_PLW_PPR_PR_PRG_PRT_PRW_VRi_VRo       | 0                                                                                                  | 1                                                                                                  | 0                                                                                                  |\n",
       "| GLi_GLo_P_PDL1_PDL2_PDL3_PDR1_PDR2_PDR3_PLG_PLR1_PLR2_PLS_PLT_PLW_PPL_PR_PRG_PRT_PRW_VRi_VRo       | 0                                                                                                  | 1                                                                                                  | 0                                                                                                  |\n",
       "| GLi_GLo_P_PDL1_PDL2_PDL3_PDR1_PDR2_PLG_PLL_PLM_PLR_PLS_PLT_PLW_PPL_PR_PRG_PRT_PRW_VRi_VRo          | 0                                                                                                  | 1                                                                                                  | 0                                                                                                  |\n",
       "| GLi_GLo_P_PDL1_PDL2_PDL3_PDR1_PDR2_PLG_PLL_PLM_PLS_PLT_PLW_PPR_PR_PRG_PRT_PRW_VR_VRi_VRo           | 0                                                                                                  | 1                                                                                                  | 0                                                                                                  |\n",
       "| GLi_GLo_P_PDL1_PDL2_PDL3_PDR1_PDR2_PLG_PLL_PLR1_PLR2_PLS_PLT_PLW_PPL_PR_PRG_PRT_PRW_VRi_VRo        | 0                                                                                                  | 1                                                                                                  | 0                                                                                                  |\n",
       "| GLi_GLo_P_PDL1_PDL2_PDR1_PDR2_PDR3_PLG_PLL1_PLL2_PLR_PLS_PLT_PLW_PPR_PR_PRG_PRT_PRW_VRi_VRo        | 0                                                                                                  | 1                                                                                                  | 0                                                                                                  |\n",
       "| GLi_GLo_P_PDL1_PDR1_PDR2_PDR3_PFB_PLG_PLM_PLR1_PLR2_PLS_PLT_PLW_PPL_PR_PRG_PRT_PRW_VRi_VRo         | 0                                                                                                  | 1                                                                                                  | 0                                                                                                  |\n",
       "| GLi_GR_P_PDL1_PDL2_PDR1_PDR2_PDR3_PLG_PLR_PLS_PLT_PLW_PPR_PR_PRG_PRT_PRW_VLi_VLo_VRi_VRo           | 0                                                                                                  | 1                                                                                                  | 0                                                                                                  |\n",
       "| GR_GRi_GRo_P_PDL1_PDL2_PDL3_PDL4_PDL5_PDR1_PDR2_PLG_PLR1_PLR2_PLS_PLT_PLW_PPL_PR_PRG_PRT_VL        | 0                                                                                                  | 1                                                                                                  | 0                                                                                                  |\n",
       "| GR_P_PDL1_PDL2_PDL3_PDL4_PDR1_PDR2_PDR3_PDR4_PDR5_PDR6_PLG_PLS_PLT_PLW_PPLi_PPLo_PR_PRG_PRT_PRW    | 0                                                                                                  | 1                                                                                                  | 0                                                                                                  |\n",
       "| GRi_GRo_P_PDL1_PDL2_PDL3_PDM_PDR1_PDR2_PDR3_PDR4_PLG_PLS_PLT_PLW_PPL_PR_PRG_PRT_PRW_VLi_VLo        | 0                                                                                                  | 1                                                                                                  | 0                                                                                                  |\n",
       "| GRi_GRo_P_PDL1_PDL2_PDL3_PDR1_PDR2_PDR3_PDR4_PLG_PLR_PLS_PLT_PLW_PPL_PR_PRG_PRT_PRW_VLi_VLo        | 0                                                                                                  | 2                                                                                                  | 0                                                                                                  |\n",
       "| GRi_GRo_P_PDL1_PDL2_PDL3_PDR1_PDR2_PDR3_PLG_PLR_PLS_PLT_PLW_PPR_PR_PRG_PRT_PRW_VL_VLi_VLo          | 0                                                                                                  | 3                                                                                                  | 0                                                                                                  |\n",
       "| GRi_GRo_P_PDL1_PDL2_PDL3_PDR1_PDR2_PLG_PLR1_PLR2_PLS_PLT_PLW_PPL_PR_PRG_PRT_PRW_VLi_VLo_VR         | 0                                                                                                  | 1                                                                                                  | 0                                                                                                  |\n",
       "| GRi_GRo_P_PDL1_PDL2_PDR1_PDR2_PDR3_PLG_PLL_PLM_PLR_PLS_PLT_PLW_PPL_PR_PRG_PRT_PRW_VLi_VLo          | 0                                                                                                  | 1                                                                                                  | 0                                                                                                  |\n",
       "| GRi_GRo_P_PDL1_PDL2_PDR1_PDR2_PDR3_PLG_PLL1_PLL2_PLS_PLT_PLW_PPL_PR_PRG_PRT_PRW_VL_VLi_VLo         | 0                                                                                                  | 1                                                                                                  | 0                                                                                                  |\n",
       "| GRi_GRo_P_PDL1_PDL2_PDR1_PDR2_PDR3_PLG_PLM_PLR1_PLR2_PLS_PLT_PLW_PPL_PR_PRG_PRT_PRW_VLi_VLo        | 0                                                                                                  | 1                                                                                                  | 0                                                                                                  |\n",
       "| GRi_GRo_P_PDL1_PDL2_PDR1_PDR2_PLG_PLL_PLR1_PLR2_PLR3_PLS_PLT_PLW_PPL_PR_PRG_PRT_PRW_VLi_VLo        | 0                                                                                                  | 1                                                                                                  | 0                                                                                                  |\n",
       "| P                                                                                                  | 0                                                                                                  | 1                                                                                                  | 0                                                                                                  |\n",
       "| P_PDL1_PDL2_PDL3_PDL4_PDL5_PDR1_PDR2_PDR3_PDR4_PDR5_PDR6_PLG_PLS_PLT_PLW_PPL_PPRi_PPRo_PRG_PRT_PRW | 0                                                                                                  | 1                                                                                                  | 0                                                                                                  |\n",
       "| P_PDL1_PDL2_PDL3_PDL4_PDL5_PDR1_PDR2_PDR3_PDR4_PDR5_PLG_PLS_PLT_PLW_PPL_PPRi_PPRo_PR_PRG_PRT_PRW   | 0                                                                                                  | 1                                                                                                  | 0                                                                                                  |\n",
       "| P_PDL1_PDL2_PDL3_PDL4_PDL5_PDR1_PDR2_PDR3_PDR4_PDR5_PLG_PLS_PLT_PLW_PPLi_PPLo_PPR_PR_PRG_PRT_PRW   | 0                                                                                                  | 2                                                                                                  | 0                                                                                                  |\n",
       "| P_PDL1_PDL2_PDL3_PDL4_PDR1_PDR2_PLG_PLL_PLR1_PLR2_PLS_PLT_PLW_PPLi_PPLo_PR_PRG_PRT_PRW_VR          | 0                                                                                                  | 1                                                                                                  | 0                                                                                                  |\n",
       "\n"
      ],
      "text/plain": [
       "    formation                                                                                         \n",
       "1   GL_GR_P_PDL1_PDL2_PDR1_PDR2_PDR3_PFB_PLG_PLM_PLS_PLT_PLW_PPL_PR_PRG_PRT_PRW_VL_VRi_VRo            \n",
       "2   GL_GR_P_PDL1_PDL2_PDR1_PDR2_PDR3_PLG_PLL_PLS_PLT_PLW_PPR_PR_PRG_PRT_PRW_VLi_VLo_VRi               \n",
       "3   GL_GR_P_PDL1_PDL2_PDL3_PDR1_PDR2_PLG_PLL1_PLL2_PLS_PLT_PLW_PPL_PR_PRG_PRT_PRW_VL_VRi_VRo          \n",
       "4   GL_GR_P_PDL1_PDL2_PDL3_PDR1_PDR2_PFB_PLG_PLR_PLS_PLT_PLW_PPR_PR_PRG_PRT_PRW_VL_VRi_VRo            \n",
       "5   GL_GR_P_PDL1_PDL2_PDR1_PDR2_PDR3_PDR4_PLG_PLL1_PLL2_PLS_PLT_PLW_PPR_PR_PRG_PRT_PRW_VL_VR          \n",
       "6   GL_GR_P_PDL1_PDL2_PDL3_PDR1_PDR2_PLG_PLR1_PLR2_PLS_PLT_PLW_PPR_PR_PRG_PRT_PRW_VLi_VLo_VR          \n",
       "7   GL_GR_P_PDL1_PDL2_PDR1_PDR2_PDR3_PLG_PLR_PLS_PLT_PLW_PPR_PR_PRG_PRT_PRW_VLi_VLo_VRi_VRo           \n",
       "8   GL_GR_P_PDL1_PDL2_PDR1_PDR2_PDR3_PLG_PLM_PLS_PLT_PLW_PPR_PR_PRG_PRT_PRW_VLi_VLo_VRi_VRo           \n",
       "9   GL_GR_P_PDL1_PDL2_PDL3_PDR1_PDR2_PDR3_PLG_PLL_PLM_PLS_PLT_PLW_PPR_PR_PRG_PRT_PRW_VL_VR            \n",
       "10  GL_GR_P_PDL1_PDL2_PDL3_PDR1_PDR2_PDR3_PDR4_PLG_PLS_PLT_PLW_PPL_PR_PRG_PRT_PRW_VL_VRi_VRo          \n",
       "11  GL_GR_P_PDL1_PDL2_PDL3_PDR1_PDR2_PLG_PLL_PLS_PLT_PLW_PPR_PR_PRG_PRT_PRW_VLi_VLo_VRi_VRo           \n",
       "12  GL_GR_P_PDL1_PDL2_PDL3_PDL4_PDR1_PDR2_PDR3_PLG_PLS_PLT_PLW_PPR_PR_PRG_PRT_PRW_VLi_VLo_VR          \n",
       "13  GL_GR_P_PDL1_PDL2_PDL3_PDR1_PDR2_PDR3_PLG_PLM_PLS_PLT_PLW_PPR_PR_PRG_PRT_PRW_VLi_VLo_VR           \n",
       "14  GL_GR_P_PDL1_PDL2_PDL3_PDL4_PDR1_PDR2_PDR3_PLG_PLL_PLS_PLT_PLW_PPR_PR_PRG_PRT_PRW_VL_VR           \n",
       "15  GL_GR_P_PDL1_PDL2_PDL3_PDR1_PDR2_PDR3_PLG_PLR_PLS_PLT_PLW_PPR_PR_PRG_PRT_PRW_VL_VRi_VRo           \n",
       "16  GL_GR_P_PDL1_PDL2_PDR1_PDR2_PDR3_PLG_PLR_PLS_PLT_PLW_PPL_PR_PRG_PRT_PRW_VLi_VLo_VRi_VRo           \n",
       "17  GL_GR_P_PDL1_PDL2_PDL3_PDR1_PDR2_PDR3_PDR4_PDR5_PLG_PLS_PLT_PLW_PPR_PR_PRG_PRT_PRW_VL_VR          \n",
       "18  GL_GR_P_PDL1_PDL2_PDL3_PDR1_PDR2_PDR3_PFB_PLG_PLL_PLS_PLT_PLW_PPR_PR_PRG_PRT_PRW_VL_VR            \n",
       "19  GL_GR_P_PDL1_PDL2_PDL3_PDL4_PDR1_PDR2_PDR3_PLG_PLS_PLT_PLW_PPR_PR_PRG_PRT_PRW_VL_VRi_VRo          \n",
       "20  GL_GR_P_PDL1_PDL2_PDL3_PDR1_PDR2_PDR3_PLG_PLL_PLS_PLT_PLW_PPR_PR_PRG_PRT_PRW_VLi_VLo_VR           \n",
       "21  GL_GR_P_PDL1_PDL2_PDL3_PDR1_PDR2_PLG_PLL1_PLL2_PLR_PLS_PLT_PLW_PPR_PR_PRG_PRT_PRW_VL_VR           \n",
       "22  GL_GR_P_PDL1_PDL2_PDL3_PDR1_PDR2_PDR3_PLG_PLS_PLT_PLW_PPL_PR_PRG_PRT_PRW_VLi_VLo_VRi_VRo          \n",
       "23  GL_GR_P_PDL1_PDL2_PDL3_PDR1_PDR2_PLG_PLL_PLR1_PLR2_PLS_PLT_PLW_PPL_PR_PRG_PRT_PRW_VL_VR           \n",
       "24  GL_GR_P_PDL1_PDL2_PDL3_PDR1_PDR2_PLG_PLR_PLS_PLT_PLW_PPL_PR_PRG_PRT_PRW_VLi_VLo_VRi_VRo           \n",
       "25  GL_GR_P_PDL1_PDL2_PDL3_PDR1_PDR2_PLG_PLL_PLM_PLR_PLS_PLT_PLW_PPR_PR_PRG_PRT_PRW_VL_VR             \n",
       "26  GL_GR_P_PDL1_PDL2_PDL3_PDR1_PDR2_PDR3_PLG_PLL_PLR_PLS_PLT_PLW_PPL_PR_PRG_PRT_PRW_VL_VR            \n",
       "27  GL_GR_P_PDL1_PDL2_PDR1_PDR2_PDR3_PLG_PLL_PLS_PLT_PLW_PPR_PR_PRG_PRT_PRW_VLi_VLo_VRi_VRo           \n",
       "28  GL_GR_P_PDL1_PDL2_PDL3_PDL4_PDR1_PDR2_PDR3_PDR4_PLG_PLS_PLT_PLW_PPR_PR_PRG_PRT_PRW_VL_VR          \n",
       "29  GL_GR_P_PDL1_PDL2_PDL3_PDR1_PDR2_PDR3_PLG_PLL_PLR_PLS_PLT_PLW_PPR_PR_PRG_PRT_PRW_VL_VR            \n",
       "30  GL_GL_GR_P_PDL1_PDL2_PDL3_PDR1_PDR2_PDR3_PLG_PLL_PLR_PLS_PLT_PLW_PPR_PR_PRG_PRT_PRW_VL            \n",
       "... ...                                                                                               \n",
       "693 GLi_GLo_GRi_GRo_P_PDL1_PDL2_PDL3_PDR1_PDR2_PLG_PLR_PLS_PLT_PPL_PR_PRG_PRT_VLi_VLo_VRi_VRo         \n",
       "694 GLi_GLo_GRi_GRo_P_PDL1_PDL2_PDR1_PDR2_PDR3_PLG_PLM_PLS_PLT_PPL_PR_PRG_PRT_VLi_VLo_VRi_VRo         \n",
       "695 GLi_GLo_GRi_GRo_P_PDL1_PDL2_PDR1_PDR2_PDR3_PLG_PLR_PLS_PLT_PPL_PR_PRG_PRT_VLi_VLo_VRi_VRo         \n",
       "696 GLi_GLo_GRi_GRo_P_PDL1_PDL2_PDR1_PDR2_PLG_PLL_PLR_PLS_PLT_PPL_PR_PRG_PRT_VLi_VLo_VRi_VRo          \n",
       "697 GLi_GLo_P_PDL1_PDL2_PDL3_PDL4_PDR1_PDR2_PDR3_PLG_PLL_PLS_PLT_PLW_PPR_PR_PRG_PRT_PRW_VRi_VRo       \n",
       "698 GLi_GLo_P_PDL1_PDL2_PDL3_PDM_PDR1_PDR2_PLG_PLL_PLR_PLS_PLT_PLW_PPR_PR_PRG_PRT_PRW_VRi_VRo         \n",
       "699 GLi_GLo_P_PDL1_PDL2_PDL3_PDR1_PDR2_PDR3_PLG_PLL_PLR_PLS_PLT_PLW_PPR_PR_PRG_PRT_PRW_VRi_VRo        \n",
       "700 GLi_GLo_P_PDL1_PDL2_PDL3_PDR1_PDR2_PDR3_PLG_PLL1_PLL2_PLS_PLT_PLW_PPR_PR_PRG_PRT_PRW_VRi_VRo      \n",
       "701 GLi_GLo_P_PDL1_PDL2_PDL3_PDR1_PDR2_PDR3_PLG_PLR1_PLR2_PLS_PLT_PLW_PPL_PR_PRG_PRT_PRW_VRi_VRo      \n",
       "702 GLi_GLo_P_PDL1_PDL2_PDL3_PDR1_PDR2_PLG_PLL_PLM_PLR_PLS_PLT_PLW_PPL_PR_PRG_PRT_PRW_VRi_VRo         \n",
       "703 GLi_GLo_P_PDL1_PDL2_PDL3_PDR1_PDR2_PLG_PLL_PLM_PLS_PLT_PLW_PPR_PR_PRG_PRT_PRW_VR_VRi_VRo          \n",
       "704 GLi_GLo_P_PDL1_PDL2_PDL3_PDR1_PDR2_PLG_PLL_PLR1_PLR2_PLS_PLT_PLW_PPL_PR_PRG_PRT_PRW_VRi_VRo       \n",
       "705 GLi_GLo_P_PDL1_PDL2_PDR1_PDR2_PDR3_PLG_PLL1_PLL2_PLR_PLS_PLT_PLW_PPR_PR_PRG_PRT_PRW_VRi_VRo       \n",
       "706 GLi_GLo_P_PDL1_PDR1_PDR2_PDR3_PFB_PLG_PLM_PLR1_PLR2_PLS_PLT_PLW_PPL_PR_PRG_PRT_PRW_VRi_VRo        \n",
       "707 GLi_GR_P_PDL1_PDL2_PDR1_PDR2_PDR3_PLG_PLR_PLS_PLT_PLW_PPR_PR_PRG_PRT_PRW_VLi_VLo_VRi_VRo          \n",
       "708 GR_GRi_GRo_P_PDL1_PDL2_PDL3_PDL4_PDL5_PDR1_PDR2_PLG_PLR1_PLR2_PLS_PLT_PLW_PPL_PR_PRG_PRT_VL       \n",
       "709 GR_P_PDL1_PDL2_PDL3_PDL4_PDR1_PDR2_PDR3_PDR4_PDR5_PDR6_PLG_PLS_PLT_PLW_PPLi_PPLo_PR_PRG_PRT_PRW   \n",
       "710 GRi_GRo_P_PDL1_PDL2_PDL3_PDM_PDR1_PDR2_PDR3_PDR4_PLG_PLS_PLT_PLW_PPL_PR_PRG_PRT_PRW_VLi_VLo       \n",
       "711 GRi_GRo_P_PDL1_PDL2_PDL3_PDR1_PDR2_PDR3_PDR4_PLG_PLR_PLS_PLT_PLW_PPL_PR_PRG_PRT_PRW_VLi_VLo       \n",
       "712 GRi_GRo_P_PDL1_PDL2_PDL3_PDR1_PDR2_PDR3_PLG_PLR_PLS_PLT_PLW_PPR_PR_PRG_PRT_PRW_VL_VLi_VLo         \n",
       "713 GRi_GRo_P_PDL1_PDL2_PDL3_PDR1_PDR2_PLG_PLR1_PLR2_PLS_PLT_PLW_PPL_PR_PRG_PRT_PRW_VLi_VLo_VR        \n",
       "714 GRi_GRo_P_PDL1_PDL2_PDR1_PDR2_PDR3_PLG_PLL_PLM_PLR_PLS_PLT_PLW_PPL_PR_PRG_PRT_PRW_VLi_VLo         \n",
       "715 GRi_GRo_P_PDL1_PDL2_PDR1_PDR2_PDR3_PLG_PLL1_PLL2_PLS_PLT_PLW_PPL_PR_PRG_PRT_PRW_VL_VLi_VLo        \n",
       "716 GRi_GRo_P_PDL1_PDL2_PDR1_PDR2_PDR3_PLG_PLM_PLR1_PLR2_PLS_PLT_PLW_PPL_PR_PRG_PRT_PRW_VLi_VLo       \n",
       "717 GRi_GRo_P_PDL1_PDL2_PDR1_PDR2_PLG_PLL_PLR1_PLR2_PLR3_PLS_PLT_PLW_PPL_PR_PRG_PRT_PRW_VLi_VLo       \n",
       "718 P                                                                                                 \n",
       "719 P_PDL1_PDL2_PDL3_PDL4_PDL5_PDR1_PDR2_PDR3_PDR4_PDR5_PDR6_PLG_PLS_PLT_PLW_PPL_PPRi_PPRo_PRG_PRT_PRW\n",
       "720 P_PDL1_PDL2_PDL3_PDL4_PDL5_PDR1_PDR2_PDR3_PDR4_PDR5_PLG_PLS_PLT_PLW_PPL_PPRi_PPRo_PR_PRG_PRT_PRW  \n",
       "721 P_PDL1_PDL2_PDL3_PDL4_PDL5_PDR1_PDR2_PDR3_PDR4_PDR5_PLG_PLS_PLT_PLW_PPLi_PPLo_PPR_PR_PRG_PRT_PRW  \n",
       "722 P_PDL1_PDL2_PDL3_PDL4_PDR1_PDR2_PLG_PLL_PLR1_PLR2_PLS_PLT_PLW_PPLi_PPLo_PR_PRG_PRT_PRW_VR         \n",
       "    Injury_Count Total_Count Mean       \n",
       "1   1              1         1.000000000\n",
       "2   1              1         1.000000000\n",
       "3   1              2         0.500000000\n",
       "4   1              4         0.250000000\n",
       "5   1              5         0.200000000\n",
       "6   1             11         0.090909091\n",
       "7   1             17         0.058823529\n",
       "8   2             35         0.057142857\n",
       "9   1             18         0.055555556\n",
       "10  1             19         0.052631579\n",
       "11  3             73         0.041095890\n",
       "12  1             30         0.033333333\n",
       "13  1             35         0.028571429\n",
       "14  1             39         0.025641026\n",
       "15  1             46         0.021739130\n",
       "16  1             46         0.021739130\n",
       "17  1             48         0.020833333\n",
       "18  1             49         0.020408163\n",
       "19  1             52         0.019230769\n",
       "20  2            115         0.017391304\n",
       "21  1             69         0.014492754\n",
       "22  3            216         0.013888889\n",
       "23  1             75         0.013333333\n",
       "24  1             87         0.011494253\n",
       "25  1             94         0.010638298\n",
       "26  2            258         0.007751938\n",
       "27  1            140         0.007142857\n",
       "28  2            370         0.005405405\n",
       "29  1            341         0.002932551\n",
       "30  0              1         0.000000000\n",
       "... ...          ...         ...        \n",
       "693 0            1           0          \n",
       "694 0            1           0          \n",
       "695 0            1           0          \n",
       "696 0            1           0          \n",
       "697 0            1           0          \n",
       "698 0            1           0          \n",
       "699 0            1           0          \n",
       "700 0            1           0          \n",
       "701 0            1           0          \n",
       "702 0            1           0          \n",
       "703 0            1           0          \n",
       "704 0            1           0          \n",
       "705 0            1           0          \n",
       "706 0            1           0          \n",
       "707 0            1           0          \n",
       "708 0            1           0          \n",
       "709 0            1           0          \n",
       "710 0            1           0          \n",
       "711 0            2           0          \n",
       "712 0            3           0          \n",
       "713 0            1           0          \n",
       "714 0            1           0          \n",
       "715 0            1           0          \n",
       "716 0            1           0          \n",
       "717 0            1           0          \n",
       "718 0            1           0          \n",
       "719 0            1           0          \n",
       "720 0            1           0          \n",
       "721 0            2           0          \n",
       "722 0            1           0          "
      ]
     },
     "metadata": {},
     "output_type": "display_data"
    }
   ],
   "source": [
    "finalsort"
   ]
  },
  {
   "cell_type": "markdown",
   "metadata": {},
   "source": [
    "## Next Steps:\n",
    "- Trying a machine learning approahc e.g. Linear regression to check correlations between variables and concussion rates\n",
    "- Deep diving into specific formations to see for rule modification opportunities\n"
   ]
  },
  {
   "cell_type": "code",
   "execution_count": null,
   "metadata": {
    "collapsed": true
   },
   "outputs": [],
   "source": []
  }
 ],
 "metadata": {
  "celltoolbar": "Raw Cell Format",
  "kernelspec": {
   "display_name": "R",
   "language": "R",
   "name": "ir"
  },
  "language_info": {
   "codemirror_mode": "r",
   "file_extension": ".r",
   "mimetype": "text/x-r-source",
   "name": "R",
   "pygments_lexer": "r",
   "version": "3.4.3"
  },
  "toc": {
   "base_numbering": 1,
   "nav_menu": {
    "height": "339px",
    "width": "213px"
   },
   "number_sections": true,
   "sideBar": true,
   "skip_h1_title": false,
   "title_cell": "Table of Contents",
   "title_sidebar": "Contents",
   "toc_cell": true,
   "toc_position": {
    "height": "calc(100% - 180px)",
    "left": "10px",
    "top": "150px",
    "width": "216px"
   },
   "toc_section_display": true,
   "toc_window_display": true
  }
 },
 "nbformat": 4,
 "nbformat_minor": 2
}
