{
 "cells": [
  {
   "cell_type": "markdown",
   "metadata": {},
   "source": [
    "## NFL Punt Analysis"
   ]
  },
  {
   "cell_type": "markdown",
   "metadata": {
    "toc": true
   },
   "source": [
    "<h1>Table of Contents<span class=\"tocSkip\"></span></h1>\n",
    "<div class=\"toc\"><ul class=\"toc-item\"><li><span><a href=\"#NFL-Punt-Analysis\" data-toc-modified-id=\"NFL-Punt-Analysis-1\"><span class=\"toc-item-num\">1&nbsp;&nbsp;</span>NFL Punt Analysis</a></span></li><li><span><a href=\"#Importing-libraries-and-reading-necessary-files-:\" data-toc-modified-id=\"Importing-libraries-and-reading-necessary-files-:-2\"><span class=\"toc-item-num\">2&nbsp;&nbsp;</span>Importing libraries and reading necessary files :</a></span></li><li><span><a href=\"#Importing-datasets\" data-toc-modified-id=\"Importing-datasets-3\"><span class=\"toc-item-num\">3&nbsp;&nbsp;</span>Importing datasets</a></span></li><li><span><a href=\"#EDA-of-video_review\" data-toc-modified-id=\"EDA-of-video_review-4\"><span class=\"toc-item-num\">4&nbsp;&nbsp;</span>EDA of video_review</a></span><ul class=\"toc-item\"><li><span><a href=\"#Frequency-distribution-of-Player-Activity-types\" data-toc-modified-id=\"Frequency-distribution-of-Player-Activity-types-4.1\"><span class=\"toc-item-num\">4.1&nbsp;&nbsp;</span>Frequency distribution of Player Activity types</a></span></li><li><span><a href=\"#Adding-Other-and-Unclear-Activity-types\" data-toc-modified-id=\"Adding-Other-and-Unclear-Activity-types-4.2\"><span class=\"toc-item-num\">4.2&nbsp;&nbsp;</span>Adding Other and Unclear Activity types</a></span></li><li><span><a href=\"#Frequency-distribution-of-Impact-types\" data-toc-modified-id=\"Frequency-distribution-of-Impact-types-4.3\"><span class=\"toc-item-num\">4.3&nbsp;&nbsp;</span>Frequency distribution of Impact types</a></span></li><li><span><a href=\"#Distribution-of-Impact-type-against-Player-Activity\" data-toc-modified-id=\"Distribution-of-Impact-type-against-Player-Activity-4.4\"><span class=\"toc-item-num\">4.4&nbsp;&nbsp;</span>Distribution of Impact type against Player Activity</a></span></li></ul></li><li><span><a href=\"#EDA-of-Game-Data\" data-toc-modified-id=\"EDA-of-Game-Data-5\"><span class=\"toc-item-num\">5&nbsp;&nbsp;</span>EDA of Game Data</a></span></li><li><span><a href=\"#EDA-on-relation-of-variables-on-concussion-rate\" data-toc-modified-id=\"EDA-on-relation-of-variables-on-concussion-rate-6\"><span class=\"toc-item-num\">6&nbsp;&nbsp;</span>EDA on relation of variables on concussion rate</a></span><ul class=\"toc-item\"><li><span><a href=\"#Merging-Game-data-with-Video-review-data\" data-toc-modified-id=\"Merging-Game-data-with-Video-review-data-6.1\"><span class=\"toc-item-num\">6.1&nbsp;&nbsp;</span>Merging Game data with Video review data</a></span></li><li><span><a href=\"#Daily-concussion-rates\" data-toc-modified-id=\"Daily-concussion-rates-6.2\"><span class=\"toc-item-num\">6.2&nbsp;&nbsp;</span>Daily concussion rates</a></span></li><li><span><a href=\"#Concussion-rates-by-stadium-type\" data-toc-modified-id=\"Concussion-rates-by-stadium-type-6.3\"><span class=\"toc-item-num\">6.3&nbsp;&nbsp;</span>Concussion rates by stadium type</a></span></li><li><span><a href=\"#Concussion-rates-by-Temperature\" data-toc-modified-id=\"Concussion-rates-by-Temperature-6.4\"><span class=\"toc-item-num\">6.4&nbsp;&nbsp;</span>Concussion rates by Temperature</a></span></li></ul></li><li><span><a href=\"#Formation-and-Concussion-Rates\" data-toc-modified-id=\"Formation-and-Concussion-Rates-7\"><span class=\"toc-item-num\">7&nbsp;&nbsp;</span>Formation and Concussion Rates</a></span></li><li><span><a href=\"#Next-Steps:\" data-toc-modified-id=\"Next-Steps:-8\"><span class=\"toc-item-num\">8&nbsp;&nbsp;</span>Next Steps:</a></span></li></ul></div>"
   ]
  },
  {
   "cell_type": "markdown",
   "metadata": {},
   "source": [
    "## Importing libraries and reading necessary files :"
   ]
  },
  {
   "cell_type": "code",
   "execution_count": 1,
   "metadata": {},
   "outputs": [
    {
     "name": "stderr",
     "output_type": "stream",
     "text": [
      "\n",
      "Attaching package: 'dplyr'\n",
      "\n",
      "The following objects are masked from 'package:stats':\n",
      "\n",
      "    filter, lag\n",
      "\n",
      "The following objects are masked from 'package:base':\n",
      "\n",
      "    intersect, setdiff, setequal, union\n",
      "\n"
     ]
    }
   ],
   "source": [
    "oldw <- getOption(\"warn\")\n",
    "options(warn = -1)\n",
    "\n",
    "library(dplyr)\n",
    "library(ggplot2)\n",
    "library(tidyr)\n",
    "library(scales)\n",
    "library(repr)\n",
    "\n",
    "options(warn = oldw)"
   ]
  },
  {
   "cell_type": "markdown",
   "metadata": {},
   "source": [
    "## Importing datasets"
   ]
  },
  {
   "cell_type": "code",
   "execution_count": 2,
   "metadata": {},
   "outputs": [],
   "source": [
    "path <- \"../Data/\""
   ]
  },
  {
   "cell_type": "code",
   "execution_count": 3,
   "metadata": {
    "scrolled": false
   },
   "outputs": [],
   "source": [
    "game_data <- read.csv(paste0(path,'GD1.csv'))\n",
    "player_role <- read.csv(paste0(path,'play_player_role_data.csv'))\n",
    "play_info <- read.csv(paste0(path,'play_information.csv'))\n",
    "play_punt <- read.csv(paste0(path,'player_punt_data.csv'))\n",
    "vid_rev <- read.csv(paste0(path,'video_review.csv'))\n",
    "vid_injury <- read.csv(paste0(path,'video_footage-injury.csv'))\n",
    "vid_control <- read.csv(paste0(path,'video_footage-control.csv'))"
   ]
  },
  {
   "cell_type": "markdown",
   "metadata": {},
   "source": [
    "## EDA of video_review "
   ]
  },
  {
   "cell_type": "code",
   "execution_count": 4,
   "metadata": {
    "scrolled": false
   },
   "outputs": [
    {
     "data": {
      "text/html": [
       "<table>\n",
       "<thead><tr><th scope=col>Season_Year</th><th scope=col>GameKey</th><th scope=col>PlayID</th><th scope=col>GSISID</th><th scope=col>Player_Activity_Derived</th><th scope=col>Turnover_Related</th><th scope=col>Primary_Impact_Type</th><th scope=col>Primary_Partner_GSISID</th><th scope=col>Primary_Partner_Activity_Derived</th><th scope=col>Friendly_Fire</th><th scope=col>X</th></tr></thead>\n",
       "<tbody>\n",
       "\t<tr><td>2016                   </td><td> 5                     </td><td>3129                   </td><td>29492                  </td><td>Tackling               </td><td>No                     </td><td>Helmet-to-body         </td><td>33445                  </td><td>Tackling               </td><td>Yes                    </td><td>Soldier Field          </td></tr>\n",
       "\t<tr><td>2016                   </td><td>21                     </td><td>2587                   </td><td>32323                  </td><td>Blocked                </td><td>No                     </td><td>Helmet-to-helmet       </td><td>31930                  </td><td>Blocking               </td><td>No                     </td><td>Nissan Stadium         </td></tr>\n",
       "\t<tr><td>2016                   </td><td>29                     </td><td> 538                   </td><td>29343                  </td><td>Blocked                </td><td>No                     </td><td>Helmet-to-helmet       </td><td>31059                  </td><td>Blocking               </td><td>No                     </td><td>FedExField             </td></tr>\n",
       "\t<tr><td>2016                   </td><td>45                     </td><td>1212                   </td><td>27595                  </td><td>Tackled                </td><td>No                     </td><td>Helmet-to-helmet       </td><td>31950                  </td><td>Tackling               </td><td>No                     </td><td>MetLife                </td></tr>\n",
       "\t<tr><td>2016                   </td><td>54                     </td><td>1045                   </td><td>32410                  </td><td>Blocking               </td><td>No                     </td><td>Helmet-to-body         </td><td>23259                  </td><td>Blocked                </td><td>No                     </td><td>Bank of America Stadium</td></tr>\n",
       "\t<tr><td>2016                   </td><td>60                     </td><td> 905                   </td><td>32444                  </td><td>Blocked                </td><td>No                     </td><td>Helmet-to-body         </td><td>31756                  </td><td>Blocked                </td><td>Yes                    </td><td>Ford Field             </td></tr>\n",
       "</tbody>\n",
       "</table>\n"
      ],
      "text/latex": [
       "\\begin{tabular}{r|lllllllllll}\n",
       " Season\\_Year & GameKey & PlayID & GSISID & Player\\_Activity\\_Derived & Turnover\\_Related & Primary\\_Impact\\_Type & Primary\\_Partner\\_GSISID & Primary\\_Partner\\_Activity\\_Derived & Friendly\\_Fire & X\\\\\n",
       "\\hline\n",
       "\t 2016                    &  5                      & 3129                    & 29492                   & Tackling                & No                      & Helmet-to-body          & 33445                   & Tackling                & Yes                     & Soldier Field          \\\\\n",
       "\t 2016                    & 21                      & 2587                    & 32323                   & Blocked                 & No                      & Helmet-to-helmet        & 31930                   & Blocking                & No                      & Nissan Stadium         \\\\\n",
       "\t 2016                    & 29                      &  538                    & 29343                   & Blocked                 & No                      & Helmet-to-helmet        & 31059                   & Blocking                & No                      & FedExField             \\\\\n",
       "\t 2016                    & 45                      & 1212                    & 27595                   & Tackled                 & No                      & Helmet-to-helmet        & 31950                   & Tackling                & No                      & MetLife                \\\\\n",
       "\t 2016                    & 54                      & 1045                    & 32410                   & Blocking                & No                      & Helmet-to-body          & 23259                   & Blocked                 & No                      & Bank of America Stadium\\\\\n",
       "\t 2016                    & 60                      &  905                    & 32444                   & Blocked                 & No                      & Helmet-to-body          & 31756                   & Blocked                 & Yes                     & Ford Field             \\\\\n",
       "\\end{tabular}\n"
      ],
      "text/markdown": [
       "\n",
       "Season_Year | GameKey | PlayID | GSISID | Player_Activity_Derived | Turnover_Related | Primary_Impact_Type | Primary_Partner_GSISID | Primary_Partner_Activity_Derived | Friendly_Fire | X | \n",
       "|---|---|---|---|---|---|\n",
       "| 2016                    |  5                      | 3129                    | 29492                   | Tackling                | No                      | Helmet-to-body          | 33445                   | Tackling                | Yes                     | Soldier Field           | \n",
       "| 2016                    | 21                      | 2587                    | 32323                   | Blocked                 | No                      | Helmet-to-helmet        | 31930                   | Blocking                | No                      | Nissan Stadium          | \n",
       "| 2016                    | 29                      |  538                    | 29343                   | Blocked                 | No                      | Helmet-to-helmet        | 31059                   | Blocking                | No                      | FedExField              | \n",
       "| 2016                    | 45                      | 1212                    | 27595                   | Tackled                 | No                      | Helmet-to-helmet        | 31950                   | Tackling                | No                      | MetLife                 | \n",
       "| 2016                    | 54                      | 1045                    | 32410                   | Blocking                | No                      | Helmet-to-body          | 23259                   | Blocked                 | No                      | Bank of America Stadium | \n",
       "| 2016                    | 60                      |  905                    | 32444                   | Blocked                 | No                      | Helmet-to-body          | 31756                   | Blocked                 | Yes                     | Ford Field              | \n",
       "\n",
       "\n"
      ],
      "text/plain": [
       "  Season_Year GameKey PlayID GSISID Player_Activity_Derived Turnover_Related\n",
       "1 2016         5      3129   29492  Tackling                No              \n",
       "2 2016        21      2587   32323  Blocked                 No              \n",
       "3 2016        29       538   29343  Blocked                 No              \n",
       "4 2016        45      1212   27595  Tackled                 No              \n",
       "5 2016        54      1045   32410  Blocking                No              \n",
       "6 2016        60       905   32444  Blocked                 No              \n",
       "  Primary_Impact_Type Primary_Partner_GSISID Primary_Partner_Activity_Derived\n",
       "1 Helmet-to-body      33445                  Tackling                        \n",
       "2 Helmet-to-helmet    31930                  Blocking                        \n",
       "3 Helmet-to-helmet    31059                  Blocking                        \n",
       "4 Helmet-to-helmet    31950                  Tackling                        \n",
       "5 Helmet-to-body      23259                  Blocked                         \n",
       "6 Helmet-to-body      31756                  Blocked                         \n",
       "  Friendly_Fire X                      \n",
       "1 Yes           Soldier Field          \n",
       "2 No            Nissan Stadium         \n",
       "3 No            FedExField             \n",
       "4 No            MetLife                \n",
       "5 No            Bank of America Stadium\n",
       "6 Yes           Ford Field             "
      ]
     },
     "metadata": {},
     "output_type": "display_data"
    }
   ],
   "source": [
    "head(vid_rev)"
   ]
  },
  {
   "cell_type": "code",
   "execution_count": 5,
   "metadata": {},
   "outputs": [
    {
     "data": {
      "text/plain": [
       "  Season_Year      GameKey          PlayID         GSISID     \n",
       " Min.   :2016   Min.   :  5.0   Min.   : 183   Min.   :23564  \n",
       " 1st Qu.:2016   1st Qu.:218.0   1st Qu.:1262   1st Qu.:28987  \n",
       " Median :2016   Median :296.0   Median :2341   Median :31313  \n",
       " Mean   :2016   Mean   :323.2   Mean   :2186   Mean   :30642  \n",
       " 3rd Qu.:2017   3rd Qu.:448.0   3rd Qu.:2918   3rd Qu.:32615  \n",
       " Max.   :2017   Max.   :618.0   Max.   :3746   Max.   :33941  \n",
       "                                                              \n",
       " Player_Activity_Derived Turnover_Related       Primary_Impact_Type\n",
       " Blocked :10             No:37            Helmet-to-body  :17      \n",
       " Blocking: 8                              Helmet-to-ground: 2      \n",
       " Tackled : 6                              Helmet-to-helmet:17      \n",
       " Tackling:13                              Unclear         : 1      \n",
       "                                                                   \n",
       "                                                                   \n",
       "                                                                   \n",
       " Primary_Partner_GSISID Primary_Partner_Activity_Derived Friendly_Fire\n",
       "        : 3                     : 2                             : 2   \n",
       " 23259  : 1             Blocked :10                      No     :28   \n",
       " 24535  : 1             Blocking: 6                      Unclear: 1   \n",
       " 25503  : 1             Tackled : 8                      Yes    : 6   \n",
       " 27442  : 1             Tackling:10                                   \n",
       " 27860  : 1             Unclear : 1                                   \n",
       " (Other):29                                                           \n",
       "                 X     \n",
       " FedExField       : 4  \n",
       " Arrowhead Stadium: 3  \n",
       " Nissan Stadium   : 3  \n",
       " CenturyLink Field: 2  \n",
       " M&T Bank Stadium : 2  \n",
       " MetLife          : 2  \n",
       " (Other)          :21  "
      ]
     },
     "metadata": {},
     "output_type": "display_data"
    }
   ],
   "source": [
    "summary(vid_rev)"
   ]
  },
  {
   "cell_type": "code",
   "execution_count": 6,
   "metadata": {},
   "outputs": [
    {
     "name": "stdout",
     "output_type": "stream",
     "text": [
      "'data.frame':\t37 obs. of  11 variables:\n",
      " $ Season_Year                     : int  2016 2016 2016 2016 2016 2016 2016 2016 2016 2016 ...\n",
      " $ GameKey                         : int  5 21 29 45 54 60 144 149 189 218 ...\n",
      " $ PlayID                          : int  3129 2587 538 1212 1045 905 2342 3663 3509 3468 ...\n",
      " $ GSISID                          : int  29492 32323 29343 27595 32410 32444 30171 29793 30384 32403 ...\n",
      " $ Player_Activity_Derived         : Factor w/ 4 levels \"Blocked\",\"Blocking\",..: 4 1 1 3 2 1 4 2 1 2 ...\n",
      " $ Turnover_Related                : Factor w/ 1 level \"No\": 1 1 1 1 1 1 1 1 1 1 ...\n",
      " $ Primary_Impact_Type             : Factor w/ 4 levels \"Helmet-to-body\",..: 1 3 3 3 1 1 1 3 4 3 ...\n",
      " $ Primary_Partner_GSISID          : Factor w/ 35 levels \"\",\"23259\",\"24535\",..: 33 19 12 21 2 15 8 23 35 30 ...\n",
      " $ Primary_Partner_Activity_Derived: Factor w/ 6 levels \"\",\"Blocked\",\"Blocking\",..: 5 3 3 5 2 2 4 2 6 2 ...\n",
      " $ Friendly_Fire                   : Factor w/ 4 levels \"\",\"No\",\"Unclear\",..: 4 2 2 2 2 4 2 2 3 2 ...\n",
      " $ X                               : Factor w/ 25 levels \"Arrowhead Stadium\",..: 23 20 5 17 2 7 19 16 1 12 ...\n"
     ]
    }
   ],
   "source": [
    "str(vid_rev)"
   ]
  },
  {
   "cell_type": "markdown",
   "metadata": {},
   "source": [
    "### Frequency distribution of Player Activity types"
   ]
  },
  {
   "cell_type": "code",
   "execution_count": 7,
   "metadata": {
    "scrolled": false
   },
   "outputs": [
    {
     "data": {
      "text/html": [
       "<table>\n",
       "<thead><tr><th scope=col>Player_Activity_Derived</th><th scope=col>Count</th></tr></thead>\n",
       "<tbody>\n",
       "\t<tr><td>Blocked </td><td>10      </td></tr>\n",
       "\t<tr><td>Blocking</td><td> 8      </td></tr>\n",
       "\t<tr><td>Tackled </td><td> 6      </td></tr>\n",
       "\t<tr><td>Tackling</td><td>13      </td></tr>\n",
       "</tbody>\n",
       "</table>\n"
      ],
      "text/latex": [
       "\\begin{tabular}{r|ll}\n",
       " Player\\_Activity\\_Derived & Count\\\\\n",
       "\\hline\n",
       "\t Blocked  & 10      \\\\\n",
       "\t Blocking &  8      \\\\\n",
       "\t Tackled  &  6      \\\\\n",
       "\t Tackling & 13      \\\\\n",
       "\\end{tabular}\n"
      ],
      "text/markdown": [
       "\n",
       "Player_Activity_Derived | Count | \n",
       "|---|---|---|---|\n",
       "| Blocked  | 10       | \n",
       "| Blocking |  8       | \n",
       "| Tackled  |  6       | \n",
       "| Tackling | 13       | \n",
       "\n",
       "\n"
      ],
      "text/plain": [
       "  Player_Activity_Derived Count\n",
       "1 Blocked                 10   \n",
       "2 Blocking                 8   \n",
       "3 Tackled                  6   \n",
       "4 Tackling                13   "
      ]
     },
     "metadata": {},
     "output_type": "display_data"
    },
    {
     "data": {},
     "metadata": {},
     "output_type": "display_data"
    },
    {
     "data": {
      "image/png": "[encoded data removed]",
      "text/plain": [
       "plot without title"
      ]
     },
     "metadata": {},
     "output_type": "display_data"
    }
   ],
   "source": [
    "vidrev_pivot1 <- vid_rev %>% group_by(Player_Activity_Derived) %>% dplyr::summarize(Count = n())\n",
    "vidrev_pivot1 \n",
    "options(repr.plot.width=5, repr.plot.height=4)\n",
    "ggplot(data=vidrev_pivot1, aes(x=reorder(Player_Activity_Derived, -Count), y=Count)) + geom_bar(stat='identity', fill=\"#004c6d\", width=0.6 ) + labs(title = \"Player Activity in case of an injury\",x=\"Player Activity\")"
   ]
  },
  {
   "cell_type": "markdown",
   "metadata": {},
   "source": [
    "### Adding Other and Unclear Activity types\n"
   ]
  },
  {
   "cell_type": "code",
   "execution_count": 8,
   "metadata": {
    "scrolled": false
   },
   "outputs": [
    {
     "data": {
      "text/html": [
       "<table>\n",
       "<thead><tr><th scope=col>Primary_Partner_Activity_Derived</th><th scope=col>Count</th></tr></thead>\n",
       "<tbody>\n",
       "\t<tr><td>        </td><td> 2      </td></tr>\n",
       "\t<tr><td>Blocked </td><td>10      </td></tr>\n",
       "\t<tr><td>Blocking</td><td> 6      </td></tr>\n",
       "\t<tr><td>Tackled </td><td> 8      </td></tr>\n",
       "\t<tr><td>Tackling</td><td>10      </td></tr>\n",
       "\t<tr><td>Unclear </td><td> 1      </td></tr>\n",
       "</tbody>\n",
       "</table>\n"
      ],
      "text/latex": [
       "\\begin{tabular}{r|ll}\n",
       " Primary\\_Partner\\_Activity\\_Derived & Count\\\\\n",
       "\\hline\n",
       "\t          &  2      \\\\\n",
       "\t Blocked  & 10      \\\\\n",
       "\t Blocking &  6      \\\\\n",
       "\t Tackled  &  8      \\\\\n",
       "\t Tackling & 10      \\\\\n",
       "\t Unclear  &  1      \\\\\n",
       "\\end{tabular}\n"
      ],
      "text/markdown": [
       "\n",
       "Primary_Partner_Activity_Derived | Count | \n",
       "|---|---|---|---|---|---|\n",
       "|          |  2       | \n",
       "| Blocked  | 10       | \n",
       "| Blocking |  6       | \n",
       "| Tackled  |  8       | \n",
       "| Tackling | 10       | \n",
       "| Unclear  |  1       | \n",
       "\n",
       "\n"
      ],
      "text/plain": [
       "  Primary_Partner_Activity_Derived Count\n",
       "1                                   2   \n",
       "2 Blocked                          10   \n",
       "3 Blocking                          6   \n",
       "4 Tackled                           8   \n",
       "5 Tackling                         10   \n",
       "6 Unclear                           1   "
      ]
     },
     "metadata": {},
     "output_type": "display_data"
    }
   ],
   "source": [
    "vidrevpart_pivot <- vid_rev %>% group_by(Primary_Partner_Activity_Derived) %>% summarize(Count = n())\n",
    "vidrevpart_pivot "
   ]
  },
  {
   "cell_type": "code",
   "execution_count": 9,
   "metadata": {},
   "outputs": [],
   "source": [
    "vidrevpart_pivot$Primary_Partner_Activity_Derived <- as.character(vidrevpart_pivot$Primary_Partner_Activity_Derived)"
   ]
  },
  {
   "cell_type": "code",
   "execution_count": 10,
   "metadata": {},
   "outputs": [],
   "source": [
    "vidrevpart_pivot[vidrevpart_pivot$Primary_Partner_Activity_Derived == \"\",\"Primary_Partner_Activity_Derived\"] <- \"Other\""
   ]
  },
  {
   "cell_type": "code",
   "execution_count": 11,
   "metadata": {},
   "outputs": [
    {
     "data": {
      "text/html": [
       "<table>\n",
       "<thead><tr><th scope=col>Primary_Partner_Activity_Derived</th><th scope=col>Count</th></tr></thead>\n",
       "<tbody>\n",
       "\t<tr><td>Other   </td><td> 2      </td></tr>\n",
       "\t<tr><td>Blocked </td><td>10      </td></tr>\n",
       "\t<tr><td>Blocking</td><td> 6      </td></tr>\n",
       "\t<tr><td>Tackled </td><td> 8      </td></tr>\n",
       "\t<tr><td>Tackling</td><td>10      </td></tr>\n",
       "\t<tr><td>Unclear </td><td> 1      </td></tr>\n",
       "</tbody>\n",
       "</table>\n"
      ],
      "text/latex": [
       "\\begin{tabular}{r|ll}\n",
       " Primary\\_Partner\\_Activity\\_Derived & Count\\\\\n",
       "\\hline\n",
       "\t Other    &  2      \\\\\n",
       "\t Blocked  & 10      \\\\\n",
       "\t Blocking &  6      \\\\\n",
       "\t Tackled  &  8      \\\\\n",
       "\t Tackling & 10      \\\\\n",
       "\t Unclear  &  1      \\\\\n",
       "\\end{tabular}\n"
      ],
      "text/markdown": [
       "\n",
       "Primary_Partner_Activity_Derived | Count | \n",
       "|---|---|---|---|---|---|\n",
       "| Other    |  2       | \n",
       "| Blocked  | 10       | \n",
       "| Blocking |  6       | \n",
       "| Tackled  |  8       | \n",
       "| Tackling | 10       | \n",
       "| Unclear  |  1       | \n",
       "\n",
       "\n"
      ],
      "text/plain": [
       "  Primary_Partner_Activity_Derived Count\n",
       "1 Other                             2   \n",
       "2 Blocked                          10   \n",
       "3 Blocking                          6   \n",
       "4 Tackled                           8   \n",
       "5 Tackling                         10   \n",
       "6 Unclear                           1   "
      ]
     },
     "metadata": {},
     "output_type": "display_data"
    }
   ],
   "source": [
    "vidrevpart_pivot"
   ]
  },
  {
   "cell_type": "code",
   "execution_count": 12,
   "metadata": {},
   "outputs": [
    {
     "data": {},
     "metadata": {},
     "output_type": "display_data"
    },
    {
     "data": {
      "image/png": "[encoded data removed]",
      "text/plain": [
       "plot without title"
      ]
     },
     "metadata": {},
     "output_type": "display_data"
    }
   ],
   "source": [
    "ggplot(data=vidrevpart_pivot, aes(x=reorder(Primary_Partner_Activity_Derived, -Count), y=Count)) + geom_bar(stat='identity', fill=\"#004c6d\", width=0.6 ) + labs(title = \"Partner Activity in case of an injury\",x=\"Partner Activity\")"
   ]
  },
  {
   "cell_type": "markdown",
   "metadata": {},
   "source": [
    "__Note:__ \"Other\" is where impact was with ground, hence no partner."
   ]
  },
  {
   "cell_type": "markdown",
   "metadata": {},
   "source": [
    "### Frequency distribution of Impact types"
   ]
  },
  {
   "cell_type": "code",
   "execution_count": 13,
   "metadata": {
    "scrolled": false
   },
   "outputs": [
    {
     "data": {
      "text/html": [
       "<table>\n",
       "<thead><tr><th scope=col>Primary_Impact_Type</th><th scope=col>Count</th></tr></thead>\n",
       "<tbody>\n",
       "\t<tr><td>Helmet-to-body  </td><td>17              </td></tr>\n",
       "\t<tr><td>Helmet-to-ground</td><td> 2              </td></tr>\n",
       "\t<tr><td>Helmet-to-helmet</td><td>17              </td></tr>\n",
       "\t<tr><td>Unclear         </td><td> 1              </td></tr>\n",
       "</tbody>\n",
       "</table>\n"
      ],
      "text/latex": [
       "\\begin{tabular}{r|ll}\n",
       " Primary\\_Impact\\_Type & Count\\\\\n",
       "\\hline\n",
       "\t Helmet-to-body   & 17              \\\\\n",
       "\t Helmet-to-ground &  2              \\\\\n",
       "\t Helmet-to-helmet & 17              \\\\\n",
       "\t Unclear          &  1              \\\\\n",
       "\\end{tabular}\n"
      ],
      "text/markdown": [
       "\n",
       "Primary_Impact_Type | Count | \n",
       "|---|---|---|---|\n",
       "| Helmet-to-body   | 17               | \n",
       "| Helmet-to-ground |  2               | \n",
       "| Helmet-to-helmet | 17               | \n",
       "| Unclear          |  1               | \n",
       "\n",
       "\n"
      ],
      "text/plain": [
       "  Primary_Impact_Type Count\n",
       "1 Helmet-to-body      17   \n",
       "2 Helmet-to-ground     2   \n",
       "3 Helmet-to-helmet    17   \n",
       "4 Unclear              1   "
      ]
     },
     "metadata": {},
     "output_type": "display_data"
    },
    {
     "data": {},
     "metadata": {},
     "output_type": "display_data"
    },
    {
     "data": {
      "image/png": "[encoded data removed]",
      "text/plain": [
       "plot without title"
      ]
     },
     "metadata": {},
     "output_type": "display_data"
    }
   ],
   "source": [
    "vidrev_pivot2 <- vid_rev %>% group_by(Primary_Impact_Type) %>% dplyr::summarize(Count = n()) \n",
    "vidrev_pivot2\n",
    "ggplot(data=vidrev_pivot2, aes(x=reorder(Primary_Impact_Type, -Count), y=Count)) + geom_bar(stat='identity', fill=\"#004c6d\", width = 0.6) + labs(x=\"Impact Type\", title=\"Impact Type in case of injury\")"
   ]
  },
  {
   "cell_type": "markdown",
   "metadata": {},
   "source": [
    "### Distribution of Impact type against Player Activity\n",
    "- Certain impact type - Player Activity combinations have higher amounts of concussions"
   ]
  },
  {
   "cell_type": "code",
   "execution_count": 14,
   "metadata": {
    "scrolled": false
   },
   "outputs": [
    {
     "data": {
      "text/html": [
       "<table>\n",
       "<thead><tr><th scope=col>Player_Activity_Derived</th><th scope=col>Primary_Impact_Type</th><th scope=col>Count</th><th scope=col>Percent_concussion</th></tr></thead>\n",
       "<tbody>\n",
       "\t<tr><td>Blocked         </td><td>Helmet-to-body  </td><td>3               </td><td> 8.108108       </td></tr>\n",
       "\t<tr><td>Blocked         </td><td>Helmet-to-ground</td><td>1               </td><td> 2.702703       </td></tr>\n",
       "\t<tr><td>Blocked         </td><td>Helmet-to-helmet</td><td>5               </td><td>13.513514       </td></tr>\n",
       "\t<tr><td>Blocked         </td><td>Unclear         </td><td>1               </td><td> 2.702703       </td></tr>\n",
       "\t<tr><td>Blocking        </td><td>Helmet-to-body  </td><td>4               </td><td>10.810811       </td></tr>\n",
       "\t<tr><td>Blocking        </td><td>Helmet-to-helmet</td><td>4               </td><td>10.810811       </td></tr>\n",
       "\t<tr><td>Tackled         </td><td>Helmet-to-body  </td><td>2               </td><td> 5.405405       </td></tr>\n",
       "\t<tr><td>Tackled         </td><td>Helmet-to-helmet</td><td>4               </td><td>10.810811       </td></tr>\n",
       "\t<tr><td>Tackling        </td><td>Helmet-to-body  </td><td>8               </td><td>21.621622       </td></tr>\n",
       "\t<tr><td>Tackling        </td><td>Helmet-to-ground</td><td>1               </td><td> 2.702703       </td></tr>\n",
       "\t<tr><td>Tackling        </td><td>Helmet-to-helmet</td><td>4               </td><td>10.810811       </td></tr>\n",
       "</tbody>\n",
       "</table>\n"
      ],
      "text/latex": [
       "\\begin{tabular}{r|llll}\n",
       " Player\\_Activity\\_Derived & Primary\\_Impact\\_Type & Count & Percent\\_concussion\\\\\n",
       "\\hline\n",
       "\t Blocked          & Helmet-to-body   & 3                &  8.108108       \\\\\n",
       "\t Blocked          & Helmet-to-ground & 1                &  2.702703       \\\\\n",
       "\t Blocked          & Helmet-to-helmet & 5                & 13.513514       \\\\\n",
       "\t Blocked          & Unclear          & 1                &  2.702703       \\\\\n",
       "\t Blocking         & Helmet-to-body   & 4                & 10.810811       \\\\\n",
       "\t Blocking         & Helmet-to-helmet & 4                & 10.810811       \\\\\n",
       "\t Tackled          & Helmet-to-body   & 2                &  5.405405       \\\\\n",
       "\t Tackled          & Helmet-to-helmet & 4                & 10.810811       \\\\\n",
       "\t Tackling         & Helmet-to-body   & 8                & 21.621622       \\\\\n",
       "\t Tackling         & Helmet-to-ground & 1                &  2.702703       \\\\\n",
       "\t Tackling         & Helmet-to-helmet & 4                & 10.810811       \\\\\n",
       "\\end{tabular}\n"
      ],
      "text/markdown": [
       "\n",
       "Player_Activity_Derived | Primary_Impact_Type | Count | Percent_concussion | \n",
       "|---|---|---|---|---|---|---|---|---|---|---|\n",
       "| Blocked          | Helmet-to-body   | 3                |  8.108108        | \n",
       "| Blocked          | Helmet-to-ground | 1                |  2.702703        | \n",
       "| Blocked          | Helmet-to-helmet | 5                | 13.513514        | \n",
       "| Blocked          | Unclear          | 1                |  2.702703        | \n",
       "| Blocking         | Helmet-to-body   | 4                | 10.810811        | \n",
       "| Blocking         | Helmet-to-helmet | 4                | 10.810811        | \n",
       "| Tackled          | Helmet-to-body   | 2                |  5.405405        | \n",
       "| Tackled          | Helmet-to-helmet | 4                | 10.810811        | \n",
       "| Tackling         | Helmet-to-body   | 8                | 21.621622        | \n",
       "| Tackling         | Helmet-to-ground | 1                |  2.702703        | \n",
       "| Tackling         | Helmet-to-helmet | 4                | 10.810811        | \n",
       "\n",
       "\n"
      ],
      "text/plain": [
       "   Player_Activity_Derived Primary_Impact_Type Count Percent_concussion\n",
       "1  Blocked                 Helmet-to-body      3      8.108108         \n",
       "2  Blocked                 Helmet-to-ground    1      2.702703         \n",
       "3  Blocked                 Helmet-to-helmet    5     13.513514         \n",
       "4  Blocked                 Unclear             1      2.702703         \n",
       "5  Blocking                Helmet-to-body      4     10.810811         \n",
       "6  Blocking                Helmet-to-helmet    4     10.810811         \n",
       "7  Tackled                 Helmet-to-body      2      5.405405         \n",
       "8  Tackled                 Helmet-to-helmet    4     10.810811         \n",
       "9  Tackling                Helmet-to-body      8     21.621622         \n",
       "10 Tackling                Helmet-to-ground    1      2.702703         \n",
       "11 Tackling                Helmet-to-helmet    4     10.810811         "
      ]
     },
     "metadata": {},
     "output_type": "display_data"
    }
   ],
   "source": [
    "vidrev_pivot3 <- vid_rev %>% group_by(Player_Activity_Derived,Primary_Impact_Type) %>% dplyr::summarize(Count = n()) \n",
    "vidrev_pivot3$Percent_concussion <- vidrev_pivot3$Count*100/sum(vidrev_pivot3$Count)\n",
    "vidrev_pivot3 "
   ]
  },
  {
   "cell_type": "code",
   "execution_count": 15,
   "metadata": {
    "scrolled": false
   },
   "outputs": [
    {
     "data": {
      "text/html": [
       "<table>\n",
       "<thead><tr><th scope=col>Primary_Impact_Type</th><th scope=col>Player_Activity_Derived</th><th scope=col>Count</th><th scope=col>Percent_concussion</th></tr></thead>\n",
       "<tbody>\n",
       "\t<tr><td>Helmet-to-body  </td><td>Blocked         </td><td>3               </td><td> 8.108108       </td></tr>\n",
       "\t<tr><td>Helmet-to-body  </td><td>Blocking        </td><td>4               </td><td>10.810811       </td></tr>\n",
       "\t<tr><td>Helmet-to-body  </td><td>Tackled         </td><td>2               </td><td> 5.405405       </td></tr>\n",
       "\t<tr><td>Helmet-to-body  </td><td>Tackling        </td><td>8               </td><td>21.621622       </td></tr>\n",
       "\t<tr><td>Helmet-to-ground</td><td>Blocked         </td><td>1               </td><td> 2.702703       </td></tr>\n",
       "\t<tr><td>Helmet-to-ground</td><td>Blocking        </td><td>0               </td><td> 0.000000       </td></tr>\n",
       "\t<tr><td>Helmet-to-ground</td><td>Tackled         </td><td>0               </td><td> 0.000000       </td></tr>\n",
       "\t<tr><td>Helmet-to-ground</td><td>Tackling        </td><td>1               </td><td> 2.702703       </td></tr>\n",
       "\t<tr><td>Helmet-to-helmet</td><td>Blocked         </td><td>5               </td><td>13.513514       </td></tr>\n",
       "\t<tr><td>Helmet-to-helmet</td><td>Blocking        </td><td>4               </td><td>10.810811       </td></tr>\n",
       "\t<tr><td>Helmet-to-helmet</td><td>Tackled         </td><td>4               </td><td>10.810811       </td></tr>\n",
       "\t<tr><td>Helmet-to-helmet</td><td>Tackling        </td><td>4               </td><td>10.810811       </td></tr>\n",
       "\t<tr><td>Unclear         </td><td>Blocked         </td><td>1               </td><td> 2.702703       </td></tr>\n",
       "\t<tr><td>Unclear         </td><td>Blocking        </td><td>0               </td><td> 0.000000       </td></tr>\n",
       "\t<tr><td>Unclear         </td><td>Tackled         </td><td>0               </td><td> 0.000000       </td></tr>\n",
       "\t<tr><td>Unclear         </td><td>Tackling        </td><td>0               </td><td> 0.000000       </td></tr>\n",
       "</tbody>\n",
       "</table>\n"
      ],
      "text/latex": [
       "\\begin{tabular}{r|llll}\n",
       " Primary\\_Impact\\_Type & Player\\_Activity\\_Derived & Count & Percent\\_concussion\\\\\n",
       "\\hline\n",
       "\t Helmet-to-body   & Blocked          & 3                &  8.108108       \\\\\n",
       "\t Helmet-to-body   & Blocking         & 4                & 10.810811       \\\\\n",
       "\t Helmet-to-body   & Tackled          & 2                &  5.405405       \\\\\n",
       "\t Helmet-to-body   & Tackling         & 8                & 21.621622       \\\\\n",
       "\t Helmet-to-ground & Blocked          & 1                &  2.702703       \\\\\n",
       "\t Helmet-to-ground & Blocking         & 0                &  0.000000       \\\\\n",
       "\t Helmet-to-ground & Tackled          & 0                &  0.000000       \\\\\n",
       "\t Helmet-to-ground & Tackling         & 1                &  2.702703       \\\\\n",
       "\t Helmet-to-helmet & Blocked          & 5                & 13.513514       \\\\\n",
       "\t Helmet-to-helmet & Blocking         & 4                & 10.810811       \\\\\n",
       "\t Helmet-to-helmet & Tackled          & 4                & 10.810811       \\\\\n",
       "\t Helmet-to-helmet & Tackling         & 4                & 10.810811       \\\\\n",
       "\t Unclear          & Blocked          & 1                &  2.702703       \\\\\n",
       "\t Unclear          & Blocking         & 0                &  0.000000       \\\\\n",
       "\t Unclear          & Tackled          & 0                &  0.000000       \\\\\n",
       "\t Unclear          & Tackling         & 0                &  0.000000       \\\\\n",
       "\\end{tabular}\n"
      ],
      "text/markdown": [
       "\n",
       "Primary_Impact_Type | Player_Activity_Derived | Count | Percent_concussion | \n",
       "|---|---|---|---|---|---|---|---|---|---|---|---|---|---|---|---|\n",
       "| Helmet-to-body   | Blocked          | 3                |  8.108108        | \n",
       "| Helmet-to-body   | Blocking         | 4                | 10.810811        | \n",
       "| Helmet-to-body   | Tackled          | 2                |  5.405405        | \n",
       "| Helmet-to-body   | Tackling         | 8                | 21.621622        | \n",
       "| Helmet-to-ground | Blocked          | 1                |  2.702703        | \n",
       "| Helmet-to-ground | Blocking         | 0                |  0.000000        | \n",
       "| Helmet-to-ground | Tackled          | 0                |  0.000000        | \n",
       "| Helmet-to-ground | Tackling         | 1                |  2.702703        | \n",
       "| Helmet-to-helmet | Blocked          | 5                | 13.513514        | \n",
       "| Helmet-to-helmet | Blocking         | 4                | 10.810811        | \n",
       "| Helmet-to-helmet | Tackled          | 4                | 10.810811        | \n",
       "| Helmet-to-helmet | Tackling         | 4                | 10.810811        | \n",
       "| Unclear          | Blocked          | 1                |  2.702703        | \n",
       "| Unclear          | Blocking         | 0                |  0.000000        | \n",
       "| Unclear          | Tackled          | 0                |  0.000000        | \n",
       "| Unclear          | Tackling         | 0                |  0.000000        | \n",
       "\n",
       "\n"
      ],
      "text/plain": [
       "   Primary_Impact_Type Player_Activity_Derived Count Percent_concussion\n",
       "1  Helmet-to-body      Blocked                 3      8.108108         \n",
       "2  Helmet-to-body      Blocking                4     10.810811         \n",
       "3  Helmet-to-body      Tackled                 2      5.405405         \n",
       "4  Helmet-to-body      Tackling                8     21.621622         \n",
       "5  Helmet-to-ground    Blocked                 1      2.702703         \n",
       "6  Helmet-to-ground    Blocking                0      0.000000         \n",
       "7  Helmet-to-ground    Tackled                 0      0.000000         \n",
       "8  Helmet-to-ground    Tackling                1      2.702703         \n",
       "9  Helmet-to-helmet    Blocked                 5     13.513514         \n",
       "10 Helmet-to-helmet    Blocking                4     10.810811         \n",
       "11 Helmet-to-helmet    Tackled                 4     10.810811         \n",
       "12 Helmet-to-helmet    Tackling                4     10.810811         \n",
       "13 Unclear             Blocked                 1      2.702703         \n",
       "14 Unclear             Blocking                0      0.000000         \n",
       "15 Unclear             Tackled                 0      0.000000         \n",
       "16 Unclear             Tackling                0      0.000000         "
      ]
     },
     "metadata": {},
     "output_type": "display_data"
    }
   ],
   "source": [
    "#we need to retain values for all levels of pivot table\n",
    "temp_df1 <- merge(unique(vidrev_pivot3$Primary_Impact_Type),unique(vidrev_pivot3$Player_Activity_Derived))\n",
    "colnames(temp_df1 ) <- c(\"Primary_Impact_Type\",\"Player_Activity_Derived\")\n",
    "vidrev_pivot3 <- merge(temp_df1,vidrev_pivot3,by=c('Primary_Impact_Type','Player_Activity_Derived'),all.x=TRUE)\n",
    "vidrev_pivot3[is.na(vidrev_pivot3)] <- 0\n",
    "vidrev_pivot3\n"
   ]
  },
  {
   "cell_type": "code",
   "execution_count": 16,
   "metadata": {
    "scrolled": false
   },
   "outputs": [
    {
     "data": {
      "text/html": [
       "<table>\n",
       "<thead><tr><th scope=col>Primary_Impact_Type</th><th scope=col>Blocked</th><th scope=col>Blocking</th><th scope=col>Tackled</th><th scope=col>Tackling</th></tr></thead>\n",
       "<tbody>\n",
       "\t<tr><td>Helmet-to-body  </td><td>3               </td><td>4               </td><td>2               </td><td>8               </td></tr>\n",
       "\t<tr><td>Helmet-to-ground</td><td>1               </td><td>0               </td><td>0               </td><td>1               </td></tr>\n",
       "\t<tr><td>Helmet-to-helmet</td><td>5               </td><td>4               </td><td>4               </td><td>4               </td></tr>\n",
       "\t<tr><td>Unclear         </td><td>1               </td><td>0               </td><td>0               </td><td>0               </td></tr>\n",
       "</tbody>\n",
       "</table>\n"
      ],
      "text/latex": [
       "\\begin{tabular}{r|lllll}\n",
       " Primary\\_Impact\\_Type & Blocked & Blocking & Tackled & Tackling\\\\\n",
       "\\hline\n",
       "\t Helmet-to-body   & 3                & 4                & 2                & 8               \\\\\n",
       "\t Helmet-to-ground & 1                & 0                & 0                & 1               \\\\\n",
       "\t Helmet-to-helmet & 5                & 4                & 4                & 4               \\\\\n",
       "\t Unclear          & 1                & 0                & 0                & 0               \\\\\n",
       "\\end{tabular}\n"
      ],
      "text/markdown": [
       "\n",
       "Primary_Impact_Type | Blocked | Blocking | Tackled | Tackling | \n",
       "|---|---|---|---|\n",
       "| Helmet-to-body   | 3                | 4                | 2                | 8                | \n",
       "| Helmet-to-ground | 1                | 0                | 0                | 1                | \n",
       "| Helmet-to-helmet | 5                | 4                | 4                | 4                | \n",
       "| Unclear          | 1                | 0                | 0                | 0                | \n",
       "\n",
       "\n"
      ],
      "text/plain": [
       "  Primary_Impact_Type Blocked Blocking Tackled Tackling\n",
       "1 Helmet-to-body      3       4        2       8       \n",
       "2 Helmet-to-ground    1       0        0       1       \n",
       "3 Helmet-to-helmet    5       4        4       4       \n",
       "4 Unclear             1       0        0       0       "
      ]
     },
     "metadata": {},
     "output_type": "display_data"
    },
    {
     "data": {},
     "metadata": {},
     "output_type": "display_data"
    },
    {
     "data": {
      "image/png": "[encoded data removed]",
      "text/plain": [
       "plot without title"
      ]
     },
     "metadata": {},
     "output_type": "display_data"
    }
   ],
   "source": [
    "vidrev_pivot31 <- select(vidrev_pivot3, Primary_Impact_Type, Player_Activity_Derived, Count)\n",
    "vidrev_pivot4 <- vidrev_pivot31 %>% spread(Player_Activity_Derived, Count)\n",
    "vidrev_pivot4\n",
    "options(repr.plot.width=10, repr.plot.height=5)\n",
    "ggplot(data=vidrev_pivot31, \n",
    "       aes(x=reorder(Player_Activity_Derived, -Count), y=Count, \n",
    "           fill=reorder(Primary_Impact_Type, -Count))) + geom_bar(stat='identity', \n",
    "                                                                  position=position_dodge()) + \n",
    "        scale_fill_manual(values=c(\"#003f5c\", \"#58508d\",\"#ffa600\",\"#ff6361\")) + \n",
    "        labs(title = \"Relation b/n Primary Imapct and Player Activity\", x=\"Player Activity\") + \n",
    "        coord_flip() + \n",
    "        guides(fill=guide_legend(title=\"Impact Type\"))"
   ]
  },
  {
   "cell_type": "markdown",
   "metadata": {},
   "source": [
    "## EDA of Game Data"
   ]
  },
  {
   "cell_type": "code",
   "execution_count": 17,
   "metadata": {
    "scrolled": false
   },
   "outputs": [
    {
     "data": {
      "text/html": [
       "<table>\n",
       "<thead><tr><th scope=col>GameKey</th><th scope=col>Season_Year</th><th scope=col>Season_Type</th><th scope=col>Week</th><th scope=col>Game_Date</th><th scope=col>Game_Day</th><th scope=col>Game_Site</th><th scope=col>Start_Time</th><th scope=col>Home_Team</th><th scope=col>HomeTeamCode</th><th scope=col>Visit_Team</th><th scope=col>VisitTeamCode</th><th scope=col>Stadium</th><th scope=col>StadiumType</th><th scope=col>Turf</th><th scope=col>GameWeather</th><th scope=col>Temperature</th><th scope=col>OutdoorWeather</th></tr></thead>\n",
       "<tbody>\n",
       "\t<tr><td>1                                </td><td>2016                             </td><td>Pre                              </td><td>1                                </td><td>2016-08-07 00:00:00.000          </td><td>Sunday                           </td><td>Indianapolis                     </td><td>20:00                            </td><td>Indianapolis Colts               </td><td>IND                              </td><td>Green Bay Packers                </td><td>GB                               </td><td>Tom Benson Hall of Fame Stadium  </td><td>Outdoor                          </td><td>Turf                             </td><td>                                 </td><td>NA                               </td><td>                                 </td></tr>\n",
       "\t<tr><td>2                                </td><td>2016                             </td><td>Pre                              </td><td>2                                </td><td>2016-08-13 00:00:00.000          </td><td>Saturday                         </td><td>Los Angeles                      </td><td>17:00                            </td><td>Los Angeles Rams                 </td><td>LA                               </td><td>Dallas Cowboys                   </td><td>DAL                              </td><td>Los  Angeles Memorial Coliseum   </td><td>Outdoor                          </td><td>Grass                            </td><td>Sunny                            </td><td>79                               </td><td>Sunny                            </td></tr>\n",
       "\t<tr><td>3                                                                          </td><td>2016                                                                       </td><td>Pre                                                                        </td><td>2                                                                          </td><td>2016-08-11 00:00:00.000                                                    </td><td>Thursday                                                                   </td><td><span style=white-space:pre-wrap>Baltimore   </span>                       </td><td>19:30                                                                      </td><td><span style=white-space:pre-wrap>Baltimore Ravens   </span>                </td><td>BLT                                                                        </td><td>Carolina Panthers                                                          </td><td>CAR                                                                        </td><td><span style=white-space:pre-wrap>M&amp;T Bank Stadium               </span></td><td>Outdoor                                                                    </td><td>Natural Grass                                                              </td><td><span style=white-space:pre-wrap>Party Cloudy                     </span>  </td><td>94                                                                         </td><td>Partly Cloudy                                                              </td></tr>\n",
       "\t<tr><td>4                                </td><td>2016                             </td><td>Pre                              </td><td>2                                </td><td>2016-08-12 00:00:00.000          </td><td>Friday                           </td><td>Green Bay                        </td><td>19:00                            </td><td>Green Bay Packers                </td><td>GB                               </td><td>Cleveland Browns                 </td><td>CLV                              </td><td>Lambeau Field                    </td><td>Outdoor                          </td><td>DD GrassMaster                   </td><td>                                 </td><td>73                               </td><td>                                 </td></tr>\n",
       "\t<tr><td>5                                </td><td>2016                             </td><td>Pre                              </td><td>2                                </td><td>2016-08-11 00:00:00.000          </td><td>Thursday                         </td><td>Chicago                          </td><td>19:00                            </td><td>Chicago Bears                    </td><td>CHI                              </td><td>Denver Broncos                   </td><td>DEN                              </td><td>Soldier Field                    </td><td>Outdoor                          </td><td>Grass                            </td><td>Partly Cloudy, Chance of Rain 80%</td><td>88                               </td><td>                                 </td></tr>\n",
       "\t<tr><td>6                                </td><td>2016                             </td><td>Pre                              </td><td>2                                </td><td>2016-08-12 00:00:00.000          </td><td>Friday                           </td><td>Pittsburgh                       </td><td>19:00                            </td><td>Pittsburgh Steelers              </td><td>PIT                              </td><td>Detroit Lions                    </td><td>DET                              </td><td>Heinz Field                      </td><td>Outdoors                         </td><td>Grass                            </td><td>Partly Cloudy                    </td><td>82                               </td><td>Partly Cloudy                    </td></tr>\n",
       "</tbody>\n",
       "</table>\n"
      ],
      "text/latex": [
       "\\begin{tabular}{r|llllllllllllllllll}\n",
       " GameKey & Season\\_Year & Season\\_Type & Week & Game\\_Date & Game\\_Day & Game\\_Site & Start\\_Time & Home\\_Team & HomeTeamCode & Visit\\_Team & VisitTeamCode & Stadium & StadiumType & Turf & GameWeather & Temperature & OutdoorWeather\\\\\n",
       "\\hline\n",
       "\t 1                                 & 2016                              & Pre                               & 1                                 & 2016-08-07 00:00:00.000           & Sunday                            & Indianapolis                      & 20:00                             & Indianapolis Colts                & IND                               & Green Bay Packers                 & GB                                & Tom Benson Hall of Fame Stadium   & Outdoor                           & Turf                              &                                   & NA                                &                                  \\\\\n",
       "\t 2                                 & 2016                              & Pre                               & 2                                 & 2016-08-13 00:00:00.000           & Saturday                          & Los Angeles                       & 17:00                             & Los Angeles Rams                  & LA                                & Dallas Cowboys                    & DAL                               & Los  Angeles Memorial Coliseum    & Outdoor                           & Grass                             & Sunny                             & 79                                & Sunny                            \\\\\n",
       "\t 3                                 & 2016                              & Pre                               & 2                                 & 2016-08-11 00:00:00.000           & Thursday                          & Baltimore                         & 19:30                             & Baltimore Ravens                  & BLT                               & Carolina Panthers                 & CAR                               & M\\&T Bank Stadium                & Outdoor                           & Natural Grass                     & Party Cloudy                      & 94                                & Partly Cloudy                    \\\\\n",
       "\t 4                                 & 2016                              & Pre                               & 2                                 & 2016-08-12 00:00:00.000           & Friday                            & Green Bay                         & 19:00                             & Green Bay Packers                 & GB                                & Cleveland Browns                  & CLV                               & Lambeau Field                     & Outdoor                           & DD GrassMaster                    &                                   & 73                                &                                  \\\\\n",
       "\t 5                                   & 2016                                & Pre                                 & 2                                   & 2016-08-11 00:00:00.000             & Thursday                            & Chicago                             & 19:00                               & Chicago Bears                       & CHI                                 & Denver Broncos                      & DEN                                 & Soldier Field                       & Outdoor                             & Grass                               & Partly Cloudy, Chance of Rain 80\\% & 88                                  &                                    \\\\\n",
       "\t 6                                 & 2016                              & Pre                               & 2                                 & 2016-08-12 00:00:00.000           & Friday                            & Pittsburgh                        & 19:00                             & Pittsburgh Steelers               & PIT                               & Detroit Lions                     & DET                               & Heinz Field                       & Outdoors                          & Grass                             & Partly Cloudy                     & 82                                & Partly Cloudy                    \\\\\n",
       "\\end{tabular}\n"
      ],
      "text/markdown": [
       "\n",
       "GameKey | Season_Year | Season_Type | Week | Game_Date | Game_Day | Game_Site | Start_Time | Home_Team | HomeTeamCode | Visit_Team | VisitTeamCode | Stadium | StadiumType | Turf | GameWeather | Temperature | OutdoorWeather | \n",
       "|---|---|---|---|---|---|\n",
       "| 1                                 | 2016                              | Pre                               | 1                                 | 2016-08-07 00:00:00.000           | Sunday                            | Indianapolis                      | 20:00                             | Indianapolis Colts                | IND                               | Green Bay Packers                 | GB                                | Tom Benson Hall of Fame Stadium   | Outdoor                           | Turf                              |                                   | NA                                |                                   | \n",
       "| 2                                 | 2016                              | Pre                               | 2                                 | 2016-08-13 00:00:00.000           | Saturday                          | Los Angeles                       | 17:00                             | Los Angeles Rams                  | LA                                | Dallas Cowboys                    | DAL                               | Los  Angeles Memorial Coliseum    | Outdoor                           | Grass                             | Sunny                             | 79                                | Sunny                             | \n",
       "| 3                                 | 2016                              | Pre                               | 2                                 | 2016-08-11 00:00:00.000           | Thursday                          | Baltimore                         | 19:30                             | Baltimore Ravens                  | BLT                               | Carolina Panthers                 | CAR                               | M&T Bank Stadium                  | Outdoor                           | Natural Grass                     | Party Cloudy                      | 94                                | Partly Cloudy                     | \n",
       "| 4                                 | 2016                              | Pre                               | 2                                 | 2016-08-12 00:00:00.000           | Friday                            | Green Bay                         | 19:00                             | Green Bay Packers                 | GB                                | Cleveland Browns                  | CLV                               | Lambeau Field                     | Outdoor                           | DD GrassMaster                    |                                   | 73                                |                                   | \n",
       "| 5                                 | 2016                              | Pre                               | 2                                 | 2016-08-11 00:00:00.000           | Thursday                          | Chicago                           | 19:00                             | Chicago Bears                     | CHI                               | Denver Broncos                    | DEN                               | Soldier Field                     | Outdoor                           | Grass                             | Partly Cloudy, Chance of Rain 80% | 88                                |                                   | \n",
       "| 6                                 | 2016                              | Pre                               | 2                                 | 2016-08-12 00:00:00.000           | Friday                            | Pittsburgh                        | 19:00                             | Pittsburgh Steelers               | PIT                               | Detroit Lions                     | DET                               | Heinz Field                       | Outdoors                          | Grass                             | Partly Cloudy                     | 82                                | Partly Cloudy                     | \n",
       "\n",
       "\n"
      ],
      "text/plain": [
       "  GameKey Season_Year Season_Type Week Game_Date               Game_Day\n",
       "1 1       2016        Pre         1    2016-08-07 00:00:00.000 Sunday  \n",
       "2 2       2016        Pre         2    2016-08-13 00:00:00.000 Saturday\n",
       "3 3       2016        Pre         2    2016-08-11 00:00:00.000 Thursday\n",
       "4 4       2016        Pre         2    2016-08-12 00:00:00.000 Friday  \n",
       "5 5       2016        Pre         2    2016-08-11 00:00:00.000 Thursday\n",
       "6 6       2016        Pre         2    2016-08-12 00:00:00.000 Friday  \n",
       "  Game_Site    Start_Time Home_Team           HomeTeamCode Visit_Team       \n",
       "1 Indianapolis 20:00      Indianapolis Colts  IND          Green Bay Packers\n",
       "2 Los Angeles  17:00      Los Angeles Rams    LA           Dallas Cowboys   \n",
       "3 Baltimore    19:30      Baltimore Ravens    BLT          Carolina Panthers\n",
       "4 Green Bay    19:00      Green Bay Packers   GB           Cleveland Browns \n",
       "5 Chicago      19:00      Chicago Bears       CHI          Denver Broncos   \n",
       "6 Pittsburgh   19:00      Pittsburgh Steelers PIT          Detroit Lions    \n",
       "  VisitTeamCode Stadium                         StadiumType Turf          \n",
       "1 GB            Tom Benson Hall of Fame Stadium Outdoor     Turf          \n",
       "2 DAL           Los  Angeles Memorial Coliseum  Outdoor     Grass         \n",
       "3 CAR           M&T Bank Stadium                Outdoor     Natural Grass \n",
       "4 CLV           Lambeau Field                   Outdoor     DD GrassMaster\n",
       "5 DEN           Soldier Field                   Outdoor     Grass         \n",
       "6 DET           Heinz Field                     Outdoors    Grass         \n",
       "  GameWeather                       Temperature OutdoorWeather\n",
       "1                                   NA                        \n",
       "2 Sunny                             79          Sunny         \n",
       "3 Party Cloudy                      94          Partly Cloudy \n",
       "4                                   73                        \n",
       "5 Partly Cloudy, Chance of Rain 80% 88                        \n",
       "6 Partly Cloudy                     82          Partly Cloudy "
      ]
     },
     "metadata": {},
     "output_type": "display_data"
    }
   ],
   "source": [
    "head(game_data)"
   ]
  },
  {
   "cell_type": "code",
   "execution_count": 18,
   "metadata": {},
   "outputs": [
    {
     "data": {
      "text/plain": [
       "    GameKey       Season_Year   Season_Type      Week       \n",
       " Min.   :  1.0   Min.   :2016   Post: 24    Min.   : 1.000  \n",
       " 1st Qu.:167.2   1st Qu.:2016   Pre :130    1st Qu.: 3.000  \n",
       " Median :333.5   Median :2016   Reg :512    Median : 6.000  \n",
       " Mean   :333.5   Mean   :2016               Mean   : 7.724  \n",
       " 3rd Qu.:499.8   3rd Qu.:2017               3rd Qu.:12.000  \n",
       " Max.   :666.0   Max.   :2017               Max.   :17.000  \n",
       "                                                            \n",
       "                   Game_Date        Game_Day             Game_Site  \n",
       " 2017-01-01 00:00:00.000: 16   Friday   : 19   East Rutherford: 40  \n",
       " 2017-08-31 00:00:00.000: 16   Monday   : 36   Foxborough     : 24  \n",
       " 2017-12-31 00:00:00.000: 16   Saturday : 63   Atlanta        : 22  \n",
       " 2016-09-01 00:00:00.000: 15   Sunday   :453   Houston        : 22  \n",
       " 2016-09-18 00:00:00.000: 14   Thursday : 93   Kansas City    : 22  \n",
       " 2016-09-25 00:00:00.000: 14   Wednesday:  2   Minneapolis    : 22  \n",
       " (Other)                :575                   (Other)        :514  \n",
       "   Start_Time                 Home_Team    HomeTeamCode\n",
       " 13:00  :188   New England Patriots: 25   NE     : 25  \n",
       " 12:00  : 82   Atlanta Falcons     : 23   ATL    : 23  \n",
       " 19:00  : 66   Dallas Cowboys      : 22   DAL    : 22  \n",
       " 19:30  : 49   Kansas City Chiefs  : 22   KC     : 22  \n",
       " 13:05  : 35   Philadelphia Eagles : 22   PHI    : 22  \n",
       " 13:25  : 35   Pittsburgh Steelers : 22   PIT    : 22  \n",
       " (Other):211   (Other)             :530   (Other):530  \n",
       "                Visit_Team  VisitTeamCode                    Stadium   \n",
       " Green Bay Packers   : 23   GB     : 23   Gillette Stadium       : 24  \n",
       " Atlanta Falcons     : 22   ATL    : 22   MetLife Stadium        : 24  \n",
       " Jacksonville Jaguars: 22   JAX    : 22   Arrowhead Stadium      : 22  \n",
       " Pittsburgh Steelers : 22   PIT    : 22   Heinz Field            : 22  \n",
       " Tennessee Titans    : 22   TEN    : 22   Lincoln Financial Field: 22  \n",
       " Arizona Cardinals   : 21   ARZ    : 21   Lambeau Field          : 21  \n",
       " (Other)             :534   (Other):534   (Other)                :531  \n",
       "   StadiumType                     Turf            GameWeather   Temperature   \n",
       " Outdoor :348   Grass                :224   Sunny        :145   Min.   : 1.00  \n",
       " Outdoors: 81   Natural Grass        :121   Cloudy       :119   1st Qu.:54.00  \n",
       " Indoors : 46   Field Turf           : 65                : 98   Median :68.00  \n",
       " Indoor  : 42   Artificial           : 61   Partly Cloudy: 74   Mean   :64.13  \n",
       "         : 38   FieldTurf            : 53   Clear        : 49   3rd Qu.:78.25  \n",
       " Dome    : 21   UBU Speed Series-S5-M: 40   Mostly Cloudy: 26   Max.   :97.00  \n",
       " (Other) : 90   (Other)              :102   (Other)      :155   NA's   :66     \n",
       "       OutdoorWeather\n",
       "              :254   \n",
       " Sunny        : 94   \n",
       " Cloudy       : 75   \n",
       " Partly Cloudy: 47   \n",
       " Clear        : 34   \n",
       " Rain         : 12   \n",
       " (Other)      :150   "
      ]
     },
     "metadata": {},
     "output_type": "display_data"
    }
   ],
   "source": [
    "summary(game_data)"
   ]
  },
  {
   "cell_type": "code",
   "execution_count": 19,
   "metadata": {},
   "outputs": [
    {
     "name": "stdout",
     "output_type": "stream",
     "text": [
      "'data.frame':\t666 obs. of  18 variables:\n",
      " $ GameKey       : int  1 2 3 4 5 6 7 8 9 10 ...\n",
      " $ Season_Year   : int  2016 2016 2016 2016 2016 2016 2016 2016 2016 2016 ...\n",
      " $ Season_Type   : Factor w/ 3 levels \"Post\",\"Pre\",\"Reg\": 2 2 2 2 2 2 2 2 2 2 ...\n",
      " $ Week          : int  1 2 2 2 2 2 2 2 2 2 ...\n",
      " $ Game_Date     : Factor w/ 145 levels \"2016-08-07 00:00:00.000\",..: 1 4 2 3 2 3 5 4 2 3 ...\n",
      " $ Game_Day      : Factor w/ 6 levels \"Friday\",\"Monday\",..: 4 3 5 1 5 1 4 3 5 1 ...\n",
      " $ Game_Site     : Factor w/ 39 levels \"Arlington\",\"Atlanta\",..: 17 22 3 15 7 33 35 30 12 12 ...\n",
      " $ Start_Time    : Factor w/ 40 levels \"12:00\",\"12:30\",..: 36 22 35 31 31 31 17 31 35 31 ...\n",
      " $ Home_Team     : Factor w/ 35 levels \"AFC\",\"Arizona Cardinals\",..: 15 19 4 13 7 29 31 5 25 24 ...\n",
      " $ HomeTeamCode  : Factor w/ 35 levels \"AFC\",\"ARZ\",\"ATL\",..: 15 18 4 13 7 29 32 5 26 25 ...\n",
      " $ Visit_Team    : Factor w/ 35 levels \"AFC\",\"Arizona Cardinals\",..: 13 10 6 9 11 12 14 15 16 20 ...\n",
      " $ VisitTeamCode : Factor w/ 35 levels \"AFC\",\"ARZ\",\"ATL\",..: 13 10 6 9 11 12 14 15 16 20 ...\n",
      " $ Stadium       : Factor w/ 66 levels \"Arrowhead Stadium\",..: 57 25 30 22 52 21 23 49 36 37 ...\n",
      " $ StadiumType   : Factor w/ 34 levels \"\",\"Closed Dome\",..: 21 21 21 21 21 23 21 21 21 1 ...\n",
      " $ Turf          : Factor w/ 24 levels \"\",\"A-Turf Titan\",..: 21 13 17 6 13 13 16 2 9 22 ...\n",
      " $ GameWeather   : Factor w/ 68 levels \"\",\"30% Chance of Rain\",..: 1 59 50 1 46 44 59 68 12 38 ...\n",
      " $ Temperature   : num  NA 79 94 73 88 82 84 84 94 76 ...\n",
      " $ OutdoorWeather: Factor w/ 135 levels \"\",\" Low to mid 50s by game end\",..: 1 110 91 1 1 91 1 117 38 1 ...\n"
     ]
    }
   ],
   "source": [
    "str(game_data)"
   ]
  },
  {
   "cell_type": "code",
   "execution_count": 20,
   "metadata": {
    "scrolled": false
   },
   "outputs": [
    {
     "name": "stdout",
     "output_type": "stream",
     "text": [
      "'data.frame':\t666 obs. of  19 variables:\n",
      " $ GameKey       : int  1 2 3 4 5 6 7 8 9 10 ...\n",
      " $ Season_Year   : int  2016 2016 2016 2016 2016 2016 2016 2016 2016 2016 ...\n",
      " $ Season_Type   : Factor w/ 3 levels \"Post\",\"Pre\",\"Reg\": 2 2 2 2 2 2 2 2 2 2 ...\n",
      " $ Week          : int  1 2 2 2 2 2 2 2 2 2 ...\n",
      " $ Game_Date     : Factor w/ 145 levels \"2016-08-07 00:00:00.000\",..: 1 4 2 3 2 3 5 4 2 3 ...\n",
      " $ Game_Day      : Factor w/ 6 levels \"Friday\",\"Monday\",..: 4 3 5 1 5 1 4 3 5 1 ...\n",
      " $ Game_Site     : Factor w/ 39 levels \"Arlington\",\"Atlanta\",..: 17 22 3 15 7 33 35 30 12 12 ...\n",
      " $ Start_Time    : Factor w/ 40 levels \"12:00\",\"12:30\",..: 36 22 35 31 31 31 17 31 35 31 ...\n",
      " $ Home_Team     : Factor w/ 35 levels \"AFC\",\"Arizona Cardinals\",..: 15 19 4 13 7 29 31 5 25 24 ...\n",
      " $ HomeTeamCode  : Factor w/ 35 levels \"AFC\",\"ARZ\",\"ATL\",..: 15 18 4 13 7 29 32 5 26 25 ...\n",
      " $ Visit_Team    : Factor w/ 35 levels \"AFC\",\"Arizona Cardinals\",..: 13 10 6 9 11 12 14 15 16 20 ...\n",
      " $ VisitTeamCode : Factor w/ 35 levels \"AFC\",\"ARZ\",\"ATL\",..: 13 10 6 9 11 12 14 15 16 20 ...\n",
      " $ Stadium       : Factor w/ 66 levels \"Arrowhead Stadium\",..: 57 25 30 22 52 21 23 49 36 37 ...\n",
      " $ StadiumType   : Factor w/ 34 levels \"\",\"Closed Dome\",..: 21 21 21 21 21 23 21 21 21 1 ...\n",
      " $ Turf          : Factor w/ 24 levels \"\",\"A-Turf Titan\",..: 21 13 17 6 13 13 16 2 9 22 ...\n",
      " $ GameWeather   : Factor w/ 68 levels \"\",\"30% Chance of Rain\",..: 1 59 50 1 46 44 59 68 12 38 ...\n",
      " $ Temperature   : num  NA 79 94 73 88 82 84 84 94 76 ...\n",
      " $ OutdoorWeather: Factor w/ 135 levels \"\",\" Low to mid 50s by game end\",..: 1 110 91 1 1 91 1 117 38 1 ...\n",
      " $ injury        : logi  FALSE FALSE FALSE FALSE TRUE FALSE ...\n"
     ]
    }
   ],
   "source": [
    "game_data$injury <- game_data$GameKey %in% vid_rev$GameKey\n",
    "str(game_data)"
   ]
  },
  {
   "cell_type": "markdown",
   "metadata": {},
   "source": [
    "## EDA on relation of variables on concussion rate"
   ]
  },
  {
   "cell_type": "markdown",
   "metadata": {},
   "source": [
    "### Merging Game data with Video review data"
   ]
  },
  {
   "cell_type": "code",
   "execution_count": 21,
   "metadata": {
    "scrolled": true
   },
   "outputs": [
    {
     "data": {
      "text/html": [
       "<table>\n",
       "<thead><tr><th scope=col>GameKey</th><th scope=col>Season_Year.x</th><th scope=col>Season_Type</th><th scope=col>Week</th><th scope=col>Game_Date</th><th scope=col>Game_Day</th><th scope=col>Game_Site</th><th scope=col>Start_Time</th><th scope=col>Home_Team</th><th scope=col>HomeTeamCode</th><th scope=col>...</th><th scope=col>Season_Year.y</th><th scope=col>PlayID</th><th scope=col>GSISID</th><th scope=col>Player_Activity_Derived</th><th scope=col>Turnover_Related</th><th scope=col>Primary_Impact_Type</th><th scope=col>Primary_Partner_GSISID</th><th scope=col>Primary_Partner_Activity_Derived</th><th scope=col>Friendly_Fire</th><th scope=col>X</th></tr></thead>\n",
       "<tbody>\n",
       "\t<tr><td> 5                     </td><td>2016                   </td><td>Pre                    </td><td>2                      </td><td>2016-08-11 00:00:00.000</td><td>Thursday               </td><td>Chicago                </td><td>19:00                  </td><td>Chicago Bears          </td><td>CHI                    </td><td>...                    </td><td>2016                   </td><td>3129                   </td><td>29492                  </td><td>Tackling               </td><td>No                     </td><td>Helmet-to-body         </td><td>33445                  </td><td>Tackling               </td><td>Yes                    </td><td>Soldier Field          </td></tr>\n",
       "\t<tr><td>21                     </td><td>2016                   </td><td>Pre                    </td><td>3                      </td><td>2016-08-20 00:00:00.000</td><td>Saturday               </td><td>Nashville              </td><td>14:00                  </td><td>Tennessee Titans       </td><td>TEN                    </td><td>...                    </td><td>2016                   </td><td>2587                   </td><td>32323                  </td><td>Blocked                </td><td>No                     </td><td>Helmet-to-helmet       </td><td>31930                  </td><td>Blocking               </td><td>No                     </td><td>Nissan Stadium         </td></tr>\n",
       "\t<tr><td>29                     </td><td>2016                   </td><td>Pre                    </td><td>3                      </td><td>2016-08-19 00:00:00.000</td><td>Friday                 </td><td>Landover               </td><td>19:30                  </td><td>Washington Redskins    </td><td>WAS                    </td><td>...                    </td><td>2016                   </td><td> 538                   </td><td>29343                  </td><td>Blocked                </td><td>No                     </td><td>Helmet-to-helmet       </td><td>31059                  </td><td>Blocking               </td><td>No                     </td><td>FedExField             </td></tr>\n",
       "\t<tr><td>45                     </td><td>2016                   </td><td>Pre                    </td><td>4                      </td><td>2016-08-27 00:00:00.000</td><td>Saturday               </td><td>East Rutherford        </td><td>19:30                  </td><td>New York Jets          </td><td>NYJ                    </td><td>...                    </td><td>2016                   </td><td>1212                   </td><td>27595                  </td><td>Tackled                </td><td>No                     </td><td>Helmet-to-helmet       </td><td>31950                  </td><td>Tackling               </td><td>No                     </td><td>MetLife                </td></tr>\n",
       "\t<tr><td>54                     </td><td>2016                   </td><td>Pre                    </td><td>5                      </td><td>2016-09-01 00:00:00.000</td><td>Thursday               </td><td>Charlotte              </td><td>19:30                  </td><td>Carolina Panthers      </td><td>CAR                    </td><td>...                    </td><td>2016                   </td><td>1045                   </td><td>32410                  </td><td>Blocking               </td><td>No                     </td><td>Helmet-to-body         </td><td>23259                  </td><td>Blocked                </td><td>No                     </td><td>Bank of America Stadium</td></tr>\n",
       "\t<tr><td>60                     </td><td>2016                   </td><td>Pre                    </td><td>5                      </td><td>2016-09-01 00:00:00.000</td><td>Thursday               </td><td>Detroit                </td><td>19:30                  </td><td>Detroit Lions          </td><td>DET                    </td><td>...                    </td><td>2016                   </td><td> 905                   </td><td>32444                  </td><td>Blocked                </td><td>No                     </td><td>Helmet-to-body         </td><td>31756                  </td><td>Blocked                </td><td>Yes                    </td><td>Ford Field             </td></tr>\n",
       "</tbody>\n",
       "</table>\n"
      ],
      "text/latex": [
       "\\begin{tabular}{r|lllllllllllllllllllllllllllll}\n",
       " GameKey & Season\\_Year.x & Season\\_Type & Week & Game\\_Date & Game\\_Day & Game\\_Site & Start\\_Time & Home\\_Team & HomeTeamCode & ... & Season\\_Year.y & PlayID & GSISID & Player\\_Activity\\_Derived & Turnover\\_Related & Primary\\_Impact\\_Type & Primary\\_Partner\\_GSISID & Primary\\_Partner\\_Activity\\_Derived & Friendly\\_Fire & X\\\\\n",
       "\\hline\n",
       "\t  5                      & 2016                    & Pre                     & 2                       & 2016-08-11 00:00:00.000 & Thursday                & Chicago                 & 19:00                   & Chicago Bears           & CHI                     & ...                     & 2016                    & 3129                    & 29492                   & Tackling                & No                      & Helmet-to-body          & 33445                   & Tackling                & Yes                     & Soldier Field          \\\\\n",
       "\t 21                      & 2016                    & Pre                     & 3                       & 2016-08-20 00:00:00.000 & Saturday                & Nashville               & 14:00                   & Tennessee Titans        & TEN                     & ...                     & 2016                    & 2587                    & 32323                   & Blocked                 & No                      & Helmet-to-helmet        & 31930                   & Blocking                & No                      & Nissan Stadium         \\\\\n",
       "\t 29                      & 2016                    & Pre                     & 3                       & 2016-08-19 00:00:00.000 & Friday                  & Landover                & 19:30                   & Washington Redskins     & WAS                     & ...                     & 2016                    &  538                    & 29343                   & Blocked                 & No                      & Helmet-to-helmet        & 31059                   & Blocking                & No                      & FedExField             \\\\\n",
       "\t 45                      & 2016                    & Pre                     & 4                       & 2016-08-27 00:00:00.000 & Saturday                & East Rutherford         & 19:30                   & New York Jets           & NYJ                     & ...                     & 2016                    & 1212                    & 27595                   & Tackled                 & No                      & Helmet-to-helmet        & 31950                   & Tackling                & No                      & MetLife                \\\\\n",
       "\t 54                      & 2016                    & Pre                     & 5                       & 2016-09-01 00:00:00.000 & Thursday                & Charlotte               & 19:30                   & Carolina Panthers       & CAR                     & ...                     & 2016                    & 1045                    & 32410                   & Blocking                & No                      & Helmet-to-body          & 23259                   & Blocked                 & No                      & Bank of America Stadium\\\\\n",
       "\t 60                      & 2016                    & Pre                     & 5                       & 2016-09-01 00:00:00.000 & Thursday                & Detroit                 & 19:30                   & Detroit Lions           & DET                     & ...                     & 2016                    &  905                    & 32444                   & Blocked                 & No                      & Helmet-to-body          & 31756                   & Blocked                 & Yes                     & Ford Field             \\\\\n",
       "\\end{tabular}\n"
      ],
      "text/markdown": [
       "\n",
       "GameKey | Season_Year.x | Season_Type | Week | Game_Date | Game_Day | Game_Site | Start_Time | Home_Team | HomeTeamCode | ... | Season_Year.y | PlayID | GSISID | Player_Activity_Derived | Turnover_Related | Primary_Impact_Type | Primary_Partner_GSISID | Primary_Partner_Activity_Derived | Friendly_Fire | X | \n",
       "|---|---|---|---|---|---|\n",
       "|  5                      | 2016                    | Pre                     | 2                       | 2016-08-11 00:00:00.000 | Thursday                | Chicago                 | 19:00                   | Chicago Bears           | CHI                     | ...                     | 2016                    | 3129                    | 29492                   | Tackling                | No                      | Helmet-to-body          | 33445                   | Tackling                | Yes                     | Soldier Field           | \n",
       "| 21                      | 2016                    | Pre                     | 3                       | 2016-08-20 00:00:00.000 | Saturday                | Nashville               | 14:00                   | Tennessee Titans        | TEN                     | ...                     | 2016                    | 2587                    | 32323                   | Blocked                 | No                      | Helmet-to-helmet        | 31930                   | Blocking                | No                      | Nissan Stadium          | \n",
       "| 29                      | 2016                    | Pre                     | 3                       | 2016-08-19 00:00:00.000 | Friday                  | Landover                | 19:30                   | Washington Redskins     | WAS                     | ...                     | 2016                    |  538                    | 29343                   | Blocked                 | No                      | Helmet-to-helmet        | 31059                   | Blocking                | No                      | FedExField              | \n",
       "| 45                      | 2016                    | Pre                     | 4                       | 2016-08-27 00:00:00.000 | Saturday                | East Rutherford         | 19:30                   | New York Jets           | NYJ                     | ...                     | 2016                    | 1212                    | 27595                   | Tackled                 | No                      | Helmet-to-helmet        | 31950                   | Tackling                | No                      | MetLife                 | \n",
       "| 54                      | 2016                    | Pre                     | 5                       | 2016-09-01 00:00:00.000 | Thursday                | Charlotte               | 19:30                   | Carolina Panthers       | CAR                     | ...                     | 2016                    | 1045                    | 32410                   | Blocking                | No                      | Helmet-to-body          | 23259                   | Blocked                 | No                      | Bank of America Stadium | \n",
       "| 60                      | 2016                    | Pre                     | 5                       | 2016-09-01 00:00:00.000 | Thursday                | Detroit                 | 19:30                   | Detroit Lions           | DET                     | ...                     | 2016                    |  905                    | 32444                   | Blocked                 | No                      | Helmet-to-body          | 31756                   | Blocked                 | Yes                     | Ford Field              | \n",
       "\n",
       "\n"
      ],
      "text/plain": [
       "  GameKey Season_Year.x Season_Type Week Game_Date               Game_Day\n",
       "1  5      2016          Pre         2    2016-08-11 00:00:00.000 Thursday\n",
       "2 21      2016          Pre         3    2016-08-20 00:00:00.000 Saturday\n",
       "3 29      2016          Pre         3    2016-08-19 00:00:00.000 Friday  \n",
       "4 45      2016          Pre         4    2016-08-27 00:00:00.000 Saturday\n",
       "5 54      2016          Pre         5    2016-09-01 00:00:00.000 Thursday\n",
       "6 60      2016          Pre         5    2016-09-01 00:00:00.000 Thursday\n",
       "  Game_Site       Start_Time Home_Team           HomeTeamCode ... Season_Year.y\n",
       "1 Chicago         19:00      Chicago Bears       CHI          ... 2016         \n",
       "2 Nashville       14:00      Tennessee Titans    TEN          ... 2016         \n",
       "3 Landover        19:30      Washington Redskins WAS          ... 2016         \n",
       "4 East Rutherford 19:30      New York Jets       NYJ          ... 2016         \n",
       "5 Charlotte       19:30      Carolina Panthers   CAR          ... 2016         \n",
       "6 Detroit         19:30      Detroit Lions       DET          ... 2016         \n",
       "  PlayID GSISID Player_Activity_Derived Turnover_Related Primary_Impact_Type\n",
       "1 3129   29492  Tackling                No               Helmet-to-body     \n",
       "2 2587   32323  Blocked                 No               Helmet-to-helmet   \n",
       "3  538   29343  Blocked                 No               Helmet-to-helmet   \n",
       "4 1212   27595  Tackled                 No               Helmet-to-helmet   \n",
       "5 1045   32410  Blocking                No               Helmet-to-body     \n",
       "6  905   32444  Blocked                 No               Helmet-to-body     \n",
       "  Primary_Partner_GSISID Primary_Partner_Activity_Derived Friendly_Fire\n",
       "1 33445                  Tackling                         Yes          \n",
       "2 31930                  Blocking                         No           \n",
       "3 31059                  Blocking                         No           \n",
       "4 31950                  Tackling                         No           \n",
       "5 23259                  Blocked                          No           \n",
       "6 31756                  Blocked                          Yes          \n",
       "  X                      \n",
       "1 Soldier Field          \n",
       "2 Nissan Stadium         \n",
       "3 FedExField             \n",
       "4 MetLife                \n",
       "5 Bank of America Stadium\n",
       "6 Ford Field             "
      ]
     },
     "metadata": {},
     "output_type": "display_data"
    }
   ],
   "source": [
    "oldw <- getOption(\"warn\")\n",
    "options(warn = -1)\n",
    "adv_gamedata <- merge(game_data,vid_rev, by=\"GameKey\", all.y=TRUE)\n",
    "adv_gamedata$Primary_Partner_Activity_Derived[adv_gamedata$Primary_Partner_Activity_Derived==\"\"] <- \"NA\"\n",
    "head(adv_gamedata)\n",
    "options(warn = oldw)"
   ]
  },
  {
   "cell_type": "markdown",
   "metadata": {},
   "source": [
    "### Daily concussion rates"
   ]
  },
  {
   "cell_type": "code",
   "execution_count": 22,
   "metadata": {
    "scrolled": false
   },
   "outputs": [
    {
     "data": {
      "text/html": [
       "<table>\n",
       "<thead><tr><th scope=col>Game_Day</th><th scope=col>Total_Count</th><th scope=col>Injury_Count</th><th scope=col>Mean</th></tr></thead>\n",
       "<tbody>\n",
       "\t<tr><td>Thursday  </td><td> 93       </td><td>11        </td><td>0.10576923</td></tr>\n",
       "\t<tr><td>Saturday  </td><td> 63       </td><td> 5        </td><td>0.07352941</td></tr>\n",
       "\t<tr><td>Monday    </td><td> 36       </td><td> 2        </td><td>0.05263158</td></tr>\n",
       "\t<tr><td>Friday    </td><td> 19       </td><td> 1        </td><td>0.05000000</td></tr>\n",
       "\t<tr><td>Sunday    </td><td>453       </td><td>18        </td><td>0.03821656</td></tr>\n",
       "\t<tr><td>Wednesday </td><td>  2       </td><td> 0        </td><td>0.00000000</td></tr>\n",
       "</tbody>\n",
       "</table>\n"
      ],
      "text/latex": [
       "\\begin{tabular}{r|llll}\n",
       " Game\\_Day & Total\\_Count & Injury\\_Count & Mean\\\\\n",
       "\\hline\n",
       "\t Thursday   &  93        & 11         & 0.10576923\\\\\n",
       "\t Saturday   &  63        &  5         & 0.07352941\\\\\n",
       "\t Monday     &  36        &  2         & 0.05263158\\\\\n",
       "\t Friday     &  19        &  1         & 0.05000000\\\\\n",
       "\t Sunday     & 453        & 18         & 0.03821656\\\\\n",
       "\t Wednesday  &   2        &  0         & 0.00000000\\\\\n",
       "\\end{tabular}\n"
      ],
      "text/markdown": [
       "\n",
       "Game_Day | Total_Count | Injury_Count | Mean | \n",
       "|---|---|---|---|---|---|\n",
       "| Thursday   |  93        | 11         | 0.10576923 | \n",
       "| Saturday   |  63        |  5         | 0.07352941 | \n",
       "| Monday     |  36        |  2         | 0.05263158 | \n",
       "| Friday     |  19        |  1         | 0.05000000 | \n",
       "| Sunday     | 453        | 18         | 0.03821656 | \n",
       "| Wednesday  |   2        |  0         | 0.00000000 | \n",
       "\n",
       "\n"
      ],
      "text/plain": [
       "  Game_Day  Total_Count Injury_Count Mean      \n",
       "1 Thursday   93         11           0.10576923\n",
       "2 Saturday   63          5           0.07352941\n",
       "3 Monday     36          2           0.05263158\n",
       "4 Friday     19          1           0.05000000\n",
       "5 Sunday    453         18           0.03821656\n",
       "6 Wednesday   2          0           0.00000000"
      ]
     },
     "metadata": {},
     "output_type": "display_data"
    }
   ],
   "source": [
    "oldw <- getOption(\"warn\")\n",
    "options(warn = -1)\n",
    "adgd_total <- game_data %>% group_by(Game_Day) %>% dplyr::summarize(Total_Count = n())\n",
    "adgd_pivot <- adv_gamedata %>% group_by(Game_Day) %>% dplyr::summarize(Injury_Count = n())\n",
    "adgd <- merge(adgd_total,adgd_pivot, by=\"Game_Day\", all=TRUE)\n",
    "adgd[is.na(adgd)] <- 0\n",
    "adgdsort <- adgd %>% group_by(Total_Count,Injury_Count)%>%\n",
    "  mutate(\"Mean\"=Injury_Count/(Total_Count+Injury_Count))\n",
    "arrange(adgdsort, desc(Mean))\n",
    "options(warn = oldw)"
   ]
  },
  {
   "cell_type": "markdown",
   "metadata": {},
   "source": [
    "Observation: Chances of Injury on a Thursday are high but very low on a Sunday. "
   ]
  },
  {
   "cell_type": "markdown",
   "metadata": {},
   "source": [
    "Let's see if stadium type has anything to do with punt related concussions."
   ]
  },
  {
   "cell_type": "markdown",
   "metadata": {},
   "source": [
    "### Concussion rates by stadium type"
   ]
  },
  {
   "cell_type": "code",
   "execution_count": 23,
   "metadata": {},
   "outputs": [
    {
     "data": {
      "text/html": [
       "<table>\n",
       "<thead><tr><th scope=col>StadiumType</th><th scope=col>Total_Count</th></tr></thead>\n",
       "<tbody>\n",
       "\t<tr><td>Closed Dome                 </td><td>  2                         </td></tr>\n",
       "\t<tr><td>Dome                        </td><td> 21                         </td></tr>\n",
       "\t<tr><td>Dome, closed                </td><td>  2                         </td></tr>\n",
       "\t<tr><td>Domed, closed               </td><td>  2                         </td></tr>\n",
       "\t<tr><td>Heinz Field                 </td><td>  1                         </td></tr>\n",
       "\t<tr><td>Indoor                      </td><td> 42                         </td></tr>\n",
       "\t<tr><td>Indoor, fixed roof          </td><td>  1                         </td></tr>\n",
       "\t<tr><td>Indoor, Fixed Roof          </td><td>  1                         </td></tr>\n",
       "\t<tr><td>Indoor, Non-Retractable Dome</td><td>  1                         </td></tr>\n",
       "\t<tr><td>Indoor, non-retractable roof</td><td>  2                         </td></tr>\n",
       "\t<tr><td>Indoor, Open Roof           </td><td>  1                         </td></tr>\n",
       "\t<tr><td>Indoor, Roof Closed         </td><td>  1                         </td></tr>\n",
       "\t<tr><td>Indoors                     </td><td> 46                         </td></tr>\n",
       "\t<tr><td>Indoors (Domed)             </td><td>  2                         </td></tr>\n",
       "\t<tr><td>Open                        </td><td> 20                         </td></tr>\n",
       "\t<tr><td>Oudoor                      </td><td>  1                         </td></tr>\n",
       "\t<tr><td>Ourdoor                     </td><td>  1                         </td></tr>\n",
       "\t<tr><td>Outddors                    </td><td>  1                         </td></tr>\n",
       "\t<tr><td>outdoor                     </td><td>  4                         </td></tr>\n",
       "\t<tr><td>Outdoor                     </td><td>348                         </td></tr>\n",
       "\t<tr><td>Outdoor Retr Roof-Open      </td><td>  1                         </td></tr>\n",
       "\t<tr><td>Outdoors                    </td><td> 81                         </td></tr>\n",
       "\t<tr><td>Outdoors                    </td><td>  2                         </td></tr>\n",
       "\t<tr><td>Outdor                      </td><td>  1                         </td></tr>\n",
       "\t<tr><td>Outside                     </td><td>  1                         </td></tr>\n",
       "\t<tr><td>Retr. Roof-Closed           </td><td>  4                         </td></tr>\n",
       "\t<tr><td>Retr. Roof-Open             </td><td>  2                         </td></tr>\n",
       "\t<tr><td>Retr. roof - closed         </td><td>  1                         </td></tr>\n",
       "\t<tr><td>Retr. Roof - Closed         </td><td>  9                         </td></tr>\n",
       "\t<tr><td>Retr. Roof - Open           </td><td>  3                         </td></tr>\n",
       "\t<tr><td>Retr. Roof Closed           </td><td>  1                         </td></tr>\n",
       "\t<tr><td>Retractable Roof            </td><td> 21                         </td></tr>\n",
       "\t<tr><td>Turf                        </td><td>  1                         </td></tr>\n",
       "</tbody>\n",
       "</table>\n"
      ],
      "text/latex": [
       "\\begin{tabular}{r|ll}\n",
       " StadiumType & Total\\_Count\\\\\n",
       "\\hline\n",
       "\t Closed Dome                  &   2                         \\\\\n",
       "\t Dome                         &  21                         \\\\\n",
       "\t Dome, closed                 &   2                         \\\\\n",
       "\t Domed, closed                &   2                         \\\\\n",
       "\t Heinz Field                  &   1                         \\\\\n",
       "\t Indoor                       &  42                         \\\\\n",
       "\t Indoor, fixed roof           &   1                         \\\\\n",
       "\t Indoor, Fixed Roof           &   1                         \\\\\n",
       "\t Indoor, Non-Retractable Dome &   1                         \\\\\n",
       "\t Indoor, non-retractable roof &   2                         \\\\\n",
       "\t Indoor, Open Roof            &   1                         \\\\\n",
       "\t Indoor, Roof Closed          &   1                         \\\\\n",
       "\t Indoors                      &  46                         \\\\\n",
       "\t Indoors (Domed)              &   2                         \\\\\n",
       "\t Open                         &  20                         \\\\\n",
       "\t Oudoor                       &   1                         \\\\\n",
       "\t Ourdoor                      &   1                         \\\\\n",
       "\t Outddors                     &   1                         \\\\\n",
       "\t outdoor                      &   4                         \\\\\n",
       "\t Outdoor                      & 348                         \\\\\n",
       "\t Outdoor Retr Roof-Open       &   1                         \\\\\n",
       "\t Outdoors                     &  81                         \\\\\n",
       "\t Outdoors                     &   2                         \\\\\n",
       "\t Outdor                       &   1                         \\\\\n",
       "\t Outside                      &   1                         \\\\\n",
       "\t Retr. Roof-Closed            &   4                         \\\\\n",
       "\t Retr. Roof-Open              &   2                         \\\\\n",
       "\t Retr. roof - closed          &   1                         \\\\\n",
       "\t Retr. Roof - Closed          &   9                         \\\\\n",
       "\t Retr. Roof - Open            &   3                         \\\\\n",
       "\t Retr. Roof Closed            &   1                         \\\\\n",
       "\t Retractable Roof             &  21                         \\\\\n",
       "\t Turf                         &   1                         \\\\\n",
       "\\end{tabular}\n"
      ],
      "text/markdown": [
       "\n",
       "StadiumType | Total_Count | \n",
       "|---|---|---|---|---|---|---|---|---|---|---|---|---|---|---|---|---|---|---|---|---|---|---|---|---|---|---|---|---|---|---|---|---|\n",
       "| Closed Dome                  |   2                          | \n",
       "| Dome                         |  21                          | \n",
       "| Dome, closed                 |   2                          | \n",
       "| Domed, closed                |   2                          | \n",
       "| Heinz Field                  |   1                          | \n",
       "| Indoor                       |  42                          | \n",
       "| Indoor, fixed roof           |   1                          | \n",
       "| Indoor, Fixed Roof           |   1                          | \n",
       "| Indoor, Non-Retractable Dome |   1                          | \n",
       "| Indoor, non-retractable roof |   2                          | \n",
       "| Indoor, Open Roof            |   1                          | \n",
       "| Indoor, Roof Closed          |   1                          | \n",
       "| Indoors                      |  46                          | \n",
       "| Indoors (Domed)              |   2                          | \n",
       "| Open                         |  20                          | \n",
       "| Oudoor                       |   1                          | \n",
       "| Ourdoor                      |   1                          | \n",
       "| Outddors                     |   1                          | \n",
       "| outdoor                      |   4                          | \n",
       "| Outdoor                      | 348                          | \n",
       "| Outdoor Retr Roof-Open       |   1                          | \n",
       "| Outdoors                     |  81                          | \n",
       "| Outdoors                     |   2                          | \n",
       "| Outdor                       |   1                          | \n",
       "| Outside                      |   1                          | \n",
       "| Retr. Roof-Closed            |   4                          | \n",
       "| Retr. Roof-Open              |   2                          | \n",
       "| Retr. roof - closed          |   1                          | \n",
       "| Retr. Roof - Closed          |   9                          | \n",
       "| Retr. Roof - Open            |   3                          | \n",
       "| Retr. Roof Closed            |   1                          | \n",
       "| Retractable Roof             |  21                          | \n",
       "| Turf                         |   1                          | \n",
       "\n",
       "\n"
      ],
      "text/plain": [
       "   StadiumType                  Total_Count\n",
       "1  Closed Dome                    2        \n",
       "2  Dome                          21        \n",
       "3  Dome, closed                   2        \n",
       "4  Domed, closed                  2        \n",
       "5  Heinz Field                    1        \n",
       "6  Indoor                        42        \n",
       "7  Indoor, fixed roof             1        \n",
       "8  Indoor, Fixed Roof             1        \n",
       "9  Indoor, Non-Retractable Dome   1        \n",
       "10 Indoor, non-retractable roof   2        \n",
       "11 Indoor, Open Roof              1        \n",
       "12 Indoor, Roof Closed            1        \n",
       "13 Indoors                       46        \n",
       "14 Indoors (Domed)                2        \n",
       "15 Open                          20        \n",
       "16 Oudoor                         1        \n",
       "17 Ourdoor                        1        \n",
       "18 Outddors                       1        \n",
       "19 outdoor                        4        \n",
       "20 Outdoor                      348        \n",
       "21 Outdoor Retr Roof-Open         1        \n",
       "22 Outdoors                      81        \n",
       "23 Outdoors                       2        \n",
       "24 Outdor                         1        \n",
       "25 Outside                        1        \n",
       "26 Retr. Roof-Closed              4        \n",
       "27 Retr. Roof-Open                2        \n",
       "28 Retr. roof - closed            1        \n",
       "29 Retr. Roof - Closed            9        \n",
       "30 Retr. Roof - Open              3        \n",
       "31 Retr. Roof Closed              1        \n",
       "32 Retractable Roof              21        \n",
       "33 Turf                           1        "
      ]
     },
     "metadata": {},
     "output_type": "display_data"
    },
    {
     "data": {
      "text/html": [
       "<table>\n",
       "<thead><tr><th scope=col>StadiumType</th><th scope=col>Injury_Count</th></tr></thead>\n",
       "<tbody>\n",
       "\t<tr><td>Dome               </td><td> 1                 </td></tr>\n",
       "\t<tr><td>Indoors            </td><td> 2                 </td></tr>\n",
       "\t<tr><td>Open               </td><td> 1                 </td></tr>\n",
       "\t<tr><td>Outdoor            </td><td>20                 </td></tr>\n",
       "\t<tr><td>Outdoors           </td><td> 6                 </td></tr>\n",
       "\t<tr><td>Outdoors           </td><td> 1                 </td></tr>\n",
       "\t<tr><td>Outside            </td><td> 1                 </td></tr>\n",
       "\t<tr><td>Retr. Roof - Closed</td><td> 2                 </td></tr>\n",
       "\t<tr><td>Retractable Roof   </td><td> 2                 </td></tr>\n",
       "</tbody>\n",
       "</table>\n"
      ],
      "text/latex": [
       "\\begin{tabular}{r|ll}\n",
       " StadiumType & Injury\\_Count\\\\\n",
       "\\hline\n",
       "\t Dome                &  1                 \\\\\n",
       "\t Indoors             &  2                 \\\\\n",
       "\t Open                &  1                 \\\\\n",
       "\t Outdoor             & 20                 \\\\\n",
       "\t Outdoors            &  6                 \\\\\n",
       "\t Outdoors            &  1                 \\\\\n",
       "\t Outside             &  1                 \\\\\n",
       "\t Retr. Roof - Closed &  2                 \\\\\n",
       "\t Retractable Roof    &  2                 \\\\\n",
       "\\end{tabular}\n"
      ],
      "text/markdown": [
       "\n",
       "StadiumType | Injury_Count | \n",
       "|---|---|---|---|---|---|---|---|---|\n",
       "| Dome                |  1                  | \n",
       "| Indoors             |  2                  | \n",
       "| Open                |  1                  | \n",
       "| Outdoor             | 20                  | \n",
       "| Outdoors            |  6                  | \n",
       "| Outdoors            |  1                  | \n",
       "| Outside             |  1                  | \n",
       "| Retr. Roof - Closed |  2                  | \n",
       "| Retractable Roof    |  2                  | \n",
       "\n",
       "\n"
      ],
      "text/plain": [
       "  StadiumType         Injury_Count\n",
       "1 Dome                 1          \n",
       "2 Indoors              2          \n",
       "3 Open                 1          \n",
       "4 Outdoor             20          \n",
       "5 Outdoors             6          \n",
       "6 Outdoors             1          \n",
       "7 Outside              1          \n",
       "8 Retr. Roof - Closed  2          \n",
       "9 Retractable Roof     2          "
      ]
     },
     "metadata": {},
     "output_type": "display_data"
    }
   ],
   "source": [
    "adgd_stad_type <- game_data %>% group_by(StadiumType) %>% dplyr::summarize(Total_Count = n())\n",
    "#removing first row as it doesn't specify any type\n",
    "adgd_stad_type <- adgd_stad_type[-c(1), ]\n",
    "adgd_stad_type\n",
    "adgd_stad_pivot <- adv_gamedata %>% group_by(StadiumType) %>% dplyr::summarize(Injury_Count = n())\n",
    "adgd_stad_pivot <- adgd_stad_pivot[-c(1), ]\n",
    "adgd_stad_pivot"
   ]
  },
  {
   "cell_type": "markdown",
   "metadata": {},
   "source": [
    "The data is very noisy, yet we can see here that injuries occur more on outdoor Stadium Types. "
   ]
  },
  {
   "cell_type": "markdown",
   "metadata": {},
   "source": [
    "Let's see if temperature has anything to do with punt related concussions."
   ]
  },
  {
   "cell_type": "markdown",
   "metadata": {},
   "source": [
    "### Concussion rates by Temperature\n",
    "- It can be seen that colder games are more likely to result in concussions."
   ]
  },
  {
   "cell_type": "code",
   "execution_count": 24,
   "metadata": {},
   "outputs": [
    {
     "data": {},
     "metadata": {},
     "output_type": "display_data"
    },
    {
     "data": {
      "image/png": "[encoded data removed]",
      "text/plain": [
       "plot without title"
      ]
     },
     "metadata": {},
     "output_type": "display_data"
    }
   ],
   "source": [
    "oldw <- getOption(\"warn\")\n",
    "options(warn = -1)\n",
    "ggplot(game_data, aes(x = Temperature, fill = injury)) + geom_density(alpha=0.5, aes(fill=factor(injury))) + labs(title=\"Density of concussion, given Temperature\") +\n",
    "scale_x_continuous(breaks = scales::pretty_breaks(n = 10))\n",
    "options(warn = oldw)"
   ]
  },
  {
   "cell_type": "markdown",
   "metadata": {},
   "source": [
    "## Formation and Concussion Rates  "
   ]
  },
  {
   "cell_type": "code",
   "execution_count": 25,
   "metadata": {},
   "outputs": [
    {
     "data": {
      "text/html": [
       "<table>\n",
       "<thead><tr><th scope=col>Season_Year</th><th scope=col>Season_Type</th><th scope=col>GameKey</th><th scope=col>Game_Date</th><th scope=col>Week</th><th scope=col>PlayID</th><th scope=col>Game_Clock</th><th scope=col>YardLine</th><th scope=col>Quarter</th><th scope=col>Play_Type</th><th scope=col>Poss_Team</th><th scope=col>Home_Team_Visit_Team</th><th scope=col>Score_Home_Visiting</th><th scope=col>PlayDescription</th></tr></thead>\n",
       "<tbody>\n",
       "\t<tr><td>2016                                                                                                                                                                                                                     </td><td>Pre                                                                                                                                                                                                                      </td><td>2                                                                                                                                                                                                                        </td><td>08/13/2016                                                                                                                                                                                                               </td><td>2                                                                                                                                                                                                                        </td><td> 191                                                                                                                                                                                                                     </td><td>12:30                                                                                                                                                                                                                    </td><td>LA 47                                                                                                                                                                                                                    </td><td>1                                                                                                                                                                                                                        </td><td>Punt                                                                                                                                                                                                                     </td><td>LA                                                                                                                                                                                                                       </td><td>LA-DAL                                                                                                                                                                                                                   </td><td>0 - 7                                                                                                                                                                                                                    </td><td>(12:30) J.Hekker punts 52 yards to DAL 1, Center-J.McQuaide, downed by LA-E.Sims. Dallas challenged the kick downed ruling, and the play was REVERSED. J.Hekker punts 53 yards to end zone, Center-J.McQuaide, Touchback.</td></tr>\n",
       "\t<tr><td>2016                                                                                                                                                                                                                     </td><td>Pre                                                                                                                                                                                                                      </td><td>2                                                                                                                                                                                                                        </td><td>08/13/2016                                                                                                                                                                                                               </td><td>2                                                                                                                                                                                                                        </td><td>1132                                                                                                                                                                                                                     </td><td>12:08                                                                                                                                                                                                                    </td><td>LA 29                                                                                                                                                                                                                    </td><td>2                                                                                                                                                                                                                        </td><td>Punt                                                                                                                                                                                                                     </td><td>LA                                                                                                                                                                                                                       </td><td>LA-DAL                                                                                                                                                                                                                   </td><td>Jul-21                                                                                                                                                                                                                   </td><td>(12:08) J.Hekker punts 51 yards to DAL 20, Center-J.McQuaide, fair catch by L.Whitehead. PENALTY on DAL-K.Wilber, Offensive Holding, 10 yards, enforced at DAL 20.                                                       </td></tr>\n",
       "\t<tr><td>2016                                                                                                                                                                                                                     </td><td>Pre                                                                                                                                                                                                                      </td><td>2                                                                                                                                                                                                                        </td><td>08/13/2016                                                                                                                                                                                                               </td><td>2                                                                                                                                                                                                                        </td><td>1227                                                                                                                                                                                                                     </td><td>10:01                                                                                                                                                                                                                    </td><td>DAL 18                                                                                                                                                                                                                   </td><td>2                                                                                                                                                                                                                        </td><td>Punt                                                                                                                                                                                                                     </td><td>DAL                                                                                                                                                                                                                      </td><td>LA-DAL                                                                                                                                                                                                                   </td><td>Jul-21                                                                                                                                                                                                                   </td><td>(10:01) C.Jones punts 40 yards to LA 42, Center-L.Ladouceur. P.Cooper to DAL 33 for 25 yards (C.Jones; A.Hitchens).                                                                                                      </td></tr>\n",
       "\t<tr><td>2016                                                                                                                                                                                                                     </td><td>Pre                                                                                                                                                                                                                      </td><td>2                                                                                                                                                                                                                        </td><td>08/13/2016                                                                                                                                                                                                               </td><td>2                                                                                                                                                                                                                        </td><td>1864                                                                                                                                                                                                                     </td><td>00:21                                                                                                                                                                                                                    </td><td>DAL 46                                                                                                                                                                                                                   </td><td>2                                                                                                                                                                                                                        </td><td>Punt                                                                                                                                                                                                                     </td><td>LA                                                                                                                                                                                                                       </td><td>LA-DAL                                                                                                                                                                                                                   </td><td>Jul-24                                                                                                                                                                                                                   </td><td>(:21) J.Hekker punts 31 yards to DAL 15, Center-J.McQuaide, out of bounds.                                                                                                                                               </td></tr>\n",
       "\t<tr><td>2016                                                                                                                                                                                                                     </td><td>Pre                                                                                                                                                                                                                      </td><td>2                                                                                                                                                                                                                        </td><td>08/13/2016                                                                                                                                                                                                               </td><td>2                                                                                                                                                                                                                        </td><td>2247                                                                                                                                                                                                                     </td><td>10:26                                                                                                                                                                                                                    </td><td>DAL 15                                                                                                                                                                                                                   </td><td>3                                                                                                                                                                                                                        </td><td>Punt                                                                                                                                                                                                                     </td><td>DAL                                                                                                                                                                                                                      </td><td>LA-DAL                                                                                                                                                                                                                   </td><td>14 - 24                                                                                                                                                                                                                  </td><td>(10:26) M.Wile punts 40 yards to LA 45, Center-Z.Wood, out of bounds.                                                                                                                                                    </td></tr>\n",
       "\t<tr><td>2016                                                                                                                                                                                                                     </td><td>Pre                                                                                                                                                                                                                      </td><td>2                                                                                                                                                                                                                        </td><td>08/13/2016                                                                                                                                                                                                               </td><td>2                                                                                                                                                                                                                        </td><td>2342                                                                                                                                                                                                                     </td><td>09:00                                                                                                                                                                                                                    </td><td>LA 50                                                                                                                                                                                                                    </td><td>3                                                                                                                                                                                                                        </td><td>Punt                                                                                                                                                                                                                     </td><td>LA                                                                                                                                                                                                                       </td><td>LA-DAL                                                                                                                                                                                                                   </td><td>14 - 24                                                                                                                                                                                                                  </td><td>(9:00) J.Hekker punts 50 yards to end zone, Center-J.Overbaugh, Touchback.                                                                                                                                               </td></tr>\n",
       "</tbody>\n",
       "</table>\n"
      ],
      "text/latex": [
       "\\begin{tabular}{r|llllllllllllll}\n",
       " Season\\_Year & Season\\_Type & GameKey & Game\\_Date & Week & PlayID & Game\\_Clock & YardLine & Quarter & Play\\_Type & Poss\\_Team & Home\\_Team\\_Visit\\_Team & Score\\_Home\\_Visiting & PlayDescription\\\\\n",
       "\\hline\n",
       "\t 2016                                                                                                                                                                                                                      & Pre                                                                                                                                                                                                                       & 2                                                                                                                                                                                                                         & 08/13/2016                                                                                                                                                                                                                & 2                                                                                                                                                                                                                         &  191                                                                                                                                                                                                                      & 12:30                                                                                                                                                                                                                     & LA 47                                                                                                                                                                                                                     & 1                                                                                                                                                                                                                         & Punt                                                                                                                                                                                                                      & LA                                                                                                                                                                                                                        & LA-DAL                                                                                                                                                                                                                    & 0 - 7                                                                                                                                                                                                                     & (12:30) J.Hekker punts 52 yards to DAL 1, Center-J.McQuaide, downed by LA-E.Sims. Dallas challenged the kick downed ruling, and the play was REVERSED. J.Hekker punts 53 yards to end zone, Center-J.McQuaide, Touchback.\\\\\n",
       "\t 2016                                                                                                                                                                                                                      & Pre                                                                                                                                                                                                                       & 2                                                                                                                                                                                                                         & 08/13/2016                                                                                                                                                                                                                & 2                                                                                                                                                                                                                         & 1132                                                                                                                                                                                                                      & 12:08                                                                                                                                                                                                                     & LA 29                                                                                                                                                                                                                     & 2                                                                                                                                                                                                                         & Punt                                                                                                                                                                                                                      & LA                                                                                                                                                                                                                        & LA-DAL                                                                                                                                                                                                                    & Jul-21                                                                                                                                                                                                                    & (12:08) J.Hekker punts 51 yards to DAL 20, Center-J.McQuaide, fair catch by L.Whitehead. PENALTY on DAL-K.Wilber, Offensive Holding, 10 yards, enforced at DAL 20.                                                       \\\\\n",
       "\t 2016                                                                                                                                                                                                                      & Pre                                                                                                                                                                                                                       & 2                                                                                                                                                                                                                         & 08/13/2016                                                                                                                                                                                                                & 2                                                                                                                                                                                                                         & 1227                                                                                                                                                                                                                      & 10:01                                                                                                                                                                                                                     & DAL 18                                                                                                                                                                                                                    & 2                                                                                                                                                                                                                         & Punt                                                                                                                                                                                                                      & DAL                                                                                                                                                                                                                       & LA-DAL                                                                                                                                                                                                                    & Jul-21                                                                                                                                                                                                                    & (10:01) C.Jones punts 40 yards to LA 42, Center-L.Ladouceur. P.Cooper to DAL 33 for 25 yards (C.Jones; A.Hitchens).                                                                                                      \\\\\n",
       "\t 2016                                                                                                                                                                                                                      & Pre                                                                                                                                                                                                                       & 2                                                                                                                                                                                                                         & 08/13/2016                                                                                                                                                                                                                & 2                                                                                                                                                                                                                         & 1864                                                                                                                                                                                                                      & 00:21                                                                                                                                                                                                                     & DAL 46                                                                                                                                                                                                                    & 2                                                                                                                                                                                                                         & Punt                                                                                                                                                                                                                      & LA                                                                                                                                                                                                                        & LA-DAL                                                                                                                                                                                                                    & Jul-24                                                                                                                                                                                                                    & (:21) J.Hekker punts 31 yards to DAL 15, Center-J.McQuaide, out of bounds.                                                                                                                                               \\\\\n",
       "\t 2016                                                                                                                                                                                                                      & Pre                                                                                                                                                                                                                       & 2                                                                                                                                                                                                                         & 08/13/2016                                                                                                                                                                                                                & 2                                                                                                                                                                                                                         & 2247                                                                                                                                                                                                                      & 10:26                                                                                                                                                                                                                     & DAL 15                                                                                                                                                                                                                    & 3                                                                                                                                                                                                                         & Punt                                                                                                                                                                                                                      & DAL                                                                                                                                                                                                                       & LA-DAL                                                                                                                                                                                                                    & 14 - 24                                                                                                                                                                                                                   & (10:26) M.Wile punts 40 yards to LA 45, Center-Z.Wood, out of bounds.                                                                                                                                                    \\\\\n",
       "\t 2016                                                                                                                                                                                                                      & Pre                                                                                                                                                                                                                       & 2                                                                                                                                                                                                                         & 08/13/2016                                                                                                                                                                                                                & 2                                                                                                                                                                                                                         & 2342                                                                                                                                                                                                                      & 09:00                                                                                                                                                                                                                     & LA 50                                                                                                                                                                                                                     & 3                                                                                                                                                                                                                         & Punt                                                                                                                                                                                                                      & LA                                                                                                                                                                                                                        & LA-DAL                                                                                                                                                                                                                    & 14 - 24                                                                                                                                                                                                                   & (9:00) J.Hekker punts 50 yards to end zone, Center-J.Overbaugh, Touchback.                                                                                                                                               \\\\\n",
       "\\end{tabular}\n"
      ],
      "text/markdown": [
       "\n",
       "Season_Year | Season_Type | GameKey | Game_Date | Week | PlayID | Game_Clock | YardLine | Quarter | Play_Type | Poss_Team | Home_Team_Visit_Team | Score_Home_Visiting | PlayDescription | \n",
       "|---|---|---|---|---|---|\n",
       "| 2016                                                                                                                                                                                                                      | Pre                                                                                                                                                                                                                       | 2                                                                                                                                                                                                                         | 08/13/2016                                                                                                                                                                                                                | 2                                                                                                                                                                                                                         |  191                                                                                                                                                                                                                      | 12:30                                                                                                                                                                                                                     | LA 47                                                                                                                                                                                                                     | 1                                                                                                                                                                                                                         | Punt                                                                                                                                                                                                                      | LA                                                                                                                                                                                                                        | LA-DAL                                                                                                                                                                                                                    | 0 - 7                                                                                                                                                                                                                     | (12:30) J.Hekker punts 52 yards to DAL 1, Center-J.McQuaide, downed by LA-E.Sims. Dallas challenged the kick downed ruling, and the play was REVERSED. J.Hekker punts 53 yards to end zone, Center-J.McQuaide, Touchback. | \n",
       "| 2016                                                                                                                                                                                                                      | Pre                                                                                                                                                                                                                       | 2                                                                                                                                                                                                                         | 08/13/2016                                                                                                                                                                                                                | 2                                                                                                                                                                                                                         | 1132                                                                                                                                                                                                                      | 12:08                                                                                                                                                                                                                     | LA 29                                                                                                                                                                                                                     | 2                                                                                                                                                                                                                         | Punt                                                                                                                                                                                                                      | LA                                                                                                                                                                                                                        | LA-DAL                                                                                                                                                                                                                    | Jul-21                                                                                                                                                                                                                    | (12:08) J.Hekker punts 51 yards to DAL 20, Center-J.McQuaide, fair catch by L.Whitehead. PENALTY on DAL-K.Wilber, Offensive Holding, 10 yards, enforced at DAL 20.                                                        | \n",
       "| 2016                                                                                                                                                                                                                      | Pre                                                                                                                                                                                                                       | 2                                                                                                                                                                                                                         | 08/13/2016                                                                                                                                                                                                                | 2                                                                                                                                                                                                                         | 1227                                                                                                                                                                                                                      | 10:01                                                                                                                                                                                                                     | DAL 18                                                                                                                                                                                                                    | 2                                                                                                                                                                                                                         | Punt                                                                                                                                                                                                                      | DAL                                                                                                                                                                                                                       | LA-DAL                                                                                                                                                                                                                    | Jul-21                                                                                                                                                                                                                    | (10:01) C.Jones punts 40 yards to LA 42, Center-L.Ladouceur. P.Cooper to DAL 33 for 25 yards (C.Jones; A.Hitchens).                                                                                                       | \n",
       "| 2016                                                                                                                                                                                                                      | Pre                                                                                                                                                                                                                       | 2                                                                                                                                                                                                                         | 08/13/2016                                                                                                                                                                                                                | 2                                                                                                                                                                                                                         | 1864                                                                                                                                                                                                                      | 00:21                                                                                                                                                                                                                     | DAL 46                                                                                                                                                                                                                    | 2                                                                                                                                                                                                                         | Punt                                                                                                                                                                                                                      | LA                                                                                                                                                                                                                        | LA-DAL                                                                                                                                                                                                                    | Jul-24                                                                                                                                                                                                                    | (:21) J.Hekker punts 31 yards to DAL 15, Center-J.McQuaide, out of bounds.                                                                                                                                                | \n",
       "| 2016                                                                                                                                                                                                                      | Pre                                                                                                                                                                                                                       | 2                                                                                                                                                                                                                         | 08/13/2016                                                                                                                                                                                                                | 2                                                                                                                                                                                                                         | 2247                                                                                                                                                                                                                      | 10:26                                                                                                                                                                                                                     | DAL 15                                                                                                                                                                                                                    | 3                                                                                                                                                                                                                         | Punt                                                                                                                                                                                                                      | DAL                                                                                                                                                                                                                       | LA-DAL                                                                                                                                                                                                                    | 14 - 24                                                                                                                                                                                                                   | (10:26) M.Wile punts 40 yards to LA 45, Center-Z.Wood, out of bounds.                                                                                                                                                     | \n",
       "| 2016                                                                                                                                                                                                                      | Pre                                                                                                                                                                                                                       | 2                                                                                                                                                                                                                         | 08/13/2016                                                                                                                                                                                                                | 2                                                                                                                                                                                                                         | 2342                                                                                                                                                                                                                      | 09:00                                                                                                                                                                                                                     | LA 50                                                                                                                                                                                                                     | 3                                                                                                                                                                                                                         | Punt                                                                                                                                                                                                                      | LA                                                                                                                                                                                                                        | LA-DAL                                                                                                                                                                                                                    | 14 - 24                                                                                                                                                                                                                   | (9:00) J.Hekker punts 50 yards to end zone, Center-J.Overbaugh, Touchback.                                                                                                                                                | \n",
       "\n",
       "\n"
      ],
      "text/plain": [
       "  Season_Year Season_Type GameKey Game_Date  Week PlayID Game_Clock YardLine\n",
       "1 2016        Pre         2       08/13/2016 2     191   12:30      LA 47   \n",
       "2 2016        Pre         2       08/13/2016 2    1132   12:08      LA 29   \n",
       "3 2016        Pre         2       08/13/2016 2    1227   10:01      DAL 18  \n",
       "4 2016        Pre         2       08/13/2016 2    1864   00:21      DAL 46  \n",
       "5 2016        Pre         2       08/13/2016 2    2247   10:26      DAL 15  \n",
       "6 2016        Pre         2       08/13/2016 2    2342   09:00      LA 50   \n",
       "  Quarter Play_Type Poss_Team Home_Team_Visit_Team Score_Home_Visiting\n",
       "1 1       Punt      LA        LA-DAL               0 - 7              \n",
       "2 2       Punt      LA        LA-DAL               Jul-21             \n",
       "3 2       Punt      DAL       LA-DAL               Jul-21             \n",
       "4 2       Punt      LA        LA-DAL               Jul-24             \n",
       "5 3       Punt      DAL       LA-DAL               14 - 24            \n",
       "6 3       Punt      LA        LA-DAL               14 - 24            \n",
       "  PlayDescription                                                                                                                                                                                                          \n",
       "1 (12:30) J.Hekker punts 52 yards to DAL 1, Center-J.McQuaide, downed by LA-E.Sims. Dallas challenged the kick downed ruling, and the play was REVERSED. J.Hekker punts 53 yards to end zone, Center-J.McQuaide, Touchback.\n",
       "2 (12:08) J.Hekker punts 51 yards to DAL 20, Center-J.McQuaide, fair catch by L.Whitehead. PENALTY on DAL-K.Wilber, Offensive Holding, 10 yards, enforced at DAL 20.                                                       \n",
       "3 (10:01) C.Jones punts 40 yards to LA 42, Center-L.Ladouceur. P.Cooper to DAL 33 for 25 yards (C.Jones; A.Hitchens).                                                                                                      \n",
       "4 (:21) J.Hekker punts 31 yards to DAL 15, Center-J.McQuaide, out of bounds.                                                                                                                                               \n",
       "5 (10:26) M.Wile punts 40 yards to LA 45, Center-Z.Wood, out of bounds.                                                                                                                                                    \n",
       "6 (9:00) J.Hekker punts 50 yards to end zone, Center-J.Overbaugh, Touchback.                                                                                                                                               "
      ]
     },
     "metadata": {},
     "output_type": "display_data"
    }
   ],
   "source": [
    "head(play_info)"
   ]
  },
  {
   "cell_type": "code",
   "execution_count": 41,
   "metadata": {},
   "outputs": [],
   "source": [
    "play_info$game_play_id <- paste(play_info$GameKey,play_info$PlayID,sep=\"_\")\n",
    "vid_rev$game_play_id <- paste(vid_rev$GameKey,vid_rev$PlayID,sep=\"_\")\n",
    "\n",
    "play_info$injury <- play_info$GameKey %in% vid_rev$GameKey"
   ]
  },
  {
   "cell_type": "code",
   "execution_count": 26,
   "metadata": {},
   "outputs": [
    {
     "data": {
      "text/html": [
       "<table>\n",
       "<thead><tr><th scope=col>Season_Year</th><th scope=col>GameKey</th><th scope=col>PlayID</th><th scope=col>GSISID</th><th scope=col>Role</th></tr></thead>\n",
       "<tbody>\n",
       "\t<tr><td>2016 </td><td>2    </td><td>191  </td><td>26280</td><td>VR   </td></tr>\n",
       "\t<tr><td>2016 </td><td>2    </td><td>191  </td><td>27787</td><td>PRG  </td></tr>\n",
       "\t<tr><td>2016 </td><td>2    </td><td>191  </td><td>28394</td><td>PLS  </td></tr>\n",
       "\t<tr><td>2016 </td><td>2    </td><td>191  </td><td>28795</td><td>PPR  </td></tr>\n",
       "\t<tr><td>2016 </td><td>2    </td><td>191  </td><td>29676</td><td>VL   </td></tr>\n",
       "\t<tr><td>2016 </td><td>2    </td><td>191  </td><td>29647</td><td>PDL1 </td></tr>\n",
       "</tbody>\n",
       "</table>\n"
      ],
      "text/latex": [
       "\\begin{tabular}{r|lllll}\n",
       " Season\\_Year & GameKey & PlayID & GSISID & Role\\\\\n",
       "\\hline\n",
       "\t 2016  & 2     & 191   & 26280 & VR   \\\\\n",
       "\t 2016  & 2     & 191   & 27787 & PRG  \\\\\n",
       "\t 2016  & 2     & 191   & 28394 & PLS  \\\\\n",
       "\t 2016  & 2     & 191   & 28795 & PPR  \\\\\n",
       "\t 2016  & 2     & 191   & 29676 & VL   \\\\\n",
       "\t 2016  & 2     & 191   & 29647 & PDL1 \\\\\n",
       "\\end{tabular}\n"
      ],
      "text/markdown": [
       "\n",
       "Season_Year | GameKey | PlayID | GSISID | Role | \n",
       "|---|---|---|---|---|---|\n",
       "| 2016  | 2     | 191   | 26280 | VR    | \n",
       "| 2016  | 2     | 191   | 27787 | PRG   | \n",
       "| 2016  | 2     | 191   | 28394 | PLS   | \n",
       "| 2016  | 2     | 191   | 28795 | PPR   | \n",
       "| 2016  | 2     | 191   | 29676 | VL    | \n",
       "| 2016  | 2     | 191   | 29647 | PDL1  | \n",
       "\n",
       "\n"
      ],
      "text/plain": [
       "  Season_Year GameKey PlayID GSISID Role\n",
       "1 2016        2       191    26280  VR  \n",
       "2 2016        2       191    27787  PRG \n",
       "3 2016        2       191    28394  PLS \n",
       "4 2016        2       191    28795  PPR \n",
       "5 2016        2       191    29676  VL  \n",
       "6 2016        2       191    29647  PDL1"
      ]
     },
     "metadata": {},
     "output_type": "display_data"
    }
   ],
   "source": [
    "head(player_role)"
   ]
  },
  {
   "cell_type": "code",
   "execution_count": 27,
   "metadata": {},
   "outputs": [
    {
     "name": "stdout",
     "output_type": "stream",
     "text": [
      "'data.frame':\t146573 obs. of  5 variables:\n",
      " $ Season_Year: int  2016 2016 2016 2016 2016 2016 2016 2016 2016 2016 ...\n",
      " $ GameKey    : int  2 2 2 2 2 2 2 2 2 2 ...\n",
      " $ PlayID     : int  191 191 191 191 191 191 191 191 191 191 ...\n",
      " $ GSISID     : int  26280 27787 28394 28795 29676 29647 28872 28958 30543 29764 ...\n",
      " $ Role       : Factor w/ 52 levels \"GL\",\"GLi\",\"GLo\",..: 50 44 34 40 47 9 7 23 24 46 ...\n"
     ]
    }
   ],
   "source": [
    "str(player_role)"
   ]
  },
  {
   "cell_type": "code",
   "execution_count": 28,
   "metadata": {},
   "outputs": [
    {
     "data": {
      "text/plain": [
       "  Season_Year      GameKey          PlayID         GSISID           Role       \n",
       " Min.   :2016   Min.   :  2.0   Min.   :  76   Min.   :19714   PR     :  6698  \n",
       " 1st Qu.:2016   1st Qu.:164.0   1st Qu.: 958   1st Qu.:29643   PDL1   :  6673  \n",
       " Median :2017   Median :339.0   Median :1980   Median :31411   PDR1   :  6670  \n",
       " Mean   :2017   Mean   :332.4   Mean   :2014   Mean   :30911   PRG    :  6669  \n",
       " 3rd Qu.:2017   3rd Qu.:500.0   3rd Qu.:3000   3rd Qu.:32668   P      :  6668  \n",
       " Max.   :2017   Max.   :665.0   Max.   :5285   Max.   :34050   PLG    :  6667  \n",
       "                                                               (Other):106528  "
      ]
     },
     "metadata": {},
     "output_type": "display_data"
    }
   ],
   "source": [
    "summary(player_role)"
   ]
  },
  {
   "cell_type": "code",
   "execution_count": 39,
   "metadata": {
    "scrolled": false
   },
   "outputs": [
    {
     "data": {
      "text/html": [
       "<table>\n",
       "<thead><tr><th scope=col>Season_Year</th><th scope=col>GameKey</th><th scope=col>PlayID</th><th scope=col>GSISID</th><th scope=col>Role</th><th scope=col>game_play_id</th><th scope=col>game_play_gsid</th></tr></thead>\n",
       "<tbody>\n",
       "\t<tr><td>2016       </td><td>2          </td><td>191        </td><td>26280      </td><td>VR         </td><td>2_191      </td><td>2_191_26280</td></tr>\n",
       "\t<tr><td>2016       </td><td>2          </td><td>191        </td><td>27787      </td><td>PRG        </td><td>2_191      </td><td>2_191_27787</td></tr>\n",
       "\t<tr><td>2016       </td><td>2          </td><td>191        </td><td>28394      </td><td>PLS        </td><td>2_191      </td><td>2_191_28394</td></tr>\n",
       "\t<tr><td>2016       </td><td>2          </td><td>191        </td><td>28795      </td><td>PPR        </td><td>2_191      </td><td>2_191_28795</td></tr>\n",
       "\t<tr><td>2016       </td><td>2          </td><td>191        </td><td>29676      </td><td>VL         </td><td>2_191      </td><td>2_191_29676</td></tr>\n",
       "\t<tr><td>2016       </td><td>2          </td><td>191        </td><td>29647      </td><td>PDL1       </td><td>2_191      </td><td>2_191_29647</td></tr>\n",
       "</tbody>\n",
       "</table>\n"
      ],
      "text/latex": [
       "\\begin{tabular}{r|lllllll}\n",
       " Season\\_Year & GameKey & PlayID & GSISID & Role & game\\_play\\_id & game\\_play\\_gsid\\\\\n",
       "\\hline\n",
       "\t 2016            & 2               & 191             & 26280           & VR              & 2\\_191         & 2\\_191\\_26280\\\\\n",
       "\t 2016            & 2               & 191             & 27787           & PRG             & 2\\_191         & 2\\_191\\_27787\\\\\n",
       "\t 2016            & 2               & 191             & 28394           & PLS             & 2\\_191         & 2\\_191\\_28394\\\\\n",
       "\t 2016            & 2               & 191             & 28795           & PPR             & 2\\_191         & 2\\_191\\_28795\\\\\n",
       "\t 2016            & 2               & 191             & 29676           & VL              & 2\\_191         & 2\\_191\\_29676\\\\\n",
       "\t 2016            & 2               & 191             & 29647           & PDL1            & 2\\_191         & 2\\_191\\_29647\\\\\n",
       "\\end{tabular}\n"
      ],
      "text/markdown": [
       "\n",
       "Season_Year | GameKey | PlayID | GSISID | Role | game_play_id | game_play_gsid | \n",
       "|---|---|---|---|---|---|\n",
       "| 2016        | 2           | 191         | 26280       | VR          | 2_191       | 2_191_26280 | \n",
       "| 2016        | 2           | 191         | 27787       | PRG         | 2_191       | 2_191_27787 | \n",
       "| 2016        | 2           | 191         | 28394       | PLS         | 2_191       | 2_191_28394 | \n",
       "| 2016        | 2           | 191         | 28795       | PPR         | 2_191       | 2_191_28795 | \n",
       "| 2016        | 2           | 191         | 29676       | VL          | 2_191       | 2_191_29676 | \n",
       "| 2016        | 2           | 191         | 29647       | PDL1        | 2_191       | 2_191_29647 | \n",
       "\n",
       "\n"
      ],
      "text/plain": [
       "  Season_Year GameKey PlayID GSISID Role game_play_id game_play_gsid\n",
       "1 2016        2       191    26280  VR   2_191        2_191_26280   \n",
       "2 2016        2       191    27787  PRG  2_191        2_191_27787   \n",
       "3 2016        2       191    28394  PLS  2_191        2_191_28394   \n",
       "4 2016        2       191    28795  PPR  2_191        2_191_28795   \n",
       "5 2016        2       191    29676  VL   2_191        2_191_29676   \n",
       "6 2016        2       191    29647  PDL1 2_191        2_191_29647   "
      ]
     },
     "metadata": {},
     "output_type": "display_data"
    }
   ],
   "source": [
    "player_role$game_play_id <- paste(player_role$GameKey,player_role$PlayID,sep=\"_\")\n",
    "head(player_role)\n"
   ]
  },
  {
   "cell_type": "code",
   "execution_count": 36,
   "metadata": {
    "scrolled": false
   },
   "outputs": [
    {
     "data": {
      "text/html": [
       "<table>\n",
       "<thead><tr><th scope=col>game_play_id</th><th scope=col>Role</th></tr></thead>\n",
       "<tbody>\n",
       "\t<tr><td>2_191</td><td>VR   </td></tr>\n",
       "\t<tr><td>2_191</td><td>PRG  </td></tr>\n",
       "\t<tr><td>2_191</td><td>PLS  </td></tr>\n",
       "\t<tr><td>2_191</td><td>PPR  </td></tr>\n",
       "\t<tr><td>2_191</td><td>VL   </td></tr>\n",
       "\t<tr><td>2_191</td><td>PDL1 </td></tr>\n",
       "</tbody>\n",
       "</table>\n"
      ],
      "text/latex": [
       "\\begin{tabular}{r|ll}\n",
       " game\\_play\\_id & Role\\\\\n",
       "\\hline\n",
       "\t 2\\_191 & VR     \\\\\n",
       "\t 2\\_191 & PRG    \\\\\n",
       "\t 2\\_191 & PLS    \\\\\n",
       "\t 2\\_191 & PPR    \\\\\n",
       "\t 2\\_191 & VL     \\\\\n",
       "\t 2\\_191 & PDL1   \\\\\n",
       "\\end{tabular}\n"
      ],
      "text/markdown": [
       "\n",
       "game_play_id | Role | \n",
       "|---|---|---|---|---|---|\n",
       "| 2_191 | VR    | \n",
       "| 2_191 | PRG   | \n",
       "| 2_191 | PLS   | \n",
       "| 2_191 | PPR   | \n",
       "| 2_191 | VL    | \n",
       "| 2_191 | PDL1  | \n",
       "\n",
       "\n"
      ],
      "text/plain": [
       "  game_play_id Role\n",
       "1 2_191        VR  \n",
       "2 2_191        PRG \n",
       "3 2_191        PLS \n",
       "4 2_191        PPR \n",
       "5 2_191        VL  \n",
       "6 2_191        PDL1"
      ]
     },
     "metadata": {},
     "output_type": "display_data"
    }
   ],
   "source": [
    "temp_table <- select(player_role,game_play_id,Role)\n",
    "head(temp_table)\n"
   ]
  },
  {
   "cell_type": "code",
   "execution_count": 34,
   "metadata": {},
   "outputs": [],
   "source": [
    "game_formation_data <- temp_table %>% \n",
    "     group_by(game_play_id) %>% \n",
    "     summarize(formation = paste0(Role, collapse = \"_\")) %>%\n",
    "     select(game_play_id,formation)"
   ]
  },
  {
   "cell_type": "code",
   "execution_count": 35,
   "metadata": {
    "scrolled": false
   },
   "outputs": [
    {
     "data": {
      "text/html": [
       "<table>\n",
       "<thead><tr><th scope=col>game_play_id</th><th scope=col>formation</th></tr></thead>\n",
       "<tbody>\n",
       "\t<tr><td>10_1275                                                                                 </td><td>PLS_PLW_PLG_PDR3_VRo_PPR_PR_VLo_PDR1_PDL1_P_PRG_PDL3_VRi_VLi_PDR2_PDL2_GR_PRW_GL_PLT_PRT</td></tr>\n",
       "\t<tr><td>10_1409                                                                                 </td><td>VRo_PDL2_PRG_PDR3_PLG_GL_VLo_P_PPL_VRi_PRW_PLS_GR_PDL1_PLW_PDR2_PRT_PLT_PR_VLi_PDR1_PDL3</td></tr>\n",
       "\t<tr><td>10_1501                                                                                 </td><td>PLS_PLW_PLG_PDR3_VRo_PPR_PR_VLo_PDR1_PDL1_P_PRG_PDL3_VRi_VLi_PDR2_PDL2_PRW_GL_PLT_GR_PRT</td></tr>\n",
       "\t<tr><td>10_2693                                                                                 </td><td>PLW_PLG_PPR_PR_PDR3_PDL2_PLR_PDL3_PDR1_PDR2_PLL_P_PRG_PDL1_PRW_PLS_GL_PLT_GR_PRT_VL_VR  </td></tr>\n",
       "\t<tr><td>10_2810                                                                                 </td><td>PLS_PDR2_PPR_PRT_VLo_P_PDL3_PRW_PRG_GR_GL_PLW_PLG_PLT_PR_PDR1_VRo_PDL2_VLi_PDR3_PDL1_VRi</td></tr>\n",
       "\t<tr><td>10_3228                                                                                 </td><td>PLS_PDR3_PPL_PRT_VLo_P_PDL2_PRW_GL_PLW_PLT_PR_PDR1_VRo_PDL3_VLi_PDR2_PDL1_VRi_GR_PRG_PLG</td></tr>\n",
       "</tbody>\n",
       "</table>\n"
      ],
      "text/latex": [
       "\\begin{tabular}{r|ll}\n",
       " game\\_play\\_id & formation\\\\\n",
       "\\hline\n",
       "\t 10\\_1275                                                                                                                          & PLS\\_PLW\\_PLG\\_PDR3\\_VRo\\_PPR\\_PR\\_VLo\\_PDR1\\_PDL1\\_P\\_PRG\\_PDL3\\_VRi\\_VLi\\_PDR2\\_PDL2\\_GR\\_PRW\\_GL\\_PLT\\_PRT\\\\\n",
       "\t 10\\_1409                                                                                                                          & VRo\\_PDL2\\_PRG\\_PDR3\\_PLG\\_GL\\_VLo\\_P\\_PPL\\_VRi\\_PRW\\_PLS\\_GR\\_PDL1\\_PLW\\_PDR2\\_PRT\\_PLT\\_PR\\_VLi\\_PDR1\\_PDL3\\\\\n",
       "\t 10\\_1501                                                                                                                          & PLS\\_PLW\\_PLG\\_PDR3\\_VRo\\_PPR\\_PR\\_VLo\\_PDR1\\_PDL1\\_P\\_PRG\\_PDL3\\_VRi\\_VLi\\_PDR2\\_PDL2\\_PRW\\_GL\\_PLT\\_GR\\_PRT\\\\\n",
       "\t 10\\_2693                                                                                                                          & PLW\\_PLG\\_PPR\\_PR\\_PDR3\\_PDL2\\_PLR\\_PDL3\\_PDR1\\_PDR2\\_PLL\\_P\\_PRG\\_PDL1\\_PRW\\_PLS\\_GL\\_PLT\\_GR\\_PRT\\_VL\\_VR  \\\\\n",
       "\t 10\\_2810                                                                                                                          & PLS\\_PDR2\\_PPR\\_PRT\\_VLo\\_P\\_PDL3\\_PRW\\_PRG\\_GR\\_GL\\_PLW\\_PLG\\_PLT\\_PR\\_PDR1\\_VRo\\_PDL2\\_VLi\\_PDR3\\_PDL1\\_VRi\\\\\n",
       "\t 10\\_3228                                                                                                                          & PLS\\_PDR3\\_PPL\\_PRT\\_VLo\\_P\\_PDL2\\_PRW\\_GL\\_PLW\\_PLT\\_PR\\_PDR1\\_VRo\\_PDL3\\_VLi\\_PDR2\\_PDL1\\_VRi\\_GR\\_PRG\\_PLG\\\\\n",
       "\\end{tabular}\n"
      ],
      "text/markdown": [
       "\n",
       "game_play_id | formation | \n",
       "|---|---|---|---|---|---|\n",
       "| 10_1275                                                                                  | PLS_PLW_PLG_PDR3_VRo_PPR_PR_VLo_PDR1_PDL1_P_PRG_PDL3_VRi_VLi_PDR2_PDL2_GR_PRW_GL_PLT_PRT | \n",
       "| 10_1409                                                                                  | VRo_PDL2_PRG_PDR3_PLG_GL_VLo_P_PPL_VRi_PRW_PLS_GR_PDL1_PLW_PDR2_PRT_PLT_PR_VLi_PDR1_PDL3 | \n",
       "| 10_1501                                                                                  | PLS_PLW_PLG_PDR3_VRo_PPR_PR_VLo_PDR1_PDL1_P_PRG_PDL3_VRi_VLi_PDR2_PDL2_PRW_GL_PLT_GR_PRT | \n",
       "| 10_2693                                                                                  | PLW_PLG_PPR_PR_PDR3_PDL2_PLR_PDL3_PDR1_PDR2_PLL_P_PRG_PDL1_PRW_PLS_GL_PLT_GR_PRT_VL_VR   | \n",
       "| 10_2810                                                                                  | PLS_PDR2_PPR_PRT_VLo_P_PDL3_PRW_PRG_GR_GL_PLW_PLG_PLT_PR_PDR1_VRo_PDL2_VLi_PDR3_PDL1_VRi | \n",
       "| 10_3228                                                                                  | PLS_PDR3_PPL_PRT_VLo_P_PDL2_PRW_GL_PLW_PLT_PR_PDR1_VRo_PDL3_VLi_PDR2_PDL1_VRi_GR_PRG_PLG | \n",
       "\n",
       "\n"
      ],
      "text/plain": [
       "  game_play_id\n",
       "1 10_1275     \n",
       "2 10_1409     \n",
       "3 10_1501     \n",
       "4 10_2693     \n",
       "5 10_2810     \n",
       "6 10_3228     \n",
       "  formation                                                                               \n",
       "1 PLS_PLW_PLG_PDR3_VRo_PPR_PR_VLo_PDR1_PDL1_P_PRG_PDL3_VRi_VLi_PDR2_PDL2_GR_PRW_GL_PLT_PRT\n",
       "2 VRo_PDL2_PRG_PDR3_PLG_GL_VLo_P_PPL_VRi_PRW_PLS_GR_PDL1_PLW_PDR2_PRT_PLT_PR_VLi_PDR1_PDL3\n",
       "3 PLS_PLW_PLG_PDR3_VRo_PPR_PR_VLo_PDR1_PDL1_P_PRG_PDL3_VRi_VLi_PDR2_PDL2_PRW_GL_PLT_GR_PRT\n",
       "4 PLW_PLG_PPR_PR_PDR3_PDL2_PLR_PDL3_PDR1_PDR2_PLL_P_PRG_PDL1_PRW_PLS_GL_PLT_GR_PRT_VL_VR  \n",
       "5 PLS_PDR2_PPR_PRT_VLo_P_PDL3_PRW_PRG_GR_GL_PLW_PLG_PLT_PR_PDR1_VRo_PDL2_VLi_PDR3_PDL1_VRi\n",
       "6 PLS_PDR3_PPL_PRT_VLo_P_PDL2_PRW_GL_PLW_PLT_PR_PDR1_VRo_PDL3_VLi_PDR2_PDL1_VRi_GR_PRG_PLG"
      ]
     },
     "metadata": {},
     "output_type": "display_data"
    }
   ],
   "source": [
    "head(game_formation_data)"
   ]
  },
  {
   "cell_type": "code",
   "execution_count": 55,
   "metadata": {
    "scrolled": true
   },
   "outputs": [
    {
     "data": {
      "text/html": [
       "<table>\n",
       "<thead><tr><th scope=col>game_play_id</th><th scope=col>formation</th><th scope=col>injury</th></tr></thead>\n",
       "<tbody>\n",
       "\t<tr><td>10_1275                                                                                 </td><td>PLS_PLW_PLG_PDR3_VRo_PPR_PR_VLo_PDR1_PDL1_P_PRG_PDL3_VRi_VLi_PDR2_PDL2_GR_PRW_GL_PLT_PRT</td><td>FALSE                                                                                   </td></tr>\n",
       "\t<tr><td>10_1409                                                                                 </td><td>VRo_PDL2_PRG_PDR3_PLG_GL_VLo_P_PPL_VRi_PRW_PLS_GR_PDL1_PLW_PDR2_PRT_PLT_PR_VLi_PDR1_PDL3</td><td>FALSE                                                                                   </td></tr>\n",
       "\t<tr><td>10_1501                                                                                 </td><td>PLS_PLW_PLG_PDR3_VRo_PPR_PR_VLo_PDR1_PDL1_P_PRG_PDL3_VRi_VLi_PDR2_PDL2_PRW_GL_PLT_GR_PRT</td><td>FALSE                                                                                   </td></tr>\n",
       "\t<tr><td>10_2693                                                                                 </td><td>PLW_PLG_PPR_PR_PDR3_PDL2_PLR_PDL3_PDR1_PDR2_PLL_P_PRG_PDL1_PRW_PLS_GL_PLT_GR_PRT_VL_VR  </td><td>FALSE                                                                                   </td></tr>\n",
       "\t<tr><td>10_2810                                                                                 </td><td>PLS_PDR2_PPR_PRT_VLo_P_PDL3_PRW_PRG_GR_GL_PLW_PLG_PLT_PR_PDR1_VRo_PDL2_VLi_PDR3_PDL1_VRi</td><td>FALSE                                                                                   </td></tr>\n",
       "\t<tr><td>10_3228                                                                                 </td><td>PLS_PDR3_PPL_PRT_VLo_P_PDL2_PRW_GL_PLW_PLT_PR_PDR1_VRo_PDL3_VLi_PDR2_PDL1_VRi_GR_PRG_PLG</td><td>FALSE                                                                                   </td></tr>\n",
       "</tbody>\n",
       "</table>\n"
      ],
      "text/latex": [
       "\\begin{tabular}{r|lll}\n",
       " game\\_play\\_id & formation & injury\\\\\n",
       "\\hline\n",
       "\t 10\\_1275                                                                                                                          & PLS\\_PLW\\_PLG\\_PDR3\\_VRo\\_PPR\\_PR\\_VLo\\_PDR1\\_PDL1\\_P\\_PRG\\_PDL3\\_VRi\\_VLi\\_PDR2\\_PDL2\\_GR\\_PRW\\_GL\\_PLT\\_PRT & FALSE                                                                                                                             \\\\\n",
       "\t 10\\_1409                                                                                                                          & VRo\\_PDL2\\_PRG\\_PDR3\\_PLG\\_GL\\_VLo\\_P\\_PPL\\_VRi\\_PRW\\_PLS\\_GR\\_PDL1\\_PLW\\_PDR2\\_PRT\\_PLT\\_PR\\_VLi\\_PDR1\\_PDL3 & FALSE                                                                                                                             \\\\\n",
       "\t 10\\_1501                                                                                                                          & PLS\\_PLW\\_PLG\\_PDR3\\_VRo\\_PPR\\_PR\\_VLo\\_PDR1\\_PDL1\\_P\\_PRG\\_PDL3\\_VRi\\_VLi\\_PDR2\\_PDL2\\_PRW\\_GL\\_PLT\\_GR\\_PRT & FALSE                                                                                                                             \\\\\n",
       "\t 10\\_2693                                                                                                                          & PLW\\_PLG\\_PPR\\_PR\\_PDR3\\_PDL2\\_PLR\\_PDL3\\_PDR1\\_PDR2\\_PLL\\_P\\_PRG\\_PDL1\\_PRW\\_PLS\\_GL\\_PLT\\_GR\\_PRT\\_VL\\_VR   & FALSE                                                                                                                             \\\\\n",
       "\t 10\\_2810                                                                                                                          & PLS\\_PDR2\\_PPR\\_PRT\\_VLo\\_P\\_PDL3\\_PRW\\_PRG\\_GR\\_GL\\_PLW\\_PLG\\_PLT\\_PR\\_PDR1\\_VRo\\_PDL2\\_VLi\\_PDR3\\_PDL1\\_VRi & FALSE                                                                                                                             \\\\\n",
       "\t 10\\_3228                                                                                                                          & PLS\\_PDR3\\_PPL\\_PRT\\_VLo\\_P\\_PDL2\\_PRW\\_GL\\_PLW\\_PLT\\_PR\\_PDR1\\_VRo\\_PDL3\\_VLi\\_PDR2\\_PDL1\\_VRi\\_GR\\_PRG\\_PLG & FALSE                                                                                                                             \\\\\n",
       "\\end{tabular}\n"
      ],
      "text/markdown": [
       "\n",
       "game_play_id | formation | injury | \n",
       "|---|---|---|---|---|---|\n",
       "| 10_1275                                                                                  | PLS_PLW_PLG_PDR3_VRo_PPR_PR_VLo_PDR1_PDL1_P_PRG_PDL3_VRi_VLi_PDR2_PDL2_GR_PRW_GL_PLT_PRT | FALSE                                                                                    | \n",
       "| 10_1409                                                                                  | VRo_PDL2_PRG_PDR3_PLG_GL_VLo_P_PPL_VRi_PRW_PLS_GR_PDL1_PLW_PDR2_PRT_PLT_PR_VLi_PDR1_PDL3 | FALSE                                                                                    | \n",
       "| 10_1501                                                                                  | PLS_PLW_PLG_PDR3_VRo_PPR_PR_VLo_PDR1_PDL1_P_PRG_PDL3_VRi_VLi_PDR2_PDL2_PRW_GL_PLT_GR_PRT | FALSE                                                                                    | \n",
       "| 10_2693                                                                                  | PLW_PLG_PPR_PR_PDR3_PDL2_PLR_PDL3_PDR1_PDR2_PLL_P_PRG_PDL1_PRW_PLS_GL_PLT_GR_PRT_VL_VR   | FALSE                                                                                    | \n",
       "| 10_2810                                                                                  | PLS_PDR2_PPR_PRT_VLo_P_PDL3_PRW_PRG_GR_GL_PLW_PLG_PLT_PR_PDR1_VRo_PDL2_VLi_PDR3_PDL1_VRi | FALSE                                                                                    | \n",
       "| 10_3228                                                                                  | PLS_PDR3_PPL_PRT_VLo_P_PDL2_PRW_GL_PLW_PLT_PR_PDR1_VRo_PDL3_VLi_PDR2_PDL1_VRi_GR_PRG_PLG | FALSE                                                                                    | \n",
       "\n",
       "\n"
      ],
      "text/plain": [
       "  game_play_id\n",
       "1 10_1275     \n",
       "2 10_1409     \n",
       "3 10_1501     \n",
       "4 10_2693     \n",
       "5 10_2810     \n",
       "6 10_3228     \n",
       "  formation                                                                               \n",
       "1 PLS_PLW_PLG_PDR3_VRo_PPR_PR_VLo_PDR1_PDL1_P_PRG_PDL3_VRi_VLi_PDR2_PDL2_GR_PRW_GL_PLT_PRT\n",
       "2 VRo_PDL2_PRG_PDR3_PLG_GL_VLo_P_PPL_VRi_PRW_PLS_GR_PDL1_PLW_PDR2_PRT_PLT_PR_VLi_PDR1_PDL3\n",
       "3 PLS_PLW_PLG_PDR3_VRo_PPR_PR_VLo_PDR1_PDL1_P_PRG_PDL3_VRi_VLi_PDR2_PDL2_PRW_GL_PLT_GR_PRT\n",
       "4 PLW_PLG_PPR_PR_PDR3_PDL2_PLR_PDL3_PDR1_PDR2_PLL_P_PRG_PDL1_PRW_PLS_GL_PLT_GR_PRT_VL_VR  \n",
       "5 PLS_PDR2_PPR_PRT_VLo_P_PDL3_PRW_PRG_GR_GL_PLW_PLG_PLT_PR_PDR1_VRo_PDL2_VLi_PDR3_PDL1_VRi\n",
       "6 PLS_PDR3_PPL_PRT_VLo_P_PDL2_PRW_GL_PLW_PLT_PR_PDR1_VRo_PDL3_VLi_PDR2_PDL1_VRi_GR_PRG_PLG\n",
       "  injury\n",
       "1 FALSE \n",
       "2 FALSE \n",
       "3 FALSE \n",
       "4 FALSE \n",
       "5 FALSE \n",
       "6 FALSE "
      ]
     },
     "metadata": {},
     "output_type": "display_data"
    }
   ],
   "source": [
    "final_formation_data <- merge(play_info, game_formation_data, by='game_play_id')\n",
    "final_formation_data <- select(final_formation_data,game_play_id,formation,injury)\n",
    "head(final_formation_data)\n"
   ]
  },
  {
   "cell_type": "code",
   "execution_count": 73,
   "metadata": {},
   "outputs": [
    {
     "data": {
      "text/html": [
       "<table>\n",
       "<thead><tr><th scope=col>formation</th><th scope=col>Injury_Count</th></tr></thead>\n",
       "<tbody>\n",
       "\t<tr><td>P_PDL2_PLS_PLG_VRi_VRo_VLi_PLW_VLo_PPR_PDR2_PDL1_PRT_GL_PR_PRG_PLT_PRW_PDL3_PLL_PDR1_GR</td><td>1                                                                                      </td></tr>\n",
       "\t<tr><td>P_PDR1_PRT_PR_VLo_PLT_PLL_PDL3_PDR2_VLi_PLS_GR_PLW_PPR_PRG_PLG_PDR3_VR_PDL2_PRW_GL_PDL1</td><td>1                                                                                      </td></tr>\n",
       "\t<tr><td>P_PLT_PLL_PLW_GR_PR_PDL1_VRi_PRW_PRT_PLG_PPR_PDR3_VLo_PRG_PDR1_VLi_GL_PDR2_PDL2_PLS    </td><td>1                                                                                      </td></tr>\n",
       "\t<tr><td>P_PR_PRT_PLT_VL_PDR1_PLR_PLS_PDR2_GR_PRG_PDL2_PLW_PPR_VR_PDL3_PDL1_PRW_PLL_PLG_PDR3_GL </td><td>1                                                                                      </td></tr>\n",
       "\t<tr><td>P_PRG_PDR1_PDR2_PDL1_PRT_PLG_GR_PLS_PLM_PLT_PRW_PDL2_VRo_PLW_VRi_PPR_PDR3_GL_PR_VLi_VLo</td><td>1                                                                                      </td></tr>\n",
       "\t<tr><td>P_PRG_PDR2_PLG_PLS_PLT_PRW_PDL3_PLL_PLW_VRi_PDL2_PPR_VLi_VRo_GR_PR_VLo_PDL1_PRT_GL_PDR1</td><td>1                                                                                      </td></tr>\n",
       "</tbody>\n",
       "</table>\n"
      ],
      "text/latex": [
       "\\begin{tabular}{r|ll}\n",
       " formation & Injury\\_Count\\\\\n",
       "\\hline\n",
       "\t P\\_PDL2\\_PLS\\_PLG\\_VRi\\_VRo\\_VLi\\_PLW\\_VLo\\_PPR\\_PDR2\\_PDL1\\_PRT\\_GL\\_PR\\_PRG\\_PLT\\_PRW\\_PDL3\\_PLL\\_PDR1\\_GR & 1                                                                                                                                \\\\\n",
       "\t P\\_PDR1\\_PRT\\_PR\\_VLo\\_PLT\\_PLL\\_PDL3\\_PDR2\\_VLi\\_PLS\\_GR\\_PLW\\_PPR\\_PRG\\_PLG\\_PDR3\\_VR\\_PDL2\\_PRW\\_GL\\_PDL1 & 1                                                                                                                                \\\\\n",
       "\t P\\_PLT\\_PLL\\_PLW\\_GR\\_PR\\_PDL1\\_VRi\\_PRW\\_PRT\\_PLG\\_PPR\\_PDR3\\_VLo\\_PRG\\_PDR1\\_VLi\\_GL\\_PDR2\\_PDL2\\_PLS     & 1                                                                                                                              \\\\\n",
       "\t P\\_PR\\_PRT\\_PLT\\_VL\\_PDR1\\_PLR\\_PLS\\_PDR2\\_GR\\_PRG\\_PDL2\\_PLW\\_PPR\\_VR\\_PDL3\\_PDL1\\_PRW\\_PLL\\_PLG\\_PDR3\\_GL  & 1                                                                                                                                \\\\\n",
       "\t P\\_PRG\\_PDR1\\_PDR2\\_PDL1\\_PRT\\_PLG\\_GR\\_PLS\\_PLM\\_PLT\\_PRW\\_PDL2\\_VRo\\_PLW\\_VRi\\_PPR\\_PDR3\\_GL\\_PR\\_VLi\\_VLo & 1                                                                                                                                \\\\\n",
       "\t P\\_PRG\\_PDR2\\_PLG\\_PLS\\_PLT\\_PRW\\_PDL3\\_PLL\\_PLW\\_VRi\\_PDL2\\_PPR\\_VLi\\_VRo\\_GR\\_PR\\_VLo\\_PDL1\\_PRT\\_GL\\_PDR1 & 1                                                                                                                                \\\\\n",
       "\\end{tabular}\n"
      ],
      "text/markdown": [
       "\n",
       "formation | Injury_Count | \n",
       "|---|---|---|---|---|---|\n",
       "| P_PDL2_PLS_PLG_VRi_VRo_VLi_PLW_VLo_PPR_PDR2_PDL1_PRT_GL_PR_PRG_PLT_PRW_PDL3_PLL_PDR1_GR | 1                                                                                       | \n",
       "| P_PDR1_PRT_PR_VLo_PLT_PLL_PDL3_PDR2_VLi_PLS_GR_PLW_PPR_PRG_PLG_PDR3_VR_PDL2_PRW_GL_PDL1 | 1                                                                                       | \n",
       "| P_PLT_PLL_PLW_GR_PR_PDL1_VRi_PRW_PRT_PLG_PPR_PDR3_VLo_PRG_PDR1_VLi_GL_PDR2_PDL2_PLS     | 1                                                                                       | \n",
       "| P_PR_PRT_PLT_VL_PDR1_PLR_PLS_PDR2_GR_PRG_PDL2_PLW_PPR_VR_PDL3_PDL1_PRW_PLL_PLG_PDR3_GL  | 1                                                                                       | \n",
       "| P_PRG_PDR1_PDR2_PDL1_PRT_PLG_GR_PLS_PLM_PLT_PRW_PDL2_VRo_PLW_VRi_PPR_PDR3_GL_PR_VLi_VLo | 1                                                                                       | \n",
       "| P_PRG_PDR2_PLG_PLS_PLT_PRW_PDL3_PLL_PLW_VRi_PDL2_PPR_VLi_VRo_GR_PR_VLo_PDL1_PRT_GL_PDR1 | 1                                                                                       | \n",
       "\n",
       "\n"
      ],
      "text/plain": [
       "  formation                                                                              \n",
       "1 P_PDL2_PLS_PLG_VRi_VRo_VLi_PLW_VLo_PPR_PDR2_PDL1_PRT_GL_PR_PRG_PLT_PRW_PDL3_PLL_PDR1_GR\n",
       "2 P_PDR1_PRT_PR_VLo_PLT_PLL_PDL3_PDR2_VLi_PLS_GR_PLW_PPR_PRG_PLG_PDR3_VR_PDL2_PRW_GL_PDL1\n",
       "3 P_PLT_PLL_PLW_GR_PR_PDL1_VRi_PRW_PRT_PLG_PPR_PDR3_VLo_PRG_PDR1_VLi_GL_PDR2_PDL2_PLS    \n",
       "4 P_PR_PRT_PLT_VL_PDR1_PLR_PLS_PDR2_GR_PRG_PDL2_PLW_PPR_VR_PDL3_PDL1_PRW_PLL_PLG_PDR3_GL \n",
       "5 P_PRG_PDR1_PDR2_PDL1_PRT_PLG_GR_PLS_PLM_PLT_PRW_PDL2_VRo_PLW_VRi_PPR_PDR3_GL_PR_VLi_VLo\n",
       "6 P_PRG_PDR2_PLG_PLS_PLT_PRW_PDL3_PLL_PLW_VRi_PDL2_PPR_VLi_VRo_GR_PR_VLo_PDL1_PRT_GL_PDR1\n",
       "  Injury_Count\n",
       "1 1           \n",
       "2 1           \n",
       "3 1           \n",
       "4 1           \n",
       "5 1           \n",
       "6 1           "
      ]
     },
     "metadata": {},
     "output_type": "display_data"
    },
    {
     "data": {
      "text/html": [
       "<table>\n",
       "<thead><tr><th scope=col>formation</th><th scope=col>Total_Count</th></tr></thead>\n",
       "<tbody>\n",
       "\t<tr><td>GL_GR_PLS_PDR2_PLT_PRG_PLG_PDL1_PPR_PDR4_PRT_PR_PDL3_PLW_PDR1_PDR3_VL_P_PDL2_PRW_VR_PDL4</td><td>1                                                                                       </td></tr>\n",
       "\t<tr><td>GL_GR_PLS_PDR2_PLT_PRG_PLG_VL_PDL1_PPR_PDR4_PRT_PR_PDL3_PLW_PDR1_PDR3_P_PDL2_PRW_VR_PDL4</td><td>1                                                                                       </td></tr>\n",
       "\t<tr><td>GL_GR_PLS_PDR2_PLT_PRG_PLG_VLi_PDL1_PPR_PLM_PRT_PR_PDL3_PLW_PDR1_VLo_P_PDL2_PRW_VRi_VRo </td><td>1                                                                                       </td></tr>\n",
       "\t<tr><td>GL_GR_PLS_PDR2_PLT_PRG_PLG_VRi_PDL1_PPR_PLM_PRT_PR_PDR3_PLW_PDR1_PDL3_VL_P_PDL2_PRW_VRo </td><td>1                                                                                       </td></tr>\n",
       "\t<tr><td>GL_GR_PLS_PDR2_PLT_PRG_PLG_VRi_PDL1_PPR_PLR_PRT_PR_PDR3_PLW_PDR1_PDL3_P_PDL2_PRW_VL_VRo </td><td>1                                                                                       </td></tr>\n",
       "\t<tr><td>GL_GR_PLS_VR_PDR1_PLT_PRG_PDR2_PLG_PDL3_PLL_PFB_PPR_PRT_VL_PDL2_PLW_P_PDR3_PRW_PDL1_PR  </td><td>1                                                                                       </td></tr>\n",
       "</tbody>\n",
       "</table>\n"
      ],
      "text/latex": [
       "\\begin{tabular}{r|ll}\n",
       " formation & Total\\_Count\\\\\n",
       "\\hline\n",
       "\t GL\\_GR\\_PLS\\_PDR2\\_PLT\\_PRG\\_PLG\\_PDL1\\_PPR\\_PDR4\\_PRT\\_PR\\_PDL3\\_PLW\\_PDR1\\_PDR3\\_VL\\_P\\_PDL2\\_PRW\\_VR\\_PDL4 & 1                                                                                                                                 \\\\\n",
       "\t GL\\_GR\\_PLS\\_PDR2\\_PLT\\_PRG\\_PLG\\_VL\\_PDL1\\_PPR\\_PDR4\\_PRT\\_PR\\_PDL3\\_PLW\\_PDR1\\_PDR3\\_P\\_PDL2\\_PRW\\_VR\\_PDL4 & 1                                                                                                                                 \\\\\n",
       "\t GL\\_GR\\_PLS\\_PDR2\\_PLT\\_PRG\\_PLG\\_VLi\\_PDL1\\_PPR\\_PLM\\_PRT\\_PR\\_PDL3\\_PLW\\_PDR1\\_VLo\\_P\\_PDL2\\_PRW\\_VRi\\_VRo  & 1                                                                                                                                 \\\\\n",
       "\t GL\\_GR\\_PLS\\_PDR2\\_PLT\\_PRG\\_PLG\\_VRi\\_PDL1\\_PPR\\_PLM\\_PRT\\_PR\\_PDR3\\_PLW\\_PDR1\\_PDL3\\_VL\\_P\\_PDL2\\_PRW\\_VRo  & 1                                                                                                                                 \\\\\n",
       "\t GL\\_GR\\_PLS\\_PDR2\\_PLT\\_PRG\\_PLG\\_VRi\\_PDL1\\_PPR\\_PLR\\_PRT\\_PR\\_PDR3\\_PLW\\_PDR1\\_PDL3\\_P\\_PDL2\\_PRW\\_VL\\_VRo  & 1                                                                                                                                 \\\\\n",
       "\t GL\\_GR\\_PLS\\_VR\\_PDR1\\_PLT\\_PRG\\_PDR2\\_PLG\\_PDL3\\_PLL\\_PFB\\_PPR\\_PRT\\_VL\\_PDL2\\_PLW\\_P\\_PDR3\\_PRW\\_PDL1\\_PR   & 1                                                                                                                                 \\\\\n",
       "\\end{tabular}\n"
      ],
      "text/markdown": [
       "\n",
       "formation | Total_Count | \n",
       "|---|---|---|---|---|---|\n",
       "| GL_GR_PLS_PDR2_PLT_PRG_PLG_PDL1_PPR_PDR4_PRT_PR_PDL3_PLW_PDR1_PDR3_VL_P_PDL2_PRW_VR_PDL4 | 1                                                                                        | \n",
       "| GL_GR_PLS_PDR2_PLT_PRG_PLG_VL_PDL1_PPR_PDR4_PRT_PR_PDL3_PLW_PDR1_PDR3_P_PDL2_PRW_VR_PDL4 | 1                                                                                        | \n",
       "| GL_GR_PLS_PDR2_PLT_PRG_PLG_VLi_PDL1_PPR_PLM_PRT_PR_PDL3_PLW_PDR1_VLo_P_PDL2_PRW_VRi_VRo  | 1                                                                                        | \n",
       "| GL_GR_PLS_PDR2_PLT_PRG_PLG_VRi_PDL1_PPR_PLM_PRT_PR_PDR3_PLW_PDR1_PDL3_VL_P_PDL2_PRW_VRo  | 1                                                                                        | \n",
       "| GL_GR_PLS_PDR2_PLT_PRG_PLG_VRi_PDL1_PPR_PLR_PRT_PR_PDR3_PLW_PDR1_PDL3_P_PDL2_PRW_VL_VRo  | 1                                                                                        | \n",
       "| GL_GR_PLS_VR_PDR1_PLT_PRG_PDR2_PLG_PDL3_PLL_PFB_PPR_PRT_VL_PDL2_PLW_P_PDR3_PRW_PDL1_PR   | 1                                                                                        | \n",
       "\n",
       "\n"
      ],
      "text/plain": [
       "  formation                                                                               \n",
       "1 GL_GR_PLS_PDR2_PLT_PRG_PLG_PDL1_PPR_PDR4_PRT_PR_PDL3_PLW_PDR1_PDR3_VL_P_PDL2_PRW_VR_PDL4\n",
       "2 GL_GR_PLS_PDR2_PLT_PRG_PLG_VL_PDL1_PPR_PDR4_PRT_PR_PDL3_PLW_PDR1_PDR3_P_PDL2_PRW_VR_PDL4\n",
       "3 GL_GR_PLS_PDR2_PLT_PRG_PLG_VLi_PDL1_PPR_PLM_PRT_PR_PDL3_PLW_PDR1_VLo_P_PDL2_PRW_VRi_VRo \n",
       "4 GL_GR_PLS_PDR2_PLT_PRG_PLG_VRi_PDL1_PPR_PLM_PRT_PR_PDR3_PLW_PDR1_PDL3_VL_P_PDL2_PRW_VRo \n",
       "5 GL_GR_PLS_PDR2_PLT_PRG_PLG_VRi_PDL1_PPR_PLR_PRT_PR_PDR3_PLW_PDR1_PDL3_P_PDL2_PRW_VL_VRo \n",
       "6 GL_GR_PLS_VR_PDR1_PLT_PRG_PDR2_PLG_PDL3_PLL_PFB_PPR_PRT_VL_PDL2_PLW_P_PDR3_PRW_PDL1_PR  \n",
       "  Total_Count\n",
       "1 1          \n",
       "2 1          \n",
       "3 1          \n",
       "4 1          \n",
       "5 1          \n",
       "6 1          "
      ]
     },
     "metadata": {},
     "output_type": "display_data"
    },
    {
     "data": {
      "text/html": [
       "<table>\n",
       "<thead><tr><th scope=col>formation</th><th scope=col>Total_Count</th></tr></thead>\n",
       "<tbody>\n",
       "\t<tr><td>GL_GR_PLS_PDR2_PLT_PRG_PLG_PDL1_PPR_PDR4_PRT_PR_PDL3_PLW_PDR1_PDR3_VL_P_PDL2_PRW_VR_PDL4</td><td>1                                                                                       </td></tr>\n",
       "\t<tr><td>GL_GR_PLS_PDR2_PLT_PRG_PLG_VL_PDL1_PPR_PDR4_PRT_PR_PDL3_PLW_PDR1_PDR3_P_PDL2_PRW_VR_PDL4</td><td>1                                                                                       </td></tr>\n",
       "\t<tr><td>GL_GR_PLS_PDR2_PLT_PRG_PLG_VLi_PDL1_PPR_PLM_PRT_PR_PDL3_PLW_PDR1_VLo_P_PDL2_PRW_VRi_VRo </td><td>1                                                                                       </td></tr>\n",
       "\t<tr><td>GL_GR_PLS_PDR2_PLT_PRG_PLG_VRi_PDL1_PPR_PLM_PRT_PR_PDR3_PLW_PDR1_PDL3_VL_P_PDL2_PRW_VRo </td><td>1                                                                                       </td></tr>\n",
       "\t<tr><td>GL_GR_PLS_PDR2_PLT_PRG_PLG_VRi_PDL1_PPR_PLR_PRT_PR_PDR3_PLW_PDR1_PDL3_P_PDL2_PRW_VL_VRo </td><td>1                                                                                       </td></tr>\n",
       "\t<tr><td>GL_GR_PLS_VR_PDR1_PLT_PRG_PDR2_PLG_PDL3_PLL_PFB_PPR_PRT_VL_PDL2_PLW_P_PDR3_PRW_PDL1_PR  </td><td>1                                                                                       </td></tr>\n",
       "\t<tr><td>GL_GR_PLS_VR_PDR1_PLT_PRG_PDR2_PLG_PDL4_PLR_PDL2_PPR_PRT_VL_PDL3_PLW_P_PDR3_PRW_PDL1_PR </td><td>1                                                                                       </td></tr>\n",
       "\t<tr><td>GL_GR_PLS_VR_PDR1_PLT_PRG_PDR3_PLG_PDL4_PDR2_PDL3_PPR_PRT_VL_PDL2_PLW_P_PDR4_PRW_PDL1_PR</td><td>1                                                                                       </td></tr>\n",
       "\t<tr><td>GL_GR_PLS_VR_PDR2_PLT_PRG_PDR4_PLG_PDL3_PDR1_PDL1_PPR_PRT_VL_PDL4_PLW_P_PDR3_PRW_PDL2_PR</td><td>1                                                                                       </td></tr>\n",
       "\t<tr><td>GL_GR_PPL_PDL2_PRW_PDL1_P_PLS_PDR3_PLW_PRG_PLL_PLT_PRT_PDL3_PLG_VR_PR_PLR_PDR1_PDR2_VL  </td><td>1                                                                                       </td></tr>\n",
       "\t<tr><td>GL_GR_PRG_PLT_PRT_PLG_P_PR_PLS_PLW_PDR1_PDR2_PDL4_VL_VR_PDL3_PDR3_PPR_PDL2_PDR4_PRW_PDL1</td><td>1                                                                                       </td></tr>\n",
       "\t<tr><td>GL_P_PDL1_PLS_PRG_PPR_PLG_VL_PDL2_PLW_PDR2_VRi_VRo_PDL3_PRW_PRT_PR_PDR1_PLT_GR_PLL_PDR3 </td><td>1                                                                                       </td></tr>\n",
       "\t<tr><td>GL_P_PDL1_PLS_PRG_PPR_PLG_VL_PDL2_PLW_PDR3_VRo_VRi_PDL3_PRW_PRT_PR_PDR1_PLT_GR_PLL_PDR2 </td><td>1                                                                                       </td></tr>\n",
       "\t<tr><td>GL_P_PDR3_PLS_VRo_PDL2_PDL3_PRW_VRi_PDL1_PLR_VL_PR_PLT_PRG_PRT_PPR_PDR1_PDR2_PLG_GR_PLW </td><td>1                                                                                       </td></tr>\n",
       "\t<tr><td>GL_P_PLS_GR_PDL3_PRG_PDR3_PDR1_PRW_PLG_PR_PLW_PPR_VL_PDR2_PRT_PDL2_PLT_VRi_PDL4_PDL1_VRo</td><td>1                                                                                       </td></tr>\n",
       "\t<tr><td>GL_P_PLS_GR_PDR2_VL_PLR_PLG_PR_PDR3_PRG_PLW_PPL_VRo_PDL1_PRW_PRT_PDL2_VRi_PLT_PDR1_PDL3 </td><td>1                                                                                       </td></tr>\n",
       "\t<tr><td>GL_P_PLS_GR_PDR2_VR_PDL3_PLG_PR_PDR3_PRG_PLW_PPL_VLo_PDL1_PRW_PRT_PDL2_VLi_PLT_PDR1_PDL4</td><td>1                                                                                       </td></tr>\n",
       "\t<tr><td>GL_P_PLS_GR_PDR3_VL_PRG_PDL2_VRi_PRW_PR_PLG_PDR2_VRo_PLW_PPR_PDL3_PDL1_PRT_PLT_PDR1_PDL4</td><td>1                                                                                       </td></tr>\n",
       "\t<tr><td>GL_P_PLS_GR_PDR4_PRG_PDL4_PDL3_PDR3_PDR2_PRW_PLG_PR_PLW_PPL_VL_PDR1_PRT_PDL2_PLT_PDL1_VR</td><td>1                                                                                       </td></tr>\n",
       "\t<tr><td>GL_P_PLS_GR_PDR4_VR_PRG_PDL3_PDL1_PRW_PR_PLG_PDR3_VL_PLW_PPR_PDL4_PDL2_PRT_PLT_PDR2_PDR1</td><td>1                                                                                       </td></tr>\n",
       "\t<tr><td>GL_P_PLS_GR_PLL_PRG_PDR3_PDR2_PRW_PLG_PR_PLW_PPR_VL_PDR1_PRT_PDL2_PLT_VRi_PDL3_PDL1_VRo </td><td>1                                                                                       </td></tr>\n",
       "\t<tr><td>GL_P_PLS_GR_PLL_PRG_PDR3_PDR2_PRW_PLG_PR_PLW_PPR_VL_PR_PDR1_PRT_PDL2_PLT_PDL3_PDL1_VR   </td><td>1                                                                                       </td></tr>\n",
       "\t<tr><td>GL_P_PLS_GR_PLR2_PLT_PLW_PR_PRW_VL_PLL1_PDL2_PRG_PPL_PDL1_PDR1_PLR1_PLL2_PLG_PRT_VR_PDR2</td><td>1                                                                                       </td></tr>\n",
       "\t<tr><td>GL_P_PLS_GR_PRG_PDL1_PDL3_PRW_PDL2_PLG_PR_PLW_PPR_PLR1_PDR2_PLR2_VL_PLL_PRT_PLT_PDR1_VR </td><td>1                                                                                       </td></tr>\n",
       "\t<tr><td>GL_P_PLS_GR_PRG_PDL1_PDR3_PRW_PDL2_PLG_PR_PLW_PPL_PLR_PDR2_PLL2_VL_PLL1_PRT_PLT_PDR1_VR </td><td>1                                                                                       </td></tr>\n",
       "\t<tr><td>GL_P_PLS_GR_PRG_PDL1_PDR3_PRW_PDL2_PLG_PR_PLW_PPL_PLR1_PDR2_PLR2_VL_PLL_PRT_PLT_PDR1_VR </td><td>1                                                                                       </td></tr>\n",
       "\t<tr><td>GL_P_PLS_GR_PRG_PDL2_PDR4_PRW_PDL3_PLG_PR_PLW_PPL_PDR1_PDR3_PLR_VL_PDL1_PRT_PLT_PDR2_VR </td><td>1                                                                                       </td></tr>\n",
       "\t<tr><td>GL_P_PRW_PLR_VRi_PPR_PLW_PRT_PDR1_PDL1_PDL3_PLS_PLG_PDR2_PR_VRo_PDR3_PDL2_VL_PLT_PRG_GR </td><td>1                                                                                       </td></tr>\n",
       "\t<tr><td>GL_P_VLi_PLS_PRG_GR_PPR_PLG_VLo_PDL1_PLW_PDR3_VR_PDR1_PDL2_PRW_PRT_PR_PDR2_PLT_PLL2_PLL1</td><td>1                                                                                       </td></tr>\n",
       "\t<tr><td>GL_P_VLi_PLS_PRG_PPR_PLG_VLo_PDL1_PLW_PDR2_VRo_VRi_PDL2_PRW_PRT_PR_PDR1_PLT_GR_PLL2_PLL1</td><td>1                                                                                       </td></tr>\n",
       "\t<tr><td>...</td><td>...</td></tr>\n",
       "\t<tr><td>VRo_PDR1_PDL2_PLT_PRT_PR_PLW_PDR2_PDL3_PDR3_PLG_GR_PLS_VL_PDL1_PRG_PPR_VRi_PRW_P_PDL4_GL</td><td>1                                                                                       </td></tr>\n",
       "\t<tr><td>VRo_PDR2_GR_PRT_GL_PDL1_PR_PLG_PRG_PLT_P_PDL2_VLi_PLW_PPL_PDR3_VLo_PDL3_VRi_PDR1_PRW_PLS</td><td>1                                                                                       </td></tr>\n",
       "\t<tr><td>VRo_PDR3_VLi_PDR1_GR_P_VLo_PLG_PLW_PDL1_PPL_PRW_PRG_PDL3_PDR2_PRT_PLT_PDL2_PR_VRi_GL_PLS</td><td>1                                                                                       </td></tr>\n",
       "\t<tr><td>VRo_PLG_PRT_VLi_GR_PLT_PDL1_PRW_PPR_VLo_P_PDR3_PR_PLW_PDR1_PRG_PDR2_PDL3_PLS_PDL2_VRi_GL</td><td>1                                                                                       </td></tr>\n",
       "\t<tr><td>VRo_PLG_PRT_VRi_GR_GL_PLT_PDL1_PRW_PPR_VL_P_PDL4_PR_PLW_PDR1_PRG_PDR2_PDR3_PLS_PDL2_PDL3</td><td>1                                                                                       </td></tr>\n",
       "\t<tr><td>VRo_PLS_P_PPL_PDR2_PLT_VL_PRT_PDR1_PLG_PDR3_PDL1_PLM_PLW_GL_GR_PRG_VRi_PDL2_PR_PDL3_PRW </td><td>1                                                                                       </td></tr>\n",
       "\t<tr><td>VRo_PLS_P_PRG_VRi_PDL3_PRW_GL_VLo_PDR2_VLi_PPL_PDL2_PLW_PDR1_PDL1_PRT_PR_GR_PLG_PLT_PLM </td><td>1                                                                                       </td></tr>\n",
       "\t<tr><td>VRo_PLS_P_VL_VRi_GL_PDR2_PRT_PPR_GR_PDL3_PDR1_PLG_PDR3_PLT_PDL2_PDL1_PR_PDL4_PRG_PLW_PRW</td><td>1                                                                                       </td></tr>\n",
       "\t<tr><td>VRo_PLS_PLT_PPR_PLG_PR_PLM_PRG_P_PRT_PDR3_PDL1_PLW_GR_PDR1_VRi_PDR2_VLo_GL_VLi_PRW_PDL2 </td><td>1                                                                                       </td></tr>\n",
       "\t<tr><td>VRo_PLS_PPL_PDL1_P_PLG_VLi_PRW_PDR2_GR_PDL3_VRi_PRG_PDR3_PDR1_PR_GL_PLW_PLT_PDL2_VLo_PRT</td><td>1                                                                                       </td></tr>\n",
       "\t<tr><td>VRo_PLS_PPR_PLG_PRT_PR_PLL_PRG_P_PLT_PDL3_PLW_GR_PDR1_VRi_PDR2_VLo_GL_VLi_PDL1_PRW_PDL2 </td><td>1                                                                                       </td></tr>\n",
       "\t<tr><td>VRo_PLS_PR_PLR_PPR_PDL2_PDL1_PDR3_PLT_GR_PRG_PLW_PRW_PDR1_PRT_PDR2_GL_VRi_VL_PDL3_PLG_P </td><td>1                                                                                       </td></tr>\n",
       "\t<tr><td>VRo_PLS_VL_PR_PLL_PLG_PPR_GL_PLT_PRW_PDR2_PDL2_PLW_P_GR_PRT_VRi_PDR1_PLR_PRG_PDL3_PDL1  </td><td>1                                                                                       </td></tr>\n",
       "\t<tr><td>VRo_PLT_P_PLL_VRi_PLS_PLW_GL_PLG_PRW_PRT_PDL3_PDL1_PDL2_PPR_PR_PDR1_VL_GR_PRG_PLR_PDR2  </td><td>1                                                                                       </td></tr>\n",
       "\t<tr><td>VRo_PLT_PLS_PLW_PLG_VL_PDR3_PRW_GL_PRT_PDL1_PPR_PRG_PDL3_PDR2_P_PDL2_PR_PLL_VRi_GR_PDR1 </td><td>1                                                                                       </td></tr>\n",
       "\t<tr><td>VRo_PLT_PLS_PLW_PLG_VLo_PLL_PRW_GL_PPR_PDL1_PRG_PDR3_PDR2_PRT_P_PDL2_PR_VLi_VRi_GR_PDR1 </td><td>1                                                                                       </td></tr>\n",
       "\t<tr><td>VRo_PLT_PRG_PRT_PLG_GR_P_GL_PLS_PDR2_PR_PLW_PPR_VLi_VLo_PLL_PDL1_VRi_PRW_PDR1_PDR3_PDL2 </td><td>1                                                                                       </td></tr>\n",
       "\t<tr><td>VRo_PLW_GR_PRG_PRW_PPR_PLS_PDL1_GL_VLi_PLT_PDL3_P_PDR3_PLG_VLo_PDL2_PRT_PR_PDR1_PDR2_VRi</td><td>1                                                                                       </td></tr>\n",
       "\t<tr><td>VRo_PPR_PDL1_P_VLi_PRT_PRG_VRi_PR_PLG_PRW_PLM_PDR1_PDL2_GR_PLT_PLS_GL_PLW_PDR2_VLo_PDL3 </td><td>1                                                                                       </td></tr>\n",
       "\t<tr><td>VRo_PRG_GL_PDL1_VLo_PR_P_GR_PLT_PDL2_PLS_PLR_VRi_VLi_PDL3_PLG_PLW_PRT_PPR_PDR2_PDR1_PRW </td><td>1                                                                                       </td></tr>\n",
       "\t<tr><td>VRo_PRG_PLG_VRi_GR_PRW_P_VLi_PLT_PDR4_PPL_PLS_PDR1_PDL2_PLW_PDL1_PR_PDR3_GL_VLo_PRT_PDR2</td><td>1                                                                                       </td></tr>\n",
       "\t<tr><td>VRo_PRG_PLL_PPL_GR_PRW_P_PDR3_PRT_PLT_PR_PLG_PLS_PDL1_PLW_VRi_PDR2_GL_PDR1_PLR_VL_PDL2  </td><td>1                                                                                       </td></tr>\n",
       "\t<tr><td>VRo_PRT_P_PLS_PLW_PDR1_PLG_PRW_PDR2_GR_GL_VRi_PPR_PDL1_PLL_PLM_VL_PDR3_PDL2_PLT_PR_PRG  </td><td>1                                                                                       </td></tr>\n",
       "\t<tr><td>VRo_PRT_P_PLS_PLW_PLG_PRW_PDR1_PDR2_GR_GL_VRi_PPR_PDL1_PDL3_PLM_VL_PDR3_PDL2_PLT_PR_PRG </td><td>1                                                                                       </td></tr>\n",
       "\t<tr><td>VRo_PRT_PDL2_P_PDR2_PLS_PLG_VLi_PPR_PDL1_VLo_PDR3_PDR1_PRW_GR_PR_PLW_VRi_PLT_GL_PRG_PLL </td><td>1                                                                                       </td></tr>\n",
       "\t<tr><td>VRo_VLi_GR_GL_PLT_PDL1_PRW_PPR_PRT_VLo_P_PDR3_PR_PLW_PDR1_PLG_PRG_PDR2_PDL3_PLS_PDL2_VRi</td><td>1                                                                                       </td></tr>\n",
       "\t<tr><td>VRo_VLi_PLS_P_VLo_VRi_PRT_PPR_PDR3_PDR1_GR_PDL3_PLG_PDR2_PLT_GL_PDL2_PDL1_PR_PRG_PLW_PRW</td><td>1                                                                                       </td></tr>\n",
       "\t<tr><td>VRo_VLi_VLo_PRG_PRW_PLW_PDL3_PDR3_P_PDR2_PDR1_PR_PPR_PLT_PLS_PDL1_GL_VRi_PDL2_PLG_PRT_GR</td><td>1                                                                                       </td></tr>\n",
       "\t<tr><td>VRo_VLi_VLo_PRG_PRW_PLW_PDL3_PDR3_P_PDR2_PDR1_PR_PPR_PLT_PLS_PDL1_GR_VRi_PDL2_PLG_PRT_GL</td><td>1                                                                                       </td></tr>\n",
       "\t<tr><td>VRo_VLo_VLi_PLS_PRT_PLG_PLT_PDL2_PRG_PDR1_PLR_VRi_GL_PRW_PLW_PDR2_PLL_P_PDL1_PR_GR_PPL  </td><td>1                                                                                       </td></tr>\n",
       "</tbody>\n",
       "</table>\n"
      ],
      "text/latex": [
       "\\begin{tabular}{r|ll}\n",
       " formation & Total\\_Count\\\\\n",
       "\\hline\n",
       "\t GL\\_GR\\_PLS\\_PDR2\\_PLT\\_PRG\\_PLG\\_PDL1\\_PPR\\_PDR4\\_PRT\\_PR\\_PDL3\\_PLW\\_PDR1\\_PDR3\\_VL\\_P\\_PDL2\\_PRW\\_VR\\_PDL4 & 1                                                                                                                                 \\\\\n",
       "\t GL\\_GR\\_PLS\\_PDR2\\_PLT\\_PRG\\_PLG\\_VL\\_PDL1\\_PPR\\_PDR4\\_PRT\\_PR\\_PDL3\\_PLW\\_PDR1\\_PDR3\\_P\\_PDL2\\_PRW\\_VR\\_PDL4 & 1                                                                                                                                 \\\\\n",
       "\t GL\\_GR\\_PLS\\_PDR2\\_PLT\\_PRG\\_PLG\\_VLi\\_PDL1\\_PPR\\_PLM\\_PRT\\_PR\\_PDL3\\_PLW\\_PDR1\\_VLo\\_P\\_PDL2\\_PRW\\_VRi\\_VRo  & 1                                                                                                                                 \\\\\n",
       "\t GL\\_GR\\_PLS\\_PDR2\\_PLT\\_PRG\\_PLG\\_VRi\\_PDL1\\_PPR\\_PLM\\_PRT\\_PR\\_PDR3\\_PLW\\_PDR1\\_PDL3\\_VL\\_P\\_PDL2\\_PRW\\_VRo  & 1                                                                                                                                 \\\\\n",
       "\t GL\\_GR\\_PLS\\_PDR2\\_PLT\\_PRG\\_PLG\\_VRi\\_PDL1\\_PPR\\_PLR\\_PRT\\_PR\\_PDR3\\_PLW\\_PDR1\\_PDL3\\_P\\_PDL2\\_PRW\\_VL\\_VRo  & 1                                                                                                                                 \\\\\n",
       "\t GL\\_GR\\_PLS\\_VR\\_PDR1\\_PLT\\_PRG\\_PDR2\\_PLG\\_PDL3\\_PLL\\_PFB\\_PPR\\_PRT\\_VL\\_PDL2\\_PLW\\_P\\_PDR3\\_PRW\\_PDL1\\_PR   & 1                                                                                                                                 \\\\\n",
       "\t GL\\_GR\\_PLS\\_VR\\_PDR1\\_PLT\\_PRG\\_PDR2\\_PLG\\_PDL4\\_PLR\\_PDL2\\_PPR\\_PRT\\_VL\\_PDL3\\_PLW\\_P\\_PDR3\\_PRW\\_PDL1\\_PR  & 1                                                                                                                                 \\\\\n",
       "\t GL\\_GR\\_PLS\\_VR\\_PDR1\\_PLT\\_PRG\\_PDR3\\_PLG\\_PDL4\\_PDR2\\_PDL3\\_PPR\\_PRT\\_VL\\_PDL2\\_PLW\\_P\\_PDR4\\_PRW\\_PDL1\\_PR & 1                                                                                                                                 \\\\\n",
       "\t GL\\_GR\\_PLS\\_VR\\_PDR2\\_PLT\\_PRG\\_PDR4\\_PLG\\_PDL3\\_PDR1\\_PDL1\\_PPR\\_PRT\\_VL\\_PDL4\\_PLW\\_P\\_PDR3\\_PRW\\_PDL2\\_PR & 1                                                                                                                                 \\\\\n",
       "\t GL\\_GR\\_PPL\\_PDL2\\_PRW\\_PDL1\\_P\\_PLS\\_PDR3\\_PLW\\_PRG\\_PLL\\_PLT\\_PRT\\_PDL3\\_PLG\\_VR\\_PR\\_PLR\\_PDR1\\_PDR2\\_VL   & 1                                                                                                                                 \\\\\n",
       "\t GL\\_GR\\_PRG\\_PLT\\_PRT\\_PLG\\_P\\_PR\\_PLS\\_PLW\\_PDR1\\_PDR2\\_PDL4\\_VL\\_VR\\_PDL3\\_PDR3\\_PPR\\_PDL2\\_PDR4\\_PRW\\_PDL1 & 1                                                                                                                                 \\\\\n",
       "\t GL\\_P\\_PDL1\\_PLS\\_PRG\\_PPR\\_PLG\\_VL\\_PDL2\\_PLW\\_PDR2\\_VRi\\_VRo\\_PDL3\\_PRW\\_PRT\\_PR\\_PDR1\\_PLT\\_GR\\_PLL\\_PDR3  & 1                                                                                                                                 \\\\\n",
       "\t GL\\_P\\_PDL1\\_PLS\\_PRG\\_PPR\\_PLG\\_VL\\_PDL2\\_PLW\\_PDR3\\_VRo\\_VRi\\_PDL3\\_PRW\\_PRT\\_PR\\_PDR1\\_PLT\\_GR\\_PLL\\_PDR2  & 1                                                                                                                                 \\\\\n",
       "\t GL\\_P\\_PDR3\\_PLS\\_VRo\\_PDL2\\_PDL3\\_PRW\\_VRi\\_PDL1\\_PLR\\_VL\\_PR\\_PLT\\_PRG\\_PRT\\_PPR\\_PDR1\\_PDR2\\_PLG\\_GR\\_PLW  & 1                                                                                                                                 \\\\\n",
       "\t GL\\_P\\_PLS\\_GR\\_PDL3\\_PRG\\_PDR3\\_PDR1\\_PRW\\_PLG\\_PR\\_PLW\\_PPR\\_VL\\_PDR2\\_PRT\\_PDL2\\_PLT\\_VRi\\_PDL4\\_PDL1\\_VRo & 1                                                                                                                                 \\\\\n",
       "\t GL\\_P\\_PLS\\_GR\\_PDR2\\_VL\\_PLR\\_PLG\\_PR\\_PDR3\\_PRG\\_PLW\\_PPL\\_VRo\\_PDL1\\_PRW\\_PRT\\_PDL2\\_VRi\\_PLT\\_PDR1\\_PDL3  & 1                                                                                                                                 \\\\\n",
       "\t GL\\_P\\_PLS\\_GR\\_PDR2\\_VR\\_PDL3\\_PLG\\_PR\\_PDR3\\_PRG\\_PLW\\_PPL\\_VLo\\_PDL1\\_PRW\\_PRT\\_PDL2\\_VLi\\_PLT\\_PDR1\\_PDL4 & 1                                                                                                                                 \\\\\n",
       "\t GL\\_P\\_PLS\\_GR\\_PDR3\\_VL\\_PRG\\_PDL2\\_VRi\\_PRW\\_PR\\_PLG\\_PDR2\\_VRo\\_PLW\\_PPR\\_PDL3\\_PDL1\\_PRT\\_PLT\\_PDR1\\_PDL4 & 1                                                                                                                                 \\\\\n",
       "\t GL\\_P\\_PLS\\_GR\\_PDR4\\_PRG\\_PDL4\\_PDL3\\_PDR3\\_PDR2\\_PRW\\_PLG\\_PR\\_PLW\\_PPL\\_VL\\_PDR1\\_PRT\\_PDL2\\_PLT\\_PDL1\\_VR & 1                                                                                                                                 \\\\\n",
       "\t GL\\_P\\_PLS\\_GR\\_PDR4\\_VR\\_PRG\\_PDL3\\_PDL1\\_PRW\\_PR\\_PLG\\_PDR3\\_VL\\_PLW\\_PPR\\_PDL4\\_PDL2\\_PRT\\_PLT\\_PDR2\\_PDR1 & 1                                                                                                                                 \\\\\n",
       "\t GL\\_P\\_PLS\\_GR\\_PLL\\_PRG\\_PDR3\\_PDR2\\_PRW\\_PLG\\_PR\\_PLW\\_PPR\\_VL\\_PDR1\\_PRT\\_PDL2\\_PLT\\_VRi\\_PDL3\\_PDL1\\_VRo  & 1                                                                                                                                 \\\\\n",
       "\t GL\\_P\\_PLS\\_GR\\_PLL\\_PRG\\_PDR3\\_PDR2\\_PRW\\_PLG\\_PR\\_PLW\\_PPR\\_VL\\_PR\\_PDR1\\_PRT\\_PDL2\\_PLT\\_PDL3\\_PDL1\\_VR    & 1                                                                                                                                 \\\\\n",
       "\t GL\\_P\\_PLS\\_GR\\_PLR2\\_PLT\\_PLW\\_PR\\_PRW\\_VL\\_PLL1\\_PDL2\\_PRG\\_PPL\\_PDL1\\_PDR1\\_PLR1\\_PLL2\\_PLG\\_PRT\\_VR\\_PDR2 & 1                                                                                                                                 \\\\\n",
       "\t GL\\_P\\_PLS\\_GR\\_PRG\\_PDL1\\_PDL3\\_PRW\\_PDL2\\_PLG\\_PR\\_PLW\\_PPR\\_PLR1\\_PDR2\\_PLR2\\_VL\\_PLL\\_PRT\\_PLT\\_PDR1\\_VR  & 1                                                                                                                                 \\\\\n",
       "\t GL\\_P\\_PLS\\_GR\\_PRG\\_PDL1\\_PDR3\\_PRW\\_PDL2\\_PLG\\_PR\\_PLW\\_PPL\\_PLR\\_PDR2\\_PLL2\\_VL\\_PLL1\\_PRT\\_PLT\\_PDR1\\_VR  & 1                                                                                                                                 \\\\\n",
       "\t GL\\_P\\_PLS\\_GR\\_PRG\\_PDL1\\_PDR3\\_PRW\\_PDL2\\_PLG\\_PR\\_PLW\\_PPL\\_PLR1\\_PDR2\\_PLR2\\_VL\\_PLL\\_PRT\\_PLT\\_PDR1\\_VR  & 1                                                                                                                                 \\\\\n",
       "\t GL\\_P\\_PLS\\_GR\\_PRG\\_PDL2\\_PDR4\\_PRW\\_PDL3\\_PLG\\_PR\\_PLW\\_PPL\\_PDR1\\_PDR3\\_PLR\\_VL\\_PDL1\\_PRT\\_PLT\\_PDR2\\_VR  & 1                                                                                                                                 \\\\\n",
       "\t GL\\_P\\_PRW\\_PLR\\_VRi\\_PPR\\_PLW\\_PRT\\_PDR1\\_PDL1\\_PDL3\\_PLS\\_PLG\\_PDR2\\_PR\\_VRo\\_PDR3\\_PDL2\\_VL\\_PLT\\_PRG\\_GR  & 1                                                                                                                                 \\\\\n",
       "\t GL\\_P\\_VLi\\_PLS\\_PRG\\_GR\\_PPR\\_PLG\\_VLo\\_PDL1\\_PLW\\_PDR3\\_VR\\_PDR1\\_PDL2\\_PRW\\_PRT\\_PR\\_PDR2\\_PLT\\_PLL2\\_PLL1 & 1                                                                                                                                 \\\\\n",
       "\t GL\\_P\\_VLi\\_PLS\\_PRG\\_PPR\\_PLG\\_VLo\\_PDL1\\_PLW\\_PDR2\\_VRo\\_VRi\\_PDL2\\_PRW\\_PRT\\_PR\\_PDR1\\_PLT\\_GR\\_PLL2\\_PLL1 & 1                                                                                                                                 \\\\\n",
       "\t ... & ...\\\\\n",
       "\t VRo\\_PDR1\\_PDL2\\_PLT\\_PRT\\_PR\\_PLW\\_PDR2\\_PDL3\\_PDR3\\_PLG\\_GR\\_PLS\\_VL\\_PDL1\\_PRG\\_PPR\\_VRi\\_PRW\\_P\\_PDL4\\_GL & 1                                                                                                                                 \\\\\n",
       "\t VRo\\_PDR2\\_GR\\_PRT\\_GL\\_PDL1\\_PR\\_PLG\\_PRG\\_PLT\\_P\\_PDL2\\_VLi\\_PLW\\_PPL\\_PDR3\\_VLo\\_PDL3\\_VRi\\_PDR1\\_PRW\\_PLS & 1                                                                                                                                 \\\\\n",
       "\t VRo\\_PDR3\\_VLi\\_PDR1\\_GR\\_P\\_VLo\\_PLG\\_PLW\\_PDL1\\_PPL\\_PRW\\_PRG\\_PDL3\\_PDR2\\_PRT\\_PLT\\_PDL2\\_PR\\_VRi\\_GL\\_PLS & 1                                                                                                                                 \\\\\n",
       "\t VRo\\_PLG\\_PRT\\_VLi\\_GR\\_PLT\\_PDL1\\_PRW\\_PPR\\_VLo\\_P\\_PDR3\\_PR\\_PLW\\_PDR1\\_PRG\\_PDR2\\_PDL3\\_PLS\\_PDL2\\_VRi\\_GL & 1                                                                                                                                 \\\\\n",
       "\t VRo\\_PLG\\_PRT\\_VRi\\_GR\\_GL\\_PLT\\_PDL1\\_PRW\\_PPR\\_VL\\_P\\_PDL4\\_PR\\_PLW\\_PDR1\\_PRG\\_PDR2\\_PDR3\\_PLS\\_PDL2\\_PDL3 & 1                                                                                                                                 \\\\\n",
       "\t VRo\\_PLS\\_P\\_PPL\\_PDR2\\_PLT\\_VL\\_PRT\\_PDR1\\_PLG\\_PDR3\\_PDL1\\_PLM\\_PLW\\_GL\\_GR\\_PRG\\_VRi\\_PDL2\\_PR\\_PDL3\\_PRW  & 1                                                                                                                                 \\\\\n",
       "\t VRo\\_PLS\\_P\\_PRG\\_VRi\\_PDL3\\_PRW\\_GL\\_VLo\\_PDR2\\_VLi\\_PPL\\_PDL2\\_PLW\\_PDR1\\_PDL1\\_PRT\\_PR\\_GR\\_PLG\\_PLT\\_PLM  & 1                                                                                                                                 \\\\\n",
       "\t VRo\\_PLS\\_P\\_VL\\_VRi\\_GL\\_PDR2\\_PRT\\_PPR\\_GR\\_PDL3\\_PDR1\\_PLG\\_PDR3\\_PLT\\_PDL2\\_PDL1\\_PR\\_PDL4\\_PRG\\_PLW\\_PRW & 1                                                                                                                                 \\\\\n",
       "\t VRo\\_PLS\\_PLT\\_PPR\\_PLG\\_PR\\_PLM\\_PRG\\_P\\_PRT\\_PDR3\\_PDL1\\_PLW\\_GR\\_PDR1\\_VRi\\_PDR2\\_VLo\\_GL\\_VLi\\_PRW\\_PDL2  & 1                                                                                                                                 \\\\\n",
       "\t VRo\\_PLS\\_PPL\\_PDL1\\_P\\_PLG\\_VLi\\_PRW\\_PDR2\\_GR\\_PDL3\\_VRi\\_PRG\\_PDR3\\_PDR1\\_PR\\_GL\\_PLW\\_PLT\\_PDL2\\_VLo\\_PRT & 1                                                                                                                                 \\\\\n",
       "\t VRo\\_PLS\\_PPR\\_PLG\\_PRT\\_PR\\_PLL\\_PRG\\_P\\_PLT\\_PDL3\\_PLW\\_GR\\_PDR1\\_VRi\\_PDR2\\_VLo\\_GL\\_VLi\\_PDL1\\_PRW\\_PDL2  & 1                                                                                                                                 \\\\\n",
       "\t VRo\\_PLS\\_PR\\_PLR\\_PPR\\_PDL2\\_PDL1\\_PDR3\\_PLT\\_GR\\_PRG\\_PLW\\_PRW\\_PDR1\\_PRT\\_PDR2\\_GL\\_VRi\\_VL\\_PDL3\\_PLG\\_P  & 1                                                                                                                                 \\\\\n",
       "\t VRo\\_PLS\\_VL\\_PR\\_PLL\\_PLG\\_PPR\\_GL\\_PLT\\_PRW\\_PDR2\\_PDL2\\_PLW\\_P\\_GR\\_PRT\\_VRi\\_PDR1\\_PLR\\_PRG\\_PDL3\\_PDL1   & 1                                                                                                                                 \\\\\n",
       "\t VRo\\_PLT\\_P\\_PLL\\_VRi\\_PLS\\_PLW\\_GL\\_PLG\\_PRW\\_PRT\\_PDL3\\_PDL1\\_PDL2\\_PPR\\_PR\\_PDR1\\_VL\\_GR\\_PRG\\_PLR\\_PDR2   & 1                                                                                                                                 \\\\\n",
       "\t VRo\\_PLT\\_PLS\\_PLW\\_PLG\\_VL\\_PDR3\\_PRW\\_GL\\_PRT\\_PDL1\\_PPR\\_PRG\\_PDL3\\_PDR2\\_P\\_PDL2\\_PR\\_PLL\\_VRi\\_GR\\_PDR1  & 1                                                                                                                                 \\\\\n",
       "\t VRo\\_PLT\\_PLS\\_PLW\\_PLG\\_VLo\\_PLL\\_PRW\\_GL\\_PPR\\_PDL1\\_PRG\\_PDR3\\_PDR2\\_PRT\\_P\\_PDL2\\_PR\\_VLi\\_VRi\\_GR\\_PDR1  & 1                                                                                                                                 \\\\\n",
       "\t VRo\\_PLT\\_PRG\\_PRT\\_PLG\\_GR\\_P\\_GL\\_PLS\\_PDR2\\_PR\\_PLW\\_PPR\\_VLi\\_VLo\\_PLL\\_PDL1\\_VRi\\_PRW\\_PDR1\\_PDR3\\_PDL2  & 1                                                                                                                                 \\\\\n",
       "\t VRo\\_PLW\\_GR\\_PRG\\_PRW\\_PPR\\_PLS\\_PDL1\\_GL\\_VLi\\_PLT\\_PDL3\\_P\\_PDR3\\_PLG\\_VLo\\_PDL2\\_PRT\\_PR\\_PDR1\\_PDR2\\_VRi & 1                                                                                                                                 \\\\\n",
       "\t VRo\\_PPR\\_PDL1\\_P\\_VLi\\_PRT\\_PRG\\_VRi\\_PR\\_PLG\\_PRW\\_PLM\\_PDR1\\_PDL2\\_GR\\_PLT\\_PLS\\_GL\\_PLW\\_PDR2\\_VLo\\_PDL3  & 1                                                                                                                                 \\\\\n",
       "\t VRo\\_PRG\\_GL\\_PDL1\\_VLo\\_PR\\_P\\_GR\\_PLT\\_PDL2\\_PLS\\_PLR\\_VRi\\_VLi\\_PDL3\\_PLG\\_PLW\\_PRT\\_PPR\\_PDR2\\_PDR1\\_PRW  & 1                                                                                                                                 \\\\\n",
       "\t VRo\\_PRG\\_PLG\\_VRi\\_GR\\_PRW\\_P\\_VLi\\_PLT\\_PDR4\\_PPL\\_PLS\\_PDR1\\_PDL2\\_PLW\\_PDL1\\_PR\\_PDR3\\_GL\\_VLo\\_PRT\\_PDR2 & 1                                                                                                                                 \\\\\n",
       "\t VRo\\_PRG\\_PLL\\_PPL\\_GR\\_PRW\\_P\\_PDR3\\_PRT\\_PLT\\_PR\\_PLG\\_PLS\\_PDL1\\_PLW\\_VRi\\_PDR2\\_GL\\_PDR1\\_PLR\\_VL\\_PDL2   & 1                                                                                                                                 \\\\\n",
       "\t VRo\\_PRT\\_P\\_PLS\\_PLW\\_PDR1\\_PLG\\_PRW\\_PDR2\\_GR\\_GL\\_VRi\\_PPR\\_PDL1\\_PLL\\_PLM\\_VL\\_PDR3\\_PDL2\\_PLT\\_PR\\_PRG   & 1                                                                                                                                 \\\\\n",
       "\t VRo\\_PRT\\_P\\_PLS\\_PLW\\_PLG\\_PRW\\_PDR1\\_PDR2\\_GR\\_GL\\_VRi\\_PPR\\_PDL1\\_PDL3\\_PLM\\_VL\\_PDR3\\_PDL2\\_PLT\\_PR\\_PRG  & 1                                                                                                                                 \\\\\n",
       "\t VRo\\_PRT\\_PDL2\\_P\\_PDR2\\_PLS\\_PLG\\_VLi\\_PPR\\_PDL1\\_VLo\\_PDR3\\_PDR1\\_PRW\\_GR\\_PR\\_PLW\\_VRi\\_PLT\\_GL\\_PRG\\_PLL  & 1                                                                                                                                 \\\\\n",
       "\t VRo\\_VLi\\_GR\\_GL\\_PLT\\_PDL1\\_PRW\\_PPR\\_PRT\\_VLo\\_P\\_PDR3\\_PR\\_PLW\\_PDR1\\_PLG\\_PRG\\_PDR2\\_PDL3\\_PLS\\_PDL2\\_VRi & 1                                                                                                                                 \\\\\n",
       "\t VRo\\_VLi\\_PLS\\_P\\_VLo\\_VRi\\_PRT\\_PPR\\_PDR3\\_PDR1\\_GR\\_PDL3\\_PLG\\_PDR2\\_PLT\\_GL\\_PDL2\\_PDL1\\_PR\\_PRG\\_PLW\\_PRW & 1                                                                                                                                 \\\\\n",
       "\t VRo\\_VLi\\_VLo\\_PRG\\_PRW\\_PLW\\_PDL3\\_PDR3\\_P\\_PDR2\\_PDR1\\_PR\\_PPR\\_PLT\\_PLS\\_PDL1\\_GL\\_VRi\\_PDL2\\_PLG\\_PRT\\_GR & 1                                                                                                                                 \\\\\n",
       "\t VRo\\_VLi\\_VLo\\_PRG\\_PRW\\_PLW\\_PDL3\\_PDR3\\_P\\_PDR2\\_PDR1\\_PR\\_PPR\\_PLT\\_PLS\\_PDL1\\_GR\\_VRi\\_PDL2\\_PLG\\_PRT\\_GL & 1                                                                                                                                 \\\\\n",
       "\t VRo\\_VLo\\_VLi\\_PLS\\_PRT\\_PLG\\_PLT\\_PDL2\\_PRG\\_PDR1\\_PLR\\_VRi\\_GL\\_PRW\\_PLW\\_PDR2\\_PLL\\_P\\_PDL1\\_PR\\_GR\\_PPL   & 1                                                                                                                                 \\\\\n",
       "\\end{tabular}\n"
      ],
      "text/markdown": [
       "\n",
       "formation | Total_Count | \n",
       "|---|---|---|---|---|---|---|---|---|---|---|---|---|---|---|---|---|---|---|---|---|---|---|---|---|---|---|---|---|---|---|---|---|---|---|---|---|---|---|---|---|---|---|---|---|---|---|---|---|---|---|---|---|---|---|---|---|---|---|---|---|\n",
       "| GL_GR_PLS_PDR2_PLT_PRG_PLG_PDL1_PPR_PDR4_PRT_PR_PDL3_PLW_PDR1_PDR3_VL_P_PDL2_PRW_VR_PDL4 | 1                                                                                        | \n",
       "| GL_GR_PLS_PDR2_PLT_PRG_PLG_VL_PDL1_PPR_PDR4_PRT_PR_PDL3_PLW_PDR1_PDR3_P_PDL2_PRW_VR_PDL4 | 1                                                                                        | \n",
       "| GL_GR_PLS_PDR2_PLT_PRG_PLG_VLi_PDL1_PPR_PLM_PRT_PR_PDL3_PLW_PDR1_VLo_P_PDL2_PRW_VRi_VRo  | 1                                                                                        | \n",
       "| GL_GR_PLS_PDR2_PLT_PRG_PLG_VRi_PDL1_PPR_PLM_PRT_PR_PDR3_PLW_PDR1_PDL3_VL_P_PDL2_PRW_VRo  | 1                                                                                        | \n",
       "| GL_GR_PLS_PDR2_PLT_PRG_PLG_VRi_PDL1_PPR_PLR_PRT_PR_PDR3_PLW_PDR1_PDL3_P_PDL2_PRW_VL_VRo  | 1                                                                                        | \n",
       "| GL_GR_PLS_VR_PDR1_PLT_PRG_PDR2_PLG_PDL3_PLL_PFB_PPR_PRT_VL_PDL2_PLW_P_PDR3_PRW_PDL1_PR   | 1                                                                                        | \n",
       "| GL_GR_PLS_VR_PDR1_PLT_PRG_PDR2_PLG_PDL4_PLR_PDL2_PPR_PRT_VL_PDL3_PLW_P_PDR3_PRW_PDL1_PR  | 1                                                                                        | \n",
       "| GL_GR_PLS_VR_PDR1_PLT_PRG_PDR3_PLG_PDL4_PDR2_PDL3_PPR_PRT_VL_PDL2_PLW_P_PDR4_PRW_PDL1_PR | 1                                                                                        | \n",
       "| GL_GR_PLS_VR_PDR2_PLT_PRG_PDR4_PLG_PDL3_PDR1_PDL1_PPR_PRT_VL_PDL4_PLW_P_PDR3_PRW_PDL2_PR | 1                                                                                        | \n",
       "| GL_GR_PPL_PDL2_PRW_PDL1_P_PLS_PDR3_PLW_PRG_PLL_PLT_PRT_PDL3_PLG_VR_PR_PLR_PDR1_PDR2_VL   | 1                                                                                        | \n",
       "| GL_GR_PRG_PLT_PRT_PLG_P_PR_PLS_PLW_PDR1_PDR2_PDL4_VL_VR_PDL3_PDR3_PPR_PDL2_PDR4_PRW_PDL1 | 1                                                                                        | \n",
       "| GL_P_PDL1_PLS_PRG_PPR_PLG_VL_PDL2_PLW_PDR2_VRi_VRo_PDL3_PRW_PRT_PR_PDR1_PLT_GR_PLL_PDR3  | 1                                                                                        | \n",
       "| GL_P_PDL1_PLS_PRG_PPR_PLG_VL_PDL2_PLW_PDR3_VRo_VRi_PDL3_PRW_PRT_PR_PDR1_PLT_GR_PLL_PDR2  | 1                                                                                        | \n",
       "| GL_P_PDR3_PLS_VRo_PDL2_PDL3_PRW_VRi_PDL1_PLR_VL_PR_PLT_PRG_PRT_PPR_PDR1_PDR2_PLG_GR_PLW  | 1                                                                                        | \n",
       "| GL_P_PLS_GR_PDL3_PRG_PDR3_PDR1_PRW_PLG_PR_PLW_PPR_VL_PDR2_PRT_PDL2_PLT_VRi_PDL4_PDL1_VRo | 1                                                                                        | \n",
       "| GL_P_PLS_GR_PDR2_VL_PLR_PLG_PR_PDR3_PRG_PLW_PPL_VRo_PDL1_PRW_PRT_PDL2_VRi_PLT_PDR1_PDL3  | 1                                                                                        | \n",
       "| GL_P_PLS_GR_PDR2_VR_PDL3_PLG_PR_PDR3_PRG_PLW_PPL_VLo_PDL1_PRW_PRT_PDL2_VLi_PLT_PDR1_PDL4 | 1                                                                                        | \n",
       "| GL_P_PLS_GR_PDR3_VL_PRG_PDL2_VRi_PRW_PR_PLG_PDR2_VRo_PLW_PPR_PDL3_PDL1_PRT_PLT_PDR1_PDL4 | 1                                                                                        | \n",
       "| GL_P_PLS_GR_PDR4_PRG_PDL4_PDL3_PDR3_PDR2_PRW_PLG_PR_PLW_PPL_VL_PDR1_PRT_PDL2_PLT_PDL1_VR | 1                                                                                        | \n",
       "| GL_P_PLS_GR_PDR4_VR_PRG_PDL3_PDL1_PRW_PR_PLG_PDR3_VL_PLW_PPR_PDL4_PDL2_PRT_PLT_PDR2_PDR1 | 1                                                                                        | \n",
       "| GL_P_PLS_GR_PLL_PRG_PDR3_PDR2_PRW_PLG_PR_PLW_PPR_VL_PDR1_PRT_PDL2_PLT_VRi_PDL3_PDL1_VRo  | 1                                                                                        | \n",
       "| GL_P_PLS_GR_PLL_PRG_PDR3_PDR2_PRW_PLG_PR_PLW_PPR_VL_PR_PDR1_PRT_PDL2_PLT_PDL3_PDL1_VR    | 1                                                                                        | \n",
       "| GL_P_PLS_GR_PLR2_PLT_PLW_PR_PRW_VL_PLL1_PDL2_PRG_PPL_PDL1_PDR1_PLR1_PLL2_PLG_PRT_VR_PDR2 | 1                                                                                        | \n",
       "| GL_P_PLS_GR_PRG_PDL1_PDL3_PRW_PDL2_PLG_PR_PLW_PPR_PLR1_PDR2_PLR2_VL_PLL_PRT_PLT_PDR1_VR  | 1                                                                                        | \n",
       "| GL_P_PLS_GR_PRG_PDL1_PDR3_PRW_PDL2_PLG_PR_PLW_PPL_PLR_PDR2_PLL2_VL_PLL1_PRT_PLT_PDR1_VR  | 1                                                                                        | \n",
       "| GL_P_PLS_GR_PRG_PDL1_PDR3_PRW_PDL2_PLG_PR_PLW_PPL_PLR1_PDR2_PLR2_VL_PLL_PRT_PLT_PDR1_VR  | 1                                                                                        | \n",
       "| GL_P_PLS_GR_PRG_PDL2_PDR4_PRW_PDL3_PLG_PR_PLW_PPL_PDR1_PDR3_PLR_VL_PDL1_PRT_PLT_PDR2_VR  | 1                                                                                        | \n",
       "| GL_P_PRW_PLR_VRi_PPR_PLW_PRT_PDR1_PDL1_PDL3_PLS_PLG_PDR2_PR_VRo_PDR3_PDL2_VL_PLT_PRG_GR  | 1                                                                                        | \n",
       "| GL_P_VLi_PLS_PRG_GR_PPR_PLG_VLo_PDL1_PLW_PDR3_VR_PDR1_PDL2_PRW_PRT_PR_PDR2_PLT_PLL2_PLL1 | 1                                                                                        | \n",
       "| GL_P_VLi_PLS_PRG_PPR_PLG_VLo_PDL1_PLW_PDR2_VRo_VRi_PDL2_PRW_PRT_PR_PDR1_PLT_GR_PLL2_PLL1 | 1                                                                                        | \n",
       "| ... | ... | \n",
       "| VRo_PDR1_PDL2_PLT_PRT_PR_PLW_PDR2_PDL3_PDR3_PLG_GR_PLS_VL_PDL1_PRG_PPR_VRi_PRW_P_PDL4_GL | 1                                                                                        | \n",
       "| VRo_PDR2_GR_PRT_GL_PDL1_PR_PLG_PRG_PLT_P_PDL2_VLi_PLW_PPL_PDR3_VLo_PDL3_VRi_PDR1_PRW_PLS | 1                                                                                        | \n",
       "| VRo_PDR3_VLi_PDR1_GR_P_VLo_PLG_PLW_PDL1_PPL_PRW_PRG_PDL3_PDR2_PRT_PLT_PDL2_PR_VRi_GL_PLS | 1                                                                                        | \n",
       "| VRo_PLG_PRT_VLi_GR_PLT_PDL1_PRW_PPR_VLo_P_PDR3_PR_PLW_PDR1_PRG_PDR2_PDL3_PLS_PDL2_VRi_GL | 1                                                                                        | \n",
       "| VRo_PLG_PRT_VRi_GR_GL_PLT_PDL1_PRW_PPR_VL_P_PDL4_PR_PLW_PDR1_PRG_PDR2_PDR3_PLS_PDL2_PDL3 | 1                                                                                        | \n",
       "| VRo_PLS_P_PPL_PDR2_PLT_VL_PRT_PDR1_PLG_PDR3_PDL1_PLM_PLW_GL_GR_PRG_VRi_PDL2_PR_PDL3_PRW  | 1                                                                                        | \n",
       "| VRo_PLS_P_PRG_VRi_PDL3_PRW_GL_VLo_PDR2_VLi_PPL_PDL2_PLW_PDR1_PDL1_PRT_PR_GR_PLG_PLT_PLM  | 1                                                                                        | \n",
       "| VRo_PLS_P_VL_VRi_GL_PDR2_PRT_PPR_GR_PDL3_PDR1_PLG_PDR3_PLT_PDL2_PDL1_PR_PDL4_PRG_PLW_PRW | 1                                                                                        | \n",
       "| VRo_PLS_PLT_PPR_PLG_PR_PLM_PRG_P_PRT_PDR3_PDL1_PLW_GR_PDR1_VRi_PDR2_VLo_GL_VLi_PRW_PDL2  | 1                                                                                        | \n",
       "| VRo_PLS_PPL_PDL1_P_PLG_VLi_PRW_PDR2_GR_PDL3_VRi_PRG_PDR3_PDR1_PR_GL_PLW_PLT_PDL2_VLo_PRT | 1                                                                                        | \n",
       "| VRo_PLS_PPR_PLG_PRT_PR_PLL_PRG_P_PLT_PDL3_PLW_GR_PDR1_VRi_PDR2_VLo_GL_VLi_PDL1_PRW_PDL2  | 1                                                                                        | \n",
       "| VRo_PLS_PR_PLR_PPR_PDL2_PDL1_PDR3_PLT_GR_PRG_PLW_PRW_PDR1_PRT_PDR2_GL_VRi_VL_PDL3_PLG_P  | 1                                                                                        | \n",
       "| VRo_PLS_VL_PR_PLL_PLG_PPR_GL_PLT_PRW_PDR2_PDL2_PLW_P_GR_PRT_VRi_PDR1_PLR_PRG_PDL3_PDL1   | 1                                                                                        | \n",
       "| VRo_PLT_P_PLL_VRi_PLS_PLW_GL_PLG_PRW_PRT_PDL3_PDL1_PDL2_PPR_PR_PDR1_VL_GR_PRG_PLR_PDR2   | 1                                                                                        | \n",
       "| VRo_PLT_PLS_PLW_PLG_VL_PDR3_PRW_GL_PRT_PDL1_PPR_PRG_PDL3_PDR2_P_PDL2_PR_PLL_VRi_GR_PDR1  | 1                                                                                        | \n",
       "| VRo_PLT_PLS_PLW_PLG_VLo_PLL_PRW_GL_PPR_PDL1_PRG_PDR3_PDR2_PRT_P_PDL2_PR_VLi_VRi_GR_PDR1  | 1                                                                                        | \n",
       "| VRo_PLT_PRG_PRT_PLG_GR_P_GL_PLS_PDR2_PR_PLW_PPR_VLi_VLo_PLL_PDL1_VRi_PRW_PDR1_PDR3_PDL2  | 1                                                                                        | \n",
       "| VRo_PLW_GR_PRG_PRW_PPR_PLS_PDL1_GL_VLi_PLT_PDL3_P_PDR3_PLG_VLo_PDL2_PRT_PR_PDR1_PDR2_VRi | 1                                                                                        | \n",
       "| VRo_PPR_PDL1_P_VLi_PRT_PRG_VRi_PR_PLG_PRW_PLM_PDR1_PDL2_GR_PLT_PLS_GL_PLW_PDR2_VLo_PDL3  | 1                                                                                        | \n",
       "| VRo_PRG_GL_PDL1_VLo_PR_P_GR_PLT_PDL2_PLS_PLR_VRi_VLi_PDL3_PLG_PLW_PRT_PPR_PDR2_PDR1_PRW  | 1                                                                                        | \n",
       "| VRo_PRG_PLG_VRi_GR_PRW_P_VLi_PLT_PDR4_PPL_PLS_PDR1_PDL2_PLW_PDL1_PR_PDR3_GL_VLo_PRT_PDR2 | 1                                                                                        | \n",
       "| VRo_PRG_PLL_PPL_GR_PRW_P_PDR3_PRT_PLT_PR_PLG_PLS_PDL1_PLW_VRi_PDR2_GL_PDR1_PLR_VL_PDL2   | 1                                                                                        | \n",
       "| VRo_PRT_P_PLS_PLW_PDR1_PLG_PRW_PDR2_GR_GL_VRi_PPR_PDL1_PLL_PLM_VL_PDR3_PDL2_PLT_PR_PRG   | 1                                                                                        | \n",
       "| VRo_PRT_P_PLS_PLW_PLG_PRW_PDR1_PDR2_GR_GL_VRi_PPR_PDL1_PDL3_PLM_VL_PDR3_PDL2_PLT_PR_PRG  | 1                                                                                        | \n",
       "| VRo_PRT_PDL2_P_PDR2_PLS_PLG_VLi_PPR_PDL1_VLo_PDR3_PDR1_PRW_GR_PR_PLW_VRi_PLT_GL_PRG_PLL  | 1                                                                                        | \n",
       "| VRo_VLi_GR_GL_PLT_PDL1_PRW_PPR_PRT_VLo_P_PDR3_PR_PLW_PDR1_PLG_PRG_PDR2_PDL3_PLS_PDL2_VRi | 1                                                                                        | \n",
       "| VRo_VLi_PLS_P_VLo_VRi_PRT_PPR_PDR3_PDR1_GR_PDL3_PLG_PDR2_PLT_GL_PDL2_PDL1_PR_PRG_PLW_PRW | 1                                                                                        | \n",
       "| VRo_VLi_VLo_PRG_PRW_PLW_PDL3_PDR3_P_PDR2_PDR1_PR_PPR_PLT_PLS_PDL1_GL_VRi_PDL2_PLG_PRT_GR | 1                                                                                        | \n",
       "| VRo_VLi_VLo_PRG_PRW_PLW_PDL3_PDR3_P_PDR2_PDR1_PR_PPR_PLT_PLS_PDL1_GR_VRi_PDL2_PLG_PRT_GL | 1                                                                                        | \n",
       "| VRo_VLo_VLi_PLS_PRT_PLG_PLT_PDL2_PRG_PDR1_PLR_VRi_GL_PRW_PLW_PDR2_PLL_P_PDL1_PR_GR_PPL   | 1                                                                                        | \n",
       "\n",
       "\n"
      ],
      "text/plain": [
       "     formation                                                                               \n",
       "1    GL_GR_PLS_PDR2_PLT_PRG_PLG_PDL1_PPR_PDR4_PRT_PR_PDL3_PLW_PDR1_PDR3_VL_P_PDL2_PRW_VR_PDL4\n",
       "2    GL_GR_PLS_PDR2_PLT_PRG_PLG_VL_PDL1_PPR_PDR4_PRT_PR_PDL3_PLW_PDR1_PDR3_P_PDL2_PRW_VR_PDL4\n",
       "3    GL_GR_PLS_PDR2_PLT_PRG_PLG_VLi_PDL1_PPR_PLM_PRT_PR_PDL3_PLW_PDR1_VLo_P_PDL2_PRW_VRi_VRo \n",
       "4    GL_GR_PLS_PDR2_PLT_PRG_PLG_VRi_PDL1_PPR_PLM_PRT_PR_PDR3_PLW_PDR1_PDL3_VL_P_PDL2_PRW_VRo \n",
       "5    GL_GR_PLS_PDR2_PLT_PRG_PLG_VRi_PDL1_PPR_PLR_PRT_PR_PDR3_PLW_PDR1_PDL3_P_PDL2_PRW_VL_VRo \n",
       "6    GL_GR_PLS_VR_PDR1_PLT_PRG_PDR2_PLG_PDL3_PLL_PFB_PPR_PRT_VL_PDL2_PLW_P_PDR3_PRW_PDL1_PR  \n",
       "7    GL_GR_PLS_VR_PDR1_PLT_PRG_PDR2_PLG_PDL4_PLR_PDL2_PPR_PRT_VL_PDL3_PLW_P_PDR3_PRW_PDL1_PR \n",
       "8    GL_GR_PLS_VR_PDR1_PLT_PRG_PDR3_PLG_PDL4_PDR2_PDL3_PPR_PRT_VL_PDL2_PLW_P_PDR4_PRW_PDL1_PR\n",
       "9    GL_GR_PLS_VR_PDR2_PLT_PRG_PDR4_PLG_PDL3_PDR1_PDL1_PPR_PRT_VL_PDL4_PLW_P_PDR3_PRW_PDL2_PR\n",
       "10   GL_GR_PPL_PDL2_PRW_PDL1_P_PLS_PDR3_PLW_PRG_PLL_PLT_PRT_PDL3_PLG_VR_PR_PLR_PDR1_PDR2_VL  \n",
       "11   GL_GR_PRG_PLT_PRT_PLG_P_PR_PLS_PLW_PDR1_PDR2_PDL4_VL_VR_PDL3_PDR3_PPR_PDL2_PDR4_PRW_PDL1\n",
       "12   GL_P_PDL1_PLS_PRG_PPR_PLG_VL_PDL2_PLW_PDR2_VRi_VRo_PDL3_PRW_PRT_PR_PDR1_PLT_GR_PLL_PDR3 \n",
       "13   GL_P_PDL1_PLS_PRG_PPR_PLG_VL_PDL2_PLW_PDR3_VRo_VRi_PDL3_PRW_PRT_PR_PDR1_PLT_GR_PLL_PDR2 \n",
       "14   GL_P_PDR3_PLS_VRo_PDL2_PDL3_PRW_VRi_PDL1_PLR_VL_PR_PLT_PRG_PRT_PPR_PDR1_PDR2_PLG_GR_PLW \n",
       "15   GL_P_PLS_GR_PDL3_PRG_PDR3_PDR1_PRW_PLG_PR_PLW_PPR_VL_PDR2_PRT_PDL2_PLT_VRi_PDL4_PDL1_VRo\n",
       "16   GL_P_PLS_GR_PDR2_VL_PLR_PLG_PR_PDR3_PRG_PLW_PPL_VRo_PDL1_PRW_PRT_PDL2_VRi_PLT_PDR1_PDL3 \n",
       "17   GL_P_PLS_GR_PDR2_VR_PDL3_PLG_PR_PDR3_PRG_PLW_PPL_VLo_PDL1_PRW_PRT_PDL2_VLi_PLT_PDR1_PDL4\n",
       "18   GL_P_PLS_GR_PDR3_VL_PRG_PDL2_VRi_PRW_PR_PLG_PDR2_VRo_PLW_PPR_PDL3_PDL1_PRT_PLT_PDR1_PDL4\n",
       "19   GL_P_PLS_GR_PDR4_PRG_PDL4_PDL3_PDR3_PDR2_PRW_PLG_PR_PLW_PPL_VL_PDR1_PRT_PDL2_PLT_PDL1_VR\n",
       "20   GL_P_PLS_GR_PDR4_VR_PRG_PDL3_PDL1_PRW_PR_PLG_PDR3_VL_PLW_PPR_PDL4_PDL2_PRT_PLT_PDR2_PDR1\n",
       "21   GL_P_PLS_GR_PLL_PRG_PDR3_PDR2_PRW_PLG_PR_PLW_PPR_VL_PDR1_PRT_PDL2_PLT_VRi_PDL3_PDL1_VRo \n",
       "22   GL_P_PLS_GR_PLL_PRG_PDR3_PDR2_PRW_PLG_PR_PLW_PPR_VL_PR_PDR1_PRT_PDL2_PLT_PDL3_PDL1_VR   \n",
       "23   GL_P_PLS_GR_PLR2_PLT_PLW_PR_PRW_VL_PLL1_PDL2_PRG_PPL_PDL1_PDR1_PLR1_PLL2_PLG_PRT_VR_PDR2\n",
       "24   GL_P_PLS_GR_PRG_PDL1_PDL3_PRW_PDL2_PLG_PR_PLW_PPR_PLR1_PDR2_PLR2_VL_PLL_PRT_PLT_PDR1_VR \n",
       "25   GL_P_PLS_GR_PRG_PDL1_PDR3_PRW_PDL2_PLG_PR_PLW_PPL_PLR_PDR2_PLL2_VL_PLL1_PRT_PLT_PDR1_VR \n",
       "26   GL_P_PLS_GR_PRG_PDL1_PDR3_PRW_PDL2_PLG_PR_PLW_PPL_PLR1_PDR2_PLR2_VL_PLL_PRT_PLT_PDR1_VR \n",
       "27   GL_P_PLS_GR_PRG_PDL2_PDR4_PRW_PDL3_PLG_PR_PLW_PPL_PDR1_PDR3_PLR_VL_PDL1_PRT_PLT_PDR2_VR \n",
       "28   GL_P_PRW_PLR_VRi_PPR_PLW_PRT_PDR1_PDL1_PDL3_PLS_PLG_PDR2_PR_VRo_PDR3_PDL2_VL_PLT_PRG_GR \n",
       "29   GL_P_VLi_PLS_PRG_GR_PPR_PLG_VLo_PDL1_PLW_PDR3_VR_PDR1_PDL2_PRW_PRT_PR_PDR2_PLT_PLL2_PLL1\n",
       "30   GL_P_VLi_PLS_PRG_PPR_PLG_VLo_PDL1_PLW_PDR2_VRo_VRi_PDL2_PRW_PRT_PR_PDR1_PLT_GR_PLL2_PLL1\n",
       "...  ...                                                                                     \n",
       "6406 VRo_PDR1_PDL2_PLT_PRT_PR_PLW_PDR2_PDL3_PDR3_PLG_GR_PLS_VL_PDL1_PRG_PPR_VRi_PRW_P_PDL4_GL\n",
       "6407 VRo_PDR2_GR_PRT_GL_PDL1_PR_PLG_PRG_PLT_P_PDL2_VLi_PLW_PPL_PDR3_VLo_PDL3_VRi_PDR1_PRW_PLS\n",
       "6408 VRo_PDR3_VLi_PDR1_GR_P_VLo_PLG_PLW_PDL1_PPL_PRW_PRG_PDL3_PDR2_PRT_PLT_PDL2_PR_VRi_GL_PLS\n",
       "6409 VRo_PLG_PRT_VLi_GR_PLT_PDL1_PRW_PPR_VLo_P_PDR3_PR_PLW_PDR1_PRG_PDR2_PDL3_PLS_PDL2_VRi_GL\n",
       "6410 VRo_PLG_PRT_VRi_GR_GL_PLT_PDL1_PRW_PPR_VL_P_PDL4_PR_PLW_PDR1_PRG_PDR2_PDR3_PLS_PDL2_PDL3\n",
       "6411 VRo_PLS_P_PPL_PDR2_PLT_VL_PRT_PDR1_PLG_PDR3_PDL1_PLM_PLW_GL_GR_PRG_VRi_PDL2_PR_PDL3_PRW \n",
       "6412 VRo_PLS_P_PRG_VRi_PDL3_PRW_GL_VLo_PDR2_VLi_PPL_PDL2_PLW_PDR1_PDL1_PRT_PR_GR_PLG_PLT_PLM \n",
       "6413 VRo_PLS_P_VL_VRi_GL_PDR2_PRT_PPR_GR_PDL3_PDR1_PLG_PDR3_PLT_PDL2_PDL1_PR_PDL4_PRG_PLW_PRW\n",
       "6414 VRo_PLS_PLT_PPR_PLG_PR_PLM_PRG_P_PRT_PDR3_PDL1_PLW_GR_PDR1_VRi_PDR2_VLo_GL_VLi_PRW_PDL2 \n",
       "6415 VRo_PLS_PPL_PDL1_P_PLG_VLi_PRW_PDR2_GR_PDL3_VRi_PRG_PDR3_PDR1_PR_GL_PLW_PLT_PDL2_VLo_PRT\n",
       "6416 VRo_PLS_PPR_PLG_PRT_PR_PLL_PRG_P_PLT_PDL3_PLW_GR_PDR1_VRi_PDR2_VLo_GL_VLi_PDL1_PRW_PDL2 \n",
       "6417 VRo_PLS_PR_PLR_PPR_PDL2_PDL1_PDR3_PLT_GR_PRG_PLW_PRW_PDR1_PRT_PDR2_GL_VRi_VL_PDL3_PLG_P \n",
       "6418 VRo_PLS_VL_PR_PLL_PLG_PPR_GL_PLT_PRW_PDR2_PDL2_PLW_P_GR_PRT_VRi_PDR1_PLR_PRG_PDL3_PDL1  \n",
       "6419 VRo_PLT_P_PLL_VRi_PLS_PLW_GL_PLG_PRW_PRT_PDL3_PDL1_PDL2_PPR_PR_PDR1_VL_GR_PRG_PLR_PDR2  \n",
       "6420 VRo_PLT_PLS_PLW_PLG_VL_PDR3_PRW_GL_PRT_PDL1_PPR_PRG_PDL3_PDR2_P_PDL2_PR_PLL_VRi_GR_PDR1 \n",
       "6421 VRo_PLT_PLS_PLW_PLG_VLo_PLL_PRW_GL_PPR_PDL1_PRG_PDR3_PDR2_PRT_P_PDL2_PR_VLi_VRi_GR_PDR1 \n",
       "6422 VRo_PLT_PRG_PRT_PLG_GR_P_GL_PLS_PDR2_PR_PLW_PPR_VLi_VLo_PLL_PDL1_VRi_PRW_PDR1_PDR3_PDL2 \n",
       "6423 VRo_PLW_GR_PRG_PRW_PPR_PLS_PDL1_GL_VLi_PLT_PDL3_P_PDR3_PLG_VLo_PDL2_PRT_PR_PDR1_PDR2_VRi\n",
       "6424 VRo_PPR_PDL1_P_VLi_PRT_PRG_VRi_PR_PLG_PRW_PLM_PDR1_PDL2_GR_PLT_PLS_GL_PLW_PDR2_VLo_PDL3 \n",
       "6425 VRo_PRG_GL_PDL1_VLo_PR_P_GR_PLT_PDL2_PLS_PLR_VRi_VLi_PDL3_PLG_PLW_PRT_PPR_PDR2_PDR1_PRW \n",
       "6426 VRo_PRG_PLG_VRi_GR_PRW_P_VLi_PLT_PDR4_PPL_PLS_PDR1_PDL2_PLW_PDL1_PR_PDR3_GL_VLo_PRT_PDR2\n",
       "6427 VRo_PRG_PLL_PPL_GR_PRW_P_PDR3_PRT_PLT_PR_PLG_PLS_PDL1_PLW_VRi_PDR2_GL_PDR1_PLR_VL_PDL2  \n",
       "6428 VRo_PRT_P_PLS_PLW_PDR1_PLG_PRW_PDR2_GR_GL_VRi_PPR_PDL1_PLL_PLM_VL_PDR3_PDL2_PLT_PR_PRG  \n",
       "6429 VRo_PRT_P_PLS_PLW_PLG_PRW_PDR1_PDR2_GR_GL_VRi_PPR_PDL1_PDL3_PLM_VL_PDR3_PDL2_PLT_PR_PRG \n",
       "6430 VRo_PRT_PDL2_P_PDR2_PLS_PLG_VLi_PPR_PDL1_VLo_PDR3_PDR1_PRW_GR_PR_PLW_VRi_PLT_GL_PRG_PLL \n",
       "6431 VRo_VLi_GR_GL_PLT_PDL1_PRW_PPR_PRT_VLo_P_PDR3_PR_PLW_PDR1_PLG_PRG_PDR2_PDL3_PLS_PDL2_VRi\n",
       "6432 VRo_VLi_PLS_P_VLo_VRi_PRT_PPR_PDR3_PDR1_GR_PDL3_PLG_PDR2_PLT_GL_PDL2_PDL1_PR_PRG_PLW_PRW\n",
       "6433 VRo_VLi_VLo_PRG_PRW_PLW_PDL3_PDR3_P_PDR2_PDR1_PR_PPR_PLT_PLS_PDL1_GL_VRi_PDL2_PLG_PRT_GR\n",
       "6434 VRo_VLi_VLo_PRG_PRW_PLW_PDL3_PDR3_P_PDR2_PDR1_PR_PPR_PLT_PLS_PDL1_GR_VRi_PDL2_PLG_PRT_GL\n",
       "6435 VRo_VLo_VLi_PLS_PRT_PLG_PLT_PDL2_PRG_PDR1_PLR_VRi_GL_PRW_PLW_PDR2_PLL_P_PDL1_PR_GR_PPL  \n",
       "     Total_Count\n",
       "1    1          \n",
       "2    1          \n",
       "3    1          \n",
       "4    1          \n",
       "5    1          \n",
       "6    1          \n",
       "7    1          \n",
       "8    1          \n",
       "9    1          \n",
       "10   1          \n",
       "11   1          \n",
       "12   1          \n",
       "13   1          \n",
       "14   1          \n",
       "15   1          \n",
       "16   1          \n",
       "17   1          \n",
       "18   1          \n",
       "19   1          \n",
       "20   1          \n",
       "21   1          \n",
       "22   1          \n",
       "23   1          \n",
       "24   1          \n",
       "25   1          \n",
       "26   1          \n",
       "27   1          \n",
       "28   1          \n",
       "29   1          \n",
       "30   1          \n",
       "...  ...        \n",
       "6406 1          \n",
       "6407 1          \n",
       "6408 1          \n",
       "6409 1          \n",
       "6410 1          \n",
       "6411 1          \n",
       "6412 1          \n",
       "6413 1          \n",
       "6414 1          \n",
       "6415 1          \n",
       "6416 1          \n",
       "6417 1          \n",
       "6418 1          \n",
       "6419 1          \n",
       "6420 1          \n",
       "6421 1          \n",
       "6422 1          \n",
       "6423 1          \n",
       "6424 1          \n",
       "6425 1          \n",
       "6426 1          \n",
       "6427 1          \n",
       "6428 1          \n",
       "6429 1          \n",
       "6430 1          \n",
       "6431 1          \n",
       "6432 1          \n",
       "6433 1          \n",
       "6434 1          \n",
       "6435 1          "
      ]
     },
     "metadata": {},
     "output_type": "display_data"
    }
   ],
   "source": [
    "data_temporary <- merge(vid_rev, game_formation_data, all.x=TRUE, by='game_play_id')\n",
    "data_temporary <- data_temporary %>% group_by(formation) %>% dplyr::summarize(Injury_Count = n())\n",
    "head(data_temporary)\n",
    "\n",
    "final_formation_data <- final_formation_data %>% group_by(formation) %>% dplyr::summarize(Total_Count = n())\n",
    "head(final_formation_data)\n",
    "arrange(final_formation_data, desc(Total_Count))\n"
   ]
  },
  {
   "cell_type": "code",
   "execution_count": 71,
   "metadata": {},
   "outputs": [
    {
     "data": {
      "text/html": [
       "<table>\n",
       "<thead><tr><th scope=col>formation</th><th scope=col>Injury_Count</th><th scope=col>Total_Count</th></tr></thead>\n",
       "<tbody>\n",
       "\t<tr><td>GL_GR_PLS_PDR2_PLT_PRG_PLG_PDL1_PPR_PDR4_PRT_PR_PDL3_PLW_PDR1_PDR3_VL_P_PDL2_PRW_VR_PDL4</td><td>0                                                                                       </td><td>1                                                                                       </td></tr>\n",
       "\t<tr><td>GL_GR_PLS_PDR2_PLT_PRG_PLG_VL_PDL1_PPR_PDR4_PRT_PR_PDL3_PLW_PDR1_PDR3_P_PDL2_PRW_VR_PDL4</td><td>0                                                                                       </td><td>1                                                                                       </td></tr>\n",
       "\t<tr><td>GL_GR_PLS_PDR2_PLT_PRG_PLG_VLi_PDL1_PPR_PLM_PRT_PR_PDL3_PLW_PDR1_VLo_P_PDL2_PRW_VRi_VRo </td><td>0                                                                                       </td><td>1                                                                                       </td></tr>\n",
       "\t<tr><td>GL_GR_PLS_PDR2_PLT_PRG_PLG_VRi_PDL1_PPR_PLM_PRT_PR_PDR3_PLW_PDR1_PDL3_VL_P_PDL2_PRW_VRo </td><td>0                                                                                       </td><td>1                                                                                       </td></tr>\n",
       "\t<tr><td>GL_GR_PLS_PDR2_PLT_PRG_PLG_VRi_PDL1_PPR_PLR_PRT_PR_PDR3_PLW_PDR1_PDL3_P_PDL2_PRW_VL_VRo </td><td>0                                                                                       </td><td>1                                                                                       </td></tr>\n",
       "\t<tr><td>GL_GR_PLS_VR_PDR1_PLT_PRG_PDR2_PLG_PDL3_PLL_PFB_PPR_PRT_VL_PDL2_PLW_P_PDR3_PRW_PDL1_PR  </td><td>0                                                                                       </td><td>1                                                                                       </td></tr>\n",
       "</tbody>\n",
       "</table>\n"
      ],
      "text/latex": [
       "\\begin{tabular}{r|lll}\n",
       " formation & Injury\\_Count & Total\\_Count\\\\\n",
       "\\hline\n",
       "\t GL\\_GR\\_PLS\\_PDR2\\_PLT\\_PRG\\_PLG\\_PDL1\\_PPR\\_PDR4\\_PRT\\_PR\\_PDL3\\_PLW\\_PDR1\\_PDR3\\_VL\\_P\\_PDL2\\_PRW\\_VR\\_PDL4 & 0                                                                                                                                  & 1                                                                                                                                 \\\\\n",
       "\t GL\\_GR\\_PLS\\_PDR2\\_PLT\\_PRG\\_PLG\\_VL\\_PDL1\\_PPR\\_PDR4\\_PRT\\_PR\\_PDL3\\_PLW\\_PDR1\\_PDR3\\_P\\_PDL2\\_PRW\\_VR\\_PDL4 & 0                                                                                                                                  & 1                                                                                                                                 \\\\\n",
       "\t GL\\_GR\\_PLS\\_PDR2\\_PLT\\_PRG\\_PLG\\_VLi\\_PDL1\\_PPR\\_PLM\\_PRT\\_PR\\_PDL3\\_PLW\\_PDR1\\_VLo\\_P\\_PDL2\\_PRW\\_VRi\\_VRo  & 0                                                                                                                                  & 1                                                                                                                                 \\\\\n",
       "\t GL\\_GR\\_PLS\\_PDR2\\_PLT\\_PRG\\_PLG\\_VRi\\_PDL1\\_PPR\\_PLM\\_PRT\\_PR\\_PDR3\\_PLW\\_PDR1\\_PDL3\\_VL\\_P\\_PDL2\\_PRW\\_VRo  & 0                                                                                                                                  & 1                                                                                                                                 \\\\\n",
       "\t GL\\_GR\\_PLS\\_PDR2\\_PLT\\_PRG\\_PLG\\_VRi\\_PDL1\\_PPR\\_PLR\\_PRT\\_PR\\_PDR3\\_PLW\\_PDR1\\_PDL3\\_P\\_PDL2\\_PRW\\_VL\\_VRo  & 0                                                                                                                                  & 1                                                                                                                                 \\\\\n",
       "\t GL\\_GR\\_PLS\\_VR\\_PDR1\\_PLT\\_PRG\\_PDR2\\_PLG\\_PDL3\\_PLL\\_PFB\\_PPR\\_PRT\\_VL\\_PDL2\\_PLW\\_P\\_PDR3\\_PRW\\_PDL1\\_PR   & 0                                                                                                                                  & 1                                                                                                                                 \\\\\n",
       "\\end{tabular}\n"
      ],
      "text/markdown": [
       "\n",
       "formation | Injury_Count | Total_Count | \n",
       "|---|---|---|---|---|---|\n",
       "| GL_GR_PLS_PDR2_PLT_PRG_PLG_PDL1_PPR_PDR4_PRT_PR_PDL3_PLW_PDR1_PDR3_VL_P_PDL2_PRW_VR_PDL4 | 0                                                                                        | 1                                                                                        | \n",
       "| GL_GR_PLS_PDR2_PLT_PRG_PLG_VL_PDL1_PPR_PDR4_PRT_PR_PDL3_PLW_PDR1_PDR3_P_PDL2_PRW_VR_PDL4 | 0                                                                                        | 1                                                                                        | \n",
       "| GL_GR_PLS_PDR2_PLT_PRG_PLG_VLi_PDL1_PPR_PLM_PRT_PR_PDL3_PLW_PDR1_VLo_P_PDL2_PRW_VRi_VRo  | 0                                                                                        | 1                                                                                        | \n",
       "| GL_GR_PLS_PDR2_PLT_PRG_PLG_VRi_PDL1_PPR_PLM_PRT_PR_PDR3_PLW_PDR1_PDL3_VL_P_PDL2_PRW_VRo  | 0                                                                                        | 1                                                                                        | \n",
       "| GL_GR_PLS_PDR2_PLT_PRG_PLG_VRi_PDL1_PPR_PLR_PRT_PR_PDR3_PLW_PDR1_PDL3_P_PDL2_PRW_VL_VRo  | 0                                                                                        | 1                                                                                        | \n",
       "| GL_GR_PLS_VR_PDR1_PLT_PRG_PDR2_PLG_PDL3_PLL_PFB_PPR_PRT_VL_PDL2_PLW_P_PDR3_PRW_PDL1_PR   | 0                                                                                        | 1                                                                                        | \n",
       "\n",
       "\n"
      ],
      "text/plain": [
       "  formation                                                                               \n",
       "1 GL_GR_PLS_PDR2_PLT_PRG_PLG_PDL1_PPR_PDR4_PRT_PR_PDL3_PLW_PDR1_PDR3_VL_P_PDL2_PRW_VR_PDL4\n",
       "2 GL_GR_PLS_PDR2_PLT_PRG_PLG_VL_PDL1_PPR_PDR4_PRT_PR_PDL3_PLW_PDR1_PDR3_P_PDL2_PRW_VR_PDL4\n",
       "3 GL_GR_PLS_PDR2_PLT_PRG_PLG_VLi_PDL1_PPR_PLM_PRT_PR_PDL3_PLW_PDR1_VLo_P_PDL2_PRW_VRi_VRo \n",
       "4 GL_GR_PLS_PDR2_PLT_PRG_PLG_VRi_PDL1_PPR_PLM_PRT_PR_PDR3_PLW_PDR1_PDL3_VL_P_PDL2_PRW_VRo \n",
       "5 GL_GR_PLS_PDR2_PLT_PRG_PLG_VRi_PDL1_PPR_PLR_PRT_PR_PDR3_PLW_PDR1_PDL3_P_PDL2_PRW_VL_VRo \n",
       "6 GL_GR_PLS_VR_PDR1_PLT_PRG_PDR2_PLG_PDL3_PLL_PFB_PPR_PRT_VL_PDL2_PLW_P_PDR3_PRW_PDL1_PR  \n",
       "  Injury_Count Total_Count\n",
       "1 0            1          \n",
       "2 0            1          \n",
       "3 0            1          \n",
       "4 0            1          \n",
       "5 0            1          \n",
       "6 0            1          "
      ]
     },
     "metadata": {},
     "output_type": "display_data"
    },
    {
     "data": {
      "text/html": [
       "<table>\n",
       "<thead><tr><th scope=col>formation</th><th scope=col>Injury_Count</th><th scope=col>Total_Count</th><th scope=col>Mean</th></tr></thead>\n",
       "<tbody>\n",
       "\t<tr><td>P_PDL2_PLS_PLG_VRi_VRo_VLi_PLW_VLo_PPR_PDR2_PDL1_PRT_GL_PR_PRG_PLT_PRW_PDL3_PLL_PDR1_GR </td><td>1                                                                                       </td><td>1                                                                                       </td><td>0.5                                                                                     </td></tr>\n",
       "\t<tr><td>P_PDR1_PRT_PR_VLo_PLT_PLL_PDL3_PDR2_VLi_PLS_GR_PLW_PPR_PRG_PLG_PDR3_VR_PDL2_PRW_GL_PDL1 </td><td>1                                                                                       </td><td>1                                                                                       </td><td>0.5                                                                                     </td></tr>\n",
       "\t<tr><td>P_PLT_PLL_PLW_GR_PR_PDL1_VRi_PRW_PRT_PLG_PPR_PDR3_VLo_PRG_PDR1_VLi_GL_PDR2_PDL2_PLS     </td><td>1                                                                                       </td><td>1                                                                                       </td><td>0.5                                                                                     </td></tr>\n",
       "\t<tr><td>P_PR_PRT_PLT_VL_PDR1_PLR_PLS_PDR2_GR_PRG_PDL2_PLW_PPR_VR_PDL3_PDL1_PRW_PLL_PLG_PDR3_GL  </td><td>1                                                                                       </td><td>1                                                                                       </td><td>0.5                                                                                     </td></tr>\n",
       "\t<tr><td>P_PRG_PDR1_PDR2_PDL1_PRT_PLG_GR_PLS_PLM_PLT_PRW_PDL2_VRo_PLW_VRi_PPR_PDR3_GL_PR_VLi_VLo </td><td>1                                                                                       </td><td>1                                                                                       </td><td>0.5                                                                                     </td></tr>\n",
       "\t<tr><td>P_PRG_PDR2_PLG_PLS_PLT_PRW_PDL3_PLL_PLW_VRi_PDL2_PPR_VLi_VRo_GR_PR_VLo_PDL1_PRT_GL_PDR1 </td><td>1                                                                                       </td><td>1                                                                                       </td><td>0.5                                                                                     </td></tr>\n",
       "\t<tr><td>P_PRG_PR_VL_PLL_PLG_PLS_PLT_PRW_PDR3_PLW_PDR1_PLR_PDL2_PDR2_VR_PPL_PDL3_GL_PRT_GR_PDL1  </td><td>1                                                                                       </td><td>1                                                                                       </td><td>0.5                                                                                     </td></tr>\n",
       "\t<tr><td>P_PRT_GL_PDL3_GR_PRW_PLW_PLS_PLT_PRG_PDL2_PR_PLL1_VRi_VRo_PPL_PDR1_PLG_VL_PDL1_PLL2_PDR2</td><td>1                                                                                       </td><td>1                                                                                       </td><td>0.5                                                                                     </td></tr>\n",
       "\t<tr><td>PDL1_VRo_PRG_PPL_PDR1_PDL3_PLG_PR_PLT_GR_PRT_GL_PDR2_PRW_PLS_VL_PDR4_PDL2_VRi_PLW_PDR3_P</td><td>1                                                                                       </td><td>1                                                                                       </td><td>0.5                                                                                     </td></tr>\n",
       "\t<tr><td>PDL2_PDL3_PLR2_PPR_P_PRG_PDR1_PLG_PLS_PDR2_PLT_PRT_PRW_PLR1_PLW_VR_GR_PDL1_VLi_PR_GL_VLo</td><td>1                                                                                       </td><td>1                                                                                       </td><td>0.5                                                                                     </td></tr>\n",
       "\t<tr><td>PDL3_VLo_PDR1_PR_PDL1_VRi_PRG_PRW_PRT_PLS_PDL2_VRo_VLi_PDR3_PLG_P_GL_PLT_GR_PPL_PLW_PDR2</td><td>1                                                                                       </td><td>1                                                                                       </td><td>0.5                                                                                     </td></tr>\n",
       "\t<tr><td>PDR1_PLG_PLT_PRG_PPR_VL_GL_PDL1_PDL3_PRT_PLW_PRW_PR_GR_PFB_PDR3_PLL_P_PLS_PDR2_VR_PDL2  </td><td>1                                                                                       </td><td>1                                                                                       </td><td>0.5                                                                                     </td></tr>\n",
       "\t<tr><td>PDR2_PLS_PLG_VRo_VLi_PDL2_PDR1_PDL1_PPR_PRT_VRi_PDL3_P_PRW_PLL_GL_VLo_PLW_PR_GR_PLT_PRG </td><td>1                                                                                       </td><td>1                                                                                       </td><td>0.5                                                                                     </td></tr>\n",
       "\t<tr><td>PDR4_PLL1_PLT_PLW_VR_PRG_PDL1_PDL2_PLL2_PPR_PDR2_PR_PDR3_PLG_PDR1_GL_PRW_PLS_PRT_P_GR_VL</td><td>1                                                                                       </td><td>1                                                                                       </td><td>0.5                                                                                     </td></tr>\n",
       "\t<tr><td>PLG_PLS_VL_PDL4_PRT_PDL1_PRW_PDL3_PPR_PDR4_PDL2_GR_GL_PR_PDR3_VR_PDR2_PLT_PRG_PDR1_PLW_P</td><td>1                                                                                       </td><td>1                                                                                       </td><td>0.5                                                                                     </td></tr>\n",
       "\t<tr><td>PLG_PRT_GL_PDR1_P_VL_PLS_PDR4_GR_PRG_PRW_PDR3_PDL3_PDL2_PDL1_PLW_PPR_PDL4_VR_PR_PLT_PDR2</td><td>1                                                                                       </td><td>1                                                                                       </td><td>0.5                                                                                     </td></tr>\n",
       "\t<tr><td>PLS_GL_PLR_PLL2_PLL1_GR_PRW_P_PDR1_PRG_PLT_PLG_PPR_VL_PDL1_PDL2_PR_VR_PDR2_PDL3_PLW_PRT </td><td>1                                                                                       </td><td>1                                                                                       </td><td>0.5                                                                                     </td></tr>\n",
       "\t<tr><td>PLS_PDL1_PPL_PRG_PDR2_PLW_PDL3_GL_PDR1_PLR1_P_PLT_PLG_PRW_PDL2_VR_GR_PLL_VL_PRT_PLR2_PR </td><td>1                                                                                       </td><td>1                                                                                       </td><td>0.5                                                                                     </td></tr>\n",
       "\t<tr><td>PLS_PLR_PDL3_PDL1_P_PRG_PLW_GL_PRW_PR_PPR_PDR3_PDR1_PRT_PDR2_PLG_VRo_GR_VL_PDL2_VRi_PLT </td><td>1                                                                                       </td><td>1                                                                                       </td><td>0.5                                                                                     </td></tr>\n",
       "\t<tr><td>PLS_PRW_PR_PLG_GR_PRG_PLT_PDL3_GL_PPR_VR_PDR3_PDL1_P_PLW_PDR2_PDR5_PDR4_PDL2_PRT_VL_PDR1</td><td>1                                                                                       </td><td>1                                                                                       </td><td>0.5                                                                                     </td></tr>\n",
       "\t<tr><td>PLS_VLo_VLi_PDR3_VRi_PLW_PLG_PDL1_GL_PPR_P_PDR2_GR_PLT_PDL2_PR_PLR_PRW_VRo_PRT_PRG_PDR1 </td><td>1                                                                                       </td><td>1                                                                                       </td><td>0.5                                                                                     </td></tr>\n",
       "\t<tr><td>PLT_PDL1_VR_PRG_PPR_PDR1_PDL4_PLG_PR_GL_PRT_PDR2_PRW_PLS_GR_VLo_PDR3_PDL2_VLi_PLW_PDL3_P</td><td>1                                                                                       </td><td>1                                                                                       </td><td>0.5                                                                                     </td></tr>\n",
       "\t<tr><td>PLT_PLS_PLG_P_PDL3_VRo_PDL1_PPL_VLo_PLR_PRT_PRW_VRi_PRG_VLi_PR_PLW_GR_PDL2_PDR1_GL_PDR2 </td><td>1                                                                                       </td><td>1                                                                                       </td><td>0.5                                                                                     </td></tr>\n",
       "\t<tr><td>PLW_PLG_PPL_PLS_VLo_PLT_PDL2_VRo_PDR2_GL_PDL1_PDR3_P_PRT_PRW_PDL3_PRG_GR_PDR1_PR_VLi_VRi</td><td>1                                                                                       </td><td>1                                                                                       </td><td>0.5                                                                                     </td></tr>\n",
       "\t<tr><td>PPR_PLG_PRT_PLS_PR_PDR2_PRW_GL_PLW_PLT_VLi_P_PRG_PLL_VLo_PDL3_PDL2_PDR3_PDL1_VR_PDR1_GR </td><td>1                                                                                       </td><td>1                                                                                       </td><td>0.5                                                                                     </td></tr>\n",
       "\t<tr><td>PPR_PLS_PRT_PRW_P_VRo_PDL1_GL_VLo_PR_PLG_PLW_PDR2_PDL2_VRi_PLL_PRG_PLT_PDR3_GR_PDR1_VLi </td><td>1                                                                                       </td><td>1                                                                                       </td><td>0.5                                                                                     </td></tr>\n",
       "\t<tr><td>PR_P_PPL_PRG_VRo_PDR3_GR_VLo_VRi_PDL2_VLi_PLT_PLW_PLS_PLG_PLR_PDL1_PRT_PDR1_GL_PRW_PDR2 </td><td>1                                                                                       </td><td>1                                                                                       </td><td>0.5                                                                                     </td></tr>\n",
       "\t<tr><td>PR_PDL1_P_PLR_PLS_VL_PFB_PLW_PRT_PRW_PDR1_PDL2_PLT_PLG_VRi_GL_PRG_PDR2_VRo_PPR_PDL3_GR  </td><td>1                                                                                       </td><td>1                                                                                       </td><td>0.5                                                                                     </td></tr>\n",
       "\t<tr><td>PR_PDL1_PLS_PDL3_PLW_PLM_PDL2_PPR_PRG_PDR1_PRW_PLT_P_PLG_VLi_PRT_PDR2_GR_GL_VLo_VR_PDR3 </td><td>1                                                                                       </td><td>1                                                                                       </td><td>0.5                                                                                     </td></tr>\n",
       "\t<tr><td>PR_PLS_PLM_PLW_PDL3_PDR1_PDR3_PRW_PDL1_PDR2_PLT_P_PLG_VR_PLL_PDL2_PRG_PRT_GR_GL_PPR_VL  </td><td>1                                                                                       </td><td>1                                                                                       </td><td>0.5                                                                                     </td></tr>\n",
       "\t<tr><td>...</td><td>...</td><td>...</td><td>...</td></tr>\n",
       "\t<tr><td>VRo_PDR1_PDL2_PLT_PRT_PR_PLW_PDR2_PDL3_PDR3_PLG_GR_PLS_VL_PDL1_PRG_PPR_VRi_PRW_P_PDL4_GL</td><td>0                                                                                       </td><td>1                                                                                       </td><td>0                                                                                       </td></tr>\n",
       "\t<tr><td>VRo_PDR2_GR_PRT_GL_PDL1_PR_PLG_PRG_PLT_P_PDL2_VLi_PLW_PPL_PDR3_VLo_PDL3_VRi_PDR1_PRW_PLS</td><td>0                                                                                       </td><td>1                                                                                       </td><td>0                                                                                       </td></tr>\n",
       "\t<tr><td>VRo_PDR3_VLi_PDR1_GR_P_VLo_PLG_PLW_PDL1_PPL_PRW_PRG_PDL3_PDR2_PRT_PLT_PDL2_PR_VRi_GL_PLS</td><td>0                                                                                       </td><td>1                                                                                       </td><td>0                                                                                       </td></tr>\n",
       "\t<tr><td>VRo_PLG_PRT_VLi_GR_PLT_PDL1_PRW_PPR_VLo_P_PDR3_PR_PLW_PDR1_PRG_PDR2_PDL3_PLS_PDL2_VRi_GL</td><td>0                                                                                       </td><td>1                                                                                       </td><td>0                                                                                       </td></tr>\n",
       "\t<tr><td>VRo_PLG_PRT_VRi_GR_GL_PLT_PDL1_PRW_PPR_VL_P_PDL4_PR_PLW_PDR1_PRG_PDR2_PDR3_PLS_PDL2_PDL3</td><td>0                                                                                       </td><td>1                                                                                       </td><td>0                                                                                       </td></tr>\n",
       "\t<tr><td>VRo_PLS_P_PPL_PDR2_PLT_VL_PRT_PDR1_PLG_PDR3_PDL1_PLM_PLW_GL_GR_PRG_VRi_PDL2_PR_PDL3_PRW </td><td>0                                                                                       </td><td>1                                                                                       </td><td>0                                                                                       </td></tr>\n",
       "\t<tr><td>VRo_PLS_P_PRG_VRi_PDL3_PRW_GL_VLo_PDR2_VLi_PPL_PDL2_PLW_PDR1_PDL1_PRT_PR_GR_PLG_PLT_PLM </td><td>0                                                                                       </td><td>1                                                                                       </td><td>0                                                                                       </td></tr>\n",
       "\t<tr><td>VRo_PLS_P_VL_VRi_GL_PDR2_PRT_PPR_GR_PDL3_PDR1_PLG_PDR3_PLT_PDL2_PDL1_PR_PDL4_PRG_PLW_PRW</td><td>0                                                                                       </td><td>1                                                                                       </td><td>0                                                                                       </td></tr>\n",
       "\t<tr><td>VRo_PLS_PLT_PPR_PLG_PR_PLM_PRG_P_PRT_PDR3_PDL1_PLW_GR_PDR1_VRi_PDR2_VLo_GL_VLi_PRW_PDL2 </td><td>0                                                                                       </td><td>1                                                                                       </td><td>0                                                                                       </td></tr>\n",
       "\t<tr><td>VRo_PLS_PPL_PDL1_P_PLG_VLi_PRW_PDR2_GR_PDL3_VRi_PRG_PDR3_PDR1_PR_GL_PLW_PLT_PDL2_VLo_PRT</td><td>0                                                                                       </td><td>1                                                                                       </td><td>0                                                                                       </td></tr>\n",
       "\t<tr><td>VRo_PLS_PPR_PLG_PRT_PR_PLL_PRG_P_PLT_PDL3_PLW_GR_PDR1_VRi_PDR2_VLo_GL_VLi_PDL1_PRW_PDL2 </td><td>0                                                                                       </td><td>1                                                                                       </td><td>0                                                                                       </td></tr>\n",
       "\t<tr><td>VRo_PLS_PR_PLR_PPR_PDL2_PDL1_PDR3_PLT_GR_PRG_PLW_PRW_PDR1_PRT_PDR2_GL_VRi_VL_PDL3_PLG_P </td><td>0                                                                                       </td><td>1                                                                                       </td><td>0                                                                                       </td></tr>\n",
       "\t<tr><td>VRo_PLS_VL_PR_PLL_PLG_PPR_GL_PLT_PRW_PDR2_PDL2_PLW_P_GR_PRT_VRi_PDR1_PLR_PRG_PDL3_PDL1  </td><td>0                                                                                       </td><td>1                                                                                       </td><td>0                                                                                       </td></tr>\n",
       "\t<tr><td>VRo_PLT_P_PLL_VRi_PLS_PLW_GL_PLG_PRW_PRT_PDL3_PDL1_PDL2_PPR_PR_PDR1_VL_GR_PRG_PLR_PDR2  </td><td>0                                                                                       </td><td>1                                                                                       </td><td>0                                                                                       </td></tr>\n",
       "\t<tr><td>VRo_PLT_PLS_PLW_PLG_VL_PDR3_PRW_GL_PRT_PDL1_PPR_PRG_PDL3_PDR2_P_PDL2_PR_PLL_VRi_GR_PDR1 </td><td>0                                                                                       </td><td>1                                                                                       </td><td>0                                                                                       </td></tr>\n",
       "\t<tr><td>VRo_PLT_PLS_PLW_PLG_VLo_PLL_PRW_GL_PPR_PDL1_PRG_PDR3_PDR2_PRT_P_PDL2_PR_VLi_VRi_GR_PDR1 </td><td>0                                                                                       </td><td>1                                                                                       </td><td>0                                                                                       </td></tr>\n",
       "\t<tr><td>VRo_PLT_PRG_PRT_PLG_GR_P_GL_PLS_PDR2_PR_PLW_PPR_VLi_VLo_PLL_PDL1_VRi_PRW_PDR1_PDR3_PDL2 </td><td>0                                                                                       </td><td>1                                                                                       </td><td>0                                                                                       </td></tr>\n",
       "\t<tr><td>VRo_PLW_GR_PRG_PRW_PPR_PLS_PDL1_GL_VLi_PLT_PDL3_P_PDR3_PLG_VLo_PDL2_PRT_PR_PDR1_PDR2_VRi</td><td>0                                                                                       </td><td>1                                                                                       </td><td>0                                                                                       </td></tr>\n",
       "\t<tr><td>VRo_PPR_PDL1_P_VLi_PRT_PRG_VRi_PR_PLG_PRW_PLM_PDR1_PDL2_GR_PLT_PLS_GL_PLW_PDR2_VLo_PDL3 </td><td>0                                                                                       </td><td>1                                                                                       </td><td>0                                                                                       </td></tr>\n",
       "\t<tr><td>VRo_PRG_GL_PDL1_VLo_PR_P_GR_PLT_PDL2_PLS_PLR_VRi_VLi_PDL3_PLG_PLW_PRT_PPR_PDR2_PDR1_PRW </td><td>0                                                                                       </td><td>1                                                                                       </td><td>0                                                                                       </td></tr>\n",
       "\t<tr><td>VRo_PRG_PLG_VRi_GR_PRW_P_VLi_PLT_PDR4_PPL_PLS_PDR1_PDL2_PLW_PDL1_PR_PDR3_GL_VLo_PRT_PDR2</td><td>0                                                                                       </td><td>1                                                                                       </td><td>0                                                                                       </td></tr>\n",
       "\t<tr><td>VRo_PRG_PLL_PPL_GR_PRW_P_PDR3_PRT_PLT_PR_PLG_PLS_PDL1_PLW_VRi_PDR2_GL_PDR1_PLR_VL_PDL2  </td><td>0                                                                                       </td><td>1                                                                                       </td><td>0                                                                                       </td></tr>\n",
       "\t<tr><td>VRo_PRT_P_PLS_PLW_PDR1_PLG_PRW_PDR2_GR_GL_VRi_PPR_PDL1_PLL_PLM_VL_PDR3_PDL2_PLT_PR_PRG  </td><td>0                                                                                       </td><td>1                                                                                       </td><td>0                                                                                       </td></tr>\n",
       "\t<tr><td>VRo_PRT_P_PLS_PLW_PLG_PRW_PDR1_PDR2_GR_GL_VRi_PPR_PDL1_PDL3_PLM_VL_PDR3_PDL2_PLT_PR_PRG </td><td>0                                                                                       </td><td>1                                                                                       </td><td>0                                                                                       </td></tr>\n",
       "\t<tr><td>VRo_PRT_PDL2_P_PDR2_PLS_PLG_VLi_PPR_PDL1_VLo_PDR3_PDR1_PRW_GR_PR_PLW_VRi_PLT_GL_PRG_PLL </td><td>0                                                                                       </td><td>1                                                                                       </td><td>0                                                                                       </td></tr>\n",
       "\t<tr><td>VRo_VLi_GR_GL_PLT_PDL1_PRW_PPR_PRT_VLo_P_PDR3_PR_PLW_PDR1_PLG_PRG_PDR2_PDL3_PLS_PDL2_VRi</td><td>0                                                                                       </td><td>1                                                                                       </td><td>0                                                                                       </td></tr>\n",
       "\t<tr><td>VRo_VLi_PLS_P_VLo_VRi_PRT_PPR_PDR3_PDR1_GR_PDL3_PLG_PDR2_PLT_GL_PDL2_PDL1_PR_PRG_PLW_PRW</td><td>0                                                                                       </td><td>1                                                                                       </td><td>0                                                                                       </td></tr>\n",
       "\t<tr><td>VRo_VLi_VLo_PRG_PRW_PLW_PDL3_PDR3_P_PDR2_PDR1_PR_PPR_PLT_PLS_PDL1_GL_VRi_PDL2_PLG_PRT_GR</td><td>0                                                                                       </td><td>1                                                                                       </td><td>0                                                                                       </td></tr>\n",
       "\t<tr><td>VRo_VLi_VLo_PRG_PRW_PLW_PDL3_PDR3_P_PDR2_PDR1_PR_PPR_PLT_PLS_PDL1_GR_VRi_PDL2_PLG_PRT_GL</td><td>0                                                                                       </td><td>1                                                                                       </td><td>0                                                                                       </td></tr>\n",
       "\t<tr><td>VRo_VLo_VLi_PLS_PRT_PLG_PLT_PDL2_PRG_PDR1_PLR_VRi_GL_PRW_PLW_PDR2_PLL_P_PDL1_PR_GR_PPL  </td><td>0                                                                                       </td><td>1                                                                                       </td><td>0                                                                                       </td></tr>\n",
       "</tbody>\n",
       "</table>\n"
      ],
      "text/latex": [
       "\\begin{tabular}{r|llll}\n",
       " formation & Injury\\_Count & Total\\_Count & Mean\\\\\n",
       "\\hline\n",
       "\t P\\_PDL2\\_PLS\\_PLG\\_VRi\\_VRo\\_VLi\\_PLW\\_VLo\\_PPR\\_PDR2\\_PDL1\\_PRT\\_GL\\_PR\\_PRG\\_PLT\\_PRW\\_PDL3\\_PLL\\_PDR1\\_GR  & 1                                                                                                                                  & 1                                                                                                                                  & 0.5                                                                                                                               \\\\\n",
       "\t P\\_PDR1\\_PRT\\_PR\\_VLo\\_PLT\\_PLL\\_PDL3\\_PDR2\\_VLi\\_PLS\\_GR\\_PLW\\_PPR\\_PRG\\_PLG\\_PDR3\\_VR\\_PDL2\\_PRW\\_GL\\_PDL1  & 1                                                                                                                                  & 1                                                                                                                                  & 0.5                                                                                                                               \\\\\n",
       "\t P\\_PLT\\_PLL\\_PLW\\_GR\\_PR\\_PDL1\\_VRi\\_PRW\\_PRT\\_PLG\\_PPR\\_PDR3\\_VLo\\_PRG\\_PDR1\\_VLi\\_GL\\_PDR2\\_PDL2\\_PLS      & 1                                                                                                                                & 1                                                                                                                                & 0.5                                                                                                                             \\\\\n",
       "\t P\\_PR\\_PRT\\_PLT\\_VL\\_PDR1\\_PLR\\_PLS\\_PDR2\\_GR\\_PRG\\_PDL2\\_PLW\\_PPR\\_VR\\_PDL3\\_PDL1\\_PRW\\_PLL\\_PLG\\_PDR3\\_GL   & 1                                                                                                                                  & 1                                                                                                                                  & 0.5                                                                                                                               \\\\\n",
       "\t P\\_PRG\\_PDR1\\_PDR2\\_PDL1\\_PRT\\_PLG\\_GR\\_PLS\\_PLM\\_PLT\\_PRW\\_PDL2\\_VRo\\_PLW\\_VRi\\_PPR\\_PDR3\\_GL\\_PR\\_VLi\\_VLo  & 1                                                                                                                                  & 1                                                                                                                                  & 0.5                                                                                                                               \\\\\n",
       "\t P\\_PRG\\_PDR2\\_PLG\\_PLS\\_PLT\\_PRW\\_PDL3\\_PLL\\_PLW\\_VRi\\_PDL2\\_PPR\\_VLi\\_VRo\\_GR\\_PR\\_VLo\\_PDL1\\_PRT\\_GL\\_PDR1  & 1                                                                                                                                  & 1                                                                                                                                  & 0.5                                                                                                                               \\\\\n",
       "\t P\\_PRG\\_PR\\_VL\\_PLL\\_PLG\\_PLS\\_PLT\\_PRW\\_PDR3\\_PLW\\_PDR1\\_PLR\\_PDL2\\_PDR2\\_VR\\_PPL\\_PDL3\\_GL\\_PRT\\_GR\\_PDL1   & 1                                                                                                                                  & 1                                                                                                                                  & 0.5                                                                                                                               \\\\\n",
       "\t P\\_PRT\\_GL\\_PDL3\\_GR\\_PRW\\_PLW\\_PLS\\_PLT\\_PRG\\_PDL2\\_PR\\_PLL1\\_VRi\\_VRo\\_PPL\\_PDR1\\_PLG\\_VL\\_PDL1\\_PLL2\\_PDR2 & 1                                                                                                                                  & 1                                                                                                                                  & 0.5                                                                                                                               \\\\\n",
       "\t PDL1\\_VRo\\_PRG\\_PPL\\_PDR1\\_PDL3\\_PLG\\_PR\\_PLT\\_GR\\_PRT\\_GL\\_PDR2\\_PRW\\_PLS\\_VL\\_PDR4\\_PDL2\\_VRi\\_PLW\\_PDR3\\_P & 1                                                                                                                                  & 1                                                                                                                                  & 0.5                                                                                                                               \\\\\n",
       "\t PDL2\\_PDL3\\_PLR2\\_PPR\\_P\\_PRG\\_PDR1\\_PLG\\_PLS\\_PDR2\\_PLT\\_PRT\\_PRW\\_PLR1\\_PLW\\_VR\\_GR\\_PDL1\\_VLi\\_PR\\_GL\\_VLo & 1                                                                                                                                  & 1                                                                                                                                  & 0.5                                                                                                                               \\\\\n",
       "\t PDL3\\_VLo\\_PDR1\\_PR\\_PDL1\\_VRi\\_PRG\\_PRW\\_PRT\\_PLS\\_PDL2\\_VRo\\_VLi\\_PDR3\\_PLG\\_P\\_GL\\_PLT\\_GR\\_PPL\\_PLW\\_PDR2 & 1                                                                                                                                  & 1                                                                                                                                  & 0.5                                                                                                                               \\\\\n",
       "\t PDR1\\_PLG\\_PLT\\_PRG\\_PPR\\_VL\\_GL\\_PDL1\\_PDL3\\_PRT\\_PLW\\_PRW\\_PR\\_GR\\_PFB\\_PDR3\\_PLL\\_P\\_PLS\\_PDR2\\_VR\\_PDL2   & 1                                                                                                                                  & 1                                                                                                                                  & 0.5                                                                                                                               \\\\\n",
       "\t PDR2\\_PLS\\_PLG\\_VRo\\_VLi\\_PDL2\\_PDR1\\_PDL1\\_PPR\\_PRT\\_VRi\\_PDL3\\_P\\_PRW\\_PLL\\_GL\\_VLo\\_PLW\\_PR\\_GR\\_PLT\\_PRG  & 1                                                                                                                                  & 1                                                                                                                                  & 0.5                                                                                                                               \\\\\n",
       "\t PDR4\\_PLL1\\_PLT\\_PLW\\_VR\\_PRG\\_PDL1\\_PDL2\\_PLL2\\_PPR\\_PDR2\\_PR\\_PDR3\\_PLG\\_PDR1\\_GL\\_PRW\\_PLS\\_PRT\\_P\\_GR\\_VL & 1                                                                                                                                  & 1                                                                                                                                  & 0.5                                                                                                                               \\\\\n",
       "\t PLG\\_PLS\\_VL\\_PDL4\\_PRT\\_PDL1\\_PRW\\_PDL3\\_PPR\\_PDR4\\_PDL2\\_GR\\_GL\\_PR\\_PDR3\\_VR\\_PDR2\\_PLT\\_PRG\\_PDR1\\_PLW\\_P & 1                                                                                                                                  & 1                                                                                                                                  & 0.5                                                                                                                               \\\\\n",
       "\t PLG\\_PRT\\_GL\\_PDR1\\_P\\_VL\\_PLS\\_PDR4\\_GR\\_PRG\\_PRW\\_PDR3\\_PDL3\\_PDL2\\_PDL1\\_PLW\\_PPR\\_PDL4\\_VR\\_PR\\_PLT\\_PDR2 & 1                                                                                                                                  & 1                                                                                                                                  & 0.5                                                                                                                               \\\\\n",
       "\t PLS\\_GL\\_PLR\\_PLL2\\_PLL1\\_GR\\_PRW\\_P\\_PDR1\\_PRG\\_PLT\\_PLG\\_PPR\\_VL\\_PDL1\\_PDL2\\_PR\\_VR\\_PDR2\\_PDL3\\_PLW\\_PRT  & 1                                                                                                                                  & 1                                                                                                                                  & 0.5                                                                                                                               \\\\\n",
       "\t PLS\\_PDL1\\_PPL\\_PRG\\_PDR2\\_PLW\\_PDL3\\_GL\\_PDR1\\_PLR1\\_P\\_PLT\\_PLG\\_PRW\\_PDL2\\_VR\\_GR\\_PLL\\_VL\\_PRT\\_PLR2\\_PR  & 1                                                                                                                                  & 1                                                                                                                                  & 0.5                                                                                                                               \\\\\n",
       "\t PLS\\_PLR\\_PDL3\\_PDL1\\_P\\_PRG\\_PLW\\_GL\\_PRW\\_PR\\_PPR\\_PDR3\\_PDR1\\_PRT\\_PDR2\\_PLG\\_VRo\\_GR\\_VL\\_PDL2\\_VRi\\_PLT  & 1                                                                                                                                  & 1                                                                                                                                  & 0.5                                                                                                                               \\\\\n",
       "\t PLS\\_PRW\\_PR\\_PLG\\_GR\\_PRG\\_PLT\\_PDL3\\_GL\\_PPR\\_VR\\_PDR3\\_PDL1\\_P\\_PLW\\_PDR2\\_PDR5\\_PDR4\\_PDL2\\_PRT\\_VL\\_PDR1 & 1                                                                                                                                  & 1                                                                                                                                  & 0.5                                                                                                                               \\\\\n",
       "\t PLS\\_VLo\\_VLi\\_PDR3\\_VRi\\_PLW\\_PLG\\_PDL1\\_GL\\_PPR\\_P\\_PDR2\\_GR\\_PLT\\_PDL2\\_PR\\_PLR\\_PRW\\_VRo\\_PRT\\_PRG\\_PDR1  & 1                                                                                                                                  & 1                                                                                                                                  & 0.5                                                                                                                               \\\\\n",
       "\t PLT\\_PDL1\\_VR\\_PRG\\_PPR\\_PDR1\\_PDL4\\_PLG\\_PR\\_GL\\_PRT\\_PDR2\\_PRW\\_PLS\\_GR\\_VLo\\_PDR3\\_PDL2\\_VLi\\_PLW\\_PDL3\\_P & 1                                                                                                                                  & 1                                                                                                                                  & 0.5                                                                                                                               \\\\\n",
       "\t PLT\\_PLS\\_PLG\\_P\\_PDL3\\_VRo\\_PDL1\\_PPL\\_VLo\\_PLR\\_PRT\\_PRW\\_VRi\\_PRG\\_VLi\\_PR\\_PLW\\_GR\\_PDL2\\_PDR1\\_GL\\_PDR2  & 1                                                                                                                                  & 1                                                                                                                                  & 0.5                                                                                                                               \\\\\n",
       "\t PLW\\_PLG\\_PPL\\_PLS\\_VLo\\_PLT\\_PDL2\\_VRo\\_PDR2\\_GL\\_PDL1\\_PDR3\\_P\\_PRT\\_PRW\\_PDL3\\_PRG\\_GR\\_PDR1\\_PR\\_VLi\\_VRi & 1                                                                                                                                  & 1                                                                                                                                  & 0.5                                                                                                                               \\\\\n",
       "\t PPR\\_PLG\\_PRT\\_PLS\\_PR\\_PDR2\\_PRW\\_GL\\_PLW\\_PLT\\_VLi\\_P\\_PRG\\_PLL\\_VLo\\_PDL3\\_PDL2\\_PDR3\\_PDL1\\_VR\\_PDR1\\_GR  & 1                                                                                                                                  & 1                                                                                                                                  & 0.5                                                                                                                               \\\\\n",
       "\t PPR\\_PLS\\_PRT\\_PRW\\_P\\_VRo\\_PDL1\\_GL\\_VLo\\_PR\\_PLG\\_PLW\\_PDR2\\_PDL2\\_VRi\\_PLL\\_PRG\\_PLT\\_PDR3\\_GR\\_PDR1\\_VLi  & 1                                                                                                                                  & 1                                                                                                                                  & 0.5                                                                                                                               \\\\\n",
       "\t PR\\_P\\_PPL\\_PRG\\_VRo\\_PDR3\\_GR\\_VLo\\_VRi\\_PDL2\\_VLi\\_PLT\\_PLW\\_PLS\\_PLG\\_PLR\\_PDL1\\_PRT\\_PDR1\\_GL\\_PRW\\_PDR2  & 1                                                                                                                                  & 1                                                                                                                                  & 0.5                                                                                                                               \\\\\n",
       "\t PR\\_PDL1\\_P\\_PLR\\_PLS\\_VL\\_PFB\\_PLW\\_PRT\\_PRW\\_PDR1\\_PDL2\\_PLT\\_PLG\\_VRi\\_GL\\_PRG\\_PDR2\\_VRo\\_PPR\\_PDL3\\_GR   & 1                                                                                                                                  & 1                                                                                                                                  & 0.5                                                                                                                               \\\\\n",
       "\t PR\\_PDL1\\_PLS\\_PDL3\\_PLW\\_PLM\\_PDL2\\_PPR\\_PRG\\_PDR1\\_PRW\\_PLT\\_P\\_PLG\\_VLi\\_PRT\\_PDR2\\_GR\\_GL\\_VLo\\_VR\\_PDR3  & 1                                                                                                                                  & 1                                                                                                                                  & 0.5                                                                                                                               \\\\\n",
       "\t PR\\_PLS\\_PLM\\_PLW\\_PDL3\\_PDR1\\_PDR3\\_PRW\\_PDL1\\_PDR2\\_PLT\\_P\\_PLG\\_VR\\_PLL\\_PDL2\\_PRG\\_PRT\\_GR\\_GL\\_PPR\\_VL   & 1                                                                                                                                  & 1                                                                                                                                  & 0.5                                                                                                                               \\\\\n",
       "\t ... & ... & ... & ...\\\\\n",
       "\t VRo\\_PDR1\\_PDL2\\_PLT\\_PRT\\_PR\\_PLW\\_PDR2\\_PDL3\\_PDR3\\_PLG\\_GR\\_PLS\\_VL\\_PDL1\\_PRG\\_PPR\\_VRi\\_PRW\\_P\\_PDL4\\_GL & 0                                                                                                                                  & 1                                                                                                                                  & 0                                                                                                                                 \\\\\n",
       "\t VRo\\_PDR2\\_GR\\_PRT\\_GL\\_PDL1\\_PR\\_PLG\\_PRG\\_PLT\\_P\\_PDL2\\_VLi\\_PLW\\_PPL\\_PDR3\\_VLo\\_PDL3\\_VRi\\_PDR1\\_PRW\\_PLS & 0                                                                                                                                  & 1                                                                                                                                  & 0                                                                                                                                 \\\\\n",
       "\t VRo\\_PDR3\\_VLi\\_PDR1\\_GR\\_P\\_VLo\\_PLG\\_PLW\\_PDL1\\_PPL\\_PRW\\_PRG\\_PDL3\\_PDR2\\_PRT\\_PLT\\_PDL2\\_PR\\_VRi\\_GL\\_PLS & 0                                                                                                                                  & 1                                                                                                                                  & 0                                                                                                                                 \\\\\n",
       "\t VRo\\_PLG\\_PRT\\_VLi\\_GR\\_PLT\\_PDL1\\_PRW\\_PPR\\_VLo\\_P\\_PDR3\\_PR\\_PLW\\_PDR1\\_PRG\\_PDR2\\_PDL3\\_PLS\\_PDL2\\_VRi\\_GL & 0                                                                                                                                  & 1                                                                                                                                  & 0                                                                                                                                 \\\\\n",
       "\t VRo\\_PLG\\_PRT\\_VRi\\_GR\\_GL\\_PLT\\_PDL1\\_PRW\\_PPR\\_VL\\_P\\_PDL4\\_PR\\_PLW\\_PDR1\\_PRG\\_PDR2\\_PDR3\\_PLS\\_PDL2\\_PDL3 & 0                                                                                                                                  & 1                                                                                                                                  & 0                                                                                                                                 \\\\\n",
       "\t VRo\\_PLS\\_P\\_PPL\\_PDR2\\_PLT\\_VL\\_PRT\\_PDR1\\_PLG\\_PDR3\\_PDL1\\_PLM\\_PLW\\_GL\\_GR\\_PRG\\_VRi\\_PDL2\\_PR\\_PDL3\\_PRW  & 0                                                                                                                                  & 1                                                                                                                                  & 0                                                                                                                                 \\\\\n",
       "\t VRo\\_PLS\\_P\\_PRG\\_VRi\\_PDL3\\_PRW\\_GL\\_VLo\\_PDR2\\_VLi\\_PPL\\_PDL2\\_PLW\\_PDR1\\_PDL1\\_PRT\\_PR\\_GR\\_PLG\\_PLT\\_PLM  & 0                                                                                                                                  & 1                                                                                                                                  & 0                                                                                                                                 \\\\\n",
       "\t VRo\\_PLS\\_P\\_VL\\_VRi\\_GL\\_PDR2\\_PRT\\_PPR\\_GR\\_PDL3\\_PDR1\\_PLG\\_PDR3\\_PLT\\_PDL2\\_PDL1\\_PR\\_PDL4\\_PRG\\_PLW\\_PRW & 0                                                                                                                                  & 1                                                                                                                                  & 0                                                                                                                                 \\\\\n",
       "\t VRo\\_PLS\\_PLT\\_PPR\\_PLG\\_PR\\_PLM\\_PRG\\_P\\_PRT\\_PDR3\\_PDL1\\_PLW\\_GR\\_PDR1\\_VRi\\_PDR2\\_VLo\\_GL\\_VLi\\_PRW\\_PDL2  & 0                                                                                                                                  & 1                                                                                                                                  & 0                                                                                                                                 \\\\\n",
       "\t VRo\\_PLS\\_PPL\\_PDL1\\_P\\_PLG\\_VLi\\_PRW\\_PDR2\\_GR\\_PDL3\\_VRi\\_PRG\\_PDR3\\_PDR1\\_PR\\_GL\\_PLW\\_PLT\\_PDL2\\_VLo\\_PRT & 0                                                                                                                                  & 1                                                                                                                                  & 0                                                                                                                                 \\\\\n",
       "\t VRo\\_PLS\\_PPR\\_PLG\\_PRT\\_PR\\_PLL\\_PRG\\_P\\_PLT\\_PDL3\\_PLW\\_GR\\_PDR1\\_VRi\\_PDR2\\_VLo\\_GL\\_VLi\\_PDL1\\_PRW\\_PDL2  & 0                                                                                                                                  & 1                                                                                                                                  & 0                                                                                                                                 \\\\\n",
       "\t VRo\\_PLS\\_PR\\_PLR\\_PPR\\_PDL2\\_PDL1\\_PDR3\\_PLT\\_GR\\_PRG\\_PLW\\_PRW\\_PDR1\\_PRT\\_PDR2\\_GL\\_VRi\\_VL\\_PDL3\\_PLG\\_P  & 0                                                                                                                                  & 1                                                                                                                                  & 0                                                                                                                                 \\\\\n",
       "\t VRo\\_PLS\\_VL\\_PR\\_PLL\\_PLG\\_PPR\\_GL\\_PLT\\_PRW\\_PDR2\\_PDL2\\_PLW\\_P\\_GR\\_PRT\\_VRi\\_PDR1\\_PLR\\_PRG\\_PDL3\\_PDL1   & 0                                                                                                                                  & 1                                                                                                                                  & 0                                                                                                                                 \\\\\n",
       "\t VRo\\_PLT\\_P\\_PLL\\_VRi\\_PLS\\_PLW\\_GL\\_PLG\\_PRW\\_PRT\\_PDL3\\_PDL1\\_PDL2\\_PPR\\_PR\\_PDR1\\_VL\\_GR\\_PRG\\_PLR\\_PDR2   & 0                                                                                                                                  & 1                                                                                                                                  & 0                                                                                                                                 \\\\\n",
       "\t VRo\\_PLT\\_PLS\\_PLW\\_PLG\\_VL\\_PDR3\\_PRW\\_GL\\_PRT\\_PDL1\\_PPR\\_PRG\\_PDL3\\_PDR2\\_P\\_PDL2\\_PR\\_PLL\\_VRi\\_GR\\_PDR1  & 0                                                                                                                                  & 1                                                                                                                                  & 0                                                                                                                                 \\\\\n",
       "\t VRo\\_PLT\\_PLS\\_PLW\\_PLG\\_VLo\\_PLL\\_PRW\\_GL\\_PPR\\_PDL1\\_PRG\\_PDR3\\_PDR2\\_PRT\\_P\\_PDL2\\_PR\\_VLi\\_VRi\\_GR\\_PDR1  & 0                                                                                                                                  & 1                                                                                                                                  & 0                                                                                                                                 \\\\\n",
       "\t VRo\\_PLT\\_PRG\\_PRT\\_PLG\\_GR\\_P\\_GL\\_PLS\\_PDR2\\_PR\\_PLW\\_PPR\\_VLi\\_VLo\\_PLL\\_PDL1\\_VRi\\_PRW\\_PDR1\\_PDR3\\_PDL2  & 0                                                                                                                                  & 1                                                                                                                                  & 0                                                                                                                                 \\\\\n",
       "\t VRo\\_PLW\\_GR\\_PRG\\_PRW\\_PPR\\_PLS\\_PDL1\\_GL\\_VLi\\_PLT\\_PDL3\\_P\\_PDR3\\_PLG\\_VLo\\_PDL2\\_PRT\\_PR\\_PDR1\\_PDR2\\_VRi & 0                                                                                                                                  & 1                                                                                                                                  & 0                                                                                                                                 \\\\\n",
       "\t VRo\\_PPR\\_PDL1\\_P\\_VLi\\_PRT\\_PRG\\_VRi\\_PR\\_PLG\\_PRW\\_PLM\\_PDR1\\_PDL2\\_GR\\_PLT\\_PLS\\_GL\\_PLW\\_PDR2\\_VLo\\_PDL3  & 0                                                                                                                                  & 1                                                                                                                                  & 0                                                                                                                                 \\\\\n",
       "\t VRo\\_PRG\\_GL\\_PDL1\\_VLo\\_PR\\_P\\_GR\\_PLT\\_PDL2\\_PLS\\_PLR\\_VRi\\_VLi\\_PDL3\\_PLG\\_PLW\\_PRT\\_PPR\\_PDR2\\_PDR1\\_PRW  & 0                                                                                                                                  & 1                                                                                                                                  & 0                                                                                                                                 \\\\\n",
       "\t VRo\\_PRG\\_PLG\\_VRi\\_GR\\_PRW\\_P\\_VLi\\_PLT\\_PDR4\\_PPL\\_PLS\\_PDR1\\_PDL2\\_PLW\\_PDL1\\_PR\\_PDR3\\_GL\\_VLo\\_PRT\\_PDR2 & 0                                                                                                                                  & 1                                                                                                                                  & 0                                                                                                                                 \\\\\n",
       "\t VRo\\_PRG\\_PLL\\_PPL\\_GR\\_PRW\\_P\\_PDR3\\_PRT\\_PLT\\_PR\\_PLG\\_PLS\\_PDL1\\_PLW\\_VRi\\_PDR2\\_GL\\_PDR1\\_PLR\\_VL\\_PDL2   & 0                                                                                                                                  & 1                                                                                                                                  & 0                                                                                                                                 \\\\\n",
       "\t VRo\\_PRT\\_P\\_PLS\\_PLW\\_PDR1\\_PLG\\_PRW\\_PDR2\\_GR\\_GL\\_VRi\\_PPR\\_PDL1\\_PLL\\_PLM\\_VL\\_PDR3\\_PDL2\\_PLT\\_PR\\_PRG   & 0                                                                                                                                  & 1                                                                                                                                  & 0                                                                                                                                 \\\\\n",
       "\t VRo\\_PRT\\_P\\_PLS\\_PLW\\_PLG\\_PRW\\_PDR1\\_PDR2\\_GR\\_GL\\_VRi\\_PPR\\_PDL1\\_PDL3\\_PLM\\_VL\\_PDR3\\_PDL2\\_PLT\\_PR\\_PRG  & 0                                                                                                                                  & 1                                                                                                                                  & 0                                                                                                                                 \\\\\n",
       "\t VRo\\_PRT\\_PDL2\\_P\\_PDR2\\_PLS\\_PLG\\_VLi\\_PPR\\_PDL1\\_VLo\\_PDR3\\_PDR1\\_PRW\\_GR\\_PR\\_PLW\\_VRi\\_PLT\\_GL\\_PRG\\_PLL  & 0                                                                                                                                  & 1                                                                                                                                  & 0                                                                                                                                 \\\\\n",
       "\t VRo\\_VLi\\_GR\\_GL\\_PLT\\_PDL1\\_PRW\\_PPR\\_PRT\\_VLo\\_P\\_PDR3\\_PR\\_PLW\\_PDR1\\_PLG\\_PRG\\_PDR2\\_PDL3\\_PLS\\_PDL2\\_VRi & 0                                                                                                                                  & 1                                                                                                                                  & 0                                                                                                                                 \\\\\n",
       "\t VRo\\_VLi\\_PLS\\_P\\_VLo\\_VRi\\_PRT\\_PPR\\_PDR3\\_PDR1\\_GR\\_PDL3\\_PLG\\_PDR2\\_PLT\\_GL\\_PDL2\\_PDL1\\_PR\\_PRG\\_PLW\\_PRW & 0                                                                                                                                  & 1                                                                                                                                  & 0                                                                                                                                 \\\\\n",
       "\t VRo\\_VLi\\_VLo\\_PRG\\_PRW\\_PLW\\_PDL3\\_PDR3\\_P\\_PDR2\\_PDR1\\_PR\\_PPR\\_PLT\\_PLS\\_PDL1\\_GL\\_VRi\\_PDL2\\_PLG\\_PRT\\_GR & 0                                                                                                                                  & 1                                                                                                                                  & 0                                                                                                                                 \\\\\n",
       "\t VRo\\_VLi\\_VLo\\_PRG\\_PRW\\_PLW\\_PDL3\\_PDR3\\_P\\_PDR2\\_PDR1\\_PR\\_PPR\\_PLT\\_PLS\\_PDL1\\_GR\\_VRi\\_PDL2\\_PLG\\_PRT\\_GL & 0                                                                                                                                  & 1                                                                                                                                  & 0                                                                                                                                 \\\\\n",
       "\t VRo\\_VLo\\_VLi\\_PLS\\_PRT\\_PLG\\_PLT\\_PDL2\\_PRG\\_PDR1\\_PLR\\_VRi\\_GL\\_PRW\\_PLW\\_PDR2\\_PLL\\_P\\_PDL1\\_PR\\_GR\\_PPL   & 0                                                                                                                                  & 1                                                                                                                                  & 0                                                                                                                                 \\\\\n",
       "\\end{tabular}\n"
      ],
      "text/markdown": [
       "\n",
       "formation | Injury_Count | Total_Count | Mean | \n",
       "|---|---|---|---|---|---|---|---|---|---|---|---|---|---|---|---|---|---|---|---|---|---|---|---|---|---|---|---|---|---|---|---|---|---|---|---|---|---|---|---|---|---|---|---|---|---|---|---|---|---|---|---|---|---|---|---|---|---|---|---|---|\n",
       "| P_PDL2_PLS_PLG_VRi_VRo_VLi_PLW_VLo_PPR_PDR2_PDL1_PRT_GL_PR_PRG_PLT_PRW_PDL3_PLL_PDR1_GR  | 1                                                                                        | 1                                                                                        | 0.5                                                                                      | \n",
       "| P_PDR1_PRT_PR_VLo_PLT_PLL_PDL3_PDR2_VLi_PLS_GR_PLW_PPR_PRG_PLG_PDR3_VR_PDL2_PRW_GL_PDL1  | 1                                                                                        | 1                                                                                        | 0.5                                                                                      | \n",
       "| P_PLT_PLL_PLW_GR_PR_PDL1_VRi_PRW_PRT_PLG_PPR_PDR3_VLo_PRG_PDR1_VLi_GL_PDR2_PDL2_PLS      | 1                                                                                        | 1                                                                                        | 0.5                                                                                      | \n",
       "| P_PR_PRT_PLT_VL_PDR1_PLR_PLS_PDR2_GR_PRG_PDL2_PLW_PPR_VR_PDL3_PDL1_PRW_PLL_PLG_PDR3_GL   | 1                                                                                        | 1                                                                                        | 0.5                                                                                      | \n",
       "| P_PRG_PDR1_PDR2_PDL1_PRT_PLG_GR_PLS_PLM_PLT_PRW_PDL2_VRo_PLW_VRi_PPR_PDR3_GL_PR_VLi_VLo  | 1                                                                                        | 1                                                                                        | 0.5                                                                                      | \n",
       "| P_PRG_PDR2_PLG_PLS_PLT_PRW_PDL3_PLL_PLW_VRi_PDL2_PPR_VLi_VRo_GR_PR_VLo_PDL1_PRT_GL_PDR1  | 1                                                                                        | 1                                                                                        | 0.5                                                                                      | \n",
       "| P_PRG_PR_VL_PLL_PLG_PLS_PLT_PRW_PDR3_PLW_PDR1_PLR_PDL2_PDR2_VR_PPL_PDL3_GL_PRT_GR_PDL1   | 1                                                                                        | 1                                                                                        | 0.5                                                                                      | \n",
       "| P_PRT_GL_PDL3_GR_PRW_PLW_PLS_PLT_PRG_PDL2_PR_PLL1_VRi_VRo_PPL_PDR1_PLG_VL_PDL1_PLL2_PDR2 | 1                                                                                        | 1                                                                                        | 0.5                                                                                      | \n",
       "| PDL1_VRo_PRG_PPL_PDR1_PDL3_PLG_PR_PLT_GR_PRT_GL_PDR2_PRW_PLS_VL_PDR4_PDL2_VRi_PLW_PDR3_P | 1                                                                                        | 1                                                                                        | 0.5                                                                                      | \n",
       "| PDL2_PDL3_PLR2_PPR_P_PRG_PDR1_PLG_PLS_PDR2_PLT_PRT_PRW_PLR1_PLW_VR_GR_PDL1_VLi_PR_GL_VLo | 1                                                                                        | 1                                                                                        | 0.5                                                                                      | \n",
       "| PDL3_VLo_PDR1_PR_PDL1_VRi_PRG_PRW_PRT_PLS_PDL2_VRo_VLi_PDR3_PLG_P_GL_PLT_GR_PPL_PLW_PDR2 | 1                                                                                        | 1                                                                                        | 0.5                                                                                      | \n",
       "| PDR1_PLG_PLT_PRG_PPR_VL_GL_PDL1_PDL3_PRT_PLW_PRW_PR_GR_PFB_PDR3_PLL_P_PLS_PDR2_VR_PDL2   | 1                                                                                        | 1                                                                                        | 0.5                                                                                      | \n",
       "| PDR2_PLS_PLG_VRo_VLi_PDL2_PDR1_PDL1_PPR_PRT_VRi_PDL3_P_PRW_PLL_GL_VLo_PLW_PR_GR_PLT_PRG  | 1                                                                                        | 1                                                                                        | 0.5                                                                                      | \n",
       "| PDR4_PLL1_PLT_PLW_VR_PRG_PDL1_PDL2_PLL2_PPR_PDR2_PR_PDR3_PLG_PDR1_GL_PRW_PLS_PRT_P_GR_VL | 1                                                                                        | 1                                                                                        | 0.5                                                                                      | \n",
       "| PLG_PLS_VL_PDL4_PRT_PDL1_PRW_PDL3_PPR_PDR4_PDL2_GR_GL_PR_PDR3_VR_PDR2_PLT_PRG_PDR1_PLW_P | 1                                                                                        | 1                                                                                        | 0.5                                                                                      | \n",
       "| PLG_PRT_GL_PDR1_P_VL_PLS_PDR4_GR_PRG_PRW_PDR3_PDL3_PDL2_PDL1_PLW_PPR_PDL4_VR_PR_PLT_PDR2 | 1                                                                                        | 1                                                                                        | 0.5                                                                                      | \n",
       "| PLS_GL_PLR_PLL2_PLL1_GR_PRW_P_PDR1_PRG_PLT_PLG_PPR_VL_PDL1_PDL2_PR_VR_PDR2_PDL3_PLW_PRT  | 1                                                                                        | 1                                                                                        | 0.5                                                                                      | \n",
       "| PLS_PDL1_PPL_PRG_PDR2_PLW_PDL3_GL_PDR1_PLR1_P_PLT_PLG_PRW_PDL2_VR_GR_PLL_VL_PRT_PLR2_PR  | 1                                                                                        | 1                                                                                        | 0.5                                                                                      | \n",
       "| PLS_PLR_PDL3_PDL1_P_PRG_PLW_GL_PRW_PR_PPR_PDR3_PDR1_PRT_PDR2_PLG_VRo_GR_VL_PDL2_VRi_PLT  | 1                                                                                        | 1                                                                                        | 0.5                                                                                      | \n",
       "| PLS_PRW_PR_PLG_GR_PRG_PLT_PDL3_GL_PPR_VR_PDR3_PDL1_P_PLW_PDR2_PDR5_PDR4_PDL2_PRT_VL_PDR1 | 1                                                                                        | 1                                                                                        | 0.5                                                                                      | \n",
       "| PLS_VLo_VLi_PDR3_VRi_PLW_PLG_PDL1_GL_PPR_P_PDR2_GR_PLT_PDL2_PR_PLR_PRW_VRo_PRT_PRG_PDR1  | 1                                                                                        | 1                                                                                        | 0.5                                                                                      | \n",
       "| PLT_PDL1_VR_PRG_PPR_PDR1_PDL4_PLG_PR_GL_PRT_PDR2_PRW_PLS_GR_VLo_PDR3_PDL2_VLi_PLW_PDL3_P | 1                                                                                        | 1                                                                                        | 0.5                                                                                      | \n",
       "| PLT_PLS_PLG_P_PDL3_VRo_PDL1_PPL_VLo_PLR_PRT_PRW_VRi_PRG_VLi_PR_PLW_GR_PDL2_PDR1_GL_PDR2  | 1                                                                                        | 1                                                                                        | 0.5                                                                                      | \n",
       "| PLW_PLG_PPL_PLS_VLo_PLT_PDL2_VRo_PDR2_GL_PDL1_PDR3_P_PRT_PRW_PDL3_PRG_GR_PDR1_PR_VLi_VRi | 1                                                                                        | 1                                                                                        | 0.5                                                                                      | \n",
       "| PPR_PLG_PRT_PLS_PR_PDR2_PRW_GL_PLW_PLT_VLi_P_PRG_PLL_VLo_PDL3_PDL2_PDR3_PDL1_VR_PDR1_GR  | 1                                                                                        | 1                                                                                        | 0.5                                                                                      | \n",
       "| PPR_PLS_PRT_PRW_P_VRo_PDL1_GL_VLo_PR_PLG_PLW_PDR2_PDL2_VRi_PLL_PRG_PLT_PDR3_GR_PDR1_VLi  | 1                                                                                        | 1                                                                                        | 0.5                                                                                      | \n",
       "| PR_P_PPL_PRG_VRo_PDR3_GR_VLo_VRi_PDL2_VLi_PLT_PLW_PLS_PLG_PLR_PDL1_PRT_PDR1_GL_PRW_PDR2  | 1                                                                                        | 1                                                                                        | 0.5                                                                                      | \n",
       "| PR_PDL1_P_PLR_PLS_VL_PFB_PLW_PRT_PRW_PDR1_PDL2_PLT_PLG_VRi_GL_PRG_PDR2_VRo_PPR_PDL3_GR   | 1                                                                                        | 1                                                                                        | 0.5                                                                                      | \n",
       "| PR_PDL1_PLS_PDL3_PLW_PLM_PDL2_PPR_PRG_PDR1_PRW_PLT_P_PLG_VLi_PRT_PDR2_GR_GL_VLo_VR_PDR3  | 1                                                                                        | 1                                                                                        | 0.5                                                                                      | \n",
       "| PR_PLS_PLM_PLW_PDL3_PDR1_PDR3_PRW_PDL1_PDR2_PLT_P_PLG_VR_PLL_PDL2_PRG_PRT_GR_GL_PPR_VL   | 1                                                                                        | 1                                                                                        | 0.5                                                                                      | \n",
       "| ... | ... | ... | ... | \n",
       "| VRo_PDR1_PDL2_PLT_PRT_PR_PLW_PDR2_PDL3_PDR3_PLG_GR_PLS_VL_PDL1_PRG_PPR_VRi_PRW_P_PDL4_GL | 0                                                                                        | 1                                                                                        | 0                                                                                        | \n",
       "| VRo_PDR2_GR_PRT_GL_PDL1_PR_PLG_PRG_PLT_P_PDL2_VLi_PLW_PPL_PDR3_VLo_PDL3_VRi_PDR1_PRW_PLS | 0                                                                                        | 1                                                                                        | 0                                                                                        | \n",
       "| VRo_PDR3_VLi_PDR1_GR_P_VLo_PLG_PLW_PDL1_PPL_PRW_PRG_PDL3_PDR2_PRT_PLT_PDL2_PR_VRi_GL_PLS | 0                                                                                        | 1                                                                                        | 0                                                                                        | \n",
       "| VRo_PLG_PRT_VLi_GR_PLT_PDL1_PRW_PPR_VLo_P_PDR3_PR_PLW_PDR1_PRG_PDR2_PDL3_PLS_PDL2_VRi_GL | 0                                                                                        | 1                                                                                        | 0                                                                                        | \n",
       "| VRo_PLG_PRT_VRi_GR_GL_PLT_PDL1_PRW_PPR_VL_P_PDL4_PR_PLW_PDR1_PRG_PDR2_PDR3_PLS_PDL2_PDL3 | 0                                                                                        | 1                                                                                        | 0                                                                                        | \n",
       "| VRo_PLS_P_PPL_PDR2_PLT_VL_PRT_PDR1_PLG_PDR3_PDL1_PLM_PLW_GL_GR_PRG_VRi_PDL2_PR_PDL3_PRW  | 0                                                                                        | 1                                                                                        | 0                                                                                        | \n",
       "| VRo_PLS_P_PRG_VRi_PDL3_PRW_GL_VLo_PDR2_VLi_PPL_PDL2_PLW_PDR1_PDL1_PRT_PR_GR_PLG_PLT_PLM  | 0                                                                                        | 1                                                                                        | 0                                                                                        | \n",
       "| VRo_PLS_P_VL_VRi_GL_PDR2_PRT_PPR_GR_PDL3_PDR1_PLG_PDR3_PLT_PDL2_PDL1_PR_PDL4_PRG_PLW_PRW | 0                                                                                        | 1                                                                                        | 0                                                                                        | \n",
       "| VRo_PLS_PLT_PPR_PLG_PR_PLM_PRG_P_PRT_PDR3_PDL1_PLW_GR_PDR1_VRi_PDR2_VLo_GL_VLi_PRW_PDL2  | 0                                                                                        | 1                                                                                        | 0                                                                                        | \n",
       "| VRo_PLS_PPL_PDL1_P_PLG_VLi_PRW_PDR2_GR_PDL3_VRi_PRG_PDR3_PDR1_PR_GL_PLW_PLT_PDL2_VLo_PRT | 0                                                                                        | 1                                                                                        | 0                                                                                        | \n",
       "| VRo_PLS_PPR_PLG_PRT_PR_PLL_PRG_P_PLT_PDL3_PLW_GR_PDR1_VRi_PDR2_VLo_GL_VLi_PDL1_PRW_PDL2  | 0                                                                                        | 1                                                                                        | 0                                                                                        | \n",
       "| VRo_PLS_PR_PLR_PPR_PDL2_PDL1_PDR3_PLT_GR_PRG_PLW_PRW_PDR1_PRT_PDR2_GL_VRi_VL_PDL3_PLG_P  | 0                                                                                        | 1                                                                                        | 0                                                                                        | \n",
       "| VRo_PLS_VL_PR_PLL_PLG_PPR_GL_PLT_PRW_PDR2_PDL2_PLW_P_GR_PRT_VRi_PDR1_PLR_PRG_PDL3_PDL1   | 0                                                                                        | 1                                                                                        | 0                                                                                        | \n",
       "| VRo_PLT_P_PLL_VRi_PLS_PLW_GL_PLG_PRW_PRT_PDL3_PDL1_PDL2_PPR_PR_PDR1_VL_GR_PRG_PLR_PDR2   | 0                                                                                        | 1                                                                                        | 0                                                                                        | \n",
       "| VRo_PLT_PLS_PLW_PLG_VL_PDR3_PRW_GL_PRT_PDL1_PPR_PRG_PDL3_PDR2_P_PDL2_PR_PLL_VRi_GR_PDR1  | 0                                                                                        | 1                                                                                        | 0                                                                                        | \n",
       "| VRo_PLT_PLS_PLW_PLG_VLo_PLL_PRW_GL_PPR_PDL1_PRG_PDR3_PDR2_PRT_P_PDL2_PR_VLi_VRi_GR_PDR1  | 0                                                                                        | 1                                                                                        | 0                                                                                        | \n",
       "| VRo_PLT_PRG_PRT_PLG_GR_P_GL_PLS_PDR2_PR_PLW_PPR_VLi_VLo_PLL_PDL1_VRi_PRW_PDR1_PDR3_PDL2  | 0                                                                                        | 1                                                                                        | 0                                                                                        | \n",
       "| VRo_PLW_GR_PRG_PRW_PPR_PLS_PDL1_GL_VLi_PLT_PDL3_P_PDR3_PLG_VLo_PDL2_PRT_PR_PDR1_PDR2_VRi | 0                                                                                        | 1                                                                                        | 0                                                                                        | \n",
       "| VRo_PPR_PDL1_P_VLi_PRT_PRG_VRi_PR_PLG_PRW_PLM_PDR1_PDL2_GR_PLT_PLS_GL_PLW_PDR2_VLo_PDL3  | 0                                                                                        | 1                                                                                        | 0                                                                                        | \n",
       "| VRo_PRG_GL_PDL1_VLo_PR_P_GR_PLT_PDL2_PLS_PLR_VRi_VLi_PDL3_PLG_PLW_PRT_PPR_PDR2_PDR1_PRW  | 0                                                                                        | 1                                                                                        | 0                                                                                        | \n",
       "| VRo_PRG_PLG_VRi_GR_PRW_P_VLi_PLT_PDR4_PPL_PLS_PDR1_PDL2_PLW_PDL1_PR_PDR3_GL_VLo_PRT_PDR2 | 0                                                                                        | 1                                                                                        | 0                                                                                        | \n",
       "| VRo_PRG_PLL_PPL_GR_PRW_P_PDR3_PRT_PLT_PR_PLG_PLS_PDL1_PLW_VRi_PDR2_GL_PDR1_PLR_VL_PDL2   | 0                                                                                        | 1                                                                                        | 0                                                                                        | \n",
       "| VRo_PRT_P_PLS_PLW_PDR1_PLG_PRW_PDR2_GR_GL_VRi_PPR_PDL1_PLL_PLM_VL_PDR3_PDL2_PLT_PR_PRG   | 0                                                                                        | 1                                                                                        | 0                                                                                        | \n",
       "| VRo_PRT_P_PLS_PLW_PLG_PRW_PDR1_PDR2_GR_GL_VRi_PPR_PDL1_PDL3_PLM_VL_PDR3_PDL2_PLT_PR_PRG  | 0                                                                                        | 1                                                                                        | 0                                                                                        | \n",
       "| VRo_PRT_PDL2_P_PDR2_PLS_PLG_VLi_PPR_PDL1_VLo_PDR3_PDR1_PRW_GR_PR_PLW_VRi_PLT_GL_PRG_PLL  | 0                                                                                        | 1                                                                                        | 0                                                                                        | \n",
       "| VRo_VLi_GR_GL_PLT_PDL1_PRW_PPR_PRT_VLo_P_PDR3_PR_PLW_PDR1_PLG_PRG_PDR2_PDL3_PLS_PDL2_VRi | 0                                                                                        | 1                                                                                        | 0                                                                                        | \n",
       "| VRo_VLi_PLS_P_VLo_VRi_PRT_PPR_PDR3_PDR1_GR_PDL3_PLG_PDR2_PLT_GL_PDL2_PDL1_PR_PRG_PLW_PRW | 0                                                                                        | 1                                                                                        | 0                                                                                        | \n",
       "| VRo_VLi_VLo_PRG_PRW_PLW_PDL3_PDR3_P_PDR2_PDR1_PR_PPR_PLT_PLS_PDL1_GL_VRi_PDL2_PLG_PRT_GR | 0                                                                                        | 1                                                                                        | 0                                                                                        | \n",
       "| VRo_VLi_VLo_PRG_PRW_PLW_PDL3_PDR3_P_PDR2_PDR1_PR_PPR_PLT_PLS_PDL1_GR_VRi_PDL2_PLG_PRT_GL | 0                                                                                        | 1                                                                                        | 0                                                                                        | \n",
       "| VRo_VLo_VLi_PLS_PRT_PLG_PLT_PDL2_PRG_PDR1_PLR_VRi_GL_PRW_PLW_PDR2_PLL_P_PDL1_PR_GR_PPL   | 0                                                                                        | 1                                                                                        | 0                                                                                        | \n",
       "\n",
       "\n"
      ],
      "text/plain": [
       "     formation                                                                               \n",
       "1    P_PDL2_PLS_PLG_VRi_VRo_VLi_PLW_VLo_PPR_PDR2_PDL1_PRT_GL_PR_PRG_PLT_PRW_PDL3_PLL_PDR1_GR \n",
       "2    P_PDR1_PRT_PR_VLo_PLT_PLL_PDL3_PDR2_VLi_PLS_GR_PLW_PPR_PRG_PLG_PDR3_VR_PDL2_PRW_GL_PDL1 \n",
       "3    P_PLT_PLL_PLW_GR_PR_PDL1_VRi_PRW_PRT_PLG_PPR_PDR3_VLo_PRG_PDR1_VLi_GL_PDR2_PDL2_PLS     \n",
       "4    P_PR_PRT_PLT_VL_PDR1_PLR_PLS_PDR2_GR_PRG_PDL2_PLW_PPR_VR_PDL3_PDL1_PRW_PLL_PLG_PDR3_GL  \n",
       "5    P_PRG_PDR1_PDR2_PDL1_PRT_PLG_GR_PLS_PLM_PLT_PRW_PDL2_VRo_PLW_VRi_PPR_PDR3_GL_PR_VLi_VLo \n",
       "6    P_PRG_PDR2_PLG_PLS_PLT_PRW_PDL3_PLL_PLW_VRi_PDL2_PPR_VLi_VRo_GR_PR_VLo_PDL1_PRT_GL_PDR1 \n",
       "7    P_PRG_PR_VL_PLL_PLG_PLS_PLT_PRW_PDR3_PLW_PDR1_PLR_PDL2_PDR2_VR_PPL_PDL3_GL_PRT_GR_PDL1  \n",
       "8    P_PRT_GL_PDL3_GR_PRW_PLW_PLS_PLT_PRG_PDL2_PR_PLL1_VRi_VRo_PPL_PDR1_PLG_VL_PDL1_PLL2_PDR2\n",
       "9    PDL1_VRo_PRG_PPL_PDR1_PDL3_PLG_PR_PLT_GR_PRT_GL_PDR2_PRW_PLS_VL_PDR4_PDL2_VRi_PLW_PDR3_P\n",
       "10   PDL2_PDL3_PLR2_PPR_P_PRG_PDR1_PLG_PLS_PDR2_PLT_PRT_PRW_PLR1_PLW_VR_GR_PDL1_VLi_PR_GL_VLo\n",
       "11   PDL3_VLo_PDR1_PR_PDL1_VRi_PRG_PRW_PRT_PLS_PDL2_VRo_VLi_PDR3_PLG_P_GL_PLT_GR_PPL_PLW_PDR2\n",
       "12   PDR1_PLG_PLT_PRG_PPR_VL_GL_PDL1_PDL3_PRT_PLW_PRW_PR_GR_PFB_PDR3_PLL_P_PLS_PDR2_VR_PDL2  \n",
       "13   PDR2_PLS_PLG_VRo_VLi_PDL2_PDR1_PDL1_PPR_PRT_VRi_PDL3_P_PRW_PLL_GL_VLo_PLW_PR_GR_PLT_PRG \n",
       "14   PDR4_PLL1_PLT_PLW_VR_PRG_PDL1_PDL2_PLL2_PPR_PDR2_PR_PDR3_PLG_PDR1_GL_PRW_PLS_PRT_P_GR_VL\n",
       "15   PLG_PLS_VL_PDL4_PRT_PDL1_PRW_PDL3_PPR_PDR4_PDL2_GR_GL_PR_PDR3_VR_PDR2_PLT_PRG_PDR1_PLW_P\n",
       "16   PLG_PRT_GL_PDR1_P_VL_PLS_PDR4_GR_PRG_PRW_PDR3_PDL3_PDL2_PDL1_PLW_PPR_PDL4_VR_PR_PLT_PDR2\n",
       "17   PLS_GL_PLR_PLL2_PLL1_GR_PRW_P_PDR1_PRG_PLT_PLG_PPR_VL_PDL1_PDL2_PR_VR_PDR2_PDL3_PLW_PRT \n",
       "18   PLS_PDL1_PPL_PRG_PDR2_PLW_PDL3_GL_PDR1_PLR1_P_PLT_PLG_PRW_PDL2_VR_GR_PLL_VL_PRT_PLR2_PR \n",
       "19   PLS_PLR_PDL3_PDL1_P_PRG_PLW_GL_PRW_PR_PPR_PDR3_PDR1_PRT_PDR2_PLG_VRo_GR_VL_PDL2_VRi_PLT \n",
       "20   PLS_PRW_PR_PLG_GR_PRG_PLT_PDL3_GL_PPR_VR_PDR3_PDL1_P_PLW_PDR2_PDR5_PDR4_PDL2_PRT_VL_PDR1\n",
       "21   PLS_VLo_VLi_PDR3_VRi_PLW_PLG_PDL1_GL_PPR_P_PDR2_GR_PLT_PDL2_PR_PLR_PRW_VRo_PRT_PRG_PDR1 \n",
       "22   PLT_PDL1_VR_PRG_PPR_PDR1_PDL4_PLG_PR_GL_PRT_PDR2_PRW_PLS_GR_VLo_PDR3_PDL2_VLi_PLW_PDL3_P\n",
       "23   PLT_PLS_PLG_P_PDL3_VRo_PDL1_PPL_VLo_PLR_PRT_PRW_VRi_PRG_VLi_PR_PLW_GR_PDL2_PDR1_GL_PDR2 \n",
       "24   PLW_PLG_PPL_PLS_VLo_PLT_PDL2_VRo_PDR2_GL_PDL1_PDR3_P_PRT_PRW_PDL3_PRG_GR_PDR1_PR_VLi_VRi\n",
       "25   PPR_PLG_PRT_PLS_PR_PDR2_PRW_GL_PLW_PLT_VLi_P_PRG_PLL_VLo_PDL3_PDL2_PDR3_PDL1_VR_PDR1_GR \n",
       "26   PPR_PLS_PRT_PRW_P_VRo_PDL1_GL_VLo_PR_PLG_PLW_PDR2_PDL2_VRi_PLL_PRG_PLT_PDR3_GR_PDR1_VLi \n",
       "27   PR_P_PPL_PRG_VRo_PDR3_GR_VLo_VRi_PDL2_VLi_PLT_PLW_PLS_PLG_PLR_PDL1_PRT_PDR1_GL_PRW_PDR2 \n",
       "28   PR_PDL1_P_PLR_PLS_VL_PFB_PLW_PRT_PRW_PDR1_PDL2_PLT_PLG_VRi_GL_PRG_PDR2_VRo_PPR_PDL3_GR  \n",
       "29   PR_PDL1_PLS_PDL3_PLW_PLM_PDL2_PPR_PRG_PDR1_PRW_PLT_P_PLG_VLi_PRT_PDR2_GR_GL_VLo_VR_PDR3 \n",
       "30   PR_PLS_PLM_PLW_PDL3_PDR1_PDR3_PRW_PDL1_PDR2_PLT_P_PLG_VR_PLL_PDL2_PRG_PRT_GR_GL_PPR_VL  \n",
       "...  ...                                                                                     \n",
       "6406 VRo_PDR1_PDL2_PLT_PRT_PR_PLW_PDR2_PDL3_PDR3_PLG_GR_PLS_VL_PDL1_PRG_PPR_VRi_PRW_P_PDL4_GL\n",
       "6407 VRo_PDR2_GR_PRT_GL_PDL1_PR_PLG_PRG_PLT_P_PDL2_VLi_PLW_PPL_PDR3_VLo_PDL3_VRi_PDR1_PRW_PLS\n",
       "6408 VRo_PDR3_VLi_PDR1_GR_P_VLo_PLG_PLW_PDL1_PPL_PRW_PRG_PDL3_PDR2_PRT_PLT_PDL2_PR_VRi_GL_PLS\n",
       "6409 VRo_PLG_PRT_VLi_GR_PLT_PDL1_PRW_PPR_VLo_P_PDR3_PR_PLW_PDR1_PRG_PDR2_PDL3_PLS_PDL2_VRi_GL\n",
       "6410 VRo_PLG_PRT_VRi_GR_GL_PLT_PDL1_PRW_PPR_VL_P_PDL4_PR_PLW_PDR1_PRG_PDR2_PDR3_PLS_PDL2_PDL3\n",
       "6411 VRo_PLS_P_PPL_PDR2_PLT_VL_PRT_PDR1_PLG_PDR3_PDL1_PLM_PLW_GL_GR_PRG_VRi_PDL2_PR_PDL3_PRW \n",
       "6412 VRo_PLS_P_PRG_VRi_PDL3_PRW_GL_VLo_PDR2_VLi_PPL_PDL2_PLW_PDR1_PDL1_PRT_PR_GR_PLG_PLT_PLM \n",
       "6413 VRo_PLS_P_VL_VRi_GL_PDR2_PRT_PPR_GR_PDL3_PDR1_PLG_PDR3_PLT_PDL2_PDL1_PR_PDL4_PRG_PLW_PRW\n",
       "6414 VRo_PLS_PLT_PPR_PLG_PR_PLM_PRG_P_PRT_PDR3_PDL1_PLW_GR_PDR1_VRi_PDR2_VLo_GL_VLi_PRW_PDL2 \n",
       "6415 VRo_PLS_PPL_PDL1_P_PLG_VLi_PRW_PDR2_GR_PDL3_VRi_PRG_PDR3_PDR1_PR_GL_PLW_PLT_PDL2_VLo_PRT\n",
       "6416 VRo_PLS_PPR_PLG_PRT_PR_PLL_PRG_P_PLT_PDL3_PLW_GR_PDR1_VRi_PDR2_VLo_GL_VLi_PDL1_PRW_PDL2 \n",
       "6417 VRo_PLS_PR_PLR_PPR_PDL2_PDL1_PDR3_PLT_GR_PRG_PLW_PRW_PDR1_PRT_PDR2_GL_VRi_VL_PDL3_PLG_P \n",
       "6418 VRo_PLS_VL_PR_PLL_PLG_PPR_GL_PLT_PRW_PDR2_PDL2_PLW_P_GR_PRT_VRi_PDR1_PLR_PRG_PDL3_PDL1  \n",
       "6419 VRo_PLT_P_PLL_VRi_PLS_PLW_GL_PLG_PRW_PRT_PDL3_PDL1_PDL2_PPR_PR_PDR1_VL_GR_PRG_PLR_PDR2  \n",
       "6420 VRo_PLT_PLS_PLW_PLG_VL_PDR3_PRW_GL_PRT_PDL1_PPR_PRG_PDL3_PDR2_P_PDL2_PR_PLL_VRi_GR_PDR1 \n",
       "6421 VRo_PLT_PLS_PLW_PLG_VLo_PLL_PRW_GL_PPR_PDL1_PRG_PDR3_PDR2_PRT_P_PDL2_PR_VLi_VRi_GR_PDR1 \n",
       "6422 VRo_PLT_PRG_PRT_PLG_GR_P_GL_PLS_PDR2_PR_PLW_PPR_VLi_VLo_PLL_PDL1_VRi_PRW_PDR1_PDR3_PDL2 \n",
       "6423 VRo_PLW_GR_PRG_PRW_PPR_PLS_PDL1_GL_VLi_PLT_PDL3_P_PDR3_PLG_VLo_PDL2_PRT_PR_PDR1_PDR2_VRi\n",
       "6424 VRo_PPR_PDL1_P_VLi_PRT_PRG_VRi_PR_PLG_PRW_PLM_PDR1_PDL2_GR_PLT_PLS_GL_PLW_PDR2_VLo_PDL3 \n",
       "6425 VRo_PRG_GL_PDL1_VLo_PR_P_GR_PLT_PDL2_PLS_PLR_VRi_VLi_PDL3_PLG_PLW_PRT_PPR_PDR2_PDR1_PRW \n",
       "6426 VRo_PRG_PLG_VRi_GR_PRW_P_VLi_PLT_PDR4_PPL_PLS_PDR1_PDL2_PLW_PDL1_PR_PDR3_GL_VLo_PRT_PDR2\n",
       "6427 VRo_PRG_PLL_PPL_GR_PRW_P_PDR3_PRT_PLT_PR_PLG_PLS_PDL1_PLW_VRi_PDR2_GL_PDR1_PLR_VL_PDL2  \n",
       "6428 VRo_PRT_P_PLS_PLW_PDR1_PLG_PRW_PDR2_GR_GL_VRi_PPR_PDL1_PLL_PLM_VL_PDR3_PDL2_PLT_PR_PRG  \n",
       "6429 VRo_PRT_P_PLS_PLW_PLG_PRW_PDR1_PDR2_GR_GL_VRi_PPR_PDL1_PDL3_PLM_VL_PDR3_PDL2_PLT_PR_PRG \n",
       "6430 VRo_PRT_PDL2_P_PDR2_PLS_PLG_VLi_PPR_PDL1_VLo_PDR3_PDR1_PRW_GR_PR_PLW_VRi_PLT_GL_PRG_PLL \n",
       "6431 VRo_VLi_GR_GL_PLT_PDL1_PRW_PPR_PRT_VLo_P_PDR3_PR_PLW_PDR1_PLG_PRG_PDR2_PDL3_PLS_PDL2_VRi\n",
       "6432 VRo_VLi_PLS_P_VLo_VRi_PRT_PPR_PDR3_PDR1_GR_PDL3_PLG_PDR2_PLT_GL_PDL2_PDL1_PR_PRG_PLW_PRW\n",
       "6433 VRo_VLi_VLo_PRG_PRW_PLW_PDL3_PDR3_P_PDR2_PDR1_PR_PPR_PLT_PLS_PDL1_GL_VRi_PDL2_PLG_PRT_GR\n",
       "6434 VRo_VLi_VLo_PRG_PRW_PLW_PDL3_PDR3_P_PDR2_PDR1_PR_PPR_PLT_PLS_PDL1_GR_VRi_PDL2_PLG_PRT_GL\n",
       "6435 VRo_VLo_VLi_PLS_PRT_PLG_PLT_PDL2_PRG_PDR1_PLR_VRi_GL_PRW_PLW_PDR2_PLL_P_PDL1_PR_GR_PPL  \n",
       "     Injury_Count Total_Count Mean\n",
       "1    1            1           0.5 \n",
       "2    1            1           0.5 \n",
       "3    1            1           0.5 \n",
       "4    1            1           0.5 \n",
       "5    1            1           0.5 \n",
       "6    1            1           0.5 \n",
       "7    1            1           0.5 \n",
       "8    1            1           0.5 \n",
       "9    1            1           0.5 \n",
       "10   1            1           0.5 \n",
       "11   1            1           0.5 \n",
       "12   1            1           0.5 \n",
       "13   1            1           0.5 \n",
       "14   1            1           0.5 \n",
       "15   1            1           0.5 \n",
       "16   1            1           0.5 \n",
       "17   1            1           0.5 \n",
       "18   1            1           0.5 \n",
       "19   1            1           0.5 \n",
       "20   1            1           0.5 \n",
       "21   1            1           0.5 \n",
       "22   1            1           0.5 \n",
       "23   1            1           0.5 \n",
       "24   1            1           0.5 \n",
       "25   1            1           0.5 \n",
       "26   1            1           0.5 \n",
       "27   1            1           0.5 \n",
       "28   1            1           0.5 \n",
       "29   1            1           0.5 \n",
       "30   1            1           0.5 \n",
       "...  ...          ...         ... \n",
       "6406 0            1           0   \n",
       "6407 0            1           0   \n",
       "6408 0            1           0   \n",
       "6409 0            1           0   \n",
       "6410 0            1           0   \n",
       "6411 0            1           0   \n",
       "6412 0            1           0   \n",
       "6413 0            1           0   \n",
       "6414 0            1           0   \n",
       "6415 0            1           0   \n",
       "6416 0            1           0   \n",
       "6417 0            1           0   \n",
       "6418 0            1           0   \n",
       "6419 0            1           0   \n",
       "6420 0            1           0   \n",
       "6421 0            1           0   \n",
       "6422 0            1           0   \n",
       "6423 0            1           0   \n",
       "6424 0            1           0   \n",
       "6425 0            1           0   \n",
       "6426 0            1           0   \n",
       "6427 0            1           0   \n",
       "6428 0            1           0   \n",
       "6429 0            1           0   \n",
       "6430 0            1           0   \n",
       "6431 0            1           0   \n",
       "6432 0            1           0   \n",
       "6433 0            1           0   \n",
       "6434 0            1           0   \n",
       "6435 0            1           0   "
      ]
     },
     "metadata": {},
     "output_type": "display_data"
    }
   ],
   "source": [
    "final_final <- merge(data_temporary, final_formation_data, all=TRUE, by='formation')\n",
    "final_final[is.na(final_final)] <- 0\n",
    "head(final_final)\n",
    "finalsort <- final_final %>% group_by(Total_Count,Injury_Count)%>%\n",
    "  mutate(\"Mean\"=Injury_Count/(Total_Count+Injury_Count))\n",
    "arrange(finalsort, desc(Mean))\n"
   ]
  },
  {
   "cell_type": "markdown",
   "metadata": {},
   "source": [
    "## Next Steps:\n",
    "- Trying a machine learning approahc e.g. Linear regression to check correlations between variables and concussion rates\n",
    "- Deep diving into specific formations to see for rule modification opportunities\n"
   ]
  }
 ],
 "metadata": {
  "celltoolbar": "Raw Cell Format",
  "kernelspec": {
   "display_name": "R",
   "language": "R",
   "name": "ir"
  },
  "language_info": {
   "codemirror_mode": "r",
   "file_extension": ".r",
   "mimetype": "text/x-r-source",
   "name": "R",
   "pygments_lexer": "r",
   "version": "3.5.1"
  },
  "toc": {
   "base_numbering": 1,
   "nav_menu": {
    "height": "339px",
    "width": "213px"
   },
   "number_sections": true,
   "sideBar": true,
   "skip_h1_title": false,
   "title_cell": "Table of Contents",
   "title_sidebar": "Contents",
   "toc_cell": true,
   "toc_position": {
    "height": "calc(100% - 180px)",
    "left": "10px",
    "top": "150px",
    "width": "215.825px"
   },
   "toc_section_display": true,
   "toc_window_display": true
  }
 },
 "nbformat": 4,
 "nbformat_minor": 2
}
